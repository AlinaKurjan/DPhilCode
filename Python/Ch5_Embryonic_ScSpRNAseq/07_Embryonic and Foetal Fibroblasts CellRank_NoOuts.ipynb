{
 "cells": [
  {
   "cell_type": "code",
   "execution_count": null,
   "id": "49887831",
   "metadata": {},
   "outputs": [],
   "source": [
    "# Import dependencies\n",
    "import os\n",
    "import anndata as ad\n",
    "import numpy as np\n",
    "import pandas as pd\n",
    "import scanpy as sc\n",
    "import scvelo as scv\n",
    "import seaborn as sns\n",
    "\n",
    "import matplotlib.pyplot as plt\n",
    "\n",
    "# Initialize random seed\n",
    "import random\n",
    "random.seed(111)\n",
    "\n",
    "# Print date and time:\n",
    "import datetime\n",
    "e = datetime.datetime.now()\n",
    "print (\"Current date and time = %s\" % e)\n",
    "\n",
    "# set a working directory\n",
    "#wdir = \"/ceph/project/tendonhca/akurjan/analysis/\"\n",
    "wdir = \"/mnt/da8aa2c4-0136-465b-87a2-d12a59afec55/akurjan/analysis/notebooks/developmental/\"\n",
    "os.chdir( wdir )\n",
    "\n",
    "# folder structures\n",
    "HARMONY_FOLDERNAME = \"scVI/Fibroblasts/results/\"\n",
    "RESULTS_FOLDERNAME = \"CellRank/Fibroblasts/results/\"\n",
    "FIGURES_FOLDERNAME = \"CellRank/Fibroblasts/figures/\"\n",
    "\n",
    "if not os.path.exists(RESULTS_FOLDERNAME):\n",
    "    os.makedirs(RESULTS_FOLDERNAME)\n",
    "if not os.path.exists(FIGURES_FOLDERNAME):\n",
    "    os.makedirs(FIGURES_FOLDERNAME)\n",
    "\n",
    "# Set folder for saving figures into\n",
    "sc.settings.figdir = FIGURES_FOLDERNAME\n",
    "scv.settings.figdir = FIGURES_FOLDERNAME\n",
    "    \n",
    "def savesvg(fname: str, fig, folder: str=FIGURES_FOLDERNAME) -> None:\n",
    "    \"\"\"\n",
    "    Save figure as vector-based SVG image format.\n",
    "    \"\"\"\n",
    "    fig.tight_layout()\n",
    "    fig.savefig(os.path.join(folder, fname), format='svg')\n",
    "\n",
    "# Set other settings\n",
    "sc.settings.verbosity = 3 # verbosity: errors (0), warnings (1), info (2), hints (3)\n",
    "sc.logging.print_versions()\n",
    "scv.set_figure_params('scvelo')"
   ]
  },
  {
   "cell_type": "code",
   "execution_count": null,
   "id": "958a0394",
   "metadata": {},
   "outputs": [],
   "source": [
    "adata = scv.read(os.path.join(HARMONY_FOLDERNAME, 'dev_fibros_palantir.h5ad'), cache=True)\n",
    "adata.var_names_make_unique()\n",
    "adata"
   ]
  },
  {
   "cell_type": "code",
   "execution_count": null,
   "id": "33f22391",
   "metadata": {},
   "outputs": [],
   "source": [
    "sc.pp.filter_genes(adata, min_cells=5)\n",
    "sc.pp.highly_variable_genes(adata, n_top_genes=2000, flavor='cell_ranger',\n",
    "                            layer='log1p_norm', subset=True)\n",
    "sc.pp.neighbors(adata,n_neighbors=30,use_rep=\"X_diff\")"
   ]
  },
  {
   "cell_type": "code",
   "execution_count": null,
   "id": "cee78ff5",
   "metadata": {},
   "outputs": [],
   "source": [
    "adata"
   ]
  },
  {
   "cell_type": "markdown",
   "id": "efa19047",
   "metadata": {},
   "source": [
    "# CellRank"
   ]
  },
  {
   "cell_type": "markdown",
   "id": "e05c0f7d",
   "metadata": {},
   "source": [
    "## Identifying Probable Terminal and Initial States"
   ]
  },
  {
   "cell_type": "code",
   "execution_count": null,
   "id": "56f3df52",
   "metadata": {},
   "outputs": [],
   "source": [
    "sc.pl.violin(\n",
    "    adata,\n",
    "    keys=[\"palantir_pseudotime\"],\n",
    "    groupby=\"C_scANVI_original\",\n",
    "    rotation=90,\n",
    ")"
   ]
  },
  {
   "cell_type": "code",
   "execution_count": null,
   "id": "4d7f6b64",
   "metadata": {},
   "outputs": [],
   "source": [
    "sc.pl.umap(adata, color=['phase', 'C_scANVI_original'])"
   ]
  },
  {
   "cell_type": "markdown",
   "id": "eaae6f7e",
   "metadata": {},
   "source": [
    "### Estimating (Palantir Pseudotime Kernel)"
   ]
  },
  {
   "cell_type": "code",
   "execution_count": null,
   "id": "05b9618c",
   "metadata": {},
   "outputs": [],
   "source": [
    "import cellrank as cr\n",
    "from cellrank.tl.kernels import PseudotimeKernel\n",
    "\n",
    "pk = PseudotimeKernel(adata, time_key=\"palantir_pseudotime\").compute_transition_matrix()"
   ]
  },
  {
   "cell_type": "code",
   "execution_count": null,
   "id": "ffad2091",
   "metadata": {},
   "outputs": [],
   "source": [
    "pk.plot_random_walks(n_sims=300, start_ixs={\"C_scANVI_original\": \"FGF14 SCX Fibroblasts\"}, \n",
    "                     max_iter=1000, seed=0, basis='umap', s=100,\n",
    "                     figsize=(7,7), save='random_walks_palantirpseudo.svg')"
   ]
  },
  {
   "cell_type": "code",
   "execution_count": null,
   "id": "c3ed58ff",
   "metadata": {},
   "outputs": [],
   "source": [
    "from cellrank.tl.estimators import GPCCA\n",
    "\n",
    "g2 = GPCCA(pk)\n",
    "g2.compute_schur(n_components=20)\n",
    "g2.plot_spectrum(real_only=True, show_eigengap=True)"
   ]
  },
  {
   "cell_type": "code",
   "execution_count": null,
   "id": "e759888c",
   "metadata": {},
   "outputs": [],
   "source": [
    "g2.compute_macrostates(n_states=9, cluster_key=\"C_scANVI_original\")\n",
    "g2.plot_macrostates(discrete=True,\n",
    "                   legend_fontsize=9, \n",
    "                   basis='draw_graph_fa', s=100, legend_loc='right margin',\n",
    "                   save='devfibros_macrostates_discrete.svg',\n",
    "                   figsize=(5,4))"
   ]
  },
  {
   "cell_type": "code",
   "execution_count": null,
   "id": "82770a87",
   "metadata": {},
   "outputs": [],
   "source": [
    "g2.plot_coarse_T()"
   ]
  },
  {
   "cell_type": "code",
   "execution_count": null,
   "id": "bb06d154",
   "metadata": {},
   "outputs": [],
   "source": [
    "sc.pl.embedding(adata, color=['PRG4', 'CREB5', 'MKX', 'EGR1', 'PTCH2', 'EBF2', 'COL4A1', 'POSTN', 'NEGR1',\n",
    "                             'COL6A6', 'PDGFRA', 'BMP5', 'TSHZ2', 'FSTL5'], basis='umap', \n",
    "                             vmin=0, vmax=\"p99\", sort_order=False,\n",
    "                             cmap=\"Reds\", use_raw=False, layer='log1p_norm', frameon=False)"
   ]
  },
  {
   "cell_type": "code",
   "execution_count": null,
   "id": "1020189c",
   "metadata": {},
   "outputs": [],
   "source": [
    "g2.plot_macrostates(same_plot=False, basis='draw_graph_fa',\n",
    "                    ncols=3,\n",
    "                    save='devfibros_macrostates_separate.svg',\n",
    "                   )"
   ]
  },
  {
   "cell_type": "code",
   "execution_count": null,
   "id": "2d74f40a",
   "metadata": {},
   "outputs": [],
   "source": [
    "`['FGF14 THBS4 Fibroblasts_1', 'COL3A1 PI16 Fibroblasts_1', 'COL3A1 PI16 Fibroblasts_2', \n",
    "  'COL3A1 PI16 Fibroblasts_3', 'COL3A1 PI16 Fibroblasts_4', 'FGF14 THBS4 Fibroblasts_2', \n",
    "  'ABI3BP GAS2 Fibroblasts_1', 'COL3A1 PI16 Fibroblasts_5', 'ABI3BP GAS2 Fibroblasts_2']`"
   ]
  },
  {
   "cell_type": "code",
   "execution_count": null,
   "id": "afb2b98c",
   "metadata": {},
   "outputs": [],
   "source": [
    "g2.compute_terminal_states()\n",
    "#g2.set_terminal_states_from_macrostates([\n",
    "#                                         'COL3A1 PI16 Fibroblasts_2', 'FGF14 THBS4 Fibroblasts_2', \n",
    "#                                         'ABI3BP GAS2 Fibroblasts_1', 'COL3A1 PI16 Fibroblasts_5', \n",
    "#                                         'ABI3BP GAS2 Fibroblasts_2'\n",
    "#                                       ])\n",
    "adata.obs['terminal_states'].value_counts()"
   ]
  },
  {
   "cell_type": "code",
   "execution_count": null,
   "id": "dc64afa3",
   "metadata": {},
   "outputs": [],
   "source": [
    "g2.compute_absorption_probabilities()\n",
    "cr.pl.circular_projection(adata, keys=['age', 'C_scANVI_original'],\n",
    "                          legend_loc=\"right\", s=10, alpha=0.9,\n",
    "                          save='devfibros_circular_projection.svg',\n",
    "                          figsize=(25,25))"
   ]
  },
  {
   "cell_type": "code",
   "execution_count": null,
   "id": "299587d2",
   "metadata": {},
   "outputs": [],
   "source": [
    "cr.pl.circular_projection(adata, keys=['phase', 'C_scANVI'],\n",
    "                          legend_loc=\"right\", s=5,\n",
    "                          save='devfibros_circular_projection2.svg',\n",
    "                          figsize=(25,25))"
   ]
  },
  {
   "cell_type": "code",
   "execution_count": null,
   "id": "9eb0b051",
   "metadata": {},
   "outputs": [],
   "source": [
    "lin_drivers2 = g2.compute_lineage_drivers()\n",
    "lin_drivers2.to_csv(os.path.join(RESULTS_FOLDERNAME, 'devfibros_palantirkernel_lineagedrivers.csv'))"
   ]
  },
  {
   "cell_type": "code",
   "execution_count": null,
   "id": "361668b8",
   "metadata": {
    "scrolled": false
   },
   "outputs": [],
   "source": [
    "lineages = list(adata.obs['terminal_states'].cat.categories)\n",
    "for i in lineages:\n",
    "    g2.plot_lineage_drivers(i, n_genes=8, basis='umap', vmax=10,\n",
    "                   cmap='plasma', save=f'devfibros_palantirlind_{i}.svg'\n",
    "                   )\n",
    "    print(i)"
   ]
  },
  {
   "cell_type": "code",
   "execution_count": null,
   "id": "dbed1ee2",
   "metadata": {},
   "outputs": [],
   "source": [
    "lin_drivers_dict={}\n",
    "for i in g2.terminal_states.cat.categories:\n",
    "    lin_drivers_dict[i] = g2.compute_lineage_drivers(lineages=i,return_drivers=True)\n",
    "    lin_drivers_dict[i].to_csv(os.path.join(RESULTS_FOLDERNAME, f'allages_tendonfibro_pseudokernel_lineagedrivers_{i}.csv'))"
   ]
  },
  {
   "cell_type": "code",
   "execution_count": null,
   "id": "3c56ba9f",
   "metadata": {},
   "outputs": [],
   "source": [
    "g2.compute_lineage_drivers()"
   ]
  },
  {
   "cell_type": "code",
   "execution_count": null,
   "id": "dbe9255d",
   "metadata": {},
   "outputs": [],
   "source": [
    "# define set of genes to annotate\n",
    "genes_oi = {\n",
    "    \"COL3A1 PI16 Fibroblasts_2\": list(lin_drivers_dict['COL3A1 PI16 Fibroblasts_2'].index[:15]),\n",
    "    \"COL3A1 PI16 Fibroblasts_1\": list(lin_drivers_dict['COL3A1 PI16 Fibroblasts_1'].index[:15])\n",
    "}\n",
    "\n",
    "# make sure all of these exist in AnnData\n",
    "assert [\n",
    "    gene in adata.var_names for genes in genes_oi.values() for gene in genes\n",
    "], \"Did not find all genes\"\n",
    "\n",
    "# compute mean gene expression across all cells\n",
    "adata.var[\"mean expression\"] = adata.X.A.mean(axis=0)\n",
    "\n",
    "# visualize in a scatter plot\n",
    "g2.plot_lineage_drivers_correlation(\n",
    "    lineage_x=\"COL3A1 PI16 Fibroblasts_2\",\n",
    "    lineage_y=\"COL3A1 PI16 Fibroblasts_1\",\n",
    "    adjust_text=True,\n",
    "    gene_sets=genes_oi,\n",
    "    color=\"mean expression\",\n",
    "    legend_loc=\"none\",\n",
    "    figsize=(5, 5),\n",
    "    dpi=150,\n",
    "    fontsize=9,\n",
    "    size=50,\n",
    "    save='COL3_1_vs_COL3_2.svg'\n",
    ")"
   ]
  },
  {
   "cell_type": "code",
   "execution_count": null,
   "id": "95b1cfda",
   "metadata": {},
   "outputs": [],
   "source": [
    "# define set of genes to annotate\n",
    "genes_oi = {\n",
    "    \"COL3A1 PI16 Fibroblasts_3\": list(lin_drivers_dict['COL3A1 PI16 Fibroblasts_3'].index[:15]),\n",
    "    \"COL3A1 PI16 Fibroblasts_2\": list(lin_drivers_dict['COL3A1 PI16 Fibroblasts_2'].index[:15])\n",
    "}\n",
    "\n",
    "# make sure all of these exist in AnnData\n",
    "assert [\n",
    "    gene in adata.var_names for genes in genes_oi.values() for gene in genes\n",
    "], \"Did not find all genes\"\n",
    "\n",
    "# compute mean gene expression across all cells\n",
    "adata.var[\"mean expression\"] = adata.X.A.mean(axis=0)\n",
    "\n",
    "# visualize in a scatter plot\n",
    "g2.plot_lineage_drivers_correlation(\n",
    "    lineage_x=\"COL3A1 PI16 Fibroblasts_3\",\n",
    "    lineage_y=\"COL3A1 PI16 Fibroblasts_2\",\n",
    "    adjust_text=True,\n",
    "    gene_sets=genes_oi,\n",
    "    color=\"mean expression\",\n",
    "    legend_loc=\"none\",\n",
    "    figsize=(5, 5),\n",
    "    dpi=150,\n",
    "    fontsize=9,\n",
    "    size=50,\n",
    "    save='COL3_3_vs_COL3_2.svg'\n",
    ")"
   ]
  },
  {
   "cell_type": "code",
   "execution_count": null,
   "id": "e4fa8ef8",
   "metadata": {},
   "outputs": [],
   "source": [
    "# define set of genes to annotate\n",
    "genes_oi = {\n",
    "    \"COL3A1 PI16 Fibroblasts_1\": list(lin_drivers_dict['COL3A1 PI16 Fibroblasts_1'].index[:15]),\n",
    "    \"COL3A1 PI16 Fibroblasts_3\": list(lin_drivers_dict['COL3A1 PI16 Fibroblasts_3'].index[:15])\n",
    "}\n",
    "\n",
    "# make sure all of these exist in AnnData\n",
    "assert [\n",
    "    gene in adata.var_names for genes in genes_oi.values() for gene in genes\n",
    "], \"Did not find all genes\"\n",
    "\n",
    "# compute mean gene expression across all cells\n",
    "adata.var[\"mean expression\"] = adata.X.A.mean(axis=0)\n",
    "\n",
    "# visualize in a scatter plot\n",
    "g2.plot_lineage_drivers_correlation(\n",
    "    lineage_x=\"COL3A1 PI16 Fibroblasts_1\",\n",
    "    lineage_y=\"COL3A1 PI16 Fibroblasts_3\",\n",
    "    adjust_text=True,\n",
    "    gene_sets=genes_oi,\n",
    "    color=\"mean expression\",\n",
    "    legend_loc=\"none\",\n",
    "    figsize=(5, 5),\n",
    "    dpi=150,\n",
    "    fontsize=9,\n",
    "    size=50,\n",
    "    save='COL3_1_vs_COL3_3.svg'\n",
    ")"
   ]
  },
  {
   "cell_type": "code",
   "execution_count": null,
   "id": "a873fa65",
   "metadata": {},
   "outputs": [],
   "source": [
    "# define set of genes to annotate\n",
    "genes_oi = {\n",
    "    \"ABI3BP GAS2 Fibroblasts 1_1\": list(lin_drivers_dict['ABI3BP GAS2 Fibroblasts 1_1'].index[:15]),\n",
    "    \"ABI3BP GAS2 Fibroblasts 1_2\": list(lin_drivers_dict['ABI3BP GAS2 Fibroblasts 1_2'].index[:15])\n",
    "}\n",
    "\n",
    "# make sure all of these exist in AnnData\n",
    "assert [\n",
    "    gene in adata.var_names for genes in genes_oi.values() for gene in genes\n",
    "], \"Did not find all genes\"\n",
    "\n",
    "# compute mean gene expression across all cells\n",
    "adata.var[\"mean expression\"] = adata.X.A.mean(axis=0)\n",
    "\n",
    "# visualize in a scatter plot\n",
    "g2.plot_lineage_drivers_correlation(\n",
    "    lineage_x=\"ABI3BP GAS2 Fibroblasts 1_1\",\n",
    "    lineage_y=\"ABI3BP GAS2 Fibroblasts 1_2\",\n",
    "    adjust_text=True,\n",
    "    gene_sets=genes_oi,\n",
    "    color=\"mean expression\",\n",
    "    legend_loc=\"none\",\n",
    "    figsize=(5, 5),\n",
    "    dpi=150,\n",
    "    fontsize=9,\n",
    "    size=50,\n",
    "    save='ABI3_1_1_vs_ABI3_1_2.svg'\n",
    ")"
   ]
  },
  {
   "cell_type": "code",
   "execution_count": null,
   "id": "ae09bf21",
   "metadata": {},
   "outputs": [],
   "source": [
    "# define set of genes to annotate\n",
    "genes_oi = {\n",
    "    \"COL6A6 FNDC1 Fibroblasts\": list(lin_drivers_dict['COL6A6 FNDC1 Fibroblasts'].index[:15]),\n",
    "    \"FGF14 THBS4 Fibroblasts\": list(lin_drivers_dict['FGF14 THBS4 Fibroblasts'].index[:15])\n",
    "}\n",
    "\n",
    "# make sure all of these exist in AnnData\n",
    "assert [\n",
    "    gene in adata.var_names for genes in genes_oi.values() for gene in genes\n",
    "], \"Did not find all genes\"\n",
    "\n",
    "# compute mean gene expression across all cells\n",
    "adata.var[\"mean expression\"] = adata.X.A.mean(axis=0)\n",
    "\n",
    "# visualize in a scatter plot\n",
    "g2.plot_lineage_drivers_correlation(\n",
    "    lineage_x=\"COL6A6 FNDC1 Fibroblasts\",\n",
    "    lineage_y=\"FGF14 THBS4 Fibroblasts\",\n",
    "    adjust_text=True,\n",
    "    gene_sets=genes_oi,\n",
    "    color=\"mean expression\",\n",
    "    legend_loc=\"none\",\n",
    "    figsize=(5, 5),\n",
    "    dpi=150,\n",
    "    fontsize=9,\n",
    "    size=50,\n",
    "    save='COL6_vs_FGF14.svg'\n",
    ")"
   ]
  },
  {
   "cell_type": "code",
   "execution_count": null,
   "id": "7841d088",
   "metadata": {},
   "outputs": [],
   "source": [
    "pk_bk = PseudotimeKernel(adata, time_key=\"palantir_pseudotime\", backward=True).compute_transition_matrix()\n",
    "g_bk2 = GPCCA(pk_bk)\n",
    "g_bk2.compute_schur(n_components=20)\n",
    "g_bk2.plot_spectrum(real_only=True, show_eigengap=True)"
   ]
  },
  {
   "cell_type": "code",
   "execution_count": null,
   "id": "0165aab8",
   "metadata": {},
   "outputs": [],
   "source": [
    "g_bk2.compute_macrostates(n_states=1, cluster_key=\"C_scANVI\")\n",
    "g_bk2.plot_macrostates(legend_fontsize=9, basis='umap', discrete=True,\n",
    "                   save='allages_tendonfibro_macrostates_initial2.svg',\n",
    "                   figsize=(5,4))"
   ]
  },
  {
   "cell_type": "code",
   "execution_count": null,
   "id": "d9d346ff",
   "metadata": {},
   "outputs": [],
   "source": [
    "g_bk2.plot_macrostates(same_plot=False, legend_fontsize=9, basis='umap',\n",
    "                   save='allages_tendonfibro_macrostates_initial_discrete2.svg',\n",
    "                   figsize=(5,4))"
   ]
  },
  {
   "cell_type": "code",
   "execution_count": null,
   "id": "56739600",
   "metadata": {},
   "outputs": [],
   "source": [
    "g_bk2.compute_terminal_states()\n",
    "g_bk2.compute_absorption_probabilities()\n",
    "adata.obs['initial_states'].value_counts()"
   ]
  },
  {
   "cell_type": "code",
   "execution_count": null,
   "id": "443a1f99",
   "metadata": {},
   "outputs": [],
   "source": [
    "scv.tl.recover_latent_time(\n",
    "    adata, root_key=\"initial_states_probabilities\", end_key=\"terminal_states_probabilities\"\n",
    ")\n",
    "scv.tl.paga(\n",
    "    adata,\n",
    "    groups=\"C_scANVI\",\n",
    "    threshold_root_end_prior=0.9,\n",
    "    root_key=\"initial_states_probabilities\",\n",
    "    end_key=\"terminal_states_probabilities\",\n",
    "    use_time_prior=\"palantir_pseudotime\",\n",
    ")"
   ]
  },
  {
   "cell_type": "code",
   "execution_count": null,
   "id": "1349fb56",
   "metadata": {},
   "outputs": [],
   "source": [
    "cr.pl.cluster_fates(\n",
    "    adata,\n",
    "    mode=\"bar\",\n",
    "    cluster_key=\"C_scANVI\",\n",
    "    backward=False,\n",
    "    ncols=5,\n",
    "    figsize=(15,3),\n",
    "    save='allages_tendonfibro_palantirpseudotime_directedPAGA_bar2.svg',\n",
    ")"
   ]
  },
  {
   "cell_type": "code",
   "execution_count": null,
   "id": "82d44ab2",
   "metadata": {},
   "outputs": [],
   "source": [
    "cr.pl.cluster_fates(\n",
    "    adata,\n",
    "    mode=\"paga_pie\",\n",
    "    cluster_key=\"C_scANVI\",\n",
    "    backward=False,\n",
    "    basis=\"umap\",\n",
    "    legend_kwargs={\"loc\": \"top right out\"},\n",
    "    legend_loc=\"top left out\",\n",
    "    node_size_scale=7,\n",
    "    edge_width_scale=10,\n",
    "    max_edge_width=10,\n",
    "    figsize=(7,7),\n",
    "    title=\"directed PAGA\",\n",
    "    save='allages_tendonfibro_palantir_pseudotime_directedPAGA_umap2.svg',\n",
    ")"
   ]
  },
  {
   "cell_type": "code",
   "execution_count": null,
   "id": "9bcb0648",
   "metadata": {},
   "outputs": [],
   "source": [
    "cr.pl.cluster_fates(\n",
    "    adata,\n",
    "    mode=\"paga_pie\",\n",
    "    cluster_key=\"C_scANVI\",\n",
    "    backward=False,\n",
    "    basis=\"draw_graph_fa\",\n",
    "    legend_kwargs={\"loc\": \"top right out\"},\n",
    "    legend_loc=\"top left out\",\n",
    "    node_size_scale=7,\n",
    "    edge_width_scale=10,\n",
    "    max_edge_width=10,\n",
    "    figsize=(7,7),\n",
    "    title=\"directed PAGA\",\n",
    "    save='allages_tendonfibro_palantir_pseudotime_directedPAGA_fa2.svg',\n",
    ")"
   ]
  },
  {
   "cell_type": "code",
   "execution_count": null,
   "id": "80d4133a",
   "metadata": {},
   "outputs": [],
   "source": [
    "#scv.tl.recover_latent_time(\n",
    "#    adata, root_key=\"initial_states_probabilities\", end_key=\"terminal_states_probabilities\"\n",
    "#)\n",
    "scv.tl.paga(\n",
    "    adata,\n",
    "    groups=\"fibro_louvain02\",\n",
    "    threshold_root_end_prior=0.9,\n",
    "    root_key=\"initial_states_probabilities\",\n",
    "    end_key=\"terminal_states_probabilities\",\n",
    "    use_time_prior=\"palantir_pseudotime\",\n",
    ")"
   ]
  },
  {
   "cell_type": "code",
   "execution_count": null,
   "id": "ad8bf094",
   "metadata": {},
   "outputs": [],
   "source": [
    "cr.pl.cluster_fates(\n",
    "    adata,\n",
    "    mode=\"bar\",\n",
    "    cluster_key=\"fibro_louvain02\",\n",
    "    backward=False,\n",
    "    ncols=5,\n",
    "    figsize=(15,3),\n",
    "    #save='allages_tendonfibro_velocitypseudotime_directedPAGA_bar.svg',\n",
    ")"
   ]
  },
  {
   "cell_type": "code",
   "execution_count": null,
   "id": "6c1744d7",
   "metadata": {},
   "outputs": [],
   "source": [
    "cr.pl.cluster_fates(\n",
    "    adata,\n",
    "    mode=\"paga_pie\",\n",
    "    cluster_key=\"fibro_louvain02\",\n",
    "    backward=False,\n",
    "    basis=\"umap\",\n",
    "    legend_kwargs={\"loc\": \"top right out\"},\n",
    "    legend_loc=\"top left out\",\n",
    "    node_size_scale=7,\n",
    "    edge_width_scale=10,\n",
    "    max_edge_width=10,\n",
    "    figsize=(7,7),\n",
    "    title=\"directed PAGA\",\n",
    "    #save='allages_tendonfibro_palantir_pseudotime_directedPAGA_umap2.svg',\n",
    ")"
   ]
  },
  {
   "cell_type": "code",
   "execution_count": null,
   "id": "74498678",
   "metadata": {},
   "outputs": [],
   "source": [
    "scv.tl.paga(\n",
    "    adata,\n",
    "    groups=\"C_scANVI\",\n",
    "    threshold_root_end_prior=0.9,\n",
    "    root_key=\"initial_states_probabilities\",\n",
    "    end_key=\"terminal_states_probabilities\",\n",
    "    use_time_prior=\"velocity_pseudotime\",\n",
    ")\n",
    "\n",
    "cr.pl.cluster_fates(\n",
    "    adata,\n",
    "    mode=\"bar\",\n",
    "    cluster_key=\"C_scANVI\",\n",
    "    backward=False,\n",
    "    ncols=5,\n",
    "    figsize=(15,3),\n",
    "    save='allages_tendonfibro_velocitypseudotime_directedPAGA_bar.svg',\n",
    ")"
   ]
  },
  {
   "cell_type": "code",
   "execution_count": null,
   "id": "37a80bf5",
   "metadata": {},
   "outputs": [],
   "source": [
    "cr.pl.cluster_fates(\n",
    "    adata,\n",
    "    mode=\"paga_pie\",\n",
    "    cluster_key=\"C_scANVI\",\n",
    "    backward=False,\n",
    "    basis=\"umap\",\n",
    "    legend_kwargs={\"loc\": \"top right out\"},\n",
    "    legend_loc=\"top left out\",\n",
    "    node_size_scale=7,\n",
    "    edge_width_scale=10,\n",
    "    max_edge_width=10,\n",
    "    figsize=(7,7),\n",
    "    title=\"directed PAGA\",\n",
    "    save='allages_tendonfibro_velocitypseudotime_directedPAGA_umap.svg',\n",
    ")"
   ]
  },
  {
   "cell_type": "code",
   "execution_count": null,
   "id": "810dc560",
   "metadata": {},
   "outputs": [],
   "source": [
    "scv.tl.paga(\n",
    "    adata,\n",
    "    groups=\"fibro_louvain02\",\n",
    "    threshold_root_end_prior=0.9,\n",
    "    root_key=\"initial_states_probabilities\",\n",
    "    end_key=\"terminal_states_probabilities\",\n",
    "    use_time_prior=\"velocity_pseudotime\",\n",
    ")"
   ]
  },
  {
   "cell_type": "code",
   "execution_count": null,
   "id": "279dbd2c",
   "metadata": {},
   "outputs": [],
   "source": [
    "cr.pl.cluster_fates(\n",
    "    adata,\n",
    "    mode=\"bar\",\n",
    "    cluster_key=\"fibro_louvain02\",\n",
    "    backward=False,\n",
    "    ncols=5,\n",
    "    figsize=(15,15),\n",
    "    #save='allages_tendonfibro_velocitypseudotime_directedPAGA_bar.svg',\n",
    ")"
   ]
  },
  {
   "cell_type": "code",
   "execution_count": null,
   "id": "2cd05bbb",
   "metadata": {},
   "outputs": [],
   "source": [
    "cr.pl.cluster_fates(\n",
    "    adata,\n",
    "    mode=\"paga_pie\",\n",
    "    cluster_key=\"fibro_louvain02\",\n",
    "    backward=False,\n",
    "    basis=\"umap\",\n",
    "    legend_kwargs={\"loc\": \"top right out\"},\n",
    "    legend_loc=\"top left out\",\n",
    "    node_size_scale=7,\n",
    "    edge_width_scale=10,\n",
    "    max_edge_width=10,\n",
    "    figsize=(7,7),\n",
    "    title=\"directed PAGA\",\n",
    "    #save='allages_tendonfibro_velocitypseudotime_directedPAGA_umap.svg',\n",
    ")"
   ]
  },
  {
   "cell_type": "code",
   "execution_count": null,
   "id": "50968659",
   "metadata": {
    "scrolled": false
   },
   "outputs": [],
   "source": [
    "import warnings\n",
    "warnings.filterwarnings(\"ignore\")\n",
    "\n",
    "model = cr.models.GAM(adata, n_knots=6)\n",
    "cr.pl.gene_trends(\n",
    "    adata,\n",
    "    model=model,\n",
    "    data_key=\"MAGIC_imputed_data\",\n",
    "    genes=[\"MKX\", \"TNMD\", \"FMOD\", \"COL1A1\", \"COL3A1\", \"KERA\"],\n",
    "    same_plot=True,\n",
    "    ncols=2,\n",
    "    time_key=\"palantir_pseudotime\",\n",
    "    hide_cells=True,\n",
    "    weight_threshold=(1e-3, 1e-3),\n",
    "    save='allages_tendonfibro_palantir_pseudotime_genetrendstenocyte.svg',\n",
    ")"
   ]
  },
  {
   "cell_type": "code",
   "execution_count": null,
   "id": "74cbdb73",
   "metadata": {
    "scrolled": false
   },
   "outputs": [],
   "source": [
    "lin_drivers_dict={}\n",
    "for i in g2.terminal_states.cat.categories:\n",
    "    lin_drivers_dict[i] = g2.compute_lineage_drivers(lineages=i,return_drivers=True)\n",
    "\n",
    "for i in g2.terminal_states.cat.categories:\n",
    "    # plot heatmap\n",
    "    cr.pl.heatmap(\n",
    "        adata,\n",
    "        model=model,  # use the model from before\n",
    "        lineages=i,\n",
    "        cluster_key=\"C_scANVI\",\n",
    "        data_key=\"MAGIC_imputed_data\",\n",
    "        genes=lin_drivers_dict[i].head(40).index,\n",
    "        time_key=\"palantir_pseudotime\",\n",
    "        figsize=(12, 10),\n",
    "        show_all_genes=True,\n",
    "        weight_threshold=(1e-3, 1e-3),\n",
    "        save=f'{i}_lineage_heatmap.svg'\n",
    "    )"
   ]
  },
  {
   "cell_type": "markdown",
   "id": "576b614d",
   "metadata": {},
   "source": [
    "### Estimating (Velocity + Connectivities Kernel)"
   ]
  },
  {
   "cell_type": "code",
   "execution_count": null,
   "id": "3c00412f",
   "metadata": {},
   "outputs": [],
   "source": [
    "g = GPCCA(combined_kernel)\n",
    "g.compute_schur(n_components=20)\n",
    "g.plot_spectrum(real_only=True, show_eigengap=True)"
   ]
  },
  {
   "cell_type": "markdown",
   "id": "8a686c03",
   "metadata": {},
   "source": [
    "Given that the eigengap is at component 2 and components 0, 1, and 2 have relatively high Re values, I specify three macrostates. This choice captures the clear separation of the first two macrostates and allows for a third state to capture finer-scale transitions.ABI3BP GAS2 Fibroblasts 1 and COL3A1 PI16 Fibroblasts are the two dominant macrostates."
   ]
  },
  {
   "cell_type": "code",
   "execution_count": null,
   "id": "d72a2810",
   "metadata": {},
   "outputs": [],
   "source": [
    "g.compute_macrostates(n_states=6, cluster_key=\"C_scANVI\")\n",
    "g.plot_macrostates(discrete=True,\n",
    "                   legend_fontsize=9, \n",
    "                   basis='umap', s=100,\n",
    "                   #save='20w_macrostates_discrete.svg',\n",
    "                   figsize=(5,4))"
   ]
  },
  {
   "cell_type": "code",
   "execution_count": null,
   "id": "80f7f3c5",
   "metadata": {},
   "outputs": [],
   "source": [
    "g.plot_macrostates(discrete=True,\n",
    "                   legend_fontsize=9, \n",
    "                   basis='umap', s=100,\n",
    "                   #save='allages_tendonfibro_macrostates_velocity_umap.svg',\n",
    "                   figsize=(5,4))"
   ]
  },
  {
   "cell_type": "code",
   "execution_count": null,
   "id": "8bf28820",
   "metadata": {},
   "outputs": [],
   "source": [
    "g.plot_macrostates(same_plot=False, basis='umap',\n",
    "                   #save='allages_tendonfibro_macrostates_separated_velocity_umap.svg',\n",
    "                  )"
   ]
  },
  {
   "cell_type": "code",
   "execution_count": null,
   "id": "b1d9e8f2",
   "metadata": {},
   "outputs": [],
   "source": [
    "#g.predict()"
   ]
  },
  {
   "cell_type": "code",
   "execution_count": null,
   "id": "0bdf89f6",
   "metadata": {},
   "outputs": [],
   "source": [
    "g.compute_terminal_states()\n",
    "#g.set_terminal_states_from_macrostates(['COL3A1 PI16 Fibroblasts_1', 'ABI3BP GAS2 Fibroblasts 1_2'])\n",
    "adata.obs['terminal_states'].value_counts()"
   ]
  },
  {
   "cell_type": "code",
   "execution_count": null,
   "id": "dc6e6464",
   "metadata": {},
   "outputs": [],
   "source": [
    "g.compute_absorption_probabilities()\n",
    "cr.pl.circular_projection(adata, keys=['phase', 'C_scANVI'],\n",
    "                          legend_loc=\"right\", s=100, \n",
    "                          #save='20w_circular_projection.svg',\n",
    "                          figsize=(25,25))"
   ]
  },
  {
   "cell_type": "code",
   "execution_count": null,
   "id": "d620daff",
   "metadata": {},
   "outputs": [],
   "source": [
    "cr.pl.circular_projection(adata, keys=['age', 'C_scANVI'],\n",
    "                          legend_loc=\"right\", s=100, \n",
    "                          #save='20w_circular_projection.svg',\n",
    "                          figsize=(25,25))"
   ]
  },
  {
   "cell_type": "markdown",
   "id": "8d92cd8c",
   "metadata": {},
   "source": [
    "### Computing lineage drivers\n",
    "We can compute the driver genes for all or just a subset of lineages. We can also restrict this to some subset of clusters by specifying clusters=... (not shown below). In the resulting dataframe, we also see the p-value, the corrected p-value (q-value) and the 95% confidence interval for the correlation statistic."
   ]
  },
  {
   "cell_type": "code",
   "execution_count": null,
   "id": "e39a2171",
   "metadata": {},
   "outputs": [],
   "source": [
    "lin_drivers = g.compute_lineage_drivers()"
   ]
  },
  {
   "cell_type": "code",
   "execution_count": null,
   "id": "d6f81b26",
   "metadata": {},
   "outputs": [],
   "source": [
    "lineages = list(adata.obs['terminal_states'].cat.categories)\n",
    "for i in lineages:\n",
    "    g.plot_lineage_drivers(i, n_genes=8, basis='umap',\n",
    "                   cmap='magma', save=f'allages_fibro_velocitylind_{i}.svg'\n",
    "                   )"
   ]
  },
  {
   "cell_type": "code",
   "execution_count": null,
   "id": "300f1f90",
   "metadata": {},
   "outputs": [],
   "source": [
    "# define set of genes to annotate\n",
    "genes_oi = {\n",
    "    \"ABI3BP GAS2 Fibroblasts 1\": list(lin_drivers_abi3.index[:15]),\n",
    "    \"FGF14 THBS4 Fibroblasts\": list(lin_drivers_fgf14.index[:15])\n",
    "}\n",
    "\n",
    "# make sure all of these exist in AnnData\n",
    "assert [\n",
    "    gene in adata.var_names for genes in genes_oi.values() for gene in genes\n",
    "], \"Did not find all genes\"\n",
    "\n",
    "# compute mean gene expression across all cells\n",
    "adata.var[\"mean expression\"] = adata.X.A.mean(axis=0)\n",
    "\n",
    "# visualize in a scatter plot\n",
    "g.plot_lineage_drivers_correlation(\n",
    "    lineage_x=\"FGF14 THBS4 Fibroblasts\",\n",
    "    lineage_y=\"ABI3BP GAS2 Fibroblasts 1\",\n",
    "    adjust_text=True,\n",
    "    gene_sets=genes_oi,\n",
    "    color=\"mean expression\",\n",
    "    legend_loc=\"none\",\n",
    "    figsize=(5, 5),\n",
    "    dpi=150,\n",
    "    fontsize=9,\n",
    "    size=50,\n",
    ")"
   ]
  },
  {
   "cell_type": "code",
   "execution_count": null,
   "id": "9d0c5b5f",
   "metadata": {},
   "outputs": [],
   "source": [
    "# define set of genes to annotate\n",
    "genes_oi = {\n",
    "    \"ABI3BP GAS2 Fibroblasts 1\": list(lin_drivers_abi3.index[:15]),\n",
    "    \"COL3A1 PI16 Fibroblasts\": list(lin_drivers_col3.index[:15])\n",
    "}\n",
    "\n",
    "# make sure all of these exist in AnnData\n",
    "assert [\n",
    "    gene in adata.var_names for genes in genes_oi.values() for gene in genes\n",
    "], \"Did not find all genes\"\n",
    "\n",
    "# compute mean gene expression across all cells\n",
    "adata.var[\"mean expression\"] = adata.X.A.mean(axis=0)\n",
    "\n",
    "# visualize in a scatter plot\n",
    "g.plot_lineage_drivers_correlation(\n",
    "    lineage_x=\"ABI3BP GAS2 Fibroblasts 1\",\n",
    "    lineage_y=\"COL3A1 PI16 Fibroblasts\",\n",
    "    adjust_text=True,\n",
    "    gene_sets=genes_oi,\n",
    "    color=\"mean expression\",\n",
    "    legend_loc=\"none\",\n",
    "    figsize=(5, 5),\n",
    "    dpi=150,\n",
    "    fontsize=9,\n",
    "    size=50,\n",
    ")"
   ]
  },
  {
   "cell_type": "code",
   "execution_count": null,
   "id": "6066c6bf",
   "metadata": {},
   "outputs": [],
   "source": [
    "# define set of genes to annotate\n",
    "genes_oi = {\n",
    "    \"COL3A1 PI16 Fibroblasts\": list(lin_drivers_col3.index[:15]),\n",
    "    \"FGF14 THBS4 Fibroblasts\": list(lin_drivers_fgf14.index[:15])\n",
    "}\n",
    "\n",
    "# make sure all of these exist in AnnData\n",
    "assert [\n",
    "    gene in adata.var_names for genes in genes_oi.values() for gene in genes\n",
    "], \"Did not find all genes\"\n",
    "\n",
    "# compute mean gene expression across all cells\n",
    "adata.var[\"mean expression\"] = adata.X.A.mean(axis=0)\n",
    "\n",
    "# visualize in a scatter plot\n",
    "g.plot_lineage_drivers_correlation(\n",
    "    lineage_x=\"FGF14 THBS4 Fibroblasts\",\n",
    "    lineage_y=\"COL3A1 PI16 Fibroblasts\",\n",
    "    adjust_text=True,\n",
    "    gene_sets=genes_oi,\n",
    "    color=\"mean expression\",\n",
    "    legend_loc=\"none\",\n",
    "    figsize=(5, 5),\n",
    "    dpi=150,\n",
    "    fontsize=9,\n",
    "    size=50,\n",
    ")"
   ]
  },
  {
   "cell_type": "markdown",
   "id": "9f32329c",
   "metadata": {},
   "source": [
    "### Identifying Initial States"
   ]
  },
  {
   "cell_type": "code",
   "execution_count": null,
   "id": "9e431837",
   "metadata": {},
   "outputs": [],
   "source": [
    "vk_bk = VelocityKernel(adata, backward=True).compute_transition_matrix()\n",
    "ck_bk = ConnectivityKernel(adata, backward=True).compute_transition_matrix()\n",
    "combined_kernel = 0.8 * vk_bk + 0.2 * ck_bk\n",
    "print(combined_kernel)"
   ]
  },
  {
   "cell_type": "code",
   "execution_count": null,
   "id": "79dd3d4c",
   "metadata": {},
   "outputs": [],
   "source": [
    "g_bk = GPCCA(combined_kernel)\n",
    "g_bk.compute_schur(n_components=20)\n",
    "g_bk.plot_spectrum(real_only=True, show_eigengap=True)"
   ]
  },
  {
   "cell_type": "code",
   "execution_count": null,
   "id": "8dffec76",
   "metadata": {},
   "outputs": [],
   "source": [
    "g_bk.compute_macrostates(n_states=1, cluster_key=\"C_scANVI\")\n",
    "g_bk.plot_macrostates(legend_fontsize=9, basis='umap',\n",
    "                   #save='20w_macrostates_initial.svg',\n",
    "                   figsize=(5,4))"
   ]
  },
  {
   "cell_type": "code",
   "execution_count": null,
   "id": "61345077",
   "metadata": {},
   "outputs": [],
   "source": [
    "g_bk.plot_macrostates(legend_fontsize=9, discrete=True, basis='umap',\n",
    "                   #save='20w_macrostates_initialdiscrete.svg', s=100,\n",
    "                   figsize=(5,4))"
   ]
  },
  {
   "cell_type": "code",
   "execution_count": null,
   "id": "3c747009",
   "metadata": {},
   "outputs": [],
   "source": [
    "g_bk.compute_terminal_states()\n",
    "g_bk.compute_absorption_probabilities()\n",
    "adata.obs['initial_states'].value_counts()"
   ]
  },
  {
   "cell_type": "code",
   "execution_count": null,
   "id": "4fc32462",
   "metadata": {},
   "outputs": [],
   "source": [
    "# compute a score in scanpy by aggregating across a few ductal markers\n",
    "sc.tl.score_genes(\n",
    "    adata, gene_list=[\"SCX\", \"MKX\", \"TNMD\", \"FMOD\", \"COL1A1\"], score_name=\"tenocyte_score\"\n",
    ")\n",
    "\n",
    "# write macrostates to AnnData\n",
    "adata.obs[\"macrostates\"] = g.macrostates\n",
    "adata.uns[\"macrostates_colors\"] = g.macrostates_memberships.colors\n",
    "\n",
    "# visualize via heatmaps\n",
    "sc.pl.violin(adata, keys=\"tenocyte_score\", groupby=\"macrostates\", rotation=90)"
   ]
  },
  {
   "cell_type": "code",
   "execution_count": null,
   "id": "bef8bb90",
   "metadata": {},
   "outputs": [],
   "source": [
    "# compute a score in scanpy by aggregating across a few ductal markers\n",
    "sc.tl.score_genes(\n",
    "    adata, gene_list=[\"COL3A1\", \"LUM\"], score_name=\"col3lum_score\"\n",
    ")\n",
    "\n",
    "# write macrostates to AnnData\n",
    "adata.obs[\"macrostates\"] = g.macrostates\n",
    "adata.uns[\"macrostates_colors\"] = g.macrostates_memberships.colors\n",
    "\n",
    "# visualize via heatmaps\n",
    "sc.pl.violin(adata, keys=\"col3lum_score\", groupby=\"macrostates\", rotation=90)"
   ]
  },
  {
   "cell_type": "markdown",
   "id": "c9582d07",
   "metadata": {},
   "source": [
    "# PAGA"
   ]
  },
  {
   "cell_type": "code",
   "execution_count": null,
   "id": "f7a49c7d",
   "metadata": {},
   "outputs": [],
   "source": [
    "scv.tl.recover_latent_time(\n",
    "    adata, root_key=\"initial_states_probabilities\", end_key=\"terminal_states_probabilities\"\n",
    ")\n",
    "\n",
    "scv.tl.paga(\n",
    "    adata,\n",
    "    groups=\"C_scANVI\",\n",
    "    threshold_root_end_prior=0.9,\n",
    "    root_key=\"initial_states_probabilities\",\n",
    "    end_key=\"terminal_states_probabilities\",\n",
    "    use_time_prior=\"velocity_pseudotime\",\n",
    ")"
   ]
  },
  {
   "cell_type": "code",
   "execution_count": null,
   "id": "4b92d264",
   "metadata": {},
   "outputs": [],
   "source": [
    "cr.pl.cluster_fates(\n",
    "    adata,\n",
    "    mode=\"bar\",\n",
    "    cluster_key=\"C_scANVI\",\n",
    "    backward=False,\n",
    "    ncols=5,\n",
    "    figsize=(15,3),\n",
    "    #save='20w_directedPAGA_bar.svg',\n",
    ")"
   ]
  },
  {
   "cell_type": "code",
   "execution_count": null,
   "id": "84f73dcc",
   "metadata": {},
   "outputs": [],
   "source": [
    "cr.pl.cluster_fates(\n",
    "    adata,\n",
    "    mode=\"paga_pie\",\n",
    "    cluster_key=\"C_scANVI\",\n",
    "    backward=False,\n",
    "    basis=\"umap\",\n",
    "    legend_kwargs={\"loc\": \"top right out\"},\n",
    "    legend_loc=\"top left out\",\n",
    "    node_size_scale=7,\n",
    "    edge_width_scale=2,\n",
    "    max_edge_width=3,\n",
    "    figsize=(7,7),\n",
    "    title=\"directed PAGA\",\n",
    "    #save='20w_directedPAGA_umap.svg',\n",
    ")"
   ]
  },
  {
   "cell_type": "markdown",
   "id": "b712bc91",
   "metadata": {},
   "source": [
    "We use pie charts to show cell fates averaged per cluster. Edges between clusters are given by transcriptomic similarity between the clusters, just as in normal PAGA."
   ]
  },
  {
   "cell_type": "code",
   "execution_count": null,
   "id": "4c04dff4",
   "metadata": {},
   "outputs": [],
   "source": [
    "model = cr.models.GAM(adata, n_knots=6)"
   ]
  },
  {
   "cell_type": "code",
   "execution_count": null,
   "id": "2e1c6d37",
   "metadata": {
    "scrolled": true
   },
   "outputs": [],
   "source": [
    "model = cr.models.GAM(adata, n_knots=6)\n",
    "cr.pl.gene_trends(\n",
    "    adata,\n",
    "    model=model,\n",
    "    data_key=\"X\",\n",
    "    genes=[\"SCX\", \"MKX\", \"COL1A1\", \"COL3A1\", \"FMOD\", \"KERA\", \"LUM\"],\n",
    "    same_plot=True,\n",
    "    ncols=2,\n",
    "    time_key=\"dpt_pseudotime\",\n",
    "    hide_cells=True,\n",
    "    weight_threshold=(1e-3, 1e-3),\n",
    ")"
   ]
  },
  {
   "cell_type": "code",
   "execution_count": null,
   "id": "2f3b605a",
   "metadata": {
    "scrolled": true
   },
   "outputs": [],
   "source": [
    "# plot heatmap\n",
    "cr.pl.heatmap(\n",
    "    adata,\n",
    "    model=model,  # use the model from before\n",
    "    lineages=\"COL3A1 PI16 Fibroblasts\",\n",
    "    cluster_key=\"C_scANVI\",\n",
    "    data_key=\"X\",\n",
    "    genes=lin_drivers_col3.head(40).index,\n",
    "    time_key=\"velocity_pseudotime\",\n",
    "    figsize=(12, 10),\n",
    "    show_all_genes=True,\n",
    "    weight_threshold=(1e-3, 1e-3),\n",
    ")"
   ]
  },
  {
   "cell_type": "code",
   "execution_count": null,
   "id": "7cb6a862",
   "metadata": {
    "scrolled": true
   },
   "outputs": [],
   "source": [
    "cr.pl.heatmap(\n",
    "    adata,\n",
    "    model=model,  # use the model from before\n",
    "    lineages=\"FGF14 THBS4 Fibroblasts\",\n",
    "    cluster_key=\"C_scANVI\",\n",
    "    data_key=\"X\",\n",
    "    genes=lin_drivers_fgf14.head(40).index,\n",
    "    time_key=\"velocity_pseudotime\",\n",
    "    figsize=(12, 10),\n",
    "    show_all_genes=True,\n",
    "    weight_threshold=(1e-3, 1e-3),\n",
    ")"
   ]
  },
  {
   "cell_type": "code",
   "execution_count": null,
   "id": "eb7631eb",
   "metadata": {},
   "outputs": [],
   "source": [
    "cr.pl.heatmap(\n",
    "    adata,\n",
    "    model=model,  # use the model from before\n",
    "    lineages=\"ABI3BP GAS2 Fibroblasts 1\",\n",
    "    cluster_key=\"C_scANVI\",\n",
    "    data_key=\"X\",\n",
    "    genes=lin_drivers_abi3.head(40).index,\n",
    "    time_key=\"velocity_pseudotime\",\n",
    "    figsize=(12, 10),\n",
    "    show_all_genes=True,\n",
    "    weight_threshold=(1e-3, 1e-3),\n",
    ")"
   ]
  },
  {
   "cell_type": "markdown",
   "id": "d0cf1b6c",
   "metadata": {},
   "source": [
    "# SCFATES"
   ]
  },
  {
   "cell_type": "code",
   "execution_count": null,
   "id": "61406a3b",
   "metadata": {},
   "outputs": [],
   "source": [
    "import scFates as scf\n",
    "\n",
    "scf.tl.tree(adata,method=\"ppt\",Nodes=200,use_rep=\"msdiff\",\n",
    "            device=\"cpu\",seed=1,ppt_lambda=100,ppt_sigma=0.025,ppt_nsteps=200)"
   ]
  },
  {
   "cell_type": "code",
   "execution_count": null,
   "id": "f0eb1bf8",
   "metadata": {},
   "outputs": [],
   "source": [
    "scf.pl.graph(adata, basis='umap')"
   ]
  },
  {
   "cell_type": "code",
   "execution_count": null,
   "id": "79f68fed",
   "metadata": {},
   "outputs": [],
   "source": [
    "scf.tl.root(adata,89)"
   ]
  },
  {
   "cell_type": "code",
   "execution_count": null,
   "id": "18ba203f",
   "metadata": {},
   "outputs": [],
   "source": [
    "scf.tl.pseudotime(adata,n_jobs=10,n_map=1000,seed=42)"
   ]
  }
 ],
 "metadata": {
  "kernelspec": {
   "display_name": "Python [conda env:pyscenic_env] *",
   "language": "python",
   "name": "conda-env-pyscenic_env-py"
  },
  "language_info": {
   "codemirror_mode": {
    "name": "ipython",
    "version": 3
   },
   "file_extension": ".py",
   "mimetype": "text/x-python",
   "name": "python",
   "nbconvert_exporter": "python",
   "pygments_lexer": "ipython3",
   "version": "3.7.12"
  }
 },
 "nbformat": 4,
 "nbformat_minor": 5
}
