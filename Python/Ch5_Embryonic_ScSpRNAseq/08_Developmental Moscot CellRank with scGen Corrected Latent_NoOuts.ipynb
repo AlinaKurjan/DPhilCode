{
 "cells": [
  {
   "cell_type": "code",
   "execution_count": null,
   "id": "49887831",
   "metadata": {
    "scrolled": false
   },
   "outputs": [],
   "source": [
    "# Import dependencies\n",
    "import os\n",
    "import anndata as ad\n",
    "import numpy as np\n",
    "import pandas as pd\n",
    "import scanpy as sc\n",
    "import seaborn as sns\n",
    "import scvelo as scv\n",
    "\n",
    "from moscot.problems.time import TemporalProblem\n",
    "\n",
    "import cellrank as cr\n",
    "import scanpy as sc\n",
    "from cellrank.kernels import RealTimeKernel\n",
    "\n",
    "sc.settings.set_figure_params(frameon=False, dpi=100)\n",
    "cr.settings.verbosity = 2\n",
    "\n",
    "import matplotlib.pyplot as plt\n",
    "\n",
    "# Initialize random seed\n",
    "import random\n",
    "random.seed(111)\n",
    "\n",
    "import warnings\n",
    "warnings.simplefilter(\"ignore\", category=UserWarning)\n",
    "\n",
    "# Print date and time:\n",
    "import datetime\n",
    "e = datetime.datetime.now()\n",
    "print (\"Current date and time = %s\" % e)\n",
    "\n",
    "# set a working directory\n",
    "#wdir = \"/ceph/project/tendonhca/akurjan/analysis/\"\n",
    "wdir = \"/mnt/da8aa2c4-0136-465b-87a2-d12a59afec55/akurjan/analysis/notebooks/developmental/\"\n",
    "os.chdir( wdir )\n",
    "\n",
    "# folder structures\n",
    "INPUT_FOLDERNAME = \"scVI/results/\"\n",
    "RESULTS_FOLDERNAME = \"MoscotCR/results/\"\n",
    "FIGURES_FOLDERNAME = \"MoscotCR/figures/\"\n",
    "\n",
    "if not os.path.exists(RESULTS_FOLDERNAME):\n",
    "    os.makedirs(RESULTS_FOLDERNAME)\n",
    "if not os.path.exists(FIGURES_FOLDERNAME):\n",
    "    os.makedirs(FIGURES_FOLDERNAME)\n",
    "\n",
    "# Set folder for saving figures into\n",
    "sc.settings.figdir = FIGURES_FOLDERNAME\n",
    "scv.settings.figdir = FIGURES_FOLDERNAME   \n",
    "\n",
    "def savesvg(fname: str, fig, folder: str=FIGURES_FOLDERNAME) -> None:\n",
    "    \"\"\"\n",
    "    Save figure as vector-based SVG image format.\n",
    "    \"\"\"\n",
    "    fig.tight_layout()\n",
    "    fig.savefig(os.path.join(folder, fname), format='svg')\n",
    "\n",
    "# Set other settings\n",
    "sc.settings.verbosity = 3 # verbosity: errors (0), warnings (1), info (2), hints (3)\n",
    "sc.logging.print_versions()\n",
    "scv.set_figure_params('scvelo')"
   ]
  },
  {
   "cell_type": "code",
   "execution_count": null,
   "id": "958a0394",
   "metadata": {
    "scrolled": true
   },
   "outputs": [],
   "source": [
    "adata = sc.read_h5ad(os.path.join(INPUT_FOLDERNAME, 'dev_scgen_harmony_latent.h5ad'))\n",
    "adata.var_names = adata.var_names.astype('str')\n",
    "adata.var_names_make_unique()\n",
    "adata"
   ]
  },
  {
   "cell_type": "code",
   "execution_count": null,
   "id": "eb37d92f",
   "metadata": {},
   "outputs": [],
   "source": [
    "print(adata.X[0:5,0:5])"
   ]
  },
  {
   "cell_type": "code",
   "execution_count": null,
   "id": "7a9fa973",
   "metadata": {},
   "outputs": [],
   "source": [
    "# remove non-connected nodes\n",
    "keep = ['ABI3BP GAS2 Fibroblasts',\n",
    "        'COL3A1 PI16 Fibroblasts',\n",
    "        'FGF14 THBS4 Fibroblasts', \n",
    "        'COL6A6 FNDC1 Fibroblasts',\n",
    "        'NEGR1 SCN7A Fibroblasts',\n",
    "        'vasEndothelial Cells',\n",
    "        'Smooth Myocytes',\n",
    "        'SCX FGF14 THBS4 FSTL5 Progenitors',\n",
    "        'RUNX2 THBS2 COL11A1 Progenitors',\n",
    "        'COL6A6 FSTL1 DCLK1 Progenitors',\n",
    "        'MKX TNMD ABI3BP GAS2 Progenitors',\n",
    "        'SOX5 CREB5 Chondrocyte Progenitors',\n",
    "        'lymEndothelial Cells',\n",
    "        'Nervous System Cells',\n",
    "        #'Immune Cells',\n",
    "        'Chondrocytes',\n",
    "        'Skeletal Myocytes',\n",
    "        'Satellite Cells',\n",
    "        'MSC Precursors',\n",
    "        'Embryonic Chondrocytes'\n",
    "        ]\n",
    "\n",
    "adata = adata[adata.obs['C_scANVI'].isin(keep)].copy()\n",
    "adata"
   ]
  },
  {
   "cell_type": "code",
   "execution_count": null,
   "id": "fb7ec8a8",
   "metadata": {},
   "outputs": [],
   "source": [
    "adata"
   ]
  },
  {
   "cell_type": "code",
   "execution_count": null,
   "id": "9d4611a8",
   "metadata": {},
   "outputs": [],
   "source": [
    "sc.pp.filter_genes(adata, min_counts=20, inplace=True)\n",
    "sc.pp.filter_cells(adata, min_genes=200)"
   ]
  },
  {
   "cell_type": "markdown",
   "id": "ac6aba34",
   "metadata": {},
   "source": [
    "# Moscot"
   ]
  },
  {
   "cell_type": "code",
   "execution_count": null,
   "id": "cea6dd9d",
   "metadata": {},
   "outputs": [],
   "source": [
    "sc.pl.embedding(adata, basis='draw_graph_fa', color='C_scANVI')"
   ]
  },
  {
   "cell_type": "code",
   "execution_count": null,
   "id": "124f2ec3",
   "metadata": {},
   "outputs": [],
   "source": [
    "tp = TemporalProblem(adata)"
   ]
  },
  {
   "cell_type": "code",
   "execution_count": null,
   "id": "e83ee7b4",
   "metadata": {},
   "outputs": [],
   "source": [
    "tp = tp.score_genes_for_marginals(\n",
    "    gene_set_proliferation=\"human\", gene_set_apoptosis=\"human\"\n",
    ")"
   ]
  },
  {
   "cell_type": "code",
   "execution_count": null,
   "id": "cf37733e",
   "metadata": {},
   "outputs": [],
   "source": [
    "sc.pl.embedding(adata, basis=\"draw_graph_fa\", color=[\"proliferation\", \"apoptosis\"],\n",
    "                vmax=\"p99\", vcenter=0, s=10, \n",
    "                save='proliferation_apoptosis_scores.svg'\n",
    "               )"
   ]
  },
  {
   "cell_type": "code",
   "execution_count": null,
   "id": "dfba6fdf",
   "metadata": {},
   "outputs": [],
   "source": [
    "adata.obs[\"agefloat\"] = adata.obs[\"ageint\"].astype(float).astype(\"category\")\n",
    "adata.obs[\"agefloat\"]"
   ]
  },
  {
   "cell_type": "code",
   "execution_count": null,
   "id": "acd825e6",
   "metadata": {},
   "outputs": [],
   "source": [
    "adata.obs.age"
   ]
  },
  {
   "cell_type": "code",
   "execution_count": null,
   "id": "118346dd",
   "metadata": {},
   "outputs": [],
   "source": [
    "print(adata.X[0:10,0:10])"
   ]
  },
  {
   "cell_type": "code",
   "execution_count": null,
   "id": "0f97206c",
   "metadata": {},
   "outputs": [],
   "source": [
    "print(adata.raw.X[0:10,0:10])"
   ]
  },
  {
   "cell_type": "code",
   "execution_count": null,
   "id": "aa203390",
   "metadata": {},
   "outputs": [],
   "source": [
    "original_palette = ['#1f77b4', '#ff7f0e', '#279e68', '#d62728', '#aa40fc', '#8c564b',\n",
    "       '#e377c2', '#b5bd61', '#17becf', '#aec7e8', '#ffbb78', '#98df8a',\n",
    "       '#ff9896', '#c5b0d5', '#c49c94', '#f7b6d2', '#dbdb8d', '#9edae5',\n",
    "       '#ad494a', '#8c6d31']"
   ]
  },
  {
   "cell_type": "code",
   "execution_count": null,
   "id": "3957932d",
   "metadata": {},
   "outputs": [],
   "source": [
    "tp = tp.prepare(time_key=\"agefloat\", joint_attr='corrected_latent')"
   ]
  },
  {
   "cell_type": "code",
   "execution_count": null,
   "id": "5ad45e3a",
   "metadata": {},
   "outputs": [],
   "source": [
    "tp = tp.solve(epsilon=1e-3, tau_a=0.99, tau_b=0.999, scale_cost=\"mean\",\n",
    "              batch_size=1200, device='gpu')"
   ]
  },
  {
   "cell_type": "code",
   "execution_count": null,
   "id": "7779989d",
   "metadata": {},
   "outputs": [],
   "source": [
    "tp.save(os.path.join(RESULTS_FOLDERNAME, 'moscottp_correctedlatent'), overwrite=True)"
   ]
  },
  {
   "cell_type": "code",
   "execution_count": null,
   "id": "a4b40f49",
   "metadata": {},
   "outputs": [],
   "source": [
    "adata"
   ]
  },
  {
   "cell_type": "code",
   "execution_count": null,
   "id": "02d323c4",
   "metadata": {},
   "outputs": [],
   "source": [
    "#tp = tp.load(os.path.join(RESULTS_FOLDERNAME, 'moscottp_correctedlatent'))\n",
    "#tp"
   ]
  },
  {
   "cell_type": "code",
   "execution_count": null,
   "id": "c56cb255",
   "metadata": {},
   "outputs": [],
   "source": [
    "import moscot.plotting as mtp"
   ]
  },
  {
   "cell_type": "code",
   "execution_count": null,
   "id": "dac5e15c",
   "metadata": {},
   "outputs": [],
   "source": [
    "tp.sankey(\n",
    "    source=6.5,\n",
    "    target=20,\n",
    "    source_groups=\"C_scANVI\",\n",
    "    target_groups=\"C_scANVI\",\n",
    "    threshold=0.2,\n",
    ")"
   ]
  },
  {
   "cell_type": "code",
   "execution_count": null,
   "id": "09c58e40",
   "metadata": {},
   "outputs": [],
   "source": [
    "mtp.sankey(tp, dpi=100, figsize=(40, 8), save=os.path.join(FIGURES_FOLDERNAME,'sankey_corrlatent.svg'))"
   ]
  },
  {
   "cell_type": "code",
   "execution_count": null,
   "id": "b0bd1a39",
   "metadata": {},
   "outputs": [],
   "source": [
    "adata.obs[\"posterior_growth_rates\"] = tp.posterior_growth_rates\n",
    "sc.pl.embedding(adata, basis=\"draw_graph_fa\", color=[\"posterior_growth_rates\"],\n",
    "                vmax=\"p99\", cmap='viridis', s=10, save='posterior_growth.svg'\n",
    "               )"
   ]
  },
  {
   "cell_type": "markdown",
   "id": "8157960a",
   "metadata": {},
   "source": [
    "## Checking individual cell costs (the higher, the more likely not to have an ancestor or descendant):\n",
    "\n",
    "Not too bad, no need to remove any cells and rerun the analysis"
   ]
  },
  {
   "cell_type": "code",
   "execution_count": null,
   "id": "15be51c0",
   "metadata": {},
   "outputs": [],
   "source": [
    "adata.obs[\"cell_costs_source\"] = tp.cell_costs_source\n",
    "adata.obs[\"cell_costs_target\"] = tp.cell_costs_target"
   ]
  },
  {
   "cell_type": "code",
   "execution_count": null,
   "id": "a06d8cb1",
   "metadata": {},
   "outputs": [],
   "source": [
    "sc.pl.embedding(\n",
    "    adata, basis=\"draw_graph_fa\", color=[\"cell_costs_source\", \"cell_costs_target\"], cmap='viridis',\n",
    "    s=20, save='source_target.svg'\n",
    ")"
   ]
  },
  {
   "cell_type": "markdown",
   "id": "8d70278a",
   "metadata": {},
   "source": [
    "## Visualising likely ancestor cells:"
   ]
  },
  {
   "cell_type": "code",
   "execution_count": null,
   "id": "18de6e6a",
   "metadata": {
    "scrolled": false
   },
   "outputs": [],
   "source": [
    "keys = [6.5, 7.2, 8.4, 9.0, 9.3, 12.0, 17.0, 20.0]\n",
    "\n",
    "for i in range(len(keys) - 1): \n",
    "    t1 = keys[i]\n",
    "    t2 = keys[i + 1]\n",
    "    dict_key = f'{t1}_{t2}'\n",
    "    \n",
    "    ct_desc = tp.cell_transition(t1, t2, \"C_scANVI\", \"C_scANVI\", forward=False, key_added=f\"transitions_{t1}_{t2}\")\n",
    "    mtp.cell_transition(tp,fontsize=8,figsize=(5, 5),return_fig=True,key=f\"transitions_{t1}_{t2}\",\n",
    "                       save=f'{dict_key}_ancestors.svg'\n",
    "                       )"
   ]
  },
  {
   "cell_type": "markdown",
   "id": "46bd8ed5",
   "metadata": {},
   "source": [
    "## Visualising likely descendant cells:"
   ]
  },
  {
   "cell_type": "code",
   "execution_count": null,
   "id": "ef3561e4",
   "metadata": {
    "scrolled": false
   },
   "outputs": [],
   "source": [
    "for i in range(len(keys) - 1): \n",
    "    t1 = keys[i]\n",
    "    t2 = keys[i + 1]\n",
    "    dict_key = f'{t1}_{t2}'\n",
    "    \n",
    "    ct_desc = tp.cell_transition(t1, t2, \"C_scANVI\", \"C_scANVI\", forward=True, key_added=f\"transitions_{t1}_{t2}\")\n",
    "    mtp.cell_transition(tp,fontsize=8,figsize=(5, 5),return_fig=True,key=f\"transitions_{t1}_{t2}\",\n",
    "                       save=f'{dict_key}_descendants.svg'\n",
    "                       )"
   ]
  },
  {
   "cell_type": "code",
   "execution_count": null,
   "id": "d6535545",
   "metadata": {},
   "outputs": [],
   "source": [
    "#adata.obs.drop(columns=['cell_costs_source', \n",
    "#                        'cell_costs_target'], inplace=True)"
   ]
  },
  {
   "cell_type": "code",
   "execution_count": null,
   "id": "33d8cd84",
   "metadata": {},
   "outputs": [],
   "source": [
    "#adata.write(os.path.join(RESULTS_FOLDERNAME, 'moscot_cellrank.h5ad'))"
   ]
  },
  {
   "cell_type": "markdown",
   "id": "efa19047",
   "metadata": {},
   "source": [
    "# CellRank"
   ]
  },
  {
   "cell_type": "code",
   "execution_count": null,
   "id": "539d54bd",
   "metadata": {
    "scrolled": false
   },
   "outputs": [],
   "source": [
    "tmk = RealTimeKernel.from_moscot(tp)"
   ]
  },
  {
   "cell_type": "markdown",
   "id": "46e9ce22",
   "metadata": {},
   "source": [
    "Higher conn_weight: Increases the relative importance of connectivities when calculating transitions within the same block (developmental stage, in your context). This is useful when intra-stage transitions are biologically justified or when stage-specific dynamics are more isolated.\n",
    "\n",
    "Lower conn_weight: Reduces the emphasis on intra-stage connectivities, potentially allowing for greater inter-stage transition probabilities. This could be more appropriate when stages are part of a continuum of development where transitions between stages are as important as transitions within stages."
   ]
  },
  {
   "cell_type": "code",
   "execution_count": null,
   "id": "bf4a0742",
   "metadata": {},
   "outputs": [],
   "source": [
    "tmk.compute_transition_matrix(\n",
    "    self_transitions=\"all\",\n",
    "    threshold=\"auto_local\",\n",
    "    conn_weight=0.2\n",
    "    #conn_kwargs={\"n_neighbors\": 80, \"metric\": \"correlation\"} - tested but did not use in the end\n",
    ")"
   ]
  },
  {
   "cell_type": "code",
   "execution_count": null,
   "id": "85f81d01",
   "metadata": {},
   "outputs": [],
   "source": [
    "tmk.plot_random_walks(\n",
    "    max_iter=1000,\n",
    "    start_ixs={\"agefloat\": 6.5},\n",
    "    basis=\"draw_graph_fa\",\n",
    "    seed=0,\n",
    "    dpi=150,\n",
    "    size=30,\n",
    ")"
   ]
  },
  {
   "cell_type": "code",
   "execution_count": null,
   "id": "dd12350d",
   "metadata": {},
   "outputs": [],
   "source": [
    "ax = tmk.plot_single_flow(\n",
    "    cluster_key=\"C_scANVI\",\n",
    "    time_key=\"agefloat\",\n",
    "    cluster=\"MSC Precursors\",\n",
    "    min_flow=0.20,\n",
    "    xticks_step_size=1,\n",
    "    show=False)\n",
    "_ = ax.set_xticklabels(ax.get_xticklabels(), rotation=90)\n",
    "ax.legend(loc='best') \n",
    "fig = ax.get_figure()\n",
    "fig.set_size_inches(10, 5)\n",
    "fig.savefig('msc_prec_single_flow.svg', dpi=300)  "
   ]
  },
  {
   "cell_type": "code",
   "execution_count": null,
   "id": "0c595230",
   "metadata": {},
   "outputs": [],
   "source": [
    "ax = tmk.plot_single_flow(\n",
    "    cluster_key=\"C_scANVI\",\n",
    "    time_key=\"agefloat\",\n",
    "    cluster='SCX FGF14 THBS4 FSTL5 Progenitors',\n",
    "    min_flow=0.37,\n",
    "    xticks_step_size=1,\n",
    "    show=False\n",
    ")\n",
    "_ = ax.set_xticklabels(ax.get_xticklabels(), rotation=90)\n",
    "ax.legend(loc='best') \n",
    "fig = ax.get_figure()\n",
    "fig.set_size_inches(10, 5)\n",
    "fig.savefig('scx_prog_single_flow.svg', dpi=300)  "
   ]
  },
  {
   "cell_type": "code",
   "execution_count": null,
   "id": "e71150ff",
   "metadata": {},
   "outputs": [],
   "source": [
    "ax = tmk.plot_single_flow(\n",
    "    cluster_key=\"C_scANVI\",\n",
    "    time_key=\"agefloat\",\n",
    "    cluster='MKX TNMD ABI3BP GAS2 Progenitors',\n",
    "    min_flow=0.25,\n",
    "    xticks_step_size=1,\n",
    "    show=False,\n",
    ")\n",
    "_ = ax.set_xticklabels(ax.get_xticklabels(), rotation=90)\n",
    "ax.legend(loc='best') \n",
    "fig = ax.get_figure()\n",
    "fig.set_size_inches(10, 5)\n",
    "fig.savefig('mkx_prog_single_flow.svg', dpi=300)  "
   ]
  },
  {
   "cell_type": "code",
   "execution_count": null,
   "id": "9d475054",
   "metadata": {},
   "outputs": [],
   "source": [
    "ax = tmk.plot_single_flow(\n",
    "    cluster_key=\"C_scANVI\",\n",
    "    time_key=\"agefloat\",\n",
    "    cluster='COL6A6 FSTL1 DCLK1 Progenitors',\n",
    "    min_flow=0.2,\n",
    "    xticks_step_size=1,\n",
    "    show=False,\n",
    ")\n",
    "_ = ax.set_xticklabels(ax.get_xticklabels(), rotation=90)\n",
    "ax.legend(loc='right') \n",
    "fig = ax.get_figure()\n",
    "fig.set_size_inches(10, 5)\n",
    "fig.savefig('col6_prog_single_flow.svg', dpi=300)  "
   ]
  },
  {
   "cell_type": "code",
   "execution_count": null,
   "id": "80068f48",
   "metadata": {},
   "outputs": [],
   "source": [
    "ax = tmk.plot_single_flow(\n",
    "    cluster_key=\"C_scANVI\",\n",
    "    time_key=\"agefloat\",\n",
    "    cluster='RUNX2 THBS2 COL11A1 Progenitors',\n",
    "    min_flow=0.25,\n",
    "    xticks_step_size=1,\n",
    "    show=False,\n",
    ")\n",
    "_ = ax.set_xticklabels(ax.get_xticklabels(), rotation=90)\n",
    "ax.legend(loc='best') \n",
    "fig = ax.get_figure()\n",
    "fig.set_size_inches(10, 5)\n",
    "fig.savefig('runx2_prog_single_flow.svg', dpi=300)  "
   ]
  },
  {
   "cell_type": "code",
   "execution_count": null,
   "id": "1782946a",
   "metadata": {},
   "outputs": [],
   "source": [
    "ax = tmk.plot_single_flow(\n",
    "    cluster_key=\"C_scANVI\",\n",
    "    time_key=\"agefloat\",\n",
    "    cluster='SOX5 CREB5 Chondrocyte Progenitors',\n",
    "    min_flow=0.2,\n",
    "    xticks_step_size=1,\n",
    "    show=False,\n",
    ")\n",
    "_ = ax.set_xticklabels(ax.get_xticklabels(), rotation=90)\n",
    "ax.legend(loc='right') \n",
    "fig = ax.get_figure()\n",
    "fig.set_size_inches(10, 5)\n",
    "fig.savefig('sox5_prog_single_flow.svg', dpi=300)  "
   ]
  },
  {
   "cell_type": "code",
   "execution_count": null,
   "id": "a1f5686b",
   "metadata": {},
   "outputs": [],
   "source": [
    "ax = tmk.plot_single_flow(\n",
    "    cluster_key=\"C_scANVI\",\n",
    "    time_key=\"agefloat\",\n",
    "    cluster='Embryonic Chondrocytes',\n",
    "    min_flow=0.4,\n",
    "    xticks_step_size=1,\n",
    "    show=False,\n",
    ")\n",
    "_ = ax.set_xticklabels(ax.get_xticklabels(), rotation=90)\n",
    "ax.legend(loc='right') \n",
    "fig = ax.get_figure()\n",
    "fig.set_size_inches(10, 5)\n",
    "fig.savefig('chondro_prog_single_flow.svg', dpi=300)  "
   ]
  },
  {
   "cell_type": "markdown",
   "id": "e05c0f7d",
   "metadata": {},
   "source": [
    "## Identifying Probable Terminal and Initial States"
   ]
  },
  {
   "cell_type": "code",
   "execution_count": null,
   "id": "e79a0a9c",
   "metadata": {},
   "outputs": [],
   "source": [
    "g2 = cr.estimators.GPCCA(tmk)\n",
    "g2.compute_schur(which='LM')\n",
    "g2.plot_spectrum(real_only=True)"
   ]
  },
  {
   "cell_type": "code",
   "execution_count": null,
   "id": "40760b2a",
   "metadata": {},
   "outputs": [],
   "source": [
    "g2.compute_macrostates(n_states=11, cluster_key=\"C_scANVI\")\n",
    "g2.plot_macrostates(which=\"all\", legend_loc=\"right\", s=100, basis='draw_graph_fa',\n",
    "                    save='devfibros_11macrostates.svg'\n",
    "                   )"
   ]
  },
  {
   "cell_type": "code",
   "execution_count": null,
   "id": "1fff04a9",
   "metadata": {},
   "outputs": [],
   "source": [
    "g2.plot_macrostate_composition(key=\"age\", figsize=(7, 4))"
   ]
  },
  {
   "cell_type": "code",
   "execution_count": null,
   "id": "c5ad7ed6",
   "metadata": {},
   "outputs": [],
   "source": [
    "g2.plot_coarse_T(annotate=True)"
   ]
  },
  {
   "cell_type": "code",
   "execution_count": null,
   "id": "ec7a32e6",
   "metadata": {
    "scrolled": false
   },
   "outputs": [],
   "source": [
    "g2.plot_macrostates(which=\"all\", legend_loc=\"right\", basis='draw_graph_fa',\n",
    "                    discrete=False, same_plot=False, ncols=3, figsize=(9,9),\n",
    "                    save='devfibros_macrostates_separate2.svg')"
   ]
  },
  {
   "cell_type": "code",
   "execution_count": null,
   "id": "29138974",
   "metadata": {},
   "outputs": [],
   "source": [
    "#g2.predict_terminal_states(method='top_n', n_states=9)\n",
    "#g2.plot_macrostates(which=\"terminal\", legend_loc=\"right\", s=100, basis='draw_graph_fa',\n",
    "#                    figsize=(5,5), save='terminal2.svg')"
   ]
  },
  {
   "cell_type": "code",
   "execution_count": null,
   "id": "3f9c5d76",
   "metadata": {},
   "outputs": [],
   "source": [
    "terminal_states = [\n",
    "    'FGF14 THBS4 Fibroblasts', \n",
    "    'COL3A1 PI16 Fibroblasts_2',\n",
    "    'Smooth Myocytes', \n",
    "    'vasEndothelial Cells',\n",
    "    'Nervous System Cells', \n",
    "    'lymEndothelial Cells',\n",
    "    'Skeletal Myocytes',\n",
    "    'ABI3BP GAS2 Fibroblasts', \n",
    "    'Chondrocytes'\n",
    "]\n",
    "\n",
    "g2.set_terminal_states(states=terminal_states)\n",
    "g2.plot_macrostates(which=\"terminal\", legend_loc=\"right\", s=100, basis='draw_graph_fa',\n",
    "                    save='manual_terminal2.svg')"
   ]
  },
  {
   "cell_type": "code",
   "execution_count": null,
   "id": "49418954",
   "metadata": {},
   "outputs": [],
   "source": [
    "adata.obs['term_states_fwd'].cat.categories"
   ]
  },
  {
   "cell_type": "code",
   "execution_count": null,
   "id": "1de96385",
   "metadata": {},
   "outputs": [],
   "source": [
    "g2.plot_macrostates(which=\"terminal\", legend_loc=\"right\", basis='draw_graph_fa',\n",
    "                    discrete=False, same_plot=False, ncols=3, figsize=(9,9), cmap='Greens',\n",
    "                   save='devfibros_terminal_separate2.svg')"
   ]
  },
  {
   "cell_type": "code",
   "execution_count": null,
   "id": "112882a9",
   "metadata": {},
   "outputs": [],
   "source": [
    "selected_cells = adata[adata.obs['C_scANVI'] == 'MSC Precursors']\n",
    "adata.obs['selected'] = 0.2\n",
    "ind = selected_cells.obs_names\n",
    "for i in ind:\n",
    "    adata.obs.loc[i, 'selected'] = 1\n",
    "sc.pl.embedding(adata, basis='draw_graph_fa', \n",
    "                color='selected', \n",
    "                cmap='Greys', vmin=0, s=50)"
   ]
  },
  {
   "cell_type": "code",
   "execution_count": null,
   "id": "70c5f907",
   "metadata": {},
   "outputs": [],
   "source": [
    "adata.obs['selected'] = 0.2\n",
    "sel = selected_cells[selected_cells.obs['age'] == '6.5w'].obs_names\n",
    "sel2 = selected_cells[selected_cells.obs['age'] == '7.2w'].obs_names\n",
    "selected = list(sel.values) + list(sel2.values)\n",
    "\n",
    "for i in selected:\n",
    "    adata.obs.loc[i, 'selected'] = 1\n",
    "sc.pl.embedding(adata, basis='draw_graph_fa', \n",
    "                color='selected', \n",
    "                cmap='Greys', vmin=0, s=50)"
   ]
  },
  {
   "cell_type": "code",
   "execution_count": null,
   "id": "ee7d6002",
   "metadata": {},
   "outputs": [],
   "source": [
    "#initial_dict = {\n",
    "#    'MSC Precursors': selected_cells[selected_cells.obs['age'] == '6.5w'].obs_names,\n",
    "#    'SOX9 SCX Progenitors': selected_cells[selected_cells.obs['C_scANVI_original'] == 'SOX9 SCX Progenitors'].obs_names,\n",
    "#    'NTNG1 COL6A6 Progenitors': selected_cells[selected_cells.obs['C_scANVI_original'] == 'NTNG1 COL6A6 Progenitors'].obs_names,\n",
    "#}\n",
    "\n",
    "g2.set_initial_states({'MSC Precursors': selected})"
   ]
  },
  {
   "cell_type": "code",
   "execution_count": null,
   "id": "b66a841b",
   "metadata": {},
   "outputs": [],
   "source": [
    "g2.plot_macrostates(which=\"initial\", legend_loc=\"right\", s=100, figsize=(5,5),\n",
    "                    basis='draw_graph_fa', save='devfibros_initial_fa.svg'\n",
    "                   )"
   ]
  },
  {
   "cell_type": "code",
   "execution_count": null,
   "id": "04a68bd2",
   "metadata": {},
   "outputs": [],
   "source": [
    "g2.compute_fate_probabilities()\n",
    "g2.plot_fate_probabilities(same_plot=False, basis='draw_graph_fa',\n",
    "                           ncols=3, figsize=(9,9), cmap='Purples', \n",
    "                           save='fateprobs_fa.svg'\n",
    "                          )"
   ]
  },
  {
   "cell_type": "code",
   "execution_count": null,
   "id": "b8c06331",
   "metadata": {},
   "outputs": [],
   "source": [
    "cr.pl.circular_projection(adata, keys=[\"age\", \"C_scANVI\"], legend_loc=\"right\", s=10,\n",
    "                         wspace=0.5, figsize=(30,15))"
   ]
  },
  {
   "cell_type": "code",
   "execution_count": null,
   "id": "74b0669a",
   "metadata": {},
   "outputs": [],
   "source": [
    "cr.pl.circular_projection(adata, keys=[\"ageint\", \"C_scANVI\"], legend_loc=\"right\", s=10,\n",
    "                          wspace=0.5, figsize=(30,15), vmin=6.5, vmax=20,\n",
    "                          save='circular.svg'\n",
    "                         )"
   ]
  },
  {
   "cell_type": "code",
   "execution_count": null,
   "id": "9eb0b051",
   "metadata": {},
   "outputs": [],
   "source": [
    "lin_drivers2 = g2.compute_lineage_drivers(use_raw=False)\n",
    "lin_drivers2.to_csv(os.path.join(RESULTS_FOLDERNAME, 'devfibros_exptime_lineagedrivers.csv'))"
   ]
  },
  {
   "cell_type": "code",
   "execution_count": null,
   "id": "361668b8",
   "metadata": {
    "scrolled": false
   },
   "outputs": [],
   "source": [
    "for i in list(g2.terminal_states.cat.categories):\n",
    "    print(i)\n",
    "    g2.plot_lineage_drivers(i, n_genes=8, basis='draw_graph_fa', perc=[2,98], use_raw=False,\n",
    "                   cmap='Blues', figsize=(15,10), save=f'dev_exptime_lindrivers{i}.svg'\n",
    "                   )\n",
    "    plt.show()"
   ]
  },
  {
   "cell_type": "code",
   "execution_count": null,
   "id": "23bdb3d3",
   "metadata": {},
   "outputs": [],
   "source": [
    "g2.macrostates.cat.categories"
   ]
  },
  {
   "cell_type": "code",
   "execution_count": null,
   "id": "72007f2d",
   "metadata": {},
   "outputs": [],
   "source": [
    "adata.obs['C_scANVI'].cat.categories"
   ]
  },
  {
   "cell_type": "code",
   "execution_count": null,
   "id": "b1652662",
   "metadata": {},
   "outputs": [],
   "source": [
    "sc.pp.neighbors(adata,n_neighbors=20,use_rep=\"X_diff\")\n",
    "sc.tl.paga(adata,\"C_scANVI\")"
   ]
  },
  {
   "cell_type": "code",
   "execution_count": null,
   "id": "0cf888bd",
   "metadata": {
    "scrolled": false
   },
   "outputs": [],
   "source": [
    "cr.pl.aggregate_fate_probabilities(\n",
    "    adata,\n",
    "    mode=\"bar\",\n",
    "    lineages=g2.terminal_states.cat.categories,\n",
    "    cluster_key=\"C_scANVI\",\n",
    "    clusters=adata.obs['C_scANVI'].cat.categories,\n",
    "    ncols=6,\n",
    "    figsize=(20, 20),\n",
    "    save='barfateprobs.svg'\n",
    ")"
   ]
  },
  {
   "cell_type": "code",
   "execution_count": null,
   "id": "dc0c2527",
   "metadata": {
    "scrolled": false
   },
   "outputs": [],
   "source": [
    "cr.pl.aggregate_fate_probabilities(\n",
    "    adata,\n",
    "    mode=\"paga_pie\",\n",
    "    cluster_key=\"C_scANVI\",\n",
    "    backward=False,\n",
    "    basis=\"draw_graph_fa\",\n",
    "    legend_kwargs={\"loc\": \"top right out\"},\n",
    "    legend_loc=\"top left out\",\n",
    "    node_size_scale=4,\n",
    "    edge_width_scale=2,\n",
    "    max_edge_width=3,\n",
    "    figsize=(9,9),\n",
    "    threshold=0.2,\n",
    "    title=\"PAGA\",\n",
    "    save='alllineages_diffPAGA_fa02.svg',\n",
    ")"
   ]
  },
  {
   "cell_type": "code",
   "execution_count": null,
   "id": "5c9d9340",
   "metadata": {},
   "outputs": [],
   "source": [
    "cr.pl.aggregate_fate_probabilities(\n",
    "    adata,\n",
    "    mode=\"heatmap\",\n",
    "    lineages=g2.terminal_states.cat.categories,\n",
    "    cluster_key=\"C_scANVI\",\n",
    "    clusters=adata.obs['C_scANVI'].cat.categories,\n",
    "    ncols=6, cmap='Reds',\n",
    "    figsize=(15, 6),\n",
    "    save='heatmap_fateprobs.svg'\n",
    ")"
   ]
  },
  {
   "cell_type": "code",
   "execution_count": null,
   "id": "f3fb645d",
   "metadata": {},
   "outputs": [],
   "source": [
    "cr.pl.aggregate_fate_probabilities(\n",
    "    adata,\n",
    "    mode=\"clustermap\",\n",
    "    lineages=g2.terminal_states.cat.categories,\n",
    "    cluster_key=\"C_scANVI\",\n",
    "    clusters=adata.obs['C_scANVI'].cat.categories,\n",
    "    ncols=6, cmap='Reds',\n",
    "    figsize=(15, 9),\n",
    "    save='clustermap_fateprobs.svg'\n",
    ")"
   ]
  },
  {
   "cell_type": "code",
   "execution_count": null,
   "id": "42d3d099",
   "metadata": {},
   "outputs": [],
   "source": [
    "for i in g2.terminal_states.cat.categories:\n",
    "    cr.pl.aggregate_fate_probabilities(\n",
    "        adata,\n",
    "        mode=\"violin\",\n",
    "        lineages=[i],\n",
    "        cluster_key=\"C_scANVI\",\n",
    "        clusters=adata.obs['C_scANVI'].cat.categories,\n",
    "        save=f'{i}_violinfateprobs.svg'\n",
    "    )"
   ]
  },
  {
   "cell_type": "code",
   "execution_count": null,
   "id": "eb63b62c",
   "metadata": {
    "scrolled": false
   },
   "outputs": [],
   "source": [
    "for i in g2.terminal_states.cat.categories:\n",
    "    cr.pl.aggregate_fate_probabilities(\n",
    "        adata,\n",
    "        mode=\"paga\",\n",
    "        lineages=[i],\n",
    "        cluster_key=\"C_scANVI\",\n",
    "        legend_loc=None,\n",
    "        backward=False,\n",
    "        basis=\"draw_graph_fa\",\n",
    "        node_size_scale=3,\n",
    "        edge_width_scale=2,\n",
    "        max_edge_width=3,\n",
    "        figsize=(9,7),\n",
    "        cmap='cividis', vmin=0,\n",
    "        threshold=0.2,\n",
    "        title=\"PAGA\",\n",
    "        save=f'{i}_diffPAGA_fa02.svg',\n",
    "    )"
   ]
  }
 ],
 "metadata": {
  "kernelspec": {
   "display_name": "Python [conda env:cellrankV2]",
   "language": "python",
   "name": "conda-env-cellrankV2-py"
  },
  "language_info": {
   "codemirror_mode": {
    "name": "ipython",
    "version": 3
   },
   "file_extension": ".py",
   "mimetype": "text/x-python",
   "name": "python",
   "nbconvert_exporter": "python",
   "pygments_lexer": "ipython3",
   "version": "3.8.18"
  }
 },
 "nbformat": 4,
 "nbformat_minor": 5
}
