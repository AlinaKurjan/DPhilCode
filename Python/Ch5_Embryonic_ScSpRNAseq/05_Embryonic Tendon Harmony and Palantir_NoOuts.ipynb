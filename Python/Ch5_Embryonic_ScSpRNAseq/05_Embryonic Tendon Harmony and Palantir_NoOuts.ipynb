{
 "cells": [
  {
   "cell_type": "code",
   "execution_count": null,
   "id": "5e16f23d",
   "metadata": {},
   "outputs": [],
   "source": [
    "# Import dependencies\n",
    "%matplotlib inline\n",
    "import os\n",
    "import numpy as np\n",
    "import scanpy as sc\n",
    "import seaborn as sns\n",
    "import matplotlib\n",
    "import matplotlib.pyplot as plt\n",
    "import pandas as pd\n",
    "import anndata as ad\n",
    "\n",
    "import harmony\n",
    "import harmony.core\n",
    "import harmony.plot\n",
    "import palantir\n",
    "#import scvi\n",
    "\n",
    "matplotlib.rcParams['font.family'] = 'sans-serif'\n",
    "\n",
    "# Initialize random seed\n",
    "import random\n",
    "random.seed(111)\n",
    "\n",
    "# Print date and time:\n",
    "import datetime\n",
    "e = datetime.datetime.now()\n",
    "print (\"Current date and time = %s\" % e)\n",
    "\n",
    "# set a working directory\n",
    "wdir = \"/mnt/da8aa2c4-0136-465b-87a2-d12a59afec55/akurjan/analysis/notebooks/embryonic ScAndSp/\"\n",
    "os.chdir( wdir )\n",
    "\n",
    "# folder structures\n",
    "SCVI_FOLDERNAME = \"scVI/results/\"\n",
    "RESULTS_FOLDERNAME = \"Harmony/results/\"\n",
    "FIGURES_FOLDERNAME = \"Harmony/figures/\"\n",
    "\n",
    "if not os.path.exists(RESULTS_FOLDERNAME):\n",
    "    os.makedirs(RESULTS_FOLDERNAME)\n",
    "if not os.path.exists(FIGURES_FOLDERNAME):\n",
    "    os.makedirs(FIGURES_FOLDERNAME)\n",
    "\n",
    "# Set folder for saving figures into\n",
    "sc.settings.figdir = FIGURES_FOLDERNAME\n",
    "\n",
    "def savesvg(fname: str, fig, folder: str=FIGURES_FOLDERNAME) -> None:\n",
    "    \"\"\"\n",
    "    Save figure as vector-based SVG image format.\n",
    "    \"\"\"\n",
    "    fig.savefig(os.path.join(folder, fname), format='svg')\n",
    "\n",
    "# Set other settings\n",
    "sc.settings.verbosity = 3 # verbosity: errors (0), warnings (1), info (2), hints (3)\n",
    "sc.logging.print_versions()\n",
    "sc.set_figure_params(dpi=150, fontsize=10, dpi_save=600)"
   ]
  },
  {
   "cell_type": "code",
   "execution_count": null,
   "id": "f2396db3",
   "metadata": {},
   "outputs": [],
   "source": [
    "adata = sc.read_h5ad(os.path.join(SCVI_FOLDERNAME, 'tendonsubset_scANVI.h5ad'))\n",
    "adata"
   ]
  },
  {
   "cell_type": "code",
   "execution_count": null,
   "id": "13339a52",
   "metadata": {},
   "outputs": [],
   "source": [
    "adata.obs['C_scANVI'].value_counts()"
   ]
  },
  {
   "cell_type": "code",
   "execution_count": null,
   "id": "84b77569",
   "metadata": {},
   "outputs": [],
   "source": [
    "adata.var_names = adata.var_names.astype(str)\n",
    "adata.var_names_make_unique()"
   ]
  },
  {
   "cell_type": "code",
   "execution_count": null,
   "id": "e0cd3632",
   "metadata": {},
   "outputs": [],
   "source": [
    "cat = list(adata.obs['norm_sample_stage'].cat.categories)\n",
    "cat"
   ]
  },
  {
   "cell_type": "code",
   "execution_count": null,
   "id": "2c1969b7",
   "metadata": {},
   "outputs": [],
   "source": [
    "adata.obs['norm_sample_stage']"
   ]
  },
  {
   "cell_type": "code",
   "execution_count": null,
   "id": "f356c4e5",
   "metadata": {},
   "outputs": [],
   "source": [
    "# sort by categorical age\n",
    "adata.obs['age'] = pd.Categorical(adata.obs['norm_sample_stage'], categories=cat, ordered=True)\n",
    "adata = adata[adata.obs['age'].argsort()]\n",
    "adata.obs "
   ]
  },
  {
   "cell_type": "code",
   "execution_count": null,
   "id": "d74ca9ea",
   "metadata": {},
   "outputs": [],
   "source": [
    "adata.obs['norm_sample_stage']"
   ]
  },
  {
   "cell_type": "code",
   "execution_count": null,
   "id": "869f9e0b",
   "metadata": {},
   "outputs": [],
   "source": [
    "adata.var_names_make_unique()"
   ]
  },
  {
   "cell_type": "code",
   "execution_count": null,
   "id": "e76b9583",
   "metadata": {},
   "outputs": [],
   "source": [
    "adata.obs['norm_sample_stage'].cat.categories"
   ]
  },
  {
   "cell_type": "code",
   "execution_count": null,
   "id": "2e9d5299",
   "metadata": {},
   "outputs": [],
   "source": [
    "timepoint_connections = pd.DataFrame(columns=[0, 1])\n",
    "index = 0\n",
    "\n",
    "timepoint_connections.loc[index, :] = ['pcw6.1', 'pcw7.2-1 ']; index += 1\n",
    "timepoint_connections.loc[index, :] = ['pcw7.2-1 ', 'pcw7.2-2 ']; index += 1\n",
    "timepoint_connections.loc[index, :] = ['pcw7.2-2 ', 'pcw8.4-1 ']; index += 1\n",
    "timepoint_connections.loc[index, :] = ['pcw8.4-1 ', 'pcw8.4-2']; index += 1\n",
    "timepoint_connections.loc[index, :] = ['pcw8.4-2', 'pcw9.0-1 ']; index += 1\n",
    "timepoint_connections.loc[index, :] = ['pcw9.0-1 ', 'pcw9.0-2 ']; index += 1\n",
    "timepoint_connections.loc[index, :] = ['pcw9.0-2 ', 'pcw9.3-1 ']; index += 1\n",
    "timepoint_connections.loc[index, :] = ['pcw9.3-1 ', 'pcw9.3-2']; index += 1\n",
    "timepoint_connections"
   ]
  },
  {
   "cell_type": "code",
   "execution_count": null,
   "id": "7fa01d06",
   "metadata": {},
   "outputs": [],
   "source": [
    "tp=adata.obs['norm_sample_stage']\n",
    "tp=tp.astype(str) \n",
    "tp"
   ]
  },
  {
   "cell_type": "code",
   "execution_count": null,
   "id": "23b1dc2b",
   "metadata": {},
   "outputs": [],
   "source": [
    "data_df=pd.DataFrame(adata.obsm[\"X_scANVI\"],index=adata.obs_names)\n",
    "data_df"
   ]
  },
  {
   "cell_type": "markdown",
   "id": "8c40b28b",
   "metadata": {},
   "source": [
    "specifying the number of neighbors helps define the level of granularity in identifying cell relationships. A smaller value like 10 will result in a more local and fine-grained view of cell-to-cell connections, whereas a larger value would capture more distant or global similarities."
   ]
  },
  {
   "cell_type": "code",
   "execution_count": null,
   "id": "03b4f109",
   "metadata": {},
   "outputs": [],
   "source": [
    "# generate the augmented affinity matrix (aug_aff) and the non-augmented matrix (aff)\n",
    "aug_aff, aff = harmony.core.augmented_affinity_matrix(data_df, tp, timepoint_connections,\n",
    "                                                      n_neighbors=20, pc_components=None)\n",
    "\n",
    "# add the augmented affinity matrix to obsm\n",
    "adata.obsm['X_aug_aff'] = aug_aff"
   ]
  },
  {
   "cell_type": "code",
   "execution_count": null,
   "id": "5ae25a21",
   "metadata": {},
   "outputs": [],
   "source": [
    "# computes force directed layout coordinates from the augmented aff matrix\n",
    "layout = harmony.plot.force_directed_layout(aug_aff, data_df.index)"
   ]
  },
  {
   "cell_type": "code",
   "execution_count": null,
   "id": "73bc61a9",
   "metadata": {},
   "outputs": [],
   "source": [
    "# add layout coordinates to the anndata object\n",
    "adata.obsm['X_force_directed_layout'] = layout\n",
    "adata.obsm['force_directed_array'] = adata.obsm['X_force_directed_layout'].values\n",
    "sc.pl.embedding(adata, basis='force_directed_array', color='norm_sample_stage',\n",
    "               frameon=False,\n",
    "               save='_embryoTendon_Harmony_Age.png')"
   ]
  },
  {
   "cell_type": "code",
   "execution_count": null,
   "id": "583a5a43",
   "metadata": {},
   "outputs": [],
   "source": [
    "harmony.plot.plot_timepoints(layout, tp)\n",
    "plt.savefig(os.path.join(FIGURES_FOLDERNAME, 'harmony_plot.svg'), format='svg')\n",
    "plt.savefig(os.path.join(FIGURES_FOLDERNAME, 'harmony_plot.png'), format='png')"
   ]
  },
  {
   "cell_type": "code",
   "execution_count": null,
   "id": "f4f2c864",
   "metadata": {},
   "outputs": [],
   "source": [
    "adata.obsm['X_umap_orig'] = adata.obsm['X_umap']"
   ]
  },
  {
   "cell_type": "code",
   "execution_count": null,
   "id": "e9e5a059",
   "metadata": {},
   "outputs": [],
   "source": [
    "adata.write(os.path.join(RESULTS_FOLDERNAME, 'tendonsubset_harmony.h5ad'))"
   ]
  },
  {
   "cell_type": "markdown",
   "id": "234afec1",
   "metadata": {},
   "source": [
    "## Palantir trajectory detection\n",
    "Palantir is an algorithm developed by the Pe'er lab to align cells along differentiation trajectories. Palantir models differentiation as a stochastic process where stem cells differentiate to terminally differentiated cells by a series of steps through a low dimensional phenotypic manifold. Palantir effectively captures the continuity in cell states and the stochasticity in cell fate determination.\n",
    "\n",
    "The first step in Palantir trajectory detection is to project data onto diffusion maps. Harmony augmented affinity matrix is used as the input for identifying diffusion maps. Please see https://github.com/dpeerlab/Palantir for more details on Palantir"
   ]
  },
  {
   "cell_type": "code",
   "execution_count": null,
   "id": "a1ab9142",
   "metadata": {},
   "outputs": [],
   "source": [
    "dm_res = palantir.utils.run_diffusion_maps(adata.obsm[\"X_aug_aff\"], knn=30)\n",
    "#dm_res = palantir.utils.run_diffusion_maps(pd.DataFrame(adata.obsm[\"X_aug_aff\"].toarray(),index=adata.obs_names))\n",
    "#dm_res = palantir.utils.run_diffusion_maps(pd.DataFrame(adata.obsm[\"X_scANVI\"],index=adata.obs_names),knn=100)\n",
    "#adata.obsp[\"T\"]=dm_res[\"T\"]\n",
    "adata.obsm[\"X_diff\"]=dm_res['EigenVectors'].values"
   ]
  },
  {
   "cell_type": "code",
   "execution_count": null,
   "id": "671d1d89",
   "metadata": {},
   "outputs": [],
   "source": [
    "sc.pp.neighbors(adata,n_neighbors=20,use_rep=\"X_diff\")\n",
    "sc.tl.paga(adata,\"C_scANVI\")\n",
    "sc.pl.paga(adata,threshold=.02, node_size_scale=2,\n",
    "           fontsize=6, fontoutline=1, frameon=False, \n",
    "           save='_xdiff.png'\n",
    "          )"
   ]
  },
  {
   "cell_type": "code",
   "execution_count": null,
   "id": "0dd2a09d",
   "metadata": {
    "scrolled": false
   },
   "outputs": [],
   "source": [
    "sc.tl.umap(adata,spread=.6, init_pos='paga')\n",
    "sc.pl.umap(adata, color='C_scANVI')"
   ]
  },
  {
   "cell_type": "code",
   "execution_count": null,
   "id": "96cd27e8",
   "metadata": {},
   "outputs": [],
   "source": [
    "sc.pl.umap(adata, color='ageint')"
   ]
  },
  {
   "cell_type": "code",
   "execution_count": null,
   "id": "27750ee8",
   "metadata": {},
   "outputs": [],
   "source": [
    "ms_data = palantir.utils.determine_multiscale_space(dm_res)\n",
    "adata.obsm[\"X_msdiff\"]=ms_data.values\n",
    "ms_data"
   ]
  },
  {
   "cell_type": "code",
   "execution_count": null,
   "id": "64828b5f",
   "metadata": {},
   "outputs": [],
   "source": [
    "%%time\n",
    "sc.tl.tsne(adata,use_rep=\"X_msdiff\",\n",
    "           perplexity=50,\n",
    "           learning_rate=adata.shape[0]/12\n",
    "          )"
   ]
  },
  {
   "cell_type": "code",
   "execution_count": null,
   "id": "827cfe6c",
   "metadata": {},
   "outputs": [],
   "source": [
    "sc.pl.tsne(adata,color=\"C_scANVI\", \n",
    "           frameon=False,\n",
    "           save='_msdiff.svg'\n",
    "          )\n",
    "#plt.savefig(os.path.join(FIGURES_FOLDERNAME, '20pcw_tendonfibro_msdiff_TSNE.svg'), format='svg')\n",
    "#plt.savefig(os.path.join(FIGURES_FOLDERNAME, '20pcw_tendonfibro_msdiff_TSNEpng.png'), format='png')\n",
    "# Image(filename=os.path.join(FIGURES_FOLDERNAME,'msdiff_TSNEpng.png'))"
   ]
  },
  {
   "cell_type": "code",
   "execution_count": null,
   "id": "c15755e5",
   "metadata": {},
   "outputs": [],
   "source": [
    "sc.pp.neighbors(adata, n_neighbors=20, use_rep=\"X_msdiff\")\n",
    "sc.tl.draw_graph(adata, init_pos=\"X_tsne\", \n",
    "                 maxiter=500)"
   ]
  },
  {
   "cell_type": "code",
   "execution_count": null,
   "id": "7c92e33c",
   "metadata": {},
   "outputs": [],
   "source": [
    "sc.pl.draw_graph(adata,\n",
    "                 color=\"ageint\", frameon=False,\n",
    "                 #save='_allagestendonfibro__age_msdiff.svg'\n",
    "                )"
   ]
  },
  {
   "cell_type": "code",
   "execution_count": null,
   "id": "ed339d0b",
   "metadata": {},
   "outputs": [],
   "source": [
    "sc.pl.draw_graph(adata,\n",
    "                 color=\"C_scANVI\", frameon=False,\n",
    "                 #save='_allagestendonfibro_msdiff.svg'\n",
    "                )\n",
    "#plt.savefig(os.path.join(FIGURES_FOLDERNAME, '20pcw_tendonfibro_msdiff_graph.png'), format='png')\n",
    "# Image(filename=os.path.join(FIGURES_FOLDERNAME,'msdiff_graph.png'))"
   ]
  },
  {
   "cell_type": "code",
   "execution_count": null,
   "id": "d67f5b8a",
   "metadata": {},
   "outputs": [],
   "source": [
    "adata.write(os.path.join(RESULTS_FOLDERNAME, 'tendonsubset_harmony.h5ad'))"
   ]
  },
  {
   "cell_type": "code",
   "execution_count": null,
   "id": "ac2621e7",
   "metadata": {},
   "outputs": [],
   "source": [
    "ms_data = pd.DataFrame(adata.obsm['X_msdiff'], index=adata.obs_names)\n",
    "ms_data"
   ]
  },
  {
   "cell_type": "code",
   "execution_count": null,
   "id": "93b90b16",
   "metadata": {},
   "outputs": [],
   "source": [
    "sc.pl.embedding(adata, basis='msdiff', color=['MKI67', 'DIAPH2', 'TOP2A', 'CENPK', 'CENPP', 'C_scANVI'], \n",
    "                components=[\"1, 2\"], ncols=3)"
   ]
  },
  {
   "cell_type": "code",
   "execution_count": null,
   "id": "9e9270f8",
   "metadata": {},
   "outputs": [],
   "source": [
    "sc.pl.embedding(adata, basis='msdiff', color=['MKX', 'SCX', 'TNMD', 'GAS2', 'ABI3BP', 'KERA', 'age', 'ageint'], \n",
    "                components=[\"1, 2\"], ncols=3)"
   ]
  },
  {
   "cell_type": "code",
   "execution_count": null,
   "id": "1ba65b1f",
   "metadata": {},
   "outputs": [],
   "source": [
    "sc.pl.embedding(adata, basis='msdiff', color=['MKX', 'SCX', 'GAS2', 'ABI3BP', 'SPARC', 'age'], \n",
    "                components=[\"2, 3\"], ncols=3)"
   ]
  },
  {
   "cell_type": "code",
   "execution_count": null,
   "id": "0d387911",
   "metadata": {},
   "outputs": [],
   "source": [
    "sc.pl.embedding(adata, basis='msdiff', color=['VIM', 'NES', 'THY1', 'ITGB1', 'TPPP3', 'CD44', 'TWIST2', 'C_scANVI'], \n",
    "                components=[\"1, 2\"], ncols=3)"
   ]
  }
 ],
 "metadata": {
  "kernelspec": {
   "display_name": "Python [conda env:seacells_env]",
   "language": "python",
   "name": "conda-env-seacells_env-py"
  },
  "language_info": {
   "codemirror_mode": {
    "name": "ipython",
    "version": 3
   },
   "file_extension": ".py",
   "mimetype": "text/x-python",
   "name": "python",
   "nbconvert_exporter": "python",
   "pygments_lexer": "ipython3",
   "version": "3.8.16"
  }
 },
 "nbformat": 4,
 "nbformat_minor": 5
}
