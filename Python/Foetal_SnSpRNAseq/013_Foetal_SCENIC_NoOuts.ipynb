{
 "cells": [
  {
   "cell_type": "code",
   "execution_count": null,
   "id": "1adf8e0a",
   "metadata": {},
   "outputs": [],
   "source": [
    "# Import dependencies\n",
    "import os, glob, re, pickle\n",
    "from functools import partial\n",
    "from collections import OrderedDict\n",
    "import operator as op\n",
    "from cytoolz import compose\n",
    "\n",
    "import numpy as np\n",
    "import pandas as pd\n",
    "import scanpy as sc\n",
    "import scipy as sp\n",
    "import loompy as lp\n",
    "import seaborn as sns\n",
    "import matplotlib as mpl\n",
    "import matplotlib.pyplot as plt\n",
    "import anndata\n",
    "\n",
    "from pyscenic.export import export2loom, add_scenic_metadata\n",
    "from pyscenic.utils import load_motifs\n",
    "from pyscenic.transform import df2regulons\n",
    "from pyscenic.aucell import aucell\n",
    "from pyscenic.binarization import binarize\n",
    "from pyscenic.rss import regulon_specificity_scores\n",
    "from pyscenic.plotting import plot_binarization, plot_rss\n",
    "\n",
    "from IPython.display import HTML, display\n",
    "\n",
    "# Print date and time:\n",
    "import datetime\n",
    "e = datetime.datetime.now()\n",
    "print (\"Current date and time = %s\" % e)\n",
    "\n",
    "wdir = \"/mnt/da8aa2c4-0136-465b-87a2-d12a59afec55/akurjan/analysis/notebooks\"\n",
    "os.chdir( wdir )\n",
    "\n",
    "# folder structures\n",
    "SCVI_FOLDERNAME = \"foetal/results/scVI/\"\n",
    "RESULTS_FOLDERNAME = \"foetal/results/Scenic/\"\n",
    "FIGURES_FOLDERNAME = \"foetal/results/Scenic/\"\n",
    "AUXILLIARIES_FOLDERNAME = \"../files/auxilliaries/\"\n",
    "\n",
    "if not os.path.exists(RESULTS_FOLDERNAME):\n",
    "    os.makedirs(RESULTS_FOLDERNAME)\n",
    "if not os.path.exists(FIGURES_FOLDERNAME):\n",
    "    os.makedirs(FIGURES_FOLDERNAME)\n",
    "\n",
    "# Set folder for saving figures into\n",
    "sc.settings.figdir = FIGURES_FOLDERNAME\n",
    "\n",
    "# Set other settings\n",
    "sc.settings.verbosity = 3 # verbosity: errors (0), warnings (1), info (2), hints (3)\n",
    "sc.logging.print_versions()\n",
    "sc.set_figure_params(dpi=150, fontsize=10, dpi_save=600)"
   ]
  },
  {
   "cell_type": "code",
   "execution_count": null,
   "id": "1ee00577",
   "metadata": {},
   "outputs": [],
   "source": [
    "DATASET_ID = \"foetal\"\n",
    "\n",
    "ADJACENCIES_FNAME = os.path.join(RESULTS_FOLDERNAME, '{}.adjacencies.tsv'.format(DATASET_ID))\n",
    "MOTIFS_FNAME = os.path.join(RESULTS_FOLDERNAME, '{}.motifs.csv'.format(DATASET_ID))\n",
    "REGULONS_DAT_FNAME = os.path.join(RESULTS_FOLDERNAME, '{}.regulons.dat'.format(DATASET_ID))\n",
    "AUCELL_MTX_FNAME = os.path.join(RESULTS_FOLDERNAME, '{}.auc.csv'.format(DATASET_ID))\n",
    "BIN_MTX_FNAME = os.path.join(RESULTS_FOLDERNAME, '{}.bin.csv'.format(DATASET_ID))\n",
    "THR_FNAME = os.path.join(RESULTS_FOLDERNAME, '{}.thresholds.csv'.format(DATASET_ID))\n",
    "ANNDATA_FNAME = os.path.join(RESULTS_FOLDERNAME, '{}.h5ad'.format(DATASET_ID))\n",
    "LOOM_FNAME = os.path.join(RESULTS_FOLDERNAME, '{}.scenic.loom'.format(DATASET_ID))\n",
    "RES_FNAME = os.path.join(RESULTS_FOLDERNAME, '{}.regulon_mat.csv'.format(DATASET_ID))\n",
    "\n",
    "\n",
    "def savesvg(fname: str, fig, folder: str=FIGURES_FOLDERNAME) -> None:\n",
    "    \"\"\"\n",
    "    Save figure as vector-based SVG image format.\n",
    "    \"\"\"\n",
    "    fig.tight_layout()\n",
    "    fig.savefig(os.path.join(folder, fname), format='svg')"
   ]
  },
  {
   "cell_type": "markdown",
   "id": "eea9a023",
   "metadata": {},
   "source": [
    "# Downloading files"
   ]
  },
  {
   "cell_type": "markdown",
   "id": "e3a18184",
   "metadata": {},
   "source": [
    "Pick and download from https://resources.aertslab.org/cistarget/:"
   ]
  },
  {
   "cell_type": "markdown",
   "id": "f69f94ec",
   "metadata": {},
   "source": [
    "### v9"
   ]
  },
  {
   "cell_type": "code",
   "execution_count": null,
   "id": "6626bf36",
   "metadata": {},
   "outputs": [],
   "source": [
    "!wget https://resources.aertslab.org/cistarget/databases/homo_sapiens/hg38/refseq_r80/mc9nr/gene_based/hg38__refseq-r80__10kb_up_and_down_tss.mc9nr.genes_vs_motifs.rankings.feather"
   ]
  },
  {
   "cell_type": "code",
   "execution_count": null,
   "id": "787e3e75",
   "metadata": {},
   "outputs": [],
   "source": [
    "!wget https://resources.aertslab.org/cistarget/databases/homo_sapiens/hg38/refseq_r80/mc9nr/gene_based/hg38__refseq-r80__500bp_up_and_100bp_down_tss.mc9nr.genes_vs_motifs.rankings.feather"
   ]
  },
  {
   "cell_type": "code",
   "execution_count": null,
   "id": "78786f93",
   "metadata": {},
   "outputs": [],
   "source": [
    "!wget https://resources.aertslab.org/cistarget/motif2tf/motifs-v9-nr.hgnc-m0.001-o0.0.tbl"
   ]
  },
  {
   "cell_type": "code",
   "execution_count": null,
   "id": "6aef1e39",
   "metadata": {},
   "outputs": [],
   "source": [
    "!wget https://resources.aertslab.org/cistarget/tf_lists/allTFs_hg38.txt"
   ]
  },
  {
   "cell_type": "markdown",
   "id": "3811a518",
   "metadata": {},
   "source": [
    "### v10"
   ]
  },
  {
   "cell_type": "code",
   "execution_count": null,
   "id": "f220c651",
   "metadata": {},
   "outputs": [],
   "source": [
    "!wget https://resources.aertslab.org/cistarget/databases/homo_sapiens/hg38/refseq_r80/mc_v10_clust/gene_based/hg38_10kbp_up_10kbp_down_full_tx_v10_clust.genes_vs_motifs.rankings.feather"
   ]
  },
  {
   "cell_type": "code",
   "execution_count": null,
   "id": "58bb0caf",
   "metadata": {},
   "outputs": [],
   "source": [
    "!wget https://resources.aertslab.org/cistarget/databases/homo_sapiens/hg38/refseq_r80/mc_v10_clust/gene_based/hg38_500bp_up_100bp_down_full_tx_v10_clust.genes_vs_motifs.rankings.feather"
   ]
  },
  {
   "cell_type": "code",
   "execution_count": null,
   "id": "ba7f9391",
   "metadata": {},
   "outputs": [],
   "source": [
    "!wget https://resources.aertslab.org/cistarget/motif2tf/motifs-v10nr_clust-nr.hgnc-m0.001-o0.0.tbl"
   ]
  },
  {
   "cell_type": "code",
   "execution_count": null,
   "id": "1ed6d815",
   "metadata": {},
   "outputs": [],
   "source": [
    "# transcription factors list from https://github.com/aertslab/SCENICprotocol/blob/master/example/\n",
    "HUMAN_TFS_FNAME = os.path.join(AUXILLIARIES_FOLDERNAME, 'allTFs_hg38.txt')\n",
    "# Ranking databases. Downloaded from cisTargetDB: https://resources.aertslab.org/cistarget/\n",
    "RANKING_DBS_FNAMES = list(map(lambda fn: os.path.join(AUXILLIARIES_FOLDERNAME, fn),\n",
    "                        ['hg38_500bp_up_100bp_down_full_tx_v10_clust.genes_vs_motifs.rankings.feather',\n",
    "                        'hg38_10kbp_up_10kbp_down_full_tx_v10_clust.genes_vs_motifs.rankings.feather']))\n",
    "# Motif annotations. Downloaded from cisTargetDB: https://resources.aertslab.org/cistarget/\n",
    "MOTIF_ANNOTATIONS_FNAME = os.path.join(AUXILLIARIES_FOLDERNAME, 'motifs-v10nr_clust-nr.hgnc-m0.001-o0.0.tbl')"
   ]
  },
  {
   "cell_type": "markdown",
   "id": "0bb07126",
   "metadata": {},
   "source": [
    "# SCENIC Loom File Prep"
   ]
  },
  {
   "cell_type": "code",
   "execution_count": null,
   "id": "9dc7cb54",
   "metadata": {},
   "outputs": [],
   "source": [
    "adata=sc.read_h5ad(os.path.join(SCVI_FOLDERNAME, 'dev_scANVI.h5ad'))\n",
    "adata"
   ]
  },
  {
   "cell_type": "code",
   "execution_count": null,
   "id": "bd6fde53",
   "metadata": {},
   "outputs": [],
   "source": [
    "print(adata.var_names)\n",
    "print(adata.obs_names)"
   ]
  },
  {
   "cell_type": "code",
   "execution_count": null,
   "id": "cc9be3f4",
   "metadata": {},
   "outputs": [],
   "source": [
    "# check counts:\n",
    "print(adata.X[1:5,1:5])"
   ]
  },
  {
   "cell_type": "code",
   "execution_count": null,
   "id": "0d6f7652",
   "metadata": {},
   "outputs": [],
   "source": [
    "print(adata.layers['counts'][1:5,1:5])"
   ]
  },
  {
   "cell_type": "code",
   "execution_count": null,
   "id": "93f398d9",
   "metadata": {},
   "outputs": [],
   "source": [
    "adata_age_dict = {}\n",
    "for pcw in adata.obs.age.unique():\n",
    "    subset = adata[adata.obs['age']==pcw].copy()\n",
    "    adata_age_dict[pcw] = subset\n",
    "    print(f'{subset.n_obs}, {subset.n_vars}')\n",
    "    #loomdata=sc.AnnData(subset.layers['counts'],obs=subset.obs,var=subset.var)\n",
    "    #loomdata.write_loom(os.path.join(RESULTS_FOLDERNAME, f'dev_scenic_input_{pcw}.loom'))\n",
    "    \n",
    "#del loomdata\n",
    "del subset"
   ]
  },
  {
   "cell_type": "code",
   "execution_count": null,
   "id": "7986ac23",
   "metadata": {},
   "outputs": [],
   "source": [
    "adata_age_dict"
   ]
  },
  {
   "cell_type": "code",
   "execution_count": null,
   "id": "0bb73a64",
   "metadata": {},
   "outputs": [],
   "source": [
    "INPUT_LOOM_FNAME = os.path.join(SCVI_FOLDERNAME, 'dev_scenicinput.loom')"
   ]
  },
  {
   "cell_type": "markdown",
   "id": "c14da07a",
   "metadata": {},
   "source": [
    "# SCENIC"
   ]
  },
  {
   "cell_type": "markdown",
   "id": "163b73ff",
   "metadata": {},
   "source": [
    "### Checking parameters for AUCELL (step 3)\n",
    "\n",
    "\"It is important to check that most cells have a substantial fraction of expressed/detected genes in the calculation of the AUC. The following histogram gives an idea of the distribution and allows selection of an appropriate threshold. In this plot, a few thresholds are highlighted, with the number of genes selected shown in red text and the corresponding percentile in parentheses).\" \"See the relevant section in the R tutorial (https://scenic.aertslab.org/scenic_paper/tutorials/AUCell.html#build-gene-expression-rankings-for-each-cell) for more information.\"\n",
    "\n",
    "The information obtained from this plot can be used to set appropriate thresholds for filtering out low-quality cells or genes from downstream analysis. For example, cells with very low numbers of detected genes may be considered low-quality and removed from the dataset. Conversely, genes that are detected in only a small number of cells may also be filtered out as potential noise."
   ]
  },
  {
   "cell_type": "code",
   "execution_count": null,
   "id": "bbcc2434",
   "metadata": {
    "scrolled": false
   },
   "outputs": [],
   "source": [
    "for adata in adata_age_dict.values():\n",
    "    # Check thresholds for aucell\n",
    "    nGenesDetectedPerCell = pd.DataFrame(np.sum(adata.X>0, axis=1))\n",
    "    nGenesDetectedPerCell = nGenesDetectedPerCell.squeeze()\n",
    "\n",
    "    percentiles = nGenesDetectedPerCell.quantile([0.01, 0.05, 0.10, 0.50, 1])\n",
    "    print(percentiles)\n",
    "\n",
    "    fig, ax = plt.subplots(1, 1, figsize=(8, 5), dpi=150)\n",
    "    sns.distplot(nGenesDetectedPerCell, norm_hist=False, kde=False, bins='fd')\n",
    "    for i,x in enumerate(percentiles):\n",
    "        fig.gca().axvline(x=x, ymin=0,ymax=1, color='red')\n",
    "        ax.text(x=x, y=ax.get_ylim()[1], s=f'{int(x)} ({percentiles.index.values[i]*100}%)', color='red', rotation=30, size='x-small',rotation_mode='anchor' )\n",
    "    ax.set_title('# of genes detected per cell')\n",
    "    ax.set_xlabel('# of genes')\n",
    "    ax.set_ylabel('# of cells')\n",
    "    fig.tight_layout()"
   ]
  },
  {
   "cell_type": "markdown",
   "id": "d7afaf39",
   "metadata": {},
   "source": [
    "The `--auc_threshold` value determines the minimum Area Under the Curve (AUC) score that a gene must have in order to be considered significant. By setting the `--auc_threshold` parameter to a specific value, we control the stringency of the gene signature enrichment analysis. Genes with AUC scores below the threshold are considered non-significant and are excluded from downstream analysis. A lower threshold value will result in more genes being considered significant, while a higher threshold value will result in fewer genes being considered significant. The choice of threshold value will depend on the specific research question and the quality of the data.\n",
    "\n",
    "During the SCENIC workflow, the AUC score is used to assess the enrichment of each gene signature in each cell type or condition. The AUC score reflects the ability of a gene signature to discriminate between the expression profiles of two cell types or conditions. Genes with high AUC scores are considered to be strongly associated with the gene signature and are likely to play an important role in the biological process or pathway represented by the signature.\n",
    "\n",
    "In general, it is recommended to use a threshold that strikes a balance between sensitivity and specificity in identifying significant genes. Setting a low threshold value will result in more genes being identified as significant, but may also increase the risk of false positives. Setting a high threshold value will reduce the number of false positives, but may also lead to false negatives and miss important genes.\n",
    "\n",
    "One approach to selecting an appropriate threshold value is to consider the distribution of AUC scores across all genes in the dataset. If the distribution is bimodal, with one peak representing non-significant genes and another peak representing significant genes, the threshold can be set at the valley between the two peaks. However, if the distribution is unimodal or irregular, other methods can be used.\n",
    "\n",
    "- By using the setting for `--auc_threshold` of 0.05, we see that 507 genes are selected for the rankings based on the plot above."
   ]
  },
  {
   "cell_type": "markdown",
   "id": "5645eb2c",
   "metadata": {},
   "source": [
    "# ALL JOBS COMPUTATIONALLY HEAVY, RUN ON CCB CLUSTER \n",
    "(JUMBO NODE)"
   ]
  },
  {
   "cell_type": "markdown",
   "id": "f3bef1c4",
   "metadata": {},
   "source": [
    "#### STEP 1: Network inference based on GRNBoost2:"
   ]
  },
  {
   "cell_type": "code",
   "execution_count": null,
   "id": "db27a3ed",
   "metadata": {
    "scrolled": true
   },
   "outputs": [],
   "source": [
    "!pyscenic grn {INPUT_LOOM_FNAME} {HUMAN_TFS_FNAME} \\\n",
    "-o {ADJACENCIES_FNAME} \\\n",
    "--seed 4000 \\\n",
    "--num_workers 40\n",
    "-q"
   ]
  },
  {
   "cell_type": "markdown",
   "id": "6579aec8",
   "metadata": {},
   "source": [
    "alternative used on the CCB cluster:"
   ]
  },
  {
   "cell_type": "code",
   "execution_count": null,
   "id": "142d7363",
   "metadata": {},
   "outputs": [],
   "source": [
    "arboreto_with_multiprocessing.py {INPUT_LOOM_FNAME} {HUMAN_TFS_FNAME} \\\n",
    "-o {ADJACENCIES_FNAME} \\\n",
    "--num_workers 8 \\\n",
    "--method grnboost2 \\\n",
    "--seed 4000"
   ]
  },
  {
   "cell_type": "markdown",
   "id": "777016ef",
   "metadata": {},
   "source": [
    "#### STEP2: Regulon prediction (cisTarget):"
   ]
  },
  {
   "cell_type": "code",
   "execution_count": null,
   "id": "f6e24df6",
   "metadata": {},
   "outputs": [],
   "source": [
    "DBS_PARAM = ' '.join(RANKING_DBS_FNAMES)\n",
    "DBS_PARAM"
   ]
  },
  {
   "cell_type": "code",
   "execution_count": null,
   "id": "4462d3a4",
   "metadata": {},
   "outputs": [],
   "source": [
    "!pyscenic ctx {ADJACENCIES_FNAME} {DBS_PARAM} \\ \n",
    "--annotations_fname {MOTIF_ANNOTATIONS_FNAME} \\ \n",
    "--expression_mtx_fname {INPUT_LOOM_FNAME} \\ \n",
    "--output {MOTIFS_FNAME} \\\n",
    "--auc_threshold 0.05"
   ]
  },
  {
   "cell_type": "markdown",
   "id": "53a2300b",
   "metadata": {},
   "source": [
    "#### STEP3: AUCELL: CHECK APPROPRIATE AUC_THRESHOLD TO SET BEFORE RUNNING (see below)"
   ]
  },
  {
   "cell_type": "code",
   "execution_count": null,
   "id": "c003ce0b",
   "metadata": {},
   "outputs": [],
   "source": [
    "!pyscenic aucell {INPUT_LOOM_FNAME} \\\n",
    "{MOTIF_ANNOTATIONS_FNAME} \\ \n",
    "--output {LOOM_FNAME} \\\n",
    "--auc_threshold 0.05"
   ]
  },
  {
   "cell_type": "markdown",
   "id": "0c3db261",
   "metadata": {},
   "source": [
    "# 20w Tendons"
   ]
  },
  {
   "cell_type": "markdown",
   "id": "d00d75f3",
   "metadata": {},
   "source": [
    "# Checking motifs"
   ]
  },
  {
   "cell_type": "code",
   "execution_count": null,
   "id": "008d8896",
   "metadata": {},
   "outputs": [],
   "source": [
    "DATASET_ID = \"20w_foetal\"\n",
    "\n",
    "ADJACENCIES_FNAME = os.path.join(RESULTS_FOLDERNAME, '{}.adjacencies.tsv'.format(DATASET_ID))\n",
    "MOTIFS_FNAME = os.path.join(RESULTS_FOLDERNAME, '{}.motifs.csv'.format(DATASET_ID))\n",
    "REGULONS_DAT_FNAME = os.path.join(RESULTS_FOLDERNAME, '{}.regulons.dat'.format(DATASET_ID))\n",
    "AUCELL_MTX_FNAME = os.path.join(RESULTS_FOLDERNAME, '{}.auc.csv'.format(DATASET_ID))\n",
    "BIN_MTX_FNAME = os.path.join(RESULTS_FOLDERNAME, '{}.bin.csv'.format(DATASET_ID))\n",
    "THR_FNAME = os.path.join(RESULTS_FOLDERNAME, '{}.thresholds.csv'.format(DATASET_ID))\n",
    "ANNDATA_FNAME = os.path.join(RESULTS_FOLDERNAME, '{}.h5ad'.format(DATASET_ID))\n",
    "LOOM_FNAME = os.path.join(RESULTS_FOLDERNAME, '{}_005AUC.scenic.loom'.format(DATASET_ID))\n",
    "RES_FNAME = os.path.join(RESULTS_FOLDERNAME, '{}.regulon_mat.csv'.format(DATASET_ID))"
   ]
  },
  {
   "cell_type": "code",
   "execution_count": null,
   "id": "cda52a6c",
   "metadata": {},
   "outputs": [],
   "source": [
    "df_motifs = load_motifs(MOTIFS_FNAME)"
   ]
  },
  {
   "cell_type": "code",
   "execution_count": null,
   "id": "cd2b6292",
   "metadata": {},
   "outputs": [],
   "source": [
    "df_motifs.head()"
   ]
  },
  {
   "cell_type": "code",
   "execution_count": null,
   "id": "37f48cb8",
   "metadata": {},
   "outputs": [],
   "source": [
    "def derive_regulons(motifs, db_names=('hg38__refseq-r80__10kb_up_and_down_tss.mc9nr', \n",
    "                                      'hg38__refseq-r80__500bp_up_and_100bp_down_tss.mc9nr')):\n",
    "    motifs.columns = motifs.columns.droplevel(0)\n",
    "\n",
    "    def contains(*elems):\n",
    "        def f(context):\n",
    "            return any(elem in context for elem in elems)\n",
    "        return f\n",
    "\n",
    "    # For the creation of regulons we only keep the 10-species databases and the activating modules. We also remove the\n",
    "    # enriched motifs for the modules that were created using the method 'weight>50.0%' (because these modules are not part\n",
    "    # of the default settings of modules_from_adjacencies anymore.\n",
    "    motifs = motifs[\n",
    "        np.fromiter(map(compose(op.not_, contains('weight>50.0%')), motifs.Context), dtype=np.bool) & \\\n",
    "        np.fromiter(map(contains(*db_names), motifs.Context), dtype=np.bool) & \\\n",
    "        np.fromiter(map(contains('activating'), motifs.Context), dtype=np.bool)]\n",
    "\n",
    "    # We build regulons only using enriched motifs with a NES of 3.0 or higher; we take only directly annotated TFs or TF annotated\n",
    "    # for an orthologous gene into account; and we only keep regulons with at least 10 genes.\n",
    "    regulons = list(filter(lambda r: len(r) >= 10, df2regulons(motifs[(motifs['NES'] >= 3.0) \n",
    "                                                                      & ((motifs['Annotation'] == 'gene is directly annotated')\n",
    "                                                                        | (motifs['Annotation'].str.startswith('gene is orthologous to')\n",
    "                                                                           & motifs['Annotation'].str.endswith('which is directly annotated for motif')))\n",
    "                                                                     ])))\n",
    "    \n",
    "    # Rename regulons, i.e. remove suffix.\n",
    "    return list(map(lambda r: r.rename(r.transcription_factor), regulons))"
   ]
  },
  {
   "cell_type": "code",
   "execution_count": null,
   "id": "8398ba7c",
   "metadata": {},
   "outputs": [],
   "source": [
    "#regulons = derive_regulons(df_motifs)\n",
    "#len(regulons)"
   ]
  },
  {
   "cell_type": "code",
   "execution_count": null,
   "id": "116fb97e",
   "metadata": {},
   "outputs": [],
   "source": [
    "regulons = df2regulons(df_motifs)"
   ]
  },
  {
   "cell_type": "code",
   "execution_count": null,
   "id": "8d011fd0",
   "metadata": {},
   "outputs": [],
   "source": [
    "# Pickle these regulons.\n",
    "with open(REGULONS_DAT_FNAME, 'wb') as f:\n",
    "    pickle.dump(regulons, f)"
   ]
  },
  {
   "cell_type": "markdown",
   "id": "8a50d805",
   "metadata": {},
   "source": [
    "# Visualization of SCENIC's AUC matrix"
   ]
  },
  {
   "cell_type": "code",
   "execution_count": null,
   "id": "c89dbde3",
   "metadata": {},
   "outputs": [],
   "source": [
    "#lf = lp.connect(os.path.join(RESULTS_FOLDERNAME, '..._005AUC.scenic.loom'))\n",
    "lf = lp.connect(LOOM_FNAME, mode='r+', validate=False )\n",
    "auc_mtx = pd.DataFrame( lf.ca.RegulonsAUC, index=lf.ca.CellID)\n",
    "#exprMat = pd.DataFrame( lf[:,:], index=lf.ra.Gene, columns=lf.ca.CellID)\n",
    "regulons = lf.ra.Regulons\n",
    "#res=pd.concat([pd.Series(r.tolist(),index=regulons.dtype.names) for r in regulons],axis=1)\n",
    "#res.columns=lf.row_attrs[\"Gene\"]\n",
    "#res.to_csv(RES_FNAME)\n",
    "lf.close()"
   ]
  },
  {
   "cell_type": "code",
   "execution_count": null,
   "id": "592db954",
   "metadata": {},
   "outputs": [],
   "source": [
    "# Pickle these regulons.\n",
    "with open(REGULONS_DAT_FNAME, 'wb') as f:\n",
    "    pickle.dump(regulons, f)"
   ]
  },
  {
   "cell_type": "code",
   "execution_count": null,
   "id": "06947a38",
   "metadata": {},
   "outputs": [],
   "source": [
    "auc_mtx"
   ]
  },
  {
   "cell_type": "code",
   "execution_count": null,
   "id": "fdee823a",
   "metadata": {},
   "outputs": [],
   "source": [
    "sns.clustermap(auc_mtx, figsize=(12,12))"
   ]
  },
  {
   "cell_type": "markdown",
   "id": "5d579818",
   "metadata": {},
   "source": [
    "## Regulon Binarization"
   ]
  },
  {
   "cell_type": "code",
   "execution_count": null,
   "id": "c66dbf6a",
   "metadata": {},
   "outputs": [],
   "source": [
    "#%timeit bin_mtx, thresholds = binarize(auc_mtx.iloc[:10, :10]) \n",
    "#%timeit bin_mtx, thresholds = binarize(auc_mtx.iloc[:100, :10]) \n",
    "#%timeit bin_mtx, thresholds = binarize(auc_mtx.iloc[:1000, :10]) \n",
    "\n",
    "#%%time #takes about 40 min\n",
    "bin_mtx, thresholds = binarize(auc_mtx)\n",
    "bin_mtx.to_csv(BIN_MTX_FNAME) \n",
    "thresholds.to_frame().rename(columns={0:'threshold'}).to_csv(THR_FNAME)"
   ]
  },
  {
   "cell_type": "code",
   "execution_count": null,
   "id": "5be3a7ce",
   "metadata": {},
   "outputs": [],
   "source": [
    "bin_mtx = pd.read_csv(BIN_MTX_FNAME, index_col=0)\n",
    "thresholds = pd.read_csv(THR_FNAME, index_col=0).threshold"
   ]
  },
  {
   "cell_type": "code",
   "execution_count": null,
   "id": "2e93806a",
   "metadata": {},
   "outputs": [],
   "source": [
    "bin_mtx"
   ]
  },
  {
   "cell_type": "code",
   "execution_count": null,
   "id": "a1c47bc4",
   "metadata": {},
   "outputs": [],
   "source": [
    "thresholds"
   ]
  },
  {
   "cell_type": "code",
   "execution_count": null,
   "id": "86818881",
   "metadata": {},
   "outputs": [],
   "source": [
    "# Create heatmap with binarized regulon activity.\n",
    "\n",
    "def palplot(pal, names, colors=None, size=1):\n",
    "    n = len(pal)\n",
    "    f, ax = plt.subplots(1, 1, figsize=(n * size, size))\n",
    "    ax.imshow(np.arange(n).reshape(1, n),\n",
    "              cmap=mpl.colors.ListedColormap(list(pal)),\n",
    "              interpolation=\"nearest\", aspect=\"auto\")\n",
    "    ax.set_xticks(np.arange(n) - .5)\n",
    "    ax.set_yticks([-.5, .5])\n",
    "    ax.set_xticklabels([])\n",
    "    ax.set_yticklabels([])\n",
    "    colors = n * ['k'] if colors is None else colors\n",
    "    for idx, (name, color) in enumerate(zip(names, colors)):\n",
    "        ax.text(0.0+idx, 0.0, name, color=color, horizontalalignment='center', verticalalignment='center')\n",
    "    return f"
   ]
  },
  {
   "cell_type": "code",
   "execution_count": null,
   "id": "02858f50",
   "metadata": {},
   "outputs": [],
   "source": [
    "adata_age_dict['20w'].obs['C_scANVI'].value_counts()"
   ]
  },
  {
   "cell_type": "code",
   "execution_count": null,
   "id": "fa872390",
   "metadata": {},
   "outputs": [],
   "source": [
    "adata = adata_age_dict['20w'].copy()"
   ]
  },
  {
   "cell_type": "code",
   "execution_count": null,
   "id": "e1560641",
   "metadata": {},
   "outputs": [],
   "source": [
    "adata.uns['cell_type_colors']"
   ]
  },
  {
   "cell_type": "code",
   "execution_count": null,
   "id": "45b17066",
   "metadata": {},
   "outputs": [],
   "source": [
    "import matplotlib as mpl\n",
    "#import colorcet as cc\n",
    "\n",
    "cats = sorted(list(set(adata.obs['C_scANVI'])))\n",
    "colors = sns.color_palette(adata.uns['cell_type_colors'], n_colors=len(cats)) #alt palette = 'bright'\n",
    "colorsd = dict( zip( cats, colors ))\n",
    "colormap = [ colorsd[x] for x in adata.obs['C_scANVI'] ]\n",
    "\n",
    "cell_id2cell_type_lut =adata.obs['C_scANVI'].to_dict()\n",
    "bw_palette = sns.xkcd_palette([\"white\", \"black\"])"
   ]
  },
  {
   "cell_type": "code",
   "execution_count": null,
   "id": "b041ab93",
   "metadata": {},
   "outputs": [],
   "source": [
    "sns.set()\n",
    "sns.set_style(\"whitegrid\")\n",
    "fig = palplot(bw_palette, ['OFF', 'ON'], ['k', 'w'])\n",
    "savesvg('20w_legend_on_off.svg', fig)\n",
    "\n",
    "sns.set()\n",
    "sns.set(font_scale=1.0)\n",
    "fig = palplot(colors, cats, size=2.5)\n",
    "savesvg('20w_legend_celltypes.svg', fig)\n",
    "\n",
    "#sns.set()\n",
    "#sns.set(font_scale=1.0)\n",
    "#fig = palplot(sns.color_palette(COLORS), adata.obs['CellType'].dtype.categories, size=3.0)"
   ]
  },
  {
   "cell_type": "code",
   "execution_count": null,
   "id": "b34da0eb",
   "metadata": {
    "scrolled": false
   },
   "outputs": [],
   "source": [
    "sns.set()\n",
    "sns.set(font_scale=1.0)\n",
    "sns.set_style(\"ticks\", {\"xtick.minor.size\": 1, \"ytick.minor.size\": 0.1})\n",
    "g = sns.clustermap(bin_mtx.T, \n",
    "               col_colors=auc_mtx.index.map(cell_id2cell_type_lut).map(colorsd),\n",
    "               cmap=bw_palette, figsize=(20,20))\n",
    "g.ax_heatmap.set_xticklabels([])\n",
    "g.ax_heatmap.set_xticks([])\n",
    "g.ax_heatmap.set_xlabel('Cells')\n",
    "g.ax_heatmap.set_ylabel('Regulons')\n",
    "g.ax_col_colors.set_yticks([0.5])\n",
    "g.ax_col_colors.set_yticklabels(['Cell Type'])\n",
    "g.cax.set_visible(False)\n",
    "g.fig.savefig(os.path.join(FIGURES_FOLDERNAME, 'binarizedregulonheatmap_20w.jpeg'), format='jpeg')"
   ]
  },
  {
   "cell_type": "code",
   "execution_count": null,
   "id": "ba645a75",
   "metadata": {},
   "outputs": [],
   "source": [
    "## For subsets:\n",
    "\n",
    "# genes = set(adata.obs.index)\n",
    "# bin_mtx_sm = bin_mtx[bin_mtx.index.isin(genes)]\n",
    "# bin_mtx_sm\n",
    "\n",
    "# auc_mtx_sm = auc_mtx[auc_mtx.index.isin(genes)]\n",
    "# auc_mtx_sm"
   ]
  },
  {
   "cell_type": "code",
   "execution_count": null,
   "id": "16f65533",
   "metadata": {},
   "outputs": [],
   "source": [
    "## need to half the dataframe!\n",
    "bin_mtx_clustered = bin_mtx.T.copy()\n",
    "bin_mtx_clustered.rename(columns=adata.obs['C_scANVI'].to_dict(), inplace=True)\n",
    "# bin_mtx_clustered.iloc[g.dendrogram_row.reordered_ind, g.dendrogram_col.reordered_ind].to_excel(os.path.join(RESULTS_FOLDERNAME, 'Binarized_regulon_activity_1.xlsx'))"
   ]
  },
  {
   "cell_type": "code",
   "execution_count": null,
   "id": "6f54cb4d",
   "metadata": {},
   "outputs": [],
   "source": [
    "bin_mtx_clustered"
   ]
  },
  {
   "cell_type": "code",
   "execution_count": null,
   "id": "46eaf627",
   "metadata": {},
   "outputs": [],
   "source": [
    "bin_mtx_clustered_fibro = bin_mtx_clustered.loc[:,['COL3A1hi LUMhi Fibroblasts', 'THBS4hi Fibroblasts', 'FMODhi KERAhi Fibroblasts']]\n",
    "bin_mtx_clustered_fibro.to_excel(os.path.join(RESULTS_FOLDERNAME, 'Binarized_regulon_activity_fibroblasts2.xlsx'))\n",
    "bin_mtx_clustered_fibro"
   ]
  },
  {
   "cell_type": "code",
   "execution_count": null,
   "id": "19bd9966",
   "metadata": {},
   "outputs": [],
   "source": [
    "# figure out how to easily look up highly expr. regulons for each cell type...\n",
    "# bin_mtx_clustered.loc[:, 'COL3A1hi LUMhi Fibroblasts']"
   ]
  },
  {
   "cell_type": "markdown",
   "id": "c5000810",
   "metadata": {},
   "source": [
    "### Clustermap with changing cell colors for grouping similar cells together (optional)"
   ]
  },
  {
   "cell_type": "code",
   "execution_count": null,
   "id": "bcf25d37",
   "metadata": {},
   "outputs": [],
   "source": [
    "# altered_col = sns.color_palette(\n",
    "#     ['#0072b2',\n",
    "#  '#018700',\n",
    "#  '#ffa52f',\n",
    "#  '#97ff00', # fibro A\n",
    "#  '#97ff00',\n",
    "#  '#97ff00',\n",
    "#  '#97ff00',\n",
    "#  '#000000', #grem1 '#b500ff'\n",
    "#  '#FFFFFF', #hsphi\n",
    "#  '#afa5ff',\n",
    "#  '#000000',\n",
    "#  '#00fdcf', #'#9a6900'\n",
    "#  '#d60000',\n",
    "#  '#d3008c',\n",
    "#  '#fdf490',\n",
    "#  '#b500ff'])# '#0072b2'\n",
    "# altered_col\n",
    "\n",
    "# cats = sorted(list(set(adata.obs['CellType'])))\n",
    "# colors = altered_col\n",
    "# colorsd = dict( zip( cats, colors ))\n",
    "# colormap = [ colorsd[x] for x in adata.obs['CellType'] ]"
   ]
  },
  {
   "cell_type": "code",
   "execution_count": null,
   "id": "eecf2918",
   "metadata": {},
   "outputs": [],
   "source": [
    "# sns.set()\n",
    "# sns.set_style(\"whitegrid\")\n",
    "# fig = palplot(bw_palette, ['OFF', 'ON'], ['k', 'w'])\n",
    "# savesvg('legend_on_off.svg', fig)\n",
    "\n",
    "# sns.set()\n",
    "# sns.set(font_scale=1.0)\n",
    "# fig = palplot(colors, cats, size=2.5)\n",
    "# savesvg('legend_celltypes_noUnassigned_fibrogrouped.svg', fig)"
   ]
  },
  {
   "cell_type": "code",
   "execution_count": null,
   "id": "f020f246",
   "metadata": {},
   "outputs": [],
   "source": [
    "# sns.set()\n",
    "# sns.set(font_scale=1.0)\n",
    "# sns.set_style(\"ticks\", {\"xtick.minor.size\": 1, \"ytick.minor.size\": 0.1})\n",
    "# g = sns.clustermap(bin_mtx_sm.T, \n",
    "#                col_colors=auc_mtx_sm.index.map(cell_id2cell_type_lut).map(colorsd),\n",
    "#                cmap=bw_palette, figsize=(20,20))\n",
    "# g.ax_heatmap.set_xticklabels([])\n",
    "# g.ax_heatmap.set_xticks([])\n",
    "# g.ax_heatmap.set_xlabel('Cells')\n",
    "# g.ax_heatmap.set_ylabel('Regulons')\n",
    "# g.ax_col_colors.set_yticks([0.5])\n",
    "# g.ax_col_colors.set_yticklabels(['Cell Type'])\n",
    "# g.cax.set_visible(False)\n",
    "# g.fig.savefig(os.path.join(FIGURES_FOLDERNAME, 'binarizedregulonheatmap_fibrogrouped.png'), format='png')"
   ]
  },
  {
   "cell_type": "markdown",
   "id": "ccbd1813",
   "metadata": {},
   "source": [
    "## Plotting binarization of individual regulons:"
   ]
  },
  {
   "cell_type": "code",
   "execution_count": null,
   "id": "3dcf8c99",
   "metadata": {},
   "outputs": [],
   "source": [
    "# fig, ((ax1, ax2, ax3, ax4), (ax5, ax6, ax7, ax8)) = plt.subplots(2, 4, figsize=(8, 4), dpi=100)\n",
    "\n",
    "# plot_binarization(auc_mtx, 'NR2F2(+)', thresholds['NR2F2(+)'], ax=ax1)\n",
    "# plot_binarization(auc_mtx, 'SPI1(+)', thresholds['SPI1(+)'], ax=ax2)\n",
    "# plot_binarization(auc_mtx, 'HOXD8(+)', thresholds['HOXD8(+)'], ax=ax3)\n",
    "# plot_binarization(auc_mtx, 'ATF3(+)', thresholds['ATF3(+)'], ax=ax4)\n",
    "# plot_binarization(auc_mtx, 'E2F8(+)', thresholds['E2F8(+)'], ax=ax5)\n",
    "# plot_binarization(auc_mtx, 'TLL1(+)', thresholds['TLL1(+)'], ax=ax6)\n",
    "# plot_binarization(auc_mtx, 'PAX3(+)', thresholds['PAX3(+)'], ax=ax7)\n",
    "# plot_binarization(auc_mtx, 'ZNF713(+)', thresholds['ZNF713(+)'], ax=ax8)\n",
    "\n",
    "# plt.tight_layout()"
   ]
  },
  {
   "cell_type": "markdown",
   "id": "e41176ee",
   "metadata": {},
   "source": [
    "## Regulon specificity score (RSS) across predicted cell types"
   ]
  },
  {
   "cell_type": "code",
   "execution_count": null,
   "id": "f348521e",
   "metadata": {},
   "outputs": [],
   "source": [
    "rss = regulon_specificity_scores(auc_mtx, adata.obs['C_scANVI'])\n",
    "rss"
   ]
  },
  {
   "cell_type": "code",
   "execution_count": null,
   "id": "286b09d9",
   "metadata": {
    "scrolled": false
   },
   "outputs": [],
   "source": [
    "from adjustText import adjust_text\n",
    "\n",
    "cats = sorted(list(set(adata.obs['C_scANVI'])))\n",
    "\n",
    "fig = plt.figure(figsize=(22, 8)) #(width, length)\n",
    "for c,num in zip(cats, range(1,len(cats)+1)):\n",
    "    x=rss.T[c]\n",
    "    ax = fig.add_subplot(2,7,num) #(rows, columns)\n",
    "    plot_rss(rss, c, top_n=5, max_n=None, ax=ax)\n",
    "    ax.set_ylim( x.min()-(x.max()-x.min())*0.05 , x.max()+(x.max()-x.min())*0.05 )\n",
    "    for t in ax.texts:\n",
    "        t.set_fontsize(12)\n",
    "    ax.set_ylabel('')\n",
    "    ax.set_xlabel('')\n",
    "    adjust_text(ax.texts, autoalign='xy', ha='right', va='bottom', \n",
    "                arrowprops=dict(arrowstyle='-',color='lightgrey'), precision=0.001 )\n",
    " \n",
    "fig.text(0.5, 0.0, 'Regulon', ha='center', va='center', size='x-large')\n",
    "fig.text(0.00, 0.5, 'Regulon specificity score (RSS)', ha='center', va='center', rotation='vertical', size='x-large')\n",
    "plt.tight_layout()\n",
    "plt.rcParams.update({\n",
    "    'figure.autolayout': True,\n",
    "        'figure.titlesize': 'large' ,\n",
    "        'axes.labelsize': 'medium',\n",
    "        'axes.titlesize':'large',\n",
    "        'xtick.labelsize':'medium',\n",
    "        'ytick.labelsize':'medium'\n",
    "        })\n",
    "plt.show()\n",
    "savesvg('CellTypeRSS_dev20pcw.svg', fig)"
   ]
  },
  {
   "cell_type": "code",
   "execution_count": null,
   "id": "05570283",
   "metadata": {},
   "outputs": [],
   "source": [
    "topreg = []\n",
    "for i,c in enumerate(cats):\n",
    "    topreg.extend(\n",
    "        list(rss.T[c].sort_values(ascending=False)[:5].index)\n",
    "    )\n",
    "topreg = list(set(topreg))"
   ]
  },
  {
   "cell_type": "code",
   "execution_count": null,
   "id": "7895a31a",
   "metadata": {},
   "outputs": [],
   "source": [
    "auc_mtx_Z = pd.DataFrame( index=auc_mtx.index )\n",
    "for col in list(auc_mtx.columns):\n",
    "    auc_mtx_Z[ col ] = ( auc_mtx[col] - auc_mtx[col].mean()) / auc_mtx[col].std(ddof=0)\n",
    "#auc_mtx_Z.sort_index(inplace=True)"
   ]
  },
  {
   "cell_type": "code",
   "execution_count": null,
   "id": "520d98bc",
   "metadata": {},
   "outputs": [],
   "source": [
    "sns.set(font_scale=1.2)\n",
    "g = sns.clustermap(auc_mtx_Z[topreg], annot=False,  square=False,  linecolor='gray',\n",
    "    yticklabels=False, xticklabels=True, vmin=-2, vmax=6, row_colors=colormap,\n",
    "    cmap=\"YlGnBu\", figsize=(21,16) )\n",
    "g.cax.set_visible(True)\n",
    "g.ax_heatmap.set_ylabel('')\n",
    "g.ax_heatmap.set_xlabel('')\n",
    "g.fig.savefig(os.path.join(FIGURES_FOLDERNAME, 'Z-score_heatmap_dev20pcw_top5.svg'), format='tiff')"
   ]
  },
  {
   "cell_type": "markdown",
   "id": "2312db47",
   "metadata": {},
   "source": [
    "### Creating a regulon h5ad object"
   ]
  },
  {
   "cell_type": "code",
   "execution_count": null,
   "id": "72681679",
   "metadata": {},
   "outputs": [],
   "source": [
    "lf = lp.connect(LOOM_FNAME, mode='r+', validate=False )\n",
    "auc_mtx = pd.DataFrame( lf.ca.RegulonsAUC, index=lf.ca.CellID)\n",
    "lf.close()"
   ]
  },
  {
   "cell_type": "code",
   "execution_count": null,
   "id": "d57536ee",
   "metadata": {},
   "outputs": [],
   "source": [
    "adata=sc.read_h5ad(os.path.join(SCVI_FOLDERNAME, 'dev_scANVI.h5ad'))\n",
    "adata_age_dict = {}\n",
    "for pcw in adata.obs.age.unique():\n",
    "    subset = adata[adata.obs['age']==pcw].copy()\n",
    "    adata_age_dict[pcw] = subset\n",
    "    print(f'{subset.n_obs}, {subset.n_vars}')\n",
    "    #loomdata=sc.AnnData(subset.layers['counts'],obs=subset.obs,var=subset.var)\n",
    "    #loomdata.write_loom(os.path.join(RESULTS_FOLDERNAME, f'dev_scenic_input_{pcw}.loom'))\n",
    "    \n",
    "#del loomdata\n",
    "del subset"
   ]
  },
  {
   "cell_type": "code",
   "execution_count": null,
   "id": "e51a77a5",
   "metadata": {},
   "outputs": [],
   "source": [
    "adata_genes = adata_age_dict['20w'].copy()\n",
    "adata_genes.X = adata_genes.layers['log1p_norm'].copy()"
   ]
  },
  {
   "cell_type": "code",
   "execution_count": null,
   "id": "853b19d3",
   "metadata": {},
   "outputs": [],
   "source": [
    "adata=sc.AnnData(auc_mtx,\n",
    "           obs=adata_genes.obs,uns=adata_genes.uns,obsm=adata_genes.obsm)"
   ]
  },
  {
   "cell_type": "code",
   "execution_count": null,
   "id": "0a0f0e40",
   "metadata": {},
   "outputs": [],
   "source": [
    "adata.var_names_make_unique()\n",
    "adata_genes.var_names_make_unique()"
   ]
  },
  {
   "cell_type": "code",
   "execution_count": null,
   "id": "91500db8",
   "metadata": {},
   "outputs": [],
   "source": [
    "genes=adata_genes.var_names\n",
    "common=genes[genes.isin(np.array(list(map(lambda x: x.split(\"(\")[0],adata.var_names))))]\n",
    "adata=adata[:,common+\"(+)\"]\n",
    "adata_genes=adata_genes[:,common]\n",
    "adata_genes.var\n",
    "adata.layers[\"auc_init\"]=adata.X.copy()\n",
    "weights=adata_genes.X.copy()\n",
    "weights[weights>1]=1\n",
    "adata.X=adata.X*weights.A\n",
    "adata.layers[\"weights\"]=weights\n",
    "adata"
   ]
  },
  {
   "cell_type": "code",
   "execution_count": null,
   "id": "ac2c03b9",
   "metadata": {},
   "outputs": [],
   "source": [
    "df_motifs = load_motifs(MOTIFS_FNAME)\n",
    "regulons = df2regulons(df_motifs)\n",
    "len(regulons)\n",
    "#regulons = derive_regulons(df_motifs)"
   ]
  },
  {
   "cell_type": "code",
   "execution_count": null,
   "id": "b58bcd06",
   "metadata": {},
   "outputs": [],
   "source": [
    "add_scenic_metadata(adata_genes, auc_mtx, regulons)\n",
    "adata_genes.write_h5ad(ANNDATA_FNAME)"
   ]
  },
  {
   "cell_type": "code",
   "execution_count": null,
   "id": "d06e98d8",
   "metadata": {},
   "outputs": [],
   "source": [
    "#data.obsm['_scvi_extra_categorical_covs'] = np.array(regdata.obsm['_scvi_extra_categorical_covs'])\n",
    "#data.obsm['_scvi_extra_continuous_covs'] = np.array(regdata.obsm['_scvi_extra_continuous_covs'])\n",
    "#data.write_loom(\"results/scvi_3207/regulons_3207.loom\", write_obsm_varm=True)"
   ]
  },
  {
   "cell_type": "markdown",
   "id": "e7c67109",
   "metadata": {},
   "source": [
    "## AUCell Clustering based on regulon activity"
   ]
  },
  {
   "cell_type": "code",
   "execution_count": null,
   "id": "dc850f2d",
   "metadata": {},
   "outputs": [],
   "source": [
    "adata_genes = sc.read_h5ad(ANNDATA_FNAME)\n",
    "adata_genes"
   ]
  },
  {
   "cell_type": "code",
   "execution_count": null,
   "id": "0f0d59dc",
   "metadata": {},
   "outputs": [],
   "source": [
    "#embedding_pca_tsne = pd.DataFrame(adata.obsm['X_tsne'], columns=[['X', 'Y']], index=adata.obs_names)\n",
    "umap = pd.DataFrame(adata_genes.obsm['X_umap'], columns=[['X', 'Y']], index=adata.obs_names)"
   ]
  },
  {
   "cell_type": "code",
   "execution_count": null,
   "id": "26ba1182",
   "metadata": {},
   "outputs": [],
   "source": [
    "umap.head()"
   ]
  },
  {
   "cell_type": "code",
   "execution_count": null,
   "id": "dbd8b0f7",
   "metadata": {},
   "outputs": [],
   "source": [
    "pd.DataFrame(adata_genes.obsm['X_aucell'])"
   ]
  },
  {
   "cell_type": "code",
   "execution_count": null,
   "id": "d7e0923a",
   "metadata": {},
   "outputs": [],
   "source": [
    "sc.pl.umap(adata_genes)"
   ]
  },
  {
   "cell_type": "code",
   "execution_count": null,
   "id": "9bcbb95c",
   "metadata": {},
   "outputs": [],
   "source": [
    "sc.pp.neighbors(adata_genes, use_rep = 'X_aucell', n_neighbors=30, metric='correlation')\n",
    "sc.tl.umap(adata_genes)\n",
    "sc.pl.umap(adata_genes)"
   ]
  },
  {
   "cell_type": "code",
   "execution_count": null,
   "id": "dc0f5113",
   "metadata": {},
   "outputs": [],
   "source": [
    "sc.tl.tsne(adata_genes, n_pcs = 50, use_rep = 'X_aucell')"
   ]
  },
  {
   "cell_type": "code",
   "execution_count": null,
   "id": "31bf73ce",
   "metadata": {},
   "outputs": [],
   "source": [
    "sc.pl.umap(adata)"
   ]
  },
  {
   "cell_type": "code",
   "execution_count": null,
   "id": "80e54898",
   "metadata": {},
   "outputs": [],
   "source": [
    "sc.tl.tsne(adata, n_pcs = 50)"
   ]
  },
  {
   "cell_type": "code",
   "execution_count": null,
   "id": "d0cb33ba",
   "metadata": {},
   "outputs": [],
   "source": [
    "sc.pl.embedding(adata_genes, basis='X_tsne', color='C_scANVI', frameon=False, legend_fontsize=7)"
   ]
  },
  {
   "cell_type": "code",
   "execution_count": null,
   "id": "118151cf",
   "metadata": {},
   "outputs": [],
   "source": [
    "sc.pl.embedding(adata,color=[\"C_scANVI\"],\n",
    "                legend_loc='right margin', \n",
    "                title=\"Cell Type - scANVI TSNE\", \n",
    "                basis='X_tsne', show=False, frameon=False)\n",
    "sc.pl.embedding(adata_genes,\n",
    "                color=[\"C_scANVI\"],\n",
    "                title=\"Cell Type - SCENIC AUCell TSNE\", \n",
    "                basis='X_tsne', legend_loc='right margin', \n",
    "                show=False, frameon=False)\n",
    "#savesvg(\"ScenicAUCELLandNormalUMAPs_celltype.svg\", fig)"
   ]
  },
  {
   "cell_type": "code",
   "execution_count": null,
   "id": "653bdc25",
   "metadata": {},
   "outputs": [],
   "source": [
    "#embedding_aucell_tsne = pd.DataFrame(adata_genes.obsm['X_tsne'], columns=[['X', 'Y']], index=adata.obs_names)\n",
    "embedding_aucell_umap = pd.DataFrame(adata_genes.obsm['X_umap'], columns=[['X', 'Y']], index=adata.obs_names)"
   ]
  },
  {
   "cell_type": "code",
   "execution_count": null,
   "id": "238293a5",
   "metadata": {},
   "outputs": [],
   "source": [
    "adata_genes.write_h5ad(ANNDATA_FNAME)"
   ]
  },
  {
   "cell_type": "markdown",
   "id": "93db9a2f",
   "metadata": {},
   "source": [
    "## Z-scoring (Alternative to RSS)\n",
    "To find cell type specific regulators we use a Z score (i.e. the average AUCell score for the cells of a give type are standardized using the overall average AUCell scores and its standard deviation)."
   ]
  },
  {
   "cell_type": "code",
   "execution_count": null,
   "id": "11894ebe",
   "metadata": {},
   "outputs": [],
   "source": [
    "df_obs = adata_genes.obs\n",
    "signature_column_names = list(df_obs.select_dtypes('number').columns)\n",
    "signature_column_names = list(filter(lambda s: s.startswith('Regulon('), signature_column_names))\n",
    "df_scores = df_obs[signature_column_names + ['C_scANVI']]\n",
    "df_results = ((df_scores.groupby(by='C_scANVI').mean() - df_obs[signature_column_names].mean())/ df_obs[signature_column_names].std()).stack().reset_index().rename(columns={'level_1': 'regulon', 0:'Z'})\n",
    "df_results['regulon'] = list(map(lambda s: s[8:-1], df_results.regulon))\n",
    "df_results[(df_results.Z >= 3.0)].sort_values('Z', ascending=False).head()"
   ]
  },
  {
   "cell_type": "code",
   "execution_count": null,
   "id": "32b4c084",
   "metadata": {},
   "outputs": [],
   "source": [
    "df_heatmap = pd.pivot_table(data=df_results[df_results.Z >= 3.0].sort_values('Z', ascending=False),\n",
    "                           index='C_scANVI', columns='regulon', values='Z')\n",
    "#df_heatmap.drop(index='Myocyte', inplace=True) # We leave out Myocyte because many TFs are highly enriched (becuase of small number of cells).\n",
    "fig, ax1 = plt.subplots(1, 1, figsize=(15, 10))\n",
    "sns.heatmap(df_heatmap, ax=ax1, annot=True, fmt=\".1f\", linewidths=.7, cbar=False, square=True, linecolor='gray', \n",
    "            cmap=\"YlGnBu\", annot_kws={\"size\": 6})\n",
    "ax1.set_ylabel('')\n",
    "savesvg('Z-score_regulons_matrixplot_devcombined20pcw.svg', fig)"
   ]
  },
  {
   "cell_type": "code",
   "execution_count": null,
   "id": "c08bf44a",
   "metadata": {},
   "outputs": [],
   "source": [
    "df_results.sort_values('Z', ascending=False).groupby(by='C_scANVI').head(2)"
   ]
  },
  {
   "cell_type": "code",
   "execution_count": null,
   "id": "c0cbff52",
   "metadata": {
    "scrolled": false
   },
   "outputs": [],
   "source": [
    "aucell_adata = sc.AnnData(X=auc_mtx.sort_index())\n",
    "aucell_adata.obs = df_obs\n",
    "names = list(map(op.attrgetter('name'), filter(lambda r: r.score > 3.0, regulons)))\n",
    "sc.pl.stacked_violin(aucell_adata, names, groupby='cell_type',\n",
    "          #save=' - GSE115978 - regulons.svg'\n",
    "                    )"
   ]
  },
  {
   "cell_type": "markdown",
   "id": "f232064b",
   "metadata": {},
   "source": [
    "# Check motifs"
   ]
  },
  {
   "cell_type": "code",
   "execution_count": null,
   "id": "448d0a58",
   "metadata": {},
   "outputs": [],
   "source": [
    "adjacencies = pd.read_csv(ADJACENCIES_FNAME, index_col=False, sep='\\t')\n",
    "adjacencies.head()"
   ]
  },
  {
   "cell_type": "code",
   "execution_count": null,
   "id": "b9e98c3e",
   "metadata": {},
   "outputs": [],
   "source": [
    "#lf = lp.connect(os.path.join(RESULTS_FOLDERNAME, 'devcombined_05AUC.scenic.loom'))\n",
    "lf = lp.connect(LOOM_FNAME, mode='r+', validate=False ) #this is data with 0.1 AUC threshold\n",
    "#exprMat = pd.DataFrame( lf[:,:], index=lf.ra.Gene, columns=lf.ca.CellID).T"
   ]
  },
  {
   "cell_type": "code",
   "execution_count": null,
   "id": "4559dd43",
   "metadata": {},
   "outputs": [],
   "source": [
    "# create a dictionary of regulons:\n",
    "regulons = {}\n",
    "for i,r in pd.DataFrame(lf.ra.Regulons,index=lf.ra.Gene).iteritems():\n",
    "    regulons[i] =  list(r[r==1].index.values)\n",
    "lf.close()"
   ]
  },
  {
   "cell_type": "code",
   "execution_count": null,
   "id": "433be782",
   "metadata": {},
   "outputs": [],
   "source": [
    "regulons['ALX4(+)']"
   ]
  },
  {
   "cell_type": "code",
   "execution_count": null,
   "id": "c0529b9c",
   "metadata": {},
   "outputs": [],
   "source": [
    "from pyscenic.utils import modules_from_adjacencies\n",
    "modules = list(modules_from_adjacencies(adjacencies, exprMat))"
   ]
  },
  {
   "cell_type": "code",
   "execution_count": null,
   "id": "795cb0bd",
   "metadata": {},
   "outputs": [],
   "source": [
    "tf = 'SOX2'\n",
    "tf_mods = [ x for x in modules if x.transcription_factor==tf ]\n",
    "\n",
    "for i,mod in enumerate( tf_mods ):\n",
    "    print( f'{tf} module {str(i)}: {len(mod.genes)} genes' )\n",
    "print( f'{tf} regulon: {len(regulons[tf+\"(+)\"])} genes' )"
   ]
  },
  {
   "cell_type": "code",
   "execution_count": null,
   "id": "72235abd",
   "metadata": {},
   "outputs": [],
   "source": [
    "for i,mod in enumerate( tf_mods ):\n",
    "    with open( os.path.join(RESULTS_FOLDERNAME, tf+'_module_'+str(i)+'.txt'), 'w') as f:\n",
    "        for item in mod.genes:\n",
    "            f.write(\"%s\\n\" % item)\n",
    "            \n",
    "with open( os.path.join(RESULTS_FOLDERNAME, tf+'_regulon.txt'), 'w') as f:\n",
    "    for item in regulons[tf+\"(+)\"]:\n",
    "        f.write(\"%s\\n\" % item)"
   ]
  },
  {
   "cell_type": "markdown",
   "id": "aad76493",
   "metadata": {},
   "source": [
    "## Exporting to SCope\n",
    "https://scope.aertslab.org/#/98d21e95-3a9d-48be-a6e7-32f73f00f30f/*/welcome"
   ]
  },
  {
   "cell_type": "code",
   "execution_count": null,
   "id": "0b854631",
   "metadata": {},
   "outputs": [],
   "source": [
    "adata=sc.read_h5ad(os.path.join(SCVI_FOLDERNAME, '{}.h5ad'.format('combined_scVIintegrated_zinb')))\n",
    "adata"
   ]
  },
  {
   "cell_type": "code",
   "execution_count": null,
   "id": "535d59de",
   "metadata": {},
   "outputs": [],
   "source": [
    "import json\n",
    "import zlib\n",
    "import base64\n",
    "import umap\n",
    "from MulticoreTSNE import MulticoreTSNE as TSNE\n",
    "\n",
    "# scenic output\n",
    "lf = lp.connect(LOOM_FNAME, mode='r+', validate=False )\n",
    "meta = json.loads(zlib.decompress(base64.b64decode( lf.attrs.MetaData )))\n",
    "auc_mtx = pd.DataFrame( lf.ca.RegulonsAUC, index=lf.ca.CellID)\n",
    "regulons = lf.ra.Regulons"
   ]
  },
  {
   "cell_type": "code",
   "execution_count": null,
   "id": "ee168b4b",
   "metadata": {},
   "outputs": [],
   "source": [
    "## If you need to run UMAP or TSNE again:\n",
    "## UMAP\n",
    "# runUmap = umap.UMAP(n_neighbors=10, min_dist=0.4, metric='correlation').fit_transform\n",
    "# dr_umap = runUmap( auc_mtx )\n",
    "# dr_umap = pd.DataFrame(dr_umap, columns=['X', 'Y'], index=auc_mtx.index) #.to_csv( \"results/scvi_3207/scenic_umap.txt\", sep='\\t')\n",
    "\n",
    "## tSNE\n",
    "# tsne = TSNE( n_jobs=20 )\n",
    "# dr_tsne = tsne.fit_transform( auc_mtx )\n",
    "# dr_tsne = pd.DataFrame(dr_tsne, columns=['X', 'Y'], index=auc_mtx.index) #.to_csv( \"results/scvi_3207/scenic_tsne.txt\", sep='\\t')\n",
    "\n",
    "# #dr_umap = pd.read_csv( 'scenic_umap.txt', sep='\\t', header=0, index_col=0 )\n",
    "# #dr_tsne = pd.read_csv( 'scenic_tsne.txt', sep='\\t', header=0, index_col=0 )"
   ]
  },
  {
   "cell_type": "code",
   "execution_count": null,
   "id": "c73a22d4",
   "metadata": {},
   "outputs": [],
   "source": [
    "# Fix regulon objects to display properly\n",
    "auc_mtx.columns = auc_mtx.columns.str.replace('\\(','_(')\n",
    "regulons.dtype.names = tuple( [ x.replace(\"(\",\"_(\") for x in regulons.dtype.names ] )\n",
    "# regulon thresholds\n",
    "rt = meta['regulonThresholds']\n",
    "for i,x in enumerate(rt):\n",
    "    tmp = x.get('regulon').replace(\"(\",\"_(\")\n",
    "    x.update( {'regulon': tmp} )"
   ]
  },
  {
   "cell_type": "code",
   "execution_count": null,
   "id": "390d9e9d",
   "metadata": {},
   "outputs": [],
   "source": [
    "adata.obsm"
   ]
  },
  {
   "cell_type": "code",
   "execution_count": null,
   "id": "2b8e925d",
   "metadata": {},
   "outputs": [],
   "source": [
    "# Concatenate embeddings (tSNE, UMAP, etc.)\n",
    "#tsneDF = pd.DataFrame(adata.obsm['X_tsne'], columns=['_X', '_Y'])\n",
    "\n",
    "Embeddings_X = pd.DataFrame( index=lf.ca.CellID )\n",
    "Embeddings_X = pd.concat( [\n",
    "        #pd.DataFrame(adata.obsm['X_draw_graph_fr'],index=adata.obs.index)[0] , \n",
    "        #pd.DataFrame(adata.obsm['X_diffmap'],index=adata.obs.index)[0] , \n",
    "        #pd.DataFrame(adata.obsm['X_pca_harmony'],index=adata.obs.index)[0] ,\n",
    "        pd.DataFrame(adata.obsm['X_scVI'],index=adata.obs.index)[0] ,\n",
    "        pd.DataFrame(adata.obsm['latent_gene_encoding'],index=adata.obs.index)[0] ,\n",
    "        pd.DataFrame(adata.obsm['X_umap'],index=adata.obs.index)[0] ,\n",
    "        pd.DataFrame(adata.obsm['X_pca'],index=adata.obs.index)[0] ,\n",
    "        #embedding_aucell_tsne['X'] ,\n",
    "        embedding_aucell_umap['X']\n",
    "    ], sort=False, axis=1, join='outer' )\n",
    "Embeddings_X.columns = ['1','2','3','4', '5']"
   ]
  },
  {
   "cell_type": "code",
   "execution_count": null,
   "id": "8142015a",
   "metadata": {},
   "outputs": [],
   "source": [
    "Embeddings_Y = pd.DataFrame( index=lf.ca.CellID )\n",
    "Embeddings_Y = pd.concat( [\n",
    "#         pd.DataFrame(adata.obsm['X_draw_graph_fr'],index=adata.obs.index)[1] , \n",
    "#         pd.DataFrame(adata.obsm['X_diffmap'],index=adata.obs.index)[1] , \n",
    "#         pd.DataFrame(adata.obsm['X_pca_harmony'],index=adata.obs.index)[1] ,\n",
    "        pd.DataFrame(adata.obsm['X_scVI'],index=adata.obs.index)[1] ,\n",
    "        pd.DataFrame(adata.obsm['latent_gene_encoding'],index=adata.obs.index)[1] ,\n",
    "        pd.DataFrame(adata.obsm['X_umap'],index=adata.obs.index)[1] ,\n",
    "        pd.DataFrame(adata.obsm['X_pca'],index=adata.obs.index)[1] ,\n",
    "        #embedding_aucell_tsne['Y'] ,\n",
    "        embedding_aucell_umap['Y']\n",
    "    ], sort=False, axis=1, join='outer' )\n",
    "Embeddings_Y.columns = ['1','2','3','4', '5']"
   ]
  },
  {
   "cell_type": "code",
   "execution_count": null,
   "id": "4bfb8fa5",
   "metadata": {},
   "outputs": [],
   "source": [
    "# Metadata\n",
    "### metadata\n",
    "metaJson = {}\n",
    "\n",
    "metaJson['embeddings'] = [\n",
    "#     {\n",
    "#         \"id\": -1,\n",
    "#         \"name\": f\"Scanpy t-SNE (highly variable genes)\"\n",
    "#     },\n",
    "#     {\n",
    "#         \"id\": 1,\n",
    "#         \"name\": f\"Scanpy Draw Graph (Diffmap base)\"\n",
    "#     },\n",
    "#     {\n",
    "#         \"id\": 2,\n",
    "#         \"name\": f\"Scanpy Diffusion Map\"\n",
    "#     },\n",
    "#     {\n",
    "#         \"id\": 3,\n",
    "#         \"name\": f\"Scanpy PCA Harmony\"\n",
    "#     },\n",
    "    {\n",
    "        \"id\": 1,\n",
    "        \"name\": f\"scVI  (highly variable genes)\"\n",
    "    },\n",
    "    {\n",
    "        \"id\": 2,\n",
    "        \"name\": f\"scVI Latent Gene Encoding\"\n",
    "    },\n",
    "    {\n",
    "        \"id\": 3,\n",
    "        \"name\": f\"Scanpy UMAP  (highly variable genes)\"\n",
    "    },\n",
    "    {\n",
    "        \"id\": 4,\n",
    "        \"name\": \"Scanpy PC1/PC2\"\n",
    "    },\n",
    "#     {\n",
    "#         \"id\": 6,\n",
    "#         \"name\": \"SCENIC AUC t-SNE\"\n",
    "#     },\n",
    "    {\n",
    "        \"id\": 5,\n",
    "        \"name\": \"SCENIC AUC UMAP\"\n",
    "    },\n",
    "]\n",
    "\n",
    "metaJson[\"clusterings\"] = [{\n",
    "            \"id\": 0,\n",
    "            \"group\": \"Scanpy\",\n",
    "            \"name\": \"Scanpy louvain default resolution\",\n",
    "            \"clusters\": [],\n",
    "        }]\n",
    "\n",
    "metaJson[\"metrics\"] = [\n",
    "        {\n",
    "            \"name\": \"nUMI\"\n",
    "        }, {\n",
    "            \"name\": \"nGene\"\n",
    "        }, {\n",
    "            \"name\": \"Percent_mito\"\n",
    "        }\n",
    "]\n",
    "\n",
    "metaJson[\"annotations\"] = [\n",
    "#     {\n",
    "#         \"name\": \"Louvain_0.8\",\n",
    "#         \"values\": list(set( adata.obs['louvain_0.8'].astype(np.str) ))\n",
    "#     },\n",
    "#     {\n",
    "#         \"name\": \"Leiden_0.6\",\n",
    "#         \"values\": list(set( adata.obs['leiden_0.6'].astype(np.str) ))\n",
    "#     },\n",
    "    {\n",
    "        \"name\": \"Cell Type\",\n",
    "        \"values\": list(set( adata.obs['cell_type'].astype(np.str) ))\n",
    "    },\n",
    "    {\n",
    "        \"name\": \"Phase\",\n",
    "        \"values\": list(set(adata.obs['phase'].values))\n",
    "    },\n",
    "    {\n",
    "        \"name\": \"Sex\",\n",
    "        \"values\": list(set(adata.obs['sex'].values))\n",
    "    },\n",
    "    {\n",
    "        \"name\": \"Libbatch\",\n",
    "        \"values\": list(set(adata.obs['libbatch'].values))\n",
    "    },\n",
    "    {\n",
    "        \"name\": \"Samples\",\n",
    "        \"values\": list(set(adata.obs['ident'].values))\n",
    "    }\n",
    "]\n",
    "\n",
    "# SCENIC regulon thresholds:\n",
    "metaJson[\"regulonThresholds\"] = rt\n",
    "\n",
    "for i in range(max(set([int(x) for x in adata.obs['louvain_0.8']])) + 1):\n",
    "    clustDict = {}\n",
    "    clustDict['id'] = i\n",
    "    clustDict['description'] = f'Unannotated Cluster {i + 1}'\n",
    "    metaJson['clusterings'][0]['clusters'].append(clustDict)\n",
    "    \n",
    "clusterings = pd.DataFrame()\n",
    "clusterings[\"0\"] = adata.obs['louvain_0.8'].values.astype(np.int64)"
   ]
  },
  {
   "cell_type": "code",
   "execution_count": null,
   "id": "192c7a5b",
   "metadata": {},
   "outputs": [],
   "source": [
    "def dfToNamedMatrix(df):\n",
    "    arr_ip = [tuple(i) for i in df.values]\n",
    "    dtyp = np.dtype(list(zip(df.dtypes.index, df.dtypes)))\n",
    "    arr = np.array(arr_ip, dtype=dtyp)\n",
    "    return arr"
   ]
  },
  {
   "cell_type": "code",
   "execution_count": null,
   "id": "c0fd6e57",
   "metadata": {},
   "outputs": [],
   "source": [
    "col_attrs = {\n",
    "    \"CellID\": np.array(adata.obs.index),\n",
    "    \"nUMI\": np.array(adata.obs['n_counts'].values),\n",
    "    \"nGene\": np.array(adata.obs['n_genes'].values),\n",
    "    \"Louvain_0.8\": np.array( adata.obs['louvain_0.8'].values ),\n",
    "    \"Leiden_0.6\": np.array( adata.obs['leiden_0.6'].values ),\n",
    "    \"CellType\": np.array(adata.obs['CellType'].values),\n",
    "    \"Sex\": np.array(adata.obs['sex'].values),\n",
    "    \"Sample\": np.array(adata.obs['sample'].values),\n",
    "    \"Phase\": np.array(adata.obs['phase'].values),\n",
    "    \"Libbatch\": np.array(adata.obs['libbatch'].values),\n",
    "    \"Percent_mito\": np.array(adata.obs['pct_counts_mt'].values),\n",
    "    \"Embedding\": dfToNamedMatrix(tsneDF),\n",
    "    \"Embeddings_X\": dfToNamedMatrix(Embeddings_X),\n",
    "    \"Embeddings_Y\": dfToNamedMatrix(Embeddings_Y),\n",
    "    \"RegulonsAUC\": dfToNamedMatrix(auc_mtx),\n",
    "    \"Clusterings\": dfToNamedMatrix(clusterings),\n",
    "    \"ClusterID\": np.array(adata.obs['CellType'].values)\n",
    "}\n",
    "\n",
    "row_attrs = {\n",
    "    \"Gene\": lf.ra.Gene,\n",
    "    \"Regulons\": regulons,\n",
    "}\n",
    "\n",
    "attrs = {\n",
    "    \"title\": \"sampleTitle\",\n",
    "    \"MetaData\": json.dumps(metaJson),\n",
    "    \"Genome\": 'hg38',\n",
    "    \"SCopeTreeL1\": \"\",\n",
    "    \"SCopeTreeL2\": \"\",\n",
    "    \"SCopeTreeL3\": \"\"\n",
    "}\n",
    "\n",
    "# compress the metadata field:\n",
    "attrs['MetaData'] = base64.b64encode(zlib.compress(json.dumps(metaJson).encode('ascii'))).decode('ascii')"
   ]
  },
  {
   "cell_type": "code",
   "execution_count": null,
   "id": "79c84cea",
   "metadata": {},
   "outputs": [],
   "source": [
    "lp.create(\n",
    "    filename = 'cellranger/results/scope_dev20_cr14812.loom' ,\n",
    "    layers=lf[:,:],\n",
    "    row_attrs=row_attrs, \n",
    "    col_attrs=col_attrs, \n",
    "    file_attrs=attrs\n",
    ")\n",
    "lf.close() # close original pyscenic loom file"
   ]
  }
 ],
 "metadata": {
  "kernelspec": {
   "display_name": "Python [conda env:pyscenic_env] *",
   "language": "python",
   "name": "conda-env-pyscenic_env-py"
  },
  "language_info": {
   "codemirror_mode": {
    "name": "ipython",
    "version": 3
   },
   "file_extension": ".py",
   "mimetype": "text/x-python",
   "name": "python",
   "nbconvert_exporter": "python",
   "pygments_lexer": "ipython3",
   "version": "3.7.12"
  }
 },
 "nbformat": 4,
 "nbformat_minor": 5
}
