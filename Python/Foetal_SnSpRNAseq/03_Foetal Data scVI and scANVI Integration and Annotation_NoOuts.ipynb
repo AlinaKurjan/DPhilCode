{
 "cells": [
  {
   "cell_type": "markdown",
   "id": "941879dd-e065-4e2f-b9ef-13555456afe0",
   "metadata": {},
   "source": [
    "## scib-pipeline-R4.0 env: Sample Integration"
   ]
  },
  {
   "cell_type": "code",
   "execution_count": null,
   "id": "22d941f5-c4bb-4bc2-a902-9dcd3f4d084f",
   "metadata": {
    "scrolled": true
   },
   "outputs": [],
   "source": [
    "import os\n",
    "import pandas as pd\n",
    "import numpy as np\n",
    "import scanpy as sc\n",
    "import matplotlib.pyplot as plt\n",
    "import seaborn as sns\n",
    "#import scib\n",
    "import anndata\n",
    "\n",
    "# pyscenic env:\n",
    "#import loompy\n",
    "#import colorcet as cc\n",
    "import scvi\n",
    "\n",
    "# Initialize random seed\n",
    "import random\n",
    "random.seed(111)\n",
    "\n",
    "# set a working directory\n",
    "# wdir = \"/ceph/project/tendonhca/akurjan/analysis/\"\n",
    "wdir = \"/mnt/da8aa2c4-0136-465b-87a2-d12a59afec55/akurjan/analysis/notebooks\"\n",
    "os.chdir( wdir )\n",
    "\n",
    "# folder structures\n",
    "NORMALIZATION_FOLDERNAME = \"foetal/results/Normalisation/\"\n",
    "RESULTS_FOLDERNAME = \"foetal/results/scVI/\"\n",
    "FIGURES_FOLDERNAME = \"foetal/figures/scVI/\"\n",
    "\n",
    "if not os.path.exists(RESULTS_FOLDERNAME):\n",
    "    os.makedirs(RESULTS_FOLDERNAME)\n",
    "if not os.path.exists(FIGURES_FOLDERNAME):\n",
    "    os.makedirs(FIGURES_FOLDERNAME)\n",
    "\n",
    "# Set folder for saving figures into\n",
    "sc.settings.figdir = FIGURES_FOLDERNAME\n",
    "\n",
    "# Print date and time:\n",
    "import datetime\n",
    "e = datetime.datetime.now()\n",
    "print (\"Current date and time = %s\" % e)\n",
    "\n",
    "# Set other settings\n",
    "sc.settings.verbosity = 3 # verbosity: errors (0), warnings (1), info (2), hints (3)\n",
    "sc.logging.print_versions()\n",
    "sc.set_figure_params(dpi=150, fontsize=10, dpi_save=600)"
   ]
  },
  {
   "cell_type": "code",
   "execution_count": null,
   "id": "f5686dc8",
   "metadata": {},
   "outputs": [],
   "source": [
    "def savesvg(fname: str, fig, folder: str=FIGURES_FOLDERNAME) -> None:\n",
    "    \"\"\"\n",
    "    Save figure as vector-based SVG image format.\n",
    "    \"\"\"\n",
    "    fig.tight_layout()\n",
    "    fig.savefig(os.path.join(folder, fname), format='svg')"
   ]
  },
  {
   "cell_type": "markdown",
   "id": "bcdc4d61",
   "metadata": {},
   "source": [
    "# FOETAL DATA"
   ]
  },
  {
   "cell_type": "code",
   "execution_count": null,
   "id": "df23adce-6701-41d7-87d2-139f60e4b776",
   "metadata": {},
   "outputs": [],
   "source": [
    "adata = sc.read_h5ad(os.path.join(NORMALIZATION_FOLDERNAME, 'dev_adata_normalized.h5ad'))\n",
    "adata"
   ]
  },
  {
   "cell_type": "code",
   "execution_count": null,
   "id": "27d0f116",
   "metadata": {},
   "outputs": [],
   "source": [
    "def convert_uint_to_int_single(adata):\n",
    "    \"\"\"\n",
    "    Convert uint32 and uint64 dtypes in anndata object to int32 and int64 dtypes,\n",
    "    respectively. Prints a message for each conversion.\n",
    "    \"\"\"\n",
    "    # Check var and obs dtypes\n",
    "    for dtype in ['var', 'obs']:\n",
    "        dtype_data = getattr(adata, dtype)\n",
    "        if isinstance(dtype_data, np.ndarray):\n",
    "            # If dtype_data is a structured array, convert each field individually\n",
    "            for field in dtype_data.dtype.names:\n",
    "                if dtype_data[field].dtype == 'uint32':\n",
    "                    dtype_data[field] = dtype_data[field].astype('float32')\n",
    "                    print(f\"Converted {dtype}.{field} from uint32 to float32.\")\n",
    "                elif dtype_data[field].dtype == 'uint64':\n",
    "                    dtype_data[field] = dtype_data[field].astype('float64')\n",
    "                    print(f\"Converted {dtype}.{field} from uint64 to float64.\")\n",
    "                elif dtype_data[field].dtype == 'uint16':\n",
    "                    dtype_data[field] = dtype_data[field].astype('int16')\n",
    "                    print(f\"Converted {dtype}.{field} from uint16 to int16.\")\n",
    "        elif isinstance(dtype_data, pd.DataFrame):\n",
    "            # If dtype_data is a DataFrame, convert each column individually\n",
    "            for col in dtype_data.columns:\n",
    "                if dtype_data[col].dtype == 'uint32':\n",
    "                    dtype_data[col] = dtype_data[col].astype('float32')\n",
    "                    print(f\"Converted {dtype}.{col} from uint32 to float32.\")\n",
    "                elif dtype_data[col].dtype == 'uint64':\n",
    "                    dtype_data[col] = dtype_data[col].astype('float64')\n",
    "                    print(f\"Converted {dtype}.{col} from uint64 to float64.\")\n",
    "                elif dtype_data[col].dtype == 'uint16':\n",
    "                    dtype_data[col] = dtype_data[col].astype('int16')\n",
    "                    print(f\"Converted {dtype}.{col} from uint16 to int16.\")\n",
    "                \n",
    "    # Update X and layers dtypes\n",
    "    if adata.X.dtype == 'uint32':\n",
    "        adata.X = adata.X.astype('int32')\n",
    "        print(\"Converted X from uint32 to int32.\")\n",
    "    elif adata.X.dtype == 'uint64':\n",
    "        adata.X = adata.X.astype('int64')\n",
    "        print(\"Converted X from uint64 to int64.\")\n",
    "    elif adata.X.dtype == 'uint16':\n",
    "        adata.X = adata.X.astype('int16')\n",
    "        print(\"Converted X from uint16 to int16.\")\n",
    "    for layer_key, layer_val in adata.layers.items():\n",
    "        if layer_val.dtype == 'uint32':\n",
    "            adata.layers[layer_key] = layer_val.astype('int32')\n",
    "            print(f\"Converted layer {layer_key} from uint32 to int32.\")\n",
    "        elif layer_val.dtype == 'uint64':\n",
    "            adata.layers[layer_key] = layer_val.astype('int64')\n",
    "            print(f\"Converted layer {layer_key} from uint64 to int64.\")\n",
    "        elif layer_val.dtype == 'uint16':\n",
    "            adata.layers[layer_key] = layer_val.astype('int16')\n",
    "            print(f\"Converted layer {layer_key} from uint16 to int16.\")"
   ]
  },
  {
   "cell_type": "code",
   "execution_count": null,
   "id": "3db5e74e",
   "metadata": {},
   "outputs": [],
   "source": [
    "convert_uint_to_int_single(adata)"
   ]
  },
  {
   "cell_type": "code",
   "execution_count": null,
   "id": "cb95aeb1",
   "metadata": {},
   "outputs": [],
   "source": [
    "adata.X = adata.layers[\"counts\"].copy()\n",
    "print(adata.X[1:5,1:5])"
   ]
  },
  {
   "cell_type": "code",
   "execution_count": null,
   "id": "0b2cab84",
   "metadata": {},
   "outputs": [],
   "source": [
    "sc.pp.filter_genes(adata, min_cells=20)"
   ]
  },
  {
   "cell_type": "code",
   "execution_count": null,
   "id": "4fab1556",
   "metadata": {},
   "outputs": [],
   "source": [
    "adata"
   ]
  },
  {
   "cell_type": "code",
   "execution_count": null,
   "id": "f0c80e52",
   "metadata": {},
   "outputs": [],
   "source": [
    "del adata.raw"
   ]
  },
  {
   "cell_type": "markdown",
   "id": "64d0ff5c-ce0e-4a07-9ef2-fbb2d9af9bbb",
   "metadata": {},
   "source": [
    "# scVI INTEGRATION\n",
    "As a first step, we assume that the data is completely unlabelled and we wish to find common axes of variation between the two datasets. There are many methods available in scanpy for this purpose (BBKNN, Scanorama, etc.). In this notebook we present scVI. To run scVI, we simply need to:\n",
    "\n",
    "1) Register the AnnData object with the correct key to identify the sample and the layer key with the count data.\n",
    "2) Create an SCVI model object."
   ]
  },
  {
   "cell_type": "markdown",
   "id": "ddbf244f",
   "metadata": {},
   "source": [
    "Decide which variable to treat as the batch on which the model will be conditioned (i.e. its effects minimised in low dimensional space). Make sure you really understand how scVI and scANVI work. Do scIB, actually."
   ]
  },
  {
   "cell_type": "markdown",
   "id": "c3561ab4-5f4f-4b86-9f4f-f2e7ea70fdce",
   "metadata": {},
   "source": [
    "#### scVI (single-cell Variational Inference)\n",
    "*scVI* is a hierarchical Bayesian model for single-cell RNA sequencing data with conditional distributions parametrized by neural networks. Working as a hybrid between a neural network and a bayesian network, scVI performs data harmonization. VAE refers to variational auto-encoders for single-cell gene expression data. scVI is similar to VAE as it tries to bring a more suitable structure to the latent space. While VAE allows users to make observations in a semi-supervised fashion, scVI is easier to train and specific cell-type labels for the dataset are not required in the pure unsupervised case.\n",
    "\n",
    "Define the scVI model\n",
    "First, we define the model and its hyperparameters:\n",
    "\n",
    "n_hidden: number of units in the hidden layer = 128\n",
    "n_latent: number of dimensions in the shared latent space = 10 (how many dimensions in z)\n",
    "n_layers: number of layers in the neural network\n",
    "dispersion: ‘gene’: each gene has its own dispersion parameter; ‘gene-batch’: each gene in each batch has its own dispersion parameter\n",
    "\n"
   ]
  },
  {
   "cell_type": "code",
   "execution_count": null,
   "id": "f84702b9",
   "metadata": {},
   "outputs": [],
   "source": [
    "adata.obs[['sample', 'age']].value_counts()"
   ]
  },
  {
   "cell_type": "code",
   "execution_count": null,
   "id": "bd53afb1",
   "metadata": {},
   "outputs": [],
   "source": [
    "adata.obs.columns"
   ]
  },
  {
   "cell_type": "code",
   "execution_count": null,
   "id": "37f78d03",
   "metadata": {},
   "outputs": [],
   "source": [
    "sc.pl.umap(adata, color='sample')"
   ]
  },
  {
   "cell_type": "markdown",
   "id": "de4bddd2",
   "metadata": {},
   "source": [
    "## Hyperparameter Tuning"
   ]
  },
  {
   "cell_type": "code",
   "execution_count": null,
   "id": "88585c55",
   "metadata": {},
   "outputs": [],
   "source": [
    "model_cls = scvi.model.SCVI\n",
    "model_cls.setup_anndata(adata)"
   ]
  },
  {
   "cell_type": "code",
   "execution_count": null,
   "id": "1a92cf9f",
   "metadata": {},
   "outputs": [],
   "source": [
    "model_cls"
   ]
  },
  {
   "cell_type": "code",
   "execution_count": null,
   "id": "56139ed3",
   "metadata": {},
   "outputs": [],
   "source": [
    "import ray\n",
    "import hyperopt\n",
    "from ray import tune\n",
    "from scvi import autotune\n",
    "\n",
    "scvi_tuner = autotune.ModelTuner(model_cls)\n",
    "scvi_tuner.info()"
   ]
  },
  {
   "cell_type": "code",
   "execution_count": null,
   "id": "3d045853",
   "metadata": {},
   "outputs": [],
   "source": [
    "search_space = {\n",
    "    \"n_latent\": tune.choice([10, 14, 6]),\n",
    "    \"n_hidden\": tune.choice([256, 128]),\n",
    "    \"n_layers\": tune.choice([1, 2, 3]),\n",
    "    \"lr\": tune.loguniform(1e-4, 1e-2)\n",
    "}"
   ]
  },
  {
   "cell_type": "code",
   "execution_count": null,
   "id": "76fe5980",
   "metadata": {},
   "outputs": [],
   "source": [
    "ray.init(log_to_driver=False)"
   ]
  },
  {
   "cell_type": "code",
   "execution_count": null,
   "id": "d2da5e5e",
   "metadata": {},
   "outputs": [],
   "source": [
    "results = scvi_tuner.fit(\n",
    "    adata,\n",
    "    metric=\"validation_loss\",\n",
    "    search_space=search_space,\n",
    "    searcher='hyperopt',\n",
    "    num_samples=20,\n",
    "    max_epochs=150,\n",
    "    resources={\"cpu\": 20, \"gpu\": 1},\n",
    ")"
   ]
  },
  {
   "cell_type": "code",
   "execution_count": null,
   "id": "974160ff",
   "metadata": {},
   "outputs": [],
   "source": [
    "print(results.model_kwargs)\n",
    "print(results.train_kwargs)"
   ]
  },
  {
   "cell_type": "code",
   "execution_count": null,
   "id": "6aff1e91",
   "metadata": {},
   "outputs": [],
   "source": [
    "results"
   ]
  },
  {
   "cell_type": "code",
   "execution_count": null,
   "id": "e4166b9d",
   "metadata": {},
   "outputs": [],
   "source": [
    "ray.shutdown()"
   ]
  },
  {
   "cell_type": "code",
   "execution_count": null,
   "id": "0d4c870b",
   "metadata": {},
   "outputs": [],
   "source": [
    "search_space = {\n",
    "    \"n_latent\": tune.choice([14, 30]),\n",
    "    \"n_layers\": tune.choice([1, 2]),\n",
    "    \"dropout_rate\": tune.choice([0.1, 0.2]),\n",
    "    \"gene_likelihood\": tune.choice(['zinb', 'nb'])\n",
    "}"
   ]
  },
  {
   "cell_type": "code",
   "execution_count": null,
   "id": "d2849946",
   "metadata": {},
   "outputs": [],
   "source": [
    "ray.init(log_to_driver=False)"
   ]
  },
  {
   "cell_type": "code",
   "execution_count": null,
   "id": "dfb07134",
   "metadata": {},
   "outputs": [],
   "source": [
    "results = scvi_tuner.fit(\n",
    "    adata,\n",
    "    metric=\"validation_loss\",\n",
    "    search_space=search_space,\n",
    "    searcher='hyperopt',\n",
    "    num_samples=30,\n",
    "    max_epochs=150,\n",
    "    resources={\"cpu\": 20, \"gpu\": 1},\n",
    ")"
   ]
  },
  {
   "cell_type": "code",
   "execution_count": null,
   "id": "8f45de90",
   "metadata": {},
   "outputs": [],
   "source": [
    "print(results.model_kwargs)\n",
    "print(results.train_kwargs)"
   ]
  },
  {
   "cell_type": "code",
   "execution_count": null,
   "id": "144d3851",
   "metadata": {},
   "outputs": [],
   "source": [
    "results"
   ]
  },
  {
   "cell_type": "markdown",
   "id": "b62835df",
   "metadata": {},
   "source": [
    "# Final Model"
   ]
  },
  {
   "cell_type": "code",
   "execution_count": null,
   "id": "a9f36a73-2acf-4877-b322-6be1abda34ed",
   "metadata": {},
   "outputs": [],
   "source": [
    "scvi.model.SCVI.setup_anndata(adata, #adata_hvg\n",
    "                              layer=\"counts\", \n",
    "                              #batch_key=\"sampletype\",\n",
    "                              categorical_covariate_keys=[\"type\",\"libbatch\"], # effects that are taken into account that we are not necessarily interested in\n",
    "                              #\"age\", \"type\", \"phase\", - not correcting for to avoid removing variation of interest\n",
    "                              )\n",
    "\n",
    "#continuous_covariate_keys=[\"percent_mito\"]"
   ]
  },
  {
   "cell_type": "code",
   "execution_count": null,
   "id": "7ee08214-058e-4857-b51f-2482c3b67029",
   "metadata": {},
   "outputs": [],
   "source": [
    "# vae = scvi.model.SCVI(adata_hvg, n_hidden = 128, n_latent=30, n_layers=2, dropout_rate=0.1, dispersion=\"gene-batch\", gene_likelihood='nb')\n",
    "vae = scvi.model.SCVI(adata, n_hidden = 128, n_latent=30, n_layers=2, dropout_rate=0.1, dispersion=\"gene-batch\", gene_likelihood='zinb')\n",
    "vae"
   ]
  },
  {
   "cell_type": "code",
   "execution_count": null,
   "id": "9aa20023-98a0-4b0f-b74b-170809ae6a7c",
   "metadata": {},
   "outputs": [],
   "source": [
    "vae.view_anndata_setup(adata)"
   ]
  },
  {
   "cell_type": "markdown",
   "id": "de697e34-fca7-4c22-990b-3d83e78ba140",
   "metadata": {},
   "source": [
    "Then, we define a trainer using the model and the dataset to train it with\n",
    "in the unsupervised setting, train_size=1.0 and all cells are used for training"
   ]
  },
  {
   "cell_type": "code",
   "execution_count": null,
   "id": "ab9984f9",
   "metadata": {},
   "outputs": [],
   "source": [
    "#max_epochs_scvi = np.min([round((20000 / adata.n_obs) * 400), 400])\n",
    "#max_epochs_scvi"
   ]
  },
  {
   "cell_type": "code",
   "execution_count": null,
   "id": "f6705ee3-6f9b-4216-872d-592c50809832",
   "metadata": {
    "scrolled": false
   },
   "outputs": [],
   "source": [
    "%%time\n",
    "vae.train(max_epochs = 400, train_size = 0.9, validation_size = 0.1, \n",
    "          use_gpu=True, accelerator='gpu', \n",
    "          check_val_every_n_epoch=1,\n",
    "          early_stopping=True,\n",
    "          early_stopping_patience=20,\n",
    "          early_stopping_monitor=\"elbo_validation\",\n",
    "         )"
   ]
  },
  {
   "cell_type": "code",
   "execution_count": null,
   "id": "6d8fb4a3",
   "metadata": {},
   "outputs": [],
   "source": [
    "# train_elbo = vae.history[\"elbo_train\"][1:]\n",
    "# test_elbo = vae.history[\"elbo_validation\"]\n",
    "# ax = train_elbo.plot()\n",
    "# test_elbo.plot(ax=ax)\n",
    "\n",
    "# Ensure convergence\n",
    "train_test_results = vae.history[\"elbo_train\"]\n",
    "train_test_results[\"elbo_validation\"] = vae.history[\"elbo_validation\"]\n",
    "train_test_results.iloc[10:].plot(logy=True)  # exclude first 10 epochs\n",
    "plt.show()"
   ]
  },
  {
   "cell_type": "code",
   "execution_count": null,
   "id": "195d7908",
   "metadata": {},
   "outputs": [],
   "source": [
    "vae.get_elbo(adata)"
   ]
  },
  {
   "cell_type": "code",
   "execution_count": null,
   "id": "6e0c164c-bae4-48a2-b98e-690addb3034c",
   "metadata": {},
   "outputs": [],
   "source": [
    "# Full = all genes, batch-corrected for libbatch and sex, parameters set to zinb and gene-batch:\n",
    "vae.save(os.path.join(RESULTS_FOLDERNAME, \"FoetalFull_SampleTypeLibbatch_ZinbGeneBatch/\"), overwrite=True)"
   ]
  },
  {
   "cell_type": "markdown",
   "id": "35f26dfa",
   "metadata": {},
   "source": [
    "# Load saved model"
   ]
  },
  {
   "cell_type": "code",
   "execution_count": null,
   "id": "050bdf65",
   "metadata": {},
   "outputs": [],
   "source": [
    "scvi.model.SCVI.setup_anndata(adata, #adata_hvg\n",
    "                              layer=\"counts\",\n",
    "                              categorical_covariate_keys=[\"sampletype\", \"libbatch\"], # other effects that are taken into account that we are not necessarily interested in\n",
    "                              #\"age\", \"type\", \"phase\", \"sample\" - not correcting for to avoid removing variation of interest\n",
    "                              )\n",
    "\n",
    "vae = scvi.model.SCVI(adata, n_hidden = 128, n_latent=30, n_layers=2, dropout_rate=0.1, dispersion=\"gene-batch\", gene_likelihood='zinb')\n",
    "vae"
   ]
  },
  {
   "cell_type": "code",
   "execution_count": null,
   "id": "24d82c7f",
   "metadata": {},
   "outputs": [],
   "source": [
    "vae = vae.load(os.path.join(RESULTS_FOLDERNAME, \"FoetalFull_SampleTypeLibbatch_ZinbGeneBatch/\"), use_gpu=True, adata=adata)\n",
    "vae"
   ]
  },
  {
   "cell_type": "markdown",
   "id": "13f507ed-d24f-4548-be50-5681259b5893",
   "metadata": {},
   "source": [
    "Once the training is done, we can evaluate the latent representation of each cell in the dataset and add it to the AnnData object. Now, we use the scVI latent space to generate the same UMAP plots to see if scVI successfully accounts for batch effects in the data."
   ]
  },
  {
   "cell_type": "code",
   "execution_count": null,
   "id": "481b0f40-6f04-4ce5-a1e7-f56bc62b8e06",
   "metadata": {},
   "outputs": [],
   "source": [
    "adata.obsm[\"X_scVI\"] = vae.get_latent_representation()\n",
    "# use scVI latent space for UMAP generation\n",
    "sc.pp.neighbors(adata, use_rep=\"X_scVI\", metric='correlation')\n",
    "sc.tl.umap(adata)"
   ]
  },
  {
   "cell_type": "code",
   "execution_count": null,
   "id": "4099ef77",
   "metadata": {},
   "outputs": [],
   "source": [
    "def plot_umaps(anndata, parameters: list, filename: str):\n",
    "    n_plots = len(parameters)\n",
    "    fig, axs = plt.subplots(n_plots, 1, figsize=(7, 4*n_plots))\n",
    "    for i, param in enumerate(parameters):\n",
    "        sc.pl.umap(anndata, color=param, ax=axs[i], show=False, frameon=False)\n",
    "        axs[i].set_title(param)\n",
    "    plt.tight_layout()\n",
    "    savesvg(filename, fig)\n",
    "    plt.show()"
   ]
  },
  {
   "cell_type": "code",
   "execution_count": null,
   "id": "ada78b1c",
   "metadata": {
    "scrolled": true
   },
   "outputs": [],
   "source": [
    "plot_umaps(adata, ['sampletype', 'sample', 'age', 'libbatch', 'type', 'phase', 'sex'], \n",
    "           filename = 'dev_UMAP_plots_scVI_withoutSampletypeCorrection.svg')"
   ]
  },
  {
   "cell_type": "code",
   "execution_count": null,
   "id": "de7c14b6",
   "metadata": {},
   "outputs": [],
   "source": [
    "adata.write(os.path.join(RESULTS_FOLDERNAME, 'dev_libbatchsex_scVI.h5ad'))"
   ]
  },
  {
   "cell_type": "markdown",
   "id": "4f20b35a",
   "metadata": {},
   "source": [
    "# ANNOTATION"
   ]
  },
  {
   "cell_type": "code",
   "execution_count": null,
   "id": "68d58702",
   "metadata": {},
   "outputs": [],
   "source": [
    "adata = sc.read_h5ad(os.path.join(RESULTS_FOLDERNAME, 'dev_libbatchsex_scVI.h5ad'))\n",
    "adata"
   ]
  },
  {
   "cell_type": "code",
   "execution_count": null,
   "id": "850f90f4",
   "metadata": {},
   "outputs": [],
   "source": [
    "sc.pl.umap(adata, \n",
    "           color=['NOTCH3', 'MYH11', 'MYH9', 'DES', 'MCAM', 'RGS5', 'ACTA2', \n",
    "                  'CSPG4', 'PDGFRB', 'COL4A1', 'KCNJ8', 'MGP', 'MYL9', \n",
    "                  'ABCC9', 'cell_type'],\n",
    "           layer='log1p_norm',\n",
    "           vmin=0,\n",
    "           vmax=\"p99\",\n",
    "           sort_order=False,\n",
    "           frameon=False,\n",
    "           cmap=\"Reds\",\n",
    "           save = '_pericyte.png')"
   ]
  },
  {
   "cell_type": "code",
   "execution_count": null,
   "id": "7ba04c78",
   "metadata": {},
   "outputs": [],
   "source": [
    "adata.obs['ageint'] = adata.obs['age'].str.replace('w', '').astype(int)\n",
    "adata.obs['ageint'].value_counts()\n",
    "sc.pl.umap(adata, color='ageint', save='_dev_ageint.svg')"
   ]
  },
  {
   "cell_type": "code",
   "execution_count": null,
   "id": "10d43e45",
   "metadata": {},
   "outputs": [],
   "source": [
    "sc.tl.leiden(adata, resolution = 0.4, key_added = 'leiden_04scvi')\n",
    "sc.tl.leiden(adata, resolution = 0.5, key_added = 'leiden_05scvi')\n",
    "sc.tl.leiden(adata, resolution = 0.6, key_added = 'leiden_06scvi')\n",
    "sc.pl.umap(adata, color=[\"leiden_04scvi\", \"leiden_05scvi\", \"leiden_06scvi\"], legend_loc=\"on data\", frameon=False)"
   ]
  },
  {
   "cell_type": "code",
   "execution_count": null,
   "id": "0fa2060e",
   "metadata": {},
   "outputs": [],
   "source": [
    "sc.pl.umap(adata, color='leiden_06scvi', frameon=False, legend_loc='on data', save='_leiden06.svg')"
   ]
  },
  {
   "cell_type": "code",
   "execution_count": null,
   "id": "c3f66685",
   "metadata": {},
   "outputs": [],
   "source": [
    "sc.pl.umap(adata, color=[\"age\", \"sampletype\"], frameon=False)"
   ]
  },
  {
   "cell_type": "code",
   "execution_count": null,
   "id": "da37c68e",
   "metadata": {},
   "outputs": [],
   "source": [
    "sc.tl.rank_genes_groups(adata, groupby='leiden_06scvi', method='wilcoxon', key_added='wilcoxon_06scvi', \n",
    "                        use_raw=False, layer='log1p_norm')\n",
    "sc.pl.rank_genes_groups(adata, n_genes=25, sharey=False, key='wilcoxon_06scvi')"
   ]
  },
  {
   "cell_type": "code",
   "execution_count": null,
   "id": "13309e90",
   "metadata": {},
   "outputs": [],
   "source": [
    "sc.tl.dendrogram(adata, 'leiden_06scvi')\n",
    "sc.pl.dendrogram(adata, groupby='leiden_06scvi')"
   ]
  },
  {
   "cell_type": "code",
   "execution_count": null,
   "id": "adb2d782",
   "metadata": {},
   "outputs": [],
   "source": [
    "sc.tl.rank_genes_groups(adata, groupby='type', method='wilcoxon', key_added='wilcoxon_type_scvi', \n",
    "                        use_raw=False, layer='log1p_norm')\n",
    "sc.pl.rank_genes_groups(adata, n_genes=30, sharey=False, key='wilcoxon_type_scvi')"
   ]
  },
  {
   "cell_type": "code",
   "execution_count": null,
   "id": "8875ebbc",
   "metadata": {},
   "outputs": [],
   "source": [
    "sc.pl.umap(adata, \n",
    "           color=['SCX', 'MKX', 'TNMD', 'FMOD', 'THBS2', 'THBS4', 'EGR1', 'leiden_06scvi', 'age', 'type', 'sample', 'sampletype'], \n",
    "           layer='log1p_norm',\n",
    "           vmin=0,\n",
    "           vmax=\"p99\",\n",
    "           sort_order=False,\n",
    "           frameon=False,\n",
    "           cmap=\"Reds\",\n",
    "           save = '_DEV_early_tendon_lineagegenes-scvi.svg'\n",
    "          )"
   ]
  },
  {
   "cell_type": "code",
   "execution_count": null,
   "id": "83cdc37a",
   "metadata": {},
   "outputs": [],
   "source": [
    "sc.pl.umap(adata, \n",
    "           color=['COL3A1', 'LUM', 'FBN1', 'COL6A6', 'leiden_06scvi', 'sampletype'], \n",
    "           layer='log1p_norm',\n",
    "           vmin=0,\n",
    "           vmax=\"p99\",\n",
    "           sort_order=False,\n",
    "           frameon=False,\n",
    "           cmap=\"Reds\",\n",
    "           save = '_DEV_fib_type2-scvi.svg'\n",
    "          )"
   ]
  },
  {
   "cell_type": "code",
   "execution_count": null,
   "id": "d322f401",
   "metadata": {},
   "outputs": [],
   "source": [
    "sc.pl.umap(adata, \n",
    "           color=['SOX9', 'SOX5', 'SOX6', 'ACAN', 'COL9A1', 'COL2A1', 'COL11A2', 'COMP', 'DCX', 'CNMD', 'leiden_06scvi', 'sampletype'], \n",
    "           layer='log1p_norm',\n",
    "           vmin=0,\n",
    "           vmax=\"p99\",\n",
    "           sort_order=False,\n",
    "           frameon=False,\n",
    "           cmap=\"Reds\",\n",
    "           save = '_DEV_chondrogenic_fibroblasts-scvi.svg')"
   ]
  },
  {
   "cell_type": "code",
   "execution_count": null,
   "id": "81f0c5e7",
   "metadata": {},
   "outputs": [],
   "source": [
    "sc.pl.umap(adata, \n",
    "           color=['NEB', 'TTN', 'DMD', 'NEXN', 'TRDN', 'MYO18B', 'leiden_06scvi', 'sampletype'], \n",
    "           layer='log1p_norm',\n",
    "           vmin=0,\n",
    "           vmax=\"p99\",\n",
    "           sort_order=False,\n",
    "           frameon=False,\n",
    "           cmap=\"Reds\",\n",
    "           save = '_DEV_myocytes_fibroblasts-scvi.svg')"
   ]
  },
  {
   "cell_type": "code",
   "execution_count": null,
   "id": "cedaa0fa",
   "metadata": {},
   "outputs": [],
   "source": [
    "sc.pl.umap(adata, \n",
    "           color=['MYH8', 'MYH3', 'MYL1', 'TNNC2', 'ACTA1', 'DES', 'MYOG', 'leiden_06scvi', 'sampletype'], \n",
    "           layer='log1p_norm',\n",
    "           vmin=0,\n",
    "           vmax=\"p99\",\n",
    "           sort_order=False,\n",
    "           frameon=False,\n",
    "           cmap=\"Reds\",\n",
    "           save = '_DEV_myocytes2_fibroblasts-scvi.svg')"
   ]
  },
  {
   "cell_type": "code",
   "execution_count": null,
   "id": "0723a7e8",
   "metadata": {},
   "outputs": [],
   "source": [
    "sc.pl.umap(adata, \n",
    "           color=['PECAM1', 'CD34', 'MCAM', 'ENG', 'KDR', 'VWF', 'leiden_06scvi', 'sampletype'], \n",
    "           layer='log1p_norm',\n",
    "           vmin=0,\n",
    "           vmax=\"p99\",\n",
    "           sort_order=False,\n",
    "           frameon=False,\n",
    "           cmap=\"Reds\",\n",
    "           save = '_DEV_VECs-scvi.svg')"
   ]
  },
  {
   "cell_type": "code",
   "execution_count": null,
   "id": "5bf429c4",
   "metadata": {},
   "outputs": [],
   "source": [
    "sc.pl.umap(adata, \n",
    "           color=['PROX1', 'LYVE1', 'leiden_06scvi', 'sampletype'], \n",
    "           layer='log1p_norm',\n",
    "           vmin=0,\n",
    "           vmax=\"p99\",\n",
    "           sort_order=False,\n",
    "           frameon=False,\n",
    "           cmap=\"Reds\",\n",
    "           save = '_DEV_LECs-scvi.svg')"
   ]
  },
  {
   "cell_type": "code",
   "execution_count": null,
   "id": "cdd6df9a",
   "metadata": {},
   "outputs": [],
   "source": [
    "# Convert the index to string\n",
    "adata.var.index = adata.var.index.astype(str)\n",
    "adata.var_names_make_unique()"
   ]
  },
  {
   "cell_type": "code",
   "execution_count": null,
   "id": "e1d9ba9f",
   "metadata": {},
   "outputs": [],
   "source": [
    "sc.pl.rank_genes_groups_dotplot(adata, n_genes=5, groupby='leiden_06scvi',\n",
    "                                use_raw=False, \n",
    "                                layer=\"log1p_norm\", \n",
    "                                vmax=3, vmin=0, \n",
    "                                #cmap='RdBu_r',\n",
    "                                key='wilcoxon_06scvi',\n",
    "                                save='topDEGs06scvi_norm.svg')"
   ]
  },
  {
   "cell_type": "code",
   "execution_count": null,
   "id": "8413b935",
   "metadata": {},
   "outputs": [],
   "source": [
    "result = adata.uns['wilcoxon_06scvi']\n",
    "groups = result['names'].dtype.names\n",
    "df = pd.DataFrame(\n",
    "    {group + '_' + key: result[key][group]\n",
    "    for group in groups \n",
    "    for key in ['names','scores','logfoldchanges', 'pvals', 'pvals_adj']})\n",
    "df.to_csv(os.path.join(RESULTS_FOLDERNAME, 'wilcoxon_DGE_leiden06scvi.csv'))\n",
    "df.head(5)"
   ]
  },
  {
   "cell_type": "code",
   "execution_count": null,
   "id": "009d206a",
   "metadata": {},
   "outputs": [],
   "source": [
    "# create an empty dictionary to store the top 10 names for each cell_type\n",
    "top_names_dict = {}\n",
    "\n",
    "for group in groups:\n",
    "    top_names = result['names'][group][:10] # select the top 10 names for this cell_type\n",
    "    top_names_dict[group] = list(top_names) # add the list of top names to the dictionary"
   ]
  },
  {
   "cell_type": "code",
   "execution_count": null,
   "id": "b4a51aa3",
   "metadata": {},
   "outputs": [],
   "source": [
    "adata.var"
   ]
  },
  {
   "cell_type": "markdown",
   "id": "ce153b29",
   "metadata": {},
   "source": [
    "During development, fibroblasts change their mesenchymal phenotype to an epithelial phenotype, in a process defined as the mesenchymal–epithelial transition (MET), which is fundamental in global ontogenetic development [4,5]. MET involves a complex functional phenotypic change from a typical mesenchymal nonpolarized cell to a polarized ELC. In this process, fibroblasts lose their spindle-shaped morphology and migratory capacity. The expression of typical markers, such as vimentin, desmin, α-SMA, N-cadherin, collagen type I and III, and Thy-1 cell surface antigen (CD90), is lost as well [4,5,6]. These features are replaced by polarity and the expression of epithelial markers, such as E-cadherin, tight junction protein 1 (TJP1), also known as zonula occludens protein-1 (TJP1/ZO-1), cytokeratins, type IV and VII collagen, and laminin [7]."
   ]
  },
  {
   "cell_type": "code",
   "execution_count": null,
   "id": "e4d7f818",
   "metadata": {},
   "outputs": [],
   "source": [
    "sc.pl.umap(adata, \n",
    "           color=['DES', 'VIM', 'S100A4', 'ACTA2', 'CDH2', 'THY1', 'COL1A1', 'COL3A1', 'MMP2', 'FN1', 'leiden_06scvi'],\n",
    "           layer='log1p_norm',\n",
    "           vmin=0,\n",
    "           vmax=\"p99\",\n",
    "           sort_order=False,\n",
    "           frameon=False,\n",
    "           cmap=\"Reds\",\n",
    "           save = '_mesenchymal_fibro_type.svg')"
   ]
  },
  {
   "cell_type": "code",
   "execution_count": null,
   "id": "d7c711c1",
   "metadata": {},
   "outputs": [],
   "source": [
    "sc.pl.umap(adata, \n",
    "           color=['CDH1', 'TJP1', 'LAMA1', 'COL4A1', 'FAP', 'CTNNB1', 'MUC1', 'leiden_06scvi'],\n",
    "           layer='log1p_norm',\n",
    "           vmin=0,\n",
    "           vmax=\"p99\",\n",
    "           sort_order=False,\n",
    "           frameon=False,\n",
    "           cmap=\"Reds\",\n",
    "           save = '_epithelial_fibro_type.svg')"
   ]
  },
  {
   "cell_type": "markdown",
   "id": "b7b295b1",
   "metadata": {},
   "source": [
    "https://www.ncbi.nlm.nih.gov/pmc/articles/PMC6701373/"
   ]
  },
  {
   "cell_type": "code",
   "execution_count": null,
   "id": "d2844f8b",
   "metadata": {},
   "outputs": [],
   "source": [
    "sc.pl.umap(adata, \n",
    "           color=['SNAI1', 'SNAI2', 'TWIST1', 'leiden_06scvi'],\n",
    "           layer='log1p_norm',\n",
    "           vmin=0,\n",
    "           vmax=\"p99\",\n",
    "           sort_order=False,\n",
    "           frameon=False,\n",
    "           cmap=\"Reds\",\n",
    "           save = '_endoTM_fibro_type.svg')"
   ]
  },
  {
   "cell_type": "code",
   "execution_count": null,
   "id": "995d750c",
   "metadata": {
    "scrolled": true
   },
   "outputs": [],
   "source": [
    "for ct in top_names_dict.keys():\n",
    "    print(f\"Cluster {ct.upper()}:\")  # print cluster name\n",
    "    sc.pl.umap(\n",
    "        adata,\n",
    "        layer='log1p_norm',\n",
    "        color=top_names_dict[ct]+['leiden_06scvi'],\n",
    "        vmin=0,\n",
    "        vmax=\"p99\",  # set vmax to the 99th percentile of the gene count instead of the maximum, to prevent outliers from making expression in other cells invisible. Note that this can cause problems for extremely lowly expressed genes.\n",
    "        sort_order=False,  # do not plot highest expression on top, to not get a biased view of the mean expression among cells\n",
    "        frameon=False,\n",
    "        cmap=\"Reds\",  # or choose another color map e.g. from here: https://matplotlib.org/stable/tutorials/colors/colormaps.html\n",
    "        save=f'_dev_cluster{ct}_scvi_topDEGs_06scvi.svg'\n",
    "    )\n",
    "    print(\"\\n\\n\\n\")  # print white space for legibility"
   ]
  },
  {
   "cell_type": "markdown",
   "id": "ff39aee5",
   "metadata": {},
   "source": [
    "Data was manually annotated based on known tenocyte and other cell type markers (shown above) + (CellMESH querying with https://uncurl.cs.washington.edu/db_query + using g:GOSt functional profiling tool on 500+ differentially expressed genes https://biit.cs.ut.ee/gprofiler/gost). Clustering dendrograms were consulted."
   ]
  },
  {
   "cell_type": "code",
   "execution_count": null,
   "id": "410d0890",
   "metadata": {},
   "outputs": [],
   "source": [
    "sc.pl.umap(adata, \n",
    "           color=['PAX6', 'NES', 'PROM1', 'leiden_06scvi', 'sampletype'], \n",
    "           layer='log1p_norm',\n",
    "           vmin=0,\n",
    "           vmax=\"p99\",\n",
    "           sort_order=False,\n",
    "           frameon=False,\n",
    "           cmap=\"Reds\",\n",
    "           save = '_neuroepithelial_markers-scvi.svg')"
   ]
  },
  {
   "cell_type": "code",
   "execution_count": null,
   "id": "3489a2be",
   "metadata": {},
   "outputs": [],
   "source": [
    "sc.pl.umap(adata, \n",
    "           color=['VIM', 'S100A4', 'PDGFRB', 'DDR2', 'PDPN', 'THY1', 'PDGFRA', 'CD44', 'leiden_06scvi', 'sampletype'], \n",
    "           layer='log1p_norm',\n",
    "           vmin=0,\n",
    "           vmax=\"p99\",\n",
    "           sort_order=False,\n",
    "           frameon=False,\n",
    "           cmap=\"Reds\",\n",
    "           save = '_osteoblast_markers-scvi.svg')"
   ]
  },
  {
   "cell_type": "code",
   "execution_count": null,
   "id": "229f30be",
   "metadata": {},
   "outputs": [],
   "source": [
    "gene_markers = ['SCX', 'MKX', 'TNMD', 'FMOD', 'THBS2', 'THBS4', 'EGR1', \n",
    "                'ABI3BP','COL1A1',\"COL12A1\",'COL3A1','COL6A6',\"SPARC\",\"POSTN\",\"DCN\",\"BGN\",'KERA','LUM','FBN1']\n",
    "sc.pl.matrixplot(adata, gene_markers, groupby='leiden_06scvi', cmap='viridis', \n",
    "                 save='_matrix_tenocytemarkers.svg',\n",
    "                 dendrogram=True, layer='log1p_norm', vmin=0, vmax=3)"
   ]
  },
  {
   "cell_type": "code",
   "execution_count": null,
   "id": "4d6a5d53",
   "metadata": {},
   "outputs": [],
   "source": [
    "gene_markers = {'ECM genes':['ABI3BP','COL1A1',\"COL12A1\",'COL3A1','COL6A6',\"SPARC\",\"POSTN\",\"DCN\",\"BGN\",'KERA','LUM','FBN1'],\n",
    "                'Tenocyte genes': ['SCX', 'MKX', 'TNMD', 'FMOD', 'THBS2', 'THBS4', 'EGR1']\n",
    "               }\n",
    "\n",
    "sc.pl.dotplot(adata, gene_markers, groupby='leiden_06scvi', dendrogram=True, \n",
    "                 save='_tenocytemarkers.svg',\n",
    "                 layer='log1p_norm', vmin=0, vmax=3)"
   ]
  },
  {
   "cell_type": "code",
   "execution_count": null,
   "id": "f3ee0e93",
   "metadata": {},
   "outputs": [],
   "source": [
    "sc.pl.umap(adata, color=[\"COL1A1\",\"COL12A1\",\"SPARC\",\"POSTN\",\"DCN\",\"BGN\", \"leiden_06scvi\", \"sampletype\"],\n",
    "           layer='log1p_norm',\n",
    "           vmin=0,\n",
    "           vmax=\"p99\",\n",
    "           sort_order=False,\n",
    "           frameon=False,\n",
    "           cmap=\"Reds\",\n",
    "           save = '_general_fibroblasts-scvi.svg'\n",
    "          )"
   ]
  },
  {
   "cell_type": "code",
   "execution_count": null,
   "id": "b17222d7",
   "metadata": {},
   "outputs": [],
   "source": [
    "gene_markers = ['ABI3BP','COL1A1',\"COL12A1\",'COL3A1','COL6A6',\"SPARC\",\"POSTN\",\"DCN\",\"BGN\",'KERA','LUM','FBN1',\n",
    "                'SCX', 'MKX', 'TNMD', 'FMOD', 'THBS2', 'THBS4', 'EGR1']"
   ]
  },
  {
   "cell_type": "code",
   "execution_count": null,
   "id": "a0d93014",
   "metadata": {},
   "outputs": [],
   "source": [
    "sc.pl.umap(adata, color= gene_markers,\n",
    "           layer='log1p_norm',\n",
    "           vmin=0,\n",
    "           vmax=\"p99\",\n",
    "           sort_order=False,\n",
    "           frameon=False,\n",
    "           cmap=\"Reds\",\n",
    "           save = '_allfibroblasts-scvi.svg'\n",
    "          )"
   ]
  },
  {
   "cell_type": "code",
   "execution_count": null,
   "id": "6f47e2c3",
   "metadata": {},
   "outputs": [],
   "source": [
    "sc.pl.umap(adata, color=[\"MYH11\",\"ACTA2\",\"NOTCH3\",\"CALD1\", \"leiden_06scvi\", \"sampletype\"],\n",
    "           layer='log1p_norm',\n",
    "           vmin=0,\n",
    "           vmax=\"p99\",\n",
    "           sort_order=False,\n",
    "           frameon=False,\n",
    "           cmap=\"Reds\",\n",
    "           save = '_smooth_myocytes-scvi.svg'\n",
    "          )"
   ]
  },
  {
   "cell_type": "code",
   "execution_count": null,
   "id": "a26ff6d5",
   "metadata": {},
   "outputs": [],
   "source": [
    "sc.tl.rank_genes_groups(adata, groupby='age', method='wilcoxon', key_added='wilcoxon_age', \n",
    "                        use_raw=False, layer='log1p_norm')\n",
    "sc.pl.rank_genes_groups(adata, n_genes=25, sharey=False, key='wilcoxon_age')"
   ]
  },
  {
   "cell_type": "code",
   "execution_count": null,
   "id": "f997a17a",
   "metadata": {},
   "outputs": [],
   "source": [
    "# adata.var.index=adata.var['ensembl_gene_id']\n",
    "# annot = sc.queries.biomart_annotations(\n",
    "#     \"hsapiens\",\n",
    "#     [\"description\", \"ensembl_gene_id\"],\n",
    "# ).set_index(\"ensembl_gene_id\")\n",
    "\n",
    "# adata.var[annot.columns] = annot\n",
    "# adata.var.index=adata.var['Gene']\n",
    "# adata.var.drop(columns='Gene', inplace=True)"
   ]
  },
  {
   "cell_type": "code",
   "execution_count": null,
   "id": "e8b32f77",
   "metadata": {},
   "outputs": [],
   "source": [
    "sc.tl.rank_genes_groups(adata, groupby='leiden_06scvi', groups=['7'], reference='3',\n",
    "                     method='wilcoxon', key_added='wilcoxon_7vs3', use_raw=False, layer='log1p_norm')\n",
    "sc.pl.rank_genes_groups(adata, n_genes=25, sharey=False, key='wilcoxon_7vs3')"
   ]
  },
  {
   "cell_type": "code",
   "execution_count": null,
   "id": "15efb5c7",
   "metadata": {},
   "outputs": [],
   "source": [
    "sc.tl.rank_genes_groups(adata, groupby='leiden_06scvi', groups=['2'], reference='7',\n",
    "                     method='wilcoxon', key_added='wilcoxon_2vs7', use_raw=False, layer='log1p_norm')\n",
    "sc.pl.rank_genes_groups(adata, n_genes=25, sharey=False, key='wilcoxon_2vs7')"
   ]
  },
  {
   "cell_type": "code",
   "execution_count": null,
   "id": "3ae8dee7",
   "metadata": {},
   "outputs": [],
   "source": [
    "markers_dict = {\n",
    "    'chondrocytes':[\n",
    "        \"COL2A1\",\n",
    "        \"SOX9\",\n",
    "        \"COL9A1\",\n",
    "        \"ACAN\",\n",
    "        \"COMP\",\n",
    "        \"HAPLN1\",\n",
    "        \"MATN1\"\n",
    "    ],\n",
    "    'fibroblasts (general)': [\n",
    "        \"COL1A1\",\n",
    "        \"COL12A1\",\n",
    "        \"SPARC\",\n",
    "        \"POSTN\",\n",
    "        \"DCN\",\n",
    "        #\"BGN\"\n",
    "    ],\n",
    "    'fibroblasts (type 1)': [\n",
    "        \"SOX5\",\n",
    "        \"COL11A1\",\n",
    "        \"ABI3BP\",\n",
    "        \"GAS2\",\n",
    "        #\"COL24A1\", # could regulate type I collagen fibrillogenesis, upregulated in human tendinopathy\n",
    "        \"FMOD\",\n",
    "        \"TNMD\",\n",
    "        \"MKX\",\n",
    "        \"KERA\",\n",
    "        \"SCX\"\n",
    "    ],\n",
    "    'fibroblasts (type 2)': [\n",
    "        \"COL3A1\", \n",
    "        \"COL6A6\",\n",
    "        \"DCLK1\",\n",
    "        \"EBF1\",\n",
    "        \"TSHZ2\",\n",
    "        \"PLAGL1\",\n",
    "        \"VCAN\",\n",
    "        \"FBN1\",\n",
    "        \"NOVA1\",\n",
    "        \"NEGR1\",\n",
    "        \"NAV3\",\n",
    "        \"LUM\",\n",
    "        \"SEMA5A\",\n",
    "        \"TNXB\",\n",
    "        \"PI16\",\n",
    "        \"SCN7A\",\n",
    "        \"CDH18\",\n",
    "    ],\n",
    "    \n",
    "    'fibroblasts (type 3)': [\n",
    "        \"FGF14\",\n",
    "        \"FSTL5\",\n",
    "        \"THBS4\",\n",
    "        \"BMP5\",\n",
    "        \"CDH12\"\n",
    "    ],\n",
    "    'macrophages': [\n",
    "        \"MRC1\",\n",
    "        \"F13A1\",\n",
    "        \"CSF1R\", \n",
    "        \"CD163\",   \n",
    "        \"CD68\",    \n",
    "        \"CD36\"\n",
    "    ],\n",
    "    'immune cells': [\n",
    "        \"CD4\",     # Cluster of differentiation 4 (T helper cells)\n",
    "        \"FOXP3\",   # Forkhead box protein P3 (Regulatory T cells)\n",
    "        \"SKAP1\",\n",
    "        \"THEMIS\",\n",
    "        \"PTPRC\",\n",
    "        \"RIPOR2\",\n",
    "        \"IKZF1\"\n",
    "    ],\n",
    "    'vascular endothelial cells': [\n",
    "        \"CDH5\",    # Cadherin 5\n",
    "        \"VWF\",     # Von Willebrand factor\n",
    "        \"PECAM1\",  # Platelet and endothelial cell adhesion molecule 1\n",
    "        \"CD34\"\n",
    "    ],\n",
    "    'lymphatic endothelial cells': [\n",
    "        \"LYVE1\",   # Lymphatic vessel endothelial hyaluronan receptor 1\n",
    "        \"PROX1\",   # Prospero homeobox 1\n",
    "        \"FLT4\",    # Fms-related tyrosine kinase 4 (VEGFR3)\n",
    "    ],\n",
    "    'nervous system cells': [\n",
    "        \"NRXN1\",\n",
    "        \"XKR4\",\n",
    "        \"SLC35F1\",\n",
    "        \"NCAM2\",\n",
    "        \"PTPRZ1\",\n",
    "        \"FIGN\",\n",
    "        \"IL1RAPL2\",\n",
    "        \"CDH6\",\n",
    "        \"GRID2\",\n",
    "        \"SOX10\"\n",
    "    ],\n",
    "    'smooth myocytes': [\n",
    "        \"ACTA2\",   # Alpha-smooth muscle actin\n",
    "        \"MYH11\",   # Smooth muscle myosin heavy chain\n",
    "        \"NOTCH3\",\n",
    "        #\"DES\",     # Desmin\n",
    "        #\"VIM\",     # Vimentin\n",
    "        #\"SMTN\",    # Smoothelin\n",
    "        \"CALD1\",   # Caldesmon\n",
    "        \"PDGFRB\",\n",
    "        \"COL4A1\",\n",
    "    ],\n",
    "    'dividing cells': [\n",
    "        \"MKI67\",\n",
    "        \"DIAPH3\",\n",
    "        \"CENPK\",\n",
    "        \"CENPP\",\n",
    "        \"TOP2A\"\n",
    "    ],\n",
    "    'satellite/myoblast cells': [\n",
    "        \"PAX7\",    # Paired box 7\n",
    "        \"DES\",      # Desmin\n",
    "        \"CDH15\",   # Cadherin-15 (M-Cadherin)\n",
    "        \"NES\",     # Nestin\n",
    "        \"DLK1\",\n",
    "        \"NCAM1\",    # Neural Cell Adhesion Molecule 1 (CD56)\n",
    "        \"MYO18B\",\n",
    "        \"RYR3\",\n",
    "        \"MYF5\",    # Myogenic factor 5\n",
    "        \"MYOD1\",   # Myogenic Differentiation 1\n",
    "        \"MYOG\",     # Myogenin\n",
    "    ],\n",
    "    'skeletal myocytes': [\n",
    "        \"TNNT3\",\n",
    "        \"TTN\",\n",
    "        \"MYH3\",\n",
    "        \"COL22A1\",\n",
    "        \"TNNC1\"\n",
    "    ],\n",
    "}\n"
   ]
  },
  {
   "cell_type": "code",
   "execution_count": null,
   "id": "33e3af61",
   "metadata": {},
   "outputs": [],
   "source": [
    "sc.pl.dotplot(adata, markers_dict, groupby='leiden_06scvi',\n",
    "             use_raw=False, layer='log1p_norm', dendrogram=True,\n",
    "             save='_annotation.svg')"
   ]
  },
  {
   "cell_type": "code",
   "execution_count": null,
   "id": "a1102732",
   "metadata": {},
   "outputs": [],
   "source": [
    "# Subset the dictionary\n",
    "filtered_dict = {key: value for key, value in markers_dict.items() if 'fibro' in key.lower() or 'dividing' in key.lower()}\n",
    "# Print the filtered dictionary\n",
    "print(filtered_dict)"
   ]
  },
  {
   "cell_type": "code",
   "execution_count": null,
   "id": "d5b9b274",
   "metadata": {},
   "outputs": [],
   "source": [
    "sc.pl.dotplot(adata, filtered_dict, groupby='leiden_06scvi', \n",
    "              use_raw=False, layer='log1p_norm', dendrogram=True,\n",
    "              cmap='Reds',\n",
    "              save='_annotation_fibroblasts.svg')"
   ]
  },
  {
   "cell_type": "code",
   "execution_count": null,
   "id": "bf3a8abc",
   "metadata": {},
   "outputs": [],
   "source": [
    "sc.pl.umap(adata, color=['SOX5', 'COL11A1', 'ABI3BP', 'GAS2', 'FMOD', 'TNMD', 'MKX', 'KERA', 'SCX'],\n",
    "           layer='log1p_norm',\n",
    "           vmin=0,\n",
    "           vmax=\"p99\",\n",
    "           sort_order=False,\n",
    "           frameon=False,\n",
    "           cmap=\"Reds\",\n",
    "           save = '_annotation_type1fibros.svg'\n",
    "          )"
   ]
  },
  {
   "cell_type": "code",
   "execution_count": null,
   "id": "a126e1f1",
   "metadata": {},
   "outputs": [],
   "source": [
    "sc.pl.umap(adata, color=['COL3A1', 'COL6A6', 'DCLK1', 'EBF1', 'TSHZ2', 'PLAGL1', 'VCAN', 'FBN1', \n",
    "                         'NOVA1', 'NEGR1', 'NAV3', 'LUM', 'SEMA5A', 'TNXB', 'PI16', 'SCN7A', 'CDH18'],\n",
    "           layer='log1p_norm',\n",
    "           vmin=0,\n",
    "           vmax=\"p99\",\n",
    "           sort_order=False,\n",
    "           frameon=False,\n",
    "           cmap=\"Reds\",\n",
    "           save = '_annotation_type2fibros.svg'\n",
    "          )"
   ]
  },
  {
   "cell_type": "code",
   "execution_count": null,
   "id": "8ff74c1c",
   "metadata": {},
   "outputs": [],
   "source": [
    "sc.pl.umap(adata, color=['FGF14', 'FSTL5', 'THBS4', 'BMP5', 'CDH12'],\n",
    "           layer='log1p_norm',\n",
    "           vmin=0,\n",
    "           vmax=\"p99\",\n",
    "           sort_order=False,\n",
    "           frameon=False,\n",
    "           cmap=\"Reds\",\n",
    "           save = '_annotation_type3fibros.svg'\n",
    "          )"
   ]
  },
  {
   "cell_type": "code",
   "execution_count": null,
   "id": "a815d0df",
   "metadata": {},
   "outputs": [],
   "source": [
    "sc.pl.umap(adata, color=['MKI67', 'DIAPH3', 'CENPK', 'CENPP', 'TOP2A'],\n",
    "           layer='log1p_norm',\n",
    "           vmin=0,\n",
    "           vmax=\"p99\",\n",
    "           sort_order=False,\n",
    "           frameon=False,\n",
    "           cmap=\"Reds\",\n",
    "           save = '_annotation_dividing.svg'\n",
    "          )"
   ]
  },
  {
   "cell_type": "code",
   "execution_count": null,
   "id": "53579f57",
   "metadata": {},
   "outputs": [],
   "source": [
    "# Subsetting the dictionary to remove keys containing 'fibro' or 'dividing'\n",
    "filtered_dict = {key: value for key, value in markers_dict.items() if not ('fibro' in key.lower() or 'dividing' in key.lower())}\n",
    "# Printing the resulting subsetted dictionary\n",
    "print(filtered_dict)"
   ]
  },
  {
   "cell_type": "code",
   "execution_count": null,
   "id": "dd6aafa8",
   "metadata": {},
   "outputs": [],
   "source": [
    "sc.pl.dotplot(adata, filtered_dict, groupby='leiden_06scvi', \n",
    "              use_raw=False, layer='log1p_norm', dendrogram=True,\n",
    "              save='_annotation_rest.svg')"
   ]
  },
  {
   "cell_type": "code",
   "execution_count": null,
   "id": "5d91c11a",
   "metadata": {},
   "outputs": [],
   "source": [
    "end_markers_dict = {\n",
    "    'interfascicular maxtrix (general)': [\n",
    "        'COL4A1', \n",
    "        'COL4A2', \n",
    "        'HSPG2', # perlecan\n",
    "        'NID1',  #nidogen-1\n",
    "        'LAMB1', \n",
    "        'LAMC1', \n",
    "        'ITGA6', \n",
    "        'ITGB1',\n",
    "    ],\n",
    "    'vascular endothelial cells': [\n",
    "        \"CDH5\",    # Cadherin 5\n",
    "        \"VWF\",     # Von Willebrand factor\n",
    "        \"PECAM1\",  # Platelet and endothelial cell adhesion molecule 1\n",
    "        \"CD34\",\n",
    "        \"ENG\",\n",
    "        \"TEK\"\n",
    "    ],\n",
    "    'lymphatic endothelial cells': [\n",
    "        \"LYVE1\",   # Lymphatic vessel endothelial hyaluronan receptor 1\n",
    "        \"PROX1\",   # Prospero homeobox 1\n",
    "        \"FLT4\",    # Fms-related tyrosine kinase 4 (VEGFR3)\n",
    "    ],\n",
    "    'nervous system cells': [\n",
    "        \"NRXN1\",\n",
    "        \"XKR4\",\n",
    "        \"SLC35F1\",\n",
    "        \"NCAM2\",\n",
    "        \"PTPRZ1\",\n",
    "        \"FIGN\",\n",
    "        \"IL1RAPL2\",\n",
    "        \"CDH6\",\n",
    "        \"GRID2\",\n",
    "        \"SOX10\"\n",
    "    ],\n",
    "    'smooth myocytes': [\n",
    "        \"ACTA2\",   # Alpha-smooth muscle actin\n",
    "        \"MYH11\",   # Smooth muscle myosin heavy chain\n",
    "        \"NOTCH3\",\n",
    "        #\"DES\",     # Desmin\n",
    "        #\"VIM\",     # Vimentin\n",
    "        #\"SMTN\",    # Smoothelin\n",
    "        \"CALD1\",   # Caldesmon\n",
    "        \"PDGFRB\",\n",
    "    ],\n",
    "}"
   ]
  },
  {
   "cell_type": "code",
   "execution_count": null,
   "id": "4bd0b289",
   "metadata": {},
   "outputs": [],
   "source": [
    "sc.pl.dotplot(adata, end_markers_dict, groupby='leiden_06scvi', \n",
    "              use_raw=False, layer='log1p_norm', dendrogram=True,\n",
    "              save='_annotation_ifm_markers.svg',\n",
    "              cmap='Greens'\n",
    "             )"
   ]
  },
  {
   "cell_type": "code",
   "execution_count": null,
   "id": "a1e473b8",
   "metadata": {
    "scrolled": true
   },
   "outputs": [],
   "source": [
    "sc.pl.umap(adata, color=['COL4A1', 'COL4A2', 'HSPG2', 'NID1', 'LAMB1', 'LAMC1', 'ITGA6', 'ITGB1', 'CDH5', \n",
    "                         'VWF', 'PECAM1', 'CD34', 'ENG', 'TEK', \n",
    "                         'LYVE1', 'PROX1', 'FLT4', 'NRXN1', 'XKR4', \n",
    "                         'SLC35F1', 'NCAM2', 'PTPRZ1', 'FIGN', 'IL1RAPL2', \n",
    "                         'CDH6', 'GRID2', 'SOX10', 'ACTA2', 'MYH11', 'NOTCH3', 'CALD1', 'PDGFRB'],\n",
    "           layer='log1p_norm',\n",
    "           vmin=0,\n",
    "           vmax=\"p99\",\n",
    "           sort_order=False,\n",
    "           frameon=False,\n",
    "           cmap=\"Greens\",\n",
    "           save = '_annotation_ifm.svg'\n",
    "          )"
   ]
  },
  {
   "cell_type": "code",
   "execution_count": null,
   "id": "b5adde67",
   "metadata": {},
   "outputs": [],
   "source": [
    "import matplotlib\n",
    "matplotlib.rcParams['patch.edgecolor'] = 'black'"
   ]
  },
  {
   "cell_type": "code",
   "execution_count": null,
   "id": "3d5f67d6",
   "metadata": {},
   "outputs": [],
   "source": [
    "structure_dict = {\n",
    "    'chondrocytes': ['COL2A1', 'SOX9', 'COL9A1', 'ACAN', 'COMP', 'HAPLN1', 'MATN1'],\n",
    "    'satellite/myoblast cells': ['PAX7', 'DES', 'CDH15', 'NES', 'DLK1', 'NCAM1', 'MYO18B', 'RYR3', 'MYF5', 'MYOD1', 'MYOG'], \n",
    "    'skeletal myocytes': ['TNNT3', 'TTN', 'MYH3', 'COL22A1', 'TNNC1']}\n",
    "\n",
    "sc.pl.dotplot(adata, structure_dict, groupby='leiden_06scvi', \n",
    "              use_raw=False, layer='log1p_norm', dendrogram=True,\n",
    "              save='_annotation_microanat_markers.svg',\n",
    "              #swap_axes=True,\n",
    "              cmap='Oranges'\n",
    "             )"
   ]
  },
  {
   "cell_type": "code",
   "execution_count": null,
   "id": "e4473cfd",
   "metadata": {},
   "outputs": [],
   "source": [
    "sc.pl.umap(adata, color=['COL2A1', 'SOX9', 'COL9A1', 'ACAN', 'COMP', 'HAPLN1', 'MATN1',\n",
    "                        'PAX7', 'DES', 'CDH15', 'NES', 'DLK1', 'NCAM1', 'MYO18B', 'RYR3', 'MYF5', 'MYOD1', 'MYOG',\n",
    "                        'TNNT3', 'TTN', 'MYH3', 'COL22A1', 'TNNC1'],\n",
    "           layer='log1p_norm',\n",
    "           vmin=0,\n",
    "           vmax=\"p99\",\n",
    "           sort_order=False,\n",
    "           frameon=False,\n",
    "           cmap=\"Oranges\",\n",
    "           save = '_annotation_microanat.svg'\n",
    "          )"
   ]
  },
  {
   "cell_type": "code",
   "execution_count": null,
   "id": "92727c15",
   "metadata": {},
   "outputs": [],
   "source": [
    "# Assuming adata is your AnnData object\n",
    "cluster_column = 'leiden_06scvi'\n",
    "sample_column = 'sampletype'\n",
    "\n",
    "# Create a DataFrame with the cluster and sampletype columns\n",
    "data_to_plot = pd.DataFrame({'Cluster': adata.obs[cluster_column], 'SampleType': adata.obs[sample_column]})\n",
    "\n",
    "# Pivot the DataFrame to get the count of each SampleType in each Cluster\n",
    "pivot_data = data_to_plot.groupby(['Cluster', 'SampleType']).size().reset_index(name='Count')\n",
    "pivot_data = pivot_data.pivot(index='Cluster', columns='SampleType', values='Count').fillna(0)\n",
    "\n",
    "# Plot the bar plot\n",
    "sns.set(style=\"whitegrid\")\n",
    "pivot_data.plot(kind='bar', stacked=True, figsize=(10, 6))\n",
    "plt.title('Distribution of Tissue Type Donors in Clusters')\n",
    "plt.xlabel('Clusters')\n",
    "plt.ylabel('Number of Cells')\n",
    "plt.legend(title='Sample Type')\n",
    "plt.xticks(rotation=45)\n",
    "plt.savefig(os.path.join(FIGURES_FOLDERNAME, 'donordistInclusters.svg'))\n",
    "plt.show()"
   ]
  },
  {
   "cell_type": "code",
   "execution_count": null,
   "id": "17bca494",
   "metadata": {},
   "outputs": [],
   "source": [
    "adata.obs.leiden_06scvi.value_counts()"
   ]
  },
  {
   "cell_type": "code",
   "execution_count": null,
   "id": "60bd4c7b",
   "metadata": {},
   "outputs": [],
   "source": [
    "sc.tl.filter_rank_genes_groups(\n",
    "    adata,\n",
    "    min_in_group_fraction=0.2,\n",
    "    max_out_group_fraction=0.2,\n",
    "    key=\"wilcoxon_06scvi\",\n",
    "    key_added=\"wilcoxon_06scvi_filtered\",\n",
    ")"
   ]
  },
  {
   "cell_type": "code",
   "execution_count": null,
   "id": "c2764dab",
   "metadata": {},
   "outputs": [],
   "source": [
    "sc.pl.rank_genes_groups_dotplot(adata, n_genes=5, groupby='leiden_06scvi',\n",
    "                                use_raw=False, \n",
    "                                layer=\"log1p_norm\", \n",
    "                                vmax=3, vmin=0, \n",
    "                                #cmap='RdBu_r',\n",
    "                                key='wilcoxon_06scvi_filtered',\n",
    "                                save='topDEGs06scvi_norm_filtered.svg')"
   ]
  },
  {
   "cell_type": "code",
   "execution_count": null,
   "id": "2c2881e5",
   "metadata": {},
   "outputs": [],
   "source": [
    "immune_dict = {\n",
    "    'immune cells': [\n",
    "        'PTPRC',#'FOXP3',\n",
    "        'CD44',\n",
    "        'IKZF1', \n",
    "        'RUNX1', \n",
    "        'DOCK2', \n",
    "        'INPP5D',\n",
    "    ],\n",
    "    'macrophages': [\n",
    "        'MRC1', 'F13A1', \n",
    "        'CSF1R', 'CD163', \n",
    "        'CD68', 'CD36',\n",
    "        #'LRMDA', 'ITPR2',\n",
    "        'LGMN'\n",
    "    ], \n",
    "    'lymphoid': [\n",
    "        'SKAP1', \n",
    "        'THEMIS', \n",
    "        'CD247',\n",
    "        'EPB41', \n",
    "        'PIP4K2A', \n",
    "        'PRKCB',\n",
    "        'CD96',\n",
    "        'CD38'\n",
    "    ],\n",
    "    'unknown progenitors': [\n",
    "        'KIT',\n",
    "        'TFRC',\n",
    "        'IL18R1',\n",
    "        'MITF',\n",
    "        'BMP2K', \n",
    "        'GATA2',\n",
    "    ]\n",
    "                     \n",
    "}\n",
    "#'FLT3'\n",
    "#'ILR7', \n",
    "# CD127\n",
    "#'PAX5',\n",
    "#'ID2',\n",
    "#'TCF3'\n",
    "\n",
    "sc.pl.dotplot(adata, immune_dict, groupby='leiden_06scvi', \n",
    "              use_raw=False, layer='log1p_norm', dendrogram=True,\n",
    "              cmap='Purples',\n",
    "              save='_annotation_immune_markers.svg'\n",
    "             )"
   ]
  },
  {
   "cell_type": "code",
   "execution_count": null,
   "id": "455024da",
   "metadata": {},
   "outputs": [],
   "source": [
    "sc.pl.umap(adata, color=['PTPRC','CD44','IKZF1','RUNX1','DOCK2','INPP5D','MRC1', 'F13A1', \n",
    "        'CSF1R', 'CD163', \n",
    "        'CD68', 'CD36',\n",
    "        'LGMN',\n",
    "        'SKAP1', \n",
    "        'CD247',\n",
    "        'EPB41', \n",
    "        'PIP4K2A', \n",
    "        'PRKCB',\n",
    "        'KIT',\n",
    "        'TFRC',\n",
    "        'IL18R1',\n",
    "        'MITF',\n",
    "        'BMP2K', \n",
    "        'GATA2'],\n",
    "           layer='log1p_norm',\n",
    "           vmin=0,\n",
    "           vmax=\"p99\",\n",
    "           sort_order=False,\n",
    "           frameon=False,\n",
    "           cmap=\"Purples\",\n",
    "           save = '_annotation_immune.svg'\n",
    "          )"
   ]
  },
  {
   "cell_type": "code",
   "execution_count": null,
   "id": "72457752",
   "metadata": {},
   "outputs": [],
   "source": [
    "adata.obs['cell_type'] = adata.obs['leiden_06scvi'].astype(int)\n",
    "cell_type_names = { \n",
    "    0: 'ABI3BP GAS2 Fibroblasts 2', #\n",
    "    1: 'ABI3BP GAS2 Fibroblasts 3', #\n",
    "    2: 'COL3A1 PI16 Fibroblasts', \n",
    "    3: 'COL6A6 FNDC1 Fibroblasts', \n",
    "    4: 'Unknown', #dividing fibroblasts\n",
    "    5: 'Macrophages',\n",
    "    6: 'ABI3BP GAS2 Fibroblasts 1',\n",
    "    7: 'NEGR1 SCN7A Fibroblasts',\n",
    "    8: 'Satellite Cells',\n",
    "    9: 'Chondrocytes', #\n",
    "    10: 'vasEndothelial Cells',\n",
    "    11: 'Smooth Myocytes', \n",
    "    12: 'FGF14 THBS4 Fibroblasts',\n",
    "    13: 'Skeletal Myocytes', \n",
    "    14: 'Nervous System Cells', \n",
    "    15: 'Unknown', # dividing cells\n",
    "    16: 'Unknown', # low immune cell nr\n",
    "    17: 'Immune Cells',\n",
    "    18: 'lymEndothelial Cells'\n",
    "}\n",
    "adata.obs['cell_type'] = adata.obs['cell_type'].replace(cell_type_names)"
   ]
  },
  {
   "cell_type": "code",
   "execution_count": null,
   "id": "6633d752",
   "metadata": {},
   "outputs": [],
   "source": [
    "adata.obs['cell_type'].value_counts()"
   ]
  },
  {
   "cell_type": "code",
   "execution_count": null,
   "id": "6bfe8ec2",
   "metadata": {},
   "outputs": [],
   "source": [
    "adata"
   ]
  },
  {
   "cell_type": "code",
   "execution_count": null,
   "id": "68cb6104",
   "metadata": {},
   "outputs": [],
   "source": [
    "sc.pl.umap(adata, color=[\"COL1A1\",\"COL12A1\",\"SPARC\",\"POSTN\",\"DCN\",\"BGN\", \"leiden_06scvi\", \"sampletype\"],\n",
    "           layer='log1p_norm',\n",
    "           vmin=0,\n",
    "           vmax=\"p99\",\n",
    "           sort_order=False,\n",
    "           frameon=False,\n",
    "           cmap=\"Reds\",\n",
    "           save = '_general_fibroblasts-scvi.svg'\n",
    "          )"
   ]
  },
  {
   "cell_type": "code",
   "execution_count": null,
   "id": "02a72a4a",
   "metadata": {},
   "outputs": [],
   "source": [
    "adata.write(os.path.join(RESULTS_FOLDERNAME, 'dev_libbatchsex_scVI.h5ad'))"
   ]
  },
  {
   "cell_type": "markdown",
   "id": "5cbfbdcd",
   "metadata": {},
   "source": [
    "# scANVI INTEGRATION"
   ]
  },
  {
   "cell_type": "code",
   "execution_count": null,
   "id": "9b4fcdcd",
   "metadata": {},
   "outputs": [],
   "source": [
    "adata = sc.read_h5ad(os.path.join(RESULTS_FOLDERNAME, 'dev_libbatchsex_scVI.h5ad'))"
   ]
  },
  {
   "cell_type": "code",
   "execution_count": null,
   "id": "66a214c4",
   "metadata": {},
   "outputs": [],
   "source": [
    "vae = scvi.model.SCVI(adata, n_hidden = 128, n_latent=30, n_layers=2, dropout_rate=0.1, dispersion=\"gene-batch\", gene_likelihood='zinb')\n",
    "vae = vae.load(os.path.join(RESULTS_FOLDERNAME, \"FoetalFull_SampleTypeLibbatch_ZinbGeneBatch/\"), use_gpu=True, adata=adata)\n",
    "vae"
   ]
  },
  {
   "cell_type": "code",
   "execution_count": null,
   "id": "24288f02",
   "metadata": {},
   "outputs": [],
   "source": [
    "# Replace the cell_type values directly in the original adata object\n",
    "#adata.obs['cell_type'] = adata.obs['cell_type'].replace(['Dividing Cells', 'Dividing Cells 2'], 'Unknown')\n",
    "#np.unique(adata.obs[\"cell_type\"], return_counts=True)"
   ]
  },
  {
   "cell_type": "code",
   "execution_count": null,
   "id": "decc63e7",
   "metadata": {},
   "outputs": [],
   "source": [
    "lvae = scvi.model.SCANVI.from_scvi_model(\n",
    "    vae,\n",
    "    adata=adata,\n",
    "    labels_key=\"cell_type\",\n",
    "    unlabeled_category=\"Unknown\",\n",
    ")"
   ]
  },
  {
   "cell_type": "code",
   "execution_count": null,
   "id": "6e7525d6",
   "metadata": {},
   "outputs": [],
   "source": [
    "lvae.train(max_epochs=25, train_size = 0.9, validation_size = 0.1, \n",
    "          use_gpu=True, accelerator='gpu', \n",
    "          check_val_every_n_epoch=1,\n",
    "          early_stopping=True,\n",
    "          early_stopping_patience=10,\n",
    "          early_stopping_monitor=\"elbo_validation\",)"
   ]
  },
  {
   "cell_type": "code",
   "execution_count": null,
   "id": "815257c2",
   "metadata": {},
   "outputs": [],
   "source": [
    "# Ensure convergence\n",
    "train_test_results = lvae.history[\"elbo_train\"]\n",
    "train_test_results[\"elbo_validation\"] = lvae.history[\"elbo_validation\"]\n",
    "train_test_results.iloc[10:].plot(logy=True)  # exclude first 10 epochs\n",
    "plt.show()"
   ]
  },
  {
   "cell_type": "code",
   "execution_count": null,
   "id": "76dbc8c9",
   "metadata": {},
   "outputs": [],
   "source": [
    "lvae.save(os.path.join(RESULTS_FOLDERNAME, \"FoetalFull_SampleTypeLibbatch_ZinbGeneBatch_scANVI/\"), overwrite=True)"
   ]
  },
  {
   "cell_type": "code",
   "execution_count": null,
   "id": "4b2af4f2",
   "metadata": {},
   "outputs": [],
   "source": [
    "adata.obs[\"C_scANVI\"] = lvae.predict(adata)\n",
    "adata.obsm[\"X_scANVI\"] = lvae.get_latent_representation(adata)"
   ]
  },
  {
   "cell_type": "code",
   "execution_count": null,
   "id": "10f2f751",
   "metadata": {},
   "outputs": [],
   "source": [
    "sc.pp.neighbors(adata, use_rep=\"X_scANVI\", metric='correlation')\n",
    "sc.tl.umap(adata)"
   ]
  },
  {
   "cell_type": "code",
   "execution_count": null,
   "id": "5d0500df",
   "metadata": {},
   "outputs": [],
   "source": [
    "def plot_umaps(anndata, parameters: list, filename: str):\n",
    "    n_plots = len(parameters)\n",
    "    fig, axs = plt.subplots(n_plots, 1, figsize=(8, 4*n_plots))\n",
    "    for i, param in enumerate(parameters):\n",
    "        sc.pl.umap(anndata, color=param, ax=axs[i], show=False, frameon=False, s=2)\n",
    "        axs[i].set_title(param)\n",
    "    plt.tight_layout()\n",
    "    savesvg(filename, fig)\n",
    "    plt.show()"
   ]
  },
  {
   "cell_type": "code",
   "execution_count": null,
   "id": "e0636956",
   "metadata": {},
   "outputs": [],
   "source": [
    "plot_umaps(adata, ['sampletype', 'sample', 'age', 'libbatch', 'type', 'phase', 'sex', 'cell_type', 'C_scANVI'], \n",
    "           filename = 'dev_UMAP_plots_scANVI.svg')"
   ]
  },
  {
   "cell_type": "code",
   "execution_count": null,
   "id": "947d2086",
   "metadata": {},
   "outputs": [],
   "source": [
    "adata.obs['cell_type'].value_counts()"
   ]
  },
  {
   "cell_type": "code",
   "execution_count": null,
   "id": "9293fa2e",
   "metadata": {},
   "outputs": [],
   "source": [
    "adata.obs['C_scANVI'].value_counts()"
   ]
  },
  {
   "cell_type": "code",
   "execution_count": null,
   "id": "f6b3e7ff",
   "metadata": {},
   "outputs": [],
   "source": [
    "#adata = sc.read_h5ad(os.path.join(RESULTS_FOLDERNAME, 'dev_scANVI.h5ad'))"
   ]
  },
  {
   "cell_type": "code",
   "execution_count": null,
   "id": "7f6bcf28",
   "metadata": {},
   "outputs": [],
   "source": [
    "df = adata.obs.groupby([\"cell_type\", \"C_scANVI\"]).size().unstack(fill_value=0)\n",
    "conf_mat = df / df.sum(axis=1).values[:, np.newaxis]"
   ]
  },
  {
   "cell_type": "code",
   "execution_count": null,
   "id": "d498bfa0",
   "metadata": {},
   "outputs": [],
   "source": [
    "plt.figure(figsize=(8, 8))\n",
    "plt.pcolormesh(conf_mat, edgecolors='k', linewidths=0.5, cmap='viridis')\n",
    "plt.xticks(np.arange(0.5, len(df.columns), 1), df.columns, rotation=90)\n",
    "plt.yticks(np.arange(0.5, len(df.index), 1), df.index)\n",
    "plt.grid(False)\n",
    "plt.xlabel(\"Predicted\")\n",
    "plt.ylabel(\"Observed\")\n",
    "# Add colorbar for better interpretation of the plot\n",
    "plt.colorbar(label='Proportion')\n",
    "savesvg('scANVI_prediction_matrix.svg', plt)\n",
    "plt.show()"
   ]
  },
  {
   "cell_type": "code",
   "execution_count": null,
   "id": "0ac33eba",
   "metadata": {},
   "outputs": [],
   "source": [
    "#adata.write(os.path.join(RESULTS_FOLDERNAME, 'dev_scANVI.h5ad'))"
   ]
  },
  {
   "cell_type": "code",
   "execution_count": null,
   "id": "5236ff8d",
   "metadata": {},
   "outputs": [],
   "source": [
    "sc.pl.umap(adata, color='ageint', frameon=False,\n",
    "          save='_ageint.svg', cmap='viridis')"
   ]
  },
  {
   "cell_type": "code",
   "execution_count": null,
   "id": "fa1040ee",
   "metadata": {},
   "outputs": [],
   "source": [
    "#sc.tl.leiden(adata, resolution = 0.4, key_added = 'leiden_04scanvi')\n",
    "sc.pl.umap(adata, color = ['C_scANVI', 'leiden_04scanvi', 'cell_type'], add_outline=True, legend_loc='on data',\n",
    "           legend_fontsize=4, legend_fontoutline=1, frameon=False,\n",
    "           save='_scANVI_before_refining.svg'\n",
    "          )"
   ]
  },
  {
   "cell_type": "code",
   "execution_count": null,
   "id": "9b8f421d",
   "metadata": {},
   "outputs": [],
   "source": [
    "# Step 1: Identify cells corresponding to clusters 9 and 16 in leiden_04scanvi\n",
    "cluster_9_cells = adata.obs.index[adata.obs['leiden_04scanvi'] == '9']\n",
    "cluster_16_cells = adata.obs.index[adata.obs['leiden_04scanvi'] == '16']\n",
    "\n",
    "# Step 2: Update C_scANVI labels for the identified cells\n",
    "adata.obs['C_scANVI'] = np.where(\n",
    "    adata.obs.index.isin(cluster_16_cells), 'lymEndothelial Cells',\n",
    "    np.where(adata.obs.index.isin(cluster_9_cells), 'vasEndothelial Cells', adata.obs['C_scANVI'])\n",
    ")\n",
    "print(adata.obs['C_scANVI'].value_counts())"
   ]
  },
  {
   "cell_type": "code",
   "execution_count": null,
   "id": "82c6c3b1",
   "metadata": {},
   "outputs": [],
   "source": [
    "adata.obs['C_scANVI'] = np.where(\n",
    "    adata.obs['C_scANVI'] == 'ABI3BP GAS2 Fibroblasts 2', 'ABI3BP GAS2 Fibroblasts 1', adata.obs['C_scANVI']\n",
    ")\n",
    "adata.obs['C_scANVI'] = np.where(\n",
    "    adata.obs['C_scANVI'] == 'ABI3BP GAS2 Fibroblasts 3', 'ABI3BP GAS2 Fibroblasts 2', adata.obs['C_scANVI']\n",
    ")\n",
    "print(adata.obs['C_scANVI'].value_counts())"
   ]
  },
  {
   "cell_type": "code",
   "execution_count": null,
   "id": "ece0d143",
   "metadata": {},
   "outputs": [],
   "source": [
    "adata.obs['C_scANVI'] = np.where(\n",
    "    adata.obs['C_scANVI'] == 'Macrophages', 'Immune Cells', adata.obs['C_scANVI']\n",
    ")\n",
    "print(adata.obs['C_scANVI'].value_counts())"
   ]
  },
  {
   "cell_type": "code",
   "execution_count": null,
   "id": "a580acfd",
   "metadata": {},
   "outputs": [],
   "source": [
    "adata = sc.read_h5ad(os.path.join(RESULTS_FOLDERNAME, 'dev_scANVI.h5ad'))\n",
    "adata"
   ]
  },
  {
   "cell_type": "code",
   "execution_count": null,
   "id": "73ee6708",
   "metadata": {},
   "outputs": [],
   "source": [
    "sc.pl.umap(adata, color=['NES', 'PDGFRA', 'TPPP3', 'AXIN2'], frameon=False,\n",
    "          legend_fontoutline=True, legend_loc='on data', legend_fontsize=5,\n",
    "          #save='dev_umap_C_scANVI_cell_type_nolegend.svg'\n",
    "          )"
   ]
  },
  {
   "cell_type": "code",
   "execution_count": null,
   "id": "120ff1ad",
   "metadata": {},
   "outputs": [],
   "source": [
    "sc.pl.umap(adata, color=['cell_type', 'C_scANVI'], frameon=False,\n",
    "          legend_fontoutline=True, legend_loc='none', legend_fontsize=5,\n",
    "          save='dev_umap_C_scANVI_cell_type_nolegend.svg'\n",
    "          )"
   ]
  },
  {
   "cell_type": "code",
   "execution_count": null,
   "id": "beb0237c",
   "metadata": {},
   "outputs": [],
   "source": [
    "sc.tl.rank_genes_groups(adata, groupby='C_scANVI', groups=['ABI3BP GAS2 Fibroblasts 1'], \n",
    "                        reference='ABI3BP GAS2 Fibroblasts 2', method='wilcoxon', \n",
    "                        key_added='wilcoxon_abi3', use_raw=False, layer='log1p_norm')\n",
    "sc.pl.rank_genes_groups(adata, n_genes=25, sharey=False, key='wilcoxon_abi3')"
   ]
  },
  {
   "cell_type": "code",
   "execution_count": null,
   "id": "3610ab1b",
   "metadata": {},
   "outputs": [],
   "source": [
    "sc.pl.rank_genes_groups_heatmap(adata, n_genes=5, key=\"wilcoxon_scanvi\", groupby=\"C_scANVI\",\n",
    "                                layer='log1p_norm', show_gene_labels=True, figsize=(15,25),\n",
    "                                cmap='YlOrRd',save='heatmap.png'\n",
    "                                )"
   ]
  },
  {
   "cell_type": "code",
   "execution_count": null,
   "id": "1d27d00c",
   "metadata": {},
   "outputs": [],
   "source": [
    "sc.pl.rank_genes_groups_violin(adata, groups='ABI3BP GAS2 Fibroblasts 1', n_genes=15, key='wilcoxon_abi3')"
   ]
  },
  {
   "cell_type": "code",
   "execution_count": null,
   "id": "0d530326",
   "metadata": {},
   "outputs": [],
   "source": [
    "sc.pl.rank_genes_groups_dotplot(adata, n_genes=20, groupby='C_scANVI', \n",
    "                                use_raw=False, \n",
    "                                layer=\"log1p_norm\", \n",
    "                                vmax=3, vmin=0, \n",
    "                                #cmap='RdBu_r',\n",
    "                                key='wilcoxon_abi3',\n",
    "                                #save='topDEGsCscANVI.svg'\n",
    "                               )"
   ]
  },
  {
   "cell_type": "code",
   "execution_count": null,
   "id": "ea8a05fe",
   "metadata": {},
   "outputs": [],
   "source": [
    "sc.tl.dendrogram(adata, 'C_scANVI')\n",
    "sc.pl.dendrogram(adata, groupby='C_scANVI')"
   ]
  },
  {
   "cell_type": "code",
   "execution_count": null,
   "id": "dc59b09e",
   "metadata": {},
   "outputs": [],
   "source": [
    "sc.tl.rank_genes_groups(adata, groupby='C_scANVI', method='wilcoxon', key_added='wilcoxon_scanvi', \n",
    "                        use_raw=False, layer='log1p_norm')\n",
    "sc.pl.rank_genes_groups(adata, n_genes=25, sharey=False, key='wilcoxon_scanvi')"
   ]
  },
  {
   "cell_type": "code",
   "execution_count": null,
   "id": "b49ca1d2",
   "metadata": {},
   "outputs": [],
   "source": [
    "result = adata.uns['wilcoxon_scanvi']\n",
    "groups = result['names'].dtype.names\n",
    "df = pd.DataFrame(\n",
    "    {group + '_' + key: result[key][group]\n",
    "    for group in groups \n",
    "    for key in ['names','scores','logfoldchanges', 'pvals', 'pvals_adj']})\n",
    "df.to_csv(os.path.join(RESULTS_FOLDERNAME, 'dev_wilcoxon_DGE_scanvi.csv'))\n",
    "df.head(5)"
   ]
  },
  {
   "cell_type": "code",
   "execution_count": null,
   "id": "2716bdfc",
   "metadata": {},
   "outputs": [],
   "source": [
    "# Convert the index to string\n",
    "adata.var.index = adata.var.index.astype(str)\n",
    "adata.var_names_make_unique()"
   ]
  },
  {
   "cell_type": "code",
   "execution_count": null,
   "id": "2d469ea3",
   "metadata": {},
   "outputs": [],
   "source": [
    "sc.pl.rank_genes_groups_dotplot(adata, n_genes=5, groupby='C_scANVI',\n",
    "                                use_raw=False, \n",
    "                                layer=\"log1p_norm\", \n",
    "                                vmax=3, vmin=0, \n",
    "                                #cmap='RdBu_r',\n",
    "                                key='wilcoxon_scanvi',\n",
    "                                save='topDEGsCscANVI.svg')"
   ]
  },
  {
   "cell_type": "code",
   "execution_count": null,
   "id": "779503fb",
   "metadata": {},
   "outputs": [],
   "source": [
    "sc.tl.filter_rank_genes_groups(\n",
    "    adata,\n",
    "    min_in_group_fraction=0.2,\n",
    "    max_out_group_fraction=0.2,\n",
    "    key=\"wilcoxon_scanvi\",\n",
    "    key_added=\"wilcoxon_scanvi_filtered\",\n",
    ")"
   ]
  },
  {
   "cell_type": "code",
   "execution_count": null,
   "id": "84120c42",
   "metadata": {},
   "outputs": [],
   "source": [
    "sc.pl.rank_genes_groups_dotplot(adata, n_genes=5, groupby='C_scANVI',\n",
    "                                use_raw=False, \n",
    "                                layer=\"log1p_norm\", \n",
    "                                standard_scale='var',\n",
    "                                #cmap='RdBu_r',\n",
    "                                key='wilcoxon_scanvi_filtered',\n",
    "                                save='topDEGsCscANVI_filtered.svg')"
   ]
  },
  {
   "cell_type": "code",
   "execution_count": null,
   "id": "c16deb81",
   "metadata": {},
   "outputs": [],
   "source": [
    "c"
   ]
  },
  {
   "cell_type": "code",
   "execution_count": null,
   "id": "7427099f",
   "metadata": {},
   "outputs": [],
   "source": [
    "# create an empty dictionary to store the top 10 names for each cell_type\n",
    "top_names_dict = {}\n",
    "\n",
    "for group in groups:\n",
    "    top_names = result['names'][group][:10] # select the top 10 names for this cell_type\n",
    "    top_names_dict[group] = list(top_names) # add the list of top names to the dictionary"
   ]
  },
  {
   "cell_type": "code",
   "execution_count": null,
   "id": "e0c8223c",
   "metadata": {},
   "outputs": [],
   "source": [
    "for ct in top_names_dict.keys():\n",
    "    print(f\"Cluster {ct.upper()}:\")  # print cluster name\n",
    "    sc.pl.umap(\n",
    "        adata,\n",
    "        layer='log1p_norm',\n",
    "        color=top_names_dict[ct]+['C_scANVI'],\n",
    "        vmin=0,\n",
    "        vmax=\"p99\",  # set vmax to the 99th percentile of the gene count instead of the maximum, to prevent outliers from making expression in other cells invisible. Note that this can cause problems for extremely lowly expressed genes.\n",
    "        sort_order=False,  # do not plot highest expression on top, to not get a biased view of the mean expression among cells\n",
    "        frameon=False,\n",
    "        cmap=\"Reds\",  # or choose another color map e.g. from here: https://matplotlib.org/stable/tutorials/colors/colormaps.html\n",
    "        save=f'_dev_cluster{ct}_topDEGs_CscANVI.svg'\n",
    "    )\n",
    "    print(\"\\n\\n\\n\")  # print white space for legibility"
   ]
  },
  {
   "cell_type": "code",
   "execution_count": null,
   "id": "66c75c01",
   "metadata": {},
   "outputs": [],
   "source": [
    "def plot_umaps(anndata, parameters: list, filename: str):\n",
    "    n_plots = len(parameters)\n",
    "    fig, axs = plt.subplots(n_plots, 1, figsize=(7, 4*n_plots))\n",
    "    for i, param in enumerate(parameters):\n",
    "        sc.pl.umap(anndata, color=param, ax=axs[i], show=False, frameon=False)\n",
    "        axs[i].set_title(param)\n",
    "    plt.tight_layout()\n",
    "    savesvg(filename, fig)\n",
    "    plt.show()"
   ]
  },
  {
   "cell_type": "code",
   "execution_count": null,
   "id": "36b4a1c2",
   "metadata": {},
   "outputs": [],
   "source": [
    "plot_umaps(adata, ['sampletype', 'sample', 'age', 'libbatch', 'type', 'phase', 'sex', 'C_scANVI', 'cell_type'], \n",
    "           filename = 'dev_UMAP_plots_scANVIfull.svg')"
   ]
  },
  {
   "cell_type": "code",
   "execution_count": null,
   "id": "c42c9c7a",
   "metadata": {},
   "outputs": [],
   "source": [
    "markers_full_dict = {\n",
    "    'chondrocytes': ['COL2A1', 'SOX9', 'COL9A1', 'ACAN', 'COMP', 'HAPLN1', 'MATN1'],\n",
    "    'fibroblasts (general)': [\n",
    "        \"COL1A1\",\n",
    "        \"COL12A1\",\n",
    "        \"SPARC\",\n",
    "        \"POSTN\",\n",
    "        \"DCN\",\n",
    "        #\"BGN\"\n",
    "    ],\n",
    "    'fibroblasts (type 1)': [\n",
    "        \"SOX5\",\n",
    "        \"COL11A1\",\n",
    "        \"ABI3BP\",\n",
    "        \"GAS2\",\n",
    "        #\"COL24A1\", # could regulate type I collagen fibrillogenesis, upregulated in human tendinopathy\n",
    "        \"FMOD\",\n",
    "        \"TNMD\",\n",
    "        \"MKX\",\n",
    "        \"KERA\",\n",
    "        \"SCX\"\n",
    "    ],\n",
    "    'fibroblasts (type 2)': [\n",
    "        \"COL3A1\", \n",
    "        \"COL6A6\",\n",
    "        \"DCLK1\",\n",
    "        \"EBF1\",\n",
    "        \"TSHZ2\",\n",
    "        \"PLAGL1\",\n",
    "        \"VCAN\",\n",
    "        \"FBN1\",\n",
    "        \"NOVA1\",\n",
    "        \"NEGR1\",\n",
    "        \"NAV3\",\n",
    "        \"LUM\",\n",
    "        \"SEMA5A\",\n",
    "        \"TNXB\",\n",
    "        \"PI16\",\n",
    "        \"SCN7A\",\n",
    "        \"CDH18\",\n",
    "    ],\n",
    "    \n",
    "    'fibroblasts (type 3)': [\n",
    "        \"FGF14\",\n",
    "        \"FSTL5\",\n",
    "        \"THBS4\",\n",
    "        \"BMP5\",\n",
    "        \"CDH12\"\n",
    "    ],\n",
    "    'dividing cells': [\n",
    "        \"MKI67\",\n",
    "        \"DIAPH3\",\n",
    "        \"CENPK\",\n",
    "        \"CENPP\",\n",
    "        \"TOP2A\"\n",
    "    ],\n",
    "    'interfascicular maxtrix (general)': [\n",
    "        'COL4A1', \n",
    "        'COL4A2', \n",
    "        'HSPG2', # perlecan\n",
    "        'NID1',  #nidogen-1\n",
    "        'LAMB1', \n",
    "        'LAMC1', \n",
    "        'ITGA6', \n",
    "        'ITGB1',\n",
    "    ],\n",
    "    'vascular endothelial cells': [\n",
    "        \"CDH5\",    # Cadherin 5\n",
    "        \"VWF\",     # Von Willebrand factor\n",
    "        \"PECAM1\",  # Platelet and endothelial cell adhesion molecule 1\n",
    "        \"CD34\",\n",
    "        \"ENG\",\n",
    "        \"TEK\"\n",
    "    ],\n",
    "    'lymphatic endothelial cells': [\n",
    "        \"LYVE1\",   # Lymphatic vessel endothelial hyaluronan receptor 1\n",
    "        \"PROX1\",   # Prospero homeobox 1\n",
    "        \"FLT4\",    # Fms-related tyrosine kinase 4 (VEGFR3)\n",
    "    ],\n",
    "    'nervous system cells': [\n",
    "        \"NRXN1\",\n",
    "        \"XKR4\",\n",
    "        \"SLC35F1\",\n",
    "        \"NCAM2\",\n",
    "        \"PTPRZ1\",\n",
    "        \"FIGN\",\n",
    "        \"IL1RAPL2\",\n",
    "        \"CDH6\",\n",
    "        \"GRID2\",\n",
    "        \"SOX10\"\n",
    "    ],\n",
    "    'smooth myocytes': [\n",
    "        \"ACTA2\",   # Alpha-smooth muscle actin\n",
    "        \"MYH11\",   # Smooth muscle myosin heavy chain\n",
    "        \"NOTCH3\",\n",
    "        #\"DES\",     # Desmin\n",
    "        #\"VIM\",     # Vimentin\n",
    "        #\"SMTN\",    # Smoothelin\n",
    "        \"CALD1\",   # Caldesmon\n",
    "        \"PDGFRB\",\n",
    "    ],\n",
    "    'satellite/myoblast cells': ['PAX7', 'DES', 'CDH15', 'NES', 'DLK1', 'NCAM1', 'MYO18B', 'RYR3', 'MYF5', 'MYOD1', 'MYOG'], \n",
    "    'skeletal myocytes': ['TNNT3', 'TTN', 'MYH3', 'COL22A1', 'TNNC1'],\n",
    "    'immune cells': [\n",
    "        'PTPRC',#'FOXP3',\n",
    "        'CD44',\n",
    "        'IKZF1', \n",
    "        'RUNX1', \n",
    "        'DOCK2', \n",
    "        'INPP5D',\n",
    "    ],\n",
    "    'macrophages': [\n",
    "        'MRC1', 'F13A1', \n",
    "        'CSF1R', 'CD163', \n",
    "        'CD68', 'CD36',\n",
    "        #'LRMDA', 'ITPR2',\n",
    "        'LGMN'\n",
    "    ], \n",
    "    'lymphoid': [\n",
    "        'SKAP1', \n",
    "        'THEMIS', \n",
    "        'CD247',\n",
    "        'EPB41', \n",
    "        'PIP4K2A', \n",
    "        'PRKCB',\n",
    "        'CD96',\n",
    "        'CD38'\n",
    "    ],\n",
    "    'unknown progenitors': [\n",
    "        'KIT',\n",
    "        'TFRC',\n",
    "        'IL18R1',\n",
    "        'MITF',\n",
    "        'BMP2K', \n",
    "        'GATA2',\n",
    "    ]\n",
    "}"
   ]
  },
  {
   "cell_type": "code",
   "execution_count": null,
   "id": "5b04e2ca",
   "metadata": {
    "scrolled": false
   },
   "outputs": [],
   "source": [
    "sc.pl.dotplot(adata, markers_full_dict, groupby='C_scANVI', swap_axes=True,\n",
    "              use_raw=False, layer='log1p_norm', dendrogram=True, var_group_rotation=0,\n",
    "              #vcenter=45,\n",
    "              save='_full_annotation_scANVI.svg')"
   ]
  },
  {
   "cell_type": "code",
   "execution_count": null,
   "id": "2c2418dd",
   "metadata": {},
   "outputs": [],
   "source": [
    "adata.write(os.path.join(RESULTS_FOLDERNAME, '{}.h5ad'.format('dev_scANVI')))"
   ]
  },
  {
   "cell_type": "code",
   "execution_count": null,
   "id": "ebded675",
   "metadata": {},
   "outputs": [],
   "source": [
    "sc.pl.violin(adata, ['SCX', 'TNMD', 'MKX'], \n",
    "             groupby='age', layer='log1p_norm',\n",
    "             save='_earlytendonmarkers.svg'\n",
    "             )"
   ]
  },
  {
   "cell_type": "code",
   "execution_count": null,
   "id": "c30a71d5",
   "metadata": {},
   "outputs": [],
   "source": [
    "sc.pl.violin(adata, ['FMOD', 'EGR1', 'MKI67'], \n",
    "             groupby='age', layer='log1p_norm',\n",
    "             save='_earlytendonmarkers2.svg'\n",
    "             )"
   ]
  },
  {
   "cell_type": "code",
   "execution_count": null,
   "id": "cc1bf15c",
   "metadata": {},
   "outputs": [],
   "source": [
    "sc.pl.violin(adata, ['TOP2A', 'DIAPH3', 'CENPF'], \n",
    "             groupby='age', layer='log1p_norm',\n",
    "             save='_earlytendonmarkers3.svg'\n",
    "             )"
   ]
  },
  {
   "cell_type": "markdown",
   "id": "6c896896",
   "metadata": {},
   "source": [
    "# scANVI DGE"
   ]
  },
  {
   "cell_type": "code",
   "execution_count": null,
   "id": "eb9ca19e",
   "metadata": {},
   "outputs": [],
   "source": [
    "adata = sc.read_h5ad(os.path.join(RESULTS_FOLDERNAME, 'dev_scANVI.h5ad'))\n",
    "adata"
   ]
  },
  {
   "cell_type": "code",
   "execution_count": null,
   "id": "87b2dc74",
   "metadata": {},
   "outputs": [],
   "source": [
    "adata.var_names = adata.var_names.astype(str)\n",
    "adata.var_names_make_unique()\n",
    "# adata.X = adata.layers['log1p_norm'].copy()"
   ]
  },
  {
   "cell_type": "code",
   "execution_count": null,
   "id": "c52db4f1",
   "metadata": {},
   "outputs": [],
   "source": [
    "del adata.layers['scaled']"
   ]
  },
  {
   "cell_type": "code",
   "execution_count": null,
   "id": "73ae24e3",
   "metadata": {},
   "outputs": [],
   "source": [
    "scvi.model.SCVI.setup_anndata(adata, #adata_hvg\n",
    "                              layer=\"counts\",\n",
    "                              categorical_covariate_keys=[\"sampletype\", \"libbatch\"], # other effects that are taken into account that we are not necessarily interested in\n",
    "                              #\"age\", \"type\", \"phase\", \"sample\" - not correcting for to avoid removing variation of interest\n",
    "                              )\n",
    "\n",
    "vae = scvi.model.SCVI(adata, n_hidden = 128, n_latent=30, n_layers=2, dropout_rate=0.1, dispersion=\"gene-batch\", gene_likelihood='zinb')\n",
    "vae = vae.load(os.path.join(RESULTS_FOLDERNAME, \"FoetalFull_SampleTypeLibbatch_ZinbGeneBatch/\"), use_gpu=True, adata=adata)\n",
    "vae"
   ]
  },
  {
   "cell_type": "code",
   "execution_count": null,
   "id": "a937871c",
   "metadata": {},
   "outputs": [],
   "source": [
    "lvae = scvi.model.SCANVI.load(os.path.join(RESULTS_FOLDERNAME, \"FoetalFull_SampleTypeLibbatch_ZinbGeneBatch_scANVI/\"), \n",
    "                              use_gpu=True, adata=adata)\n",
    "lvae"
   ]
  },
  {
   "cell_type": "code",
   "execution_count": null,
   "id": "7d9729be",
   "metadata": {},
   "outputs": [],
   "source": [
    "scvi.settings.batch_size"
   ]
  },
  {
   "cell_type": "code",
   "execution_count": null,
   "id": "f0d402d5",
   "metadata": {},
   "outputs": [],
   "source": [
    "denoised_norm = lvae.get_normalized_expression(library_size = 10e4)"
   ]
  },
  {
   "cell_type": "code",
   "execution_count": null,
   "id": "77521d57",
   "metadata": {},
   "outputs": [],
   "source": [
    "denoised_norm"
   ]
  },
  {
   "cell_type": "code",
   "execution_count": null,
   "id": "7958b9d9",
   "metadata": {},
   "outputs": [],
   "source": [
    "adata.layers[\"scvi_normalized\"] = denoised_norm"
   ]
  },
  {
   "cell_type": "code",
   "execution_count": null,
   "id": "20b87d50",
   "metadata": {},
   "outputs": [],
   "source": [
    "sc.pl.rank_genes_groups_heatmap(adata, n_genes=6, key=\"wilcoxon_scanvi\", groupby=\"C_scANVI\",\n",
    "                                layer='scvi_normalized', show_gene_labels=True, figsize=(15,25),\n",
    "                                cmap='YlOrRd',save='_scANVInorm.png'\n",
    "                                )"
   ]
  },
  {
   "cell_type": "code",
   "execution_count": null,
   "id": "58a0d504",
   "metadata": {},
   "outputs": [],
   "source": [
    "change_per_cluster_de = lvae.differential_expression(groupby=\"C_scANVI\")\n",
    "change_per_cluster_de"
   ]
  },
  {
   "cell_type": "code",
   "execution_count": null,
   "id": "3797013a",
   "metadata": {},
   "outputs": [],
   "source": [
    "cell_types = (\n",
    "    adata.obs[\"cell_type\"]\n",
    "    .value_counts()\n",
    "    # .loc[lambda x: (x >= 500) & (x.index != \"nan\")]\n",
    "    .loc[lambda x: x.index != \"nan\"]\n",
    "    .to_frame(\"n_cells\")\n",
    ")\n",
    "cell_types.loc[:, \"associated_test\"] = cell_types.index.astype(str) + \" vs Rest\""
   ]
  },
  {
   "cell_type": "code",
   "execution_count": null,
   "id": "579d09b9",
   "metadata": {},
   "outputs": [],
   "source": [
    "change_per_cluster_de"
   ]
  },
  {
   "cell_type": "code",
   "execution_count": null,
   "id": "3750014a",
   "metadata": {},
   "outputs": [],
   "source": [
    "# This cell extracts list of top 5 upregulated genes for every cell-type\n",
    "marker_genes = (\n",
    "    change_per_cluster_de.reset_index()\n",
    "    .loc[lambda x: x.comparison.isin(cell_types.associated_test.values)]\n",
    "    .groupby(\"comparison\")\n",
    "    .apply(\n",
    "        lambda x: x.sort_values(\"lfc_mean\", ascending=False).iloc[:5]\n",
    "    )  # Select top 5 DE genes per comparison\n",
    "    .reset_index(drop=True)[\"Gene\"]\n",
    "    .unique()\n",
    ")"
   ]
  },
  {
   "cell_type": "code",
   "execution_count": null,
   "id": "79bcd444",
   "metadata": {},
   "outputs": [],
   "source": [
    "adata_log = adata[adata.obs.cell_type.isin(cell_types.index.values)].copy()\n",
    "sc.pp.normalize_total(adata_log)\n",
    "sc.pp.log1p(adata_log)\n",
    "sc.pl.dotplot(adata_log, marker_genes, groupby=\"C_scANVI\")"
   ]
  },
  {
   "cell_type": "markdown",
   "id": "4678aa0c",
   "metadata": {},
   "source": [
    "# CellPhoneDB Matrix"
   ]
  },
  {
   "cell_type": "code",
   "execution_count": null,
   "id": "9b7b94e1",
   "metadata": {},
   "outputs": [],
   "source": [
    "#loomdata=sc.AnnData(adata.layers['counts'],obs=adata.obs,var=adata.var)\n",
    "#loomdata.write_loom(os.path.join(RESULTS_FOLDERNAME, '{}.loom'.format('dev_scenicinput')))"
   ]
  },
  {
   "cell_type": "code",
   "execution_count": null,
   "id": "299083f5",
   "metadata": {},
   "outputs": [],
   "source": [
    "del adata, loomdata"
   ]
  },
  {
   "cell_type": "code",
   "execution_count": null,
   "id": "8b4117dc",
   "metadata": {},
   "outputs": [],
   "source": [
    "cellphonedata =sc.AnnData(adata.layers['scran_normlogcounts'],obs=adata.obs,var=adata.var)\n",
    "print(cellphonedata.X.shape)\n",
    "print(cellphonedata.X[1:10,1:10])"
   ]
  },
  {
   "cell_type": "code",
   "execution_count": null,
   "id": "87361864",
   "metadata": {},
   "outputs": [],
   "source": [
    "cellphonedata.var.index = cellphonedata.var['ensembl_gene_id']\n",
    "cellphonedata.var"
   ]
  },
  {
   "cell_type": "code",
   "execution_count": null,
   "id": "4a024b12",
   "metadata": {},
   "outputs": [],
   "source": [
    "df = cellphonedata.to_df().T\n",
    "df.head(5)"
   ]
  },
  {
   "cell_type": "code",
   "execution_count": null,
   "id": "d140e5dd",
   "metadata": {},
   "outputs": [],
   "source": [
    "df.to_csv(os.path.join(RESULTS_FOLDERNAME, '{}.txt'.format('dev_cellPhDBinput')), sep='\\t')"
   ]
  },
  {
   "cell_type": "markdown",
   "id": "e5bcacac",
   "metadata": {},
   "source": [
    "# Benchmarking"
   ]
  },
  {
   "cell_type": "code",
   "execution_count": null,
   "id": "1b45b3d8",
   "metadata": {},
   "outputs": [],
   "source": [
    "import scib"
   ]
  },
  {
   "cell_type": "code",
   "execution_count": null,
   "id": "76308e3f",
   "metadata": {},
   "outputs": [],
   "source": [
    "label_key = \"C_scANVI\"\n",
    "batch_key = \"sample\"\n",
    "\n",
    "unintegrated = sc.read_h5ad(os.path.join(RESULTS_FOLDERNAME, 'unintegrated_adata.h5ad'))\n",
    "adata_scanvi = sc.read_h5ad(os.path.join(RESULTS_FOLDERNAME, 'dev_scANVI.h5ad'))\n",
    "adata_scvi = sc.read_h5ad(os.path.join(RESULTS_FOLDERNAME, 'dev_scVI.h5ad'))\n",
    "adata_hvg = unintegrated[:, unintegrated.var[\"highly_variable\"]].copy()\n",
    "\n",
    "\n",
    "metrics_scanvi = scib.metrics.metrics_fast(unintegrated,\n",
    "                                         adata_scanvi, #scANVI-integrated object\n",
    "                                         batch_key,\n",
    "                                         label_key,\n",
    "                                         embed=\"X_scANVI\"\n",
    "                                        )\n",
    "metrics_scvi = scib.metrics.metrics_fast(\n",
    "    unintegrated, adata_scvi, batch_key, embed=\"X_scVI\"\n",
    ")\n",
    "metrics_hvg = scib.metrics.metrics_fast(unintegrated, adata_hvg, batch_key)"
   ]
  },
  {
   "cell_type": "code",
   "execution_count": null,
   "id": "9e91fbbb",
   "metadata": {},
   "outputs": [],
   "source": [
    "# Concatenate metrics results\n",
    "metrics = pd.concat(\n",
    "    [metrics_scvi, metrics_scanvi, metrics_hvg],\n",
    "    axis=\"columns\",\n",
    ")\n",
    "# Set methods as column names\n",
    "metrics = metrics.set_axis(\n",
    "    [\"scVI\", \"scANVI\", \"Unintegrated\"], axis=\"columns\"\n",
    ")\n",
    "# Select only the fast metrics\n",
    "metrics = metrics.loc[\n",
    "    [\n",
    "        \"ASW_label\",\n",
    "        \"ASW_label/batch\",\n",
    "        \"PCR_batch\",\n",
    "        \"isolated_label_silhouette\",\n",
    "        \"graph_conn\",\n",
    "        \"hvg_overlap\",\n",
    "    ],\n",
    "    :,\n",
    "]\n",
    "# Transpose so that metrics are columns and methods are rows\n",
    "metrics = metrics.T\n",
    "# Remove the HVG overlap metric because it's not relevant to embedding outputs\n",
    "metrics = metrics.drop(columns=[\"hvg_overlap\"])\n",
    "metrics"
   ]
  }
 ],
 "metadata": {
  "kernelspec": {
   "display_name": "Python [conda env:scvi-env]",
   "language": "python",
   "name": "conda-env-scvi-env-py"
  },
  "language_info": {
   "codemirror_mode": {
    "name": "ipython",
    "version": 3
   },
   "file_extension": ".py",
   "mimetype": "text/x-python",
   "name": "python",
   "nbconvert_exporter": "python",
   "pygments_lexer": "ipython3",
   "version": "3.9.16"
  }
 },
 "nbformat": 4,
 "nbformat_minor": 5
}
