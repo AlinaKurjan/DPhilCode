{
 "cells": [
  {
   "cell_type": "code",
   "execution_count": null,
   "id": "49887831",
   "metadata": {},
   "outputs": [],
   "source": [
    "# Import dependencies\n",
    "import os\n",
    "import anndata as ad\n",
    "import numpy as np\n",
    "import pandas as pd\n",
    "import scanpy as sc\n",
    "import scvelo as scv\n",
    "import seaborn as sns\n",
    "\n",
    "import matplotlib.pyplot as plt\n",
    "\n",
    "# Initialize random seed\n",
    "import random\n",
    "random.seed(111)\n",
    "\n",
    "# Print date and time:\n",
    "import datetime\n",
    "e = datetime.datetime.now()\n",
    "print (\"Current date and time = %s\" % e)\n",
    "\n",
    "# set a working directory\n",
    "#wdir = \"/ceph/project/tendonhca/akurjan/analysis/\"\n",
    "wdir = \"/mnt/da8aa2c4-0136-465b-87a2-d12a59afec55/akurjan/analysis/notebooks/\"\n",
    "os.chdir( wdir )\n",
    "\n",
    "# folder structures\n",
    "NORMALIZATION_FOLDERNAME = \"foetal/results/Normalisation/\"\n",
    "HARMONY_FOLDERNAME = \"foetal/results/Harmony/\"\n",
    "RESULTS_FOLDERNAME = \"foetal/results/Velocity/\"\n",
    "FIGURES_FOLDERNAME = \"foetal/figures/Velocity/\"\n",
    "\n",
    "if not os.path.exists(RESULTS_FOLDERNAME):\n",
    "    os.makedirs(RESULTS_FOLDERNAME)\n",
    "if not os.path.exists(FIGURES_FOLDERNAME):\n",
    "    os.makedirs(FIGURES_FOLDERNAME)\n",
    "\n",
    "# Set folder for saving figures into\n",
    "sc.settings.figdir = FIGURES_FOLDERNAME\n",
    "scv.settings.figdir = FIGURES_FOLDERNAME\n",
    "    \n",
    "def savesvg(fname: str, fig, folder: str=FIGURES_FOLDERNAME) -> None:\n",
    "    \"\"\"\n",
    "    Save figure as vector-based SVG image format.\n",
    "    \"\"\"\n",
    "    fig.tight_layout()\n",
    "    fig.savefig(os.path.join(folder, fname), format='svg')\n",
    "\n",
    "# Set other settings\n",
    "sc.settings.verbosity = 3 # verbosity: errors (0), warnings (1), info (2), hints (3)\n",
    "sc.logging.print_versions()\n",
    "scv.set_figure_params('scvelo')"
   ]
  },
  {
   "cell_type": "code",
   "execution_count": null,
   "id": "958a0394",
   "metadata": {},
   "outputs": [],
   "source": [
    "adata = scv.read(os.path.join(HARMONY_FOLDERNAME, 'allages_tendonfibro2.h5ad'), cache=False)\n",
    "adata"
   ]
  },
  {
   "cell_type": "code",
   "execution_count": null,
   "id": "48a3c07b",
   "metadata": {},
   "outputs": [],
   "source": [
    "adata.obs['C_scANVI'] = adata.obs['C_scANVI_orig']"
   ]
  },
  {
   "cell_type": "code",
   "execution_count": null,
   "id": "a778113c",
   "metadata": {},
   "outputs": [],
   "source": [
    "adata.X = adata.layers['counts'].copy()"
   ]
  },
  {
   "cell_type": "code",
   "execution_count": null,
   "id": "0d798430",
   "metadata": {},
   "outputs": [],
   "source": [
    "sc.pp.filter_genes(adata, min_counts=20, inplace=True)"
   ]
  },
  {
   "cell_type": "code",
   "execution_count": null,
   "id": "6ac8f39a",
   "metadata": {},
   "outputs": [],
   "source": [
    "fulldata = sc.read_h5ad(os.path.join(NORMALIZATION_FOLDERNAME, 'dev_adata_normalized.h5ad'))\n",
    "fulldata"
   ]
  },
  {
   "cell_type": "code",
   "execution_count": null,
   "id": "1c0b8059",
   "metadata": {},
   "outputs": [],
   "source": [
    "del fulldata.layers['counts'], fulldata.layers['log1p_norm'], fulldata.layers['scaled'], fulldata.obsm, fulldata.uns"
   ]
  },
  {
   "cell_type": "code",
   "execution_count": null,
   "id": "3cf8e199",
   "metadata": {},
   "outputs": [],
   "source": [
    "fulldata.var_names_make_unique()"
   ]
  },
  {
   "cell_type": "code",
   "execution_count": null,
   "id": "d1c47be3",
   "metadata": {},
   "outputs": [],
   "source": [
    "adata_genes = adata.var_names\n",
    "adata_cells = adata.obs_names\n",
    "# Filter the fulldata object to retain only the matching genes\n",
    "fulldata = fulldata[adata_cells, adata_genes].copy()\n",
    "fulldata"
   ]
  },
  {
   "cell_type": "code",
   "execution_count": null,
   "id": "00c5723f",
   "metadata": {},
   "outputs": [],
   "source": [
    "print(all(fulldata.var_names == adata.var_names))\n",
    "print(np.array_equal(fulldata.var_names, adata.var_names))"
   ]
  },
  {
   "cell_type": "code",
   "execution_count": null,
   "id": "06074852",
   "metadata": {},
   "outputs": [],
   "source": [
    "print(all(fulldata.obs_names == adata.obs_names))\n",
    "print(np.array_equal(fulldata.obs_names, adata.obs_names))"
   ]
  },
  {
   "cell_type": "code",
   "execution_count": null,
   "id": "aa24dd2b",
   "metadata": {},
   "outputs": [],
   "source": [
    "adata.layers['spliced'] = fulldata.layers['spliced'].copy()\n",
    "adata.layers['unspliced'] = fulldata.layers['unspliced'].copy()"
   ]
  },
  {
   "cell_type": "code",
   "execution_count": null,
   "id": "cac4a3b8",
   "metadata": {},
   "outputs": [],
   "source": [
    "print(adata.X[1:5, 1:5])\n",
    "print(adata.layers['spliced'][1:5, 1:5])\n",
    "print(adata.layers['unspliced'][1:5, 1:5])"
   ]
  },
  {
   "cell_type": "code",
   "execution_count": null,
   "id": "c6b6d8dc",
   "metadata": {},
   "outputs": [],
   "source": [
    "del fulldata"
   ]
  },
  {
   "cell_type": "code",
   "execution_count": null,
   "id": "639575a8",
   "metadata": {},
   "outputs": [],
   "source": [
    "scv.pl.proportions(adata, groupby='sampletype')"
   ]
  },
  {
   "cell_type": "code",
   "execution_count": null,
   "id": "420392cc",
   "metadata": {},
   "outputs": [],
   "source": [
    "print(adata.X.dtype)\n",
    "print(adata.layers['spliced'].dtype)\n",
    "print(adata.layers['unspliced'].dtype)"
   ]
  },
  {
   "cell_type": "code",
   "execution_count": null,
   "id": "0942a69b",
   "metadata": {},
   "outputs": [],
   "source": [
    "adata.layers['unspliced'] = adata.layers['unspliced'].astype('float32')\n",
    "adata.layers['spliced'] = adata.layers['spliced'].astype('float32')"
   ]
  },
  {
   "cell_type": "code",
   "execution_count": null,
   "id": "667cda69",
   "metadata": {},
   "outputs": [],
   "source": [
    "print(adata.X.dtype)\n",
    "print(adata.layers['spliced'].dtype)\n",
    "print(adata.layers['unspliced'].dtype)"
   ]
  },
  {
   "cell_type": "code",
   "execution_count": null,
   "id": "6458d611",
   "metadata": {
    "scrolled": true
   },
   "outputs": [],
   "source": [
    "#adata.X = adata.layers['counts'].copy()\n",
    "#print(adata.X[1:5, 1:5])\n",
    "#print(adata.layers['spliced'][1:5, 1:5])\n",
    "#print(adata.layers['unspliced'][1:5, 1:5])"
   ]
  },
  {
   "cell_type": "code",
   "execution_count": null,
   "id": "255762ff",
   "metadata": {},
   "outputs": [],
   "source": [
    "scv.pp.filter_and_normalize(adata, min_shared_counts=20, n_top_genes=2000, \n",
    "                            log=True, subset_highly_variable=True)"
   ]
  },
  {
   "cell_type": "code",
   "execution_count": null,
   "id": "8ec435fa",
   "metadata": {},
   "outputs": [],
   "source": [
    "adata"
   ]
  },
  {
   "cell_type": "code",
   "execution_count": null,
   "id": "131599d5",
   "metadata": {
    "scrolled": true
   },
   "outputs": [],
   "source": [
    "sc.pp.neighbors(adata,n_neighbors=80,use_rep=\"X_diff\")\n",
    "scv.pp.moments(adata,n_pcs=None,n_neighbors=None)"
   ]
  },
  {
   "cell_type": "code",
   "execution_count": null,
   "id": "ca8c15d8",
   "metadata": {},
   "outputs": [],
   "source": [
    "adata.write(os.path.join(RESULTS_FOLDERNAME, 'allages_tendonfibro_prepped2.h5ad'))"
   ]
  },
  {
   "cell_type": "markdown",
   "id": "4ed4260f",
   "metadata": {},
   "source": [
    "# RNA Velocity"
   ]
  },
  {
   "cell_type": "markdown",
   "id": "77106de5",
   "metadata": {},
   "source": [
    "## Dynamic Modelling"
   ]
  },
  {
   "cell_type": "code",
   "execution_count": null,
   "id": "0ed59f6e",
   "metadata": {},
   "outputs": [],
   "source": [
    "%%time\n",
    "scv.tl.recover_dynamics(adata, n_jobs=None)"
   ]
  },
  {
   "cell_type": "code",
   "execution_count": null,
   "id": "388d5270",
   "metadata": {},
   "outputs": [],
   "source": [
    "adata.write(os.path.join(RESULTS_FOLDERNAME, 'allages_tendonfibro_velocity2.h5ad'))"
   ]
  },
  {
   "cell_type": "code",
   "execution_count": null,
   "id": "c8cbda8c",
   "metadata": {},
   "outputs": [],
   "source": [
    "adata = scv.read(os.path.join(RESULTS_FOLDERNAME, 'allages_tendonfibro_velocity2.h5ad'), cache=False)\n",
    "adata"
   ]
  },
  {
   "cell_type": "code",
   "execution_count": null,
   "id": "b7bb29c0",
   "metadata": {},
   "outputs": [],
   "source": [
    "scv.tl.velocity(adata, mode='dynamical')\n",
    "scv.tl.velocity_graph(adata, n_jobs=None)"
   ]
  },
  {
   "cell_type": "code",
   "execution_count": null,
   "id": "2d2ddfad",
   "metadata": {},
   "outputs": [],
   "source": [
    "adata.write(os.path.join(RESULTS_FOLDERNAME, 'allages_tendonfibro_velocity2.h5ad'))"
   ]
  },
  {
   "cell_type": "markdown",
   "id": "01c15579",
   "metadata": {},
   "source": [
    "From https://scvelo.readthedocs.io/VelocityBasics/:\n",
    "\n",
    "\"The black line corresponds to the estimated ‘steady-state’ ratio, i.e. the ratio of unspliced to spliced mRNA abundance which is in a constant transcriptional state. RNA velocity for a particular gene is determined as the residual, i.e. how much an observation deviates from that steady-state line. Positive velocity indicates that a gene is up-regulated, which occurs for cells that show higher abundance of unspliced mRNA for that gene than expected in steady state. Conversely, negative velocity indicates that a gene is down-regulated.\""
   ]
  },
  {
   "cell_type": "markdown",
   "id": "72b6df05",
   "metadata": {},
   "source": [
    "## Differential Kinetic Test\n",
    "Distinct cell types and lineages may exhibit different kinetics regimes as these can be governed by a different network structure. Even if cell types or lineages are related, kinetics can be differential due to alternative splicing, alternative polyadenylation and modulations in degradation.\n",
    "\n",
    "The dynamical model allows us to address this issue with a likelihood ratio test for differential kinetics to detect clusters/lineages that display kinetic behavior that cannot be sufficiently explained by a single model for the overall dynamics. Each cell type is tested whether an independent fit yields a significantly improved likelihood.\n",
    "\n",
    "The likelihood ratio, following an asymptotic chi-squared distribution, can be tested for significance. Note that for efficiency reasons, by default an orthogonal regression is used instead of a full phase trajectory to test whether a cluster is well explained by the overall kinetic or exhibits a different kinetic."
   ]
  },
  {
   "cell_type": "code",
   "execution_count": null,
   "id": "34981dd3",
   "metadata": {},
   "outputs": [],
   "source": [
    "top_genes = adata.var['fit_likelihood'].sort_values(ascending=False).index[:100]\n",
    "scv.tl.differential_kinetic_test(adata, var_names=top_genes, groupby='C_scANVI')"
   ]
  },
  {
   "cell_type": "code",
   "execution_count": null,
   "id": "a870a3a9",
   "metadata": {},
   "outputs": [],
   "source": [
    "kwargs = dict(linewidth=2, add_linfit=True, frameon=False)\n",
    "scv.pl.scatter(adata, basis=top_genes[:15], ncols=5, add_outline='fit_diff_kinetics', **kwargs)"
   ]
  },
  {
   "cell_type": "code",
   "execution_count": null,
   "id": "d3cf0889",
   "metadata": {},
   "outputs": [],
   "source": [
    "scv.pl.scatter(adata, basis=top_genes[15:30], ncols=5, add_outline='fit_diff_kinetics', **kwargs)"
   ]
  },
  {
   "cell_type": "code",
   "execution_count": null,
   "id": "85fa0ba8",
   "metadata": {},
   "outputs": [],
   "source": [
    "# Recomputing velocity\n",
    "scv.tl.velocity(adata, mode='dynamical', diff_kinetics=True)\n",
    "scv.tl.velocity_graph(adata, n_jobs=None)"
   ]
  },
  {
   "cell_type": "code",
   "execution_count": null,
   "id": "f5d3a096",
   "metadata": {},
   "outputs": [],
   "source": [
    "adata.write(os.path.join(RESULTS_FOLDERNAME, 'allages_tendonfibro_velocity2.h5ad'))"
   ]
  },
  {
   "cell_type": "code",
   "execution_count": null,
   "id": "433a20a4",
   "metadata": {},
   "outputs": [],
   "source": [
    "adata.var_names_make_unique()\n",
    "adata.obs_names_make_unique()"
   ]
  },
  {
   "cell_type": "code",
   "execution_count": null,
   "id": "5c5f4051",
   "metadata": {},
   "outputs": [],
   "source": [
    "scv.tl.rank_velocity_genes(adata, groupby='C_scANVI')\n",
    "\n",
    "s_genes, g2m_genes = scv.utils.get_phase_marker_genes(adata)\n",
    "s_genes = scv.get_df(adata[:, s_genes], 'spearmans_score', sort_values=True).index\n",
    "g2m_genes = scv.get_df(adata[:, g2m_genes], 'spearmans_score', sort_values=True).index\n",
    "\n",
    "kwargs = dict(frameon=False, ylabel='cell cycle genes')\n",
    "scv.pl.scatter(adata, list(s_genes[:3]) + list(g2m_genes[:3]), **kwargs)"
   ]
  },
  {
   "cell_type": "code",
   "execution_count": null,
   "id": "96c260e2",
   "metadata": {},
   "outputs": [],
   "source": [
    "adata.obsm"
   ]
  },
  {
   "cell_type": "code",
   "execution_count": null,
   "id": "d7b37cd2",
   "metadata": {},
   "outputs": [],
   "source": [
    "scv.pl.velocity_embedding_stream(adata, \n",
    "                                 basis='tsne', \n",
    "                                 color='C_scANVI',\n",
    "                                 size=5, density=2.5,\n",
    "                                 min_mass=0, arrow_size=0.8,\n",
    "                                 legend_loc='none', legend_fontsize=6, fontsize=9,\n",
    "                                 save='allages_tendonfibro_streamMap_tsne2.svg',\n",
    "                                 figsize=(5,5),\n",
    "                                 dpi=300)"
   ]
  },
  {
   "cell_type": "code",
   "execution_count": null,
   "id": "bd6800cb",
   "metadata": {},
   "outputs": [],
   "source": [
    "scv.pl.velocity_embedding_stream(adata, \n",
    "                                 basis='tsne', \n",
    "                                 color='age',\n",
    "                                 size=5, density=2.5,\n",
    "                                 min_mass=0, arrow_size=0.8,\n",
    "                                 legend_loc='none', legend_fontsize=6, fontsize=9,\n",
    "                                 save='allages_tendonfibro_streamMap_age_tsne2.svg',\n",
    "                                 figsize=(5,5),\n",
    "                                 dpi=300)"
   ]
  },
  {
   "cell_type": "code",
   "execution_count": null,
   "id": "c4bf6821",
   "metadata": {},
   "outputs": [],
   "source": [
    "scv.pl.velocity_embedding_stream(adata, \n",
    "                                 basis='umap_orig', \n",
    "                                 color='C_scANVI',\n",
    "                                 size=5, density=2.5,\n",
    "                                 min_mass=0, arrow_size=0.8,\n",
    "                                 legend_loc='none', legend_fontsize=6, fontsize=9,\n",
    "                                 save='allages_tendonfibro_streamMap_umap4.svg',\n",
    "                                 figsize=(5,5),\n",
    "                                 dpi=300)"
   ]
  },
  {
   "cell_type": "code",
   "execution_count": null,
   "id": "7991eefd",
   "metadata": {},
   "outputs": [],
   "source": [
    "scv.pl.velocity_embedding_stream(adata, \n",
    "                                 basis='umap_orig', \n",
    "                                 color='age',\n",
    "                                 size=5, density=2.5,\n",
    "                                 min_mass=0, arrow_size=0.8,\n",
    "                                 legend_loc='none', legend_fontsize=6, fontsize=9,\n",
    "                                 save='allages_tendonfibro_streamMap_age_umap4.svg',\n",
    "                                 figsize=(5,5),\n",
    "                                 dpi=300)"
   ]
  },
  {
   "cell_type": "code",
   "execution_count": null,
   "id": "f5069de1",
   "metadata": {},
   "outputs": [],
   "source": [
    "scv.pl.velocity_embedding_stream(adata, \n",
    "                                 basis='umap', \n",
    "                                 color='C_scANVI',\n",
    "                                 size=5, density=2.5,\n",
    "                                 min_mass=0, arrow_size=0.8,\n",
    "                                 legend_loc='none', legend_fontsize=6, fontsize=9,\n",
    "                                 save='allages_tendonfibro_streamMap_umap2.svg',\n",
    "                                 figsize=(5,5),\n",
    "                                 dpi=300)"
   ]
  },
  {
   "cell_type": "code",
   "execution_count": null,
   "id": "38c7018d",
   "metadata": {},
   "outputs": [],
   "source": [
    "scv.pl.velocity_embedding_stream(adata, \n",
    "                                 basis='umap', \n",
    "                                 color='age',\n",
    "                                 size=5, density=2.5,\n",
    "                                 min_mass=0, arrow_size=0.8,\n",
    "                                 legend_loc='none', legend_fontsize=6, fontsize=9,\n",
    "                                 save='allages_tendonfibro_streamMap_age_umap2.svg',\n",
    "                                 figsize=(5,5),\n",
    "                                 dpi=300)"
   ]
  },
  {
   "cell_type": "code",
   "execution_count": null,
   "id": "2c725f73",
   "metadata": {},
   "outputs": [],
   "source": [
    "scv.pl.velocity(adata, ['TNMD', 'MKX', 'SCX', 'FMOD', 'EGR1', 'COL1A1', 'COL3A1'], \n",
    "                basis='umap', color='C_scANVI', add_outline=True #, cmap='coolwarm'\n",
    "               )"
   ]
  },
  {
   "cell_type": "code",
   "execution_count": null,
   "id": "d8c77d08",
   "metadata": {},
   "outputs": [],
   "source": [
    "scv.tl.rank_dynamical_genes(adata, groupby='C_scANVI')"
   ]
  },
  {
   "cell_type": "code",
   "execution_count": null,
   "id": "74edbbac",
   "metadata": {},
   "outputs": [],
   "source": [
    "result = adata.uns['rank_dynamical_genes']\n",
    "groups = result['names'].dtype.names\n",
    "df = pd.DataFrame(\n",
    "    {group + '_' + key: result[key][group]\n",
    "    for group in groups \n",
    "    for key in ['names','scores']})\n",
    "#df.to_csv(os.path.join(RESULTS_FOLDERNAME, '20w_tendonfibro_highvelocity_genes_diffkinetics.csv'))\n",
    "df.head(5)"
   ]
  },
  {
   "cell_type": "code",
   "execution_count": null,
   "id": "d8820b13",
   "metadata": {
    "scrolled": true
   },
   "outputs": [],
   "source": [
    "df = scv.get_df(adata, 'rank_dynamical_genes/names')\n",
    "df.head(5)"
   ]
  },
  {
   "cell_type": "code",
   "execution_count": null,
   "id": "62571a86",
   "metadata": {},
   "outputs": [],
   "source": [
    "for celltype in groups:\n",
    "    scv.pl.scatter(adata, df[celltype][:5], ylabel=celltype, frameon=False, \n",
    "                   color='C_scANVI', dpi=150, add_outline=True)"
   ]
  },
  {
   "cell_type": "markdown",
   "id": "d60661ae",
   "metadata": {},
   "source": [
    "## Differentiation Speed\n",
    "\n",
    "The speed or rate of differentiation is given by the length of the velocity vector. The coherence of the vector field (i.e., how a velocity vector correlates with its neighboring velocities) provides a measure of confidence."
   ]
  },
  {
   "cell_type": "code",
   "execution_count": null,
   "id": "b42ab092",
   "metadata": {},
   "outputs": [],
   "source": [
    "scv.tl.velocity_confidence(adata)"
   ]
  },
  {
   "cell_type": "code",
   "execution_count": null,
   "id": "950ccef1",
   "metadata": {},
   "outputs": [],
   "source": [
    "keys = 'velocity_length', 'velocity_confidence'\n",
    "scv.pl.scatter(adata, basis='umap', c = keys, perc = [5,95], cmap='coolwarm',\n",
    "              save='allages_magnitude_and_confidence2.svg', figsize=(5,4))"
   ]
  },
  {
   "cell_type": "code",
   "execution_count": null,
   "id": "2fa2bd4a",
   "metadata": {},
   "outputs": [],
   "source": [
    "keys = 'velocity_length', 'velocity_confidence'\n",
    "scv.pl.scatter(adata, basis='umap_orig', c = keys, perc = [5,95], cmap='coolwarm',\n",
    "              save='allages_magnitude_and_confidence_umap2.svg', figsize=(5,4))"
   ]
  },
  {
   "cell_type": "code",
   "execution_count": null,
   "id": "914ee4b6",
   "metadata": {},
   "outputs": [],
   "source": [
    "keys = 'velocity_length', 'velocity_confidence'\n",
    "scv.pl.scatter(adata, basis='draw_graph_fa', c = keys, perc = [5,95], cmap='coolwarm',\n",
    "              save='allages_magnitude_and_confidence_fagraph2.svg', figsize=(5,4))"
   ]
  },
  {
   "cell_type": "code",
   "execution_count": null,
   "id": "401ce385",
   "metadata": {},
   "outputs": [],
   "source": [
    "df = adata.obs.groupby('C_scANVI')[keys].mean().T\n",
    "df.style.background_gradient(cmap='coolwarm', axis=1)"
   ]
  },
  {
   "cell_type": "code",
   "execution_count": null,
   "id": "38bcaa03",
   "metadata": {},
   "outputs": [],
   "source": [
    "# velocity graph showing all velocity-inferred cell-to-cell connections/transitions.\n",
    "scv.pl.velocity_graph(adata, threshold=.3, color='C_scANVI', legend_loc='right margin')"
   ]
  },
  {
   "cell_type": "code",
   "execution_count": null,
   "id": "bccd1ba6",
   "metadata": {},
   "outputs": [],
   "source": [
    "df = adata.var\n",
    "df = df[(df['fit_likelihood'] > .1) & df['velocity_genes'] == True]\n",
    "\n",
    "kwargs = dict(xscale='log', fontsize=16)\n",
    "with scv.GridSpec(ncols=3) as pl:\n",
    "    pl.hist(df['fit_alpha'], xlabel='transcription rate', **kwargs)\n",
    "    pl.hist(df['fit_beta'] * df['fit_scaling'], xlabel='splicing rate', xticks=[.1, .4, 1], **kwargs)\n",
    "    pl.hist(df['fit_gamma'], xlabel='degradation rate', xticks=[.1, .4, 1], **kwargs)\n",
    "\n",
    "scv.get_df(adata, 'fit*', dropna=True).head()"
   ]
  },
  {
   "cell_type": "markdown",
   "id": "bd9e0547",
   "metadata": {},
   "source": [
    "## Latent Time"
   ]
  },
  {
   "cell_type": "code",
   "execution_count": null,
   "id": "594f4c5d",
   "metadata": {},
   "outputs": [],
   "source": [
    "scv.tl.latent_time(adata)"
   ]
  },
  {
   "cell_type": "code",
   "execution_count": null,
   "id": "6f687590",
   "metadata": {},
   "outputs": [],
   "source": [
    "scv.pl.scatter(adata, basis='umap', color='latent_time', color_map='gnuplot', size=30,\n",
    "               save=\"allages_tendonfibro_scvelo_latent_time2.svg\", \n",
    "               show=True)"
   ]
  },
  {
   "cell_type": "code",
   "execution_count": null,
   "id": "d07d3418",
   "metadata": {},
   "outputs": [],
   "source": [
    "top_genes = adata.var['fit_likelihood'].sort_values(ascending=False).index[:300]\n",
    "top_genes"
   ]
  },
  {
   "cell_type": "code",
   "execution_count": null,
   "id": "bc94e6e8",
   "metadata": {},
   "outputs": [],
   "source": [
    "scv.pl.heatmap(adata, var_names=top_genes, sortby='latent_time', \n",
    "               color_map='magma',\n",
    "               col_color='C_scANVI', \n",
    "               n_convolve=100,\n",
    "               figsize=(10,5),\n",
    "               save='allages_latent_heatmap2.png'\n",
    "              )"
   ]
  },
  {
   "cell_type": "code",
   "execution_count": null,
   "id": "381eac17",
   "metadata": {},
   "outputs": [],
   "source": [
    "scv.pl.heatmap(adata, var_names=top_genes, sortby='velocity_pseudotime', \n",
    "               color_map='magma',\n",
    "               col_color='C_scANVI', \n",
    "               n_convolve=100,\n",
    "               figsize=(10,5),\n",
    "               save='allages_velocity_pseudotime_heatmap2.png'\n",
    "              )"
   ]
  },
  {
   "cell_type": "code",
   "execution_count": null,
   "id": "31c1fd8a",
   "metadata": {},
   "outputs": [],
   "source": [
    "scv.pl.heatmap(adata, var_names=top_genes, sortby='palantir_pseudotime', \n",
    "               color_map='magma',\n",
    "               col_color='C_scANVI', \n",
    "               n_convolve=100,\n",
    "               figsize=(10,5),\n",
    "               save='allages_palantir_pseudotime_heatmap2.png'\n",
    "              )"
   ]
  },
  {
   "cell_type": "code",
   "execution_count": null,
   "id": "d2e5ab16",
   "metadata": {},
   "outputs": [],
   "source": [
    "scv.pl.scatter(adata, top_genes[:5], frameon=False, color='C_scANVI')\n",
    "scv.pl.scatter(adata, x='latent_time', y=top_genes[:5], frameon=False, color='C_scANVI')"
   ]
  },
  {
   "cell_type": "code",
   "execution_count": null,
   "id": "b16bf3da",
   "metadata": {},
   "outputs": [],
   "source": [
    "scv.tl.velocity_pseudotime(adata)\n",
    "scv.pl.scatter(adata, basis='umap', color='velocity_pseudotime', save=\"velo_pseudotime2.svg\", cmap='gnuplot')\n",
    "#scv.pl.scatter(adata, basis='draw_graph_fa', color='velocity_pseudotime', save=\"velo_pseudotime_FA.svg\", cmap='gnuplot')"
   ]
  },
  {
   "cell_type": "code",
   "execution_count": null,
   "id": "e65b07e8",
   "metadata": {},
   "outputs": [],
   "source": [
    "adata.write(os.path.join(RESULTS_FOLDERNAME, 'allages_tendonfibro_velocity2.h5ad'))"
   ]
  },
  {
   "cell_type": "markdown",
   "id": "efa19047",
   "metadata": {},
   "source": [
    "# CellRank"
   ]
  },
  {
   "cell_type": "markdown",
   "id": "e05c0f7d",
   "metadata": {},
   "source": [
    "## Identifying Probable Terminal and Initial States"
   ]
  },
  {
   "cell_type": "code",
   "execution_count": null,
   "id": "d3e7515d",
   "metadata": {},
   "outputs": [],
   "source": [
    "adata = scv.read(os.path.join(HARMONY_FOLDERNAME, 'allages_tendonfibro2.h5ad'), cache=False)\n",
    "adata"
   ]
  },
  {
   "cell_type": "code",
   "execution_count": null,
   "id": "49a70a73",
   "metadata": {},
   "outputs": [],
   "source": [
    "adata=scv.read(os.path.join(RESULTS_FOLDERNAME, 'allages_tendonfibro_velocity2.h5ad'), cache=True)\n",
    "adata.var_names_make_unique()\n",
    "adata"
   ]
  },
  {
   "cell_type": "code",
   "execution_count": null,
   "id": "2473a198",
   "metadata": {},
   "outputs": [],
   "source": [
    "sc.pp.neighbors(adata, n_pcs=15, n_neighbors=30, random_state=0)\n",
    "sc.tl.diffmap(adata)"
   ]
  },
  {
   "cell_type": "code",
   "execution_count": null,
   "id": "082a6a7c",
   "metadata": {},
   "outputs": [],
   "source": [
    "diffmapdf = pd.DataFrame(adata.obsm['X_diffmap'], index=adata.obs_names)\n",
    "diffmapdf"
   ]
  },
  {
   "cell_type": "code",
   "execution_count": null,
   "id": "8ac2167a",
   "metadata": {},
   "outputs": [],
   "source": [
    "#cellid = adata.obsm['X_diffmap'][:, 8].argmax()\n",
    "#cellid = adata.obsm['X_msdiff'][:, 4].argmax()\n",
    "#cell = adata.obs.index[cellid]\n",
    "\n",
    "\n",
    "# cell = 'AACCCAAAGCCAAGTG.DEV16134_Quad' # Highest original SCX expression:\n",
    "cell = 'ACTTAGGGTTGTCCCT.DEV16127_Ach'# Highest MKX\n",
    "# cell = 'CGGTCAGGTACCTGTA.DEV16569_Ach' # Highest NES\n",
    "# cell = 'AGTCTCCCAGGTTTAC.DEV15985_Quad' # Highest TNMD\n",
    "\n",
    "#cell = 'TCCCACACACAATGAA.DEV16135DEV16171_Quad' # highest TNP and division marker combined score\n",
    "cellid = adata.obs.index.get_loc(cell)\n",
    "print(adata.obs[adata.obs.index == cell][['C_scANVI', 'phase', 'age']])\n",
    "\n",
    "root_ixs = cellid \n",
    "scv.pl.scatter(\n",
    "    adata,\n",
    "    basis=\"msdiff\",\n",
    "    c=[\"age\", \"C_scANVI\", root_ixs],\n",
    "    legend_loc=\"right\",\n",
    "    components=[\"2, 3\"],\n",
    ")\n",
    "\n",
    "adata.uns[\"iroot\"] = root_ixs"
   ]
  },
  {
   "cell_type": "code",
   "execution_count": null,
   "id": "189b4808",
   "metadata": {},
   "outputs": [],
   "source": [
    "scv.pl.scatter(\n",
    "    adata,\n",
    "    basis=\"msdiff\",\n",
    "    c=[\"age\", \"C_scANVI\", root_ixs],\n",
    "    legend_loc=\"right\",\n",
    "    components=[\"1,2\"],\n",
    ")"
   ]
  },
  {
   "cell_type": "code",
   "execution_count": null,
   "id": "548cf3e8",
   "metadata": {},
   "outputs": [],
   "source": [
    "scv.pl.scatter(\n",
    "    adata,\n",
    "    basis=\"msdiff\",\n",
    "    c=[\"age\", \"C_scANVI\", root_ixs],\n",
    "    legend_loc=\"right\",\n",
    "    components=[\"3,4\"],\n",
    ")"
   ]
  },
  {
   "cell_type": "code",
   "execution_count": null,
   "id": "cd7225ec",
   "metadata": {},
   "outputs": [],
   "source": [
    "sc.pl.umap(\n",
    "    adata,\n",
    "    ncols=2,\n",
    "    color=[\"palantir_pseudotime\", \"C_scANVI\"],\n",
    "    frameon=False,\n",
    "    color_map=\"gnuplot2\",\n",
    "    \n",
    ")"
   ]
  },
  {
   "cell_type": "code",
   "execution_count": null,
   "id": "deb9f9fc",
   "metadata": {},
   "outputs": [],
   "source": [
    "adata.raw = adata.copy()"
   ]
  },
  {
   "cell_type": "code",
   "execution_count": null,
   "id": "56f3df52",
   "metadata": {},
   "outputs": [],
   "source": [
    "sc.pl.violin(adata, keys=\"palantir_pseudotime\", \n",
    "             groupby=\"C_scANVI\", rotation=90)"
   ]
  },
  {
   "cell_type": "code",
   "execution_count": null,
   "id": "e8475dc9",
   "metadata": {},
   "outputs": [],
   "source": [
    "sc.tl.dpt(adata)"
   ]
  },
  {
   "cell_type": "code",
   "execution_count": null,
   "id": "f8abdf61",
   "metadata": {},
   "outputs": [],
   "source": [
    "sc.pl.umap(\n",
    "    adata,\n",
    "    ncols=2,\n",
    "    color=[\"dpt_pseudotime\", \"velocity_pseudotime\", \"palantir_pseudotime\", \"C_scANVI\"],\n",
    "    frameon=False,\n",
    "    color_map=\"gnuplot2\",\n",
    "    save='allages_tendonfibros_pseudotimes2.svg'\n",
    ")"
   ]
  },
  {
   "cell_type": "code",
   "execution_count": null,
   "id": "6fed9486",
   "metadata": {},
   "outputs": [],
   "source": [
    "sc.pl.violin(adata, keys=[\"dpt_pseudotime\", \n",
    "                          \"velocity_pseudotime\",\n",
    "                          \"palantir_pseudotime\"], \n",
    "             groupby=\"C_scANVI\", rotation=90)"
   ]
  },
  {
   "cell_type": "code",
   "execution_count": null,
   "id": "22ed40dd",
   "metadata": {},
   "outputs": [],
   "source": [
    "abi3_trajectory = [\"COL6A6 FNDC1 Fibroblasts\", \"ABI3BP GAS2 Fibroblasts 2\", \"ABI3BP GAS2 Fibroblasts 1\"]\n",
    "col3_trajectory = [\"COL6A6 FNDC1 Fibroblasts\", \"COL3A1 PI16 Fibroblasts\",]\n",
    "fgf14_trajectory = [\"FGF14 THBS4 Fibroblasts\", \"ABI3BP GAS2 Fibroblasts 1\"]\n",
    "\n",
    "mask = np.in1d(adata.obs[\"C_scANVI\"], abi3_trajectory)\n",
    "sc.pl.violin(\n",
    "    adata[mask],\n",
    "    keys=[\"dpt_pseudotime\", \"velocity_pseudotime\", \"palantir_pseudotime\"],\n",
    "    groupby=\"C_scANVI\",\n",
    "    rotation=-90,\n",
    "    order=abi3_trajectory,\n",
    ")\n",
    "\n",
    "mask = np.in1d(adata.obs[\"C_scANVI\"], col3_trajectory)\n",
    "sc.pl.violin(\n",
    "    adata[mask],\n",
    "    keys=[\"dpt_pseudotime\", \"velocity_pseudotime\", \"palantir_pseudotime\"],\n",
    "    groupby=\"C_scANVI\",\n",
    "    rotation=-90,\n",
    "    order=col3_trajectory,\n",
    ")\n",
    "\n",
    "mask = np.in1d(adata.obs[\"C_scANVI\"], fgf14_trajectory)\n",
    "sc.pl.violin(\n",
    "    adata[mask],\n",
    "    keys=[\"dpt_pseudotime\", \"velocity_pseudotime\", \"palantir_pseudotime\"],\n",
    "    groupby=\"C_scANVI\",\n",
    "    rotation=-90,\n",
    "    order=fgf14_trajectory,\n",
    ")"
   ]
  },
  {
   "cell_type": "markdown",
   "id": "4c0ae946",
   "metadata": {},
   "source": [
    "### Selecting Kernels"
   ]
  },
  {
   "cell_type": "code",
   "execution_count": null,
   "id": "05b9618c",
   "metadata": {},
   "outputs": [],
   "source": [
    "import cellrank as cr\n",
    "from cellrank.tl.kernels import VelocityKernel\n",
    "from cellrank.tl.kernels import PseudotimeKernel\n",
    "from cellrank.tl.kernels import ConnectivityKernel\n",
    "\n",
    "#vk = VelocityKernel(adata).compute_transition_matrix()\n",
    "#ck = ConnectivityKernel(adata).compute_transition_matrix()\n",
    "#combined_kernel = 0.8 * vk + 0.2 * ck\n",
    "#print(combined_kernel)"
   ]
  },
  {
   "cell_type": "code",
   "execution_count": null,
   "id": "243d49d2",
   "metadata": {},
   "outputs": [],
   "source": [
    "pk = PseudotimeKernel(adata, time_key=\"palantir_pseudotime\").compute_transition_matrix()"
   ]
  },
  {
   "cell_type": "code",
   "execution_count": null,
   "id": "ffad2091",
   "metadata": {},
   "outputs": [],
   "source": [
    "pk.plot_random_walks(n_sims=300, start_ixs={\"C_scANVI\": \"ABI3BP GAS2 Fibroblasts\"}, \n",
    "                     max_iter=1000, seed=0, basis='umap', s=100,\n",
    "                     figsize=(7,7), save='ABI_1_random_walks_palantirpseudo.svg')"
   ]
  },
  {
   "cell_type": "code",
   "execution_count": null,
   "id": "17b06ad7",
   "metadata": {},
   "outputs": [],
   "source": [
    "#vk.plot_random_walks(n_sims=300, start_ixs={\"C_scANVI\": \"ABI3BP GAS2 Fibroblasts 2\"}, \n",
    "#                     max_iter=1000, seed=0, basis='umap', s=100,\n",
    "#                    figsize=(7,7))"
   ]
  },
  {
   "cell_type": "markdown",
   "id": "eaae6f7e",
   "metadata": {},
   "source": [
    "### Estimating (Palantir Pseudotime Kernel)"
   ]
  },
  {
   "cell_type": "code",
   "execution_count": null,
   "id": "c3ed58ff",
   "metadata": {},
   "outputs": [],
   "source": [
    "from cellrank.tl.estimators import GPCCA\n",
    "\n",
    "g2 = GPCCA(pk)\n",
    "g2.compute_schur(n_components=20)\n",
    "g2.plot_spectrum(real_only=True, show_eigengap=True)"
   ]
  },
  {
   "cell_type": "code",
   "execution_count": null,
   "id": "e759888c",
   "metadata": {},
   "outputs": [],
   "source": [
    "g2.compute_macrostates(n_states=8, cluster_key=\"C_scANVI\")\n",
    "g2.plot_macrostates(discrete=True,\n",
    "                   legend_fontsize=9, \n",
    "                   basis='umap', s=100, legend_loc='right margin',\n",
    "                   #save='allages_tendonfibro_macrostates_discrete.svg',\n",
    "                   figsize=(5,4))"
   ]
  },
  {
   "cell_type": "code",
   "execution_count": null,
   "id": "82770a87",
   "metadata": {},
   "outputs": [],
   "source": [
    "g2.plot_coarse_T()"
   ]
  },
  {
   "cell_type": "code",
   "execution_count": null,
   "id": "1020189c",
   "metadata": {},
   "outputs": [],
   "source": [
    "g2.plot_macrostates(same_plot=False, basis='umap',\n",
    "                    ncols=3,\n",
    "                    #save='allages_tendonfibro_macrostates_separated.svg',\n",
    "                   )"
   ]
  },
  {
   "cell_type": "code",
   "execution_count": null,
   "id": "48b89dc7",
   "metadata": {},
   "outputs": [],
   "source": [
    "sc.pl.umap(adata, color=['age', 'phase', 'C_scANVI'], \n",
    "           frameon=False)"
   ]
  },
  {
   "cell_type": "code",
   "execution_count": null,
   "id": "3ef26664",
   "metadata": {},
   "outputs": [],
   "source": [
    "#sc.tl.louvain(adata, resolution=0.2, key_added='fibro_louvain02')\n",
    "sc.pl.umap(adata, color=['fibro_louvain02', 'fibro_louvain04'], frameon=False, legend_loc='on data')"
   ]
  },
  {
   "cell_type": "code",
   "execution_count": null,
   "id": "8ca890c0",
   "metadata": {},
   "outputs": [],
   "source": [
    "sc.pl.embedding(adata, color=['fibro_louvain02', 'fibro_louvain04'], basis='umap_orig', frameon=False,\n",
    "               legend_loc='on data')"
   ]
  },
  {
   "cell_type": "code",
   "execution_count": null,
   "id": "47deb436",
   "metadata": {},
   "outputs": [],
   "source": [
    "sc.tl.rank_genes_groups(adata, groupby='fibro_louvain02', method='wilcoxon', key_added='wilcoxon_fiblou02', \n",
    "                        use_raw=False, layer='log1p_norm')\n",
    "sc.pl.rank_genes_groups(adata, n_genes=25, sharey=False, key='wilcoxon_fiblou02')"
   ]
  },
  {
   "cell_type": "code",
   "execution_count": null,
   "id": "bb06d154",
   "metadata": {},
   "outputs": [],
   "source": [
    "sc.pl.embedding(adata, color=['PRG4', 'CREB5', 'MKX', 'EGR1', 'PTCH2', 'EBF2', 'COL4A1', 'POSTN', 'NEGR1',\n",
    "                             'COL6A6', 'PDGFRA', 'BMP5', 'TSHZ2', 'FSTL5'], basis='umap', \n",
    "                             vmin=0, vmax=\"p99\", sort_order=False,\n",
    "                             cmap=\"Reds\", use_raw=False, layer='log1p_norm', frameon=False)"
   ]
  },
  {
   "cell_type": "code",
   "execution_count": null,
   "id": "3f0fbdac",
   "metadata": {},
   "outputs": [],
   "source": [
    "scv.tl.rank_dynamical_genes(adata, groupby='fibro_louvain02')\n",
    "result = adata.uns['rank_dynamical_genes']\n",
    "groups = result['names'].dtype.names\n",
    "df = scv.get_df(adata, 'rank_dynamical_genes/names')\n",
    "for celltype in groups:\n",
    "    scv.pl.scatter(adata, df[celltype][:5], ylabel=celltype, frameon=False, \n",
    "                   color='fibro_louvain02', dpi=150, add_outline=True)"
   ]
  },
  {
   "cell_type": "code",
   "execution_count": null,
   "id": "afb2b98c",
   "metadata": {},
   "outputs": [],
   "source": [
    "g2.compute_terminal_states()\n",
    "#g2.set_terminal_states_from_macrostates([\n",
    "#                                         'COL3A1 PI16 Fibroblasts_1', 'COL3A1 PI16 Fibroblasts_2',\n",
    "#                                         'COL3A1 PI16 Fibroblasts_3', 'COL3A1 PI16 Fibroblasts_4',\n",
    "#                                         'FGF14 THBS4 Fibroblasts', 'ABI3BP GAS2 Fibroblasts_3', \n",
    "#                                       ])\n",
    "adata.obs['terminal_states'].value_counts()"
   ]
  },
  {
   "cell_type": "code",
   "execution_count": null,
   "id": "dc64afa3",
   "metadata": {},
   "outputs": [],
   "source": [
    "g2.compute_absorption_probabilities()\n",
    "cr.pl.circular_projection(adata, keys=['age', 'C_scANVI'],\n",
    "                          legend_loc=\"right\", s=10, alpha=0.9,\n",
    "                          save='allages_tendonfibro_circular_projection_pseudokernel2.svg',\n",
    "                          figsize=(25,25))"
   ]
  },
  {
   "cell_type": "code",
   "execution_count": null,
   "id": "bc47f095",
   "metadata": {},
   "outputs": [],
   "source": [
    "cr.pl.circular_projection(adata, keys=['fibro_louvain02', 'C_scANVI'],\n",
    "                          legend_loc=\"right\", s=10, alpha=0.9,\n",
    "                          figsize=(25,25))"
   ]
  },
  {
   "cell_type": "code",
   "execution_count": null,
   "id": "299587d2",
   "metadata": {},
   "outputs": [],
   "source": [
    "cr.pl.circular_projection(adata, keys=['phase', 'C_scANVI'],\n",
    "                          legend_loc=\"right\", s=5,\n",
    "                          save='allages_tendonfibro_circular_projection_pseudokernel2.svg',\n",
    "                          figsize=(25,25))"
   ]
  },
  {
   "cell_type": "code",
   "execution_count": null,
   "id": "9eb0b051",
   "metadata": {},
   "outputs": [],
   "source": [
    "lin_drivers2 = g2.compute_lineage_drivers()\n",
    "lin_drivers2.to_csv(os.path.join(RESULTS_FOLDERNAME, 'allages_tendonfibro_pseudokernel_lineagedrivers.csv'))"
   ]
  },
  {
   "cell_type": "code",
   "execution_count": null,
   "id": "361668b8",
   "metadata": {
    "scrolled": false
   },
   "outputs": [],
   "source": [
    "lineages = list(adata.obs['terminal_states'].cat.categories)\n",
    "for i in lineages:\n",
    "    g2.plot_lineage_drivers(i, n_genes=8, basis='umap', vmax=10,\n",
    "                   cmap='plasma', save=f'allages_fibro_palantirlind_{i}.svg'\n",
    "                   )\n",
    "    print(i)"
   ]
  },
  {
   "cell_type": "code",
   "execution_count": null,
   "id": "dbed1ee2",
   "metadata": {},
   "outputs": [],
   "source": [
    "lin_drivers_dict={}\n",
    "for i in g2.terminal_states.cat.categories:\n",
    "    lin_drivers_dict[i] = g2.compute_lineage_drivers(lineages=i,return_drivers=True)\n",
    "    lin_drivers_dict[i].to_csv(os.path.join(RESULTS_FOLDERNAME, f'allages_tendonfibro_pseudokernel_lineagedrivers_{i}.csv'))"
   ]
  },
  {
   "cell_type": "code",
   "execution_count": null,
   "id": "3c56ba9f",
   "metadata": {},
   "outputs": [],
   "source": [
    "g2.compute_lineage_drivers()"
   ]
  },
  {
   "cell_type": "code",
   "execution_count": null,
   "id": "dbe9255d",
   "metadata": {},
   "outputs": [],
   "source": [
    "# define set of genes to annotate\n",
    "genes_oi = {\n",
    "    \"COL3A1 PI16 Fibroblasts_2\": list(lin_drivers_dict['COL3A1 PI16 Fibroblasts_2'].index[:15]),\n",
    "    \"COL3A1 PI16 Fibroblasts_1\": list(lin_drivers_dict['COL3A1 PI16 Fibroblasts_1'].index[:15])\n",
    "}\n",
    "\n",
    "# make sure all of these exist in AnnData\n",
    "assert [\n",
    "    gene in adata.var_names for genes in genes_oi.values() for gene in genes\n",
    "], \"Did not find all genes\"\n",
    "\n",
    "# compute mean gene expression across all cells\n",
    "adata.var[\"mean expression\"] = adata.X.A.mean(axis=0)\n",
    "\n",
    "# visualize in a scatter plot\n",
    "g2.plot_lineage_drivers_correlation(\n",
    "    lineage_x=\"COL3A1 PI16 Fibroblasts_2\",\n",
    "    lineage_y=\"COL3A1 PI16 Fibroblasts_1\",\n",
    "    adjust_text=True,\n",
    "    gene_sets=genes_oi,\n",
    "    color=\"mean expression\",\n",
    "    legend_loc=\"none\",\n",
    "    figsize=(5, 5),\n",
    "    dpi=150,\n",
    "    fontsize=9,\n",
    "    size=50,\n",
    "    save='COL3_1_vs_COL3_2.svg'\n",
    ")"
   ]
  },
  {
   "cell_type": "code",
   "execution_count": null,
   "id": "95b1cfda",
   "metadata": {},
   "outputs": [],
   "source": [
    "# define set of genes to annotate\n",
    "genes_oi = {\n",
    "    \"COL3A1 PI16 Fibroblasts_3\": list(lin_drivers_dict['COL3A1 PI16 Fibroblasts_3'].index[:15]),\n",
    "    \"COL3A1 PI16 Fibroblasts_2\": list(lin_drivers_dict['COL3A1 PI16 Fibroblasts_2'].index[:15])\n",
    "}\n",
    "\n",
    "# make sure all of these exist in AnnData\n",
    "assert [\n",
    "    gene in adata.var_names for genes in genes_oi.values() for gene in genes\n",
    "], \"Did not find all genes\"\n",
    "\n",
    "# compute mean gene expression across all cells\n",
    "adata.var[\"mean expression\"] = adata.X.A.mean(axis=0)\n",
    "\n",
    "# visualize in a scatter plot\n",
    "g2.plot_lineage_drivers_correlation(\n",
    "    lineage_x=\"COL3A1 PI16 Fibroblasts_3\",\n",
    "    lineage_y=\"COL3A1 PI16 Fibroblasts_2\",\n",
    "    adjust_text=True,\n",
    "    gene_sets=genes_oi,\n",
    "    color=\"mean expression\",\n",
    "    legend_loc=\"none\",\n",
    "    figsize=(5, 5),\n",
    "    dpi=150,\n",
    "    fontsize=9,\n",
    "    size=50,\n",
    "    save='COL3_3_vs_COL3_2.svg'\n",
    ")"
   ]
  },
  {
   "cell_type": "code",
   "execution_count": null,
   "id": "e4fa8ef8",
   "metadata": {},
   "outputs": [],
   "source": [
    "# define set of genes to annotate\n",
    "genes_oi = {\n",
    "    \"COL3A1 PI16 Fibroblasts_1\": list(lin_drivers_dict['COL3A1 PI16 Fibroblasts_1'].index[:15]),\n",
    "    \"COL3A1 PI16 Fibroblasts_3\": list(lin_drivers_dict['COL3A1 PI16 Fibroblasts_3'].index[:15])\n",
    "}\n",
    "\n",
    "# make sure all of these exist in AnnData\n",
    "assert [\n",
    "    gene in adata.var_names for genes in genes_oi.values() for gene in genes\n",
    "], \"Did not find all genes\"\n",
    "\n",
    "# compute mean gene expression across all cells\n",
    "adata.var[\"mean expression\"] = adata.X.A.mean(axis=0)\n",
    "\n",
    "# visualize in a scatter plot\n",
    "g2.plot_lineage_drivers_correlation(\n",
    "    lineage_x=\"COL3A1 PI16 Fibroblasts_1\",\n",
    "    lineage_y=\"COL3A1 PI16 Fibroblasts_3\",\n",
    "    adjust_text=True,\n",
    "    gene_sets=genes_oi,\n",
    "    color=\"mean expression\",\n",
    "    legend_loc=\"none\",\n",
    "    figsize=(5, 5),\n",
    "    dpi=150,\n",
    "    fontsize=9,\n",
    "    size=50,\n",
    "    save='COL3_1_vs_COL3_3.svg'\n",
    ")"
   ]
  },
  {
   "cell_type": "code",
   "execution_count": null,
   "id": "a873fa65",
   "metadata": {},
   "outputs": [],
   "source": [
    "# define set of genes to annotate\n",
    "genes_oi = {\n",
    "    \"ABI3BP GAS2 Fibroblasts 1_1\": list(lin_drivers_dict['ABI3BP GAS2 Fibroblasts 1_1'].index[:15]),\n",
    "    \"ABI3BP GAS2 Fibroblasts 1_2\": list(lin_drivers_dict['ABI3BP GAS2 Fibroblasts 1_2'].index[:15])\n",
    "}\n",
    "\n",
    "# make sure all of these exist in AnnData\n",
    "assert [\n",
    "    gene in adata.var_names for genes in genes_oi.values() for gene in genes\n",
    "], \"Did not find all genes\"\n",
    "\n",
    "# compute mean gene expression across all cells\n",
    "adata.var[\"mean expression\"] = adata.X.A.mean(axis=0)\n",
    "\n",
    "# visualize in a scatter plot\n",
    "g2.plot_lineage_drivers_correlation(\n",
    "    lineage_x=\"ABI3BP GAS2 Fibroblasts 1_1\",\n",
    "    lineage_y=\"ABI3BP GAS2 Fibroblasts 1_2\",\n",
    "    adjust_text=True,\n",
    "    gene_sets=genes_oi,\n",
    "    color=\"mean expression\",\n",
    "    legend_loc=\"none\",\n",
    "    figsize=(5, 5),\n",
    "    dpi=150,\n",
    "    fontsize=9,\n",
    "    size=50,\n",
    "    save='ABI3_1_1_vs_ABI3_1_2.svg'\n",
    ")"
   ]
  },
  {
   "cell_type": "code",
   "execution_count": null,
   "id": "ae09bf21",
   "metadata": {},
   "outputs": [],
   "source": [
    "# define set of genes to annotate\n",
    "genes_oi = {\n",
    "    \"COL6A6 FNDC1 Fibroblasts\": list(lin_drivers_dict['COL6A6 FNDC1 Fibroblasts'].index[:15]),\n",
    "    \"FGF14 THBS4 Fibroblasts\": list(lin_drivers_dict['FGF14 THBS4 Fibroblasts'].index[:15])\n",
    "}\n",
    "\n",
    "# make sure all of these exist in AnnData\n",
    "assert [\n",
    "    gene in adata.var_names for genes in genes_oi.values() for gene in genes\n",
    "], \"Did not find all genes\"\n",
    "\n",
    "# compute mean gene expression across all cells\n",
    "adata.var[\"mean expression\"] = adata.X.A.mean(axis=0)\n",
    "\n",
    "# visualize in a scatter plot\n",
    "g2.plot_lineage_drivers_correlation(\n",
    "    lineage_x=\"COL6A6 FNDC1 Fibroblasts\",\n",
    "    lineage_y=\"FGF14 THBS4 Fibroblasts\",\n",
    "    adjust_text=True,\n",
    "    gene_sets=genes_oi,\n",
    "    color=\"mean expression\",\n",
    "    legend_loc=\"none\",\n",
    "    figsize=(5, 5),\n",
    "    dpi=150,\n",
    "    fontsize=9,\n",
    "    size=50,\n",
    "    save='COL6_vs_FGF14.svg'\n",
    ")"
   ]
  },
  {
   "cell_type": "code",
   "execution_count": null,
   "id": "7841d088",
   "metadata": {},
   "outputs": [],
   "source": [
    "pk_bk = PseudotimeKernel(adata, time_key=\"palantir_pseudotime\", backward=True).compute_transition_matrix()\n",
    "g_bk2 = GPCCA(pk_bk)\n",
    "g_bk2.compute_schur(n_components=20)\n",
    "g_bk2.plot_spectrum(real_only=True, show_eigengap=True)"
   ]
  },
  {
   "cell_type": "code",
   "execution_count": null,
   "id": "0165aab8",
   "metadata": {},
   "outputs": [],
   "source": [
    "g_bk2.compute_macrostates(n_states=1, cluster_key=\"C_scANVI\")\n",
    "g_bk2.plot_macrostates(legend_fontsize=9, basis='umap', discrete=True,\n",
    "                   save='allages_tendonfibro_macrostates_initial2.svg',\n",
    "                   figsize=(5,4))"
   ]
  },
  {
   "cell_type": "code",
   "execution_count": null,
   "id": "d9d346ff",
   "metadata": {},
   "outputs": [],
   "source": [
    "g_bk2.plot_macrostates(same_plot=False, legend_fontsize=9, basis='umap',\n",
    "                   save='allages_tendonfibro_macrostates_initial_discrete2.svg',\n",
    "                   figsize=(5,4))"
   ]
  },
  {
   "cell_type": "code",
   "execution_count": null,
   "id": "56739600",
   "metadata": {},
   "outputs": [],
   "source": [
    "g_bk2.compute_terminal_states()\n",
    "g_bk2.compute_absorption_probabilities()\n",
    "adata.obs['initial_states'].value_counts()"
   ]
  },
  {
   "cell_type": "code",
   "execution_count": null,
   "id": "443a1f99",
   "metadata": {},
   "outputs": [],
   "source": [
    "scv.tl.recover_latent_time(\n",
    "    adata, root_key=\"initial_states_probabilities\", end_key=\"terminal_states_probabilities\"\n",
    ")\n",
    "scv.tl.paga(\n",
    "    adata,\n",
    "    groups=\"C_scANVI\",\n",
    "    threshold_root_end_prior=0.9,\n",
    "    root_key=\"initial_states_probabilities\",\n",
    "    end_key=\"terminal_states_probabilities\",\n",
    "    use_time_prior=\"palantir_pseudotime\",\n",
    ")"
   ]
  },
  {
   "cell_type": "code",
   "execution_count": null,
   "id": "1349fb56",
   "metadata": {},
   "outputs": [],
   "source": [
    "cr.pl.cluster_fates(\n",
    "    adata,\n",
    "    mode=\"bar\",\n",
    "    cluster_key=\"C_scANVI\",\n",
    "    backward=False,\n",
    "    ncols=5,\n",
    "    figsize=(15,3),\n",
    "    save='allages_tendonfibro_palantirpseudotime_directedPAGA_bar2.svg',\n",
    ")"
   ]
  },
  {
   "cell_type": "code",
   "execution_count": null,
   "id": "82d44ab2",
   "metadata": {},
   "outputs": [],
   "source": [
    "cr.pl.cluster_fates(\n",
    "    adata,\n",
    "    mode=\"paga_pie\",\n",
    "    cluster_key=\"C_scANVI\",\n",
    "    backward=False,\n",
    "    basis=\"umap\",\n",
    "    legend_kwargs={\"loc\": \"top right out\"},\n",
    "    legend_loc=\"top left out\",\n",
    "    node_size_scale=7,\n",
    "    edge_width_scale=10,\n",
    "    max_edge_width=10,\n",
    "    figsize=(7,7),\n",
    "    title=\"directed PAGA\",\n",
    "    save='allages_tendonfibro_palantir_pseudotime_directedPAGA_umap2.svg',\n",
    ")"
   ]
  },
  {
   "cell_type": "code",
   "execution_count": null,
   "id": "9bcb0648",
   "metadata": {},
   "outputs": [],
   "source": [
    "cr.pl.cluster_fates(\n",
    "    adata,\n",
    "    mode=\"paga_pie\",\n",
    "    cluster_key=\"C_scANVI\",\n",
    "    backward=False,\n",
    "    basis=\"draw_graph_fa\",\n",
    "    legend_kwargs={\"loc\": \"top right out\"},\n",
    "    legend_loc=\"top left out\",\n",
    "    node_size_scale=7,\n",
    "    edge_width_scale=10,\n",
    "    max_edge_width=10,\n",
    "    figsize=(7,7),\n",
    "    title=\"directed PAGA\",\n",
    "    save='allages_tendonfibro_palantir_pseudotime_directedPAGA_fa2.svg',\n",
    ")"
   ]
  },
  {
   "cell_type": "code",
   "execution_count": null,
   "id": "80d4133a",
   "metadata": {},
   "outputs": [],
   "source": [
    "#scv.tl.recover_latent_time(\n",
    "#    adata, root_key=\"initial_states_probabilities\", end_key=\"terminal_states_probabilities\"\n",
    "#)\n",
    "scv.tl.paga(\n",
    "    adata,\n",
    "    groups=\"fibro_louvain02\",\n",
    "    threshold_root_end_prior=0.9,\n",
    "    root_key=\"initial_states_probabilities\",\n",
    "    end_key=\"terminal_states_probabilities\",\n",
    "    use_time_prior=\"palantir_pseudotime\",\n",
    ")"
   ]
  },
  {
   "cell_type": "code",
   "execution_count": null,
   "id": "ad8bf094",
   "metadata": {},
   "outputs": [],
   "source": [
    "cr.pl.cluster_fates(\n",
    "    adata,\n",
    "    mode=\"bar\",\n",
    "    cluster_key=\"fibro_louvain02\",\n",
    "    backward=False,\n",
    "    ncols=5,\n",
    "    figsize=(15,3),\n",
    "    #save='allages_tendonfibro_velocitypseudotime_directedPAGA_bar.svg',\n",
    ")"
   ]
  },
  {
   "cell_type": "code",
   "execution_count": null,
   "id": "6c1744d7",
   "metadata": {},
   "outputs": [],
   "source": [
    "cr.pl.cluster_fates(\n",
    "    adata,\n",
    "    mode=\"paga_pie\",\n",
    "    cluster_key=\"fibro_louvain02\",\n",
    "    backward=False,\n",
    "    basis=\"umap\",\n",
    "    legend_kwargs={\"loc\": \"top right out\"},\n",
    "    legend_loc=\"top left out\",\n",
    "    node_size_scale=7,\n",
    "    edge_width_scale=10,\n",
    "    max_edge_width=10,\n",
    "    figsize=(7,7),\n",
    "    title=\"directed PAGA\",\n",
    "    #save='allages_tendonfibro_palantir_pseudotime_directedPAGA_umap2.svg',\n",
    ")"
   ]
  },
  {
   "cell_type": "code",
   "execution_count": null,
   "id": "74498678",
   "metadata": {},
   "outputs": [],
   "source": [
    "scv.tl.paga(\n",
    "    adata,\n",
    "    groups=\"C_scANVI\",\n",
    "    threshold_root_end_prior=0.9,\n",
    "    root_key=\"initial_states_probabilities\",\n",
    "    end_key=\"terminal_states_probabilities\",\n",
    "    use_time_prior=\"velocity_pseudotime\",\n",
    ")\n",
    "\n",
    "cr.pl.cluster_fates(\n",
    "    adata,\n",
    "    mode=\"bar\",\n",
    "    cluster_key=\"C_scANVI\",\n",
    "    backward=False,\n",
    "    ncols=5,\n",
    "    figsize=(15,3),\n",
    "    save='allages_tendonfibro_velocitypseudotime_directedPAGA_bar.svg',\n",
    ")"
   ]
  },
  {
   "cell_type": "code",
   "execution_count": null,
   "id": "37a80bf5",
   "metadata": {},
   "outputs": [],
   "source": [
    "cr.pl.cluster_fates(\n",
    "    adata,\n",
    "    mode=\"paga_pie\",\n",
    "    cluster_key=\"C_scANVI\",\n",
    "    backward=False,\n",
    "    basis=\"umap\",\n",
    "    legend_kwargs={\"loc\": \"top right out\"},\n",
    "    legend_loc=\"top left out\",\n",
    "    node_size_scale=7,\n",
    "    edge_width_scale=10,\n",
    "    max_edge_width=10,\n",
    "    figsize=(7,7),\n",
    "    title=\"directed PAGA\",\n",
    "    save='allages_tendonfibro_velocitypseudotime_directedPAGA_umap.svg',\n",
    ")"
   ]
  },
  {
   "cell_type": "code",
   "execution_count": null,
   "id": "810dc560",
   "metadata": {},
   "outputs": [],
   "source": [
    "scv.tl.paga(\n",
    "    adata,\n",
    "    groups=\"fibro_louvain02\",\n",
    "    threshold_root_end_prior=0.9,\n",
    "    root_key=\"initial_states_probabilities\",\n",
    "    end_key=\"terminal_states_probabilities\",\n",
    "    use_time_prior=\"velocity_pseudotime\",\n",
    ")"
   ]
  },
  {
   "cell_type": "code",
   "execution_count": null,
   "id": "279dbd2c",
   "metadata": {},
   "outputs": [],
   "source": [
    "cr.pl.cluster_fates(\n",
    "    adata,\n",
    "    mode=\"bar\",\n",
    "    cluster_key=\"fibro_louvain02\",\n",
    "    backward=False,\n",
    "    ncols=5,\n",
    "    figsize=(15,15),\n",
    "    #save='allages_tendonfibro_velocitypseudotime_directedPAGA_bar.svg',\n",
    ")"
   ]
  },
  {
   "cell_type": "code",
   "execution_count": null,
   "id": "2cd05bbb",
   "metadata": {},
   "outputs": [],
   "source": [
    "cr.pl.cluster_fates(\n",
    "    adata,\n",
    "    mode=\"paga_pie\",\n",
    "    cluster_key=\"fibro_louvain02\",\n",
    "    backward=False,\n",
    "    basis=\"umap\",\n",
    "    legend_kwargs={\"loc\": \"top right out\"},\n",
    "    legend_loc=\"top left out\",\n",
    "    node_size_scale=7,\n",
    "    edge_width_scale=10,\n",
    "    max_edge_width=10,\n",
    "    figsize=(7,7),\n",
    "    title=\"directed PAGA\",\n",
    "    #save='allages_tendonfibro_velocitypseudotime_directedPAGA_umap.svg',\n",
    ")"
   ]
  },
  {
   "cell_type": "code",
   "execution_count": null,
   "id": "50968659",
   "metadata": {
    "scrolled": false
   },
   "outputs": [],
   "source": [
    "import warnings\n",
    "warnings.filterwarnings(\"ignore\")\n",
    "\n",
    "model = cr.models.GAM(adata, n_knots=6)\n",
    "cr.pl.gene_trends(\n",
    "    adata,\n",
    "    model=model,\n",
    "    data_key=\"MAGIC_imputed_data\",\n",
    "    genes=[\"MKX\", \"TNMD\", \"FMOD\", \"COL1A1\", \"COL3A1\", \"KERA\"],\n",
    "    same_plot=True,\n",
    "    ncols=2,\n",
    "    time_key=\"palantir_pseudotime\",\n",
    "    hide_cells=True,\n",
    "    weight_threshold=(1e-3, 1e-3),\n",
    "    save='allages_tendonfibro_palantir_pseudotime_genetrendstenocyte.svg',\n",
    ")"
   ]
  },
  {
   "cell_type": "code",
   "execution_count": null,
   "id": "74cbdb73",
   "metadata": {
    "scrolled": false
   },
   "outputs": [],
   "source": [
    "lin_drivers_dict={}\n",
    "for i in g2.terminal_states.cat.categories:\n",
    "    lin_drivers_dict[i] = g2.compute_lineage_drivers(lineages=i,return_drivers=True)\n",
    "\n",
    "for i in g2.terminal_states.cat.categories:\n",
    "    # plot heatmap\n",
    "    cr.pl.heatmap(\n",
    "        adata,\n",
    "        model=model,  # use the model from before\n",
    "        lineages=i,\n",
    "        cluster_key=\"C_scANVI\",\n",
    "        data_key=\"MAGIC_imputed_data\",\n",
    "        genes=lin_drivers_dict[i].head(40).index,\n",
    "        time_key=\"palantir_pseudotime\",\n",
    "        figsize=(12, 10),\n",
    "        show_all_genes=True,\n",
    "        weight_threshold=(1e-3, 1e-3),\n",
    "        save=f'{i}_lineage_heatmap.svg'\n",
    "    )"
   ]
  },
  {
   "cell_type": "markdown",
   "id": "576b614d",
   "metadata": {},
   "source": [
    "### Estimating (Velocity + Connectivities Kernel)"
   ]
  },
  {
   "cell_type": "code",
   "execution_count": null,
   "id": "3c00412f",
   "metadata": {},
   "outputs": [],
   "source": [
    "g = GPCCA(combined_kernel)\n",
    "g.compute_schur(n_components=20)\n",
    "g.plot_spectrum(real_only=True, show_eigengap=True)"
   ]
  },
  {
   "cell_type": "markdown",
   "id": "8a686c03",
   "metadata": {},
   "source": [
    "Given that the eigengap is at component 2 and components 0, 1, and 2 have relatively high Re values, I specify three macrostates. This choice captures the clear separation of the first two macrostates and allows for a third state to capture finer-scale transitions.ABI3BP GAS2 Fibroblasts 1 and COL3A1 PI16 Fibroblasts are the two dominant macrostates."
   ]
  },
  {
   "cell_type": "code",
   "execution_count": null,
   "id": "d72a2810",
   "metadata": {},
   "outputs": [],
   "source": [
    "g.compute_macrostates(n_states=6, cluster_key=\"C_scANVI\")\n",
    "g.plot_macrostates(discrete=True,\n",
    "                   legend_fontsize=9, \n",
    "                   basis='umap', s=100,\n",
    "                   #save='20w_macrostates_discrete.svg',\n",
    "                   figsize=(5,4))"
   ]
  },
  {
   "cell_type": "code",
   "execution_count": null,
   "id": "80f7f3c5",
   "metadata": {},
   "outputs": [],
   "source": [
    "g.plot_macrostates(discrete=True,\n",
    "                   legend_fontsize=9, \n",
    "                   basis='umap', s=100,\n",
    "                   #save='allages_tendonfibro_macrostates_velocity_umap.svg',\n",
    "                   figsize=(5,4))"
   ]
  },
  {
   "cell_type": "code",
   "execution_count": null,
   "id": "8bf28820",
   "metadata": {},
   "outputs": [],
   "source": [
    "g.plot_macrostates(same_plot=False, basis='umap',\n",
    "                   #save='allages_tendonfibro_macrostates_separated_velocity_umap.svg',\n",
    "                  )"
   ]
  },
  {
   "cell_type": "code",
   "execution_count": null,
   "id": "b1d9e8f2",
   "metadata": {},
   "outputs": [],
   "source": [
    "#g.predict()"
   ]
  },
  {
   "cell_type": "code",
   "execution_count": null,
   "id": "0bdf89f6",
   "metadata": {},
   "outputs": [],
   "source": [
    "g.compute_terminal_states()\n",
    "#g.set_terminal_states_from_macrostates(['COL3A1 PI16 Fibroblasts_1', 'ABI3BP GAS2 Fibroblasts 1_2'])\n",
    "adata.obs['terminal_states'].value_counts()"
   ]
  },
  {
   "cell_type": "code",
   "execution_count": null,
   "id": "dc6e6464",
   "metadata": {},
   "outputs": [],
   "source": [
    "g.compute_absorption_probabilities()\n",
    "cr.pl.circular_projection(adata, keys=['phase', 'C_scANVI'],\n",
    "                          legend_loc=\"right\", s=100, \n",
    "                          #save='20w_circular_projection.svg',\n",
    "                          figsize=(25,25))"
   ]
  },
  {
   "cell_type": "code",
   "execution_count": null,
   "id": "d620daff",
   "metadata": {},
   "outputs": [],
   "source": [
    "cr.pl.circular_projection(adata, keys=['age', 'C_scANVI'],\n",
    "                          legend_loc=\"right\", s=100, \n",
    "                          #save='20w_circular_projection.svg',\n",
    "                          figsize=(25,25))"
   ]
  },
  {
   "cell_type": "markdown",
   "id": "8d92cd8c",
   "metadata": {},
   "source": [
    "### Computing lineage drivers\n",
    "We can compute the driver genes for all or just a subset of lineages. We can also restrict this to some subset of clusters by specifying clusters=... (not shown below). In the resulting dataframe, we also see the p-value, the corrected p-value (q-value) and the 95% confidence interval for the correlation statistic."
   ]
  },
  {
   "cell_type": "code",
   "execution_count": null,
   "id": "e39a2171",
   "metadata": {},
   "outputs": [],
   "source": [
    "lin_drivers = g.compute_lineage_drivers()"
   ]
  },
  {
   "cell_type": "code",
   "execution_count": null,
   "id": "d6f81b26",
   "metadata": {},
   "outputs": [],
   "source": [
    "lineages = list(adata.obs['terminal_states'].cat.categories)\n",
    "for i in lineages:\n",
    "    g.plot_lineage_drivers(i, n_genes=8, basis='umap',\n",
    "                   cmap='magma', save=f'allages_fibro_velocitylind_{i}.svg'\n",
    "                   )"
   ]
  },
  {
   "cell_type": "code",
   "execution_count": null,
   "id": "300f1f90",
   "metadata": {},
   "outputs": [],
   "source": [
    "# define set of genes to annotate\n",
    "genes_oi = {\n",
    "    \"ABI3BP GAS2 Fibroblasts 1\": list(lin_drivers_abi3.index[:15]),\n",
    "    \"FGF14 THBS4 Fibroblasts\": list(lin_drivers_fgf14.index[:15])\n",
    "}\n",
    "\n",
    "# make sure all of these exist in AnnData\n",
    "assert [\n",
    "    gene in adata.var_names for genes in genes_oi.values() for gene in genes\n",
    "], \"Did not find all genes\"\n",
    "\n",
    "# compute mean gene expression across all cells\n",
    "adata.var[\"mean expression\"] = adata.X.A.mean(axis=0)\n",
    "\n",
    "# visualize in a scatter plot\n",
    "g.plot_lineage_drivers_correlation(\n",
    "    lineage_x=\"FGF14 THBS4 Fibroblasts\",\n",
    "    lineage_y=\"ABI3BP GAS2 Fibroblasts 1\",\n",
    "    adjust_text=True,\n",
    "    gene_sets=genes_oi,\n",
    "    color=\"mean expression\",\n",
    "    legend_loc=\"none\",\n",
    "    figsize=(5, 5),\n",
    "    dpi=150,\n",
    "    fontsize=9,\n",
    "    size=50,\n",
    ")"
   ]
  },
  {
   "cell_type": "code",
   "execution_count": null,
   "id": "9d0c5b5f",
   "metadata": {},
   "outputs": [],
   "source": [
    "# define set of genes to annotate\n",
    "genes_oi = {\n",
    "    \"ABI3BP GAS2 Fibroblasts 1\": list(lin_drivers_abi3.index[:15]),\n",
    "    \"COL3A1 PI16 Fibroblasts\": list(lin_drivers_col3.index[:15])\n",
    "}\n",
    "\n",
    "# make sure all of these exist in AnnData\n",
    "assert [\n",
    "    gene in adata.var_names for genes in genes_oi.values() for gene in genes\n",
    "], \"Did not find all genes\"\n",
    "\n",
    "# compute mean gene expression across all cells\n",
    "adata.var[\"mean expression\"] = adata.X.A.mean(axis=0)\n",
    "\n",
    "# visualize in a scatter plot\n",
    "g.plot_lineage_drivers_correlation(\n",
    "    lineage_x=\"ABI3BP GAS2 Fibroblasts 1\",\n",
    "    lineage_y=\"COL3A1 PI16 Fibroblasts\",\n",
    "    adjust_text=True,\n",
    "    gene_sets=genes_oi,\n",
    "    color=\"mean expression\",\n",
    "    legend_loc=\"none\",\n",
    "    figsize=(5, 5),\n",
    "    dpi=150,\n",
    "    fontsize=9,\n",
    "    size=50,\n",
    ")"
   ]
  },
  {
   "cell_type": "code",
   "execution_count": null,
   "id": "6066c6bf",
   "metadata": {},
   "outputs": [],
   "source": [
    "# define set of genes to annotate\n",
    "genes_oi = {\n",
    "    \"COL3A1 PI16 Fibroblasts\": list(lin_drivers_col3.index[:15]),\n",
    "    \"FGF14 THBS4 Fibroblasts\": list(lin_drivers_fgf14.index[:15])\n",
    "}\n",
    "\n",
    "# make sure all of these exist in AnnData\n",
    "assert [\n",
    "    gene in adata.var_names for genes in genes_oi.values() for gene in genes\n",
    "], \"Did not find all genes\"\n",
    "\n",
    "# compute mean gene expression across all cells\n",
    "adata.var[\"mean expression\"] = adata.X.A.mean(axis=0)\n",
    "\n",
    "# visualize in a scatter plot\n",
    "g.plot_lineage_drivers_correlation(\n",
    "    lineage_x=\"FGF14 THBS4 Fibroblasts\",\n",
    "    lineage_y=\"COL3A1 PI16 Fibroblasts\",\n",
    "    adjust_text=True,\n",
    "    gene_sets=genes_oi,\n",
    "    color=\"mean expression\",\n",
    "    legend_loc=\"none\",\n",
    "    figsize=(5, 5),\n",
    "    dpi=150,\n",
    "    fontsize=9,\n",
    "    size=50,\n",
    ")"
   ]
  },
  {
   "cell_type": "markdown",
   "id": "9f32329c",
   "metadata": {},
   "source": [
    "### Identifying Initial States"
   ]
  },
  {
   "cell_type": "code",
   "execution_count": null,
   "id": "9e431837",
   "metadata": {},
   "outputs": [],
   "source": [
    "vk_bk = VelocityKernel(adata, backward=True).compute_transition_matrix()\n",
    "ck_bk = ConnectivityKernel(adata, backward=True).compute_transition_matrix()\n",
    "combined_kernel = 0.8 * vk_bk + 0.2 * ck_bk\n",
    "print(combined_kernel)"
   ]
  },
  {
   "cell_type": "code",
   "execution_count": null,
   "id": "79dd3d4c",
   "metadata": {},
   "outputs": [],
   "source": [
    "g_bk = GPCCA(combined_kernel)\n",
    "g_bk.compute_schur(n_components=20)\n",
    "g_bk.plot_spectrum(real_only=True, show_eigengap=True)"
   ]
  },
  {
   "cell_type": "code",
   "execution_count": null,
   "id": "8dffec76",
   "metadata": {},
   "outputs": [],
   "source": [
    "g_bk.compute_macrostates(n_states=1, cluster_key=\"C_scANVI\")\n",
    "g_bk.plot_macrostates(legend_fontsize=9, basis='umap',\n",
    "                   #save='20w_macrostates_initial.svg',\n",
    "                   figsize=(5,4))"
   ]
  },
  {
   "cell_type": "code",
   "execution_count": null,
   "id": "61345077",
   "metadata": {},
   "outputs": [],
   "source": [
    "g_bk.plot_macrostates(legend_fontsize=9, discrete=True, basis='umap',\n",
    "                   #save='20w_macrostates_initialdiscrete.svg', s=100,\n",
    "                   figsize=(5,4))"
   ]
  },
  {
   "cell_type": "code",
   "execution_count": null,
   "id": "3c747009",
   "metadata": {},
   "outputs": [],
   "source": [
    "g_bk.compute_terminal_states()\n",
    "g_bk.compute_absorption_probabilities()\n",
    "adata.obs['initial_states'].value_counts()"
   ]
  },
  {
   "cell_type": "code",
   "execution_count": null,
   "id": "4fc32462",
   "metadata": {},
   "outputs": [],
   "source": [
    "# compute a score in scanpy by aggregating across a few ductal markers\n",
    "sc.tl.score_genes(\n",
    "    adata, gene_list=[\"SCX\", \"MKX\", \"TNMD\", \"FMOD\", \"COL1A1\"], score_name=\"tenocyte_score\"\n",
    ")\n",
    "\n",
    "# write macrostates to AnnData\n",
    "adata.obs[\"macrostates\"] = g.macrostates\n",
    "adata.uns[\"macrostates_colors\"] = g.macrostates_memberships.colors\n",
    "\n",
    "# visualize via heatmaps\n",
    "sc.pl.violin(adata, keys=\"tenocyte_score\", groupby=\"macrostates\", rotation=90)"
   ]
  },
  {
   "cell_type": "code",
   "execution_count": null,
   "id": "bef8bb90",
   "metadata": {},
   "outputs": [],
   "source": [
    "# compute a score in scanpy by aggregating across a few ductal markers\n",
    "sc.tl.score_genes(\n",
    "    adata, gene_list=[\"COL3A1\", \"LUM\"], score_name=\"col3lum_score\"\n",
    ")\n",
    "\n",
    "# write macrostates to AnnData\n",
    "adata.obs[\"macrostates\"] = g.macrostates\n",
    "adata.uns[\"macrostates_colors\"] = g.macrostates_memberships.colors\n",
    "\n",
    "# visualize via heatmaps\n",
    "sc.pl.violin(adata, keys=\"col3lum_score\", groupby=\"macrostates\", rotation=90)"
   ]
  },
  {
   "cell_type": "markdown",
   "id": "c9582d07",
   "metadata": {},
   "source": [
    "# PAGA"
   ]
  },
  {
   "cell_type": "code",
   "execution_count": null,
   "id": "f7a49c7d",
   "metadata": {},
   "outputs": [],
   "source": [
    "scv.tl.recover_latent_time(\n",
    "    adata, root_key=\"initial_states_probabilities\", end_key=\"terminal_states_probabilities\"\n",
    ")\n",
    "\n",
    "scv.tl.paga(\n",
    "    adata,\n",
    "    groups=\"C_scANVI\",\n",
    "    threshold_root_end_prior=0.9,\n",
    "    root_key=\"initial_states_probabilities\",\n",
    "    end_key=\"terminal_states_probabilities\",\n",
    "    use_time_prior=\"velocity_pseudotime\",\n",
    ")"
   ]
  },
  {
   "cell_type": "code",
   "execution_count": null,
   "id": "4b92d264",
   "metadata": {},
   "outputs": [],
   "source": [
    "cr.pl.cluster_fates(\n",
    "    adata,\n",
    "    mode=\"bar\",\n",
    "    cluster_key=\"C_scANVI\",\n",
    "    backward=False,\n",
    "    ncols=5,\n",
    "    figsize=(15,3),\n",
    "    #save='20w_directedPAGA_bar.svg',\n",
    ")"
   ]
  },
  {
   "cell_type": "code",
   "execution_count": null,
   "id": "84f73dcc",
   "metadata": {},
   "outputs": [],
   "source": [
    "cr.pl.cluster_fates(\n",
    "    adata,\n",
    "    mode=\"paga_pie\",\n",
    "    cluster_key=\"C_scANVI\",\n",
    "    backward=False,\n",
    "    basis=\"umap\",\n",
    "    legend_kwargs={\"loc\": \"top right out\"},\n",
    "    legend_loc=\"top left out\",\n",
    "    node_size_scale=7,\n",
    "    edge_width_scale=2,\n",
    "    max_edge_width=3,\n",
    "    figsize=(7,7),\n",
    "    title=\"directed PAGA\",\n",
    "    #save='20w_directedPAGA_umap.svg',\n",
    ")"
   ]
  },
  {
   "cell_type": "markdown",
   "id": "b712bc91",
   "metadata": {},
   "source": [
    "We use pie charts to show cell fates averaged per cluster. Edges between clusters are given by transcriptomic similarity between the clusters, just as in normal PAGA."
   ]
  },
  {
   "cell_type": "code",
   "execution_count": null,
   "id": "4c04dff4",
   "metadata": {},
   "outputs": [],
   "source": [
    "model = cr.models.GAM(adata, n_knots=6)"
   ]
  },
  {
   "cell_type": "code",
   "execution_count": null,
   "id": "2e1c6d37",
   "metadata": {
    "scrolled": true
   },
   "outputs": [],
   "source": [
    "model = cr.models.GAM(adata, n_knots=6)\n",
    "cr.pl.gene_trends(\n",
    "    adata,\n",
    "    model=model,\n",
    "    data_key=\"X\",\n",
    "    genes=[\"SCX\", \"MKX\", \"COL1A1\", \"COL3A1\", \"FMOD\", \"KERA\", \"LUM\"],\n",
    "    same_plot=True,\n",
    "    ncols=2,\n",
    "    time_key=\"dpt_pseudotime\",\n",
    "    hide_cells=True,\n",
    "    weight_threshold=(1e-3, 1e-3),\n",
    ")"
   ]
  },
  {
   "cell_type": "code",
   "execution_count": null,
   "id": "2f3b605a",
   "metadata": {
    "scrolled": true
   },
   "outputs": [],
   "source": [
    "# plot heatmap\n",
    "cr.pl.heatmap(\n",
    "    adata,\n",
    "    model=model,  # use the model from before\n",
    "    lineages=\"COL3A1 PI16 Fibroblasts\",\n",
    "    cluster_key=\"C_scANVI\",\n",
    "    data_key=\"X\",\n",
    "    genes=lin_drivers_col3.head(40).index,\n",
    "    time_key=\"velocity_pseudotime\",\n",
    "    figsize=(12, 10),\n",
    "    show_all_genes=True,\n",
    "    weight_threshold=(1e-3, 1e-3),\n",
    ")"
   ]
  },
  {
   "cell_type": "code",
   "execution_count": null,
   "id": "7cb6a862",
   "metadata": {
    "scrolled": true
   },
   "outputs": [],
   "source": [
    "cr.pl.heatmap(\n",
    "    adata,\n",
    "    model=model,  # use the model from before\n",
    "    lineages=\"FGF14 THBS4 Fibroblasts\",\n",
    "    cluster_key=\"C_scANVI\",\n",
    "    data_key=\"X\",\n",
    "    genes=lin_drivers_fgf14.head(40).index,\n",
    "    time_key=\"velocity_pseudotime\",\n",
    "    figsize=(12, 10),\n",
    "    show_all_genes=True,\n",
    "    weight_threshold=(1e-3, 1e-3),\n",
    ")"
   ]
  },
  {
   "cell_type": "code",
   "execution_count": null,
   "id": "eb7631eb",
   "metadata": {},
   "outputs": [],
   "source": [
    "cr.pl.heatmap(\n",
    "    adata,\n",
    "    model=model,  # use the model from before\n",
    "    lineages=\"ABI3BP GAS2 Fibroblasts 1\",\n",
    "    cluster_key=\"C_scANVI\",\n",
    "    data_key=\"X\",\n",
    "    genes=lin_drivers_abi3.head(40).index,\n",
    "    time_key=\"velocity_pseudotime\",\n",
    "    figsize=(12, 10),\n",
    "    show_all_genes=True,\n",
    "    weight_threshold=(1e-3, 1e-3),\n",
    ")"
   ]
  },
  {
   "cell_type": "markdown",
   "id": "d0cf1b6c",
   "metadata": {},
   "source": [
    "# SCFATES"
   ]
  },
  {
   "cell_type": "code",
   "execution_count": null,
   "id": "61406a3b",
   "metadata": {},
   "outputs": [],
   "source": [
    "import scFates as scf\n",
    "\n",
    "scf.tl.tree(adata,method=\"ppt\",Nodes=200,use_rep=\"msdiff\",\n",
    "            device=\"cpu\",seed=1,ppt_lambda=100,ppt_sigma=0.025,ppt_nsteps=200)"
   ]
  },
  {
   "cell_type": "code",
   "execution_count": null,
   "id": "f0eb1bf8",
   "metadata": {},
   "outputs": [],
   "source": [
    "scf.pl.graph(adata, basis='umap')"
   ]
  },
  {
   "cell_type": "code",
   "execution_count": null,
   "id": "79f68fed",
   "metadata": {},
   "outputs": [],
   "source": [
    "scf.tl.root(adata,89)"
   ]
  },
  {
   "cell_type": "code",
   "execution_count": null,
   "id": "18ba203f",
   "metadata": {},
   "outputs": [],
   "source": [
    "scf.tl.pseudotime(adata,n_jobs=10,n_map=1000,seed=42)"
   ]
  }
 ],
 "metadata": {
  "kernelspec": {
   "display_name": "Python [conda env:pyscenic_env] *",
   "language": "python",
   "name": "conda-env-pyscenic_env-py"
  },
  "language_info": {
   "codemirror_mode": {
    "name": "ipython",
    "version": 3
   },
   "file_extension": ".py",
   "mimetype": "text/x-python",
   "name": "python",
   "nbconvert_exporter": "python",
   "pygments_lexer": "ipython3",
   "version": "3.7.12"
  }
 },
 "nbformat": 4,
 "nbformat_minor": 5
}
