{
 "cells": [
  {
   "cell_type": "code",
   "execution_count": null,
   "id": "e4d8d4d8",
   "metadata": {},
   "outputs": [],
   "source": [
    "# Import dependencies\n",
    "import os\n",
    "import anndata as ad\n",
    "import numpy as np\n",
    "import pandas as pd\n",
    "import scanpy as sc\n",
    "import scvelo as scv\n",
    "\n",
    "# Print date and time:\n",
    "import datetime\n",
    "e = datetime.datetime.now()\n",
    "print (\"Current date and time = %s\" % e)\n",
    "\n",
    "# set a working directory\n",
    "wdir = \"/mnt/da8aa2c4-0136-465b-87a2-d12a59afec55/akurjan/analysis/files/CellRanger/\"\n",
    "os.chdir( wdir )\n",
    "\n",
    "# folder structures\n",
    "RESULTS_FOLDERNAME = \"/mnt/da8aa2c4-0136-465b-87a2-d12a59afec55/akurjan/analysis/notebooks/foetal/results/QC\"\n",
    "\n",
    "if not os.path.exists(RESULTS_FOLDERNAME):\n",
    "    os.makedirs(RESULTS_FOLDERNAME)"
   ]
  },
  {
   "cell_type": "markdown",
   "id": "fcc552cd",
   "metadata": {},
   "source": [
    "Example cellbender remove-background commands used (run in bash .sh files on the CCB cluster):"
   ]
  },
  {
   "cell_type": "code",
   "execution_count": null,
   "id": "22722e7c",
   "metadata": {},
   "outputs": [],
   "source": [
    "cellbender remove-background \n",
    "--input CellRanger_DEV16136_Ach_Jan2023/outs/raw_feature_bc_matrix.h5 \n",
    "--output CellRanger_DEV16136_Ach_Jan2023/cellbenderout.h5 \n",
    "--expected-cells 800 \n",
    "--total-droplets-included 15000 \n",
    "--fpr 0.01 \n",
    "--epochs 150 \n",
    "--cuda \n",
    "--low-count-threshold 5\n",
    "\n",
    "cellbender remove-background \n",
    "--input CellRanger_DEV16127_Ach_Jan2023/outs/raw_feature_bc_matrix.h5 \n",
    "--output CellRanger_DEV16127_Ach_Jan2023/cellbenderout.h5 \n",
    "--expected-cells 8000 \n",
    "--total-droplets-included 20000 \n",
    "--fpr 0.01 \n",
    "--epochs 150 \n",
    "--cuda"
   ]
  },
  {
   "cell_type": "code",
   "execution_count": null,
   "id": "11f5634e",
   "metadata": {},
   "outputs": [],
   "source": [
    "import tables\n",
    "import scipy.sparse as sp\n",
    "import anndata\n",
    "from typing import Dict, Optional\n",
    "\n",
    "\n",
    "def anndata_from_h5(file: str,\n",
    "                    analyzed_barcodes_only: bool = True) -> 'anndata.AnnData':\n",
    "    \"\"\"Load an output h5 file into an AnnData object for downstream work.\n",
    "\n",
    "    Args:\n",
    "        file: The h5 file\n",
    "        analyzed_barcodes_only: False to load all barcodes, so that the size of\n",
    "            the AnnData object will match the size of the input raw count matrix.\n",
    "            True to load a limited set of barcodes: only those analyzed by the\n",
    "            algorithm. This allows relevant latent variables to be loaded\n",
    "            properly into adata.obs and adata.obsm, rather than adata.uns.\n",
    "\n",
    "    Returns:\n",
    "        adata: The anndata object, populated with inferred latent variables\n",
    "            and metadata.\n",
    "\n",
    "    \"\"\"\n",
    "\n",
    "    d = dict_from_h5(file)\n",
    "    X = sp.csc_matrix((d.pop('data'), d.pop('indices'), d.pop('indptr')),\n",
    "                      shape=d.pop('shape')).transpose().tocsr()\n",
    "\n",
    "    # check and see if we have barcode index annotations, and if the file is filtered\n",
    "    barcode_key = [k for k in d.keys() if (('barcode' in k) and ('ind' in k))]\n",
    "    if len(barcode_key) > 0:\n",
    "        max_barcode_ind = d[barcode_key[0]].max()\n",
    "        filtered_file = (max_barcode_ind >= X.shape[0])\n",
    "    else:\n",
    "        filtered_file = True\n",
    "\n",
    "    if analyzed_barcodes_only:\n",
    "        if filtered_file:\n",
    "            # filtered file being read, so we don't need to subset\n",
    "            print('Assuming we are loading a \"filtered\" file that contains only cells.')\n",
    "            pass\n",
    "        elif 'barcode_indices_for_latents' in d.keys():\n",
    "            X = X[d['barcode_indices_for_latents'], :]\n",
    "            d['barcodes'] = d['barcodes'][d['barcode_indices_for_latents']]\n",
    "        elif 'barcodes_analyzed_inds' in d.keys():\n",
    "            X = X[d['barcodes_analyzed_inds'], :]\n",
    "            d['barcodes'] = d['barcodes'][d['barcodes_analyzed_inds']]\n",
    "        else:\n",
    "            print('Warning: analyzed_barcodes_only=True, but the key '\n",
    "                  '\"barcodes_analyzed_inds\" or \"barcode_indices_for_latents\" '\n",
    "                  'is missing from the h5 file. '\n",
    "                  'Will output all barcodes, and proceed as if '\n",
    "                  'analyzed_barcodes_only=False')\n",
    "\n",
    "    # Construct the anndata object.\n",
    "    adata = anndata.AnnData(X=X,\n",
    "                            obs={'barcode': d.pop('barcodes').astype(str)},\n",
    "                            var={'gene_name': (d.pop('gene_names') if 'gene_names' in d.keys()\n",
    "                                               else d.pop('name')).astype(str)},\n",
    "                            dtype=X.dtype)\n",
    "    adata.obs.set_index('barcode', inplace=True)\n",
    "    adata.var.set_index('gene_name', inplace=True)\n",
    "\n",
    "    # For CellRanger v2 legacy format, \"gene_ids\" was called \"genes\"... rename this\n",
    "    if 'genes' in d.keys():\n",
    "        d['id'] = d.pop('genes')\n",
    "\n",
    "    # For purely aesthetic purposes, rename \"id\" to \"gene_id\"\n",
    "    if 'id' in d.keys():\n",
    "        d['gene_id'] = d.pop('id')\n",
    "\n",
    "    # If genomes are empty, try to guess them based on gene_id\n",
    "    if 'genome' in d.keys():\n",
    "        if np.array([s.decode() == '' for s in d['genome']]).all():\n",
    "            if '_' in d['gene_id'][0].decode():\n",
    "                print('Genome field blank, so attempting to guess genomes based on gene_id prefixes')\n",
    "                d['genome'] = np.array([s.decode().split('_')[0] for s in d['gene_id']], dtype=str)\n",
    "\n",
    "    # Add other information to the anndata object in the appropriate slot.\n",
    "    _fill_adata_slots_automatically(adata, d)\n",
    "\n",
    "    # Add a special additional field to .var if it exists.\n",
    "    if 'features_analyzed_inds' in adata.uns.keys():\n",
    "        adata.var['cellbender_analyzed'] = [True if (i in adata.uns['features_analyzed_inds'])\n",
    "                                            else False for i in range(adata.shape[1])]\n",
    "\n",
    "    if analyzed_barcodes_only:\n",
    "        for col in adata.obs.columns[adata.obs.columns.str.startswith('barcodes_analyzed')\n",
    "                                     | adata.obs.columns.str.startswith('barcode_indices')]:\n",
    "            try:\n",
    "                del adata.obs[col]\n",
    "            except Exception:\n",
    "                pass\n",
    "    else:\n",
    "        # Add a special additional field to .obs if all barcodes are included.\n",
    "        if 'barcodes_analyzed_inds' in adata.uns.keys():\n",
    "            adata.obs['cellbender_analyzed'] = [True if (i in adata.uns['barcodes_analyzed_inds'])\n",
    "                                                else False for i in range(adata.shape[0])]\n",
    "\n",
    "    return adata\n",
    "\n",
    "def dict_from_h5(file: str) -> Dict[str, np.ndarray]:\n",
    "    \"\"\"Read in everything from an h5 file and put into a dictionary.\"\"\"\n",
    "    d = {}\n",
    "    with tables.open_file(file) as f:\n",
    "        # read in everything\n",
    "        for array in f.walk_nodes(\"/\", \"Array\"):\n",
    "            d[array.name] = array.read()\n",
    "    return d\n",
    "\n",
    "\n",
    "def _fill_adata_slots_automatically(adata, d):\n",
    "    \"\"\"Add other information to the adata object in the appropriate slot.\"\"\"\n",
    "\n",
    "    for key, value in d.items():\n",
    "        try:\n",
    "            if value is None:\n",
    "                continue\n",
    "            value = np.asarray(value)\n",
    "            if len(value.shape) == 0:\n",
    "                adata.uns[key] = value\n",
    "            elif value.shape[0] == adata.shape[0]:\n",
    "                if (len(value.shape) < 2) or (value.shape[1] < 2):\n",
    "                    adata.obs[key] = value\n",
    "                else:\n",
    "                    adata.obsm[key] = value\n",
    "            elif value.shape[0] == adata.shape[1]:\n",
    "                if value.dtype.name.startswith('bytes'):\n",
    "                    adata.var[key] = value.astype(str)\n",
    "                else:\n",
    "                    adata.var[key] = value\n",
    "            else:\n",
    "                adata.uns[key] = value\n",
    "        except Exception:\n",
    "            print('Unable to load data into AnnData: ', key, value, type(value))"
   ]
  },
  {
   "cell_type": "code",
   "execution_count": null,
   "id": "2365ea98",
   "metadata": {},
   "outputs": [],
   "source": [
    "sample_names = ['CellRanger_DEV15983_Ach_Sep2022', 'CellRanger_DEV15984_Ach_Sep2022',\n",
    "                'CellRanger_DEV15984_Quad_Sep2022', 'CellRanger_DEV15985_Ach_Sep2022',\n",
    "                'CellRanger_DEV15985_Quad_Sep2022', 'CellRanger_DEV16127_Ach_Jan2023',\n",
    "                'CellRanger_DEV16127_Quad_Jan2023', 'CellRanger_DEV16134_Ach_Jan2023',\n",
    "                'CellRanger_DEV16134_Quad_Jan2023', 'CellRanger_DEV16135DEV16171_Ach_Jan2023',\n",
    "                'CellRanger_DEV16135DEV16171_Quad_Jan2023', 'CellRanger_DEV16136_Ach_Jan2023',\n",
    "                'CellRanger_DEV16136_Quad_Jan2023', 'CellRanger_DEV16569_Ach_Jan2023',\n",
    "                'CellRanger_DEV16569_Quad_Jan2023', 'CellRanger_OMB0785_Ach_Sep2022',\n",
    "                'CellRanger_OMB1250_Quad_Sep2022', 'CellRanger_OMB1266_Quad_Sep2022',\n",
    "                'CellRanger_OMB1556_Ach_Sep2022'\n",
    "               ]"
   ]
  },
  {
   "cell_type": "code",
   "execution_count": null,
   "id": "0fcb5999",
   "metadata": {},
   "outputs": [],
   "source": [
    "sample_names = ['CellRanger_OMB1248_Quad_Oct2021', 'CellRanger_OMB0792_Quad_Oct2021', \n",
    "                'CellRanger_OMB1691_Ach_Sep2023', 'CellRanger_OMB1687_Ach_Sep2023']"
   ]
  },
  {
   "cell_type": "code",
   "execution_count": null,
   "id": "fa84d5ad",
   "metadata": {
    "scrolled": true
   },
   "outputs": [],
   "source": [
    "adata_dict={}\n",
    "for sample_name in sample_names:\n",
    "    # extract the sample-specific path to h5 file\n",
    "    h5_filepath = os.path.join(sample_name, 'cellbenderout_filtered.h5')\n",
    "    # load .h5 file into an anndata object\n",
    "    adata_dict[sample_name] = anndata_from_h5(file = h5_filepath, analyzed_barcodes_only = True)\n",
    "\n",
    "adata_dict"
   ]
  },
  {
   "cell_type": "code",
   "execution_count": null,
   "id": "6c1c00eb",
   "metadata": {},
   "outputs": [],
   "source": [
    "for key in adata_dict.keys():\n",
    "    print(f'{key}: {adata_dict[key].n_obs} cells')"
   ]
  },
  {
   "cell_type": "code",
   "execution_count": null,
   "id": "ef5dcdb9",
   "metadata": {},
   "outputs": [],
   "source": [
    "# 10Xloaded_cells = {\n",
    "# \"DEV15983_Achilles tendon\": 10000,\n",
    "# \"DEV15984_Achilles tendon\": 10000,\n",
    "# \"DEV15984_Quadriceps tendon\": 10000,\n",
    "# \"DEV15985_Achilles tendon\": 10000,\n",
    "# \"DEV15985_Quadriceps tendon\": 10000, - 11327 by cellranger estimate\n",
    "# \"DEV16127_Achilles tendon\": 10000,\n",
    "# \"DEV16127_Quadriceps tendon\":10000, - 12640 by cellranger estimate\n",
    "# \"DEV16134_Achilles tendon\": 5000,\n",
    "# \"DEV16134_Quadriceps tendon\":10000, \n",
    "# \"DEV1613516171_Achilles tendon\": 10000,\n",
    "# \"DEV1613516171_Quadriceps tendon\": 10000,- 11519 by cellranger estimate\n",
    "# \"DEV16136_Achilles tendon\":970,\n",
    "# \"DEV16136_Quadriceps tendon\": 9000,\n",
    "# \"DEV16569_Achilles tendon\":10000,\n",
    "# \"DEV16569_Quadriceps tendon\": 10000,\n",
    "# \"OMB0785_Achilles tendon\": 10000 - 1837 by cellranger estimate\n",
    "# \"OMB1250_Quadriceps tendon\": 10000, - 7713 by cellranger estimate\n",
    "# \"OMB1266_Quadriceps tendon\": 10000, - 2490 by cellranger estimate\n",
    "# \"OMB1556_Achilles tendon\": 10000, - 13358 by cellranger estimate\n",
    "# }"
   ]
  },
  {
   "cell_type": "code",
   "execution_count": null,
   "id": "870abda9",
   "metadata": {},
   "outputs": [],
   "source": [
    "for key in adata_dict.keys():\n",
    "    adata_dict[key].write(os.path.join(key, 'cellbenderout_filtered_adata.h5ad'))\n",
    "    print(f'{key} saved')"
   ]
  },
  {
   "cell_type": "markdown",
   "id": "81825b36",
   "metadata": {},
   "source": [
    "# CHECK"
   ]
  },
  {
   "cell_type": "code",
   "execution_count": null,
   "id": "37351dc6",
   "metadata": {},
   "outputs": [],
   "source": [
    "h5ad_dict={}\n",
    "for sample_name in sample_names:\n",
    "    # extract the sample-specific path to h5 file\n",
    "    h5ad_filepath = os.path.join(sample_name, 'cellbenderout_filtered_adata.h5ad')\n",
    "    # load .h5 file into an anndata object\n",
    "    h5ad_dict[sample_name] = sc.read_h5ad(h5ad_filepath)\n",
    "\n",
    "h5ad_dict"
   ]
  },
  {
   "cell_type": "code",
   "execution_count": null,
   "id": "693f99cf",
   "metadata": {},
   "outputs": [],
   "source": [
    "for key in h5ad_dict.keys():\n",
    "    print(f'{key}: {adata_dict[key].n_obs} .h5 file cells')\n",
    "    print(f'{key}: {h5ad_dict[key].n_obs} .h5ad file cells')"
   ]
  },
  {
   "cell_type": "code",
   "execution_count": null,
   "id": "7cb52406",
   "metadata": {},
   "outputs": [],
   "source": [
    "for key in h5ad_dict.keys():\n",
    "    if h5ad_dict[key].n_obs == adata_dict[key].n_obs:\n",
    "        print('Yass')\n",
    "    else:\n",
    "        print('Oh no')"
   ]
  },
  {
   "cell_type": "code",
   "execution_count": null,
   "id": "c44ba7ca",
   "metadata": {},
   "outputs": [],
   "source": [
    "del adata_dict"
   ]
  },
  {
   "cell_type": "markdown",
   "id": "83eb3fdf",
   "metadata": {},
   "source": [
    "# MERGING WITH VELOCITY DATA"
   ]
  },
  {
   "cell_type": "code",
   "execution_count": null,
   "id": "8f09c19f",
   "metadata": {},
   "outputs": [],
   "source": [
    "h5ad_dict['CellRanger_OMB1556_Ach_Sep2022'].obs "
   ]
  },
  {
   "cell_type": "code",
   "execution_count": null,
   "id": "eb01ce2b",
   "metadata": {},
   "outputs": [],
   "source": [
    "for sample, adata in h5ad_dict.items():\n",
    "    adata.obs['full_sample_name'] = sample\n",
    "    adata.obs['sample'] = sample.split('_')[1]\n",
    "    adata.obs['type'] = sample.split('_')[2]\n",
    "    adata.obs['sampletype'] = adata.obs['sample'].astype(str)+'_'+adata.obs['type'].astype(str)\n",
    "    adata.obs['barcode'] = adata.obs.index\n",
    "    adata.obs.index = adata.obs['barcode'].str.split('-').str[0]+'.'+adata.obs['sampletype'].astype(str)\n",
    "    adata.obs.index.name = 'CellID'\n",
    "    adata.obs['sequencing'] = '3v3, NovaSeq'\n",
    "    \n",
    "    name = adata.obs['sample']\n",
    "    if name.isin(['DEV16135DEV16171', 'DEV16134', 'DEV16136']).any():\n",
    "        adata.obs['age'] = \"12w\"\n",
    "        adata.obs['agegroup'] = \"12w\"\n",
    "        adata.obs['libbatch']=\"Jan2023\"\n",
    "    if name.isin(['DEV16569','DEV16127']).any():\n",
    "        adata.obs['age'] = \"17w\"\n",
    "        adata.obs['agegroup'] = \"17w\"\n",
    "        adata.obs['libbatch']=\"Jan2023\"\n",
    "    if (name=='DEV15983').any():\n",
    "        adata.obs['age'] = \"20w\"\n",
    "        adata.obs['agegroup'] = \"20w\"\n",
    "        adata.obs['libbatch']=\"April2022\"\n",
    "    if (name=='DEV15984').any():\n",
    "        adata.obs['age'] = \"20w\"\n",
    "        adata.obs['agegroup'] = \"20w\"\n",
    "        adata.obs['libbatch']=\"April2022\"\n",
    "    if (name=='DEV15985').any():\n",
    "        adata.obs['age'] = \"20w\"\n",
    "        adata.obs['agegroup'] = \"20w\"\n",
    "        adata.obs['libbatch']=\"Dec2021\"\n",
    "    if (name=='OMB0785').any():\n",
    "        adata.obs['age'] = \"74yr\"\n",
    "        adata.obs['agegroup'] = \"Adult\"\n",
    "        adata.obs['libbatch']=\"Oct2021\"\n",
    "    if (name=='OMB1250').any():\n",
    "        adata.obs['age'] = \"45yr\"\n",
    "        adata.obs['agegroup'] = \"Adult\"\n",
    "        adata.obs['libbatch']=\"Oct2021\"\n",
    "    if (name=='OMB1266').any():\n",
    "        adata.obs['age'] = \"25yr\"\n",
    "        adata.obs['agegroup'] = \"Adult\"\n",
    "        adata.obs['libbatch']=\"Oct2021\"\n",
    "    if (name=='OMB1556').any():\n",
    "        adata.obs['age'] = \"51yr\"\n",
    "        adata.obs['agegroup'] = \"Adult\"\n",
    "        adata.obs['libbatch']=\"July2022\"\n",
    "\n",
    "    \n",
    "h5ad_dict['CellRanger_OMB1556_Ach_Sep2022'].obs"
   ]
  },
  {
   "cell_type": "code",
   "execution_count": null,
   "id": "e9f5bd3f",
   "metadata": {},
   "outputs": [],
   "source": [
    "h5ad_dict['CellRanger_DEV16136_Ach_Jan2023'].obs"
   ]
  },
  {
   "cell_type": "code",
   "execution_count": null,
   "id": "570fa3fc",
   "metadata": {},
   "outputs": [],
   "source": [
    "def load_loom_files(adata_dict, data_dir):\n",
    "    \"\"\"\n",
    "    Load spliced/unspliced count loom files into an `ldata_dict` dictionary object from a specified directory.\n",
    "    The loom files should be in a subdirectory for each sample, named as CellRanger_SampleNr_Type_Date.\n",
    "    The hierarchical structure of the directory should be:\n",
    "    data_dir/\n",
    "        CellRanger_DEV16127_Ach_Jan2023/\n",
    "            velocyto/\n",
    "                CellRanger_DEV16127_Ach_Sep2022.loom\n",
    "        CellRanger_OMB1250_Quad_Jan2023/\n",
    "            velocyto/\n",
    "                CellRanger_OMB1250_Quad_Sep2022.loom\n",
    "        ...\n",
    "    \n",
    "    Parameters\n",
    "    ----------\n",
    "    adata_dict : AnnData\n",
    "        Dictionary of AnnData objects split by individual samples.\n",
    "    data_dir : str\n",
    "        Path to the directory containing the loom files for each sample.\n",
    "    \n",
    "    Returns\n",
    "    -------\n",
    "    ldata_dict : dict\n",
    "        Dictionary containing spliced and unspliced count loom files for each sample, in the same order as `adata_dict` samples.\n",
    "    \"\"\"\n",
    "\n",
    "    # create a dictionary to store the loaded loom files\n",
    "    ldata_dict = {}\n",
    "    \n",
    "    for sample_dirname, adata in adata_dict.items():\n",
    "    \n",
    "           # construct the path to the loom file\n",
    "            loom_filepath = os.path.join(data_dir, sample_dirname, 'velocyto', f'{sample_dirname}.loom')\n",
    "\n",
    "            # check if the loom file exists before attempting to load it\n",
    "            if os.path.exists(loom_filepath):\n",
    "                # load the loom file into an scvelo AnnData object\n",
    "                ldata = scv.read(loom_filepath, cache=True)\n",
    "\n",
    "                # add the loaded loom data to the dictionary, keyed by the sampletype name\n",
    "                ldata_dict[sample_dirname] = ldata\n",
    "            else:\n",
    "                # if the file is not found, skip it and move to the next one\n",
    "                print(f\"Loom file not found for {loom_filepath}, skipping...\")\n",
    "                continue\n",
    "        \n",
    "    return ldata_dict"
   ]
  },
  {
   "cell_type": "code",
   "execution_count": null,
   "id": "f992ab8c",
   "metadata": {},
   "outputs": [],
   "source": [
    "ldata_dict = load_loom_files(h5ad_dict, wdir)\n",
    "ldata_dict"
   ]
  },
  {
   "cell_type": "code",
   "execution_count": null,
   "id": "f165ae0b",
   "metadata": {},
   "outputs": [],
   "source": [
    "for key in h5ad_dict.keys():\n",
    "    print(f'{key}: {h5ad_dict[key].n_obs} cellbender cells')\n",
    "    print(f'{key}: {ldata_dict[key].n_obs} velocyto cells')sc"
   ]
  },
  {
   "cell_type": "code",
   "execution_count": null,
   "id": "2d26c539",
   "metadata": {},
   "outputs": [],
   "source": [
    "ldata_dict['CellRanger_OMB1556_Ach_Sep2022'].obs"
   ]
  },
  {
   "cell_type": "code",
   "execution_count": null,
   "id": "4b7870d9",
   "metadata": {},
   "outputs": [],
   "source": [
    "for sample_type in ldata_dict.keys():\n",
    "    samplename = sample_type.split('_')[1] +'_'+ sample_type.split('_')[2]\n",
    "    barcode = ldata_dict[sample_type].obs.index.str.split(':').str[1]\n",
    "    barcode = barcode.str.replace('x', '')\n",
    "    ldata_dict[sample_type].obs['barcode'] = barcode\n",
    "    ldata_dict[sample_type].obs['sampletype'] = samplename\n",
    "    ldata_dict[sample_type].obs.index = barcode + '.' + samplename\n",
    "    \n",
    "ldata_dict['CellRanger_OMB1556_Ach_Sep2022'].obs"
   ]
  },
  {
   "cell_type": "code",
   "execution_count": null,
   "id": "66f748e9",
   "metadata": {},
   "outputs": [],
   "source": [
    "for key in h5ad_dict.keys():\n",
    "    names = set(h5ad_dict[key].obs_names)\n",
    "    names2 = set(ldata_dict[key].obs_names)\n",
    "    # Find the overlapping barcodes\n",
    "    overlapping_barcodes = names.intersection(names2)\n",
    "    print(f\"Number of velocyto and cellbender overlapping barcodes for {key}: {len(overlapping_barcodes)}\")"
   ]
  },
  {
   "cell_type": "code",
   "execution_count": null,
   "id": "3dc25497",
   "metadata": {},
   "outputs": [],
   "source": [
    "h5ad_dict['CellRanger_OMB1556_Ach_Sep2022'].var"
   ]
  },
  {
   "cell_type": "code",
   "execution_count": null,
   "id": "2f4d96df",
   "metadata": {},
   "outputs": [],
   "source": [
    "for keys in ldata_dict.keys():\n",
    "    ldata_dict[keys].var['Gene'] = ldata_dict[keys].var.index\n",
    "    ldata_dict[keys].var.index = ldata_dict[keys].var['Accession']\n",
    "    h5ad_dict[keys].var['gene_name'] = h5ad_dict[keys].var.index\n",
    "    h5ad_dict[keys].var.index = h5ad_dict[keys].var['gene_id']\n",
    "    ldata_dict[keys].var_names_make_unique()\n",
    "    h5ad_dict[keys].var_names_make_unique()\n",
    "    \n",
    "h5ad_dict['CellRanger_OMB1556_Ach_Sep2022'].var"
   ]
  },
  {
   "cell_type": "code",
   "execution_count": null,
   "id": "1695db30",
   "metadata": {},
   "outputs": [],
   "source": [
    "ldata_dict['CellRanger_OMB1556_Ach_Sep2022'].var"
   ]
  },
  {
   "cell_type": "code",
   "execution_count": null,
   "id": "6a321eca",
   "metadata": {},
   "outputs": [],
   "source": [
    "merged_dict = {}\n",
    "for key in ldata_dict.keys():\n",
    "    # merge matrices into original adata objects\n",
    "    mdata = scv.utils.merge(h5ad_dict[key], ldata_dict[key])\n",
    "    merged_dict[key] = mdata\n",
    "\n",
    "merged_dict"
   ]
  },
  {
   "cell_type": "code",
   "execution_count": null,
   "id": "b9f8f6ea",
   "metadata": {},
   "outputs": [],
   "source": [
    "def savefiles(merged_dict):\n",
    "    for key in merged_dict.keys():\n",
    "        sample_name = merged_dict[key].obs['sampletype'][0]\n",
    "        filename = f\"{sample_name}_unfiltered.h5ad\"\n",
    "        filepath = os.path.join(RESULTS_FOLDERNAME, filename)\n",
    "        merged_dict[key].write(filepath)\n",
    "        print(f\"Saved file {filename} to {RESULTS_FOLDERNAME}.\")"
   ]
  },
  {
   "cell_type": "code",
   "execution_count": null,
   "id": "c2d7086d",
   "metadata": {},
   "outputs": [],
   "source": [
    "savefiles(merged_dict)"
   ]
  }
 ],
 "metadata": {
  "kernelspec": {
   "display_name": "Python [conda env:pyscenic_env] *",
   "language": "python",
   "name": "conda-env-pyscenic_env-py"
  },
  "language_info": {
   "codemirror_mode": {
    "name": "ipython",
    "version": 3
   },
   "file_extension": ".py",
   "mimetype": "text/x-python",
   "name": "python",
   "nbconvert_exporter": "python",
   "pygments_lexer": "ipython3",
   "version": "3.7.12"
  }
 },
 "nbformat": 4,
 "nbformat_minor": 5
}
