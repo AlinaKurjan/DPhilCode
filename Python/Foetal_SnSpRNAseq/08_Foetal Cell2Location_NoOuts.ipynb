{
 "cells": [
  {
   "cell_type": "code",
   "execution_count": null,
   "id": "f7687e91",
   "metadata": {},
   "outputs": [],
   "source": [
    "import os\n",
    "import numpy as np\n",
    "import pandas as pd\n",
    "import anndata as ad\n",
    "import scanpy as sc\n",
    "#import squidpy as sq\n",
    "import seaborn as sns\n",
    "import matplotlib.pyplot as plt\n",
    "import matplotlib as mpl\n",
    "\n",
    "import cell2location\n",
    "import scvi\n",
    "\n",
    "from matplotlib import rcParams\n",
    "# Modify Matplotlib settings to remove grid lines\n",
    "plt.rcParams[\"axes.grid\"] = False\n",
    "rcParams['pdf.fonttype'] = 42 # enables correct plotting of text for PDFs\n",
    "\n",
    "# Print date and time:\n",
    "import datetime\n",
    "e = datetime.datetime.now()\n",
    "print (\"Current date and time = %s\" % e)\n",
    "\n",
    "# set variables for file paths to read from and write to:\n",
    "\n",
    "# set a working directory\n",
    "wdir = \"/mnt/da8aa2c4-0136-465b-87a2-d12a59afec55/akurjan/analysis/notebooks\"\n",
    "os.chdir( wdir )\n",
    "\n",
    "# folder structures\n",
    "RESULTS_FOLDERNAME = \"foetal/results/Spatial/\"\n",
    "FIGURES_FOLDERNAME = \"foetal/figures/Spatial/\"\n",
    "\n",
    "if not os.path.exists(RESULTS_FOLDERNAME):\n",
    "    os.makedirs(RESULTS_FOLDERNAME)\n",
    "if not os.path.exists(FIGURES_FOLDERNAME):\n",
    "    os.makedirs(FIGURES_FOLDERNAME)\n",
    "\n",
    "# Set folder for saving figures into\n",
    "sc.settings.figdir = FIGURES_FOLDERNAME\n",
    "    \n",
    "sp_data_folder = \"../files/Spatial/dev/\"\n",
    "\n",
    "# create paths and names to results folders for reference regression and cell2location models\n",
    "ref_run_name = f'{RESULTS_FOLDERNAME}/reference_signatures'\n",
    "run_name = f'{RESULTS_FOLDERNAME}/cell2location_map'\n",
    "\n",
    "def savesvg(fname: str, fig, folder: str=FIGURES_FOLDERNAME) -> None:\n",
    "    \"\"\"\n",
    "    Save figure as vector-based SVG image format.\n",
    "    \"\"\"\n",
    "    fig.tight_layout()\n",
    "    fig.savefig(os.path.join(folder, fname), format='svg')\n",
    "\n",
    "# Set other settings\n",
    "sc.settings.verbosity = 3 # verbosity: errors (0), warnings (1), info (2), hints (3)\n",
    "sc.logging.print_versions()\n",
    "sc.set_figure_params(dpi=150, fontsize=10, dpi_save=600)"
   ]
  },
  {
   "cell_type": "markdown",
   "id": "2da32cfd",
   "metadata": {},
   "source": [
    "# Cell2Location"
   ]
  },
  {
   "cell_type": "code",
   "execution_count": null,
   "id": "56081721",
   "metadata": {},
   "outputs": [],
   "source": [
    "adata = sc.read_h5ad(os.path.join(RESULTS_FOLDERNAME, 'concatenated_adata.h5ad'))"
   ]
  },
  {
   "cell_type": "code",
   "execution_count": null,
   "id": "3b6d511d",
   "metadata": {},
   "outputs": [],
   "source": [
    "adata.obs"
   ]
  },
  {
   "cell_type": "code",
   "execution_count": null,
   "id": "b94888c4",
   "metadata": {},
   "outputs": [],
   "source": [
    "adata.var"
   ]
  },
  {
   "cell_type": "code",
   "execution_count": null,
   "id": "15d9a894",
   "metadata": {},
   "outputs": [],
   "source": [
    "HARMONY_FOLDERNAME = \"foetal/results/Harmony/\"\n",
    "\n",
    "adata_sn = sc.read(os.path.join(HARMONY_FOLDERNAME, '{}.h5ad'.format('dev_harmony')))\n",
    "adata_sn"
   ]
  },
  {
   "cell_type": "code",
   "execution_count": null,
   "id": "f2263bb7",
   "metadata": {},
   "outputs": [],
   "source": [
    "adata_sn = adata_sn[adata_sn.obs['age']=='20w'].copy()\n",
    "adata_sn.obs['C_scANVI'].value_counts()"
   ]
  },
  {
   "cell_type": "code",
   "execution_count": null,
   "id": "e590bcd3",
   "metadata": {},
   "outputs": [],
   "source": [
    "adata_sn.var"
   ]
  },
  {
   "cell_type": "code",
   "execution_count": null,
   "id": "210fd62c",
   "metadata": {},
   "outputs": [],
   "source": [
    "annot = sc.queries.biomart_annotations(\n",
    "    \"hsapiens\",\n",
    "    [\"ensembl_gene_id\", \"external_gene_name\"],\n",
    ").set_index(\"ensembl_gene_id\")\n",
    "\n",
    "annot['ensembl_gene_id'] = annot.index\n",
    "annot['Gene'] = annot['external_gene_name']\n",
    "annot['Gene'] = annot['Gene'].fillna(annot['ensembl_gene_id'])\n",
    "annot.index = annot['Gene']\n",
    "annot = annot[~annot.index.duplicated(keep='first')]\n",
    "\n",
    "adata_sn.var[annot.columns] = annot\n",
    "adata_sn.var_names_make_unique()\n",
    "\n",
    "adata_sn.var['Gene'] = adata_sn.var.index\n",
    "adata_sn.var['ensembl_gene_id'] = adata_sn.var['ensembl_gene_id'].fillna(adata_sn.var['Gene'])\n",
    "adata_sn.var.index = adata_sn.var['ensembl_gene_id']\n",
    "adata_sn.var_names_make_unique()\n",
    "adata_sn.var"
   ]
  },
  {
   "cell_type": "code",
   "execution_count": null,
   "id": "d53c2d06",
   "metadata": {},
   "outputs": [],
   "source": [
    "del adata_sn.raw"
   ]
  },
  {
   "cell_type": "code",
   "execution_count": null,
   "id": "a9007a80",
   "metadata": {},
   "outputs": [],
   "source": [
    "from cell2location.utils.filtering import filter_genes\n",
    "selected = filter_genes(adata_sn, cell_count_cutoff=30, #cell_percentage_cutoff2=0.03, \n",
    "                        nonz_mean_cutoff=1.12)"
   ]
  },
  {
   "cell_type": "code",
   "execution_count": null,
   "id": "72ac1977",
   "metadata": {},
   "outputs": [],
   "source": [
    "# filter the object\n",
    "adata_sn = adata_sn[:, selected].copy()\n",
    "adata_sn.var"
   ]
  },
  {
   "cell_type": "code",
   "execution_count": null,
   "id": "f69afbf9",
   "metadata": {},
   "outputs": [],
   "source": [
    "# prepare anndata for the regression model\n",
    "cell2location.models.RegressionModel.setup_anndata(adata=adata_sn,\n",
    "                        layer=\"counts\",\n",
    "                        # 10X reaction / sample / batch\n",
    "                        batch_key='sample',\n",
    "                        # cell type, covariate used for constructing signatures\n",
    "                        labels_key='C_scANVI',\n",
    "                        # multiplicative technical effects (platform, 3' vs 5', donor effect)\n",
    "                        categorical_covariate_keys=['libbatch', 'type']\n",
    "                       )\n",
    "\n",
    "# create the regression model\n",
    "from cell2location.models import RegressionModel\n",
    "mod = RegressionModel(adata_sn)\n",
    "\n",
    "# view anndata_setup as a sanity check\n",
    "mod.view_anndata_setup()"
   ]
  },
  {
   "cell_type": "code",
   "execution_count": null,
   "id": "70f277f0",
   "metadata": {},
   "outputs": [],
   "source": [
    "%%time\n",
    "mod.train(max_epochs=400, use_gpu=True)"
   ]
  },
  {
   "cell_type": "code",
   "execution_count": null,
   "id": "7a775512",
   "metadata": {},
   "outputs": [],
   "source": [
    "mod.plot_history(20)"
   ]
  },
  {
   "cell_type": "code",
   "execution_count": null,
   "id": "4713bc5c",
   "metadata": {},
   "outputs": [],
   "source": [
    "# In this section, we export the estimated cell abundance (summary of the posterior distribution).\n",
    "adata_sn = mod.export_posterior(\n",
    "    adata_sn, sample_kwargs={'num_samples': 5000, 'batch_size': 2500, 'use_gpu': True}\n",
    ")\n",
    "\n",
    "# Save model\n",
    "mod.save(f\"{ref_run_name}\", overwrite=True)\n",
    "\n",
    "# Save anndata object with results\n",
    "adata_file = f\"{ref_run_name}/sc.h5ad\"\n",
    "adata_sn.write(adata_file)\n",
    "adata_file"
   ]
  },
  {
   "cell_type": "code",
   "execution_count": null,
   "id": "fb61b806",
   "metadata": {},
   "outputs": [],
   "source": [
    "mod.plot_QC()"
   ]
  },
  {
   "cell_type": "code",
   "execution_count": null,
   "id": "352c4706",
   "metadata": {},
   "outputs": [],
   "source": [
    "#adata_file = f\"{ref_run_name}/sc.h5ad\"\n",
    "#adata_sn = sc.read_h5ad(adata_file)\n",
    "#mod = cell2location.models.RegressionModel.load(f\"{ref_run_name}\", adata_sn)"
   ]
  },
  {
   "cell_type": "code",
   "execution_count": null,
   "id": "b9b5f0a5",
   "metadata": {},
   "outputs": [],
   "source": [
    "# export estimated expression in each cluster\n",
    "if 'means_per_cluster_mu_fg' in adata_sn.varm.keys():\n",
    "    inf_aver = adata_sn.varm['means_per_cluster_mu_fg'][[f'means_per_cluster_mu_fg_{i}'\n",
    "                                    for i in adata_sn.uns['mod']['factor_names']]].copy()\n",
    "else:\n",
    "    inf_aver = adata_sn.var[[f'means_per_cluster_mu_fg_{i}'\n",
    "                                    for i in adata_sn.uns['mod']['factor_names']]].copy()\n",
    "inf_aver.columns = adata_sn.uns['mod']['factor_names']\n",
    "inf_aver"
   ]
  },
  {
   "cell_type": "code",
   "execution_count": null,
   "id": "594247e4",
   "metadata": {},
   "outputs": [],
   "source": [
    "inf_aver.to_csv(os.path.join(RESULTS_FOLDERNAME,'EstExpressionPerCluster.csv'), index=True)"
   ]
  },
  {
   "cell_type": "markdown",
   "id": "ad80440f",
   "metadata": {},
   "source": [
    "# Cell2Location Spatial Mapping"
   ]
  },
  {
   "cell_type": "code",
   "execution_count": null,
   "id": "15fc176e",
   "metadata": {},
   "outputs": [],
   "source": [
    "# find shared genes and subset both anndata and reference signatures\n",
    "intersect = np.intersect1d(adata.var_names, inf_aver.index)\n",
    "adata = adata[:, intersect].copy()\n",
    "inf_aver = inf_aver.loc[intersect, :].copy()\n",
    "\n",
    "# prepare anndata for cell2location model\n",
    "cell2location.models.Cell2location.setup_anndata(adata=adata, batch_key=\"sample\")"
   ]
  },
  {
   "cell_type": "code",
   "execution_count": null,
   "id": "d5848a83",
   "metadata": {},
   "outputs": [],
   "source": [
    "adata"
   ]
  },
  {
   "cell_type": "code",
   "execution_count": null,
   "id": "711fccc2",
   "metadata": {},
   "outputs": [],
   "source": [
    "# create and train the model\n",
    "mod2 = cell2location.models.Cell2location(\n",
    "    adata, \n",
    "    cell_state_df=inf_aver,\n",
    "    # the expected average cell abundance: tissue-dependent\n",
    "    # hyper-prior which can be estimated from paired histology:\n",
    "    N_cells_per_location=17,\n",
    "    # hyperparameter controlling normalisation of\n",
    "    # within-experiment variation in RNA detection:\n",
    "    detection_alpha=20\n",
    ")\n",
    "mod2.view_anndata_setup()"
   ]
  },
  {
   "cell_type": "code",
   "execution_count": null,
   "id": "d615acd3",
   "metadata": {},
   "outputs": [],
   "source": [
    "import torch\n",
    "torch.set_float32_matmul_precision('high')"
   ]
  },
  {
   "cell_type": "code",
   "execution_count": null,
   "id": "f95a312a",
   "metadata": {
    "scrolled": false
   },
   "outputs": [],
   "source": [
    "mod2.train(max_epochs=15000,\n",
    "          # train using full data (batch_size=None)\n",
    "          batch_size=None,\n",
    "          # use all data points in training because\n",
    "          # we need to estimate cell abundance at all locations\n",
    "          train_size=1,\n",
    "          use_gpu=True, log_every_n_steps=1\n",
    "         )\n",
    "\n",
    "# plot ELBO loss history during training, removing first 100 epochs from the plot\n",
    "mod2.plot_history(1000)\n",
    "plt.legend(labels=['full data training']);"
   ]
  },
  {
   "cell_type": "code",
   "execution_count": null,
   "id": "c305f7be",
   "metadata": {},
   "outputs": [],
   "source": [
    "# In this section, we export the estimated cell abundance (summary of the posterior distribution).\n",
    "adata = mod2.export_posterior(\n",
    "    adata, sample_kwargs={'num_samples': 5000, 'batch_size': mod2.adata.n_obs, 'use_gpu': True}\n",
    ")\n",
    "\n",
    "# Save model\n",
    "mod2.save(f\"{run_name}\", overwrite=True)\n",
    "# Save anndata object with results\n",
    "adata.write(f\"{run_name}/sp.h5ad\")"
   ]
  },
  {
   "cell_type": "code",
   "execution_count": null,
   "id": "bcabca56",
   "metadata": {},
   "outputs": [],
   "source": [
    "mod2.plot_QC()"
   ]
  },
  {
   "cell_type": "code",
   "execution_count": null,
   "id": "7da2cb0a",
   "metadata": {
    "scrolled": false
   },
   "outputs": [],
   "source": [
    "mod2.plot_spatial_QC_across_batches()"
   ]
  },
  {
   "cell_type": "code",
   "execution_count": null,
   "id": "98e03ddc",
   "metadata": {},
   "outputs": [],
   "source": [
    "adata.var"
   ]
  },
  {
   "cell_type": "code",
   "execution_count": null,
   "id": "8201cc99",
   "metadata": {},
   "outputs": [],
   "source": [
    "#adata_file = f\"{run_name}/sp.h5ad\"\n",
    "#adata = sc.read_h5ad(adata_file)\n",
    "#adata\n",
    "\n",
    "#mod2 = cell2location.models.Cell2location.load(f\"{run_name}\", adata)\n",
    "#mod2"
   ]
  },
  {
   "cell_type": "code",
   "execution_count": null,
   "id": "b272af8b",
   "metadata": {},
   "outputs": [],
   "source": [
    "# add 5% quantile, representing confident cell abundance, 'at least this amount is present',\n",
    "# to adata.obs with nice names for plotting\n",
    "adata.obs[adata.uns['mod']['factor_names']] = adata.obsm['q05_cell_abundance_w_sf']\n",
    "adata"
   ]
  },
  {
   "cell_type": "code",
   "execution_count": null,
   "id": "2e003117",
   "metadata": {},
   "outputs": [],
   "source": [
    "def select_slide(adata, s, s_col='sample'):\n",
    "    \"\"\" \n",
    "    This function selects the data for one slide from the spatial anndata object.\n",
    "\n",
    "    :param adata: Anndata object with multiple spatial experiments\n",
    "    :param s: name of selected experiment\n",
    "    :param s_col: column in adata.obs listing experiment name for each location\n",
    "    \"\"\"\n",
    "\n",
    "    slide = adata[adata.obs[s_col].isin([s]), :]\n",
    "    s_keys = list(slide.uns['spatial'].keys())\n",
    "    s_spatial = np.array(s_keys)[[s in k for k in s_keys]][0]\n",
    "\n",
    "    slide.uns['spatial'] = {s_spatial: slide.uns['spatial'][s_spatial]}\n",
    "\n",
    "    return slide"
   ]
  },
  {
   "cell_type": "code",
   "execution_count": null,
   "id": "5662df35",
   "metadata": {},
   "outputs": [],
   "source": [
    "slide = select_slide(adata, 'Dev16126_Quad_MB_H')\n",
    "#sample_data = 'Dev16126_Ach_EnthMB_H', 'Dev16126_Quad_MB_H', 'Dev16126_Quad_MB2_H'\n",
    "\n",
    "# plot in spatial coordinates\n",
    "with mpl.rc_context({'axes.facecolor':  'black',\n",
    "                     'figure.figsize': [4.5, 5]}):\n",
    "\n",
    "    sc.pl.spatial(slide, cmap='inferno',\n",
    "                  color=[\n",
    "                         'ABI3BP GAS2 Fibroblasts 1',\n",
    "                         'ABI3BP GAS2 Fibroblasts 2',\n",
    "                         'NEGR1 SCN7A Fibroblasts',\n",
    "                         'COL6A6 FNDC1 Fibroblasts',\n",
    "                         'FGF14 THBS4 Fibroblasts',\n",
    "                         'COL3A1 PI16 Fibroblasts',\n",
    "                         'vasEndothelial Cells',\n",
    "                         'lymEndothelial Cells',\n",
    "                         'Smooth Myocytes',\n",
    "                         'Nervous System Cells',\n",
    "                         'Satellite Cells',\n",
    "                         'Skeletal Myocytes',\n",
    "                         'Immune Cells',\n",
    "                         'Chondrocytes',\n",
    "                         'clusters',\n",
    "                         'joint_leiden',\n",
    "                         'joint_leiden_graph'],\n",
    "                  ncols=4, size=1.3,\n",
    "                  img_key='hires',\n",
    "                  # limit color scale at 99.2% quantile of cell abundance\n",
    "                  vmin=0, vmax='p99.2',\n",
    "                  #save='Dev16126_Quad_MB_H_cell2loc.svg'\n",
    "                  save='Dev16126_Quad_MB_H_cell2loc.png'\n",
    "                 )"
   ]
  },
  {
   "cell_type": "code",
   "execution_count": null,
   "id": "c2352481",
   "metadata": {},
   "outputs": [],
   "source": [
    "slide = select_slide(adata, 'Dev16126_Quad_MB2_H')\n",
    "#sample_data = 'Dev16126_Ach_EnthMB_H', 'Dev16126_Quad_MB_H', 'Dev16126_Quad_MB2_H'\n",
    "\n",
    "# plot in spatial coordinates\n",
    "with mpl.rc_context({'axes.facecolor':  'black',\n",
    "                     'figure.figsize': [4.5, 5]}):\n",
    "\n",
    "    sc.pl.spatial(slide, cmap='inferno',\n",
    "                  color=[\n",
    "                         'ABI3BP GAS2 Fibroblasts 1',\n",
    "                         'ABI3BP GAS2 Fibroblasts 2',\n",
    "                         'NEGR1 SCN7A Fibroblasts',\n",
    "                         'COL6A6 FNDC1 Fibroblasts',\n",
    "                         'FGF14 THBS4 Fibroblasts',\n",
    "                         'COL3A1 PI16 Fibroblasts',\n",
    "                         'vasEndothelial Cells',\n",
    "                         'lymEndothelial Cells',\n",
    "                         'Smooth Myocytes',\n",
    "                         'Nervous System Cells',\n",
    "                         'Satellite Cells',\n",
    "                         'Skeletal Myocytes',\n",
    "                         'Immune Cells',\n",
    "                         'Chondrocytes',\n",
    "                         'clusters',\n",
    "                         'joint_leiden',\n",
    "                         'joint_leiden_graph'],\n",
    "                  ncols=4, size=1.3,\n",
    "                  img_key='hires',\n",
    "                  # limit color scale at 99.2% quantile of cell abundance\n",
    "                  vmin=0, vmax='p99.2',\n",
    "                  #save='Dev16126_Quad_MB2_H_cell2loc.svg'\n",
    "                  save='Dev16126_Quad_MB2_H_cell2loc.png'\n",
    "                 )"
   ]
  },
  {
   "cell_type": "code",
   "execution_count": null,
   "id": "ff49959f",
   "metadata": {},
   "outputs": [],
   "source": [
    "slide = select_slide(adata, 'Dev16126_Ach_EnthMB_H')\n",
    "#sample_data = 'Dev16126_Ach_EnthMB_H', 'Dev16126_Quad_MB_H', 'Dev16126_Quad_MB2_H'\n",
    "\n",
    "# plot in spatial coordinates\n",
    "with mpl.rc_context({'axes.facecolor':  'black',\n",
    "                     'figure.figsize': [4.5, 5]}):\n",
    "\n",
    "    sc.pl.spatial(slide, cmap='inferno',\n",
    "                  color=[\n",
    "                         'ABI3BP GAS2 Fibroblasts 1',\n",
    "                         'ABI3BP GAS2 Fibroblasts 2',\n",
    "                         'NEGR1 SCN7A Fibroblasts',\n",
    "                         'COL6A6 FNDC1 Fibroblasts',\n",
    "                         'FGF14 THBS4 Fibroblasts',\n",
    "                         'COL3A1 PI16 Fibroblasts',\n",
    "                         'vasEndothelial Cells',\n",
    "                         'lymEndothelial Cells',\n",
    "                         'Smooth Myocytes',\n",
    "                         'Nervous System Cells',\n",
    "                         'Satellite Cells',\n",
    "                         'Skeletal Myocytes',\n",
    "                         'Immune Cells',\n",
    "                         'Chondrocytes',\n",
    "                         'clusters',\n",
    "                         'joint_leiden',\n",
    "                         'joint_leiden_graph'],\n",
    "                  ncols=4, size=1.3,\n",
    "                  img_key='hires',\n",
    "                  # limit color scale at 99.2% quantile of cell abundance\n",
    "                  vmin=0, vmax='p99.2',\n",
    "                  #save='Dev16126_Ach_EnthMB_H_cell2loc.svg'\n",
    "                  save='Dev16126_Ach_EnthMB_H_cell2loc.png'\n",
    "                 )"
   ]
  },
  {
   "cell_type": "markdown",
   "id": "c31bf0f5",
   "metadata": {},
   "source": [
    "# Changing image parameters to enhance visualisation"
   ]
  },
  {
   "cell_type": "code",
   "execution_count": null,
   "id": "f6899a2c",
   "metadata": {},
   "outputs": [],
   "source": [
    "import skimage.exposure\n",
    "from skimage import exposure\n",
    "\n",
    "# Create a new AnnData object to store adjusted image data\n",
    "adata_adjusted = adata.copy()\n",
    "\n",
    "# Iterate through different samples in the 'sample' observation column\n",
    "for sample_id in adata.obs['sample'].unique():\n",
    "    # Filter the data for the current sample\n",
    "    sample_data = adata[adata.obs['sample'] == sample_id]\n",
    "    \n",
    "    # Extract the original image data\n",
    "    img_png = sample_data.uns['spatial'][sample_id]['images']['hires']\n",
    "    \n",
    "    # Calculate percentiles\n",
    "    p2, p98 = np.percentile(img_png, (0.5, 99.5))\n",
    "    \n",
    "    # Rescale intensity for brightness adjustment\n",
    "    img_rescale = skimage.exposure.rescale_intensity(img_png, in_range=(p2, p98))\n",
    "    \n",
    "    # Convert to HSV color space\n",
    "    img_hsv = skimage.color.rgb2hsv(img_rescale)\n",
    "    \n",
    "    # Adjust hue and saturation\n",
    "    img_hsv[:, :, 0] = (img_hsv[:, :, 0] + 0.01) % 1.0  \n",
    "    img_hsv[:, :, 1] = img_hsv[:, :, 1] * 0.5 \n",
    "    \n",
    "    # Convert back to RGB color space\n",
    "    img_adjusted = skimage.color.hsv2rgb(img_hsv)\n",
    "    \n",
    "    # Update the 'hires' image data in the new AnnData object\n",
    "    adata_adjusted.uns['spatial'][sample_id]['images']['hires'] = img_adjusted\n",
    "\n",
    "# Plot original and adjusted images side by side\n",
    "for sample_id in adata.obs['sample'].unique():\n",
    "    original_img = adata.uns['spatial'][sample_id]['images']['hires']\n",
    "    adjusted_img = adata_adjusted.uns['spatial'][sample_id]['images']['hires']\n",
    "\n",
    "    fig, axes = plt.subplots(1, 2, figsize=(10, 5))\n",
    "    axes[0].imshow(original_img[500:1000, 500:1000])\n",
    "    axes[0].set_title('Original Image')\n",
    "    axes[1].imshow(adjusted_img[500:1000, 500:1000])\n",
    "    axes[1].set_title('Adjusted Image')\n",
    "\n",
    "    plt.suptitle(f'Sample: {sample_id}')\n",
    "    plt.show()"
   ]
  },
  {
   "cell_type": "code",
   "execution_count": null,
   "id": "d29f15bb",
   "metadata": {},
   "outputs": [],
   "source": [
    "# add 5% quantile, representing confident cell abundance, 'at least this amount is present',\n",
    "# to adata.obs with nice names for plotting\n",
    "adata_adjusted.obs[adata.uns['mod']['factor_names']] = adata_adjusted.obsm['q05_cell_abundance_w_sf']"
   ]
  },
  {
   "cell_type": "code",
   "execution_count": null,
   "id": "d355fea3",
   "metadata": {},
   "outputs": [],
   "source": [
    "# Now we use cell2location plotter that allows showing multiple cell types in one panel\n",
    "from cell2location.plt import plot_spatial\n",
    "\n",
    "clust_labels_dict = {\n",
    "    'fibroblasts1': ['ABI3BP GAS2 Fibroblasts 2',\n",
    "                     'ABI3BP GAS2 Fibroblasts 1',\n",
    "                     'FGF14 THBS4 Fibroblasts'],\n",
    "    'fibroblasts2': ['NEGR1 SCN7A Fibroblasts', \n",
    "                     'COL6A6 FNDC1 Fibroblasts',\n",
    "                     'COL3A1 PI16 Fibroblasts'],\n",
    "    'endothelial': ['lymEndothelial Cells',\n",
    "                     'vasEndothelial Cells',\n",
    "                     'Smooth Myocytes'],\n",
    "    'immuneandmuscle': ['Satellite Cells',\n",
    "                        'Skeletal Myocytes',\n",
    "                        'Nervous System Cells',\n",
    "                        'Immune Cells']\n",
    "}\n",
    "\n",
    "for cellgroup, cts in clust_labels_dict.items():\n",
    "    clust_labels = cts\n",
    "    clust_col = ['' + str(i) for i in clust_labels]  # in case column names differ from labels\n",
    "    for samplename in adata.obs['sample'].unique():\n",
    "        slide = select_slide(adata, samplename)\n",
    "        with mpl.rc_context({'figure.figsize': (20, 15)}):\n",
    "            fig = plot_spatial(\n",
    "                adata=slide,\n",
    "                color=clust_col, labels=clust_labels,\n",
    "                style='fast',\n",
    "                max_color_quantile=0.95,\n",
    "                coords=slide.obsm['spatial'] * list(slide.uns['spatial'].values())[0]['scalefactors']['tissue_hires_scalef'], \n",
    "                show_img=False, \n",
    "                img_alpha=0.7,\n",
    "                img=list(slide.uns['spatial'].values())[0]['images']['hires'],\n",
    "                circle_diameter=7, colorbar_position='right',\n",
    "                adjust_text=True\n",
    "            )\n",
    "            # Remove grid lines from the generated plot\n",
    "            ax = fig.get_axes()[0]\n",
    "            ax.grid(False)\n",
    "\n",
    "            fig.savefig(os.path.join(FIGURES_FOLDERNAME, f'{samplename}_cell2locMap_{cellgroup}.png'), format='png')\n",
    "            # plt.show()\n",
    "            plt.close(fig)\n",
    "\n",
    "        with mpl.rc_context({'figure.figsize': (20, 15)}):\n",
    "            fig = plot_spatial(\n",
    "                adata=slide,\n",
    "                color=clust_col, labels=clust_labels,\n",
    "                coords=slide.obsm['spatial'] * list(slide.uns['spatial'].values())[0]['scalefactors']['tissue_hires_scalef'], \n",
    "                show_img=False, \n",
    "                img_alpha=0,\n",
    "                style='dark_background',  # fast or dark_background\n",
    "                img=list(slide.uns['spatial'].values())[0]['images']['hires'],\n",
    "                circle_diameter=7, colorbar_position='right'\n",
    "            )\n",
    "            # Remove grid lines from the generated plot\n",
    "            ax = fig.get_axes()[0]\n",
    "            ax.grid(False)\n",
    "\n",
    "            fig.savefig(os.path.join(FIGURES_FOLDERNAME, f'{slide.obs[\"sample\"][0]}_cell2locMap_{cellgroup}_black.png'), format='png')\n",
    "            plt.close(fig)"
   ]
  },
  {
   "cell_type": "code",
   "execution_count": null,
   "id": "c9ece59e",
   "metadata": {},
   "outputs": [],
   "source": [
    "for cellgroup, cts in clust_labels_dict.items():\n",
    "    clust_labels = cts\n",
    "    clust_col = ['' + str(i) for i in clust_labels]  # in case column names differ from labels\n",
    "    for samplename in adata.obs['sample'].unique():\n",
    "        slide = select_slide(adata, samplename)\n",
    "        with mpl.rc_context({'figure.figsize': (20, 15)}):\n",
    "            fig = plot_spatial(\n",
    "                adata=slide,\n",
    "                color=clust_col, labels=clust_labels,\n",
    "                style='fast',\n",
    "                max_color_quantile=0.95,\n",
    "                coords=slide.obsm['spatial'] * list(slide.uns['spatial'].values())[0]['scalefactors']['tissue_hires_scalef'], \n",
    "                show_img=False, \n",
    "                img_alpha=0.7,\n",
    "                img=list(slide.uns['spatial'].values())[0]['images']['hires'],\n",
    "                circle_diameter=7, colorbar_position='right',\n",
    "                adjust_text=True\n",
    "            )\n",
    "            # Remove grid lines from the generated plot\n",
    "            ax = fig.get_axes()[0]\n",
    "            ax.grid(False)\n",
    "\n",
    "            fig.savefig(os.path.join(FIGURES_FOLDERNAME, f'{samplename}_cell2locMap_{cellgroup}.png'), format='png')\n",
    "            # plt.show()\n",
    "            plt.close(fig)\n",
    "\n",
    "        with mpl.rc_context({'figure.figsize': (20, 15)}):\n",
    "            fig = plot_spatial(\n",
    "                adata=slide,\n",
    "                color=clust_col, labels=clust_labels,\n",
    "                coords=slide.obsm['spatial'] * list(slide.uns['spatial'].values())[0]['scalefactors']['tissue_hires_scalef'], \n",
    "                show_img=False, \n",
    "                img_alpha=0,\n",
    "                style='dark_background',  # fast or dark_background\n",
    "                img=list(slide.uns['spatial'].values())[0]['images']['hires'],\n",
    "                circle_diameter=7, colorbar_position='right'\n",
    "            )\n",
    "            # Remove grid lines from the generated plot\n",
    "            ax = fig.get_axes()[0]\n",
    "            ax.grid(False)\n",
    "\n",
    "            fig.savefig(os.path.join(FIGURES_FOLDERNAME, f'{slide.obs[\"sample\"][0]}_cell2locMap_{cellgroup}_black.png'), format='png')\n",
    "            plt.close(fig)"
   ]
  },
  {
   "cell_type": "code",
   "execution_count": null,
   "id": "72d766d6",
   "metadata": {
    "scrolled": false
   },
   "outputs": [],
   "source": [
    "# identify spot locations to crop near tissue\n",
    "def get_crop_coord(slide, scale='tissue_hires_scalef'):\n",
    "\n",
    "    crop_max = (slide.obsm['spatial'] * list(slide.uns['spatial'].values())[0]['scalefactors'][scale]).max(axis=0)\n",
    "    crop_min = (slide.obsm['spatial'] * list(slide.uns['spatial'].values())[0]['scalefactors'][scale]).min(axis=0)\n",
    "\n",
    "    crop_x = [crop_min[0]-0, crop_max[0]+0]\n",
    "    crop_y = [crop_min[1]-0, crop_max[1]+0]\n",
    "\n",
    "    return crop_x, crop_y"
   ]
  },
  {
   "cell_type": "code",
   "execution_count": null,
   "id": "95115a65",
   "metadata": {
    "scrolled": false
   },
   "outputs": [],
   "source": [
    "# select up to 5-6 clusters (the last colour is grey)\n",
    "sel_clust = ['lymEndothelial Cells', \n",
    "             'vasEndothelial Cells',\n",
    "             'Smooth Myocytes', \n",
    "             'Nervous System Cells',\n",
    "             'Satellite Cells',\n",
    "             'Skeletal Myocytes',\n",
    "             #'Immune Cells'\n",
    "            ]\n",
    "sel_clust_col = ['' + str(i) for i in sel_clust]\n",
    "\n",
    "for samplename in adata.obs['sample'].unique():\n",
    "        slide = select_slide(adata, samplename)\n",
    "        #crop_x, crop_y = get_crop_coord(slide, scale='tissue_hires_scalef')\n",
    "        with mpl.rc_context({'figure.figsize': (15, 15)}):\n",
    "            fig = plot_spatial(adata=slide, color=sel_clust_col, labels=sel_clust,\n",
    "                              coords=slide.obsm['spatial'],\n",
    "                              show_img=True, img_alpha=0,\n",
    "                              max_color_quantile=0.98,\n",
    "                              #crop_x=crop_x, crop_y=crop_y,\n",
    "                              style='dark_background', # fast or dark_background\n",
    "                              img=list(slide.uns['spatial'].values())[0]['images']['hires'],\n",
    "                              circle_diameter=7, colorbar_position='right')\n",
    "            fig.savefig(os.path.join(FIGURES_FOLDERNAME, f'{slide.obs[\"sample\"][0]}_cell2locMap2_muscleifm_black.png'), format='png')\n",
    "            plt.close(fig)"
   ]
  },
  {
   "cell_type": "code",
   "execution_count": null,
   "id": "448a0c65",
   "metadata": {},
   "outputs": [],
   "source": [
    "# select up to 5-6 clusters (the last colour is grey)\n",
    "sel_clust = ['ABI3BP GAS2 Fibroblasts 2',\n",
    "             'ABI3BP GAS2 Fibroblasts 1',\n",
    "             'FGF14 THBS4 Fibroblasts',\n",
    "             'COL6A6 FNDC1 Fibroblasts',\n",
    "             'COL3A1 PI16 Fibroblasts',\n",
    "             'NEGR1 SCN7A Fibroblasts']\n",
    "sel_clust_col = ['' + str(i) for i in sel_clust]\n",
    "\n",
    "for samplename in adata.obs['sample'].unique():\n",
    "        slide = select_slide(adata, samplename)\n",
    "        #crop_x, crop_y = get_crop_coord(slide, scale='tissue_hires_scalef')\n",
    "        with mpl.rc_context({'figure.figsize': (15, 15)}):\n",
    "            fig = plot_spatial(adata=slide, color=sel_clust_col, labels=sel_clust,\n",
    "                              coords=slide.obsm['spatial'],\n",
    "                              show_img=True, img_alpha=0.1,\n",
    "                              max_color_quantile=0.98,\n",
    "                              #crop_x=crop_x, crop_y=crop_y,\n",
    "                              style='fast', # fast or dark_background\n",
    "                              img=list(slide.uns['spatial'].values())[0]['images']['hires'],\n",
    "                              circle_diameter=7, colorbar_position='right')\n",
    "            fig.savefig(os.path.join(FIGURES_FOLDERNAME, f'{slide.obs[\"sample\"][0]}_cell2locMap2_fibroblasts_white.png'), format='png')\n",
    "            plt.close(fig)"
   ]
  },
  {
   "cell_type": "code",
   "execution_count": null,
   "id": "be653fb3",
   "metadata": {},
   "outputs": [],
   "source": [
    "# plot hne\n",
    "for samplename in adata.obs['sample'].unique():\n",
    "    slide = select_slide(adata, samplename)\n",
    "    fig, ax = plt.subplots(\n",
    "        figsize=(3, 5),\n",
    "    )\n",
    "    sc.pl.spatial(\n",
    "        slide,\n",
    "        color=None,\n",
    "        img_key='hires',\n",
    "        ax=ax,\n",
    "        title='H&E stain',\n",
    "        #legend_loc=False,\n",
    "        show=False\n",
    "    )\n",
    "    ax.axes.xaxis.label.set_visible(False)\n",
    "    ax.axes.yaxis.label.set_visible(False)\n",
    "    # save figure\n",
    "    plt.tight_layout()\n",
    "    #plt.savefig(os.path.join(FIGURES_FOLDERNAME, f'{library_id}_spatial_hne.png'), dpi=300, bbox_inches='tight')\n",
    "    savesvg(f'{samplename}_spatial_hne.svg', plt)"
   ]
  },
  {
   "cell_type": "code",
   "execution_count": null,
   "id": "d136f6d8",
   "metadata": {},
   "outputs": [],
   "source": [
    "cell_type_data = pd.DataFrame(adata.obs[['ABI3BP GAS2 Fibroblasts 1',\n",
    "       'ABI3BP GAS2 Fibroblasts 2', 'COL3A1 PI16 Fibroblasts',\n",
    "       'COL6A6 FNDC1 Fibroblasts', 'Chondrocytes', 'FGF14 THBS4 Fibroblasts',\n",
    "       'Immune Cells', 'NEGR1 SCN7A Fibroblasts', 'Nervous System Cells',\n",
    "       'Satellite Cells', 'Skeletal Myocytes', 'Smooth Myocytes',\n",
    "       'lymEndothelial Cells', 'vasEndothelial Cells']])\n",
    "cell_type_data"
   ]
  },
  {
   "cell_type": "code",
   "execution_count": null,
   "id": "4ec17b83",
   "metadata": {},
   "outputs": [],
   "source": [
    "# pearson correlation of cell type abundance (by spot)\n",
    "correlation_matrix = cell_type_data.corr()\n",
    "\n",
    "colormap = plt.get_cmap('PuOr')\n",
    "inverted_colormap = colormap.reversed()\n",
    "\n",
    "# Create a seaborn heatmap for visualization\n",
    "plt.figure(figsize=(10, 8))\n",
    "sns.clustermap(correlation_matrix, xticklabels=cell_type_data.columns, \n",
    "               yticklabels=cell_type_data.columns, cmap=inverted_colormap,\n",
    "               center=0)\n",
    "plt.title('Cell Type Similarity')\n",
    "plt.savefig(os.path.join(FIGURES_FOLDERNAME, 'pearson_celltype_correlation_clustermap.svg'))\n",
    "plt.show()"
   ]
  },
  {
   "cell_type": "markdown",
   "id": "acc53aae",
   "metadata": {},
   "source": [
    "## Napari Interactive Viewer"
   ]
  },
  {
   "cell_type": "code",
   "execution_count": null,
   "id": "7b1f7ccb",
   "metadata": {},
   "outputs": [],
   "source": [
    "image_dict = {}\n",
    "\n",
    "for library_id in adata.obs['sample'].unique():\n",
    "    adata_sample = adata[adata.obs['sample'] == library_id]\n",
    "    img = sq.im.ImageContainer(\n",
    "        adata_sample.uns['spatial'][library_id]['images']['hires'],\n",
    "        scale=adata_sample.uns['spatial'][library_id]['scalefactors']['tissue_hires_scalef']\n",
    "    )\n",
    "    image_dict[library_id] = img\n",
    "\n",
    "image_dict"
   ]
  },
  {
   "cell_type": "code",
   "execution_count": null,
   "id": "12703c87",
   "metadata": {},
   "outputs": [],
   "source": [
    "# Split the AnnData object based on 'sample' column\n",
    "groups = adata.obs.groupby('sample')\n",
    "\n",
    "# Create a dictionary to store the split AnnData objects\n",
    "split_data = {}\n",
    "\n",
    "# Iterate over the groups and create a separate AnnData object for each group\n",
    "for group_name, group_indices in groups.indices.items():\n",
    "    split_data[group_name] = adata[group_indices, :].copy()\n",
    "\n",
    "    # Split the `uns['spatial']` dictionary by sample\n",
    "    split_data[group_name].uns['spatial'] = {\n",
    "        sample: adata.uns['spatial'][sample]\n",
    "        for sample in split_data[group_name].obs['sample']\n",
    "    }\n",
    "    \n",
    "# Access the split AnnData objects and their corresponding spatial data by group name\n",
    "for group_name, split_adata in split_data.items():\n",
    "    print(f\"Group: {group_name}\")\n",
    "    print(\"AnnData Object:\")\n",
    "    print(split_adata)\n",
    "    print(\"Spatial Data:\")\n",
    "    print(split_adata.uns['spatial'])"
   ]
  },
  {
   "cell_type": "code",
   "execution_count": null,
   "id": "c64ff0ef",
   "metadata": {},
   "outputs": [],
   "source": [
    "#adata.var['ENSEMBL'] = adata.var.index\n",
    "#adata.var.index = adata.var['Gene']\n",
    "#adata_adatavis"
   ]
  },
  {
   "cell_type": "code",
   "execution_count": null,
   "id": "aa4bc6be",
   "metadata": {},
   "outputs": [],
   "source": [
    "for data in split_data.values():\n",
    "    data.var['ENSEMBL'] = data.var.index\n",
    "    data.var.index = data.var['Gene']\n",
    "split_data['Dev16126_Quad_MB2_H'].var"
   ]
  },
  {
   "cell_type": "code",
   "execution_count": null,
   "id": "538f1119",
   "metadata": {
    "scrolled": true
   },
   "outputs": [],
   "source": [
    "viewer = image_dict['Dev16126_Quad_MB2_H'].interactive(split_data['Dev16126_Quad_MB2_H'])"
   ]
  },
  {
   "cell_type": "markdown",
   "id": "8cf88da6",
   "metadata": {},
   "source": [
    "# Tissue Region Identification by Clustering"
   ]
  },
  {
   "cell_type": "code",
   "execution_count": null,
   "id": "476179a7",
   "metadata": {},
   "outputs": [],
   "source": [
    "adata.obs['sample'].value_counts()"
   ]
  },
  {
   "cell_type": "code",
   "execution_count": null,
   "id": "3f4ff4ae",
   "metadata": {},
   "outputs": [],
   "source": [
    "adata.obsm['q05_cell_abundance_w_sf'] = adata_adjusted.obsm['q05_cell_abundance_w_sf'].copy()\n",
    "adata.obsm['q05_cell_abundance_w_sf']"
   ]
  },
  {
   "cell_type": "code",
   "execution_count": null,
   "id": "8f9d66bc",
   "metadata": {},
   "outputs": [],
   "source": [
    "# compute KNN using the cell2location output\n",
    "sc.pp.neighbors(adata, use_rep='q05_cell_abundance_w_sf',\n",
    "                n_neighbors = 30)\n",
    "\n",
    "# Cluster spots into regions using scanpy\n",
    "sc.tl.leiden(adata, resolution=1, key_added='leiden_01_ct')\n",
    "\n",
    "# add region as categorical variable\n",
    "adata.obs[\"region_cluster\"] = adata.obs[\"leiden_01_ct\"].astype(\"category\")\n",
    "\n",
    "# compute UMAP using KNN graph based on the cell2location output\n",
    "sc.tl.umap(adata, min_dist = 0.3, spread = 1)\n",
    "\n",
    "# show regions in UMAP coordinates\n",
    "with mpl.rc_context({'axes.facecolor':  'white',\n",
    "                     'figure.figsize': [4, 4]}):\n",
    "    sc.pl.umap(adata, color=['sample','region_cluster'], size=30,\n",
    "               color_map = 'RdPu', ncols = 2, legend_loc='on data',\n",
    "               legend_fontsize=10, save='combined_cell2loc_regionClusterUMAPs.svg')"
   ]
  },
  {
   "cell_type": "code",
   "execution_count": null,
   "id": "487d8925",
   "metadata": {
    "scrolled": false
   },
   "outputs": [],
   "source": [
    "for samplename in adata.obs['sample'].unique():\n",
    "    slide = select_slide(adata, samplename)\n",
    "    with mpl.rc_context({'figure.figsize': (5, 6)}):\n",
    "        sc.pl.spatial(slide, color=['region_cluster'],\n",
    "                      size=1.1, alpha=1,\n",
    "                      img_key='hires', \n",
    "                      save=f'{samplename}_cell2loc_regionClustersfromCOMBINED.svg'\n",
    "                    )"
   ]
  },
  {
   "cell_type": "markdown",
   "id": "6d5b88d0",
   "metadata": {},
   "source": [
    "# Save for 10X Loupe Browser Exploration"
   ]
  },
  {
   "cell_type": "code",
   "execution_count": null,
   "id": "2b53ba3f",
   "metadata": {},
   "outputs": [],
   "source": [
    "adata = sc.read_h5ad(f\"{run_name}/sp_full.h5ad\")\n",
    "adata"
   ]
  },
  {
   "cell_type": "code",
   "execution_count": null,
   "id": "e1003889",
   "metadata": {},
   "outputs": [],
   "source": [
    "# save maps for each sample separately\n",
    "sam = np.array(adata.obs['sample'])\n",
    "for i in np.unique(sam):\n",
    "    s1 = adata.obs[['region_cluster']]\n",
    "    s1 = s1.loc[sam == i]\n",
    "    s1.index = s1.index.str.rsplit('_', n=1).str[-1]\n",
    "    s1.index.name = 'Barcode'\n",
    "    s1.to_csv(os.path.join(RESULTS_FOLDERNAME, f'{i}_region_clusters.csv'))"
   ]
  },
  {
   "cell_type": "code",
   "execution_count": null,
   "id": "1d8afb7c",
   "metadata": {
    "scrolled": false
   },
   "outputs": [],
   "source": [
    "# for data in split_data.values():\n",
    "#     # compute KNN using the cell2location output stored in adata.obsm\n",
    "#     sc.pp.neighbors(data, use_rep='q05_cell_abundance_w_sf',\n",
    "#                     n_neighbors = 30)\n",
    "\n",
    "#     # Cluster spots into regions using scanpy\n",
    "#     sc.tl.leiden(data, resolution=1, key_added='leiden_01_ct')\n",
    "\n",
    "#     # add region as categorical variable\n",
    "#     data.obs[\"region_cluster\"] = data.obs[\"leiden_01_ct\"].astype(\"category\")\n",
    "    \n",
    "#     # compute UMAP using KNN graph based on the cell2location output\n",
    "#     sc.tl.umap(data, min_dist = 0.3, spread = 1)\n",
    "\n",
    "#     # show regions in UMAP coordinates\n",
    "#     with mpl.rc_context({'axes.facecolor':  'white',\n",
    "#                          'figure.figsize': [4, 4]}):\n",
    "#         sc.pl.umap(data, color=['region_cluster'], size=30,\n",
    "#                    color_map = 'RdPu', ncols = 2, legend_loc='on data',\n",
    "#                    legend_fontsize=10, save=f'{data.obs[\"sample\"][0]}_cell2loc_regionClusterUMAPs.svg')\n",
    "\n",
    "#     # plot in spatial coordinates\n",
    "#     with mpl.rc_context({'axes.facecolor':  'black',\n",
    "#                          'figure.figsize': [4.5, 5]}):\n",
    "#         sc.pl.spatial(data, color=['region_cluster'],\n",
    "#                       size=1.3, alpha=1,\n",
    "#                       img_key='hires',save=f'{data.obs[\"sample\"][0]}_cell2loc_regionClusters.svg')\n",
    "\n",
    "# for data in split_data.values():\n",
    "#     name = data.obs['sample'][0]\n",
    "#     s1 = data.obs[['region_cluster']]\n",
    "#     s1.index = [x[20:] for x in s1.index]\n",
    "#     s1.index.name = 'Barcode'\n",
    "#     print(s1)\n",
    "#     s1.to_csv(os.path.join(RESULTS_FOLDERNAME, f'{name}_region_clusters.csv'))"
   ]
  },
  {
   "cell_type": "markdown",
   "id": "3fb6170e",
   "metadata": {},
   "source": [
    "# Adding region names"
   ]
  },
  {
   "cell_type": "markdown",
   "id": "b0126204",
   "metadata": {},
   "source": [
    "make a dictionary with cluster labels as below and re-annotate for each sample."
   ]
  },
  {
   "cell_type": "code",
   "execution_count": null,
   "id": "998c3376",
   "metadata": {},
   "outputs": [],
   "source": [
    "adata.obs['region_name'] = ''\n",
    "\n",
    "region_name_mappings = {\n",
    "    'Dev16126_Quad_MB2_H': {\n",
    "        0: 'Tendon (Throughout)', #\n",
    "        1: 'Muscle LCT', #\n",
    "        2: 'Tendon LCT (Inner, Throughout)', \n",
    "        3: 'Skeletal Muscle', \n",
    "        4: 'Tendon LCT (Outer, MTJ)', \n",
    "        5: 'Tendon LCT (Inner, ENTH-MB)',\n",
    "        6: 'Muscle LCT'\n",
    "    },\n",
    "    'Dev16126_Ach_EnthMB_H': {\n",
    "        0: 'Tendon (Throughout)', #\n",
    "        1: 'Tendon (ENTH)', #\n",
    "        2: 'Tendon (MB-MTJ)', \n",
    "        3: 'Tendon (ENTH-MB)', \n",
    "        4: 'Tendon LCT (Outer)', \n",
    "        5: 'Skeletal Muscle',\n",
    "        6: 'Tendon LCT (Inner)'\n",
    "    },\n",
    "    'Dev16126_Quad_MB_H': {\n",
    "        0: 'Skeletal Muscle', #\n",
    "        1: 'Muscle LCT', #\n",
    "        2: 'Tendon (ENTH-MB)', \n",
    "        3: 'Tendon (MB-MTJ)', \n",
    "        4: 'Tendon LCT (Outer, MTJ)', \n",
    "        5: 'Tendon LCT (Outer, ENTH-MB)',\n",
    "        6: 'Tendon LCT (Outer, MB-MTJ)'\n",
    "    }\n",
    "}\n",
    "\n",
    "if 'region_name' not in adata.obs.columns:\n",
    "    adata.obs['region_name'] = ''\n",
    "\n",
    "# Iterate over each sample and apply the custom mapping\n",
    "for sample_name, region_names in region_name_mappings.items():\n",
    "    mask = adata.obs['sample'] == sample_name\n",
    "    cluster_values = adata.obs['clusters'][mask].astype(int)\n",
    "    region_name_values = np.vectorize(region_names.get)(cluster_values)\n",
    "    adata.obs['region_name'][mask] = pd.Categorical(region_name_values)"
   ]
  },
  {
   "cell_type": "code",
   "execution_count": null,
   "id": "c8cfeebe",
   "metadata": {},
   "outputs": [],
   "source": [
    "adata.obs[['sample','region_name']].value_counts()"
   ]
  },
  {
   "cell_type": "code",
   "execution_count": null,
   "id": "45ea8dc0",
   "metadata": {},
   "outputs": [],
   "source": [
    "for samplename in adata.obs['sample'].unique():\n",
    "    slide = select_slide(adata, samplename)\n",
    "    with mpl.rc_context({'figure.figsize': (5, 6)}):\n",
    "        sc.pl.spatial(slide, color=['region_name'],\n",
    "                      size=1.1, alpha=1,\n",
    "                      img_key='hires',\n",
    "                      save=f'_{samplename}_annotated_region_clusters_spatialmap2.svg'\n",
    "                    )"
   ]
  },
  {
   "cell_type": "markdown",
   "id": "3dccaf64",
   "metadata": {},
   "source": [
    "# Cell abundance by clustering and histology-based annotation"
   ]
  },
  {
   "cell_type": "code",
   "execution_count": null,
   "id": "f69fc969",
   "metadata": {
    "scrolled": false
   },
   "outputs": [],
   "source": [
    "from cell2location.plt.plot_heatmap import clustermap\n",
    "\n",
    "for samplename in adata.obs['sample'].unique():\n",
    "    slide = select_slide(adata, samplename)\n",
    "    slide.X = slide.layers['normcounts'].copy()\n",
    "    \n",
    "    regions = slide.obs['region_name'].unique()\n",
    "    cell_type_region_abundance_df = pd.DataFrame(index=slide.uns['mod']['factor_names'],\n",
    "                                                 columns=regions)\n",
    "    \n",
    "    for region in regions:\n",
    "        mask = slide.obs['region_name'] == region\n",
    "        cell_type_region_abundance_df[region] = slide.obs.loc[mask, slide.uns['mod']['factor_names']].mean(0)\n",
    "    \n",
    "    cell_type_region_abundance_norm = (cell_type_region_abundance_df.T / cell_type_region_abundance_df.sum(1)).T\n",
    "\n",
    "    \n",
    "    mpl.rc_file_defaults()\n",
    "    mpl.rcParams['pdf.fonttype'] = 42 # enables correct plotting of text\n",
    "    with mpl.rc_context({'font.size': 8, 'axes.facecolor': \"white\"}):\n",
    "        clustermap(cell_type_region_abundance_norm, figure_size=(4, 5), \n",
    "                   cmap='RdPu', log=False, fun_type='dotplot',\n",
    "                   cluster_rows=True, cluster_cols=True)\n",
    "        plt.savefig(os.path.join(FIGURES_FOLDERNAME, f\"{samplename}_histology_annotation_ct_abundance_dotplot.svg\"),\n",
    "                        bbox_inches='tight')\n",
    "        plt.show()\n",
    "        "
   ]
  },
  {
   "cell_type": "markdown",
   "id": "e4d8384a",
   "metadata": {},
   "source": [
    "# Identifying groups of co-located cell types using matrix factorisation"
   ]
  },
  {
   "cell_type": "markdown",
   "id": "7ef94e67",
   "metadata": {},
   "source": [
    "What cell types can be assumed to co-locate?\n",
    "\n",
    "Three types of fibroblasts co-locating and communicating. Likely to be closely located to the endothelial and nervous system structures as well as immune cells. "
   ]
  },
  {
   "cell_type": "code",
   "execution_count": null,
   "id": "12e8b80d",
   "metadata": {
    "scrolled": true
   },
   "outputs": [],
   "source": [
    "from cell2location import run_colocation\n",
    "res_dict, adata = run_colocation(\n",
    "    adata,\n",
    "    #verbose=True,\n",
    "    model_name='CoLocatedGroupsSklearnNMF',\n",
    "    return_all=True,\n",
    "    train_args={\n",
    "      'n_fact': np.arange(5, 15),\n",
    "      'n_restarts': 5, # number of training restarts\n",
    "      'sample_name_col': 'sample', # columns in adata_vis.obs that identifies sample\n",
    "      'mode': 'normal',\n",
    "      'n_type': 'restart', \n",
    "      'n_iter': 20000, # maximum number of training iterations\n",
    "    },\n",
    "    # the hyperparameters of NMF can be also adjusted:\n",
    "    model_kwargs={'alpha': 0.01, 'init': 'random', \"nmf_kwd_args\": {\"tol\": 0.000001}},\n",
    "    export_args={'path': f'{run_name}/CoLocatedComb/'}\n",
    ")\n"
   ]
  },
  {
   "cell_type": "code",
   "execution_count": null,
   "id": "9a4df440",
   "metadata": {},
   "outputs": [],
   "source": [
    "mod_ch = res_dict['n_fact12']['mod']\n",
    "mod_ch.plot_gene_loadings(mod_ch.var_names_read, mod_ch.var_names_read,\n",
    "                        fact_filt=mod_ch.fact_filt,\n",
    "                        loadings_attr='cell_type_fractions',\n",
    "                        gene_fact_name='cell_type_fractions',\n",
    "                        fun_type='dotplot', #or heatmap\n",
    "                        cmap='RdPu', figsize=[10, 4])\n",
    "plt.savefig(os.path.join(FIGURES_FOLDERNAME, 'n_fact12.svg'))\n",
    "plt.show()"
   ]
  },
  {
   "cell_type": "code",
   "execution_count": null,
   "id": "08723beb",
   "metadata": {},
   "outputs": [],
   "source": [
    "mod_ch = res_dict['n_fact5']['mod']\n",
    "mod_ch.plot_gene_loadings(mod_ch.var_names_read, mod_ch.var_names_read,\n",
    "                        fact_filt=mod_ch.fact_filt,\n",
    "                        loadings_attr='cell_type_fractions',\n",
    "                        gene_fact_name='cell_type_fractions',\n",
    "                        fun_type='dotplot', #or heatmap\n",
    "                        cmap='RdPu', figsize=[10, 4])\n",
    "plt.savefig(os.path.join(FIGURES_FOLDERNAME, 'n_fact5.svg'))\n",
    "plt.show()"
   ]
  },
  {
   "cell_type": "code",
   "execution_count": null,
   "id": "3f5f0b3f",
   "metadata": {},
   "outputs": [],
   "source": [
    "# extract parameters into DataFrames\n",
    "mod_ch.sample2df(node_name='nUMI_factors', ct_node_name = 'cell_type_factors')\n",
    "\n",
    "# export results to scanpy object\n",
    "adata = mod_ch.annotate_adata(adata) # as columns to .obs\n",
    "adata = mod_ch.export2adata(adata, slot_name='mod_sklearn') # as a slot in .uns\n",
    "\n",
    "# print the fraction of cells of each type located to each combination\n",
    "mod_ch.print_gene_loadings(loadings_attr='cell_type_fractions',\n",
    "                         gene_fact_name='cell_type_fractions')"
   ]
  },
  {
   "cell_type": "code",
   "execution_count": null,
   "id": "6976c863",
   "metadata": {},
   "outputs": [],
   "source": [
    "mod_ch.location_factors_df.columns"
   ]
  },
  {
   "cell_type": "code",
   "execution_count": null,
   "id": "789e9b96",
   "metadata": {
    "scrolled": false
   },
   "outputs": [],
   "source": [
    "for samplename in adata.obs['sample'].unique():\n",
    "    slide = select_slide(adata, samplename)\n",
    "    # plot cell density in each combination\n",
    "    with mpl.rc_context({'figure.figsize': (5, 7), 'axes.facecolor': 'black'}):\n",
    "        sc.pl.spatial(slide,\n",
    "                      cmap='inferno',\n",
    "                      color=mod_ch.location_factors_df.columns,\n",
    "                      #color=mod_ch.location_factors_df.mean_nUMI_factorsfact_12.name,\n",
    "                      ncols=6, \n",
    "                      size=1.2, img_key='hires', \n",
    "                      alpha_img=0,\n",
    "                      vmin=0, vmax='p98',\n",
    "                      #save=os.path.join(FIGURES_FOLDERNAME, f'{samplename}_nfact5_celldensity.svg')\n",
    "                     )"
   ]
  },
  {
   "cell_type": "code",
   "execution_count": null,
   "id": "d63ae423",
   "metadata": {},
   "outputs": [],
   "source": [
    "adata"
   ]
  },
  {
   "cell_type": "code",
   "execution_count": null,
   "id": "b8f787cb",
   "metadata": {},
   "outputs": [],
   "source": [
    "# Save anndata object with results\n",
    "adata_file = f\"{run_name}/sp_full.h5ad\"\n",
    "adata.write(adata_file)"
   ]
  },
  {
   "cell_type": "markdown",
   "id": "8c0b27b0",
   "metadata": {},
   "source": [
    "# Cell-type specific gene expression"
   ]
  },
  {
   "cell_type": "code",
   "execution_count": null,
   "id": "ef59db64",
   "metadata": {},
   "outputs": [],
   "source": [
    "adata_file = f\"{run_name}/sp_full.h5ad\"\n",
    "adata = sc.read_h5ad(adata_file)"
   ]
  },
  {
   "cell_type": "code",
   "execution_count": null,
   "id": "49063eb0",
   "metadata": {},
   "outputs": [],
   "source": [
    "# Compute expected expression per cell type\n",
    "expected_dict = mod2.module.model.compute_expected_per_cell_type(\n",
    "    mod2.samples[\"post_sample_q05\"], mod2.adata_manager\n",
    ")\n",
    "\n",
    "# Add to anndata layers\n",
    "for i, n in enumerate(mod2.factor_names_):\n",
    "    adata.layers[n] = expected_dict['mu'][i]"
   ]
  },
  {
   "cell_type": "code",
   "execution_count": null,
   "id": "2fc294e0",
   "metadata": {},
   "outputs": [],
   "source": [
    "adata.layers"
   ]
  },
  {
   "cell_type": "code",
   "execution_count": null,
   "id": "f75a6e93",
   "metadata": {},
   "outputs": [],
   "source": [
    "import matplotlib.pyplot as plt\n",
    "import scanpy as sc\n",
    "import numpy as np\n",
    "\n",
    "\n",
    "def plot_genes_per_cell_type(slide, genes, ctypes):\n",
    "    n_genes = len(genes)\n",
    "    n_ctypes = len(ctypes)\n",
    "    fig, axs = plt.subplots(\n",
    "        nrows=n_genes, ncols=n_ctypes + 1, figsize=(4.5 * (n_ctypes + 1) + 2, 5 * n_genes + 1), squeeze=False\n",
    "    )\n",
    "    # axs = axs.reshape((n_genes, n_ctypes+1))\n",
    "\n",
    "    # plots of every gene\n",
    "    for j in range(n_genes):\n",
    "        # limit color scale at 99.2% quantile of gene expression (computed across cell types)\n",
    "        quantile_across_ct = np.array(\n",
    "            [\n",
    "                np.quantile(slide.layers[n][:, slide.var[\"SYMBOL\"] == genes[j]].toarray(), 0.992)\n",
    "                for n in slide.uns[\"mod\"][\"factor_names\"]\n",
    "            ]\n",
    "        )\n",
    "        quantile_across_ct = np.partition(quantile_across_ct.flatten(), -2)[-2]\n",
    "        sc.pl.spatial(\n",
    "            slide,\n",
    "            cmap=\"magma\",\n",
    "            color=genes[j],\n",
    "            # layer=ctypes[i],\n",
    "            gene_symbols=\"SYMBOL\",\n",
    "            ncols=4,\n",
    "            size=1.3,\n",
    "            img_key=\"hires\",\n",
    "            # limit color scale at 99.2% quantile of gene expression\n",
    "            vmin=0,\n",
    "            vmax=\"p99.2\",\n",
    "            ax=axs[j, 0],\n",
    "            show=False,\n",
    "        )\n",
    "\n",
    "        # plots of every cell type\n",
    "        for i in range(n_ctypes):\n",
    "            sc.pl.spatial(\n",
    "                slide,\n",
    "                cmap=\"magma\",\n",
    "                color=genes[j],\n",
    "                layer=ctypes[i],\n",
    "                gene_symbols=\"SYMBOL\",\n",
    "                ncols=4,\n",
    "                size=1.3,\n",
    "                img_key=\"hires\",\n",
    "                # limit color scale at 99.2% quantile of gene expression\n",
    "                vmin=0,\n",
    "                vmax=quantile_across_ct,\n",
    "                ax=axs[j, i + 1],\n",
    "                show=False,\n",
    "            )\n",
    "            axs[j, i + 1].set_title(f\"{genes[j]} {ctypes[i]}\")\n",
    "\n",
    "    return fig, axs"
   ]
  },
  {
   "cell_type": "code",
   "execution_count": null,
   "id": "356ddf3b",
   "metadata": {},
   "outputs": [],
   "source": [
    "adata.var['SYMBOL'] = adata.var['Gene']"
   ]
  },
  {
   "cell_type": "code",
   "execution_count": null,
   "id": "c239d033",
   "metadata": {},
   "outputs": [],
   "source": [
    "# list cell types and genes for plotting\n",
    "ctypes = ['ABI3BP GAS2 Fibroblasts 1', 'ABI3BP GAS2 Fibroblasts 2', \n",
    "          'FGF14 THBS4 Fibroblasts', 'NEGR1 SCN7A Fibroblasts', \n",
    "          'COL6A6 FNDC1 Fibroblasts', 'COL3A1 PI16 Fibroblasts']\n",
    "genes = ['SCX', 'TNMD', 'FMOD', 'MKX', 'EGR1']\n",
    "\n",
    "with mpl.rc_context({'axes.facecolor':  'black'}):\n",
    "    # select one slide\n",
    "    slide = select_slide(adata, 'Dev16126_Quad_MB2_H')\n",
    "    plot_genes_per_cell_type(slide, genes, ctypes)\n",
    "    plt.savefig(os.path.join(FIGURES_FOLDERNAME, 'Dev16126_Quad_MB2_H_tendoncell_ByCellType.svg'))\n",
    "    plt.show()"
   ]
  },
  {
   "cell_type": "code",
   "execution_count": null,
   "id": "1c9d18e1",
   "metadata": {},
   "outputs": [],
   "source": [
    "# list cell types and genes for plotting\n",
    "ctypes = ['ABI3BP GAS2 Fibroblasts 1', 'ABI3BP GAS2 Fibroblasts 2', \n",
    "          'FGF14 THBS4 Fibroblasts', 'NEGR1 SCN7A Fibroblasts', \n",
    "          'COL6A6 FNDC1 Fibroblasts', 'COL3A1 PI16 Fibroblasts']\n",
    "genes = ['SCX', 'TNMD', 'FMOD', 'MKX', 'EGR1']\n",
    "\n",
    "with mpl.rc_context({'axes.facecolor':  'black'}):\n",
    "    # select one slide\n",
    "    slide = select_slide(adata, 'Dev16126_Quad_MB_H')\n",
    "    plot_genes_per_cell_type(slide, genes, ctypes)\n",
    "    plt.savefig(os.path.join(FIGURES_FOLDERNAME, 'Dev16126_Quad_MB_H_tendoncell_ByCellType.svg'))\n",
    "    plt.show()"
   ]
  },
  {
   "cell_type": "code",
   "execution_count": null,
   "id": "1f54efbb",
   "metadata": {
    "scrolled": true
   },
   "outputs": [],
   "source": [
    "# list cell types and genes for plotting\n",
    "ctypes = ['ABI3BP GAS2 Fibroblasts 1', 'ABI3BP GAS2 Fibroblasts 2', \n",
    "          'FGF14 THBS4 Fibroblasts', 'NEGR1 SCN7A Fibroblasts', \n",
    "          'COL6A6 FNDC1 Fibroblasts', 'COL3A1 PI16 Fibroblasts']\n",
    "#genes = [, 'NES', 'TPPP3']\n",
    "genes = [\n",
    "    'ITGB1',   # CD29\n",
    "    'CD44',\n",
    "    'PDGFRA',  # PDGFRα\n",
    "    'VIM',     # Vimentin\n",
    "    'NES',     # Nestin\n",
    "    #'POU5F1',  # Oct4\n",
    "    'SOX9',\n",
    "    'TWIST1',\n",
    "    'ACTA2', 'THY1', 'MCAM', 'RGS5'\n",
    "]\n",
    "\n",
    "with mpl.rc_context({'axes.facecolor':  'black'}):\n",
    "    # select one slide\n",
    "    slide = select_slide(adata, 'Dev16126_Quad_MB_H')\n",
    "    plot_genes_per_cell_type(slide, genes, ctypes);\n",
    "    plt.savefig(os.path.join(FIGURES_FOLDERNAME, 'Dev16126_Quad_MB_H_tspc_ByCellType.svg'))"
   ]
  },
  {
   "cell_type": "code",
   "execution_count": null,
   "id": "0c0f1203",
   "metadata": {},
   "outputs": [],
   "source": [
    "# list cell types and genes for plotting\n",
    "ctypes = ['ABI3BP GAS2 Fibroblasts 1', 'ABI3BP GAS2 Fibroblasts 2', \n",
    "          'FGF14 THBS4 Fibroblasts', 'NEGR1 SCN7A Fibroblasts', \n",
    "          'COL6A6 FNDC1 Fibroblasts', 'COL3A1 PI16 Fibroblasts']\n",
    "genes = ['DIAPH3', 'MKI67', 'TOP2A', 'CENPK']\n",
    "\n",
    "with mpl.rc_context({'axes.facecolor':  'black'}):\n",
    "    # select one slide\n",
    "    slide = select_slide(adata, 'Dev16126_Quad_MB2_H')\n",
    "    plot_genes_per_cell_type(slide, genes, ctypes)\n",
    "    plt.savefig(os.path.join(FIGURES_FOLDERNAME, 'Dev16126_Quad_MB2_H_dividing_ByCellType.svg'))\n",
    "    plt.show()"
   ]
  },
  {
   "cell_type": "code",
   "execution_count": null,
   "id": "28840bf7",
   "metadata": {},
   "outputs": [],
   "source": [
    "# list cell types and genes for plotting\n",
    "ctypes = ['ABI3BP GAS2 Fibroblasts 1', 'ABI3BP GAS2 Fibroblasts 2', \n",
    "          'FGF14 THBS4 Fibroblasts', 'NEGR1 SCN7A Fibroblasts', \n",
    "          'COL6A6 FNDC1 Fibroblasts', 'COL3A1 PI16 Fibroblasts']\n",
    "genes = ['DIAPH3', 'MKI67', 'TOP2A', 'CENPK']\n",
    "\n",
    "with mpl.rc_context({'axes.facecolor':  'black'}):\n",
    "    # select one slide\n",
    "    slide = select_slide(adata, 'Dev16126_Quad_MB_H')\n",
    "    plot_genes_per_cell_type(slide, genes, ctypes)\n",
    "    plt.savefig(os.path.join(FIGURES_FOLDERNAME, 'Dev16126_Quad_MB_H_dividing_ByCellType.svg'))\n",
    "    plt.show()"
   ]
  },
  {
   "cell_type": "code",
   "execution_count": null,
   "id": "1f9b7e5c",
   "metadata": {},
   "outputs": [],
   "source": [
    "# Save anndata object with results\n",
    "adata_file = f\"{run_name}/sp_full.h5ad\"\n",
    "adata.write(adata_file)"
   ]
  },
  {
   "cell_type": "code",
   "execution_count": null,
   "id": "706a1587",
   "metadata": {},
   "outputs": [],
   "source": [
    "adata = sc.read_h5ad(f\"{run_name}/sp_full.h5ad\")"
   ]
  },
  {
   "cell_type": "code",
   "execution_count": null,
   "id": "72d3fd2b",
   "metadata": {},
   "outputs": [],
   "source": [
    "adata.obs.columns"
   ]
  },
  {
   "cell_type": "code",
   "execution_count": null,
   "id": "16b8f64f",
   "metadata": {},
   "outputs": [],
   "source": [
    "genes = ['EMCN', 'PECAM1', 'LOX', 'LTBP4', 'MFAP4', 'THSD4']\n",
    "\n",
    "ctypes = ['vasEndothelial Cells', 'lymEndothelial Cells']\n",
    "with mpl.rc_context({'axes.facecolor':  'black'}):\n",
    "    # select one slide\n",
    "    slide = select_slide(adata, 'Dev16126_Quad_MB2_H')\n",
    "    plot_genes_per_cell_type(slide, genes, ctypes)\n",
    "    #plt.savefig(os.path.join(FIGURES_FOLDERNAME, 'Dev16126_Quad_MB_H_dividing_ByCellType.svg'))\n",
    "    plt.show()"
   ]
  },
  {
   "cell_type": "code",
   "execution_count": null,
   "id": "3002a1c0",
   "metadata": {},
   "outputs": [],
   "source": [
    "genes = ['ELN', 'EMILIN1', 'FBLN5', 'LOX', 'LTBP4', 'MFAP4', 'THSD4']\n",
    "\n",
    "ctypes = ['ABI3BP GAS2 Fibroblasts 1', 'ABI3BP GAS2 Fibroblasts 2', \n",
    "          'FGF14 THBS4 Fibroblasts', 'NEGR1 SCN7A Fibroblasts', \n",
    "          'COL6A6 FNDC1 Fibroblasts', 'COL3A1 PI16 Fibroblasts']\n",
    "with mpl.rc_context({'axes.facecolor':  'black'}):\n",
    "    # select one slide\n",
    "    slide = select_slide(adata, 'Dev16126_Quad_MB2_H')\n",
    "    plot_genes_per_cell_type(slide, genes, ctypes)\n",
    "    #plt.savefig(os.path.join(FIGURES_FOLDERNAME, 'Dev16126_Quad_MB_H_dividing_ByCellType.svg'))\n",
    "    plt.show()"
   ]
  },
  {
   "cell_type": "code",
   "execution_count": null,
   "id": "25ef6ef5",
   "metadata": {},
   "outputs": [],
   "source": [
    "genes = [#'AXIN2', \n",
    "         'PDGFRA', \n",
    "         'TPPP3']\n",
    "\n",
    "ctypes = ['ABI3BP GAS2 Fibroblasts 1', 'ABI3BP GAS2 Fibroblasts 2', \n",
    "          'FGF14 THBS4 Fibroblasts', 'NEGR1 SCN7A Fibroblasts', \n",
    "          'COL6A6 FNDC1 Fibroblasts', 'COL3A1 PI16 Fibroblasts']\n",
    "with mpl.rc_context({'axes.facecolor':  'black'}):\n",
    "    # select one slide\n",
    "    slide = select_slide(adata, 'Dev16126_Quad_MB2_H')\n",
    "    plot_genes_per_cell_type(slide, genes, ctypes)\n",
    "    #plt.savefig(os.path.join(FIGURES_FOLDERNAME, 'Dev16126_Quad_MB_H_dividing_ByCellType.svg'))\n",
    "    plt.show()"
   ]
  }
 ],
 "metadata": {
  "kernelspec": {
   "display_name": "cell2loc_env",
   "language": "python",
   "name": "cell2loc_env"
  },
  "language_info": {
   "codemirror_mode": {
    "name": "ipython",
    "version": 3
   },
   "file_extension": ".py",
   "mimetype": "text/x-python",
   "name": "python",
   "nbconvert_exporter": "python",
   "pygments_lexer": "ipython3",
   "version": "3.9.18"
  }
 },
 "nbformat": 4,
 "nbformat_minor": 5
}
