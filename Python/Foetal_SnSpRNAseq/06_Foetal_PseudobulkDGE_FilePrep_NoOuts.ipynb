{
 "cells": [
  {
   "cell_type": "code",
   "execution_count": null,
   "id": "c88c1d82",
   "metadata": {},
   "outputs": [],
   "source": [
    "# Import dependencies\n",
    "%matplotlib inline\n",
    "import os\n",
    "import scanpy as sc\n",
    "import seaborn as sns\n",
    "import matplotlib\n",
    "import matplotlib.pyplot as plt\n",
    "import pandas as pd\n",
    "import anndata as ad\n",
    "import numpy as np\n",
    "\n",
    "#from pydeseq2.dds import DeseqDataSet\n",
    "#from pydeseq2.ds import DeseqStats\n",
    "\n",
    "matplotlib.rcParams['font.family'] = 'sans-serif'\n",
    "\n",
    "# Initialize random seed\n",
    "import random\n",
    "random.seed(111)\n",
    "\n",
    "# Print date and time:\n",
    "import datetime\n",
    "e = datetime.datetime.now()\n",
    "print (\"Current date and time = %s\" % e)\n",
    "\n",
    "# set a working directory\n",
    "wdir = \"/mnt/da8aa2c4-0136-465b-87a2-d12a59afec55/akurjan/analysis/notebooks\"\n",
    "os.chdir( wdir )\n",
    "\n",
    "# folder structures\n",
    "HARMONY_FOLDERNAME = \"foetal/results/Harmony/\"\n",
    "RESULTS_FOLDERNAME = \"foetal/results/DGE/\"\n",
    "FIGURES_FOLDERNAME = \"foetal/figures/DGE/\"\n",
    "\n",
    "if not os.path.exists(RESULTS_FOLDERNAME):\n",
    "    os.makedirs(RESULTS_FOLDERNAME)\n",
    "if not os.path.exists(FIGURES_FOLDERNAME):\n",
    "    os.makedirs(FIGURES_FOLDERNAME)\n",
    "\n",
    "# Set folder for saving figures into\n",
    "sc.settings.figdir = FIGURES_FOLDERNAME\n",
    "\n",
    "def savesvg(fname: str, fig, folder: str=FIGURES_FOLDERNAME) -> None:\n",
    "    \"\"\"\n",
    "    Save figure as vector-based SVG image format.\n",
    "    \"\"\"\n",
    "    fig.savefig(os.path.join(folder, fname), format='svg')\n",
    "\n",
    "# Set other settings\n",
    "sc.settings.verbosity = 3 # verbosity: errors (0), warnings (1), info (2), hints (3)\n",
    "sc.logging.print_versions()\n",
    "sc.set_figure_params(dpi=150, fontsize=10, dpi_save=600)"
   ]
  },
  {
   "cell_type": "code",
   "execution_count": null,
   "id": "86d2eb4c",
   "metadata": {},
   "outputs": [],
   "source": [
    "adata = sc.read_h5ad(os.path.join(HARMONY_FOLDERNAME, '{}.h5ad'.format('dev_harmony')))\n",
    "adata"
   ]
  },
  {
   "cell_type": "code",
   "execution_count": null,
   "id": "fc4f6853",
   "metadata": {},
   "outputs": [],
   "source": [
    "adata.X.max()"
   ]
  },
  {
   "cell_type": "code",
   "execution_count": null,
   "id": "0982cdf2",
   "metadata": {},
   "outputs": [],
   "source": [
    "sc.pp.filter_cells(adata, min_genes=200)\n",
    "sc.pp.filter_genes(adata, min_cells=3)\n",
    "adata"
   ]
  },
  {
   "cell_type": "code",
   "execution_count": null,
   "id": "77cee493",
   "metadata": {},
   "outputs": [],
   "source": [
    "adata.obs[\"bulksample\"] = [\n",
    "    f\"{rep}_{l}\" for rep, l in zip(adata.obs[\"sampletype\"], adata.obs[\"age\"])\n",
    "]"
   ]
  },
  {
   "cell_type": "code",
   "execution_count": null,
   "id": "f3d904b9",
   "metadata": {},
   "outputs": [],
   "source": [
    "adata.obs[\"C_scANVI\"] = [ct.replace(\" \", \"_\") for ct in adata.obs[\"C_scANVI\"]]\n",
    "adata.obs[\"C_scANVI\"] = [ct.replace(\"+\", \"\") for ct in adata.obs[\"C_scANVI\"]]\n",
    "adata.obs[\"C_scANVI\"]"
   ]
  },
  {
   "cell_type": "code",
   "execution_count": null,
   "id": "ff43e18e",
   "metadata": {},
   "outputs": [],
   "source": [
    "adata.obs[\"sample\"] = adata.obs[\"sample\"].astype(\"category\")\n",
    "adata.obs[\"age\"] = adata.obs[\"age\"].astype(\"category\")\n",
    "adata.obs[\"bulksample\"] = adata.obs[\"bulksample\"].astype(\"category\")\n",
    "adata.obs[\"C_scANVI\"] = adata.obs[\"C_scANVI\"].astype(\"category\")\n",
    "adata.obs[\"libbatch\"] = adata.obs[\"libbatch\"].astype(\"category\")\n",
    "adata.obs[\"type\"] = adata.obs[\"type\"].astype(\"category\")"
   ]
  },
  {
   "cell_type": "markdown",
   "id": "958f0b76",
   "metadata": {},
   "source": [
    "# Pseudobulking\n",
    "\n",
    "subset by cell type\n",
    "then subset by sample\n",
    "add age condition\n",
    "add replicate number column"
   ]
  },
  {
   "cell_type": "code",
   "execution_count": null,
   "id": "38cd388f",
   "metadata": {},
   "outputs": [],
   "source": [
    "adata.obs.groupby(['sampletype', 'age']).size()"
   ]
  },
  {
   "cell_type": "code",
   "execution_count": null,
   "id": "9e646545",
   "metadata": {},
   "outputs": [],
   "source": [
    "for cell_type in adata.obs['C_scANVI'].unique():\n",
    "    print(cell_type)"
   ]
  },
  {
   "cell_type": "code",
   "execution_count": null,
   "id": "82f79674",
   "metadata": {},
   "outputs": [],
   "source": [
    "# subset by cell type\n",
    "#cell_subset = {}\n",
    "#for cell_type in adata.obs['C_scANVI'].unique():\n",
    "#    cell_subset[cell_type] = adata[adata.obs['C_scANVI'] == cell_type]\n",
    "    \n",
    "#cell_subset"
   ]
  },
  {
   "cell_type": "code",
   "execution_count": null,
   "id": "7a006ece",
   "metadata": {},
   "outputs": [],
   "source": [
    "for i, sample in enumerate(adata.obs['bulksample'].unique()):\n",
    "    print(i, sample)"
   ]
  },
  {
   "cell_type": "code",
   "execution_count": null,
   "id": "3097af6e",
   "metadata": {},
   "outputs": [],
   "source": [
    "len(adata.obs['bulksample'].unique())"
   ]
  },
  {
   "cell_type": "code",
   "execution_count": null,
   "id": "42426a77",
   "metadata": {},
   "outputs": [],
   "source": [
    "NUM_OF_CELL_PER_DONOR = 30 # to filter out donors with less than this amount of cells\n",
    "\n",
    "\n",
    "def aggregate_and_filter(\n",
    "    adata,\n",
    "    #cell_identity,\n",
    "    donor_key=\"bulksample\",\n",
    "    condition_key=\"age\",\n",
    "    cell_identity_key=\"C_scANVI\",\n",
    "    #obs_to_keep=[],  # which additional metadata to keep, e.g. gender, age, etc.\n",
    "    replicates_per_patient=3,\n",
    "):\n",
    "    pbs_cell_type_dict = {}\n",
    "    for i, cell_type in enumerate(adata.obs[cell_identity_key].cat.categories):\n",
    "        print(\n",
    "            f'Processing {cell_type} ({i+1} out of {len(adata.obs[cell_identity_key].cat.categories)})...'\n",
    "        )\n",
    "        # subset adata to the given cell identity\n",
    "        adata_cell_pop = adata[adata.obs[cell_identity_key] == cell_type].copy()\n",
    "        # check which donors to keep according to the number of cells specified with NUM_OF_CELL_PER_DONOR\n",
    "        size_by_donor = adata_cell_pop.obs.groupby([donor_key]).size()\n",
    "        donors_to_drop = [\n",
    "            donor\n",
    "            for donor in size_by_donor.index\n",
    "            if size_by_donor[donor] <= NUM_OF_CELL_PER_DONOR\n",
    "        ]\n",
    "        if len(donors_to_drop) > 0:\n",
    "            print(\"Dropping the following samples:\")\n",
    "            print(donors_to_drop)\n",
    "\n",
    "        pbs = []\n",
    "        \n",
    "        for i, sample in enumerate(adata_cell_pop.obs[donor_key].unique()):\n",
    "            print(f\"\\tProcessing donor {i+1} out of {len(adata_cell_pop.obs[donor_key].unique())}...\", end=\"\\r\")\n",
    "            if sample not in donors_to_drop:\n",
    "                samp_cell_subset = adata_cell_pop[adata_cell_pop.obs[donor_key] == sample]\n",
    "                samp_cell_subset.X = samp_cell_subset.layers['counts'] #make sure to use raw data\n",
    "\n",
    "                # create pseudoreplicates\n",
    "                indices = list(samp_cell_subset.obs_names)\n",
    "                random.shuffle(indices)\n",
    "                indices = np.array_split(np.array(indices), replicates_per_patient)\n",
    "\n",
    "                for k, pseudo_rep in enumerate(indices):\n",
    "\n",
    "                    rep_adata = sc.AnnData(X = samp_cell_subset.X.sum(axis = 0),\n",
    "                                           var = samp_cell_subset.var[[]])\n",
    "\n",
    "                    rep_adata.obs_names = [sample + '_' + str(k)]\n",
    "                    rep_adata.obs['libbatch'] = samp_cell_subset.obs['libbatch'].iloc[0]\n",
    "                    rep_adata.obs[condition_key] = samp_cell_subset.obs[condition_key].iloc[0]\n",
    "                    rep_adata.obs[cell_identity_key] = samp_cell_subset.obs[cell_identity_key].iloc[0]\n",
    "                    rep_adata.obs['sample'] = samp_cell_subset.obs['sample'].iloc[0]\n",
    "                    rep_adata.obs['type'] = samp_cell_subset.obs['type'].iloc[0]\n",
    "                    rep_adata.obs['sampletype'] = samp_cell_subset.obs['sampletype'].iloc[0]\n",
    "                    rep_adata.obs['replicate'] = k\n",
    "\n",
    "                    pbs.append(rep_adata)\n",
    "        print(\"\\n\")   \n",
    "        pbs_cell_type_dict[cell_type] = sc.concat(pbs)\n",
    "    \n",
    "    return pbs_cell_type_dict"
   ]
  },
  {
   "cell_type": "code",
   "execution_count": null,
   "id": "38084197",
   "metadata": {},
   "outputs": [],
   "source": [
    "pb = aggregate_and_filter(adata)"
   ]
  },
  {
   "cell_type": "code",
   "execution_count": null,
   "id": "01690d49",
   "metadata": {},
   "outputs": [],
   "source": [
    "pb"
   ]
  },
  {
   "cell_type": "code",
   "execution_count": null,
   "id": "b3654bcc",
   "metadata": {},
   "outputs": [],
   "source": [
    "pb['lymEndothelial_Cells'].X"
   ]
  },
  {
   "cell_type": "code",
   "execution_count": null,
   "id": "6958009a",
   "metadata": {},
   "outputs": [],
   "source": [
    "for celltype in pb.keys():\n",
    "    counts = pd.DataFrame(pb[celltype].X, columns = pb[celltype].var_names, index=pb[celltype].obs_names)\n",
    "    counts.T.to_csv(os.path.join(RESULTS_FOLDERNAME, f'counts_matrix_{celltype}.csv'))\n",
    "    metadata = pd.DataFrame(pb[celltype].obs, index=pb[celltype].obs_names)\n",
    "    metadata.to_csv(os.path.join(RESULTS_FOLDERNAME, f'metadata_{celltype}.csv'))"
   ]
  },
  {
   "cell_type": "code",
   "execution_count": null,
   "id": "add20736",
   "metadata": {},
   "outputs": [],
   "source": [
    "# Convert the dictionary values to a list\n",
    "adata_list = list(pb.values())\n",
    "\n",
    "# Concatenate the list of AnnData objects along the rows (axis 0)\n",
    "concatenated_adata = ad.concat(adata_list, index_unique=None, join='outer')\n",
    "\n",
    "# Now, concatenated_adata contains all the data from the dictionary as a single AnnData object\n",
    "concatenated_adata"
   ]
  },
  {
   "cell_type": "code",
   "execution_count": null,
   "id": "4f3173fd",
   "metadata": {},
   "outputs": [],
   "source": [
    "#concatenated_adata.obs_names_make_unique()\n",
    "concatenated_adata.obs"
   ]
  },
  {
   "cell_type": "code",
   "execution_count": null,
   "id": "4efdd83f",
   "metadata": {},
   "outputs": [],
   "source": [
    "concatenated_adata.obs['sampletyperep'] = concatenated_adata.obs.index\n",
    "concatenated_adata.obs.index = concatenated_adata.obs['sampletyperep'].astype('str') + '_' + concatenated_adata.obs['C_scANVI'].astype('str')\n",
    "concatenated_adata.obs"
   ]
  },
  {
   "cell_type": "code",
   "execution_count": null,
   "id": "e5426d3f",
   "metadata": {},
   "outputs": [],
   "source": [
    "counts = pd.DataFrame(concatenated_adata.X, columns = concatenated_adata.var_names, index=concatenated_adata.obs_names)\n",
    "counts.T.to_csv(os.path.join(RESULTS_FOLDERNAME, f'counts_matrix_full.csv'))\n",
    "metadata = pd.DataFrame(concatenated_adata.obs, index=concatenated_adata.obs_names)\n",
    "metadata.to_csv(os.path.join(RESULTS_FOLDERNAME, f'metadata_full.csv'))"
   ]
  },
  {
   "cell_type": "code",
   "execution_count": null,
   "id": "fdd49ca8",
   "metadata": {},
   "outputs": [],
   "source": [
    "counts"
   ]
  },
  {
   "cell_type": "code",
   "execution_count": null,
   "id": "1307f55b",
   "metadata": {},
   "outputs": [],
   "source": [
    "metadata"
   ]
  },
  {
   "cell_type": "code",
   "execution_count": null,
   "id": "5cb70868",
   "metadata": {},
   "outputs": [],
   "source": [
    "counts = pd.DataFrame(pb['ABI3BP_GAS2_Fibroblasts_1'].X, columns = pb['ABI3BP_GAS2_Fibroblasts_1'].var_names)\n",
    "counts"
   ]
  },
  {
   "cell_type": "code",
   "execution_count": null,
   "id": "5333ccc5",
   "metadata": {},
   "outputs": [],
   "source": [
    "pb['ABI3BP_GAS2_Fibroblasts_1'].obs"
   ]
  },
  {
   "cell_type": "code",
   "execution_count": null,
   "id": "982acbda",
   "metadata": {},
   "outputs": [],
   "source": [
    "#     df = pd.DataFrame(columns=[*adata_cell_pop.var_names, *obs_to_keep])\n",
    "#     adata_cell_pop.obs[donor_key] = adata_cell_pop.obs[donor_key].astype(\"category\")\n",
    "#     donors = adata_cell_pop.obs[donor_key].cat.categories\n",
    "#     for i, donor in enumerate(donors):\n",
    "#         print(f\"\\tProcessing donor {i+1} out of {len(donors)}...\", end=\"\\r\")\n",
    "#         if donor not in donors_to_drop:\n",
    "#             adata_donor = adata_cell_pop[adata_cell_pop.obs[donor_key] == donor]\n",
    "#             # create replicates for each donor\n",
    "#             indices = list(adata_donor.obs_names)\n",
    "#             random.shuffle(indices)\n",
    "#             indices = np.array_split(np.array(indices), replicates_per_patient)\n",
    "#             for i, rep_idx in enumerate(indices):\n",
    "#                 adata_replicate = adata_donor[rep_idx]\n",
    "#                 # specify how to aggregate: sum gene expression for each gene for each donor and also keep the condition information\n",
    "#                 agg_dict = {gene: \"sum\" for gene in adata_replicate.var_names}\n",
    "#                 for obs in obs_to_keep:\n",
    "#                     agg_dict[obs] = \"first\"\n",
    "#                 # create a df with all genes, donor and condition info\n",
    "#                 df_donor = pd.DataFrame(adata_replicate.X.A)\n",
    "#                 df_donor.index = adata_replicate.obs_names\n",
    "#                 df_donor.columns = adata_replicate.var_names\n",
    "#                 df_donor = df_donor.join(adata_replicate.obs[obs_to_keep])\n",
    "#                 # aggregate\n",
    "#                 df_donor = df_donor.groupby(donor_key).agg(agg_dict)\n",
    "#                 df_donor[donor_key] = donor\n",
    "#                 df.loc[f\"donor_{donor}_{i}\"] = df_donor.loc[donor]\n",
    "#     print(\"\\n\")\n",
    "#     # create AnnData object from the df\n",
    "#     adata_cell_pop = sc.AnnData(\n",
    "#         df[adata_cell_pop.var_names], obs=df.drop(columns=adata_cell_pop.var_names)\n",
    "#     )\n",
    "#     return adata_cell_pop\n",
    "\n",
    "# obs_to_keep = [\"age\", \"C_scANVI\", \"bulksample\", \"type\", \"sample\", \"libbatch\"]\n",
    "# pbs = []\n",
    "# for i, cell_type in enumerate(adata.obs[\"C_scANVI\"].cat.categories):\n",
    "#     print(\n",
    "#         f'Processing {cell_type} ({i+1} out of {len(adata.obs[\"C_scANVI\"].cat.categories)})...'\n",
    "#     )\n",
    "#     adata_cell_type = aggregate_and_filter(adata, cell_type, obs_to_keep=obs_to_keep)\n",
    "#     pbs.append(adata_cell_type)"
   ]
  }
 ],
 "metadata": {
  "kernelspec": {
   "display_name": "Python [conda env:scib-pipeline-R4.0]",
   "language": "python",
   "name": "conda-env-scib-pipeline-R4.0-py"
  },
  "language_info": {
   "codemirror_mode": {
    "name": "ipython",
    "version": 3
   },
   "file_extension": ".py",
   "mimetype": "text/x-python",
   "name": "python",
   "nbconvert_exporter": "python",
   "pygments_lexer": "ipython3",
   "version": "3.7.12"
  }
 },
 "nbformat": 4,
 "nbformat_minor": 5
}
