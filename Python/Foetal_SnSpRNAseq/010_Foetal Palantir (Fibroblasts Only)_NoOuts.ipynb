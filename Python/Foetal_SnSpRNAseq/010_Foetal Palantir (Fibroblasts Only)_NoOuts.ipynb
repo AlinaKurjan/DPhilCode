{
 "cells": [
  {
   "cell_type": "code",
   "execution_count": null,
   "id": "5e16f23d",
   "metadata": {},
   "outputs": [],
   "source": [
    "# Import dependencies\n",
    "%matplotlib inline\n",
    "import os\n",
    "import numpy as np\n",
    "import scanpy as sc\n",
    "import seaborn as sns\n",
    "import matplotlib\n",
    "import matplotlib.pyplot as plt\n",
    "import pandas as pd\n",
    "import anndata as ad\n",
    "\n",
    "import harmony\n",
    "import harmony.core\n",
    "import harmony.plot\n",
    "import palantir\n",
    "import scvi\n",
    "\n",
    "matplotlib.rcParams['font.family'] = 'sans-serif'\n",
    "\n",
    "# Initialize random seed\n",
    "import random\n",
    "random.seed(111)\n",
    "\n",
    "# Print date and time:\n",
    "import datetime\n",
    "e = datetime.datetime.now()\n",
    "print (\"Current date and time = %s\" % e)\n",
    "\n",
    "# set a working directory\n",
    "wdir = \"/mnt/da8aa2c4-0136-465b-87a2-d12a59afec55/akurjan/analysis/notebooks\"\n",
    "os.chdir( wdir )\n",
    "\n",
    "# folder structures\n",
    "SCVI_FOLDERNAME = \"foetal/results/scVI/\"\n",
    "RESULTS_FOLDERNAME = \"foetal/results/Harmony\"\n",
    "FIGURES_FOLDERNAME = \"foetal/figures/Harmony\"\n",
    "\n",
    "if not os.path.exists(RESULTS_FOLDERNAME):\n",
    "    os.makedirs(RESULTS_FOLDERNAME)\n",
    "if not os.path.exists(FIGURES_FOLDERNAME):\n",
    "    os.makedirs(FIGURES_FOLDERNAME)\n",
    "\n",
    "# Set folder for saving figures into\n",
    "sc.settings.figdir = FIGURES_FOLDERNAME\n",
    "\n",
    "def savesvg(fname: str, fig, folder: str=FIGURES_FOLDERNAME) -> None:\n",
    "    \"\"\"\n",
    "    Save figure as vector-based SVG image format.\n",
    "    \"\"\"\n",
    "    fig.savefig(os.path.join(folder, fname), format='svg')\n",
    "\n",
    "# Set other settings\n",
    "sc.settings.verbosity = 3 # verbosity: errors (0), warnings (1), info (2), hints (3)\n",
    "sc.logging.print_versions()\n",
    "sc.set_figure_params(dpi=150, fontsize=10, dpi_save=600)"
   ]
  },
  {
   "cell_type": "markdown",
   "id": "b9f9b3b4",
   "metadata": {},
   "source": [
    "# Subsetting and scVI/scANVI integration\n",
    "Use scvi-env conda environment"
   ]
  },
  {
   "cell_type": "code",
   "execution_count": null,
   "id": "f2396db3",
   "metadata": {},
   "outputs": [],
   "source": [
    "adata = sc.read_h5ad(os.path.join(SCVI_FOLDERNAME, 'dev_scANVI.h5ad'))\n",
    "adata"
   ]
  },
  {
   "cell_type": "code",
   "execution_count": null,
   "id": "13339a52",
   "metadata": {},
   "outputs": [],
   "source": [
    "adata.obs['C_scANVI'].value_counts()"
   ]
  },
  {
   "cell_type": "code",
   "execution_count": null,
   "id": "fbfeede1",
   "metadata": {},
   "outputs": [],
   "source": [
    "adata.X = adata.layers['counts'].copy()"
   ]
  },
  {
   "cell_type": "code",
   "execution_count": null,
   "id": "366590e9",
   "metadata": {},
   "outputs": [],
   "source": [
    "adata.obs['C_scANVI_orig'] = adata.obs['C_scANVI']\n",
    "\n",
    "adata.obs['C_scANVI'] = np.where(\n",
    "    adata.obs['C_scANVI'] == 'ABI3BP GAS2 Fibroblasts 1', 'ABI3BP GAS2 Fibroblasts', adata.obs['C_scANVI']\n",
    ")\n",
    "adata.obs['C_scANVI'] = np.where(\n",
    "    adata.obs['C_scANVI'] == 'ABI3BP GAS2 Fibroblasts 2', 'ABI3BP GAS2 Fibroblasts', adata.obs['C_scANVI']\n",
    ")\n",
    "#foetal.obs['C_scANVI'] = np.where(\n",
    "#    foetal.obs['C_scANVI'] == 'COL6A6 FNDC1 Fibroblasts', 'COL3A1 PI16 Fibroblasts', foetal.obs['C_scANVI']\n",
    "#)\n",
    "#foetal.obs['C_scANVI'] = np.where(\n",
    "#    foetal.obs['C_scANVI'] == 'Smooth Myocytes', 'Mural Cells', foetal.obs['C_scANVI']\n",
    "#)\n",
    "\n",
    "print(adata.obs['C_scANVI'].value_counts())"
   ]
  },
  {
   "cell_type": "code",
   "execution_count": null,
   "id": "b8b928cb",
   "metadata": {},
   "outputs": [],
   "source": [
    "sc.pl.umap(adata, color=['C_scANVI', 'age', 'sampletype'],\n",
    "          frameon=False, wspace=0.5)"
   ]
  },
  {
   "cell_type": "code",
   "execution_count": null,
   "id": "84b77569",
   "metadata": {},
   "outputs": [],
   "source": [
    "adata.var_names = adata.var_names.astype(str)\n",
    "adata.var_names_make_unique()"
   ]
  },
  {
   "cell_type": "code",
   "execution_count": null,
   "id": "f8075ba4",
   "metadata": {},
   "outputs": [],
   "source": [
    "keep = ['ABI3BP GAS2 Fibroblasts',\n",
    "        'COL3A1 PI16 Fibroblasts',\n",
    "        'COL6A6 FNDC1 Fibroblasts',\n",
    "        'FGF14 THBS4 Fibroblasts', \n",
    "        #'NEGR1 SCN7A Fibroblasts'\n",
    "       ]\n",
    "# Use the boolean mask to subset the AnnData object\n",
    "adata = adata[adata.obs['C_scANVI'].isin(keep)].copy()\n",
    "adata"
   ]
  },
  {
   "cell_type": "markdown",
   "id": "c85ee916",
   "metadata": {},
   "source": [
    "# Data Preparation (count reorganisation to meet Harmony assumptions)"
   ]
  },
  {
   "cell_type": "code",
   "execution_count": null,
   "id": "4ee2a2b9",
   "metadata": {},
   "outputs": [],
   "source": [
    "data_df = pd.DataFrame(adata.X.toarray(), index=adata.obs_names, columns=adata.var_names)\n",
    "data_df"
   ]
  },
  {
   "cell_type": "code",
   "execution_count": null,
   "id": "eac0dafe",
   "metadata": {},
   "outputs": [],
   "source": [
    "layer_df = pd.DataFrame(adata.layers['counts'].toarray(), index=adata.obs_names, columns=adata.var_names)\n",
    "layer_df"
   ]
  },
  {
   "cell_type": "code",
   "execution_count": null,
   "id": "46f7a1a8",
   "metadata": {},
   "outputs": [],
   "source": [
    "adata.obs"
   ]
  },
  {
   "cell_type": "code",
   "execution_count": null,
   "id": "f356c4e5",
   "metadata": {},
   "outputs": [],
   "source": [
    "# sort by categorical age\n",
    "adata.obs['age'] = pd.Categorical(adata.obs['age'], categories=['12w', '17w', '20w'], ordered=True)\n",
    "adata = adata[adata.obs['age'].argsort()]\n",
    "adata.obs "
   ]
  },
  {
   "cell_type": "code",
   "execution_count": null,
   "id": "6cea1c2e",
   "metadata": {},
   "outputs": [],
   "source": [
    "data_df = pd.DataFrame(adata.X.toarray(), index=adata.obs_names, columns=adata.var_names)\n",
    "data_df"
   ]
  },
  {
   "cell_type": "code",
   "execution_count": null,
   "id": "82c93816",
   "metadata": {},
   "outputs": [],
   "source": [
    "layer_df = pd.DataFrame(adata.layers['counts'].toarray(), index=adata.obs_names, columns=adata.var_names)\n",
    "layer_df"
   ]
  },
  {
   "cell_type": "markdown",
   "id": "7f5f1545",
   "metadata": {},
   "source": [
    "the above was to check that adata.obs reorganisation also makes sure that the counts are reogranised correctly."
   ]
  },
  {
   "cell_type": "code",
   "execution_count": null,
   "id": "6f526d72",
   "metadata": {},
   "outputs": [],
   "source": [
    "adata.obs"
   ]
  },
  {
   "cell_type": "code",
   "execution_count": null,
   "id": "5748fcb9",
   "metadata": {},
   "outputs": [],
   "source": [
    "del data_df, layer_df"
   ]
  },
  {
   "cell_type": "code",
   "execution_count": null,
   "id": "fe8b38e3",
   "metadata": {},
   "outputs": [],
   "source": [
    "adata.obs['C_scANVI'].value_counts()"
   ]
  },
  {
   "cell_type": "code",
   "execution_count": null,
   "id": "eadf6743",
   "metadata": {},
   "outputs": [],
   "source": [
    "sc.pp.filter_genes(adata, min_counts=5, inplace=True)"
   ]
  },
  {
   "cell_type": "code",
   "execution_count": null,
   "id": "71dfbe69",
   "metadata": {},
   "outputs": [],
   "source": [
    "sc.pp.filter_cells(adata, min_genes=200)"
   ]
  },
  {
   "cell_type": "code",
   "execution_count": null,
   "id": "5b26764c",
   "metadata": {},
   "outputs": [],
   "source": [
    "adata.raw = adata"
   ]
  },
  {
   "cell_type": "code",
   "execution_count": null,
   "id": "f49b72ca",
   "metadata": {},
   "outputs": [],
   "source": [
    "scaled_counts = sc.pp.normalize_total(adata, target_sum=None, inplace=False)\n",
    "adata.layers[\"log1p_norm\"] = sc.pp.log1p(scaled_counts[\"X\"], copy=True)\n",
    "print(adata.layers[\"log1p_norm\"][0:5, 0:5])"
   ]
  },
  {
   "cell_type": "code",
   "execution_count": null,
   "id": "114c53db",
   "metadata": {},
   "outputs": [],
   "source": [
    "adata.X = adata.layers['log1p_norm'].copy()"
   ]
  },
  {
   "cell_type": "code",
   "execution_count": null,
   "id": "639b4c7c",
   "metadata": {},
   "outputs": [],
   "source": [
    "sc.pp.highly_variable_genes(adata, n_top_genes=4500, flavor=\"cell_ranger\", batch_key='libbatch', subset=False)\n",
    "sc.pl.highly_variable_genes(adata)"
   ]
  },
  {
   "cell_type": "code",
   "execution_count": null,
   "id": "4ce2f9d5",
   "metadata": {},
   "outputs": [],
   "source": [
    "sc.pp.scale(adata, max_value=10)\n",
    "print(adata.X[0:5,0:5])"
   ]
  },
  {
   "cell_type": "code",
   "execution_count": null,
   "id": "c4ba9dcb",
   "metadata": {},
   "outputs": [],
   "source": [
    "adata.layers['scaled'] = adata.X.copy()\n",
    "sc.pp.pca(adata, n_comps=50, svd_solver=\"arpack\")"
   ]
  },
  {
   "cell_type": "code",
   "execution_count": null,
   "id": "6682e4f8",
   "metadata": {},
   "outputs": [],
   "source": [
    "sc.pl.pca_loadings(adata, components='1,2,3')"
   ]
  },
  {
   "cell_type": "code",
   "execution_count": null,
   "id": "59c04616",
   "metadata": {},
   "outputs": [],
   "source": [
    "sc.pl.pca(adata, components=['1,2', '3,4', '5,6', '7,8'], ncols=2, color='phase')"
   ]
  },
  {
   "cell_type": "code",
   "execution_count": null,
   "id": "80cdead1",
   "metadata": {},
   "outputs": [],
   "source": [
    "sc.pl.pca(adata, components=['1,2', '3,4', '5,6', '7,8'], ncols=2, color='pct_counts_mt')"
   ]
  },
  {
   "cell_type": "code",
   "execution_count": null,
   "id": "a5c44d10",
   "metadata": {},
   "outputs": [],
   "source": [
    "sc.pl.pca(adata, components=['1,2', '3,4', '5,6', '7,8'], ncols=2, color='total_counts')"
   ]
  },
  {
   "cell_type": "code",
   "execution_count": null,
   "id": "126545fe",
   "metadata": {},
   "outputs": [],
   "source": [
    "adata.X = adata.layers['log1p_norm'].copy()"
   ]
  },
  {
   "cell_type": "markdown",
   "id": "b3bfa07e",
   "metadata": {},
   "source": [
    "# Regressing out biological variation"
   ]
  },
  {
   "cell_type": "code",
   "execution_count": null,
   "id": "a1e1a5d3",
   "metadata": {},
   "outputs": [],
   "source": [
    "sc.pp.regress_out(adata, ['pct_counts_mt', 'pct_counts_ribo', 'S_score', 'G2M_score'])"
   ]
  },
  {
   "cell_type": "code",
   "execution_count": null,
   "id": "84cb1f36",
   "metadata": {},
   "outputs": [],
   "source": [
    "sc.pp.highly_variable_genes(adata, n_top_genes=4500, flavor=\"cell_ranger\", batch_key='libbatch', subset=False)\n",
    "sc.pl.highly_variable_genes(adata)"
   ]
  },
  {
   "cell_type": "code",
   "execution_count": null,
   "id": "4ef94cd1",
   "metadata": {},
   "outputs": [],
   "source": [
    "hvgenes = adata.var.index[adata.var.highly_variable].tolist()\n",
    "len(hvgenes)"
   ]
  },
  {
   "cell_type": "code",
   "execution_count": null,
   "id": "b909c384",
   "metadata": {},
   "outputs": [],
   "source": [
    "sc.pp.scale(adata, max_value=10)\n",
    "print(adata.X[0:5,0:5])"
   ]
  },
  {
   "cell_type": "code",
   "execution_count": null,
   "id": "afdab1a0",
   "metadata": {},
   "outputs": [],
   "source": [
    "adata.layers['scaled'] = adata.X.copy()\n",
    "sc.pp.pca(adata, n_comps=50, svd_solver=\"arpack\")"
   ]
  },
  {
   "cell_type": "code",
   "execution_count": null,
   "id": "8b497bd0",
   "metadata": {},
   "outputs": [],
   "source": [
    "sc.pl.pca_loadings(adata, components='1,2,3')"
   ]
  },
  {
   "cell_type": "code",
   "execution_count": null,
   "id": "1d8a4623",
   "metadata": {},
   "outputs": [],
   "source": [
    "sc.pl.pca(adata, components=['1,2', '3,4', '5,6', '7,8'], ncols=2, color='phase')"
   ]
  },
  {
   "cell_type": "code",
   "execution_count": null,
   "id": "b7c075a6",
   "metadata": {},
   "outputs": [],
   "source": [
    "sc.pl.pca(adata, components=['1,2', '3,4', '5,6', '7,8'], ncols=2, color='libbatch')"
   ]
  },
  {
   "cell_type": "code",
   "execution_count": null,
   "id": "b8c85b80",
   "metadata": {},
   "outputs": [],
   "source": [
    "sc.pl.pca_variance_ratio(adata, log=True, n_pcs=50)"
   ]
  },
  {
   "cell_type": "code",
   "execution_count": null,
   "id": "eb238548",
   "metadata": {},
   "outputs": [],
   "source": [
    "sc.pp.neighbors(adata, use_rep=\"X_pca\", metric='correlation', n_neighbors=15)\n",
    "sc.tl.umap(adata)\n",
    "sc.pl.umap(adata, color='C_scANVI')"
   ]
  },
  {
   "cell_type": "code",
   "execution_count": null,
   "id": "e1885d1c",
   "metadata": {},
   "outputs": [],
   "source": [
    "sc.pl.umap(adata, color=['C_scANVI', 'age', 'sampletype'], ncols=2,\n",
    "          frameon=False, wspace=0.5)"
   ]
  },
  {
   "cell_type": "code",
   "execution_count": null,
   "id": "64c9544b",
   "metadata": {},
   "outputs": [],
   "source": [
    "var_genes = {}\n",
    "var_genes['cell_ranger'] = adata.var_names[adata.var['highly_variable']]"
   ]
  },
  {
   "cell_type": "code",
   "execution_count": null,
   "id": "6c52adca",
   "metadata": {},
   "outputs": [],
   "source": [
    "scvi.data.poisson_gene_selection(adata, layer='counts', batch_key='libbatch', n_top_genes=4500)\n",
    "adata.var"
   ]
  },
  {
   "cell_type": "code",
   "execution_count": null,
   "id": "3168b4ac",
   "metadata": {},
   "outputs": [],
   "source": [
    "var_genes['scvi'] = adata.var_names[adata.var['highly_variable']]"
   ]
  },
  {
   "cell_type": "code",
   "execution_count": null,
   "id": "4e9ef0a2",
   "metadata": {},
   "outputs": [],
   "source": [
    "from venny4py.venny4py import *\n",
    "\n",
    "sets = {}\n",
    "for layer, genes in var_genes.items():\n",
    "    sets[layer] = set(list(genes)) \n",
    "\n",
    "venny4py(sets=sets)"
   ]
  },
  {
   "cell_type": "code",
   "execution_count": null,
   "id": "3c35869f",
   "metadata": {},
   "outputs": [],
   "source": [
    "# Create a column in adata.var to indicate the category of each gene\n",
    "adata.var['HVG'] = 'None'  # Initialize with 'None'\n",
    "adata.var.loc[list(var_genes['scvi']), 'HVG'] = 'High Dropout'\n",
    "adata.var.loc[list(var_genes['cell_ranger']), 'HVG'] = 'Highly Variable+Expressed'\n",
    "adata.var.loc[list(sets['scvi'].intersection(sets['cell_ranger'])), 'HVG'] = 'Both'\n",
    "\n",
    "# Create a custom colormap\n",
    "gene_category_colors = {'Both': 'magenta', 'Highly Variable+Expressed': 'cyan', \n",
    "                        'High Dropout': 'black', 'None': 'grey'}\n",
    "\n",
    "adata.var['HVG'].value_counts()"
   ]
  },
  {
   "cell_type": "code",
   "execution_count": null,
   "id": "3194b28e",
   "metadata": {},
   "outputs": [],
   "source": [
    "def plot_mean_variance(countslayers, log_scale=False):\n",
    "    num_rows = 1\n",
    "    num_cols = 2\n",
    "\n",
    "    fig, axes = plt.subplots(num_rows, num_cols, figsize=(10, 5))\n",
    "\n",
    "    for idx, layer in enumerate(countslayers):\n",
    "        mean_counts = np.mean(adata.layers[layer].toarray(), axis=0)\n",
    "        variance = np.var(adata.layers[layer].toarray(), axis=0)\n",
    "\n",
    "        ax = axes[idx]\n",
    "        ax.scatter(mean_counts, variance,\n",
    "                   c=adata.var['HVG'].map(gene_category_colors),\n",
    "                  edgecolors='none')\n",
    "\n",
    "        ax.set_xlabel('Mean Counts')\n",
    "        ax.set_ylabel('Variance')\n",
    "        if log_scale:\n",
    "            ax.set_xscale('log')\n",
    "            ax.set_yscale('log')\n",
    "            ax.set_xlabel('Log Mean Counts')\n",
    "            ax.set_ylabel('Log Variance')\n",
    "        ax.set_title(f'Mean-Variance Plot ({layer})')\n",
    "\n",
    "    plt.tight_layout()\n",
    "    plt.show()\n",
    "    \n",
    "plot_mean_variance(['counts', 'log1p_norm'], log_scale=True)"
   ]
  },
  {
   "cell_type": "code",
   "execution_count": null,
   "id": "f4ad8555",
   "metadata": {},
   "outputs": [],
   "source": [
    "adata_hvg = adata[:, adata.var.highly_variable] #cell-ranger hvgs\n",
    "adata_hvg"
   ]
  },
  {
   "cell_type": "code",
   "execution_count": null,
   "id": "e39e327c",
   "metadata": {},
   "outputs": [],
   "source": [
    "adata_hvg.var"
   ]
  },
  {
   "cell_type": "code",
   "execution_count": null,
   "id": "0fba147a",
   "metadata": {},
   "outputs": [],
   "source": [
    "print(adata_hvg.X.shape)\n",
    "print(adata_hvg.raw.X.shape)"
   ]
  },
  {
   "cell_type": "code",
   "execution_count": null,
   "id": "e2312639",
   "metadata": {},
   "outputs": [],
   "source": [
    "scvi.model.SCVI.setup_anndata(adata,\n",
    "                              layer=\"counts\", \n",
    "                              batch_key=\"libbatch\",\n",
    "                              categorical_covariate_keys=[\"sample\", \"type\"], # effects that are taken into account that we are not necessarily interested in\n",
    "                              #continuous_covariate_keys=['S_score', 'G2M_score']\n",
    "                             )"
   ]
  },
  {
   "cell_type": "code",
   "execution_count": null,
   "id": "90ba5a19",
   "metadata": {},
   "outputs": [],
   "source": [
    "vae = scvi.model.SCVI(adata, n_hidden = 128, n_latent=30, n_layers=2, \n",
    "                      dropout_rate=0.1, dispersion=\"gene-batch\", gene_likelihood='zinb')\n",
    "vae.view_anndata_setup(adata)"
   ]
  },
  {
   "cell_type": "code",
   "execution_count": null,
   "id": "7bd82db6",
   "metadata": {},
   "outputs": [],
   "source": [
    "%%time\n",
    "vae.train(max_epochs = 400, train_size = 0.9, validation_size = 0.1, \n",
    "          use_gpu=True, accelerator='gpu', \n",
    "          check_val_every_n_epoch=1,\n",
    "          early_stopping=True,\n",
    "          early_stopping_patience=20,\n",
    "          early_stopping_monitor=\"elbo_validation\",\n",
    "         )"
   ]
  },
  {
   "cell_type": "code",
   "execution_count": null,
   "id": "aee96cf8",
   "metadata": {},
   "outputs": [],
   "source": [
    "train_test_results = vae.history[\"elbo_train\"]\n",
    "train_test_results[\"elbo_validation\"] = vae.history[\"elbo_validation\"]\n",
    "train_test_results.iloc[10:].plot(logy=True)  # exclude first 10 epochs\n",
    "plt.show()"
   ]
  },
  {
   "cell_type": "code",
   "execution_count": null,
   "id": "02ceb17d",
   "metadata": {},
   "outputs": [],
   "source": [
    "vae.save(os.path.join(RESULTS_FOLDERNAME, \"FoetalFibroblastsGrouped_SampleTypeLibbatch_ZinbGeneBatch/\"), overwrite=True)"
   ]
  },
  {
   "cell_type": "code",
   "execution_count": null,
   "id": "fe721ffe",
   "metadata": {},
   "outputs": [],
   "source": [
    "adata.obsm[\"X_scVI\"] = vae.get_latent_representation()\n",
    "# use scVI latent space for UMAP generation\n",
    "sc.pp.neighbors(adata, use_rep=\"X_scVI\", metric='correlation', n_neighbors=50)\n",
    "sc.tl.umap(adata)"
   ]
  },
  {
   "cell_type": "code",
   "execution_count": null,
   "id": "dc48d14c",
   "metadata": {},
   "outputs": [],
   "source": [
    "def plot_umaps(anndata, parameters: list, filename: str):\n",
    "    n_plots = len(parameters)\n",
    "    fig, axs = plt.subplots(n_plots, 1, figsize=(7, 4*n_plots))\n",
    "    for i, param in enumerate(parameters):\n",
    "        sc.pl.umap(anndata, color=param, ax=axs[i], show=False, frameon=False)\n",
    "        axs[i].set_title(param)\n",
    "    plt.tight_layout()\n",
    "    savesvg(filename, fig)\n",
    "    plt.show()"
   ]
  },
  {
   "cell_type": "code",
   "execution_count": null,
   "id": "09f59204",
   "metadata": {
    "scrolled": false
   },
   "outputs": [],
   "source": [
    "plot_umaps(adata, ['sampletype', 'sample', 'age', 'libbatch', 'type', 'phase', 'sex', 'C_scANVI'], \n",
    "           filename = 'dev_UMAP_plots_tendonfibros_scVI_regressed_libbatchSampleTypePhaseScores.svg'\n",
    "          )"
   ]
  },
  {
   "cell_type": "code",
   "execution_count": null,
   "id": "87f6315e",
   "metadata": {
    "scrolled": false
   },
   "outputs": [],
   "source": [
    "plot_umaps(adata, ['sampletype', 'sample', 'age', 'libbatch', 'type', 'phase', 'sex', 'C_scANVI'], \n",
    "           #filename = 'dev_UMAP_plots_tendonfibros_scVI_newgrouped.svg'\n",
    "          )"
   ]
  },
  {
   "cell_type": "code",
   "execution_count": null,
   "id": "c67f0594",
   "metadata": {},
   "outputs": [],
   "source": [
    "lvae = scvi.model.SCANVI.from_scvi_model(\n",
    "    vae,\n",
    "    adata=adata,\n",
    "    labels_key=\"C_scANVI\",\n",
    "    unlabeled_category=\"Unknown\",\n",
    ")\n",
    "\n",
    "lvae.train(max_epochs=25, train_size = 0.9, validation_size = 0.1, \n",
    "          use_gpu=True, accelerator='gpu', \n",
    "          check_val_every_n_epoch=1,\n",
    "          early_stopping=True,\n",
    "          early_stopping_patience=10,\n",
    "          early_stopping_monitor=\"elbo_validation\")"
   ]
  },
  {
   "cell_type": "code",
   "execution_count": null,
   "id": "9cae8cdb",
   "metadata": {},
   "outputs": [],
   "source": [
    "adata.obs[\"C_scANVI_orig\"] = adata.obs[\"C_scANVI\"]\n",
    "adata.obs[\"C_scANVI\"] = lvae.predict(adata)\n",
    "adata.obsm[\"X_scANVI\"] = lvae.get_latent_representation(adata)"
   ]
  },
  {
   "cell_type": "code",
   "execution_count": null,
   "id": "8ad1a7ec",
   "metadata": {},
   "outputs": [],
   "source": [
    "sc.pp.neighbors(adata, use_rep=\"X_scANVI\", metric='correlation')\n",
    "sc.tl.umap(adata)\n",
    "sc.pl.umap(adata, color=['C_scANVI', 'C_scANVI_orig'], frameon=False,\n",
    "          wspace=0.5)"
   ]
  },
  {
   "cell_type": "code",
   "execution_count": null,
   "id": "e42cf149",
   "metadata": {},
   "outputs": [],
   "source": [
    "plot_umaps(adata, ['sampletype', 'sample', 'age', 'libbatch', 'type', 'phase', 'sex', 'C_scANVI_orig', 'C_scANVI'], \n",
    "           filename = 'dev_UMAP_plots_tendonfibros_scANVI_grouped.svg')"
   ]
  },
  {
   "cell_type": "code",
   "execution_count": null,
   "id": "d06b1ef2",
   "metadata": {},
   "outputs": [],
   "source": [
    "adata.write(os.path.join(RESULTS_FOLDERNAME, '{}.h5ad'.format('dev_tendonfibros_scANVI2')))"
   ]
  },
  {
   "cell_type": "markdown",
   "id": "5e852743",
   "metadata": {},
   "source": [
    "# Harmony\n",
    "Use seacells_env environment"
   ]
  },
  {
   "cell_type": "code",
   "execution_count": null,
   "id": "07d2ad6d",
   "metadata": {},
   "outputs": [],
   "source": [
    "adata = sc.read_h5ad(os.path.join(RESULTS_FOLDERNAME, '{}.h5ad'.format('dev_tendonfibros_scANVI2')))"
   ]
  },
  {
   "cell_type": "code",
   "execution_count": null,
   "id": "5cd5333f",
   "metadata": {},
   "outputs": [],
   "source": [
    "adata.obs"
   ]
  },
  {
   "cell_type": "code",
   "execution_count": null,
   "id": "2e9d5299",
   "metadata": {},
   "outputs": [],
   "source": [
    "# specify the timepoint information for Harmony\n",
    "tp = adata.obs['age'].astype(str)\n",
    "\n",
    "# specify the timepoint connections for the augmented affinity matrix\n",
    "timepoint_connections = pd.DataFrame({'from_timepoint': ['12w', '17w'], 'to_timepoint': ['17w', '20w']})"
   ]
  },
  {
   "cell_type": "markdown",
   "id": "8c40b28b",
   "metadata": {},
   "source": [
    "specifying the number of neighbors helps define the level of granularity in identifying cell relationships. A smaller value like 10 will result in a more local and fine-grained view of cell-to-cell connections, whereas a larger value would capture more distant or global similarities.\n",
    "\n",
    "My data is fairly sparce, so k value will need to be larger to capture meaningful similarities."
   ]
  },
  {
   "cell_type": "code",
   "execution_count": null,
   "id": "23b1dc2b",
   "metadata": {},
   "outputs": [],
   "source": [
    "data_df=pd.DataFrame(adata.obsm[\"X_scANVI\"],index=adata.obs_names)\n",
    "# data_df=pd.DataFrame(adata.obsm[\"X_pca\"][:,:15],index=adata.obs_names) - not batch-corrected!\n",
    "data_df"
   ]
  },
  {
   "cell_type": "code",
   "execution_count": null,
   "id": "869f9e0b",
   "metadata": {},
   "outputs": [],
   "source": [
    "adata.var_names_make_unique()"
   ]
  },
  {
   "cell_type": "code",
   "execution_count": null,
   "id": "03b4f109",
   "metadata": {},
   "outputs": [],
   "source": [
    "# generate the augmented affinity matrix (aug_aff) and the non-augmented matrix (aff)\n",
    "aug_aff, aff = harmony.core.augmented_affinity_matrix(data_df, tp, timepoint_connections, \n",
    "                                                      n_neighbors=100, pc_components=None)\n",
    "\n",
    "# add the augmented affinity matrix to obsm\n",
    "adata.obsm['X_aug_aff'] = aug_aff"
   ]
  },
  {
   "cell_type": "code",
   "execution_count": null,
   "id": "5ae25a21",
   "metadata": {},
   "outputs": [],
   "source": [
    "# computes force directed layout coordinates from the augmented aff matrix\n",
    "layout = harmony.plot.force_directed_layout(aug_aff, data_df.index)"
   ]
  },
  {
   "cell_type": "code",
   "execution_count": null,
   "id": "73bc61a9",
   "metadata": {},
   "outputs": [],
   "source": [
    "# add layout coordinates to the anndata object\n",
    "adata.obsm['X_force_directed_layout'] = layout\n",
    "adata.obsm['force_directed_array'] = adata.obsm['X_force_directed_layout'].values\n",
    "sc.pl.embedding(adata, basis='force_directed_array', color='age',\n",
    "               frameon=False,\n",
    "               save='_dev_harmony_FibroblastsByAge_2.png')"
   ]
  },
  {
   "cell_type": "code",
   "execution_count": null,
   "id": "238511c0",
   "metadata": {
    "scrolled": false
   },
   "outputs": [],
   "source": [
    "sc.pl.embedding(adata, basis='force_directed_array', color='age',\n",
    "               frameon=False, groups = ['12w'],\n",
    "               save='_dev_harmony_fibroblatsage_split12w2.svg')\n",
    "sc.pl.embedding(adata, basis='force_directed_array', color='age',\n",
    "               frameon=False, groups = ['17w'],\n",
    "               save='_dev_harmony_fibroblatsage_split17w2.svg')\n",
    "sc.pl.embedding(adata, basis='force_directed_array', color='age',\n",
    "               frameon=False, groups = ['20w'],\n",
    "               save='_dev_harmony_fibroblatsage_split20w2.svg')\n",
    "sc.pl.embedding(adata, basis='force_directed_array', color='C_scANVI_orig',\n",
    "               frameon=False,\n",
    "               save='_dev_harmony_fibroblasts_celltype2.svg')"
   ]
  },
  {
   "cell_type": "code",
   "execution_count": null,
   "id": "f4f2c864",
   "metadata": {},
   "outputs": [],
   "source": [
    "adata.obsm['X_umap_orig'] = adata.obsm['X_umap']"
   ]
  },
  {
   "cell_type": "code",
   "execution_count": null,
   "id": "e9e5a059",
   "metadata": {},
   "outputs": [],
   "source": [
    "adata.write(os.path.join(RESULTS_FOLDERNAME, 'allages_tendonfibro_pre2.h5ad'))"
   ]
  },
  {
   "cell_type": "markdown",
   "id": "234afec1",
   "metadata": {},
   "source": [
    "## Palantir trajectory detection\n",
    "Palantir is an algorithm developed by the Pe'er lab to align cells along differentiation trajectories. Palantir models differentiation as a stochastic process where stem cells differentiate to terminally differentiated cells by a series of steps through a low dimensional phenotypic manifold. Palantir effectively captures the continuity in cell states and the stochasticity in cell fate determination.\n",
    "\n",
    "The first step in Palantir trajectory detection is to project data onto diffusion maps. Harmony augmented affinity matrix is used as the input for identifying diffusion maps. Please see https://github.com/dpeerlab/Palantir for more details on Palantir"
   ]
  },
  {
   "cell_type": "code",
   "execution_count": null,
   "id": "ece5426f",
   "metadata": {},
   "outputs": [],
   "source": [
    "adata = sc.read_h5ad(os.path.join(RESULTS_FOLDERNAME, 'allages_tendonfibro_pre2.h5ad'))"
   ]
  },
  {
   "cell_type": "code",
   "execution_count": null,
   "id": "a1ab9142",
   "metadata": {},
   "outputs": [],
   "source": [
    "dm_res = palantir.utils.run_diffusion_maps(adata.obsm[\"X_aug_aff\"], knn=80)\n",
    "#dm_res = palantir.utils.run_diffusion_maps(pd.DataFrame(adata.obsm[\"X_aug_aff\"].toarray(),index=adata.obs_names))\n",
    "#dm_res = palantir.utils.run_diffusion_maps(pd.DataFrame(adata.obsm[\"X_scANVI\"],index=adata.obs_names),knn=100)\n",
    "\n",
    "adata.obsp[\"T\"]=dm_res[\"T\"]\n",
    "adata.obsm[\"X_diff\"]=dm_res['EigenVectors'].values"
   ]
  },
  {
   "cell_type": "code",
   "execution_count": null,
   "id": "671d1d89",
   "metadata": {},
   "outputs": [],
   "source": [
    "sc.pp.neighbors(adata,n_neighbors=80,use_rep=\"X_diff\")\n",
    "sc.tl.paga(adata,\"C_scANVI\")\n",
    "sc.pl.paga(adata,threshold=.02, node_size_scale=2,\n",
    "           fontsize=6, fontoutline=1, frameon=False, \n",
    "           save='_allages_tendonfibro2.png'\n",
    "          )"
   ]
  },
  {
   "cell_type": "code",
   "execution_count": null,
   "id": "0dd2a09d",
   "metadata": {
    "scrolled": false
   },
   "outputs": [],
   "source": [
    "sc.tl.umap(adata,\n",
    "           spread=.6, \n",
    "           init_pos='paga'\n",
    "           )\n",
    "sc.pl.umap(adata, color='C_scANVI_orig')"
   ]
  },
  {
   "cell_type": "code",
   "execution_count": null,
   "id": "47b1b04c",
   "metadata": {},
   "outputs": [],
   "source": []
  },
  {
   "cell_type": "code",
   "execution_count": null,
   "id": "96cd27e8",
   "metadata": {},
   "outputs": [],
   "source": [
    "sc.pl.umap(adata, color='age')"
   ]
  },
  {
   "cell_type": "code",
   "execution_count": null,
   "id": "27750ee8",
   "metadata": {},
   "outputs": [],
   "source": [
    "ms_data = palantir.utils.determine_multiscale_space(dm_res)\n",
    "adata.obsm[\"X_msdiff\"]=ms_data.values\n",
    "ms_data"
   ]
  },
  {
   "cell_type": "code",
   "execution_count": null,
   "id": "64828b5f",
   "metadata": {},
   "outputs": [],
   "source": [
    "%%time\n",
    "sc.tl.tsne(adata,use_rep=\"X_msdiff\",\n",
    "           perplexity=50,\n",
    "           learning_rate=adata.shape[0]/12\n",
    "          )"
   ]
  },
  {
   "cell_type": "code",
   "execution_count": null,
   "id": "827cfe6c",
   "metadata": {},
   "outputs": [],
   "source": [
    "sc.pl.tsne(adata,color=\"C_scANVI\", \n",
    "           frameon=False,\n",
    "           save='_allages_tendonfibro_msdiff2.svg'\n",
    "          )\n",
    "#plt.savefig(os.path.join(FIGURES_FOLDERNAME, '20pcw_tendonfibro_msdiff_TSNE.svg'), format='svg')\n",
    "#plt.savefig(os.path.join(FIGURES_FOLDERNAME, '20pcw_tendonfibro_msdiff_TSNEpng.png'), format='png')\n",
    "# Image(filename=os.path.join(FIGURES_FOLDERNAME,'msdiff_TSNEpng.png'))"
   ]
  },
  {
   "cell_type": "code",
   "execution_count": null,
   "id": "c15755e5",
   "metadata": {},
   "outputs": [],
   "source": [
    "sc.pp.neighbors(adata, n_neighbors=30, use_rep=\"X_msdiff\")\n",
    "sc.tl.draw_graph(adata, init_pos=\"X_tsne\", \n",
    "                 maxiter=500)"
   ]
  },
  {
   "cell_type": "code",
   "execution_count": null,
   "id": "7c92e33c",
   "metadata": {},
   "outputs": [],
   "source": [
    "sc.pl.draw_graph(adata,\n",
    "                 color=\"age\", frameon=False,\n",
    "                 #save='_allagestendonfibro__age_msdiff.svg'\n",
    "                )"
   ]
  },
  {
   "cell_type": "code",
   "execution_count": null,
   "id": "ed339d0b",
   "metadata": {},
   "outputs": [],
   "source": [
    "sc.pl.draw_graph(adata,\n",
    "                 color=\"C_scANVI_orig\", frameon=False,\n",
    "                 #save='_allagestendonfibro_msdiff.svg'\n",
    "                )\n",
    "#plt.savefig(os.path.join(FIGURES_FOLDERNAME, '20pcw_tendonfibro_msdiff_graph.png'), format='png')\n",
    "# Image(filename=os.path.join(FIGURES_FOLDERNAME,'msdiff_graph.png'))"
   ]
  },
  {
   "cell_type": "code",
   "execution_count": null,
   "id": "d67f5b8a",
   "metadata": {},
   "outputs": [],
   "source": [
    "adata.write(os.path.join(RESULTS_FOLDERNAME, 'allages_tendonfibro2.h5ad'))"
   ]
  },
  {
   "cell_type": "markdown",
   "id": "cad6a408",
   "metadata": {},
   "source": [
    "# Palantir Pseudotime"
   ]
  },
  {
   "cell_type": "code",
   "execution_count": null,
   "id": "59f9d1ca",
   "metadata": {},
   "outputs": [],
   "source": [
    "adata = sc.read_h5ad(os.path.join(RESULTS_FOLDERNAME, 'allages_tendonfibro2.h5ad'))"
   ]
  },
  {
   "cell_type": "code",
   "execution_count": null,
   "id": "ac2621e7",
   "metadata": {},
   "outputs": [],
   "source": [
    "ms_data = pd.DataFrame(adata.obsm['X_msdiff'], index=adata.obs_names)\n",
    "ms_data"
   ]
  },
  {
   "cell_type": "code",
   "execution_count": null,
   "id": "93b90b16",
   "metadata": {},
   "outputs": [],
   "source": [
    "sc.pl.embedding(adata, basis='msdiff', color=['MKI67', 'DIAPH2', 'TOP2A', 'CENPK', 'CENPP', 'C_scANVI'], \n",
    "                components=[\"1, 2\"], ncols=3)"
   ]
  },
  {
   "cell_type": "code",
   "execution_count": null,
   "id": "d2572e96",
   "metadata": {},
   "outputs": [],
   "source": [
    "sc.pl.embedding(adata, basis='msdiff', color=['MKI67', 'DIAPH2', 'TOP2A', 'CENPK', 'CENPP'], \n",
    "                components=[\"3, 4\"], ncols=3)"
   ]
  },
  {
   "cell_type": "code",
   "execution_count": null,
   "id": "9e9270f8",
   "metadata": {},
   "outputs": [],
   "source": [
    "sc.pl.embedding(adata, basis='msdiff', color=['MKX', 'SCX', 'TNMD', 'GAS2', 'ABI3BP', 'SPARC', 'age'], \n",
    "                components=[\"1, 2\"], ncols=3)"
   ]
  },
  {
   "cell_type": "code",
   "execution_count": null,
   "id": "1ba65b1f",
   "metadata": {},
   "outputs": [],
   "source": [
    "sc.pl.embedding(adata, basis='msdiff', color=['MKX', 'SCX', 'GAS2', 'ABI3BP', 'SPARC', 'age'], \n",
    "                components=[\"2, 3\"], ncols=3)"
   ]
  },
  {
   "cell_type": "code",
   "execution_count": null,
   "id": "fc734317",
   "metadata": {},
   "outputs": [],
   "source": [
    "sc.pl.embedding(adata, basis='msdiff', color=['MKX', 'SCX', 'TNMD', 'EGR1', 'GAS2', 'ABI3BP', 'SPARC', 'age', 'C_scANVI'], \n",
    "                components=[\"3, 4\"], ncols=3)"
   ]
  },
  {
   "cell_type": "code",
   "execution_count": null,
   "id": "0d387911",
   "metadata": {},
   "outputs": [],
   "source": [
    "sc.pl.embedding(adata, basis='msdiff', color=['VIM', 'NES', 'THY1', 'ITGB1', 'TPPP3', 'CD44', 'age', 'C_scANVI_orig'], \n",
    "                components=[\"1, 2\"], ncols=3)"
   ]
  },
  {
   "cell_type": "code",
   "execution_count": null,
   "id": "e95f9b5a",
   "metadata": {},
   "outputs": [],
   "source": [
    "sc.pl.embedding(adata, basis='msdiff', color=['VIM', 'NES', 'THY1', 'ITGB1', 'TPPP3', 'CD44', 'age', 'C_scANVI'], \n",
    "                components=[\"2,3\"], ncols=3)"
   ]
  },
  {
   "cell_type": "code",
   "execution_count": null,
   "id": "e1dd3367",
   "metadata": {},
   "outputs": [],
   "source": [
    "sc.pl.embedding(adata, basis='msdiff', color=['CDKN1B', 'CDKN1A', 'MKI67', 'CD34', 'CDK4', 'age', 'C_scANVI'], \n",
    "                components=[\"3,4\"], ncols=3)"
   ]
  },
  {
   "cell_type": "code",
   "execution_count": null,
   "id": "8348bcd4",
   "metadata": {},
   "outputs": [],
   "source": [
    "adata.var_names_make_unique()\n",
    "adata.obs_names_make_unique()"
   ]
  },
  {
   "cell_type": "code",
   "execution_count": null,
   "id": "910e897b",
   "metadata": {},
   "outputs": [],
   "source": [
    "import numpy as np\n",
    "\n",
    "# Find the cell index with the highest expression of the NRK gene - find double expression with MKI67 and CENPP and SCX/MKX/TNMD\n",
    "max_expression_cell_index = np.argmin(adata[:, 'COL1A1'].X) + np.argmin(adata[:, 'TNMD'].X) + np.argmax(adata[:, 'NANOG'].X) \n",
    "cell_id_with_highest_expression = adata.obs_names[max_expression_cell_index]\n",
    "print(\"Cell ID with highest gene expression:\", cell_id_with_highest_expression)"
   ]
  },
  {
   "cell_type": "code",
   "execution_count": null,
   "id": "1c76fa7b",
   "metadata": {},
   "outputs": [],
   "source": [
    "adata.X = adata.layers['log1p_norm'].copy()"
   ]
  },
  {
   "cell_type": "code",
   "execution_count": null,
   "id": "1ae318c1",
   "metadata": {},
   "outputs": [],
   "source": [
    "adata.raw = adata.copy()"
   ]
  },
  {
   "cell_type": "code",
   "execution_count": null,
   "id": "094b44f6",
   "metadata": {},
   "outputs": [],
   "source": [
    "print(adata.raw.X[0:10, 0:10])"
   ]
  },
  {
   "cell_type": "code",
   "execution_count": null,
   "id": "5ca19288",
   "metadata": {},
   "outputs": [],
   "source": [
    "gene_list = ['SCX', 'MKX', 'EGR1'] \n",
    "\n",
    "#'CENPK', 'CENPP', 'DIAPH3'\n",
    "#adding 'NES', 'ITGB1' and markers of senescence 'CDKN1B', 'CDKN1A', 'CD34', 'CDK4' still gives the same cell\n",
    "sc.tl.score_genes(adata, gene_list, score_name='tnp_score', use_raw=True)\n",
    "cell_id_with_highest_expression = adata.obs['tnp_score'].idxmax()\n",
    "print(\"Cell ID with highest gene expression:\", cell_id_with_highest_expression)"
   ]
  },
  {
   "cell_type": "code",
   "execution_count": null,
   "id": "53df731b",
   "metadata": {},
   "outputs": [],
   "source": [
    "adata.obs['startcell'] = 0.2\n",
    "#ind = adata.obs.index[adata.obsm['X_msdiff'][:,5].argmax()]\n",
    "ind = cell_id_with_highest_expression\n",
    "adata.obs.loc[ind, 'startcell'] = 1\n",
    "print(adata.obs[adata.obs.index == ind][['C_scANVI_orig', 'phase', 'age']])\n",
    "# Use sc.pl.embedding to visualize with color_column\n",
    "sc.pl.embedding(adata, basis='msdiff', \n",
    "                color='startcell', \n",
    "                components=[\"4,5\"],\n",
    "                cmap='Greys', vmin=0, s=50)"
   ]
  },
  {
   "cell_type": "code",
   "execution_count": null,
   "id": "b97ee9f7",
   "metadata": {},
   "outputs": [],
   "source": [
    "sc.pl.embedding(adata, basis='tsne', color=['startcell', 'phase', 'C_scANVI_orig'],\n",
    "                cmap='Greys', vmin=0, s=50)"
   ]
  },
  {
   "cell_type": "code",
   "execution_count": null,
   "id": "cab12cf1",
   "metadata": {},
   "outputs": [],
   "source": [
    "sc.pl.embedding(adata, basis='umap', color=['startcell', 'phase', 'C_scANVI_orig'],\n",
    "                cmap='Greys', vmin=0, s=10)"
   ]
  },
  {
   "cell_type": "code",
   "execution_count": null,
   "id": "e547fcff",
   "metadata": {},
   "outputs": [],
   "source": [
    "pr_res = palantir.core.run_palantir(data=ms_data, early_cell=ind, \n",
    "                           knn=100, use_early_cell_as_start=True, \n",
    "                           n_jobs=10, num_waypoints=1200)"
   ]
  },
  {
   "cell_type": "code",
   "execution_count": null,
   "id": "05d67fa5",
   "metadata": {},
   "outputs": [],
   "source": [
    "palantir.plot.plot_palantir_results(adata, pr_res, s=3, embedding_basis='X_umap')\n",
    "plt.show()"
   ]
  },
  {
   "cell_type": "code",
   "execution_count": null,
   "id": "eda4c9cf",
   "metadata": {},
   "outputs": [],
   "source": [
    "palantir.plot.plot_palantir_results(adata, pr_res, s=3, embedding_basis='X_draw_graph_fa')\n",
    "plt.show()"
   ]
  },
  {
   "cell_type": "code",
   "execution_count": null,
   "id": "d37c6d88",
   "metadata": {},
   "outputs": [],
   "source": [
    "adata.obs['palantir_pseudotime'] = pr_res.pseudotime\n",
    "adata.obs['palantir_entropy'] = pr_res.entropy\n",
    "adata.uns['palantir_waypoints'] = pr_res.waypoints.values\n",
    "adata.obsm['palantir_fate_probabilities'] = pr_res.branch_probs"
   ]
  },
  {
   "cell_type": "code",
   "execution_count": null,
   "id": "c4bd48d7",
   "metadata": {},
   "outputs": [],
   "source": [
    "adata"
   ]
  },
  {
   "cell_type": "code",
   "execution_count": null,
   "id": "858e9982",
   "metadata": {},
   "outputs": [],
   "source": [
    "del adata.obs['outlier'], adata.obs['startcell'], adata.obs['mt_outlier']"
   ]
  },
  {
   "cell_type": "code",
   "execution_count": null,
   "id": "34dccbe3",
   "metadata": {},
   "outputs": [],
   "source": [
    "adata.write(os.path.join(RESULTS_FOLDERNAME, 'allages_tendonfibro2.h5ad'))"
   ]
  },
  {
   "cell_type": "code",
   "execution_count": null,
   "id": "44bd3db1",
   "metadata": {},
   "outputs": [],
   "source": [
    "adata=sc.read_h5ad(os.path.join(RESULTS_FOLDERNAME, 'allages_tendonfibro2.h5ad'))"
   ]
  },
  {
   "cell_type": "code",
   "execution_count": null,
   "id": "4c422101",
   "metadata": {},
   "outputs": [],
   "source": [
    "sc.tl.leiden(adata, resolution=0.2, key_added='fibro_leiden02')\n",
    "sc.pl.umap(adata, color=['fibro_leiden02'], frameon=False)"
   ]
  },
  {
   "cell_type": "code",
   "execution_count": null,
   "id": "0e4d6bf4",
   "metadata": {},
   "outputs": [],
   "source": [
    "adata.obsp"
   ]
  },
  {
   "cell_type": "code",
   "execution_count": null,
   "id": "018a5e07",
   "metadata": {},
   "outputs": [],
   "source": [
    "dm_res = palantir.utils.run_diffusion_maps(adata.obsm[\"X_aug_aff\"], knn=80)\n",
    "#dm_res = palantir.utils.run_diffusion_maps(pd.DataFrame(adata.obsm[\"X_scANVI\"],index=adata.obs_names),knn=100)"
   ]
  },
  {
   "cell_type": "code",
   "execution_count": null,
   "id": "03b82871",
   "metadata": {},
   "outputs": [],
   "source": [
    "adata.X"
   ]
  },
  {
   "cell_type": "code",
   "execution_count": null,
   "id": "06a35b67",
   "metadata": {},
   "outputs": [],
   "source": [
    "dm_res"
   ]
  },
  {
   "cell_type": "code",
   "execution_count": null,
   "id": "f1a98e5b",
   "metadata": {},
   "outputs": [],
   "source": [
    "imp_df = palantir.utils.run_magic_imputation(adata, dm_res=dm_res)"
   ]
  },
  {
   "cell_type": "code",
   "execution_count": null,
   "id": "aa797edd",
   "metadata": {},
   "outputs": [],
   "source": [
    "masks = palantir.presults.select_branch_cells(adata, eps=0)"
   ]
  },
  {
   "cell_type": "code",
   "execution_count": null,
   "id": "66d5ffbf",
   "metadata": {
    "scrolled": false
   },
   "outputs": [],
   "source": [
    "palantir.plot.plot_branch_selection(adata)\n",
    "plt.show()"
   ]
  },
  {
   "cell_type": "code",
   "execution_count": null,
   "id": "5e84b6a8",
   "metadata": {},
   "outputs": [],
   "source": [
    "adata.var_names_make_unique()\n",
    "sc.pl.violin(\n",
    "    adata,\n",
    "    keys=[\"palantir_pseudotime\"],\n",
    "    groupby=\"C_scANVI\",\n",
    "    rotation=-90,\n",
    ")"
   ]
  },
  {
   "cell_type": "code",
   "execution_count": null,
   "id": "790227a9",
   "metadata": {},
   "outputs": [],
   "source": [
    "#del adata.varm\n",
    "adata.write(os.path.join(RESULTS_FOLDERNAME, 'allages_tendonfibro.h5ad'))"
   ]
  }
 ],
 "metadata": {
  "kernelspec": {
   "display_name": "Python [conda env:scvi-env]",
   "language": "python",
   "name": "conda-env-scvi-env-py"
  },
  "language_info": {
   "codemirror_mode": {
    "name": "ipython",
    "version": 3
   },
   "file_extension": ".py",
   "mimetype": "text/x-python",
   "name": "python",
   "nbconvert_exporter": "python",
   "pygments_lexer": "ipython3",
   "version": "3.9.16"
  }
 },
 "nbformat": 4,
 "nbformat_minor": 5
}
