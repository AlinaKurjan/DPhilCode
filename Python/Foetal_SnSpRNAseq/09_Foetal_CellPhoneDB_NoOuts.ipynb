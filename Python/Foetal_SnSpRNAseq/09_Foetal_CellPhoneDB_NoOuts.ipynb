{
 "cells": [
  {
   "cell_type": "code",
   "execution_count": null,
   "id": "8b200445",
   "metadata": {},
   "outputs": [],
   "source": [
    "# Import dependencies\n",
    "%matplotlib inline\n",
    "import os\n",
    "import glob\n",
    "import pandas as pd\n",
    "import anndata\n",
    "import numpy as np\n",
    "import scanpy as sc\n",
    "\n",
    "# Initialize random seed\n",
    "import random\n",
    "random.seed(111)\n",
    "\n",
    "# Print date and time:\n",
    "import datetime\n",
    "e = datetime.datetime.now()\n",
    "print (\"Current date and time = %s\" % e)\n",
    "\n",
    "# set a working directory\n",
    "wdir = \"/mnt/da8aa2c4-0136-465b-87a2-d12a59afec55/akurjan/analysis/notebooks\"\n",
    "os.chdir( wdir )\n",
    "\n",
    "# folder structures\n",
    "RESULTS_FOLDERNAME = \"foetal/results/CellPhoneDB/\"\n",
    "FIGURES_FOLDERNAME = \"foetal/figures/CellPhoneDB/\"\n",
    "\n",
    "if not os.path.exists(RESULTS_FOLDERNAME):\n",
    "    os.makedirs(RESULTS_FOLDERNAME)\n",
    "if not os.path.exists(FIGURES_FOLDERNAME):\n",
    "    os.makedirs(FIGURES_FOLDERNAME)\n",
    "\n",
    "def savesvg(fname: str, fig, folder: str=FIGURES_FOLDERNAME) -> None:\n",
    "    \"\"\"\n",
    "    Save figure as vector-based SVG image format.\n",
    "    \"\"\"\n",
    "    fig.savefig(os.path.join(folder, fname), format='svg')"
   ]
  },
  {
   "cell_type": "markdown",
   "id": "7e4afa34",
   "metadata": {},
   "source": [
    "# DOWNLOADING DATABASE"
   ]
  },
  {
   "cell_type": "code",
   "execution_count": null,
   "id": "65e6f73c",
   "metadata": {},
   "outputs": [],
   "source": [
    "from IPython.display import HTML, display\n",
    "from cellphonedb.utils import db_releases_utils\n",
    "\n",
    "display(HTML(db_releases_utils.get_remote_database_versions_html()['db_releases_html_table']))"
   ]
  },
  {
   "cell_type": "code",
   "execution_count": null,
   "id": "179b73c9",
   "metadata": {},
   "outputs": [],
   "source": [
    "from cellphonedb.utils import db_utils\n",
    "\n",
    "# -- Version of the databse\n",
    "cpdb_version = 'v4.1.0'\n",
    "\n",
    "# -- Path where the input files to generate the database are located\n",
    "cpdb_target_dir = os.path.join(RESULTS_FOLDERNAME, cpdb_version)\n",
    "db_utils.download_database(cpdb_target_dir, cpdb_version)"
   ]
  },
  {
   "cell_type": "markdown",
   "id": "d2c432af",
   "metadata": {},
   "source": [
    "# PREPARING CPDB INPUT FILES"
   ]
  },
  {
   "cell_type": "code",
   "execution_count": null,
   "id": "97fcd600",
   "metadata": {},
   "outputs": [],
   "source": [
    "adata = sc.read_h5ad(\"foetal/results/Spatial/reference_signatures/sc.h5ad\")\n",
    "adata"
   ]
  },
  {
   "cell_type": "code",
   "execution_count": null,
   "id": "774c1b4b",
   "metadata": {},
   "outputs": [],
   "source": [
    "adata.write(os.path.join(RESULTS_FOLDERNAME, '20w_normalised_counts.h5ad'))"
   ]
  },
  {
   "cell_type": "code",
   "execution_count": null,
   "id": "372328eb",
   "metadata": {},
   "outputs": [],
   "source": [
    "adata.obs['age'].value_counts()"
   ]
  },
  {
   "cell_type": "code",
   "execution_count": null,
   "id": "be2e56ae",
   "metadata": {},
   "outputs": [],
   "source": [
    "metadata = pd.DataFrame(adata.obs['C_scANVI'])\n",
    "metadata.rename(columns={'C_scANVI': 'cell_type'}, inplace=True)\n",
    "metadata.index.name = 'barcode_sample'\n",
    "metadata.to_csv(os.path.join(RESULTS_FOLDERNAME,'metadata.tsv'), sep='\\t', index=True)"
   ]
  },
  {
   "cell_type": "code",
   "execution_count": null,
   "id": "e375a97f",
   "metadata": {},
   "outputs": [],
   "source": [
    "metadata = pd.read_csv(os.path.join(RESULTS_FOLDERNAME,'metadata.tsv'), sep='\\t')\n",
    "metadata"
   ]
  },
  {
   "cell_type": "code",
   "execution_count": null,
   "id": "950179fb",
   "metadata": {},
   "outputs": [],
   "source": [
    "list(adata.obs.index).sort() == list(metadata['barcode_sample']).sort()"
   ]
  },
  {
   "cell_type": "code",
   "execution_count": null,
   "id": "8eef5a40",
   "metadata": {
    "scrolled": true
   },
   "outputs": [],
   "source": [
    "adata.X = adata.layers['log1p_norm'].copy()\n",
    "print(adata.X[0:5,0:5])"
   ]
  },
  {
   "cell_type": "code",
   "execution_count": null,
   "id": "464bb480",
   "metadata": {},
   "outputs": [],
   "source": [
    "adata.obs['C_scANVI'].value_counts()"
   ]
  },
  {
   "cell_type": "code",
   "execution_count": null,
   "id": "83d0f631",
   "metadata": {},
   "outputs": [],
   "source": [
    "[i for i in adata.obs['C_scANVI'].unique()]"
   ]
  },
  {
   "cell_type": "code",
   "execution_count": null,
   "id": "1fa88bb2",
   "metadata": {},
   "outputs": [],
   "source": [
    "microenv = pd.DataFrame({\n",
    "    'cell_type': ['ABI3BP GAS2 Fibroblasts 1', \n",
    "                  'ABI3BP GAS2 Fibroblasts 2', \n",
    "                  'Chondrocytes',\n",
    "                  'FGF14 THBS4 Fibroblasts',\n",
    "                  'COL6A6 FNDC1 Fibroblasts', \n",
    "                  'vasEndothelial Cells', \n",
    "                  \n",
    "                  'COL3A1 PI16 Fibroblasts', \n",
    "                  'Immune Cells',\n",
    "                  'vasEndothelial Cells', \n",
    "                  'lymEndothelial Cells',\n",
    "                  'Nervous System Cells',\n",
    "                  'Smooth Myocytes', \n",
    "                  'COL6A6 FNDC1 Fibroblasts',\n",
    "                  \n",
    "                  'NEGR1 SCN7A Fibroblasts', \n",
    "                  'Skeletal Myocytes',\n",
    "                  'Satellite Cells', \n",
    "                  'COL3A1 PI16 Fibroblasts'\n",
    "                 ],  \n",
    "    'microenvironment': ['tendon', 'tendon', 'tendon', 'tendon', 'tendon', 'tendon', \n",
    "                        'loosect','loosect','loosect','loosect','loosect','loosect','loosect',\n",
    "                        'muscle','muscle','muscle','muscle']\n",
    "})\n",
    "microenv"
   ]
  },
  {
   "cell_type": "code",
   "execution_count": null,
   "id": "e7018f7f",
   "metadata": {},
   "outputs": [],
   "source": [
    "microenv.to_csv(os.path.join(RESULTS_FOLDERNAME,'microenvironments.tsv'), sep='\\t', index=False)\n",
    "microenv = pd.read_csv(os.path.join(RESULTS_FOLDERNAME,'microenvironments.tsv'), sep='\\t')\n",
    "microenv"
   ]
  },
  {
   "cell_type": "markdown",
   "id": "761dc404",
   "metadata": {},
   "source": [
    "# RUNNING CPDB"
   ]
  },
  {
   "cell_type": "code",
   "execution_count": null,
   "id": "07c291bc",
   "metadata": {},
   "outputs": [],
   "source": [
    "cpdb_version = 'v4.1.0'\n",
    "cpdb_file_path = os.path.join(RESULTS_FOLDERNAME, cpdb_version, 'cellphonedb.zip')\n",
    "meta_file_path = os.path.join(RESULTS_FOLDERNAME, 'metadata.tsv')\n",
    "microenvs_file_path = os.path.join(RESULTS_FOLDERNAME, 'microenvironments.tsv')\n",
    "counts_file_path = os.path.join(RESULTS_FOLDERNAME, '20w_normalised_counts.h5ad')\n",
    "out_path = os.path.join(RESULTS_FOLDERNAME, 'results/method2/')"
   ]
  },
  {
   "cell_type": "markdown",
   "id": "0553c1e9",
   "metadata": {},
   "source": [
    "prepare the microenvironment file based on the spatial data results. Check if worth doing only on 20w samples or on the whole dataset."
   ]
  },
  {
   "cell_type": "code",
   "execution_count": null,
   "id": "be9c70e4",
   "metadata": {},
   "outputs": [],
   "source": [
    "adata.var.index = adata.var['ensembl_gene_id']\n",
    "adata.var"
   ]
  },
  {
   "cell_type": "code",
   "execution_count": null,
   "id": "f1c7d206",
   "metadata": {},
   "outputs": [],
   "source": [
    "%%time\n",
    "\n",
    "from cellphonedb.src.core.methods import cpdb_statistical_analysis_method\n",
    "\n",
    "deconvoluted, means, pvalues, significant_means = cpdb_statistical_analysis_method.call(\n",
    "    cpdb_file_path = cpdb_file_path,                 # mandatory: CellPhoneDB database zip file.\n",
    "    meta_file_path = meta_file_path,                 # mandatory: tsv file defining barcodes to cell label.\n",
    "    counts_file_path = counts_file_path,             # mandatory: normalized count matrix.\n",
    "    counts_data = 'ensembl',                         # defines the gene annotation in counts matrix.\n",
    "    microenvs_file_path = microenvs_file_path,       # optional (default: None): defines cells per microenvironment.\n",
    "    iterations = 1000,                               # denotes the number of shufflings performed in the analysis.\n",
    "    threshold = 0.1,                                # defines the min % of cells expressing a gene for this to be employed in the analysis.\n",
    "    threads = 8,                                     # number of threads to use in the analysis.\n",
    "    debug_seed = 42,                                 # debug randome seed. To disable >=0.\n",
    "    result_precision = 3,                            # Sets the rounding for the mean values in significan_means.\n",
    "    pvalue = 0.05,                                   # P-value threshold to employ for significance.\n",
    "    subsampling = False,                             # To enable subsampling the data (geometri sketching).\n",
    "    subsampling_log = False,                         # (mandatory) enable subsampling log1p for non log-transformed data inputs.\n",
    "    subsampling_num_pc = 100,                        # Number of componets to subsample via geometric skectching (dafault: 100).\n",
    "    subsampling_num_cells = 10000,                   # Number of cells to subsample (integer) (default: 1/3 of the dataset).\n",
    "    separator = '|',                                 # Sets the string to employ to separate cells in the results dataframes \"cellA|CellB\".\n",
    "    debug = False,                                   # Saves all intermediate tables employed during the analysis in pkl format.\n",
    "    output_path = out_path,                          # Path to save results.\n",
    "    output_suffix = None,                            # Replaces the timestamp in the output files by a user defined string in the  (default: None).\n",
    "    )"
   ]
  },
  {
   "cell_type": "code",
   "execution_count": null,
   "id": "7d581122",
   "metadata": {},
   "outputs": [],
   "source": [
    "pvalues.head(3)"
   ]
  },
  {
   "cell_type": "code",
   "execution_count": null,
   "id": "f74660d3",
   "metadata": {},
   "outputs": [],
   "source": [
    "deconvoluted.head(3)"
   ]
  },
  {
   "cell_type": "code",
   "execution_count": null,
   "id": "30224be5",
   "metadata": {},
   "outputs": [],
   "source": [
    "means.head(3)"
   ]
  },
  {
   "cell_type": "code",
   "execution_count": null,
   "id": "49bf2ccf",
   "metadata": {},
   "outputs": [],
   "source": [
    "import ktplotspy as kpy\n",
    "import matplotlib.pyplot as plt\n",
    "\n",
    "ax = kpy.plot_cpdb_heatmap(\n",
    "        adata = adata,\n",
    "        pvals = pvalues,\n",
    "        celltype_key = \"cell_labels\",\n",
    "        figsize = (10,10),\n",
    "        title = \"Number of significant interactions\",\n",
    "        symmetrical = False\n",
    "    )\n",
    "plt.savefig(os.path.join(FIGURES_FOLDERNAME, 'cellphonedb_celltype_interactions.svg'))\n",
    "plt.show()"
   ]
  },
  {
   "cell_type": "code",
   "execution_count": null,
   "id": "d87a93bd",
   "metadata": {},
   "outputs": [],
   "source": [
    "from cellphonedb.utils import search_utils\n",
    "\n",
    "search_results = search_utils.search_analysis_results(\n",
    "    query_cell_types_1 = ['COL6A6 FNDC1 Fibroblasts'],  # List of cells 1, will be paired to cells 2 (list or 'All').\n",
    "    query_cell_types_2 = ['FGF14 THBS4 Fibroblasts'],     # List of cells 2, will be paired to cells 1 (list or 'All').\n",
    "    #query_genes = ['TGFBR1'],                                       # filter interactions based on the genes participating (list).\n",
    "    #query_interactions = ['CSF1_CSF1R'],                            # filter intereactions based on their name (list).\n",
    "    significant_means = significant_means,                          # significant_means file generated by CellPhoneDB.\n",
    "    deconvoluted = deconvoluted,                                    # devonvoluted file generated by CellPhoneDB.\n",
    "    separator = '|',                                                # separator (default: |) employed to split cells (cellA|cellB).\n",
    "    long_format = True                                              # converts the output into a wide table, removing non-significant interactions\n",
    ")\n",
    "\n",
    "search_results"
   ]
  }
 ],
 "metadata": {
  "kernelspec": {
   "display_name": "cellphonedb",
   "language": "python",
   "name": "cellphonedb"
  },
  "language_info": {
   "codemirror_mode": {
    "name": "ipython",
    "version": 3
   },
   "file_extension": ".py",
   "mimetype": "text/x-python",
   "name": "python",
   "nbconvert_exporter": "python",
   "pygments_lexer": "ipython3",
   "version": "3.8.16"
  }
 },
 "nbformat": 4,
 "nbformat_minor": 5
}
