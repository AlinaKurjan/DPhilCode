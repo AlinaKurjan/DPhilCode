{
 "cells": [
  {
   "cell_type": "code",
   "execution_count": null,
   "id": "5e16f23d",
   "metadata": {},
   "outputs": [],
   "source": [
    "# Import dependencies\n",
    "%matplotlib inline\n",
    "import os\n",
    "import scanpy as sc\n",
    "import seaborn as sns\n",
    "import matplotlib\n",
    "import matplotlib.pyplot as plt\n",
    "import pandas as pd\n",
    "import anndata as ad\n",
    "\n",
    "import harmony\n",
    "import harmony.core\n",
    "import harmony.plot\n",
    "import palantir\n",
    "\n",
    "matplotlib.rcParams['font.family'] = 'sans-serif'\n",
    "\n",
    "# Initialize random seed\n",
    "import random\n",
    "random.seed(111)\n",
    "\n",
    "# Print date and time:\n",
    "import datetime\n",
    "e = datetime.datetime.now()\n",
    "print (\"Current date and time = %s\" % e)\n",
    "\n",
    "# set a working directory\n",
    "wdir = \"/mnt/da8aa2c4-0136-465b-87a2-d12a59afec55/akurjan/analysis/notebooks\"\n",
    "os.chdir( wdir )\n",
    "\n",
    "# folder structures\n",
    "SCVI_FOLDERNAME = \"foetal/results/scVI/\"\n",
    "RESULTS_FOLDERNAME = \"foetal/results/Harmony\"\n",
    "FIGURES_FOLDERNAME = \"foetal/figures/Harmony\"\n",
    "\n",
    "if not os.path.exists(RESULTS_FOLDERNAME):\n",
    "    os.makedirs(RESULTS_FOLDERNAME)\n",
    "if not os.path.exists(FIGURES_FOLDERNAME):\n",
    "    os.makedirs(FIGURES_FOLDERNAME)\n",
    "\n",
    "# Set folder for saving figures into\n",
    "sc.settings.figdir = FIGURES_FOLDERNAME\n",
    "\n",
    "# Set other settings\n",
    "sc.settings.verbosity = 3 # verbosity: errors (0), warnings (1), info (2), hints (3)\n",
    "sc.logging.print_versions()\n",
    "sc.set_figure_params(dpi=150, fontsize=10, dpi_save=600)"
   ]
  },
  {
   "cell_type": "code",
   "execution_count": null,
   "id": "9fd80e28",
   "metadata": {},
   "outputs": [],
   "source": [
    "def savesvg(fname: str, fig, folder: str=FIGURES_FOLDERNAME) -> None:\n",
    "    \"\"\"\n",
    "    Save figure as vector-based SVG image format.\n",
    "    \"\"\"\n",
    "    fig.savefig(os.path.join(folder, fname), format='svg')"
   ]
  },
  {
   "cell_type": "markdown",
   "id": "871bfd71",
   "metadata": {},
   "source": [
    "### Harmony augmented affinity matrix\n",
    "The following metadata information is necessary for Harmony:\n",
    "\n",
    "- Timepoint at which each cell was measured\n",
    "- Connections between timepoints for computation of mutually nearest neighbors\n",
    "The timepoint at which each cell was measured for this dataset can be determined by string matching since the information has been added to the barcode name\n",
    "\n"
   ]
  },
  {
   "cell_type": "code",
   "execution_count": null,
   "id": "f2396db3",
   "metadata": {},
   "outputs": [],
   "source": [
    "adata = sc.read_h5ad(os.path.join(SCVI_FOLDERNAME, 'dev_scANVI.h5ad'))\n",
    "adata"
   ]
  },
  {
   "cell_type": "code",
   "execution_count": null,
   "id": "9aeaeb7b",
   "metadata": {},
   "outputs": [],
   "source": [
    "adata.X=adata.layers['scaled'].copy()"
   ]
  },
  {
   "cell_type": "code",
   "execution_count": null,
   "id": "96a6642e",
   "metadata": {},
   "outputs": [],
   "source": [
    "sc.pp.pca(adata, n_comps=50, svd_solver=\"arpack\")\n",
    "sc.pl.pca_loadings(adata, components='1,2,3,4,5,6,7,8')"
   ]
  },
  {
   "cell_type": "code",
   "execution_count": null,
   "id": "a108330e",
   "metadata": {},
   "outputs": [],
   "source": [
    "sc.pl.pca(adata, components=['1,2', '3,4', '5,6', '7,8'], ncols=2, color='phase')"
   ]
  },
  {
   "cell_type": "code",
   "execution_count": null,
   "id": "13339a52",
   "metadata": {},
   "outputs": [],
   "source": [
    "adata.obs['age'].value_counts()"
   ]
  },
  {
   "cell_type": "code",
   "execution_count": null,
   "id": "fe8b38e3",
   "metadata": {},
   "outputs": [],
   "source": [
    "adata.obs"
   ]
  },
  {
   "cell_type": "markdown",
   "id": "8d30ba5c",
   "metadata": {},
   "source": [
    "# DATA TEMPORAL REORGANISATION"
   ]
  },
  {
   "cell_type": "markdown",
   "id": "78dfa0de",
   "metadata": {},
   "source": [
    "For this to work, I need to reorganise my anndata objects in a chronologically meaningful way so that the combined counts matrices and everything else starts with data from 12pcw and finishes with data from the oldest sample, 20w."
   ]
  },
  {
   "cell_type": "code",
   "execution_count": null,
   "id": "8aed138d",
   "metadata": {},
   "outputs": [],
   "source": [
    "adata.obs['sample'].value_counts()"
   ]
  },
  {
   "cell_type": "code",
   "execution_count": null,
   "id": "bf424d9b",
   "metadata": {},
   "outputs": [],
   "source": [
    "adata.obs['age'] = adata.obs['age'].astype('category')\n",
    "adata.obs['age'].values"
   ]
  },
  {
   "cell_type": "code",
   "execution_count": null,
   "id": "f22e4f0f",
   "metadata": {},
   "outputs": [],
   "source": [
    "adata.var_names_make_unique()"
   ]
  },
  {
   "cell_type": "code",
   "execution_count": null,
   "id": "0c3aab84",
   "metadata": {},
   "outputs": [],
   "source": [
    "# Split the data by sample into a dictionary of anndata objects\n",
    "adata_dict = {}\n",
    "for sample in adata.obs['sample'].unique():\n",
    "    adata_dict[sample] = adata[adata.obs['sample'] == sample].copy()\n",
    "    adata_dict[sample].var_names_make_unique()\n",
    "\n",
    "# Sort the dictionary by the age of the sample\n",
    "sorted_adata_dict = {}\n",
    "for age in ['12w', '17w', '20w']:\n",
    "    sorted_adata_dict.update({k: v for k, v in adata_dict.items() if v.obs['age'].cat.categories[0] == age})\n",
    "\n",
    "del adata_dict\n",
    "    \n",
    "for key, adata in sorted_adata_dict.items():\n",
    "    adata.var_names_make_unique()\n",
    "    adata.obs_names_make_unique()\n",
    "    adata.raw = adata\n",
    "\n",
    "sorted_adata_list = list(sorted_adata_dict.values())\n",
    "\n",
    "adata = ad.concat(sorted_adata_list, join='outer', index_unique=None)\n",
    "adata"
   ]
  },
  {
   "cell_type": "code",
   "execution_count": null,
   "id": "3c79f140",
   "metadata": {},
   "outputs": [],
   "source": [
    "del sorted_adata_list"
   ]
  },
  {
   "cell_type": "code",
   "execution_count": null,
   "id": "7154d749",
   "metadata": {},
   "outputs": [],
   "source": [
    "adata.obs"
   ]
  },
  {
   "cell_type": "markdown",
   "id": "3bd245c8",
   "metadata": {},
   "source": [
    "# CALCULATING AUGMENTED AFFINITY MATRIX"
   ]
  },
  {
   "cell_type": "code",
   "execution_count": null,
   "id": "dcdc6066",
   "metadata": {},
   "outputs": [],
   "source": [
    "# specify the timepoint information for Harmony\n",
    "tp = adata.obs['age'].astype(str)\n",
    "\n",
    "# specify the timepoint connections for the augmented affinity matrix\n",
    "timepoint_connections = pd.DataFrame({'from_timepoint': ['12w', '17w'], 'to_timepoint': ['17w', '20w']})\n",
    "\n",
    "data_df=pd.DataFrame(adata.obsm[\"X_scANVI\"],index=adata.obs_names)"
   ]
  },
  {
   "cell_type": "code",
   "execution_count": null,
   "id": "2679debf",
   "metadata": {},
   "outputs": [],
   "source": [
    "data_df"
   ]
  },
  {
   "cell_type": "markdown",
   "id": "4e8611e6",
   "metadata": {},
   "source": [
    "In the `harmony.core.augmented_affinity_matrix` function, `aff` is a regular (non-augmented) affinity matrix computed based on the nearest neighbors graph of the input data.It can be useful for downstream analysis or visualization purposes, as it captures the intrinsic relationship between the cells in the original space.\n",
    "\n",
    "The `aug_aff` output, on the other hand, is the augmented affinity matrix that incorporates the temporal information between the different timepoints. This matrix can be used in downstream analysis methods that take into account the developmental trajectory of the cells, such as RNA velocity or Palantir."
   ]
  },
  {
   "cell_type": "code",
   "execution_count": null,
   "id": "cf8e0107",
   "metadata": {},
   "outputs": [],
   "source": [
    "# generate the augmented affinity matrix (aug_aff) and the non-augmented matrix (aff)\n",
    "aug_aff, aff = harmony.core.augmented_affinity_matrix(data_df, tp, timepoint_connections, n_neighbors=20, pc_components=None)\n",
    "\n",
    "# add the augmented affinity matrix to obsm\n",
    "adata.obsm['X_aug_aff'] = aug_aff"
   ]
  },
  {
   "cell_type": "code",
   "execution_count": null,
   "id": "e04671a6",
   "metadata": {},
   "outputs": [],
   "source": [
    "# computes force directed layout coordinates from the augmented aff matrix\n",
    "layout = harmony.plot.force_directed_layout(aug_aff, data_df.index)"
   ]
  },
  {
   "cell_type": "code",
   "execution_count": null,
   "id": "fb14aba3",
   "metadata": {},
   "outputs": [],
   "source": [
    "# makes the plot\n",
    "harmony.plot.plot_timepoints(layout, tp)"
   ]
  },
  {
   "cell_type": "code",
   "execution_count": null,
   "id": "4e0c1952",
   "metadata": {},
   "outputs": [],
   "source": [
    "# Add layout coordinates to anndata object\n",
    "adata.obsm['X_force_directed_layout'] = layout\n",
    "adata.obsm['force_directed_array'] = adata.obsm['X_force_directed_layout'].values\n",
    "sc.pl.embedding(adata, basis='force_directed_array', color='age',\n",
    "               frameon=False,\n",
    "               save='_dev_harmony_age.png')"
   ]
  },
  {
   "cell_type": "code",
   "execution_count": null,
   "id": "f1b96b6a",
   "metadata": {},
   "outputs": [],
   "source": [
    "#from IPython.display import Image\n",
    "#Image(filename=os.path.join(FIGURES_FOLDERNAME,'force_directed_array_dev_harmony_age.png'))"
   ]
  },
  {
   "cell_type": "code",
   "execution_count": null,
   "id": "92a3120e",
   "metadata": {
    "scrolled": false
   },
   "outputs": [],
   "source": [
    "sc.pl.embedding(adata, basis='force_directed_array', color='age',\n",
    "               frameon=False, groups = ['12w'],\n",
    "               save='_dev_harmony_age_split12w.svg')\n",
    "sc.pl.embedding(adata, basis='force_directed_array', color='age',\n",
    "               frameon=False, groups = ['17w'],\n",
    "               save='_dev_harmony_age_split17w.svg')\n",
    "sc.pl.embedding(adata, basis='force_directed_array', color='age',\n",
    "               frameon=False, groups = ['20w'],\n",
    "               save='_dev_harmony_age_split20w.svg')"
   ]
  },
  {
   "cell_type": "code",
   "execution_count": null,
   "id": "51847a7a",
   "metadata": {},
   "outputs": [],
   "source": [
    "sc.pl.embedding(adata, basis='force_directed_array', color='C_scANVI',\n",
    "               frameon=False,\n",
    "               save='_dev_harmony_celltype.svg')"
   ]
  },
  {
   "cell_type": "code",
   "execution_count": null,
   "id": "23e56ce5",
   "metadata": {},
   "outputs": [],
   "source": [
    "%%time\n",
    "sc.pp.neighbors(adata, n_neighbors=20, use_rep=\"X_aug_aff\", metric='correlation')\n",
    "sc.tl.umap(adata)"
   ]
  },
  {
   "cell_type": "code",
   "execution_count": null,
   "id": "2d81d4fa",
   "metadata": {},
   "outputs": [],
   "source": [
    "def plot_umaps(anndata, parameters: list, filename: str):\n",
    "    n_plots = len(parameters)\n",
    "    fig, axs = plt.subplots(n_plots, 1, figsize=(7, 4*n_plots))\n",
    "    for i, param in enumerate(parameters):\n",
    "        sc.pl.umap(anndata, color=param, ax=axs[i], show=False, frameon=False)\n",
    "        axs[i].set_title(param)\n",
    "    plt.tight_layout()\n",
    "    savesvg(filename, fig)\n",
    "    plt.show()"
   ]
  },
  {
   "cell_type": "code",
   "execution_count": null,
   "id": "32e32665",
   "metadata": {
    "scrolled": false
   },
   "outputs": [],
   "source": [
    "plot_umaps(adata, ['sampletype', 'age', 'libbatch', 'sample', 'type', 'phase', 'sex', 'C_scANVI'], \n",
    "           filename = 'dev_UMAP_plots_augagg.svg')"
   ]
  },
  {
   "cell_type": "code",
   "execution_count": null,
   "id": "2ddac17d",
   "metadata": {},
   "outputs": [],
   "source": [
    "adata.write(os.path.join(RESULTS_FOLDERNAME, '{}.h5ad'.format('dev_harmony')))"
   ]
  },
  {
   "cell_type": "markdown",
   "id": "33346d14",
   "metadata": {},
   "source": [
    "The augmented affinity matrix aug_aff can be used for a variety of downstream analyses, including:\n",
    "\n",
    "1) RNA velocity analysis: scVelo is one package that allows you to perform RNA velocity analysis using an augmented affinity matrix. You can calculate the RNA velocity for each cell by estimating the spliced and unspliced transcript counts from the scRNA-seq data and projecting them onto the low-dimensional embedding generated from the augmented affinity matrix.\n",
    "\n",
    "2) Trajectory inference: CellRank and Palantir are two packages that can use the augmented affinity matrix to infer cell trajectories. These methods allow you to identify branching points and end points, and to visualize the trajectory in a low-dimensional embedding.\n",
    "\n",
    "3) Cell state transitions: The augmented affinity matrix can be used to visualize cell state transitions across different time points. You can identify cells that change their state across different time points and visualize the trajectory of these cells in the low-dimensional embedding.\n",
    "\n",
    "4) Differential gene expression analysis: You can use the augmented affinity matrix to perform differential gene expression analysis across different time points. You can identify genes that are differentially expressed between different time points and visualize their expression patterns in the low-dimensional embedding."
   ]
  },
  {
   "cell_type": "markdown",
   "id": "d2d480bf",
   "metadata": {},
   "source": [
    "Using the augmented affinity matrix to visualize cell state transitions across different time points can provide insights into the dynamics of cell populations over time. Specifically, you can identify cells that change their state across different time points and visualize the trajectory of these cells in the low-dimensional embedding generated from the augmented affinity matrix.\n",
    "\n",
    "To do this, you can first identify cells that correspond to the same biological sample at different time points. For example, if you have scRNA-seq data from fetal samples at different gestational ages, you can group cells by sample and time point. Next, you can calculate the cell-state scores for each cell using a gene signature that represents the cell state of interest. For example, if you're interested in identifying cells that undergo a mesenchymal-to-epithelial transition (MET), you can use a gene signature that represents the mesenchymal and epithelial states.\n",
    "\n",
    "Once you have the cell-state scores, you can identify cells that change their state across different time points. For example, you can calculate the difference in cell-state scores between cells from adjacent time points, and identify cells with the largest changes in cell-state scores. You can then visualize the trajectory of these cells in the low-dimensional embedding generated from the augmented affinity matrix. Cells that change their state in a continuous and gradual manner will appear as a smooth trajectory in the embedding, while cells that undergo a more abrupt transition will appear as a discontinuous jump in the trajectory.\n",
    "\n",
    "There are several packages that could be suitable for identifying marker genes associated with a particular biological process, such as MET, e.g. SCENIC: SCENIC (Single-Cell Regulatory Network Inference and Clustering) is a computational method that uses single-cell RNA sequencing data to infer gene regulatory networks and identify transcription factors that drive gene expression in specific cell types or biological processes. SCENIC can be used to identify putative regulatory factors that drive MET."
   ]
  },
  {
   "cell_type": "markdown",
   "id": "234afec1",
   "metadata": {},
   "source": [
    "## Palantir trajectory detection\n",
    "Palantir is an algorithm developed by the Pe'er lab to align cells along differentiation trajectories. Palantir models differentiation as a stochastic process where stem cells differentiate to terminally differentiated cells by a series of steps through a low dimensional phenotypic manifold. Palantir effectively captures the continuity in cell states and the stochasticity in cell fate determination.\n",
    "\n",
    "The first step in Palantir trajectory detection is to project data onto diffusion maps. Harmony augmented affinity matrix is used as the input for identifying diffusion maps. Please see https://github.com/dpeerlab/Palantir for more details on Palantir"
   ]
  },
  {
   "cell_type": "code",
   "execution_count": null,
   "id": "27750ee8",
   "metadata": {},
   "outputs": [],
   "source": [
    "import palantir\n",
    "dm_res = palantir.utils.run_diffusion_maps(aug_aff)\n",
    "ms_data = palantir.utils.determine_multiscale_space(dm_res,n_eigs=8)\n",
    "ms_data.index = data_df.index\\\n",
    "\n",
    "adata.obsp[\"T\"]=dm_res[\"T\"]\n",
    "adata.obsm[\"X_msdiff\"]=ms_data.values"
   ]
  },
  {
   "cell_type": "code",
   "execution_count": null,
   "id": "0fa1cc5a",
   "metadata": {},
   "outputs": [],
   "source": [
    "ms_data"
   ]
  },
  {
   "cell_type": "code",
   "execution_count": null,
   "id": "64828b5f",
   "metadata": {},
   "outputs": [],
   "source": [
    "%%time\n",
    "sc.tl.tsne(adata,use_rep=\"X_msdiff\",perplexity=100,learning_rate=adata.shape[0]/12)"
   ]
  },
  {
   "cell_type": "code",
   "execution_count": null,
   "id": "827cfe6c",
   "metadata": {},
   "outputs": [],
   "source": [
    "sc.pl.tsne(adata,color=\"C_scANVI\")\n",
    "plt.savefig(os.path.join(FIGURES_FOLDERNAME, 'dev_msdiff_TSNE.svg'), format='svg')\n",
    "plt.savefig(os.path.join(FIGURES_FOLDERNAME, 'dev_msdiff_TSNEpng.png'), format='png')\n",
    "# Image(filename=os.path.join(FIGURES_FOLDERNAME,'msdiff_TSNEpng.png'))"
   ]
  },
  {
   "cell_type": "code",
   "execution_count": null,
   "id": "a2c055d7",
   "metadata": {},
   "outputs": [],
   "source": [
    "sc.pl.tsne(adata,color=\"ageint\",legend_loc='right margin', cmap='viridis')\n",
    "plt.savefig(os.path.join(FIGURES_FOLDERNAME, 'dev_msdiff_TSNEage.png'), format='png')\n",
    "# Image(filename=os.path.join(FIGURES_FOLDERNAME,'msdiff_TSNEage.png'))"
   ]
  },
  {
   "cell_type": "code",
   "execution_count": null,
   "id": "c15755e5",
   "metadata": {},
   "outputs": [],
   "source": [
    "sc.pp.neighbors(adata, n_neighbors=30, use_rep=\"X_msdiff\")\n",
    "sc.tl.draw_graph(adata, init_pos=\"X_tsne\", maxiter=500)"
   ]
  },
  {
   "cell_type": "code",
   "execution_count": null,
   "id": "ed339d0b",
   "metadata": {},
   "outputs": [],
   "source": [
    "sc.pl.draw_graph(adata,color=\"C_scANVI\", save='dev_msdiff_graph.svg')\n",
    "plt.savefig(os.path.join(FIGURES_FOLDERNAME, 'dev_msdiff_graph.png'), format='png')\n",
    "# Image(filename=os.path.join(FIGURES_FOLDERNAME,'msdiff_graph.png'))"
   ]
  },
  {
   "cell_type": "code",
   "execution_count": null,
   "id": "8eafdda4",
   "metadata": {},
   "outputs": [],
   "source": [
    "sc.pl.draw_graph(adata,color=[\"age\"])"
   ]
  },
  {
   "cell_type": "code",
   "execution_count": null,
   "id": "de67d8b8",
   "metadata": {},
   "outputs": [],
   "source": [
    "sc.pl.draw_graph(adata,color=[\"ageint\"], cmap='viridis')"
   ]
  },
  {
   "cell_type": "code",
   "execution_count": null,
   "id": "a43b750f",
   "metadata": {},
   "outputs": [],
   "source": [
    "sc.pl.draw_graph(adata,color=[\"phase\"])"
   ]
  },
  {
   "cell_type": "code",
   "execution_count": null,
   "id": "891343a4",
   "metadata": {},
   "outputs": [],
   "source": [
    "adata"
   ]
  },
  {
   "cell_type": "code",
   "execution_count": null,
   "id": "4d9bc7d1",
   "metadata": {},
   "outputs": [],
   "source": [
    "sc.tl.paga(adata,\"C_scANVI\")\n",
    "sc.pl.paga(adata,threshold=.05, node_size_scale=1,\n",
    "          fontsize=4, fontoutline=1, frameon=False, save='_paga.png')"
   ]
  },
  {
   "cell_type": "code",
   "execution_count": null,
   "id": "d67f5b8a",
   "metadata": {},
   "outputs": [],
   "source": [
    "adata.write(os.path.join(RESULTS_FOLDERNAME, 'dev_harmony.h5ad'))"
   ]
  },
  {
   "cell_type": "code",
   "execution_count": null,
   "id": "320bede6",
   "metadata": {},
   "outputs": [],
   "source": [
    "adata.obs[['sampletype', 'age', 'sex', 'libbatch']].groupby('sampletype').first().to_csv(os.path.join(RESULTS_FOLDERNAME,'sample_metadata.csv'), index=True)"
   ]
  },
  {
   "cell_type": "code",
   "execution_count": null,
   "id": "7571c447",
   "metadata": {},
   "outputs": [],
   "source": [
    "adata = sc.read_h5ad(os.path.join(RESULTS_FOLDERNAME, 'dev_harmony.h5ad'))"
   ]
  },
  {
   "cell_type": "code",
   "execution_count": null,
   "id": "f154ce1e",
   "metadata": {},
   "outputs": [],
   "source": [
    "adata.X=adata.layers['scaled'].copy()\n",
    "sc.pp.pca(adata, n_comps=50, svd_solver=\"arpack\")\n",
    "sc.pl.pca_loadings(adata, components='1,2,3,4,5,6,7,8')"
   ]
  },
  {
   "cell_type": "code",
   "execution_count": null,
   "id": "055f1a88",
   "metadata": {},
   "outputs": [],
   "source": [
    "adata.obs.columns"
   ]
  },
  {
   "cell_type": "code",
   "execution_count": null,
   "id": "e923f5c1",
   "metadata": {},
   "outputs": [],
   "source": [
    "sc.pl.pca(adata, components=['1,2', '3,4', '5,6', '7,8'], ncols=2, color='pct_counts_mt')"
   ]
  }
 ],
 "metadata": {
  "kernelspec": {
   "display_name": "Python [conda env:seacells_env]",
   "language": "python",
   "name": "conda-env-seacells_env-py"
  },
  "language_info": {
   "codemirror_mode": {
    "name": "ipython",
    "version": 3
   },
   "file_extension": ".py",
   "mimetype": "text/x-python",
   "name": "python",
   "nbconvert_exporter": "python",
   "pygments_lexer": "ipython3",
   "version": "3.8.16"
  }
 },
 "nbformat": 4,
 "nbformat_minor": 5
}
