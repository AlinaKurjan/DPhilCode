{
 "cells": [
  {
   "cell_type": "code",
   "execution_count": null,
   "id": "1adf8e0a",
   "metadata": {
    "scrolled": false
   },
   "outputs": [],
   "source": [
    "# Import dependencies\n",
    "import os, glob, re, pickle\n",
    "from functools import partial\n",
    "from collections import OrderedDict\n",
    "import operator as op\n",
    "from cytoolz import compose\n",
    "\n",
    "import numpy as np\n",
    "import pandas as pd\n",
    "import scanpy as sc\n",
    "import scipy as sp\n",
    "import loompy as lp\n",
    "import seaborn as sns\n",
    "import matplotlib as mpl\n",
    "import matplotlib.pyplot as plt\n",
    "import anndata\n",
    "\n",
    "from pyscenic.export import export2loom, add_scenic_metadata\n",
    "from pyscenic.utils import load_motifs\n",
    "from pyscenic.transform import df2regulons\n",
    "from pyscenic.aucell import aucell\n",
    "from pyscenic.binarization import binarize\n",
    "from pyscenic.rss import regulon_specificity_scores\n",
    "from pyscenic.plotting import plot_binarization, plot_rss\n",
    "\n",
    "from IPython.display import HTML, display\n",
    "\n",
    "# Print date and time:\n",
    "import datetime\n",
    "e = datetime.datetime.now()\n",
    "print (\"Current date and time = %s\" % e)\n",
    "\n",
    "wdir = \"/mnt/da8aa2c4-0136-465b-87a2-d12a59afec55/akurjan/analysis/notebooks/adult/\"\n",
    "os.chdir( wdir )\n",
    "\n",
    "# folder structures\n",
    "INPUT_FOLDERNAME = \"annotation/results/\"\n",
    "RESULTS_FOLDERNAME = \"scenic/results/\"\n",
    "FIGURES_FOLDERNAME = \"scenic/figures/\"\n",
    "AUXILLIARIES_FOLDERNAME = \"../../files/auxilliaries/\"\n",
    "\n",
    "if not os.path.exists(RESULTS_FOLDERNAME):\n",
    "    os.makedirs(RESULTS_FOLDERNAME)\n",
    "if not os.path.exists(FIGURES_FOLDERNAME):\n",
    "    os.makedirs(FIGURES_FOLDERNAME)\n",
    "\n",
    "# Set folder for saving figures into\n",
    "sc.settings.figdir = FIGURES_FOLDERNAME\n",
    "\n",
    "DATASET_ID = \"adult_quad\"\n",
    "\n",
    "ADJACENCIES_FNAME = os.path.join(RESULTS_FOLDERNAME, '{}.adjacencies.tsv'.format(DATASET_ID))\n",
    "MOTIFS_FNAME = os.path.join(RESULTS_FOLDERNAME, '{}.motifs.csv'.format(DATASET_ID))\n",
    "REGULONS_DAT_FNAME = os.path.join(RESULTS_FOLDERNAME, '{}.regulons.dat'.format(DATASET_ID))\n",
    "AUCELL_MTX_FNAME = os.path.join(RESULTS_FOLDERNAME, '{}.auc.csv'.format(DATASET_ID))\n",
    "BIN_MTX_FNAME = os.path.join(RESULTS_FOLDERNAME, '{}.bin.csv'.format(DATASET_ID))\n",
    "THR_FNAME = os.path.join(RESULTS_FOLDERNAME, '{}.thresholds.csv'.format(DATASET_ID))\n",
    "ANNDATA_FNAME = os.path.join(RESULTS_FOLDERNAME, '{}.h5ad'.format(DATASET_ID))\n",
    "LOOM_FNAME = os.path.join(RESULTS_FOLDERNAME, '{}.scenic.loom'.format(DATASET_ID))\n",
    "RES_FNAME = os.path.join(RESULTS_FOLDERNAME, '{}.regulon_mat.csv'.format(DATASET_ID))\n",
    "\n",
    "def savesvg(fname: str, fig, folder: str=FIGURES_FOLDERNAME) -> None:\n",
    "    \"\"\"\n",
    "    Save figure as vector-based SVG image format.\n",
    "    \"\"\"\n",
    "    fig.tight_layout()\n",
    "    fig.savefig(os.path.join(folder, fname), format='svg')\n",
    "\n",
    "# Set other settings\n",
    "sc.settings.verbosity = 3 # verbosity: errors (0), warnings (1), info (2), hints (3)\n",
    "sc.logging.print_versions()\n",
    "sc.set_figure_params(dpi=150, fontsize=10, dpi_save=600)"
   ]
  },
  {
   "cell_type": "code",
   "execution_count": null,
   "id": "48071f75",
   "metadata": {},
   "outputs": [],
   "source": [
    "adata = sc.read_h5ad(os.path.join(INPUT_FOLDERNAME, 'adultdev_combined_scANVI.h5ad'))\n",
    "adata.var_names_make_unique()\n",
    "adata"
   ]
  },
  {
   "cell_type": "code",
   "execution_count": null,
   "id": "a40503ca",
   "metadata": {},
   "outputs": [],
   "source": [
    "adata = adata[adata.obs['grouptype'] == 'Adult_Quad'].copy()\n",
    "adata"
   ]
  },
  {
   "cell_type": "code",
   "execution_count": null,
   "id": "ca34f40b",
   "metadata": {},
   "outputs": [],
   "source": [
    "sc.pp.filter_genes(adata, min_counts=50, inplace=True)"
   ]
  },
  {
   "cell_type": "code",
   "execution_count": null,
   "id": "4f58813c",
   "metadata": {},
   "outputs": [],
   "source": [
    "print(adata.X[0:10,0:10])\n",
    "adata.layers[\"counts\"] = adata.X.copy()"
   ]
  },
  {
   "cell_type": "code",
   "execution_count": null,
   "id": "d64c9935",
   "metadata": {},
   "outputs": [],
   "source": [
    "sc.pp.normalize_total(adata, target_sum=None, inplace=True)\n",
    "print(adata.X[0:10,0:10])"
   ]
  },
  {
   "cell_type": "code",
   "execution_count": null,
   "id": "affa3d2c",
   "metadata": {},
   "outputs": [],
   "source": [
    "sc.pp.log1p(adata)\n",
    "print(adata.X[0:10, 0:10])\n",
    "adata.layers[\"log1p_norm\"] = adata.X.copy()"
   ]
  },
  {
   "cell_type": "code",
   "execution_count": null,
   "id": "d6c84eab",
   "metadata": {},
   "outputs": [],
   "source": [
    "data = pd.read_csv(os.path.join(INPUT_FOLDERNAME, \"Barcodes_and_celltypes_for_Alina.csv\"), index_col='barcodes')\n",
    "data"
   ]
  },
  {
   "cell_type": "code",
   "execution_count": null,
   "id": "b2e50a7e",
   "metadata": {},
   "outputs": [],
   "source": [
    "matched_data = adata.obs.join(data['cluster_id'], how='inner')\n",
    "matched_data"
   ]
  },
  {
   "cell_type": "code",
   "execution_count": null,
   "id": "ed1f2245",
   "metadata": {},
   "outputs": [],
   "source": [
    "adata.obs.index = adata.obs.index.astype(str)\n",
    "data.index = data.index.astype(str)\n",
    "\n",
    "missing_barcodes = set(data.index) - set(adata.obs.index)\n",
    "if len(missing_barcodes) > 0:\n",
    "    print(\"Warning: Some barcodes from the CSV are not present in the AnnData object.\")\n"
   ]
  },
  {
   "cell_type": "code",
   "execution_count": null,
   "id": "25547e04",
   "metadata": {},
   "outputs": [],
   "source": [
    "adata.obs['annotations_new'] = matched_data['cluster_id']"
   ]
  },
  {
   "cell_type": "code",
   "execution_count": null,
   "id": "10deaa32",
   "metadata": {},
   "outputs": [],
   "source": [
    "sc.pl.umap(adata, color='annotations_new', frameon=False, legend_loc='on data', \n",
    "           legend_fontsize=4,\n",
    "          save=f'{DATASET_ID}_new_annotations.svg'\n",
    "          )"
   ]
  },
  {
   "cell_type": "code",
   "execution_count": null,
   "id": "d651ba8e",
   "metadata": {},
   "outputs": [],
   "source": [
    "adata.obs['annotations_orig_full'] = adata.obs['annotations_orig_full'].apply(lambda x: '_'.join(x.split('_')[2:]) if len(x.split('_')) > 2 else '')"
   ]
  },
  {
   "cell_type": "code",
   "execution_count": null,
   "id": "ccc9cfc6",
   "metadata": {},
   "outputs": [],
   "source": [
    "sc.pl.umap(adata, color='leiden_fibros', frameon=False, legend_loc='on data', legend_fontsize=6,\n",
    "          save=f'{DATASET_ID}_leiden_fibros.svg'\n",
    "          )"
   ]
  },
  {
   "cell_type": "code",
   "execution_count": null,
   "id": "268f2f13",
   "metadata": {},
   "outputs": [],
   "source": [
    "sc.pl.umap(adata, color='tendon_status', frameon=False, legend_loc='on data', legend_fontsize=6,\n",
    "          save=f'{DATASET_ID}_status.svg'\n",
    "          )"
   ]
  },
  {
   "cell_type": "markdown",
   "id": "eea9a023",
   "metadata": {},
   "source": [
    "# Downloading files"
   ]
  },
  {
   "cell_type": "markdown",
   "id": "e3a18184",
   "metadata": {},
   "source": [
    "Pick and download from https://resources.aertslab.org/cistarget/:"
   ]
  },
  {
   "cell_type": "code",
   "execution_count": null,
   "id": "6aef1e39",
   "metadata": {},
   "outputs": [],
   "source": [
    "!wget https://resources.aertslab.org/cistarget/tf_lists/allTFs_hg38.txt"
   ]
  },
  {
   "cell_type": "markdown",
   "id": "3811a518",
   "metadata": {},
   "source": [
    "### v10"
   ]
  },
  {
   "cell_type": "code",
   "execution_count": null,
   "id": "f220c651",
   "metadata": {},
   "outputs": [],
   "source": [
    "!wget https://resources.aertslab.org/cistarget/databases/homo_sapiens/hg38/refseq_r80/mc_v10_clust/gene_based/hg38_10kbp_up_10kbp_down_full_tx_v10_clust.genes_vs_motifs.rankings.feather"
   ]
  },
  {
   "cell_type": "code",
   "execution_count": null,
   "id": "58bb0caf",
   "metadata": {},
   "outputs": [],
   "source": [
    "!wget https://resources.aertslab.org/cistarget/databases/homo_sapiens/hg38/refseq_r80/mc_v10_clust/gene_based/hg38_500bp_up_100bp_down_full_tx_v10_clust.genes_vs_motifs.rankings.feather"
   ]
  },
  {
   "cell_type": "code",
   "execution_count": null,
   "id": "ba7f9391",
   "metadata": {},
   "outputs": [],
   "source": [
    "!wget https://resources.aertslab.org/cistarget/motif2tf/motifs-v10nr_clust-nr.hgnc-m0.001-o0.0.tbl"
   ]
  },
  {
   "cell_type": "code",
   "execution_count": null,
   "id": "1ed6d815",
   "metadata": {},
   "outputs": [],
   "source": [
    "# transcription factors list from https://github.com/aertslab/SCENICprotocol/blob/master/example/\n",
    "HUMAN_TFS_FNAME = os.path.join(AUXILLIARIES_FOLDERNAME, 'allTFs_hg38.txt')\n",
    "# Ranking databases. Downloaded from cisTargetDB: https://resources.aertslab.org/cistarget/\n",
    "RANKING_DBS_FNAMES = list(map(lambda fn: os.path.join(AUXILLIARIES_FOLDERNAME, fn),\n",
    "                        ['v10/hg38_500bp_up_100bp_down_full_tx_v10_clust.genes_vs_motifs.rankings.feather',\n",
    "                        'v10/hg38_10kbp_up_10kbp_down_full_tx_v10_clust.genes_vs_motifs.rankings.feather']))\n",
    "# Motif annotations. Downloaded from cisTargetDB: https://resources.aertslab.org/cistarget/\n",
    "MOTIF_ANNOTATIONS_FNAME = os.path.join(AUXILLIARIES_FOLDERNAME, 'v10/motifs-v10nr_clust-nr.hgnc-m0.001-o0.0.tbl')"
   ]
  },
  {
   "cell_type": "code",
   "execution_count": null,
   "id": "d67e3fb1",
   "metadata": {},
   "outputs": [],
   "source": [
    "RANKING_DBS_FNAMES"
   ]
  },
  {
   "cell_type": "markdown",
   "id": "0bb07126",
   "metadata": {},
   "source": [
    "# SCENIC Loom File Prep"
   ]
  },
  {
   "cell_type": "code",
   "execution_count": null,
   "id": "bd6fde53",
   "metadata": {},
   "outputs": [],
   "source": [
    "print(adultquad.var_names)\n",
    "print(adultquad.obs_names)"
   ]
  },
  {
   "cell_type": "code",
   "execution_count": null,
   "id": "cc9be3f4",
   "metadata": {},
   "outputs": [],
   "source": [
    "print(adultquad.X[1:5,1:5])\n",
    "print(adultach.X[1:5,1:5])"
   ]
  },
  {
   "cell_type": "code",
   "execution_count": null,
   "id": "403d4025",
   "metadata": {},
   "outputs": [],
   "source": [
    "adatadict = {'adult_quad': adultquad,\n",
    "            'adult_ach': adultach}\n",
    "adatadict"
   ]
  },
  {
   "cell_type": "code",
   "execution_count": null,
   "id": "fbe9300c",
   "metadata": {},
   "outputs": [],
   "source": [
    "for name, adata in adatadict.items():\n",
    "    # create basic row and column attributes for the loom file:\n",
    "    row_attrs = {\n",
    "        \"Gene\": np.array(adata.var_names) ,\n",
    "    }\n",
    "    col_attrs = {\n",
    "        \"CellID\": np.array(adata.obs_names) ,\n",
    "        \"nGene\": np.array( np.sum(adata.X.transpose()>0 , axis=0)).flatten() ,\n",
    "        \"nUMI\": np.array( np.sum(adata.X.transpose() , axis=0)).flatten() ,\n",
    "    }\n",
    "    lp.create(os.path.join(RESULTS_FOLDERNAME, f'{name}.scenic.loom'), adata.X.transpose(), row_attrs, col_attrs)"
   ]
  },
  {
   "cell_type": "markdown",
   "id": "c14da07a",
   "metadata": {},
   "source": [
    "# SCENIC"
   ]
  },
  {
   "cell_type": "markdown",
   "id": "163b73ff",
   "metadata": {},
   "source": [
    "### Checking parameters for AUCELL (step 3)\n",
    "\n",
    "\"It is important to check that most cells have a substantial fraction of expressed/detected genes in the calculation of the AUC. The following histogram gives an idea of the distribution and allows selection of an appropriate threshold. In this plot, a few thresholds are highlighted, with the number of genes selected shown in red text and the corresponding percentile in parentheses).\" \"See the relevant section in the R tutorial (https://scenic.aertslab.org/scenic_paper/tutorials/AUCell.html#build-gene-expression-rankings-for-each-cell) for more information.\"\n",
    "\n",
    "The information obtained from this plot can be used to set appropriate thresholds for filtering out low-quality cells or genes from downstream analysis. For example, cells with very low numbers of detected genes may be considered low-quality and removed from the dataset. Conversely, genes that are detected in only a small number of cells may also be filtered out as potential noise."
   ]
  },
  {
   "cell_type": "code",
   "execution_count": null,
   "id": "bbcc2434",
   "metadata": {
    "scrolled": false
   },
   "outputs": [],
   "source": [
    "for name, adata in adatadict.items():\n",
    "    nGenesDetectedPerCell = pd.DataFrame(np.sum(adata.X>0, axis=1))\n",
    "    nGenesDetectedPerCell = nGenesDetectedPerCell.squeeze()\n",
    "\n",
    "    percentiles = nGenesDetectedPerCell.quantile([0.01, 0.05, 0.10, 0.50, 1])\n",
    "    print(percentiles)\n",
    "\n",
    "    fig, ax = plt.subplots(1, 1, figsize=(8, 5), dpi=150)\n",
    "    sns.distplot(nGenesDetectedPerCell, norm_hist=False, kde=False, bins='fd')\n",
    "    for i,x in enumerate(percentiles):\n",
    "        fig.gca().axvline(x=x, ymin=0,ymax=1, color='red')\n",
    "        ax.text(x=x, y=ax.get_ylim()[1], s=f'{int(x)} ({percentiles.index.values[i]*100}%)', color='red', rotation=30, size='x-small',rotation_mode='anchor' )\n",
    "    ax.set_title('# of genes detected per cell')\n",
    "    ax.set_xlabel('# of genes')\n",
    "    ax.set_ylabel('# of cells')\n",
    "    fig.tight_layout()"
   ]
  },
  {
   "cell_type": "markdown",
   "id": "d7afaf39",
   "metadata": {},
   "source": [
    "The `--auc_threshold` value determines the minimum Area Under the Curve (AUC) score that a gene must have in order to be considered significant. By setting the `--auc_threshold` parameter to a specific value, we control the stringency of the gene signature enrichment analysis. Genes with AUC scores below the threshold are considered non-significant and are excluded from downstream analysis. A lower threshold value will result in more genes being considered significant, while a higher threshold value will result in fewer genes being considered significant. The choice of threshold value will depend on the specific research question and the quality of the data.\n",
    "\n",
    "During the SCENIC workflow, the AUC score is used to assess the enrichment of each gene signature in each cell type or condition. The AUC score reflects the ability of a gene signature to discriminate between the expression profiles of two cell types or conditions. Genes with high AUC scores are considered to be strongly associated with the gene signature and are likely to play an important role in the biological process or pathway represented by the signature.\n",
    "\n",
    "In general, it is recommended to use a threshold that strikes a balance between sensitivity and specificity in identifying significant genes. Setting a low threshold value will result in more genes being identified as significant, but may also increase the risk of false positives. Setting a high threshold value will reduce the number of false positives, but may also lead to false negatives and miss important genes.\n",
    "\n",
    "One approach to selecting an appropriate threshold value is to consider the distribution of AUC scores across all genes in the dataset. If the distribution is bimodal, with one peak representing non-significant genes and another peak representing significant genes, the threshold can be set at the valley between the two peaks. However, if the distribution is unimodal or irregular, other methods can be used.\n",
    "\n",
    "- By using the setting for `--auc_threshold` of 0.05, we see that 507 genes are selected for the rankings based on the plot above."
   ]
  },
  {
   "cell_type": "markdown",
   "id": "5645eb2c",
   "metadata": {},
   "source": [
    "### ALL JOBS COMPUTATIONALLY HEAVY, RUN ON CCB CLUSTER \n",
    "(JUMBO NODE)"
   ]
  },
  {
   "cell_type": "markdown",
   "id": "f3bef1c4",
   "metadata": {},
   "source": [
    "#### STEP 1: Network inference based on GRNBoost2:"
   ]
  },
  {
   "cell_type": "code",
   "execution_count": null,
   "id": "db27a3ed",
   "metadata": {
    "scrolled": true
   },
   "outputs": [],
   "source": [
    "!pyscenic grn {LOOM_FNAME} {HUMAN_TFS_FNAME} \\\n",
    "-o {ADJACENCIES_FNAME} \\\n",
    "--seed 4000 \\\n",
    "--num_workers 40"
   ]
  },
  {
   "cell_type": "markdown",
   "id": "6579aec8",
   "metadata": {},
   "source": [
    "alternative if dask doesn't work:"
   ]
  },
  {
   "cell_type": "code",
   "execution_count": null,
   "id": "142d7363",
   "metadata": {},
   "outputs": [],
   "source": [
    "!arboreto_with_multiprocessing.py {LOOM_FNAME} {HUMAN_TFS_FNAME} \\\n",
    "-o {ADJACENCIES_FNAME} \\\n",
    "--num_workers 8 \\\n",
    "--method grnboost2 \\\n",
    "--seed 4000"
   ]
  },
  {
   "cell_type": "markdown",
   "id": "777016ef",
   "metadata": {},
   "source": [
    "#### STEP2: Regulon prediction (cisTarget):"
   ]
  },
  {
   "cell_type": "code",
   "execution_count": null,
   "id": "f6e24df6",
   "metadata": {},
   "outputs": [],
   "source": [
    "DBS_PARAM = ' '.join(RANKING_DBS_FNAMES)\n",
    "DBS_PARAM"
   ]
  },
  {
   "cell_type": "code",
   "execution_count": null,
   "id": "4462d3a4",
   "metadata": {},
   "outputs": [],
   "source": [
    "!pyscenic ctx {ADJACENCIES_FNAME} {DBS_PARAM}\\\n",
    "--annotations_fname {MOTIF_ANNOTATIONS_FNAME}\\\n",
    "--expression_mtx_fname {LOOM_FNAME}\\\n",
    "--output {MOTIFS_FNAME} \\\n",
    "--auc_threshold 0.05"
   ]
  },
  {
   "cell_type": "markdown",
   "id": "53a2300b",
   "metadata": {},
   "source": [
    "#### STEP3: AUCELL: CHECK APPROPRIATE AUC_THRESHOLD TO SET BEFORE RUNNING (see below)"
   ]
  },
  {
   "cell_type": "code",
   "execution_count": null,
   "id": "c003ce0b",
   "metadata": {},
   "outputs": [],
   "source": [
    "!pyscenic aucell {LOOM_FNAME} {MOTIFS_FNAME}\\\n",
    "--output {LOOM_FNAME_OUT}\\\n",
    "--auc_threshold 0.05"
   ]
  },
  {
   "cell_type": "markdown",
   "id": "d00d75f3",
   "metadata": {},
   "source": [
    "### Checking motifs"
   ]
  },
  {
   "cell_type": "code",
   "execution_count": null,
   "id": "cda52a6c",
   "metadata": {},
   "outputs": [],
   "source": [
    "df_motifs = load_motifs(MOTIFS_FNAME)\n",
    "df_motifs.head()"
   ]
  },
  {
   "cell_type": "code",
   "execution_count": null,
   "id": "8d011fd0",
   "metadata": {},
   "outputs": [],
   "source": [
    "#regulons = df2regulons(df_motifs)\n",
    "# Pickle these regulons.\n",
    "#with open(REGULONS_DAT_FNAME, 'wb') as f:\n",
    "#    pickle.dump(regulons, f)"
   ]
  },
  {
   "cell_type": "markdown",
   "id": "8a50d805",
   "metadata": {},
   "source": [
    "# SCENIC ANALYSIS\n",
    "\n",
    "## Visualization of SCENIC's AUC matrix"
   ]
  },
  {
   "cell_type": "code",
   "execution_count": null,
   "id": "1256bdde",
   "metadata": {},
   "outputs": [],
   "source": [
    "LOOM_FNAME_OUT = os.path.join(RESULTS_FOLDERNAME, '{}_01AUC.scenic.loom'.format(DATASET_ID))"
   ]
  },
  {
   "cell_type": "code",
   "execution_count": null,
   "id": "c89dbde3",
   "metadata": {},
   "outputs": [],
   "source": [
    "lf = lp.connect(LOOM_FNAME_OUT, mode='r+', validate=False )\n",
    "auc_mtx = pd.DataFrame( lf.ca.RegulonsAUC, index=lf.ca.CellID)\n",
    "#exprMat = pd.DataFrame( lf[:,:], index=lf.ra.Gene, columns=lf.ca.CellID)\n",
    "regulons = lf.ra.Regulons\n",
    "#res=pd.concat([pd.Series(r.tolist(),index=regulons.dtype.names) for r in regulons],axis=1)\n",
    "#res.columns=lf.row_attrs[\"Gene\"]\n",
    "#res.to_csv(RES_FNAME)\n",
    "lf.close()"
   ]
  },
  {
   "cell_type": "code",
   "execution_count": null,
   "id": "592db954",
   "metadata": {},
   "outputs": [],
   "source": [
    "# Pickle these regulons.\n",
    "with open(REGULONS_DAT_FNAME, 'wb') as f:\n",
    "    pickle.dump(regulons, f)"
   ]
  },
  {
   "cell_type": "code",
   "execution_count": null,
   "id": "06947a38",
   "metadata": {},
   "outputs": [],
   "source": [
    "auc_mtx"
   ]
  },
  {
   "cell_type": "markdown",
   "id": "5d579818",
   "metadata": {},
   "source": [
    "## Regulon Binarization"
   ]
  },
  {
   "cell_type": "code",
   "execution_count": null,
   "id": "c66dbf6a",
   "metadata": {},
   "outputs": [],
   "source": [
    "%%time \n",
    "bin_mtx, thresholds = binarize(auc_mtx)\n",
    "bin_mtx.to_csv(BIN_MTX_FNAME) \n",
    "thresholds.to_frame().rename(columns={0:'threshold'}).to_csv(THR_FNAME)"
   ]
  },
  {
   "cell_type": "code",
   "execution_count": null,
   "id": "5be3a7ce",
   "metadata": {},
   "outputs": [],
   "source": [
    "bin_mtx = pd.read_csv(BIN_MTX_FNAME, index_col=0)\n",
    "thresholds = pd.read_csv(THR_FNAME, index_col=0).threshold"
   ]
  },
  {
   "cell_type": "code",
   "execution_count": null,
   "id": "2e93806a",
   "metadata": {},
   "outputs": [],
   "source": [
    "bin_mtx"
   ]
  },
  {
   "cell_type": "code",
   "execution_count": null,
   "id": "a1c47bc4",
   "metadata": {},
   "outputs": [],
   "source": [
    "thresholds"
   ]
  },
  {
   "cell_type": "code",
   "execution_count": null,
   "id": "86818881",
   "metadata": {},
   "outputs": [],
   "source": [
    "# Create heatmap with binarized regulon activity.\n",
    "def palplot(pal, names, colors=None, size=1):\n",
    "    n = len(pal)\n",
    "    f, ax = plt.subplots(1, 1, figsize=(n * size, size))\n",
    "    ax.imshow(np.arange(n).reshape(1, n),\n",
    "              cmap=mpl.colors.ListedColormap(list(pal)),\n",
    "              interpolation=\"nearest\", aspect=\"auto\")\n",
    "    ax.set_xticks(np.arange(n) - .5)\n",
    "    ax.set_yticks([-.5, .5])\n",
    "    ax.set_xticklabels([])\n",
    "    ax.set_yticklabels([])\n",
    "    colors = n * ['k'] if colors is None else colors\n",
    "    for idx, (name, color) in enumerate(zip(names, colors)):\n",
    "        ax.text(0.0+idx, 0.0, name, color=color, horizontalalignment='center', verticalalignment='center')\n",
    "    return f"
   ]
  },
  {
   "cell_type": "code",
   "execution_count": null,
   "id": "2881e1cc",
   "metadata": {},
   "outputs": [],
   "source": [
    "adata = sc.read_h5ad(os.path.join(INPUT_FOLDERNAME, 'adultdev_cellhint.h5ad'))\n",
    "adata.var_names_make_unique()\n",
    "adata"
   ]
  },
  {
   "cell_type": "code",
   "execution_count": null,
   "id": "946f6bdb",
   "metadata": {},
   "outputs": [],
   "source": [
    "adata = adata[adata.obs['grouptype'].isin(['Adult_Quad_Healthy', 'Adult_Quad_Rupture'])]\n",
    "adata"
   ]
  },
  {
   "cell_type": "code",
   "execution_count": null,
   "id": "e1560641",
   "metadata": {},
   "outputs": [],
   "source": [
    "adata.uns['annotations_upd2_colors']"
   ]
  },
  {
   "cell_type": "code",
   "execution_count": null,
   "id": "8dd1852b",
   "metadata": {},
   "outputs": [],
   "source": [
    "unscolors = 'annotations_upd2_colors'\n",
    "groupcolors = 'annotations_upd2'"
   ]
  },
  {
   "cell_type": "code",
   "execution_count": null,
   "id": "45b17066",
   "metadata": {},
   "outputs": [],
   "source": [
    "import matplotlib as mpl\n",
    "#import colorcet as cc\n",
    "\n",
    "cats = sorted(list(set(adata.obs[groupcolors])))\n",
    "colors = sns.color_palette(adata.uns[unscolors], n_colors=len(cats)) #alt palette = 'bright'\n",
    "colorsd = dict( zip( cats, colors ))\n",
    "colormap = [ colorsd[x] for x in adata.obs[groupcolors] ]\n",
    "\n",
    "cell_id2cell_type_lut =adata.obs[groupcolors].to_dict()\n",
    "bw_palette = sns.xkcd_palette([\"white\", \"black\"])"
   ]
  },
  {
   "cell_type": "code",
   "execution_count": null,
   "id": "b041ab93",
   "metadata": {},
   "outputs": [],
   "source": [
    "sns.set()\n",
    "sns.set_style(\"whitegrid\")\n",
    "fig = palplot(bw_palette, ['OFF', 'ON'], ['k', 'w'])\n",
    "savesvg(f'{DATASET_ID}_legend_on_off.svg', fig)\n",
    "\n",
    "sns.set()\n",
    "sns.set(font_scale=1.0)\n",
    "fig = palplot(colors, cats, size=2.5)\n",
    "savesvg(f'{DATASET_ID}_legend_celltypes.svg', fig)\n",
    "\n",
    "#sns.set()\n",
    "#sns.set(font_scale=1.0)\n",
    "#fig = palplot(sns.color_palette(COLORS), adata.obs['CellType'].dtype.categories, size=3.0)"
   ]
  },
  {
   "cell_type": "code",
   "execution_count": null,
   "id": "8c50ebdd",
   "metadata": {},
   "outputs": [],
   "source": [
    "# Convert the index of auc_mtx to string, to ensure all operations are on strings\n",
    "auc_mtx.index = auc_mtx.index.map(str)\n",
    "\n",
    "# Map the index to cell types using a Series for better control and avoid implicit MultiIndex conversion\n",
    "cell_types_series = pd.Series(auc_mtx.index.map(cell_id2cell_type_lut), index=auc_mtx.index)\n",
    "\n",
    "# Now map the cell types to colors, handling missing keys properly\n",
    "mapped_colors = cell_types_series.map(lambda x: colorsd.get(x, (1, 1, 1)))  # Using a default color of white for missing keys\n",
    "\n",
    "# Check for any 'default_color' or placeholder (here using white)\n",
    "if (1, 1, 1) in mapped_colors.values:\n",
    "    missing_keys = [index for index, color in mapped_colors.iteritems() if color == (1, 1, 1)]\n",
    "    print(\"Missing keys for these index entries:\", missing_keys)"
   ]
  },
  {
   "cell_type": "code",
   "execution_count": null,
   "id": "b34da0eb",
   "metadata": {
    "scrolled": false
   },
   "outputs": [],
   "source": [
    "sns.set()\n",
    "sns.set(font_scale=1.0)\n",
    "sns.set_style(\"ticks\", {\"xtick.minor.size\": 1, \"ytick.minor.size\": 0.1})\n",
    "g = sns.clustermap(bin_mtx.T, \n",
    "               col_colors=mapped_colors,\n",
    "               cmap=bw_palette, figsize=(20,20))\n",
    "g.ax_heatmap.set_xticklabels([])\n",
    "g.ax_heatmap.set_xticks([])\n",
    "g.ax_heatmap.set_xlabel('Cells')\n",
    "g.ax_heatmap.set_ylabel('Regulons')\n",
    "g.ax_col_colors.set_yticks([0.5])\n",
    "g.ax_col_colors.set_yticklabels(['Cell Type'])\n",
    "g.cax.set_visible(False)\n",
    "g.fig.savefig(os.path.join(FIGURES_FOLDERNAME, f'{DATASET_ID}_binarizedregulonheatmap_upd.jpeg'), format='jpeg')"
   ]
  },
  {
   "cell_type": "code",
   "execution_count": null,
   "id": "f3b2d816",
   "metadata": {},
   "outputs": [],
   "source": [
    "bin_mtx_healthy = bin_mtx.loc[adata.obs[adata.obs['tendon_status'] == 'Healthy'].index]\n",
    "bin_mtx_ruptured = bin_mtx.loc[adata.obs[adata.obs['tendon_status'] == 'Rupture'].index]\n",
    "bin_mtx_ruptured"
   ]
  },
  {
   "cell_type": "code",
   "execution_count": null,
   "id": "f497bd18",
   "metadata": {},
   "outputs": [],
   "source": [
    "sns.set()\n",
    "sns.set(font_scale=1.0)\n",
    "sns.set_style(\"ticks\", {\"xtick.minor.size\": 1, \"ytick.minor.size\": 0.1})\n",
    "g = sns.clustermap(bin_mtx_healthy.T, \n",
    "               col_colors=mapped_colors,\n",
    "               cmap=bw_palette, figsize=(20,20))\n",
    "g.ax_heatmap.set_xticklabels([])\n",
    "g.ax_heatmap.set_xticks([])\n",
    "g.ax_heatmap.set_xlabel('Cells')\n",
    "g.ax_heatmap.set_ylabel('Regulons')\n",
    "g.ax_col_colors.set_yticks([0.5])\n",
    "g.ax_col_colors.set_yticklabels(['Cell Type'])\n",
    "g.cax.set_visible(False)\n",
    "g.fig.savefig(os.path.join(FIGURES_FOLDERNAME, f'{DATASET_ID}_binarizedregulonheatmap_upd_healthyonly.jpeg'), format='jpeg')"
   ]
  },
  {
   "cell_type": "code",
   "execution_count": null,
   "id": "cf3a1146",
   "metadata": {},
   "outputs": [],
   "source": [
    "sns.set()\n",
    "sns.set(font_scale=1.0)\n",
    "sns.set_style(\"ticks\", {\"xtick.minor.size\": 1, \"ytick.minor.size\": 0.1})\n",
    "g = sns.clustermap(bin_mtx_ruptured.T, \n",
    "               col_colors=mapped_colors,\n",
    "               cmap=bw_palette, figsize=(20,20))\n",
    "g.ax_heatmap.set_xticklabels([])\n",
    "g.ax_heatmap.set_xticks([])\n",
    "g.ax_heatmap.set_xlabel('Cells')\n",
    "g.ax_heatmap.set_ylabel('Regulons')\n",
    "g.ax_col_colors.set_yticks([0.5])\n",
    "g.ax_col_colors.set_yticklabels(['Cell Type'])\n",
    "g.cax.set_visible(False)\n",
    "g.fig.savefig(os.path.join(FIGURES_FOLDERNAME, f'{DATASET_ID}_binarizedregulonheatmap_upd_ruptureonly.jpeg'), format='jpeg')"
   ]
  },
  {
   "cell_type": "code",
   "execution_count": null,
   "id": "d3509f94",
   "metadata": {},
   "outputs": [],
   "source": [
    "bin_mtx_healthy.to_csv(os.path.join(RESULTS_FOLDERNAME, 'quad_binarised_healthy.csv')) \n",
    "bin_mtx_healthy.to_csv(os.path.join(RESULTS_FOLDERNAME, 'quad_binarised_ruptured.csv')) "
   ]
  },
  {
   "cell_type": "code",
   "execution_count": null,
   "id": "e429e01e",
   "metadata": {},
   "outputs": [],
   "source": [
    "cats = sorted(list(set(adata.obs['tendon_status'])))\n",
    "colors = sns.color_palette(adata.uns['tendon_status_colors'], n_colors=len(cats)) #alt palette = 'bright'\n",
    "colorsd = dict( zip( cats, colors ))\n",
    "colormap = [ colorsd[x] for x in adata.obs['tendon_status'] ]\n",
    "\n",
    "cell_id2cell_type_lut =adata.obs['tendon_status'].to_dict()\n",
    "bw_palette = sns.xkcd_palette([\"white\", \"black\"])"
   ]
  },
  {
   "cell_type": "code",
   "execution_count": null,
   "id": "54bad9c6",
   "metadata": {},
   "outputs": [],
   "source": [
    "sns.set()\n",
    "sns.set(font_scale=1.0)\n",
    "fig = palplot(colors, cats, size=2.5)\n",
    "savesvg(f'{DATASET_ID}_legend_tendon_status.svg', fig)"
   ]
  },
  {
   "cell_type": "code",
   "execution_count": null,
   "id": "eb566eca",
   "metadata": {},
   "outputs": [],
   "source": [
    "# Convert the index of auc_mtx to string, to ensure all operations are on strings\n",
    "auc_mtx.index = auc_mtx.index.map(str)\n",
    "\n",
    "# Map the index to cell types using a Series for better control and avoid implicit MultiIndex conversion\n",
    "cell_types_series = pd.Series(auc_mtx.index.map(cell_id2cell_type_lut), index=auc_mtx.index)\n",
    "\n",
    "# Now map the cell types to colors, handling missing keys properly\n",
    "mapped_colors = cell_types_series.map(lambda x: colorsd.get(x, (1, 1, 1)))  # Using a default color of white for missing keys\n",
    "\n",
    "# Check for any 'default_color' or placeholder (here using white)\n",
    "if (1, 1, 1) in mapped_colors.values:\n",
    "    missing_keys = [index for index, color in mapped_colors.iteritems() if color == (1, 1, 1)]\n",
    "    print(\"Missing keys for these index entries:\", missing_keys)"
   ]
  },
  {
   "cell_type": "code",
   "execution_count": null,
   "id": "513b27f4",
   "metadata": {},
   "outputs": [],
   "source": [
    "sns.set()\n",
    "sns.set(font_scale=1.0)\n",
    "sns.set_style(\"ticks\", {\"xtick.minor.size\": 1, \"ytick.minor.size\": 0.1})\n",
    "g = sns.clustermap(bin_mtx.T, \n",
    "               col_colors=mapped_colors,\n",
    "               cmap=bw_palette, figsize=(20,20))\n",
    "g.ax_heatmap.set_xticklabels([])\n",
    "g.ax_heatmap.set_xticks([])\n",
    "g.ax_heatmap.set_xlabel('Cells')\n",
    "g.ax_heatmap.set_ylabel('Regulons')\n",
    "g.ax_col_colors.set_yticks([0.5])\n",
    "g.ax_col_colors.set_yticklabels(['Ruptured'])\n",
    "g.cax.set_visible(False)\n",
    "g.fig.savefig(os.path.join(FIGURES_FOLDERNAME, f'{DATASET_ID}_binarizedregulonheatmap_tendon_status.jpeg'), format='jpeg')"
   ]
  },
  {
   "cell_type": "code",
   "execution_count": null,
   "id": "16f65533",
   "metadata": {},
   "outputs": [],
   "source": [
    "bin_mtx_clustered = bin_mtx.T.copy()\n",
    "bin_mtx_clustered.rename(columns=adata.obs['annotations_upd2'].to_dict(), inplace=True)\n",
    "regulon_presence_summary = bin_mtx_clustered.groupby(by=bin_mtx_clustered.columns, axis=1).sum()\n",
    "regulon_presence_summary = regulon_presence_summary.drop(columns=['AGACCATGTGTGGACA_1', 'CAGGTATCATGCCATA_1_1', 'GCCAACGCACTCTCGT_1'])\n",
    "regulon_presence_summary"
   ]
  },
  {
   "cell_type": "code",
   "execution_count": null,
   "id": "3a01c061",
   "metadata": {},
   "outputs": [],
   "source": [
    "bin_mtx_clustered.to_excel(os.path.join(RESULTS_FOLDERNAME, f'{DATASET_ID}_binarized_regulon_activity_newannotations.xlsx'))"
   ]
  },
  {
   "cell_type": "code",
   "execution_count": null,
   "id": "d201cd12",
   "metadata": {},
   "outputs": [],
   "source": [
    "regulon_presence_summary.to_csv(os.path.join(RESULTS_FOLDERNAME, f'{DATASET_ID}_binarized_regulon_summaryperct.csv'))"
   ]
  },
  {
   "cell_type": "code",
   "execution_count": null,
   "id": "ef73904c",
   "metadata": {
    "scrolled": false
   },
   "outputs": [],
   "source": [
    "def OP_regulon_clustermap(regulon_presence_summary, condition, normalization_type=None, size=(12, 25)):\n",
    "    \n",
    "    # Determine the colormap based on normalization type\n",
    "    if normalization_type == 'z-score':\n",
    "        cmap = 'RdBu_r'  # Blue-White-Red colormap for z-score normalization\n",
    "        center_val=0\n",
    "    else:\n",
    "        cmap = 'Oranges'  # Default colormap\n",
    "        center_val=None\n",
    "    \n",
    "    # Create the clustermap\n",
    "    g = sns.clustermap(regulon_presence_summary, method='average', metric='euclidean',\n",
    "                       cmap=cmap, center=center_val, linewidths=.5, figsize=size,\n",
    "                       row_cluster=True, col_cluster=True,\n",
    "                       cbar_kws={\"shrink\": .5, \"pad\": 0.05})\n",
    "\n",
    "    # Adjust color bar position\n",
    "    g.cax.set_position([1, .2, .02, .45])  \n",
    "\n",
    "    # Retrieve the order of the rows from the clustering\n",
    "    row_order = g.dendrogram_row.reordered_ind\n",
    "    regulons = regulon_presence_summary.index[row_order]\n",
    "\n",
    "    # Separate regulons into odd and even for labeling\n",
    "    odd_regulons = regulons[0::2]  # Odd-indexed regulons after clustering\n",
    "    even_regulons = regulons[1::2]  # Even-indexed regulons after clustering\n",
    "\n",
    "    # Set regulon names on the primary y-axis (left)\n",
    "    g.ax_heatmap.set_yticks([i for i in range(len(regulons)) if i % 2 == 0])\n",
    "    g.ax_heatmap.set_yticklabels(odd_regulons, rotation=0, fontsize=10)\n",
    "\n",
    "    g.ax_row_dendrogram.set_visible(False)\n",
    "\n",
    "    # Adjust tick positions to point to the center of the rows\n",
    "    centered_ticks = [x + 0.5 for x in range(len(regulons))]\n",
    "\n",
    "    # Set regulon names on the primary y-axis (left), alternate the labels\n",
    "    g.ax_heatmap.set_yticks(centered_ticks[::2])\n",
    "    g.ax_heatmap.set_yticklabels(regulons[::2], rotation=0, fontsize=10)\n",
    "\n",
    "    # Create a secondary y-axis for the right side\n",
    "    ax2 = g.ax_heatmap.twinx()\n",
    "\n",
    "    # Set regulon names on the secondary y-axis (right), alternate the labels\n",
    "    ax2.set_yticks(centered_ticks[1::2])\n",
    "    ax2.set_yticklabels(regulons[1::2], rotation=0, fontsize=10)\n",
    "    ax2.set_ylim(g.ax_heatmap.get_ylim())\n",
    "\n",
    "    # Ensure labels are visible and adjust their alignment\n",
    "    ax2.yaxis.set_label_position(\"right\")\n",
    "    ax2.yaxis.tick_right()\n",
    "\n",
    "    # Rotate column labels for readability\n",
    "    plt.setp(g.ax_heatmap.xaxis.get_majorticklabels(), rotation=90, fontsize=10)\n",
    "\n",
    "    # Adding labels to the axes\n",
    "    g.ax_heatmap.set_ylabel('Regulons', fontsize=12, labelpad=10)\n",
    "    g.ax_heatmap.yaxis.set_label_position('left')  # Explicitly position y-axis label on the left\n",
    "\n",
    "    plt.grid(False)\n",
    "\n",
    "    g.ax_heatmap.set_xlabel('Cell Types', fontsize=12)\n",
    "\n",
    "    g.savefig(os.path.join(FIGURES_FOLDERNAME, f'{DATASET_ID}_activated_regulon_abundance_clustermap_{condition}.svg'))\n",
    "\n",
    "    # Show the plot\n",
    "    plt.show()"
   ]
  },
  {
   "cell_type": "code",
   "execution_count": null,
   "id": "cf20a038",
   "metadata": {},
   "outputs": [],
   "source": [
    "## PROPORTIONAL NORMALISATION:\n",
    "cell_counts = adata.obs['annotations_upd2'].value_counts().to_dict()\n",
    "normalized_regulon_presence = regulon_presence_summary.copy()\n",
    "for column in normalized_regulon_presence.columns:\n",
    "    normalized_regulon_presence[column] /= cell_counts[column]\n",
    "normalized_regulon_presence"
   ]
  },
  {
   "cell_type": "code",
   "execution_count": null,
   "id": "f7b99fc1",
   "metadata": {},
   "outputs": [],
   "source": [
    "# Get the list of regulon names\n",
    "regulons = normalized_regulon_presence.index.tolist()\n",
    "\n",
    "# Separate odd and even indexed regulons\n",
    "odd_labels = regulons[0::2]   # Odd-indexed regulons\n",
    "even_labels = regulons[1::2]  # Even-indexed regulons\n",
    "\n",
    "# Set up the matplotlib figure\n",
    "fig, ax = plt.subplots(figsize=(12, 20))  # Adjust size as needed\n",
    "\n",
    "# Create a heatmap\n",
    "sns.heatmap(normalized_regulon_presence, annot=False, \n",
    "            cmap='Oranges', linewidths=.5, \n",
    "            cbar_kws={\"shrink\": 0.5, \"pad\": 0.15}, ax=ax)\n",
    "\n",
    "# Calculate midpoints for the odd and even indexed rows\n",
    "odd_ticks = [i + 0.5 for i in range(len(regulons)) if i % 2 == 0]\n",
    "even_ticks = [i + 0.5 for i in range(len(regulons)) if i % 2 == 1]\n",
    "\n",
    "# Set regulon names on the primary y-axis (left)\n",
    "ax.set_yticks(odd_ticks)\n",
    "ax.set_yticklabels(odd_labels, rotation=0, fontsize=10)\n",
    "\n",
    "# Create a secondary y-axis for the right side\n",
    "ax2 = ax.twinx()\n",
    "\n",
    "# Set regulon names on the secondary y-axis (right)\n",
    "ax2.set_yticks(even_ticks)\n",
    "ax2.set_yticklabels(even_labels, rotation=0, fontsize=10)\n",
    "ax2.set_ylim(ax.get_ylim())  # Ensure the secondary y-axis aligns with the primary y-axis\n",
    "\n",
    "# Correct alignment of right labels\n",
    "ax2.yaxis.set_label_position(\"right\")  # Ensure labels appear on the right side\n",
    "ax2.yaxis.tick_right()\n",
    "\n",
    "# Add labels and title\n",
    "ax.set_title('Activated Regulon Abundance Across Cell Types')\n",
    "ax.set_xlabel('Cell Types')\n",
    "ax.set_ylabel('Regulons')\n",
    "#ax2.set_ylabel('Regulons', rotation=270, va=\"bottom\")\n",
    "\n",
    "savesvg(f'{DATASET_ID}_activated_regulon_abundance_heatmap.svg', fig)\n",
    "\n",
    "# Show the plot\n",
    "plt.grid(False)\n",
    "plt.show()"
   ]
  },
  {
   "cell_type": "code",
   "execution_count": null,
   "id": "2de1d76a",
   "metadata": {
    "scrolled": false
   },
   "outputs": [],
   "source": [
    "OP_regulon_clustermap(normalized_regulon_presence, 'All')"
   ]
  },
  {
   "cell_type": "code",
   "execution_count": null,
   "id": "6114f6a7",
   "metadata": {},
   "outputs": [],
   "source": [
    "# Z-scoring:\n",
    "normalized_regulon_presence_z = (normalized_regulon_presence - normalized_regulon_presence.mean()) / normalized_regulon_presence.std()\n",
    "normalized_regulon_presence_z"
   ]
  },
  {
   "cell_type": "code",
   "execution_count": null,
   "id": "58cf2b66",
   "metadata": {
    "scrolled": false
   },
   "outputs": [],
   "source": [
    "# Get the list of regulon names\n",
    "regulons = normalized_regulon_presence_z.index.tolist()\n",
    "\n",
    "# Separate odd and even indexed regulons\n",
    "odd_labels = regulons[0::2]   # Odd-indexed regulons\n",
    "even_labels = regulons[1::2]  # Even-indexed regulons\n",
    "\n",
    "# Set up the matplotlib figure\n",
    "fig, ax = plt.subplots(figsize=(12, 20))  # Adjust size as needed\n",
    "\n",
    "# Create a heatmap\n",
    "sns.heatmap(normalized_regulon_presence_z, annot=False, \n",
    "            cmap='RdBu_r', center=0, linewidths=.5, \n",
    "            cbar_kws={\"shrink\": 0.5, \"pad\": 0.15}, ax=ax)\n",
    "\n",
    "# Calculate midpoints for the odd and even indexed rows\n",
    "odd_ticks = [i + 0.5 for i in range(len(regulons)) if i % 2 == 0]\n",
    "even_ticks = [i + 0.5 for i in range(len(regulons)) if i % 2 == 1]\n",
    "\n",
    "# Set regulon names on the primary y-axis (left)\n",
    "ax.set_yticks(odd_ticks)\n",
    "ax.set_yticklabels(odd_labels, rotation=0, fontsize=10)\n",
    "\n",
    "# Create a secondary y-axis for the right side\n",
    "ax2 = ax.twinx()\n",
    "\n",
    "# Set regulon names on the secondary y-axis (right)\n",
    "ax2.set_yticks(even_ticks)\n",
    "ax2.set_yticklabels(even_labels, rotation=0, fontsize=10)\n",
    "ax2.set_ylim(ax.get_ylim())  # Ensure the secondary y-axis aligns with the primary y-axis\n",
    "\n",
    "# Correct alignment of right labels\n",
    "ax2.yaxis.set_label_position(\"right\")  # Ensure labels appear on the right side\n",
    "ax2.yaxis.tick_right()\n",
    "\n",
    "# Add labels and title\n",
    "ax.set_title('Activated Regulon Abundance Across Cell Types')\n",
    "ax.set_xlabel('Cell Types')\n",
    "ax.set_ylabel('Regulons')\n",
    "#ax2.set_ylabel('Regulons', rotation=270, va=\"bottom\")\n",
    "\n",
    "plt.grid(False)\n",
    "savesvg(f'{DATASET_ID}_activated_regulon_abundance_heatmap_zscore.svg', fig)\n",
    "\n",
    "# Show the plot\n",
    "plt.show()"
   ]
  },
  {
   "cell_type": "code",
   "execution_count": null,
   "id": "aa25cd1d",
   "metadata": {
    "scrolled": false
   },
   "outputs": [],
   "source": [
    "OP_regulon_clustermap(normalized_regulon_presence_z, 'All-Z', 'z-score')"
   ]
  },
  {
   "cell_type": "code",
   "execution_count": null,
   "id": "c5c4c56c",
   "metadata": {},
   "outputs": [],
   "source": [
    "bin_mtx_clustered = bin_mtx_healthy.T.copy()\n",
    "bin_mtx_clustered.rename(columns=adata.obs['annotations_upd2'].to_dict(), inplace=True)\n",
    "regulon_presence_summary = bin_mtx_clustered.groupby(by=bin_mtx_clustered.columns, axis=1).sum()\n",
    "normalized_regulon_presence = regulon_presence_summary.copy()\n",
    "for column in normalized_regulon_presence.columns:\n",
    "    normalized_regulon_presence[column] /= cell_counts[column]"
   ]
  },
  {
   "cell_type": "code",
   "execution_count": null,
   "id": "ff4913e0",
   "metadata": {
    "scrolled": false
   },
   "outputs": [],
   "source": [
    "OP_regulon_clustermap(normalized_regulon_presence, 'Healthy')"
   ]
  },
  {
   "cell_type": "code",
   "execution_count": null,
   "id": "7d9c6ca5",
   "metadata": {},
   "outputs": [],
   "source": [
    "normalized_regulon_presence_z = (normalized_regulon_presence - normalized_regulon_presence.mean()) / normalized_regulon_presence.std()\n",
    "normalized_regulon_presence_z"
   ]
  },
  {
   "cell_type": "code",
   "execution_count": null,
   "id": "96c84cb2",
   "metadata": {
    "scrolled": false
   },
   "outputs": [],
   "source": [
    "OP_regulon_clustermap(normalized_regulon_presence_z, 'Healthy_Z', 'z-score')"
   ]
  },
  {
   "cell_type": "code",
   "execution_count": null,
   "id": "10a8ebc7",
   "metadata": {},
   "outputs": [],
   "source": [
    "bin_mtx_clustered = bin_mtx_ruptured.T.copy()\n",
    "bin_mtx_clustered.rename(columns=adata.obs['annotations_upd2'].to_dict(), inplace=True)\n",
    "regulon_presence_summary = bin_mtx_clustered.groupby(by=bin_mtx_clustered.columns, axis=1).sum()\n",
    "normalized_regulon_presence = regulon_presence_summary.copy()\n",
    "for column in normalized_regulon_presence.columns:\n",
    "    normalized_regulon_presence[column] /= cell_counts[column]"
   ]
  },
  {
   "cell_type": "code",
   "execution_count": null,
   "id": "b5251af4",
   "metadata": {},
   "outputs": [],
   "source": [
    "normalized_regulon_presence"
   ]
  },
  {
   "cell_type": "code",
   "execution_count": null,
   "id": "a00adfa6",
   "metadata": {
    "scrolled": false
   },
   "outputs": [],
   "source": [
    "OP_regulon_clustermap(normalized_regulon_presence, 'Ruptured')"
   ]
  },
  {
   "cell_type": "code",
   "execution_count": null,
   "id": "41feeccb",
   "metadata": {},
   "outputs": [],
   "source": [
    "normalized_regulon_presence_z = (normalized_regulon_presence - normalized_regulon_presence.mean()) / normalized_regulon_presence.std()\n",
    "normalized_regulon_presence_z"
   ]
  },
  {
   "cell_type": "code",
   "execution_count": null,
   "id": "bedaa1dc",
   "metadata": {
    "scrolled": false
   },
   "outputs": [],
   "source": [
    "OP_regulon_clustermap(normalized_regulon_presence_z, 'Ruptured_Z', 'z-score')"
   ]
  },
  {
   "cell_type": "code",
   "execution_count": null,
   "id": "3dcf8c99",
   "metadata": {},
   "outputs": [],
   "source": [
    "## Plotting binarization of individual regulons:\n",
    "\n",
    "# fig, ((ax1, ax2, ax3, ax4), (ax5, ax6, ax7, ax8)) = plt.subplots(2, 4, figsize=(8, 4), dpi=100)\n",
    "# plot_binarization(auc_mtx, 'NR2F2(+)', thresholds['NR2F2(+)'], ax=ax1)\n",
    "# plot_binarization(auc_mtx, 'SPI1(+)', thresholds['SPI1(+)'], ax=ax2)\n",
    "# plot_binarization(auc_mtx, 'HOXD8(+)', thresholds['HOXD8(+)'], ax=ax3)\n",
    "# plot_binarization(auc_mtx, 'ATF3(+)', thresholds['ATF3(+)'], ax=ax4)\n",
    "# plot_binarization(auc_mtx, 'E2F8(+)', thresholds['E2F8(+)'], ax=ax5)\n",
    "# plot_binarization(auc_mtx, 'TLL1(+)', thresholds['TLL1(+)'], ax=ax6)\n",
    "# plot_binarization(auc_mtx, 'PAX3(+)', thresholds['PAX3(+)'], ax=ax7)\n",
    "# plot_binarization(auc_mtx, 'ZNF713(+)', thresholds['ZNF713(+)'], ax=ax8)\n",
    "# plt.tight_layout()"
   ]
  },
  {
   "cell_type": "markdown",
   "id": "341e2197",
   "metadata": {},
   "source": [
    "# Comparing regulons across conditions"
   ]
  },
  {
   "cell_type": "code",
   "execution_count": null,
   "id": "b06c1792",
   "metadata": {},
   "outputs": [],
   "source": [
    "bin_mtx_clustered = bin_mtx_ruptured.T.copy()\n",
    "bin_mtx_clustered.rename(columns=adata.obs['annotations_upd2'].to_dict(), inplace=True)\n",
    "regulon_presence_summary = bin_mtx_clustered.groupby(by=bin_mtx_clustered.columns, axis=1).sum()\n",
    "normalized_regulon_presence = regulon_presence_summary.copy()\n",
    "for column in normalized_regulon_presence.columns:\n",
    "    normalized_regulon_presence[column] /= cell_counts[column]\n",
    "normalized_regulon_presence_z_ruptured = (normalized_regulon_presence - normalized_regulon_presence.mean()) / normalized_regulon_presence.std()\n",
    "normalized_regulon_presence_z_ruptured"
   ]
  },
  {
   "cell_type": "code",
   "execution_count": null,
   "id": "575939d7",
   "metadata": {},
   "outputs": [],
   "source": [
    "bin_mtx_clustered = bin_mtx_healthy.T.copy()\n",
    "bin_mtx_clustered.rename(columns=adata.obs['annotations_upd2'].to_dict(), inplace=True)\n",
    "regulon_presence_summary = bin_mtx_clustered.groupby(by=bin_mtx_clustered.columns, axis=1).sum()\n",
    "normalized_regulon_presence = regulon_presence_summary.copy()\n",
    "for column in normalized_regulon_presence.columns:\n",
    "    normalized_regulon_presence[column] /= cell_counts[column]\n",
    "normalized_regulon_presence_z_healthy = (normalized_regulon_presence - normalized_regulon_presence.mean()) / normalized_regulon_presence.std()\n",
    "normalized_regulon_presence_z_healthy"
   ]
  },
  {
   "cell_type": "code",
   "execution_count": null,
   "id": "03c8da1d",
   "metadata": {},
   "outputs": [],
   "source": [
    "# Get the overlapping columns\n",
    "columns_healthy = set(normalized_regulon_presence_z_healthy.columns)\n",
    "columns_ruptured = set(normalized_regulon_presence_z_ruptured.columns)\n",
    "overlapping_columns = columns_healthy.intersection(columns_ruptured)\n",
    "len(overlapping_columns)"
   ]
  },
  {
   "cell_type": "code",
   "execution_count": null,
   "id": "cffd56e5",
   "metadata": {},
   "outputs": [],
   "source": [
    "overlapping_columns"
   ]
  },
  {
   "cell_type": "code",
   "execution_count": null,
   "id": "fca67fca",
   "metadata": {
    "scrolled": true
   },
   "outputs": [],
   "source": [
    "for ct in overlapping_columns:\n",
    "    try:\n",
    "        print(f\"Processing {ct}...\")\n",
    "        fibroblast_healthy = normalized_regulon_presence_z_healthy[ct].copy()\n",
    "        fibroblast_ruptured = normalized_regulon_presence_z_ruptured[ct].copy()\n",
    "        fibroblast_healthy.name = 'Healthy'\n",
    "        fibroblast_ruptured.name = 'Ruptured'\n",
    "        combined_data = pd.concat([fibroblast_healthy, fibroblast_ruptured], axis=1)\n",
    "        OP_regulon_clustermap(combined_data, ct, 'z-score', size=(6,20))\n",
    "    except Exception as e:\n",
    "        print(f\"Failed to process {ct}: {e}\")"
   ]
  },
  {
   "cell_type": "code",
   "execution_count": null,
   "id": "aee00c68",
   "metadata": {},
   "outputs": [],
   "source": [
    "normalized_regulon_presence_z_healthy.columns"
   ]
  },
  {
   "cell_type": "code",
   "execution_count": null,
   "id": "94c92269",
   "metadata": {},
   "outputs": [],
   "source": [
    "normalized_regulon_presence_z_healthy.to_csv(os.path.join(RESULTS_FOLDERNAME, f'{DATASET_ID}_zscore_byct_healthy.csv'))\n",
    "normalized_regulon_presence_z_ruptured.to_csv(os.path.join(RESULTS_FOLDERNAME, f'{DATASET_ID}_zscore_byct_ruptured.csv'))"
   ]
  },
  {
   "cell_type": "code",
   "execution_count": null,
   "id": "14339dbf",
   "metadata": {},
   "outputs": [],
   "source": [
    "for ct in ['MERTKhi LYVE1hi macrophages', 'Lymphatic ECs', 'T cells', 'Granulocytes', 'vSMCs', 'FBLNhi fibroblasts']:\n",
    "    try:\n",
    "        print(f\"Processing {ct}...\")\n",
    "        fibroblast_healthy = normalized_regulon_presence_z_healthy[ct].copy()\n",
    "        fibroblast_ruptured = normalized_regulon_presence_z_ruptured[ct].copy()\n",
    "        fibroblast_healthy.name = 'Healthy'\n",
    "        fibroblast_ruptured.name = 'Ruptured'\n",
    "        combined_data = pd.concat([fibroblast_healthy, fibroblast_ruptured], axis=1)\n",
    "        OP_regulon_clustermap(combined_data, ct, 'z-score', size=(6,20))\n",
    "    except Exception as e:\n",
    "        print(f\"Failed to process {ct}: {e}\")"
   ]
  },
  {
   "cell_type": "code",
   "execution_count": null,
   "id": "36b11377",
   "metadata": {},
   "outputs": [],
   "source": [
    "for ct in ['VCANhi DCs/monocytes']:\n",
    "    try:\n",
    "        print(f\"Processing {ct}...\")\n",
    "        fibroblast_healthy = normalized_regulon_presence_z_healthy[ct].copy()\n",
    "        fibroblast_ruptured = normalized_regulon_presence_z_ruptured[ct].copy()\n",
    "        fibroblast_healthy.name = 'Healthy'\n",
    "        fibroblast_ruptured.name = 'Ruptured'\n",
    "        combined_data = pd.concat([fibroblast_healthy, fibroblast_ruptured], axis=1)\n",
    "        OP_regulon_clustermap(combined_data, 'VCANhiDCsmonocytes', 'z-score', size=(6,20))\n",
    "    except Exception as e:\n",
    "        print(f\"Failed to process {ct}: {e}\")"
   ]
  },
  {
   "cell_type": "code",
   "execution_count": null,
   "id": "51e0f93e",
   "metadata": {},
   "outputs": [],
   "source": [
    "for ct in ['Dividing fibroblasts / mural cells']:\n",
    "    try:\n",
    "        print(f\"Processing {ct}...\")\n",
    "        fibroblast_healthy = normalized_regulon_presence_z_healthy[ct].copy()\n",
    "        fibroblast_ruptured = normalized_regulon_presence_z_ruptured[ct].copy()\n",
    "        fibroblast_healthy.name = 'Healthy'\n",
    "        fibroblast_ruptured.name = 'Ruptured'\n",
    "        combined_data = pd.concat([fibroblast_healthy, fibroblast_ruptured], axis=1)\n",
    "        OP_regulon_clustermap(combined_data, 'Dividingfibroblasts_muralcells', 'z-score', size=(6,20))\n",
    "    except Exception as e:\n",
    "        print(f\"Failed to process {ct}: {e}\")"
   ]
  },
  {
   "cell_type": "markdown",
   "id": "e41176ee",
   "metadata": {},
   "source": [
    "## Regulon specificity score (RSS) across predicted cell types"
   ]
  },
  {
   "cell_type": "code",
   "execution_count": null,
   "id": "0a543d0b",
   "metadata": {},
   "outputs": [],
   "source": [
    "filtered_auc_mtx = auc_mtx[auc_mtx.index.isin(adata.obs.index)]\n",
    "filtered_auc_mtx"
   ]
  },
  {
   "cell_type": "code",
   "execution_count": null,
   "id": "f348521e",
   "metadata": {},
   "outputs": [],
   "source": [
    "rss = regulon_specificity_scores(filtered_auc_mtx, adata.obs['annotations_upd2'])\n",
    "rss.T"
   ]
  },
  {
   "cell_type": "code",
   "execution_count": null,
   "id": "286b09d9",
   "metadata": {
    "scrolled": false
   },
   "outputs": [],
   "source": [
    "from adjustText import adjust_text\n",
    "\n",
    "cats = sorted(list(set(adata.obs['annotations_upd2'])))\n",
    "\n",
    "fig = plt.figure(figsize=(14, 20)) #(width, length)\n",
    "for c,num in zip(cats, range(1,len(cats)+1)):\n",
    "    x=rss.T[c]\n",
    "    ax = fig.add_subplot(6,5,num) #(rows, columns)\n",
    "    plot_rss(rss, c, top_n=5, max_n=None, ax=ax)\n",
    "    ax.set_ylim( x.min()-(x.max()-x.min())*0.05 , x.max()+(x.max()-x.min())*0.05 )\n",
    "    for t in ax.texts:\n",
    "        t.set_fontsize(12)\n",
    "    ax.set_ylabel('')\n",
    "    ax.set_xlabel('')\n",
    "    adjust_text(ax.texts, autoalign='xy', ha='right', va='bottom', \n",
    "                arrowprops=dict(arrowstyle='-',color='lightgrey'), precision=0.001 )\n",
    " \n",
    "fig.text(0.5, 0.0, 'Regulon', ha='center', va='center', size='x-large')\n",
    "fig.text(0.00, 0.5, 'Regulon specificity score (RSS)', ha='center', va='center', rotation='vertical', size='x-large')\n",
    "plt.tight_layout()\n",
    "plt.rcParams.update({\n",
    "    'figure.autolayout': True,\n",
    "        'figure.titlesize': 'large' ,\n",
    "        'axes.labelsize': 'medium',\n",
    "        'axes.titlesize':'large',\n",
    "        'xtick.labelsize':'medium',\n",
    "        'ytick.labelsize':'medium'\n",
    "        })\n",
    "plt.show()\n",
    "savesvg(f'{DATASET_ID}_CellTypeRSS_annotupd.svg', fig)"
   ]
  },
  {
   "cell_type": "code",
   "execution_count": null,
   "id": "45ac5cb0",
   "metadata": {
    "scrolled": false
   },
   "outputs": [],
   "source": [
    "OP_regulon_clustermap(rss.T, 'RSS_all')"
   ]
  },
  {
   "cell_type": "code",
   "execution_count": null,
   "id": "3fdb64bb",
   "metadata": {},
   "outputs": [],
   "source": [
    "rss.T[c].sort_values(ascending=False)[:5]"
   ]
  },
  {
   "cell_type": "code",
   "execution_count": null,
   "id": "05570283",
   "metadata": {},
   "outputs": [],
   "source": [
    "topreg = []\n",
    "for i,c in enumerate(cats):\n",
    "    topreg.extend(\n",
    "        list(rss.T[c].sort_values(ascending=False)[:5].index)\n",
    "    )\n",
    "topreg = list(set(topreg))"
   ]
  },
  {
   "cell_type": "markdown",
   "id": "4c386a78",
   "metadata": {},
   "source": [
    "# Z-scoring"
   ]
  },
  {
   "cell_type": "code",
   "execution_count": null,
   "id": "7895a31a",
   "metadata": {},
   "outputs": [],
   "source": [
    "auc_mtx_Z = pd.DataFrame( index=filtered_auc_mtx.index )\n",
    "for col in list(filtered_auc_mtx.columns):\n",
    "    auc_mtx_Z[ col ] = ( filtered_auc_mtx[col] - filtered_auc_mtx[col].mean()) / filtered_auc_mtx[col].std(ddof=0)\n",
    "#auc_mtx_Z.sort_index(inplace=True)"
   ]
  },
  {
   "cell_type": "code",
   "execution_count": null,
   "id": "449c7bc6",
   "metadata": {},
   "outputs": [],
   "source": [
    "auc_mtx_Z"
   ]
  },
  {
   "cell_type": "code",
   "execution_count": null,
   "id": "520d98bc",
   "metadata": {},
   "outputs": [],
   "source": [
    "sns.set(font_scale=1.2)\n",
    "g = sns.clustermap(auc_mtx_Z[topreg], annot=False,  square=False,  linecolor='gray',\n",
    "    yticklabels=False, xticklabels=True, vmin=-2, vmax=6, row_colors=colormap,\n",
    "    cmap=\"YlGnBu\", figsize=(25,20) )\n",
    "g.cax.set_visible(True)\n",
    "g.ax_heatmap.set_ylabel('')\n",
    "g.ax_heatmap.set_xlabel('')\n",
    "g.fig.savefig(os.path.join(FIGURES_FOLDERNAME, f'{DATASET_ID}_Z-score_heatmap_annotationsnew.svg'), bbox_inches='tight')"
   ]
  },
  {
   "cell_type": "markdown",
   "id": "2312db47",
   "metadata": {},
   "source": [
    "# Creating a regulon h5ad object"
   ]
  },
  {
   "cell_type": "code",
   "execution_count": null,
   "id": "3cb3f2ba",
   "metadata": {},
   "outputs": [],
   "source": [
    "adata"
   ]
  },
  {
   "cell_type": "code",
   "execution_count": null,
   "id": "48d1d59c",
   "metadata": {},
   "outputs": [],
   "source": [
    "adata.X = adata.layers['counts'].copy()\n",
    "print(adata.X[0:10,0:10])"
   ]
  },
  {
   "cell_type": "code",
   "execution_count": null,
   "id": "ed1e25a6",
   "metadata": {},
   "outputs": [],
   "source": [
    "sc.pp.filter_genes(adata, min_counts=50, inplace=True)"
   ]
  },
  {
   "cell_type": "code",
   "execution_count": null,
   "id": "511e0fbc",
   "metadata": {},
   "outputs": [],
   "source": [
    "sc.pp.normalize_total(adata, target_sum=None, inplace=True)\n",
    "sc.pp.log1p(adata)\n",
    "print(adata.X[0:10, 0:10])\n",
    "adata.layers[\"log1p_norm\"] = adata.X.copy()"
   ]
  },
  {
   "cell_type": "code",
   "execution_count": null,
   "id": "4c43a776",
   "metadata": {},
   "outputs": [],
   "source": [
    "sc.pp.highly_variable_genes(adata, flavor='cell_ranger', n_top_genes=2500)\n",
    "sc.pp.scale(adata)\n",
    "sc.tl.pca(adata)\n",
    "sc.pl.pca(adata, color='annotations_upd2')"
   ]
  },
  {
   "cell_type": "code",
   "execution_count": null,
   "id": "413118f2",
   "metadata": {},
   "outputs": [],
   "source": [
    "sc.tl.tsne(adata, n_pcs = 30, use_rep = 'X_pca')\n",
    "sc.pl.embedding(adata, basis='X_tsne', color='annotations_upd2', \n",
    "                legend_loc='on data',\n",
    "                frameon=False, legend_fontsize=5, save=f'{DATASET_ID}_tSNE_original.svg')"
   ]
  },
  {
   "cell_type": "code",
   "execution_count": null,
   "id": "ac3bcb87",
   "metadata": {},
   "outputs": [],
   "source": [
    "sc.pl.embedding(adata, basis='X_umap', color='annotations_upd2', \n",
    "                legend_loc='on data',\n",
    "                frameon=False, legend_fontsize=5, save=f'{DATASET_ID}_UMAP_fulloriginal.svg')\n",
    "sc.pl.embedding(adata, basis='X_umap', color='annotations_upd2', \n",
    "                #legend_loc='on data',\n",
    "                frameon=False, #legend_fontsize=5, \n",
    "                save=f'{DATASET_ID}_UMAP_fulloriginal2.svg'\n",
    "               )"
   ]
  },
  {
   "cell_type": "code",
   "execution_count": null,
   "id": "61426278",
   "metadata": {},
   "outputs": [],
   "source": [
    "adata.obsm['X_umap_orig'] = adata.obsm['X_umap'].copy()"
   ]
  },
  {
   "cell_type": "code",
   "execution_count": null,
   "id": "2add8cb7",
   "metadata": {},
   "outputs": [],
   "source": [
    "import umap \n",
    "\n",
    "runUmap = umap.UMAP(n_neighbors=20, min_dist=0.4, metric='correlation').fit_transform\n",
    "dr_umap = runUmap( adata.X )\n",
    "dr_umap = pd.DataFrame(dr_umap, columns=['X', 'Y'], index=adata.obs.index) \n",
    "dr_umap.to_csv(os.path.join(RESULTS_FOLDERNAME, \"quadoriginal_umap.txt\"), sep='\\t')\n",
    "adata.obsm['X_umap'] = dr_umap\n",
    "\n",
    "sc.pl.embedding(adata, basis='X_umap', color='annotations_upd2', \n",
    "                legend_loc='on data',\n",
    "                frameon=False, legend_fontsize=5, save=f'{DATASET_ID}_UMAP_quadoriginal.svg')\n",
    "sc.pl.embedding(adata, basis='X_umap', color='annotations_upd2', \n",
    "                #legend_loc='on data',\n",
    "                frameon=False, #legend_fontsize=5, \n",
    "                save=f'{DATASET_ID}_UMAP_quadoriginal.svg'\n",
    "               )"
   ]
  },
  {
   "cell_type": "code",
   "execution_count": null,
   "id": "c9c22e5c",
   "metadata": {},
   "outputs": [],
   "source": [
    "adata.write(os.path.join(RESULTS_FOLDERNAME, 'adult_quads_genes.h5ad'))"
   ]
  },
  {
   "cell_type": "markdown",
   "id": "0d7fc92d",
   "metadata": {},
   "source": []
  },
  {
   "cell_type": "code",
   "execution_count": null,
   "id": "e51a77a5",
   "metadata": {},
   "outputs": [],
   "source": [
    "adata_genes = adata.copy()\n",
    "adata_genes.X = adata.layers['log1p_norm'].copy()"
   ]
  },
  {
   "cell_type": "code",
   "execution_count": null,
   "id": "f9468613",
   "metadata": {},
   "outputs": [],
   "source": [
    "del adata"
   ]
  },
  {
   "cell_type": "code",
   "execution_count": null,
   "id": "853b19d3",
   "metadata": {},
   "outputs": [],
   "source": [
    "# Create REGULON ADATA:\n",
    "adata = sc.AnnData(filtered_auc_mtx, obs=adata_genes.obs,uns=adata_genes.uns,obsm=adata_genes.obsm)\n",
    "adata"
   ]
  },
  {
   "cell_type": "code",
   "execution_count": null,
   "id": "00c3e60c",
   "metadata": {},
   "outputs": [],
   "source": [
    "adata.var"
   ]
  },
  {
   "cell_type": "code",
   "execution_count": null,
   "id": "0a0f0e40",
   "metadata": {},
   "outputs": [],
   "source": [
    "adata.var_names_make_unique()\n",
    "adata_genes.var_names_make_unique()"
   ]
  },
  {
   "cell_type": "code",
   "execution_count": null,
   "id": "91500db8",
   "metadata": {},
   "outputs": [],
   "source": [
    "# subset to common genes\n",
    "genes=adata_genes.var_names\n",
    "common=genes[genes.isin(np.array(list(map(lambda x: x.split(\"(\")[0],adata.var_names))))]\n",
    "adata=adata[:,common+\"(+)\"]\n",
    "adata_genes=adata_genes[:,common]\n",
    "\n",
    "#adata.layers[\"auc_init\"]=adata.X.copy()\n",
    "#weights=adata_genes.X.copy()\n",
    "#weights[weights>1]=1\n",
    "#adata.X=adata.X*weights.A\n",
    "#adata.layers[\"weights\"]=weights\n",
    "#adata"
   ]
  },
  {
   "cell_type": "code",
   "execution_count": null,
   "id": "ac2c03b9",
   "metadata": {},
   "outputs": [],
   "source": [
    "df_motifs = load_motifs(MOTIFS_FNAME)\n",
    "regulons = df2regulons(df_motifs)\n",
    "len(regulons)"
   ]
  },
  {
   "cell_type": "code",
   "execution_count": null,
   "id": "27d0c779",
   "metadata": {},
   "outputs": [],
   "source": [
    "add_scenic_metadata(adata_genes, filtered_auc_mtx, regulons)\n",
    "adata_genes"
   ]
  },
  {
   "cell_type": "code",
   "execution_count": null,
   "id": "b58bcd06",
   "metadata": {},
   "outputs": [],
   "source": [
    "adata_genes.write_h5ad(ANNDATA_FNAME)\n",
    "print(f'{ANNDATA_FNAME}')"
   ]
  },
  {
   "cell_type": "code",
   "execution_count": null,
   "id": "d06e98d8",
   "metadata": {},
   "outputs": [],
   "source": [
    "#data.write_loom(\"results/scvi_3207/regulons_3207.loom\", write_obsm_varm=True)"
   ]
  },
  {
   "cell_type": "markdown",
   "id": "e7c67109",
   "metadata": {},
   "source": [
    "## AUCell Clustering based on regulon activity"
   ]
  },
  {
   "cell_type": "code",
   "execution_count": null,
   "id": "dc850f2d",
   "metadata": {},
   "outputs": [],
   "source": [
    "adata_genes = sc.read_h5ad(ANNDATA_FNAME)\n",
    "adata_genes"
   ]
  },
  {
   "cell_type": "code",
   "execution_count": null,
   "id": "231bbfed",
   "metadata": {},
   "outputs": [],
   "source": [
    "sc.pl.umap(adata_genes,color=['Regulon(TWIST1(+))', 'Regulon(SOX4(+))'], frameon=False)"
   ]
  },
  {
   "cell_type": "code",
   "execution_count": null,
   "id": "0f0d59dc",
   "metadata": {},
   "outputs": [],
   "source": [
    "original_umap = pd.DataFrame(adata_genes.obsm['X_umap'], columns=[['X', 'Y']], index=adata_genes.obs_names)"
   ]
  },
  {
   "cell_type": "code",
   "execution_count": null,
   "id": "e3f3c6f7",
   "metadata": {},
   "outputs": [],
   "source": [
    "aucelltsne = sc.tl.tsne(adata_genes, n_pcs = 30, use_rep = 'X_aucell', copy=True)\n",
    "adata_genes.obsm['X_tsne_aucell'] = aucelltsne.obsm['X_tsne']\n",
    "del aucelltsne"
   ]
  },
  {
   "cell_type": "code",
   "execution_count": null,
   "id": "84eff0f5",
   "metadata": {},
   "outputs": [],
   "source": [
    "sc.pl.embedding(adata_genes, basis='X_tsne_aucell', color='annotations_upd2', \n",
    "                legend_loc='on data',\n",
    "                frameon=False, legend_fontsize=5, save=f'{DATASET_ID}_tSNE_AUCell.svg')\n",
    "sc.pl.embedding(adata_genes, basis='X_tsne_aucell', color='annotations_upd2', \n",
    "                #legend_loc='on data',\n",
    "                frameon=False, #legend_fontsize=5, \n",
    "                save=f'{DATASET_ID}_tSNE_AUCell2.svg'\n",
    "               )"
   ]
  },
  {
   "cell_type": "code",
   "execution_count": null,
   "id": "7475b82f",
   "metadata": {},
   "outputs": [],
   "source": [
    "runUmap = umap.UMAP(n_neighbors=10, min_dist=0.4, metric='correlation').fit_transform\n",
    "dr_umap = runUmap( filtered_auc_mtx )\n",
    "dr_umap = pd.DataFrame(dr_umap, columns=['X', 'Y'], index=filtered_auc_mtx.index) \n",
    "dr_umap.to_csv(os.path.join(RESULTS_FOLDERNAME, \"aucell_umap.txt\"), sep='\\t')\n",
    "adata_genes.obsm['X_umap_aucell'] = dr_umap.copy()"
   ]
  },
  {
   "cell_type": "code",
   "execution_count": null,
   "id": "8bd9f024",
   "metadata": {},
   "outputs": [],
   "source": [
    "sc.pl.embedding(adata_genes, basis='X_umap_aucell', color='annotations_upd2', \n",
    "                legend_loc='on data',\n",
    "                frameon=False, legend_fontsize=5, save=f'{DATASET_ID}_UMAP_AUCell.svg')\n",
    "sc.pl.embedding(adata_genes, basis='X_umap_aucell', color='annotations_upd2', \n",
    "                #legend_loc='on data',\n",
    "                frameon=False, #legend_fontsize=5, \n",
    "                save=f'{DATASET_ID}_UMAP_AUCell2.svg'\n",
    "               )"
   ]
  },
  {
   "cell_type": "code",
   "execution_count": null,
   "id": "56e5c136",
   "metadata": {},
   "outputs": [],
   "source": [
    "del adata_genes.obsm['_scvi_extra_categorical_covs']\n",
    "del adata_genes.obsm['_scvi_extra_continuous_covs']"
   ]
  },
  {
   "cell_type": "code",
   "execution_count": null,
   "id": "55185efb",
   "metadata": {},
   "outputs": [],
   "source": [
    "adata_genes"
   ]
  },
  {
   "cell_type": "code",
   "execution_count": null,
   "id": "238293a5",
   "metadata": {},
   "outputs": [],
   "source": [
    "adata_genes.write_h5ad(ANNDATA_FNAME)"
   ]
  },
  {
   "cell_type": "markdown",
   "id": "93db9a2f",
   "metadata": {},
   "source": [
    "## Z-scoring (Alternative to RSS)\n",
    "To find cell type specific regulators we use a Z score (i.e. the average AUCell score for the cells of a give type are standardized using the overall average AUCell scores and its standard deviation)."
   ]
  },
  {
   "cell_type": "code",
   "execution_count": null,
   "id": "11894ebe",
   "metadata": {},
   "outputs": [],
   "source": [
    "df_obs = adata_genes.obs\n",
    "signature_column_names = list(df_obs.select_dtypes('number').columns)\n",
    "signature_column_names = list(filter(lambda s: s.startswith('Regulon('), signature_column_names))\n",
    "df_scores = df_obs[signature_column_names + ['annotations_upd2']]\n",
    "df_results = ((df_scores.groupby(by='annotations_upd2').mean() - df_obs[signature_column_names].mean())/ df_obs[signature_column_names].std()).stack().reset_index().rename(columns={'level_1': 'regulon', 0:'Z'})\n",
    "df_results['regulon'] = list(map(lambda s: s[8:-1], df_results.regulon))\n",
    "df_results[(df_results.Z >= 3.0)].sort_values('Z', ascending=False).head()"
   ]
  },
  {
   "cell_type": "code",
   "execution_count": null,
   "id": "32b4c084",
   "metadata": {},
   "outputs": [],
   "source": [
    "df_heatmap = pd.pivot_table(data=df_results[df_results.Z >= 2.0].sort_values('Z', ascending=False),\n",
    "                           index='annotations_upd2', columns='regulon', values='Z')\n",
    "#df_heatmap.drop(index='Myocyte', inplace=True) # We leave out Myocyte because many TFs are highly enriched\n",
    "fig, ax1 = plt.subplots(1, 1, figsize=(25, 15))\n",
    "sns.heatmap(df_heatmap, ax=ax1, annot=True, fmt=\".1f\", linewidths=.7, cbar=False, square=True, linecolor='gray', \n",
    "            cmap=\"YlGnBu\", annot_kws={\"size\": 6})\n",
    "ax1.set_ylabel('')\n",
    "savesvg(f'{DATASET_ID}_Z-score_regulons_matrixplot.svg', fig)"
   ]
  },
  {
   "cell_type": "code",
   "execution_count": null,
   "id": "c08bf44a",
   "metadata": {},
   "outputs": [],
   "source": [
    "df_results.sort_values('Z', ascending=False).groupby(by='annotations_upd2').head(2)"
   ]
  },
  {
   "cell_type": "code",
   "execution_count": null,
   "id": "c0cbff52",
   "metadata": {
    "scrolled": false
   },
   "outputs": [],
   "source": [
    "aucell_adata = sc.AnnData(X=filtered_auc_mtx.sort_index())\n",
    "aucell_adata.obs = df_obs\n",
    "names = list(map(op.attrgetter('name'), filter(lambda r: r.score > 3.0, regulons)))\n",
    "sc.pl.stacked_violin(aucell_adata, names, groupby='annotations_upd2',\n",
    "          #save=' - GSE115978 - regulons.svg'\n",
    "                    )"
   ]
  },
  {
   "cell_type": "code",
   "execution_count": null,
   "id": "6674fda1",
   "metadata": {
    "scrolled": false
   },
   "outputs": [],
   "source": [
    "grouped_data = adata_genes.obs.groupby(['annotations_upd2', 'tendon_status'])\n",
    "mean_activity = grouped_data['Regulon(TWIST1(+))'].mean()\n",
    "mean_activity_df = mean_activity.reset_index()\n",
    "\n",
    "g = sns.FacetGrid(mean_activity_df, col='annotations_upd2', col_wrap=4, height=3)\n",
    "g.map_dataframe(sns.barplot, x='tendon_status', y='Regulon(TWIST1(+))', dodge=False)\n",
    "g.set_axis_labels(\"Tendon Status\", \"Mean Regulon Activity\")\n",
    "g.set_titles(\"{col_name}\")\n",
    "\n",
    "# Remove grid lines and adjust legends\n",
    "g.fig.subplots_adjust(top=0.9)  # Adjust the top space to accommodate title if cut off\n",
    "g.add_legend(title='Cell Types')\n",
    "for ax in g.axes.flat:\n",
    "    ax.grid(False) \n",
    "\n",
    "plt.show()"
   ]
  },
  {
   "cell_type": "code",
   "execution_count": null,
   "id": "0d978e7e",
   "metadata": {},
   "outputs": [],
   "source": [
    "plot_data = adata_genes.obs[['annotations_upd2', 'Regulon(TWIST1(+))']]\n",
    "\n",
    "# Create a boxplot\n",
    "plt.figure(figsize=(10, 6))\n",
    "sns.boxplot(x='annotations_upd2', y='Regulon(TWIST1(+))', data=plot_data)\n",
    "plt.title('TWIST1 Regulon Activity Across Tendon Status')\n",
    "plt.ylabel('Regulon Activity')\n",
    "plt.show()"
   ]
  },
  {
   "cell_type": "markdown",
   "id": "f232064b",
   "metadata": {},
   "source": [
    "# Check motifs"
   ]
  },
  {
   "cell_type": "code",
   "execution_count": null,
   "id": "448d0a58",
   "metadata": {},
   "outputs": [],
   "source": [
    "adjacencies = pd.read_csv(ADJACENCIES_FNAME, index_col=False, sep='\\t')\n",
    "adjacencies.head()"
   ]
  },
  {
   "cell_type": "code",
   "execution_count": null,
   "id": "b9e98c3e",
   "metadata": {},
   "outputs": [],
   "source": [
    "#lf = lp.connect(os.path.join(RESULTS_FOLDERNAME, 'devcombined_05AUC.scenic.loom'))\n",
    "lf = lp.connect(LOOM_FNAME_OUT, mode='r+', validate=False ) \n",
    "exprMat = pd.DataFrame( lf[:,:], index=lf.ra.Gene, columns=lf.ca.CellID).T\n",
    "regulons = {}\n",
    "for i,r in pd.DataFrame(lf.ra.Regulons,index=lf.ra.Gene).iteritems():\n",
    "    regulons[i] =  list(r[r==1].index.values)\n",
    "lf.close()"
   ]
  },
  {
   "cell_type": "code",
   "execution_count": null,
   "id": "afb31ad0",
   "metadata": {},
   "outputs": [],
   "source": [
    "len(regulons)"
   ]
  },
  {
   "cell_type": "code",
   "execution_count": null,
   "id": "5b22e233",
   "metadata": {},
   "outputs": [],
   "source": [
    "# write all regulon-associated genes into separate .txt files:\n",
    "for regulon, genes in regulons.items():\n",
    "    filename = os.path.join(RESULTS_FOLDERNAME, f\"{DATASET_ID}_regulons/{regulon}.txt\")\n",
    "    print(f'Writing for {regulon}')\n",
    "    with open(filename, 'w') as file:\n",
    "        for gene in genes:\n",
    "            file.write(f\"{gene}\\n\")"
   ]
  },
  {
   "cell_type": "code",
   "execution_count": null,
   "id": "433be782",
   "metadata": {},
   "outputs": [],
   "source": [
    "regulons['TWIST1(+)']"
   ]
  },
  {
   "cell_type": "code",
   "execution_count": null,
   "id": "9f2a7430",
   "metadata": {},
   "outputs": [],
   "source": [
    "regulons['SOX4(+)']"
   ]
  },
  {
   "cell_type": "code",
   "execution_count": null,
   "id": "c0529b9c",
   "metadata": {},
   "outputs": [],
   "source": [
    "# group adjacencies into modules where each module represents a collection of target genes \n",
    "# that are regulated by a common transcription factor:\n",
    "\n",
    "from pyscenic.utils import modules_from_adjacencies\n",
    "modules = list(modules_from_adjacencies(adjacencies, exprMat))"
   ]
  },
  {
   "cell_type": "code",
   "execution_count": null,
   "id": "795cb0bd",
   "metadata": {},
   "outputs": [],
   "source": [
    "tf = 'TWIST1'\n",
    "tf_mods = [ x for x in modules if x.transcription_factor==tf ]\n",
    "\n",
    "for i,mod in enumerate( tf_mods ):\n",
    "    print( f'{tf} module {str(i)}: {len(mod.genes)} genes' )\n",
    "print( f'{tf} regulon: {len(regulons[tf+\"(+)\"])} genes' )"
   ]
  },
  {
   "cell_type": "code",
   "execution_count": null,
   "id": "72235abd",
   "metadata": {},
   "outputs": [],
   "source": [
    "for i,mod in enumerate( tf_mods ):\n",
    "    with open( os.path.join(RESULTS_FOLDERNAME, tf+'_module_'+str(i)+'.txt'), 'w') as f:\n",
    "        for item in mod.genes:\n",
    "            f.write(\"%s\\n\" % item)\n",
    "            \n",
    "with open( os.path.join(RESULTS_FOLDERNAME, tf+'_regulon.txt'), 'w') as f:\n",
    "    for item in regulons[tf+\"(+)\"]:\n",
    "        f.write(\"%s\\n\" % item)"
   ]
  },
  {
   "cell_type": "code",
   "execution_count": null,
   "id": "79ed840f",
   "metadata": {},
   "outputs": [],
   "source": [
    "filtered_auc_mtx"
   ]
  }
 ],
 "metadata": {
  "kernelspec": {
   "display_name": "Python [conda env:pyscenic_env] *",
   "language": "python",
   "name": "conda-env-pyscenic_env-py"
  },
  "language_info": {
   "codemirror_mode": {
    "name": "ipython",
    "version": 3
   },
   "file_extension": ".py",
   "mimetype": "text/x-python",
   "name": "python",
   "nbconvert_exporter": "python",
   "pygments_lexer": "ipython3",
   "version": "3.7.12"
  }
 },
 "nbformat": 4,
 "nbformat_minor": 5
}
