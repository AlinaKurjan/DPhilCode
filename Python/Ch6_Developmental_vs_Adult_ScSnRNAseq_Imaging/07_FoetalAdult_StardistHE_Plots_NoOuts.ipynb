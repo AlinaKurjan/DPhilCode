{
 "cells": [
  {
   "cell_type": "code",
   "execution_count": null,
   "id": "866747d5",
   "metadata": {
    "scrolled": false
   },
   "outputs": [],
   "source": [
    "# Import dependencies\n",
    "%matplotlib inline\n",
    "import os\n",
    "import scanpy as sc\n",
    "import seaborn as sns\n",
    "import matplotlib\n",
    "import matplotlib.pyplot as plt\n",
    "import pandas as pd\n",
    "import anndata as ad\n",
    "import numpy as np\n",
    "\n",
    "matplotlib.rcParams['font.family'] = 'sans-serif'\n",
    "\n",
    "# Initialize random seed\n",
    "import random\n",
    "random.seed(111)\n",
    "\n",
    "# Print date and time:\n",
    "import datetime\n",
    "e = datetime.datetime.now()\n",
    "print (\"Current date and time = %s\" % e)\n",
    "\n",
    "# set a working directory\n",
    "wdir = \"/mnt/da8aa2c4-0136-465b-87a2-d12a59afec55/akurjan/analysis/notebooks\"\n",
    "os.chdir( wdir )\n",
    "\n",
    "# folder structures\n",
    "RESULTS_FOLDERNAME = \"adult/ImageAnalysis/results/\"\n",
    "FIGURES_FOLDERNAME = \"adult/ImageAnalysis/figures/\"\n",
    "\n",
    "if not os.path.exists(RESULTS_FOLDERNAME):\n",
    "    os.makedirs(RESULTS_FOLDERNAME)\n",
    "if not os.path.exists(FIGURES_FOLDERNAME):\n",
    "    os.makedirs(FIGURES_FOLDERNAME)\n",
    "\n",
    "# Set folder for saving figures into\n",
    "sc.settings.figdir = FIGURES_FOLDERNAME\n",
    "\n",
    "def savesvg(fname: str, fig, folder: str=FIGURES_FOLDERNAME) -> None:\n",
    "    \"\"\"\n",
    "    Save figure as vector-based SVG image format.\n",
    "    \"\"\"\n",
    "    fig.savefig(os.path.join(folder, fname), format='svg')\n",
    "\n",
    "# Set other settings\n",
    "sc.settings.verbosity = 3 # verbosity: errors (0), warnings (1), info (2), hints (3)\n",
    "sc.logging.print_versions()\n",
    "sc.set_figure_params(dpi=150, fontsize=10, dpi_save=600)"
   ]
  },
  {
   "cell_type": "code",
   "execution_count": null,
   "id": "282eacbf",
   "metadata": {},
   "outputs": [],
   "source": [
    "results = pd.read_csv(os.path.join(RESULTS_FOLDERNAME, 'Tendon project.csv'), index_col=0)\n",
    "results"
   ]
  },
  {
   "cell_type": "code",
   "execution_count": null,
   "id": "76b0ce2e",
   "metadata": {},
   "outputs": [],
   "source": [
    "results['fullname'] = results.index.str.split(' \\(').str[0]\n",
    "results['coordinates'] = results.index.str.split(' \\(').str[1]"
   ]
  },
  {
   "cell_type": "code",
   "execution_count": null,
   "id": "e34a7568",
   "metadata": {},
   "outputs": [],
   "source": [
    "results.groupby('fullname').size()"
   ]
  },
  {
   "cell_type": "code",
   "execution_count": null,
   "id": "5e346e68",
   "metadata": {},
   "outputs": [],
   "source": [
    "def extract_info(fullname):\n",
    "    if fullname.startswith('OMB'):\n",
    "        sampleID = fullname.split('_')[0]\n",
    "        age_weeks = 'adult'\n",
    "    else:\n",
    "        parts = fullname.split('_')\n",
    "        sampleID = f'DEV{parts[0]}'\n",
    "        age_weeks = parts[1].replace('w', 'pcw')\n",
    "\n",
    "    tissue = ''\n",
    "    if 'Ach' in fullname:\n",
    "        tissue = 'Achilles tendon'\n",
    "    elif 'Quad' in fullname:\n",
    "        tissue = 'Quadriceps tendon'\n",
    "    elif 'Pat' in fullname:\n",
    "        tissue = 'Patellar tendon'\n",
    "    elif 'SSP' in fullname:\n",
    "        tissue = 'Supraspinatus tendon'\n",
    "    else:\n",
    "        tissue = 'Unknown'\n",
    "\n",
    "    return sampleID, age_weeks, tissue"
   ]
  },
  {
   "cell_type": "code",
   "execution_count": null,
   "id": "2cfb5cd5",
   "metadata": {},
   "outputs": [],
   "source": [
    "for index, row in results.iterrows():\n",
    "    sampleID, age_weeks, tissue = extract_info(row['fullname'])\n",
    "    results.at[index, 'sample'] = sampleID\n",
    "    results.at[index, 'age'] = age_weeks\n",
    "    results.at[index, 'tissue'] = tissue"
   ]
  },
  {
   "cell_type": "code",
   "execution_count": null,
   "id": "c42ade10",
   "metadata": {},
   "outputs": [],
   "source": [
    "results"
   ]
  },
  {
   "cell_type": "code",
   "execution_count": null,
   "id": "c703a2c7",
   "metadata": {},
   "outputs": [],
   "source": [
    "results.groupby(['sample', 'tissue']).size()"
   ]
  },
  {
   "cell_type": "code",
   "execution_count": null,
   "id": "6a2f04c2",
   "metadata": {},
   "outputs": [],
   "source": [
    "results.columns"
   ]
  },
  {
   "cell_type": "code",
   "execution_count": null,
   "id": "035ba150",
   "metadata": {},
   "outputs": [],
   "source": [
    "results['age'].astype('categorical')"
   ]
  },
  {
   "cell_type": "code",
   "execution_count": null,
   "id": "7b83a87e",
   "metadata": {},
   "outputs": [],
   "source": [
    "results"
   ]
  },
  {
   "cell_type": "code",
   "execution_count": null,
   "id": "58806f84",
   "metadata": {},
   "outputs": [],
   "source": [
    "adult_ages = {\n",
    "    'OMB1250': '45yr',\n",
    "    'OMB1267': '52yr',\n",
    "    'OMB1270': '84yr', \n",
    "    'OMB1272': '65yr',\n",
    "    'OMB1276': '66yr',\n",
    "    'OMB1284': '50yr',    \n",
    "    'OMB1291': '69yr'\n",
    "}\n",
    "\n",
    "results['age'] = results.apply(\n",
    "    lambda row: adult_ages[row['sample']] if row['age'] == 'adult' and row['sample'] in adult_ages else row['age'], \n",
    "    axis=1\n",
    ")\n",
    "results['age'].value_counts()"
   ]
  },
  {
   "cell_type": "code",
   "execution_count": null,
   "id": "497be9d5",
   "metadata": {},
   "outputs": [],
   "source": [
    "from pandas.api.types import CategoricalDtype\n",
    "\n",
    "age_order = [\n",
    "    '11pcw', '12pcw', '13pcw', '14pcw', '15pcw', '16pcw', '17pcw', '19pcw', '20pcw',\n",
    "    '45yr', '50yr', '52yr', '65yr', '66yr', '69yr', '84yr'\n",
    "]\n",
    "\n",
    "# Create a CategoricalDtype with the specific order\n",
    "age_dtype = CategoricalDtype(categories=age_order, ordered=True)\n",
    "\n",
    "# Convert the 'age' column to the categorical type\n",
    "results['age'] = results['age'].astype(age_dtype)"
   ]
  },
  {
   "cell_type": "code",
   "execution_count": null,
   "id": "6c48fc5f",
   "metadata": {},
   "outputs": [],
   "source": [
    "results['health'] = 'Healthy'\n",
    "results.loc[results['sample'].isin(['OMB1267', 'OMB1272']), 'health'] = 'Not Healthy'\n",
    "results['health'].value_counts()"
   ]
  },
  {
   "cell_type": "code",
   "execution_count": null,
   "id": "7c125cde",
   "metadata": {},
   "outputs": [],
   "source": [
    "results"
   ]
  },
  {
   "cell_type": "code",
   "execution_count": null,
   "id": "fe777ca9",
   "metadata": {},
   "outputs": [],
   "source": [
    "results.to_csv(os.path.join(RESULTS_FOLDERNAME, 'stardist_analysis_fulldata.csv'))"
   ]
  },
  {
   "cell_type": "code",
   "execution_count": null,
   "id": "e7f192be",
   "metadata": {},
   "outputs": [],
   "source": [
    "sns.set(style=\"whitegrid\")\n",
    "\n",
    "# Create a scatter plot comparing max distance to centroid to nucleus area, colored by age\n",
    "plt.figure(figsize=(12, 6))\n",
    "sns.scatterplot(data=results, x=' Nucleus_area', y=' max_distance_to_centroid', hue='age', palette=\"tab20b\", alpha=0.9, s=100, edgecolor='w', linewidth=0.5)\n",
    "plt.title('Max Distance to Centroid vs Nucleus Area')\n",
    "plt.xlabel('Nucleus Area')\n",
    "plt.ylabel('Max Distance to Centroid')\n",
    "plt.legend(title='Sample Age', bbox_to_anchor=(1.05, 1), loc='upper left')\n",
    "plt.savefig(os.path.join(FIGURES_FOLDERNAME, 'Area_vs_Max_dist_to_centroid_scatter_age.svg'))\n",
    "plt.show()\n"
   ]
  },
  {
   "cell_type": "code",
   "execution_count": null,
   "id": "034578d7",
   "metadata": {},
   "outputs": [],
   "source": [
    "import matplotlib.pyplot as plt\n",
    "import seaborn as sns\n",
    "\n",
    "# Set the style of the visualization\n",
    "sns.set(style=\"whitegrid\")\n",
    "\n",
    "# Plot boxplot with jitter for nuclei numbers\n",
    "plt.figure(figsize=(12, 6))\n",
    "sns.boxplot(data=results, x='age', y=' Nucleus_number', palette=\"tab20b\")\n",
    "sns.stripplot(data=results, x='age', y=' Nucleus_number', color='black', size=5, jitter=True, alpha=0.5)\n",
    "plt.title('Nucleus Numbers per Sample Age')\n",
    "plt.xlabel('Sample Age')\n",
    "plt.ylabel('Nucleus Numbers')\n",
    "plt.savefig(os.path.join(FIGURES_FOLDERNAME, 'Nucleus_number_boxplot_age.svg'))\n",
    "plt.show()\n",
    "\n",
    "# Plot boxplot with jitter for nucleus areas\n",
    "plt.figure(figsize=(12, 6))\n",
    "sns.boxplot(data=results, x='age', y=' Nucleus_area', palette=\"tab20b\")\n",
    "sns.stripplot(data=results, x='age', y=' Nucleus_area', color='black', size=5, jitter=True, alpha=0.5)\n",
    "plt.title('Nucleus Areas per Sample Age')\n",
    "plt.xlabel('Sample Age')\n",
    "plt.ylabel('Nucleus Areas')\n",
    "plt.savefig(os.path.join(FIGURES_FOLDERNAME, 'Nucleus_area_boxplot_age.svg'))\n",
    "plt.show()\n",
    "\n",
    "# Plot boxplot with jitter for max distance to centroid\n",
    "plt.figure(figsize=(12, 6))\n",
    "sns.boxplot(data=results, x='age', y=' max_distance_to_centroid', palette=\"tab20b\")\n",
    "sns.stripplot(data=results, x='age', y=' max_distance_to_centroid', color='black', size=5, jitter=True, alpha=0.5)\n",
    "plt.title('Max Distance to Centroid per Sample Age')\n",
    "plt.xlabel('Sample Age')\n",
    "plt.ylabel('Max Distance to Centroid')\n",
    "plt.savefig(os.path.join(FIGURES_FOLDERNAME, 'Max_dist_to_centroid_boxplot_age.svg'))\n",
    "plt.show()\n"
   ]
  },
  {
   "cell_type": "code",
   "execution_count": null,
   "id": "51597f18",
   "metadata": {},
   "outputs": [],
   "source": [
    "results[['age', 'health']].value_counts()"
   ]
  },
  {
   "cell_type": "code",
   "execution_count": null,
   "id": "62f3a8b8",
   "metadata": {},
   "outputs": [],
   "source": [
    "results = pd.read_csv(os.path.join(RESULTS_FOLDERNAME, 'stardist_analysis_fulldata.csv'), index_col=0)\n",
    "results"
   ]
  },
  {
   "cell_type": "code",
   "execution_count": null,
   "id": "643281a9",
   "metadata": {},
   "outputs": [],
   "source": [
    "# Clean column names\n",
    "results.columns = results.columns.str.strip()"
   ]
  },
  {
   "cell_type": "code",
   "execution_count": null,
   "id": "b7a2c984",
   "metadata": {},
   "outputs": [],
   "source": [
    "results.columns"
   ]
  },
  {
   "cell_type": "code",
   "execution_count": null,
   "id": "982aacbf",
   "metadata": {},
   "outputs": [],
   "source": [
    "for column in ['Nucleus_number', 'Nucleus_area', 'max_distance_to_centroid']:\n",
    "    stats = results.groupby('age')[column].describe()\n",
    "    stats.to_csv(os.path.join(RESULTS_FOLDERNAME, f'stats_{column}.csv'))"
   ]
  },
  {
   "cell_type": "code",
   "execution_count": null,
   "id": "54349f48",
   "metadata": {},
   "outputs": [],
   "source": [
    "stats"
   ]
  },
  {
   "cell_type": "code",
   "execution_count": null,
   "id": "cc0ac8eb",
   "metadata": {
    "scrolled": false
   },
   "outputs": [],
   "source": [
    "from scipy.stats import shapiro\n",
    "import statsmodels.api as sm\n",
    "\n",
    "# Shapiro-Wilk test for normality\n",
    "for column in ['Nucleus_number', 'Nucleus_area', 'max_distance_to_centroid']:\n",
    "    stat, p = shapiro(results[column])\n",
    "    print(f'Shapiro-Wilk Test for {column}: Statistics={stat}, p={p}')\n",
    "    \n",
    "    # Plot histograms\n",
    "    plt.figure(figsize=(10, 4))\n",
    "    sns.histplot(results[column], kde=True)\n",
    "    plt.title(f'Histogram of {column}')\n",
    "    plt.show()\n",
    "\n",
    "    # Plot Q-Q plots\n",
    "    plt.figure(figsize=(10, 4))\n",
    "    sm.qqplot(results[column], line='s')\n",
    "    plt.title(f'Q-Q Plot of {column}')\n",
    "    plt.show()"
   ]
  },
  {
   "cell_type": "code",
   "execution_count": null,
   "id": "e9f7b2fc",
   "metadata": {
    "scrolled": false
   },
   "outputs": [],
   "source": [
    "from statsmodels.formula.api import ols\n",
    "from statsmodels.stats.anova import anova_lm\n",
    "\n",
    "# Perform ANOVA\n",
    "for column in ['Nucleus_number', 'Nucleus_area', 'max_distance_to_centroid']:\n",
    "    model = ols(f'{column} ~ C(age)', data=results).fit()\n",
    "    anova_results = anova_lm(model)\n",
    "    print(f'ANOVA Results for {column}:\\n', anova_results)"
   ]
  },
  {
   "cell_type": "code",
   "execution_count": null,
   "id": "b7b1b401",
   "metadata": {
    "scrolled": false
   },
   "outputs": [],
   "source": [
    "from statsmodels.stats.multicomp import pairwise_tukeyhsd\n",
    "\n",
    "# Perform Tukey's HSD post-hoc test\n",
    "for column in ['Nucleus_number', 'Nucleus_area', 'max_distance_to_centroid']:\n",
    "    tukey = pairwise_tukeyhsd(endog=results[column], groups=results['age'], alpha=0.05)\n",
    "    print(f'Tukey HSD Results for {column}:\\n', tukey)\n",
    "    tukey_summary = tukey.summary()\n",
    "    results_df = pd.DataFrame(data=tukey_summary.data[1:], columns=tukey_summary.data[0])\n",
    "    results_df.to_csv(os.path.join(RESULTS_FOLDERNAME, f'tukey_{column}.csv'), index=False)\n",
    "    "
   ]
  },
  {
   "cell_type": "code",
   "execution_count": null,
   "id": "47f5cf8f",
   "metadata": {},
   "outputs": [],
   "source": [
    "from scipy.stats import kruskal\n",
    "\n",
    "# Perform Kruskal-Wallis H-test\n",
    "for column in ['Nucleus_number']:\n",
    "    kruskal_stat, kruskal_p = kruskal(*[group[column].values for name, group in results.groupby('age')])\n",
    "    print(f'Kruskal-Wallis H-test for {column}: Statistics={kruskal_stat}, p={kruskal_p}')"
   ]
  },
  {
   "cell_type": "code",
   "execution_count": null,
   "id": "7ed85384",
   "metadata": {},
   "outputs": [],
   "source": [
    "import scikit_posthocs as sp\n",
    "\n",
    "# Perform Dunn's test for pairwise comparisons\n",
    "dunn = sp.posthoc_dunn(results, val_col='Nucleus_number', group_col='age', p_adjust='bonferroni')\n",
    "dunn_df = pd.DataFrame(dunn)\n",
    "dunn_df.to_csv(os.path.join(RESULTS_FOLDERNAME, f'dunn_nucleus_number.csv'))\n",
    "print(dunn)"
   ]
  }
 ],
 "metadata": {
  "kernelspec": {
   "display_name": "Python [conda env:scvi-env]",
   "language": "python",
   "name": "conda-env-scvi-env-py"
  },
  "language_info": {
   "codemirror_mode": {
    "name": "ipython",
    "version": 3
   },
   "file_extension": ".py",
   "mimetype": "text/x-python",
   "name": "python",
   "nbconvert_exporter": "python",
   "pygments_lexer": "ipython3",
   "version": "3.9.16"
  }
 },
 "nbformat": 4,
 "nbformat_minor": 5
}
