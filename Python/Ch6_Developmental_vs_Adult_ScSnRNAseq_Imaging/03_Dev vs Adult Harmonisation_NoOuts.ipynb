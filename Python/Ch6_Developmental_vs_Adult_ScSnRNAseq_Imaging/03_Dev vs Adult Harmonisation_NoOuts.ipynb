{
 "cells": [
  {
   "cell_type": "code",
   "execution_count": null,
   "id": "336cf270",
   "metadata": {},
   "outputs": [],
   "source": [
    "# Import dependencies\n",
    "%matplotlib inline\n",
    "import os\n",
    "import numpy as np\n",
    "import scanpy as sc\n",
    "import seaborn as sns\n",
    "import matplotlib\n",
    "import matplotlib.pyplot as plt\n",
    "import pandas as pd\n",
    "import anndata as ad\n",
    "import warnings\n",
    "import cellhint \n",
    "\n",
    "# Ignore all warnings\n",
    "warnings.simplefilter(\"ignore\")\n",
    "\n",
    "matplotlib.rcParams['font.family'] = 'sans-serif'\n",
    "\n",
    "# Initialize random seed\n",
    "import random\n",
    "random.seed(111)\n",
    "\n",
    "# Print date and time:\n",
    "import datetime\n",
    "e = datetime.datetime.now()\n",
    "print (\"Current date and time = %s\" % e)\n",
    "\n",
    "# wdir = \"/ceph/project/tendonhca/akurjan/analysis/\"\n",
    "wdir = \"/mnt/da8aa2c4-0136-465b-87a2-d12a59afec55/akurjan/analysis/notebooks/\"\n",
    "os.chdir( wdir )\n",
    "\n",
    "# folder structures\n",
    "INPUT_FOLDERNAME = \"adult/integration/results/\"\n",
    "RESULTS_FOLDERNAME = \"adult/annotation/results/\"\n",
    "FIGURES_FOLDERNAME = \"adult/annotation/figures/\"\n",
    "\n",
    "if not os.path.exists(RESULTS_FOLDERNAME):\n",
    "    os.makedirs(RESULTS_FOLDERNAME)\n",
    "if not os.path.exists(FIGURES_FOLDERNAME):\n",
    "    os.makedirs(FIGURES_FOLDERNAME)\n",
    "\n",
    "# Set folder for saving figures into\n",
    "sc.settings.figdir = FIGURES_FOLDERNAME\n",
    "\n",
    "def savesvg(fname: str, fig, folder: str=FIGURES_FOLDERNAME) -> None:\n",
    "    \"\"\"\n",
    "    Save figure as vector-based SVG image format.\n",
    "    \"\"\"\n",
    "    fig.savefig(os.path.join(folder, fname), format='svg')\n",
    "\n",
    "def plot_umaps(anndata, parameters: list, filename: str):\n",
    "    n_plots = len(parameters)\n",
    "    fig, axs = plt.subplots(n_plots, 1, figsize=(10, 4*n_plots))\n",
    "    for i, param in enumerate(parameters):\n",
    "        sc.pl.umap(anndata, color=param, ax=axs[i], show=False, frameon=False, s=2)\n",
    "        axs[i].set_title(param)\n",
    "    plt.tight_layout()\n",
    "    savesvg(filename, fig)\n",
    "    plt.show()    \n",
    "    \n",
    "# Set other settings\n",
    "sc.settings.verbosity = 3 # verbosity: errors (0), warnings (1), info (2), hints (3)\n",
    "sc.logging.print_versions()\n",
    "sc.set_figure_params(dpi=150, fontsize=10, dpi_save=600)"
   ]
  },
  {
   "cell_type": "code",
   "execution_count": null,
   "id": "5772b19d",
   "metadata": {},
   "outputs": [],
   "source": [
    "adata = sc.read_h5ad(os.path.join(INPUT_FOLDERNAME, 'adultdev_combined_scANVI.h5ad'))\n",
    "adata.var_names_make_unique()\n",
    "adata"
   ]
  },
  {
   "cell_type": "code",
   "execution_count": null,
   "id": "71a7db86",
   "metadata": {},
   "outputs": [],
   "source": [
    "print(adata.X[0:10,0:10])"
   ]
  },
  {
   "cell_type": "code",
   "execution_count": null,
   "id": "877ae2f7",
   "metadata": {},
   "outputs": [],
   "source": [
    "adata = adata.raw.to_adata()\n",
    "sc.pp.filter_genes(adata, min_counts=50, inplace=True)"
   ]
  },
  {
   "cell_type": "code",
   "execution_count": null,
   "id": "05024ba1",
   "metadata": {},
   "outputs": [],
   "source": [
    "print(adata.X[0:10,0:10])\n",
    "adata.layers[\"counts\"] = adata.X.copy()"
   ]
  },
  {
   "cell_type": "code",
   "execution_count": null,
   "id": "eb49233c",
   "metadata": {},
   "outputs": [],
   "source": [
    "sc.pp.normalize_total(adata, target_sum=None, inplace=True)"
   ]
  },
  {
   "cell_type": "code",
   "execution_count": null,
   "id": "3d31d3d1",
   "metadata": {},
   "outputs": [],
   "source": [
    "print(adata.X[0:10,0:10])"
   ]
  },
  {
   "cell_type": "code",
   "execution_count": null,
   "id": "f7d6a020",
   "metadata": {},
   "outputs": [],
   "source": [
    "sc.pp.log1p(adata)\n",
    "print(adata.X[0:10, 0:10])\n",
    "adata.layers[\"log1p_norm\"] = adata.X.copy()"
   ]
  },
  {
   "cell_type": "code",
   "execution_count": null,
   "id": "d1c1304c",
   "metadata": {},
   "outputs": [],
   "source": [
    "sc.tl.leiden(adata, resolution=0.6, restrict_to=('group', ['Adult']))"
   ]
  },
  {
   "cell_type": "code",
   "execution_count": null,
   "id": "8f4ace2d",
   "metadata": {},
   "outputs": [],
   "source": [
    "sc.pl.umap(adata, color=[\"leiden_R\", \"tendon_status\", \"annotations_orig_full\"], \n",
    "           legend_loc=\"on data\", frameon=False, legend_fontsize=5)"
   ]
  },
  {
   "cell_type": "code",
   "execution_count": null,
   "id": "07e61942",
   "metadata": {},
   "outputs": [],
   "source": [
    "for cluster in ['Adult,13', 'Adult,2', 'Adult,1', 'Adult,9', 'Adult,19', 'Adult,14']:\n",
    "    adata.obs['leiden_R'] = np.where(\n",
    "        adata.obs['leiden_R'] == cluster, 'AdultFibros', adata.obs['leiden_R']\n",
    "    )\n",
    "sc.pl.umap(adata, color=[\"leiden_R\", \"annotations_orig_full\"], \n",
    "           legend_loc=\"on data\", frameon=False, legend_fontsize=5)"
   ]
  },
  {
   "cell_type": "code",
   "execution_count": null,
   "id": "63605307",
   "metadata": {},
   "outputs": [],
   "source": [
    "adata.obs['leiden_fibros'] = adata.obs['leiden_R'].copy()"
   ]
  },
  {
   "cell_type": "code",
   "execution_count": null,
   "id": "e162b1f7",
   "metadata": {},
   "outputs": [],
   "source": [
    "sc.tl.leiden(adata, resolution=0.1, restrict_to=('leiden_fibros', ['AdultFibros']), key_added='leiden_fibros')"
   ]
  },
  {
   "cell_type": "code",
   "execution_count": null,
   "id": "0b556a63",
   "metadata": {},
   "outputs": [],
   "source": [
    "sc.pl.umap(adata, color=[\"leiden_fibros\", \"annotations_orig_full\"], \n",
    "           legend_loc=\"on data\", frameon=False, legend_fontsize=5)"
   ]
  },
  {
   "cell_type": "code",
   "execution_count": null,
   "id": "485c7bde",
   "metadata": {},
   "outputs": [],
   "source": [
    "counts = adata.obs['leiden_fibros'].value_counts()\n",
    "groups_to_remove = counts[counts < 40].index\n",
    "adata = adata[~adata.obs['leiden_fibros'].isin(groups_to_remove)]\n",
    "print(adata.obs['leiden_fibros'].value_counts())"
   ]
  },
  {
   "cell_type": "code",
   "execution_count": null,
   "id": "05fc8e46",
   "metadata": {},
   "outputs": [],
   "source": [
    "adata.obs['leiden_06'] = adata.obs['leiden_fibros'].copy()\n",
    "adata.obs['annotations_new'] = adata.obs['annotations_orig_full'].copy()"
   ]
  },
  {
   "cell_type": "code",
   "execution_count": null,
   "id": "28cf6a2c",
   "metadata": {},
   "outputs": [],
   "source": [
    "adata.obs['leiden_fibros'] = adata.obs['leiden_fibros'].astype(str)\n",
    "adata.obs['annotations_new'] = adata.obs['annotations_new'].astype(str)\n",
    "\n",
    "mask = ~adata.obs['annotations_new'].str.startswith('Adult_')\n",
    "filtered_annotations = adata.obs.loc[mask, 'annotations_new']\n",
    "\n",
    "adata.obs['leiden_fibros'].update(adata.obs.loc[mask, 'annotations_new'])\n",
    "print(adata.obs['leiden_fibros'].value_counts())"
   ]
  },
  {
   "cell_type": "code",
   "execution_count": null,
   "id": "4c0fb850",
   "metadata": {},
   "outputs": [],
   "source": [
    "sc.pl.umap(adata, color=[\"leiden_fibros\", \"tendon_status\", \"annotations_orig_full\"], \n",
    "           legend_loc=\"on data\", frameon=False, legend_fontsize=6)"
   ]
  },
  {
   "cell_type": "code",
   "execution_count": null,
   "id": "926b438e",
   "metadata": {
    "scrolled": false
   },
   "outputs": [],
   "source": [
    "sc.tl.rank_genes_groups(adata, groupby='leiden_fibros', method='wilcoxon', key_added='wilcoxon_06', \n",
    "                        use_raw=False, layer='log1p_norm')\n",
    "sc.pl.rank_genes_groups(adata, n_genes=25, sharey=False, key='wilcoxon_06')"
   ]
  },
  {
   "cell_type": "code",
   "execution_count": null,
   "id": "bc831bc0",
   "metadata": {},
   "outputs": [],
   "source": [
    "sc.pl.umap(adata, color=['leiden_fibros', 'annotations_orig_full'], legend_loc='on data', frameon=False, legend_fontsize=4)"
   ]
  },
  {
   "cell_type": "code",
   "execution_count": null,
   "id": "37adc23e",
   "metadata": {},
   "outputs": [],
   "source": [
    "canonical_TSPC = ['ENG', 'THY1', 'CD44', 'NES', 'MCAM']\n",
    "sheath_TSPC = ['TPPP3', 'PDGFRA', 'ACTA2']\n",
    "injury_TSPC = ['AXIN2', 'GLAST']\n",
    "\n",
    "foetalmarkers = {\n",
    "'ABI3BP fibroblasts': ['ABI3BP', 'GAS2', 'SCX', 'MKX', 'SOX5', 'COL1A1', 'THBS2', 'TNMD', 'KERA', 'FMOD', 'ACAN', 'COMP', 'COL5A1', 'COL6A1', 'COL11A1', 'COL11A2', 'COL12A1', 'COL14A1'],\n",
    "'COL6A6/COL3A1 fibroblasts': ['COL6A6', 'FNDC1', 'TSHZ2', 'PLAGL1', 'DCLK1', 'COL3A1', 'COL1A1', 'COL6A6', 'VCAN', 'FBN1', 'THBS2', 'COL5A1', 'COL6A1', 'COL11A1', 'COL11A2', 'COL12A1', 'COL14A1', 'TPPP3', 'PDGFRA', 'LUM'],\n",
    "'FGF14 fibroblasts': ['FGF14', 'THBS4', 'COL1A1', 'COL3A1', 'COL4A1', 'COL5A1', 'COL6A1', 'COL11A1', 'COL11A2', 'COL12A1', 'EBF1', 'TSHZ2', 'DLK1', 'BMP5', 'SLIT3', 'FSTL5', 'CDH12', 'COL22A1'],\n",
    "'NEGR1 fibroblasts': ['NEGR1', 'SCN7A', 'TNXB', 'LUM', 'VCAN', 'COL1A1', 'COL4A1', 'COL22A1', 'NOVA1', 'NAV3', 'SEMA5A'],\n",
    "'canonical TSPCs': canonical_TSPC,\n",
    "'sheath TSPCs': sheath_TSPC,\n",
    "'injury TSPCs': injury_TSPC\n",
    "}\n",
    "\n",
    "foetalmarkers_filtered = {}\n",
    "\n",
    "all_genes_in_adata = set(adata.var_names)\n",
    "\n",
    "for cell_type, genes in foetalmarkers.items():\n",
    "    filtered_genes = [gene for gene in genes if gene in all_genes_in_adata]\n",
    "    foetalmarkers_filtered[cell_type] = filtered_genes  "
   ]
  },
  {
   "cell_type": "code",
   "execution_count": null,
   "id": "01610dee",
   "metadata": {},
   "outputs": [],
   "source": [
    "sc.tl.dendrogram(adata, groupby='leiden_fibros', use_rep='X_scANVI')"
   ]
  },
  {
   "cell_type": "code",
   "execution_count": null,
   "id": "c7662643",
   "metadata": {},
   "outputs": [],
   "source": [
    "#sc.pp.scale(adata)\n",
    "#print(adata.X[0:5,0:5])\n",
    "#adata.layers['scaled'] = adata.X.copy()"
   ]
  },
  {
   "cell_type": "code",
   "execution_count": null,
   "id": "e842373b",
   "metadata": {},
   "outputs": [],
   "source": [
    "name = \"combineddata\""
   ]
  },
  {
   "cell_type": "code",
   "execution_count": null,
   "id": "0f9e98f6",
   "metadata": {
    "scrolled": false
   },
   "outputs": [],
   "source": [
    "sc.pl.dotplot(adata, foetalmarkers_filtered['ABI3BP fibroblasts'], 'leiden_fibros', dendrogram=True,\n",
    "              use_raw=False, layer=\"log1p_norm\", \n",
    "              #vmin=-2, vmax=2, \n",
    "              cmap='Reds', figsize=(8,14),\n",
    "              title='ABI3BP Foetal Fibroblast Markers',\n",
    "              save=f'{name}_annotation_abi3bp.svg')"
   ]
  },
  {
   "cell_type": "code",
   "execution_count": null,
   "id": "53b3ebc5",
   "metadata": {
    "scrolled": true
   },
   "outputs": [],
   "source": [
    "sc.pl.dotplot(adata, foetalmarkers_filtered['COL6A6/COL3A1 fibroblasts'], 'leiden_fibros', dendrogram=True,\n",
    "              use_raw=False, layer=\"log1p_norm\", #vmin=-2, vmax=2, \n",
    "              cmap='Reds', figsize=(8,14),\n",
    "              title='COL3/COL6 Foetal Fibroblast Markers',\n",
    "              save=f'{name}_annotation_col3col6.svg')"
   ]
  },
  {
   "cell_type": "code",
   "execution_count": null,
   "id": "4ecee402",
   "metadata": {
    "scrolled": true
   },
   "outputs": [],
   "source": [
    "sc.pl.dotplot(adata, foetalmarkers_filtered['FGF14 fibroblasts'], 'leiden_fibros', dendrogram=True,\n",
    "              use_raw=False, layer=\"log1p_norm\", #vmin=-2, vmax=2, \n",
    "              cmap='Reds', figsize=(8,14),\n",
    "             title='FGF14 Foetal Fibroblast Markers',\n",
    "             save=f'{name}_annotation_fgf14.svg')"
   ]
  },
  {
   "cell_type": "code",
   "execution_count": null,
   "id": "735a993d",
   "metadata": {
    "scrolled": true
   },
   "outputs": [],
   "source": [
    "sc.pl.dotplot(adata, foetalmarkers_filtered['NEGR1 fibroblasts'], 'leiden_fibros', dendrogram=True,\n",
    "              use_raw=False, layer=\"log1p_norm\", #vmin=-2, vmax=2, \n",
    "              cmap='Reds', figsize=(8,14),\n",
    "             title='NEGR1 Foetal Fibroblast Markers',\n",
    "             save=f'{name}_annotation_negr1.svg')"
   ]
  },
  {
   "cell_type": "code",
   "execution_count": null,
   "id": "856aa0f9",
   "metadata": {
    "scrolled": true
   },
   "outputs": [],
   "source": [
    "sc.pl.dotplot(adata, foetalmarkers_filtered, 'leiden_fibros', dendrogram=True,\n",
    "              use_raw=False, layer=\"log1p_norm\", #vmin=-2, vmax=2, \n",
    "              cmap='Reds', figsize=(25,14),\n",
    "              save=f'{name}_annotation_full.svg'\n",
    "              )"
   ]
  },
  {
   "cell_type": "code",
   "execution_count": null,
   "id": "d7422518",
   "metadata": {},
   "outputs": [],
   "source": [
    "sc.pl.dotplot(adata, foetalmarkers_filtered, 'leiden_fibros', dendrogram=True,\n",
    "             use_raw=False, layer=\"log1p_norm\", vmin=0, vmax=5, cmap='Reds', figsize=(25,14),\n",
    "             save=f'{name}_annotation_full_normalised.svg'\n",
    "             )"
   ]
  },
  {
   "cell_type": "code",
   "execution_count": null,
   "id": "cd6c6465",
   "metadata": {},
   "outputs": [],
   "source": [
    "sc.pl.dotplot(adata, foetalmarkers_filtered, 'annotations_upd2', dendrogram=True,\n",
    "             use_raw=False, layer=\"log1p_norm\", vmin=0, vmax=5, cmap='Reds', figsize=(25,14),\n",
    "             save=f'{name}_annotation_upd_normalised.svg'\n",
    "             )"
   ]
  },
  {
   "cell_type": "code",
   "execution_count": null,
   "id": "df8a8ca5",
   "metadata": {},
   "outputs": [],
   "source": [
    "result = adata.uns['wilcoxon_06']\n",
    "groups = result['names'].dtype.names\n",
    "df = pd.DataFrame(\n",
    "    {group + '_' + key: result[key][group]\n",
    "    for group in groups \n",
    "    for key in ['names','scores','logfoldchanges', 'pvals', 'pvals_adj']})\n",
    "df.to_csv(os.path.join(RESULTS_FOLDERNAME, 'fulldata_wilcoxon_DGE_leiden_06adult_01fibros.csv'))"
   ]
  },
  {
   "cell_type": "code",
   "execution_count": null,
   "id": "5608308a",
   "metadata": {},
   "outputs": [],
   "source": [
    "df"
   ]
  },
  {
   "cell_type": "code",
   "execution_count": null,
   "id": "e66ff4cb",
   "metadata": {},
   "outputs": [],
   "source": [
    "adata.write(os.path.join(RESULTS_FOLDERNAME, 'adultdev_combined_scANVI.h5ad'))"
   ]
  },
  {
   "cell_type": "code",
   "execution_count": null,
   "id": "928180f8",
   "metadata": {},
   "outputs": [],
   "source": [
    "data = pd.read_csv(os.path.join(RESULTS_FOLDERNAME, \"Barcodes_and_celltypes_for_Alina.csv\"), index_col='barcodes')\n",
    "data"
   ]
  },
  {
   "cell_type": "code",
   "execution_count": null,
   "id": "b01a143c",
   "metadata": {},
   "outputs": [],
   "source": [
    "sc.tl.score_genes(adata, gene_list=foetalmarkers_filtered['ABI3BP fibroblasts'], \n",
    "                  score_name='abi3bp_marker_score', use_raw=False,\n",
    "                  ctrl_size=len(foetalmarkers_filtered['ABI3BP fibroblasts']), n_bins=50,\n",
    "                  random_state=1)\n",
    "\n",
    "sc.tl.score_genes(adata, gene_list=foetalmarkers_filtered['COL6A6/COL3A1 fibroblasts'], \n",
    "                  score_name='col6a6/col3a1_marker_score', use_raw=False,\n",
    "                  ctrl_size=len(foetalmarkers_filtered['COL6A6/COL3A1 fibroblasts']), n_bins=50, \n",
    "                  random_state=1)\n",
    "\n",
    "sc.tl.score_genes(adata, gene_list=foetalmarkers_filtered['FGF14 fibroblasts'], \n",
    "                  score_name='fgf14_marker_score', use_raw=False,\n",
    "                  ctrl_size=len(foetalmarkers_filtered['FGF14 fibroblasts']), n_bins=50,\n",
    "                  random_state=1)\n",
    "\n",
    "sc.tl.score_genes(adata, gene_list=foetalmarkers_filtered['NEGR1 fibroblasts'], \n",
    "                  score_name='negr1_marker_score', use_raw=False,\n",
    "                  ctrl_size=len(foetalmarkers_filtered['NEGR1 fibroblasts']), n_bins=50,\n",
    "                  random_state=1)"
   ]
  },
  {
   "cell_type": "code",
   "execution_count": null,
   "id": "dc62efa9",
   "metadata": {},
   "outputs": [],
   "source": [
    "sc.pl.umap(adata, color=['abi3bp_marker_score', 'col6a6/col3a1_marker_score', 'fgf14_marker_score', 'negr1_marker_score'], \n",
    "           frameon=False,\n",
    "           sort_order=False,\n",
    "           cmap=\"bwr\", vmax=\"p95\", vcenter=0,\n",
    "           save=f'{name}_marker_scores_95perc.svg'\n",
    "          )"
   ]
  },
  {
   "cell_type": "code",
   "execution_count": null,
   "id": "a6c4696c",
   "metadata": {},
   "outputs": [],
   "source": [
    "sc.pl.umap(adata, color=['abi3bp_marker_score', 'col6a6/col3a1_marker_score', 'fgf14_marker_score', 'negr1_marker_score'], \n",
    "           frameon=False,\n",
    "           sort_order=False,\n",
    "           cmap=\"bwr\", vmax=\"p99\", vcenter=0,\n",
    "           save=f'{name}_marker_scores_99perc.svg'\n",
    "          )"
   ]
  },
  {
   "cell_type": "code",
   "execution_count": null,
   "id": "9f5be389",
   "metadata": {},
   "outputs": [],
   "source": [
    "adata.write(os.path.join(RESULTS_FOLDERNAME, 'adultdev_combined_scANVI.h5ad'))"
   ]
  },
  {
   "cell_type": "code",
   "execution_count": null,
   "id": "c51dcc54",
   "metadata": {},
   "outputs": [],
   "source": [
    "del adata.raw"
   ]
  },
  {
   "cell_type": "code",
   "execution_count": null,
   "id": "d0f148ec",
   "metadata": {},
   "outputs": [],
   "source": [
    "foetal = sc.read_h5ad(os.path.join('foetal/results/scVI/dev_scANVI.h5ad'))\n",
    "foetal.obs['C_scANVI_orig'] = foetal.obs['C_scANVI']\n",
    "\n",
    "foetal.obs['C_scANVI'] = np.where(\n",
    "    foetal.obs['C_scANVI'] == 'ABI3BP GAS2 Fibroblasts 1', 'ABI3BP GAS2 Fibroblasts', foetal.obs['C_scANVI']\n",
    ")\n",
    "foetal.obs['C_scANVI'] = np.where(\n",
    "    foetal.obs['C_scANVI'] == 'ABI3BP GAS2 Fibroblasts 2', 'ABI3BP GAS2 Fibroblasts', foetal.obs['C_scANVI']\n",
    ")\n",
    "foetal"
   ]
  },
  {
   "cell_type": "code",
   "execution_count": null,
   "id": "b13b8409",
   "metadata": {},
   "outputs": [],
   "source": [
    "sc.tl.rank_genes_groups(foetal, groupby='C_scANVI', method='wilcoxon', key_added='wilcoxon_scanvi', \n",
    "                        use_raw=False, layer='log1p_norm')\n",
    "sc.pl.rank_genes_groups(foetal, n_genes=25, sharey=False, key='wilcoxon_scanvi')"
   ]
  },
  {
   "cell_type": "code",
   "execution_count": null,
   "id": "c96d6032",
   "metadata": {},
   "outputs": [],
   "source": [
    "categories = adata.obs['annotations_upd'].cat.categories\n",
    "adult_categories = [cat for cat in categories if cat.startswith('Adult_')]\n",
    "adult_categories"
   ]
  },
  {
   "cell_type": "code",
   "execution_count": null,
   "id": "7b85b1b5",
   "metadata": {},
   "outputs": [],
   "source": [
    "foetal_uns_dict = foetal.uns['wilcoxon_scanvi']\n",
    "foetal_ct = foetal.obs['C_scANVI']"
   ]
  },
  {
   "cell_type": "code",
   "execution_count": null,
   "id": "25bcde7c",
   "metadata": {},
   "outputs": [],
   "source": [
    "del foetal"
   ]
  },
  {
   "cell_type": "code",
   "execution_count": null,
   "id": "04492d59",
   "metadata": {},
   "outputs": [],
   "source": [
    "dev_categories = [cat for cat in categories if cat not in adult_categories]\n",
    "dev_categories"
   ]
  },
  {
   "cell_type": "code",
   "execution_count": null,
   "id": "4e3aed5d",
   "metadata": {},
   "outputs": [],
   "source": [
    "foetal_categories = ['ABI3BP GAS2 Fibroblasts',\n",
    " 'COL3A1 PI16 Fibroblasts',\n",
    " 'COL6A6 FNDC1 Fibroblasts',\n",
    " 'Chondrocytes',\n",
    " 'FGF14 THBS4 Fibroblasts',\n",
    " 'Immune Cells',\n",
    " 'NEGR1 SCN7A Fibroblasts',\n",
    " 'Nervous System Cells',\n",
    " 'Satellite Cells',\n",
    " 'Skeletal Myocytes',\n",
    " 'Smooth Myocytes',\n",
    " 'lymEndothelial Cells',\n",
    " 'vasEndothelial Cells']"
   ]
  },
  {
   "cell_type": "code",
   "execution_count": null,
   "id": "1e19bae9",
   "metadata": {},
   "outputs": [],
   "source": [
    "sc.tl.rank_genes_groups(adata, groupby='annotations_upd', \n",
    "                        groups=foetal_categories,\n",
    "                        method='wilcoxon', key_added='wilcoxon_dev', \n",
    "                        use_raw=False, layer='log1p_norm')\n",
    "sc.pl.rank_genes_groups(adata, n_genes=25, sharey=False, key='wilcoxon_dev')"
   ]
  },
  {
   "cell_type": "code",
   "execution_count": null,
   "id": "86269964",
   "metadata": {},
   "outputs": [],
   "source": [
    "result = adata.uns['wilcoxon_dev']\n",
    "groups = result['names'].dtype.names\n",
    "df = pd.DataFrame(\n",
    "    {group + '_' + key: result[key][group]\n",
    "    for group in groups \n",
    "    for key in ['names','scores','logfoldchanges', 'pvals', 'pvals_adj']})\n",
    "df.to_csv(os.path.join(RESULTS_FOLDERNAME, 'devonly_wilcoxon_DGE.csv'))"
   ]
  },
  {
   "cell_type": "code",
   "execution_count": null,
   "id": "a8b4c078",
   "metadata": {},
   "outputs": [],
   "source": [
    "#adata.uns['log1p']['base'] = None\n",
    "sc.tl.rank_genes_groups(adata, groupby='annotations_upd', \n",
    "                        groups=adult_categories,\n",
    "                        method='wilcoxon', key_added='wilcoxon_adult', \n",
    "                        use_raw=False, layer='log1p_norm')\n",
    "sc.pl.rank_genes_groups(adata, n_genes=25, sharey=False, key='wilcoxon_adult')"
   ]
  },
  {
   "cell_type": "code",
   "execution_count": null,
   "id": "ce34ed4b",
   "metadata": {},
   "outputs": [],
   "source": [
    "result = adata.uns['wilcoxon_adult']\n",
    "groups = result['names'].dtype.names\n",
    "df = pd.DataFrame(\n",
    "    {group + '_' + key: result[key][group]\n",
    "    for group in groups \n",
    "    for key in ['names','scores','logfoldchanges', 'pvals', 'pvals_adj']})\n",
    "df.to_csv(os.path.join(RESULTS_FOLDERNAME, 'adultonly_wilcoxon_DGE.csv'))"
   ]
  },
  {
   "cell_type": "code",
   "execution_count": null,
   "id": "1668daf2",
   "metadata": {},
   "outputs": [],
   "source": [
    "foetal_markers_dict_2 = {}\n",
    "for cell_type in foetal_categories:\n",
    "    top_degs = adata.uns['wilcoxon_dev']['names'][cell_type][0:50]\n",
    "    foetal_markers_dict_2[cell_type] = top_degs\n",
    "\n",
    "cell_annotation_norm = sc.tl.marker_gene_overlap(adata, foetal_markers_dict_2, key='wilcoxon_adult', normalize='reference')\n",
    "\n",
    "fig, ax = plt.subplots(figsize=(12,14))\n",
    "sns.heatmap(cell_annotation_norm.T, linewidths=0.5, linecolor='white', cbar=True, annot=True, ax=ax)\n",
    "plt.grid(False)\n",
    "savesvg('onefile_Foetal_vs_Adult_similaritymatrix_50degs.svg', plt)\n",
    "plt.show()"
   ]
  },
  {
   "cell_type": "code",
   "execution_count": null,
   "id": "88108d1d",
   "metadata": {},
   "outputs": [],
   "source": [
    "g = sns.clustermap(cell_annotation_norm, figsize=(13, 8), \n",
    "                   linewidths=0.5, linecolor='white', cbar=True, annot=False,\n",
    "                   cmap='Reds', \n",
    "                   cbar_kws={'label': 'Overlap Proportion', 'shrink': 0.9, 'use_gridspec': False, 'location': \"left\"})\n",
    "g.cax.set_position([0.035, 0.43, .02, 0.2]) # [left, bottom, width, height]\n",
    "g.cax.yaxis.set_ticks_position('right')\n",
    "g.ax_heatmap.set_xlabel('Adult cell types')\n",
    "g.ax_heatmap.set_ylabel('Foetal cell types') \n",
    "g.ax_heatmap.grid(False)  \n",
    "g.cax.grid(False)  \n",
    "savesvg('onefile_Foetal_vs_Adult_similaritymatrix_clustered_50degs.svg', g)\n",
    "plt.show()"
   ]
  },
  {
   "cell_type": "code",
   "execution_count": null,
   "id": "f27617b2",
   "metadata": {},
   "outputs": [],
   "source": [
    "adata.X.max()"
   ]
  },
  {
   "cell_type": "code",
   "execution_count": null,
   "id": "e412b37e",
   "metadata": {},
   "outputs": [],
   "source": [
    "ms_list = []\n",
    "for cell_type, genes in foetal_markers_dict_2.items():\n",
    "    sc.tl.score_genes(adata, gene_list=genes, use_raw=False,\n",
    "                      score_name=f'{cell_type}_ms', \n",
    "                      ctrl_size=len(genes), n_bins=50,\n",
    "                      random_state=1)\n",
    "    ms_list.append(f'{cell_type}_ms')\n",
    "ms_list"
   ]
  },
  {
   "cell_type": "code",
   "execution_count": null,
   "id": "5132a3b1",
   "metadata": {},
   "outputs": [],
   "source": [
    "ms_list.append('grouptype')"
   ]
  },
  {
   "cell_type": "code",
   "execution_count": null,
   "id": "cfe7456f",
   "metadata": {
    "scrolled": false
   },
   "outputs": [],
   "source": [
    "sc.pl.umap(adata, color=ms_list,\n",
    "           frameon=False,\n",
    "           sort_order=False,\n",
    "           cmap=\"bwr\", vmax=\"p95\", vcenter=0, ncols=5,\n",
    "           save='_foetalct_marker_scores_95perc_50degs.svg'\n",
    "          )"
   ]
  },
  {
   "cell_type": "code",
   "execution_count": null,
   "id": "cfe069c9",
   "metadata": {},
   "outputs": [],
   "source": [
    "sc.pl.umap(adata, color=ms_list,\n",
    "           frameon=False,\n",
    "           sort_order=False,\n",
    "           cmap=\"bwr\", vmax=\"p99\", vcenter=0, ncols=4,\n",
    "           save='_foetalct_marker_scores_99perc_50degs4cols.svg'\n",
    "          )"
   ]
  },
  {
   "cell_type": "code",
   "execution_count": null,
   "id": "1b360542",
   "metadata": {},
   "outputs": [],
   "source": [
    "all_annotations = {}\n",
    "if 'annotations_orig_full_colors' in adata.uns:\n",
    "    cell_types = adata.obs['annotations_orig_full'].cat.categories\n",
    "    colors = adata.uns['annotations_orig_full_colors']\n",
    "    for cell_type, color in zip(cell_types, colors):\n",
    "        all_annotations[cell_type] = color\n",
    "        #print(f\"'{cell_type}': '{color}',\")\n",
    "else:\n",
    "    print(\"Color palette for 'annotations_orig' not found. Run a plot first.\")\n",
    "\n",
    "\n",
    "group_annotations = adata.obs[adata.obs['group'] == 'Foetal']['annotations_orig_full']\n",
    "unique_annotations = list(pd.unique(group_annotations))\n",
    "highlighted_clusters = {annotation: all_annotations[annotation] for annotation in unique_annotations \n",
    "                        if annotation in all_annotations}\n",
    "unique_clusters = adata.obs['annotations_orig_full'].cat.categories\n",
    "color_palette = [highlighted_clusters.get(cluster, 'lightgray') for cluster in unique_clusters]"
   ]
  },
  {
   "cell_type": "code",
   "execution_count": null,
   "id": "b6cc6c90",
   "metadata": {},
   "outputs": [],
   "source": [
    "sc.pl.umap(adata, color=['annotations_orig_full'], s=1,\n",
    "           legend_loc='on data', legend_fontsize=3, palette=color_palette,\n",
    "           frameon=False, save='_scANVI_foetalct_annotated.svg'\n",
    "          )"
   ]
  },
  {
   "cell_type": "code",
   "execution_count": null,
   "id": "066ae20e",
   "metadata": {},
   "outputs": [],
   "source": [
    "ms_list2"
   ]
  },
  {
   "cell_type": "code",
   "execution_count": null,
   "id": "f0bf22a2",
   "metadata": {},
   "outputs": [],
   "source": [
    "data = pd.DataFrame(adata.obs[['annotations_orig_full', 'age', 'tendon_status', 'ABI3BP GAS2 Fibroblasts_ms',\n",
    " 'COL3A1 PI16 Fibroblasts_ms', 'COL6A6 FNDC1 Fibroblasts_ms', 'FGF14 THBS4 Fibroblasts_ms', 'NEGR1 SCN7A Fibroblasts_ms']])\n",
    "data"
   ]
  },
  {
   "cell_type": "code",
   "execution_count": null,
   "id": "96fc38c8",
   "metadata": {},
   "outputs": [],
   "source": [
    "data['annotations_orig_full'] = data['annotations_orig_full'].astype(str).str.strip()\n",
    "data['tendon_status'] = data['tendon_status'].astype(str).str.strip()\n",
    "data['age'] = data['age'].astype(str).str.strip()\n",
    "print(data.dtypes)"
   ]
  },
  {
   "cell_type": "code",
   "execution_count": null,
   "id": "f90743a0",
   "metadata": {},
   "outputs": [],
   "source": [
    "data = data.sort_values(by=['annotations_orig_full', 'age', 'tendon_status'])\n",
    "\n",
    "aggregated_data = data.groupby(['annotations_orig_full', 'age', 'tendon_status']).mean()\n",
    "aggregated_data"
   ]
  },
  {
   "cell_type": "code",
   "execution_count": null,
   "id": "d00f082c",
   "metadata": {},
   "outputs": [],
   "source": [
    "ms_columns = ['ABI3BP GAS2 Fibroblasts_ms', 'COL3A1 PI16 Fibroblasts_ms', \n",
    "              'COL6A6 FNDC1 Fibroblasts_ms', 'FGF14 THBS4 Fibroblasts_ms', \n",
    "              'NEGR1 SCN7A Fibroblasts_ms']\n",
    "\n",
    "# Create a dictionary to specify aggregation functions for each column\n",
    "agg_funcs = {col: ['mean', 'max', 'min', 'count'] for col in ms_columns}\n",
    "\n",
    "# Group by annotations, age, and tendon status, then aggregate\n",
    "aggregated_data = data.groupby(['annotations_orig_full', 'age', 'tendon_status']).agg(agg_funcs)\n",
    "aggregated_data"
   ]
  },
  {
   "cell_type": "code",
   "execution_count": null,
   "id": "935f79c1",
   "metadata": {},
   "outputs": [],
   "source": [
    "aggregated_data.loc['Adult_Quad_Osteoblasts']"
   ]
  },
  {
   "cell_type": "code",
   "execution_count": null,
   "id": "cadbd857",
   "metadata": {},
   "outputs": [],
   "source": [
    "aggregated_data.loc['Adult_Quad_Dividing fibroblasts / mural cells']"
   ]
  },
  {
   "cell_type": "code",
   "execution_count": null,
   "id": "30e59a1f",
   "metadata": {},
   "outputs": [],
   "source": [
    "aggregated_data.to_csv(os.path.join(RESULTS_FOLDERNAME, 'ct_data_summaryofmsscores.csv'))"
   ]
  },
  {
   "cell_type": "code",
   "execution_count": null,
   "id": "e8501648",
   "metadata": {},
   "outputs": [],
   "source": [
    "sc.pl.umap(adata, color='annotations_orig_full')"
   ]
  },
  {
   "cell_type": "code",
   "execution_count": null,
   "id": "697a5c87",
   "metadata": {},
   "outputs": [],
   "source": [
    "sc.pl.umap(adata, color=['C_scANVI'], legend_loc='on data',\n",
    "          legend_fontsize=5, frameon=False)"
   ]
  },
  {
   "cell_type": "code",
   "execution_count": null,
   "id": "412f06a9",
   "metadata": {},
   "outputs": [],
   "source": [
    "adata"
   ]
  },
  {
   "cell_type": "code",
   "execution_count": null,
   "id": "257ce9c5",
   "metadata": {},
   "outputs": [],
   "source": [
    "data = pd.read_csv(os.path.join(RESULTS_FOLDERNAME, \"Barcodes_and_celltypes_for_Alina.csv\"), index_col='barcodes')\n",
    "data"
   ]
  },
  {
   "cell_type": "code",
   "execution_count": null,
   "id": "8c329d65",
   "metadata": {},
   "outputs": [],
   "source": [
    "data['cluster_id'] = 'Adult_Quad' +'_'+ data['cluster_id'].astype(str)\n",
    "data"
   ]
  },
  {
   "cell_type": "code",
   "execution_count": null,
   "id": "aa36a38b",
   "metadata": {},
   "outputs": [],
   "source": [
    "adata.obs['annotations_upd'] = adata.obs['annotations_orig_full'].copy()\n",
    "\n",
    "barcode_to_cluster_id = data['cluster_id'].to_dict()\n",
    "\n",
    "def update_annotation(barcode):\n",
    "    if barcode in barcode_to_cluster_id:\n",
    "        return barcode_to_cluster_id[barcode]\n",
    "    else:\n",
    "        return adata.obs.loc[barcode, 'annotations_upd']\n",
    "\n",
    "# Apply the function to the annotations column\n",
    "adata.obs['annotations_upd'] = adata.obs.index.map(update_annotation)\n",
    "\n",
    "adata.obs['annotations_upd'].value_counts()"
   ]
  },
  {
   "cell_type": "code",
   "execution_count": null,
   "id": "33c5e1ff",
   "metadata": {},
   "outputs": [],
   "source": [
    "sc.pl.umap(adata, color=['annotations_upd'], legend_loc='right margin',\n",
    "          legend_fontsize=4, frameon=False)"
   ]
  },
  {
   "cell_type": "code",
   "execution_count": null,
   "id": "6bc166d0",
   "metadata": {},
   "outputs": [],
   "source": [
    "plt.figure(figsize=(30, 35))\n",
    "sc.tl.dendrogram(adata, 'annotations_upd', use_rep='X_scANVI')\n",
    "ax_list = sc.pl.correlation_matrix(adata, 'annotations_upd', cmap='PuOr_r', show=False)\n",
    "for ax in ax_list:\n",
    "    ax.grid(False)\n",
    "plt.savefig(os.path.join(FIGURES_FOLDERNAME,'annotation_upd_correlation.svg'), bbox_inches='tight')\n",
    "plt.show()"
   ]
  },
  {
   "cell_type": "code",
   "execution_count": null,
   "id": "f77bb3a3",
   "metadata": {},
   "outputs": [],
   "source": [
    "adata.obs['annotations_lineages'] = adata.obs.annotations_orig_full.copy()\n",
    "\n",
    "lineages = {\n",
    "    \"MSC Precursors\": \"Mesenchymal: stem\",\n",
    "    \"COL6A6 FSTL1 DCLK1 Progenitors\": \"Mesenchymal: tenogenic\",\n",
    "    \"SOX5 CREB5 Chondrocyte Progenitors\": \"Mesenchymal: chondrogenic/tenogenic\",\n",
    "    \"Embryonic Chondrocytes\": \"Mesenchymal: chondrogenic\",\n",
    "    \"RUNX2 THBS2 COL11A1 Progenitors\": \"Mesenchymal: chondrogenic/tenogenic\",\n",
    "    \"SCX FGF14 THBS4 FSTL5 Progenitors\": \"Mesenchymal: tenogenic\",\n",
    "    \"MKX TNMD ABI3BP GAS2 Progenitors\": \"Mesenchymal: tenogenic\",\n",
    "    \"ABI3BP GAS2 Fibroblasts\": \"Mesenchymal: tenogenic\",\n",
    "    \"COL6A6 FNDC1 Fibroblasts\": \"Mesenchymal: tenogenic\",\n",
    "    \"COL3A1 PI16 Fibroblasts\": \"Mesenchymal: tenogenic\",\n",
    "    \"vasEndothelial Cells\": \"Endothelial\",\n",
    "    \"NEGR1 SCN7A Fibroblasts\": \"Mesenchymal: myogenic/tenogenic\",\n",
    "    \"Smooth Myocytes\": \"Mesenchymal: myogenic\",\n",
    "    \"Chondrocytes\": \"Mesenchymal: chondrogenic\",\n",
    "    \"Immune Cells\": \"Immune Cells: myeloid\",\n",
    "    \"FGF14 THBS4 Fibroblasts\": \"Mesenchymal: tenogenic\",\n",
    "    \"Satellite Cells\": \"Mesenchymal: myogenic\",\n",
    "    \"Skeletal Myocytes\": \"Mesenchymal: myogenic\",\n",
    "    \"Nervous System Cells\": \"Neural\",\n",
    "    \"lymEndothelial Cells\": \"Endothelial\",\n",
    "    \"Adult_Ach_Adipocytes\": \"Mesenchymal: adipogenic\",\n",
    "    \"Adult_Ach_Mural cells\": \"Mesenchymal: mural\",\n",
    "    \"Adult_Ach_ITGA10hi Fibroblasts\": \"Mesenchymal: tenogenic\",\n",
    "    \"Adult_Ach_Vascular endothelial cells\": \"Endothelial\",\n",
    "    \"Adult_Ach_NEGR1hi Fibroblasts\": \"Mesenchymal: tenogenic\",\n",
    "    \"Adult_Ach_Macrophages\": \"Immune Cells: myeloid\",\n",
    "    \"Adult_Ach_T cells\": \"Immune Cells: lymphoid\",\n",
    "    \"Adult_Ach_Lymphatic endothelial cells\": \"Endothelial\",\n",
    "    \"Adult_Ach_Slow-twitch skeletal muscle cells\": \"Mesenchymal: myogenic\",\n",
    "    \"Adult_Ach_Nervous system cells\": \"Neural\",\n",
    "    \"Adult_Ach_Fast-twitch skeletal muscle cells\": \"Mesenchymal: myogenic\",\n",
    "    \"Adult_Ach_Granulocytes\": \"Immune Cells: myeloid\",\n",
    "    \"Adult_Ach_Satellite cells\": \"Mesenchymal: myogenic\",\n",
    "    \"Adult_Ach_Transitional skeletal muscle cells\": \"Mesenchymal: myogenic\",\n",
    "    \"Adult_Ach_B cells\": \"Immune Cells: lymphoid\",\n",
    "    \"Adult_Quad_Dividing macrophages\": \"Immune Cells: myeloid\",\n",
    "    \"Adult_Quad_Macrophages\": \"Immune Cells: myeloid\",\n",
    "    \"Adult_Quad_Vascular endothelial cells\": \"Endothelial\",\n",
    "    \"Adult_Quad_Fibroblasts\": \"Mesenchymal: tenogenic\",\n",
    "    \"Adult_Quad_Osteoclasts\": \"Mesenchymal: osteogenic\",\n",
    "    \"Adult_Quad_Mural cells\": \"Mesenchymal: mural\",\n",
    "    \"Adult_Quad_Dendritic cells\": \"Immune Cells: myeloid\",\n",
    "    \"Adult_Quad_Osteoblasts\": \"Mesenchymal: osteogenic\",\n",
    "    \"Adult_Quad_Lymphatic endothelial cells\": \"Endothelial\",\n",
    "    \"Adult_Quad_Dividing fibroblasts / mural cells\": \"Mesenchymal: tenogenic/mural\",\n",
    "    \"Adult_Quad_T cells\": \"Immune Cells: lymphoid\",\n",
    "    \"Adult_Quad_Adipocytes\": \"Mesenchymal: adipogenic\",\n",
    "    \"Adult_Quad_Granulocytes\": \"Immune Cells: myeloid\",\n",
    "    \"Adult_Quad_Nervous system cells\": \"Neural\"\n",
    "}\n",
    "\n",
    "adata.obs['annotations_lineages'] = adata.obs['annotations_lineages'].map(lineages)\n",
    "adata.obs['annotations_lineages'].value_counts()"
   ]
  },
  {
   "cell_type": "code",
   "execution_count": null,
   "id": "577b6467",
   "metadata": {},
   "outputs": [],
   "source": [
    "sc.pl.umap(adata, color='annotations_lineages', frameon=False, palette=color_map, s=2,\n",
    "          #legend_loc='on data', legend_fontsize=5\n",
    "           save='_lineage_annotations.svg'\n",
    "          )"
   ]
  },
  {
   "cell_type": "code",
   "execution_count": null,
   "id": "8531efbe",
   "metadata": {},
   "outputs": [],
   "source": [
    "colors = ['#98df8a', '#ff7f00', '#b15928', '#33a02c', '#e31a1c', '#1f78b4', '#a6cee3', \n",
    "          '#fdbf6f', '#b2df8a', '#fb9a99', '#00aebc',\n",
    " '#6a3d9a', \n",
    " '#fffb00',\n",
    " '#c5b0d5']\n",
    "color_map = {lineage: color for lineage, color in zip(percentages.columns, colors[:len(percentages.columns)])}\n",
    "color_map"
   ]
  },
  {
   "cell_type": "code",
   "execution_count": null,
   "id": "b5f8de52",
   "metadata": {},
   "outputs": [],
   "source": [
    "df = adata.obs[['annotations_lineages', 'grouptype']]\n",
    "grouptype_order = [\n",
    "    'Embryonic_Quad_Healthy', 'Foetal_Quad_Healthy', 'Foetal_Ach_Healthy',\n",
    "    'Adult_Ach_Healthy', 'Adult_Quad_Healthy', 'Adult_Quad_Rupture'\n",
    "]\n",
    "df['grouptype'] = pd.Categorical(df['grouptype'], categories=grouptype_order, ordered=True)\n",
    "counts = df.groupby(['grouptype', 'annotations_lineages']).size().unstack(fill_value=0)\n",
    "percentages = counts.div(counts.sum(axis=1), axis=0) * 100\n",
    "\n",
    "#lineage_colors = adata.uns['annotations_lineages_colors']\n",
    "#color_map = {lineage: color for lineage, color in zip(percentages.columns, lineage_colors)}\n",
    "percentages = percentages.loc[grouptype_order]\n",
    "\n",
    "ax = percentages.plot(kind='bar', stacked=True, figsize=(3, 4), color=[color_map[col] for col in percentages.columns])\n",
    "\n",
    "plt.ylabel('Protportion of total (%)')\n",
    "plt.legend(bbox_to_anchor=(1.05, 1), loc='upper left')\n",
    "plt.grid(False)\n",
    "plt.tight_layout()\n",
    "plt.savefig(os.path.join(FIGURES_FOLDERNAME, 'bar_lineages.svg'), bbox_inches='tight')\n",
    "plt.show()"
   ]
  },
  {
   "cell_type": "code",
   "execution_count": null,
   "id": "c663b3f1",
   "metadata": {},
   "outputs": [],
   "source": [
    "plt.figure(figsize=(30, 35))\n",
    "sc.tl.dendrogram(adata, 'annotations_lineages', use_rep='X_scANVI', use_raw=False)\n",
    "ax_list = sc.pl.correlation_matrix(adata, 'annotations_lineages', cmap='PuOr_r', show=False)\n",
    "for ax in ax_list:\n",
    "    ax.grid(False)\n",
    "plt.savefig(os.path.join(FIGURES_FOLDERNAME,'annotation_lineages_correlation.svg'), bbox_inches='tight')\n",
    "plt.show()"
   ]
  },
  {
   "cell_type": "markdown",
   "id": "8acd90ff",
   "metadata": {},
   "source": [
    "# CellHint Label Harmonisation"
   ]
  },
  {
   "cell_type": "code",
   "execution_count": null,
   "id": "d47ad000",
   "metadata": {},
   "outputs": [],
   "source": [
    "import cellhint"
   ]
  },
  {
   "cell_type": "code",
   "execution_count": null,
   "id": "9cd2822a",
   "metadata": {},
   "outputs": [],
   "source": [
    "adata.obs['grouptype'] = adata.obs['grouptype'].astype(str) + '_' + adata.obs['tendon_status'].astype(str)\n",
    "adata.obs['grouptype'] = adata.obs['grouptype'].astype(\"category\")"
   ]
  },
  {
   "cell_type": "code",
   "execution_count": null,
   "id": "17a235b8",
   "metadata": {},
   "outputs": [],
   "source": [
    "sc.pl.umap(adata, color='grouptype')"
   ]
  },
  {
   "cell_type": "code",
   "execution_count": null,
   "id": "24e2590e",
   "metadata": {},
   "outputs": [],
   "source": [
    "adata.X.max()"
   ]
  },
  {
   "cell_type": "code",
   "execution_count": null,
   "id": "04fe9ab8",
   "metadata": {},
   "outputs": [],
   "source": [
    "plt.figure(figsize=(30, 35))\n",
    "sc.tl.dendrogram(adata, 'grouptype', use_rep='X_scANVI', use_raw=False)\n",
    "ax_list = sc.pl.correlation_matrix(adata, 'grouptype', cmap='PuOr_r', show=False)\n",
    "for ax in ax_list:\n",
    "    ax.grid(False)\n",
    "plt.savefig(os.path.join(FIGURES_FOLDERNAME,'grouptype_correlation.svg'), bbox_inches='tight')\n",
    "plt.show()"
   ]
  },
  {
   "cell_type": "code",
   "execution_count": null,
   "id": "9e0a943a",
   "metadata": {},
   "outputs": [],
   "source": [
    "adata.obs['annotations_upd2'] = adata.obs['annotations_upd'].str.replace(r'^Adult_Quad_|^Adult_Ach_', '', regex=True)\n",
    "adata.obs['annotations_upd2'].value_counts()"
   ]
  },
  {
   "cell_type": "code",
   "execution_count": null,
   "id": "89984f7c",
   "metadata": {},
   "outputs": [],
   "source": [
    "alignment = cellhint.harmonize(adata, 'grouptype', 'annotations_upd2', \n",
    "                               use_rep='X_scVI', metric='euclidean',\n",
    "                               random_state=100,\n",
    "                               dataset_order = ['Embryonic_Quad_Healthy', 'Foetal_Quad_Healthy', 'Foetal_Ach_Healthy', \n",
    "                                                'Adult_Ach_Healthy', 'Adult_Quad_Healthy', 'Adult_Quad_Rupture'])"
   ]
  },
  {
   "cell_type": "code",
   "execution_count": null,
   "id": "4aa644c2",
   "metadata": {},
   "outputs": [],
   "source": [
    "alignment"
   ]
  },
  {
   "cell_type": "code",
   "execution_count": null,
   "id": "4149c381",
   "metadata": {},
   "outputs": [],
   "source": [
    "alignment.relation.head(10)"
   ]
  },
  {
   "cell_type": "code",
   "execution_count": null,
   "id": "49ef4bdf",
   "metadata": {},
   "outputs": [],
   "source": [
    "alignment.groups"
   ]
  },
  {
   "cell_type": "code",
   "execution_count": null,
   "id": "97efead4",
   "metadata": {},
   "outputs": [],
   "source": [
    "adata.obs[['low_hierarchy', 'high_hierarchy']] = alignment.reannotation.loc[adata.obs_names, ['reannotation', 'group']]\n",
    "adata.obs[['low_hierarchy', 'high_hierarchy']]"
   ]
  },
  {
   "cell_type": "code",
   "execution_count": null,
   "id": "f0840962",
   "metadata": {},
   "outputs": [],
   "source": [
    "sc.pl.umap(adata, color=['high_hierarchy', 'annotations_upd2', 'leiden_fibros'], frameon=False,\n",
    "          legend_loc='on data', legend_fontsize=6)"
   ]
  },
  {
   "cell_type": "code",
   "execution_count": null,
   "id": "be6dd45d",
   "metadata": {},
   "outputs": [],
   "source": [
    "alignment.relation[alignment.groups == 'Group1']"
   ]
  },
  {
   "cell_type": "code",
   "execution_count": null,
   "id": "ae51c4e1",
   "metadata": {},
   "outputs": [],
   "source": [
    "member_mat = alignment.base_distance.to_meta(turn_binary = True)\n",
    "member_mat.iloc[:5, :5]"
   ]
  },
  {
   "cell_type": "code",
   "execution_count": null,
   "id": "6d9eae5a",
   "metadata": {},
   "outputs": [],
   "source": [
    "plot = sns.clustermap(member_mat, figsize=(20, 20))\n",
    "plot.ax_heatmap.grid(False)\n",
    "savesvg('cellhint_cellassignmentclustermap.svg', plot)"
   ]
  },
  {
   "cell_type": "code",
   "execution_count": null,
   "id": "ae5c5055",
   "metadata": {},
   "outputs": [],
   "source": [
    "flag = member_mat.index.str.contains(r'Fibroblasts|fibroblasts|Progenitors|Chondrocytes|chondrocytes')\n",
    "plot = sns.clustermap(member_mat.loc[flag,flag], figsize=(12, 12),\n",
    "                      linewidths=0.5, linecolor='gray', \n",
    "                      #cbar=True, annot=False,\n",
    "                      #cmap='Reds', \n",
    "                      cbar_kws={'label': 'Similarity', 'shrink': 0.9, 'use_gridspec': False, 'location': \"left\"})\n",
    "plot.ax_heatmap.grid(False)\n",
    "plot.cax.set_position([0.05, 0.88, .02, 0.12]) # [left, bottom, width, height]\n",
    "plot.cax.yaxis.set_ticks_position('right')\n",
    "plot.cax.grid(False)  \n",
    "savesvg('cellhint_cellassignmentclustermap_fibros.svg', plot)"
   ]
  },
  {
   "cell_type": "code",
   "execution_count": null,
   "id": "c442f774",
   "metadata": {},
   "outputs": [],
   "source": [
    "flag = member_mat.index.str.contains(r'Ach.*(Fibroblasts|fibroblasts|Progenitors)')\n",
    "plot = sns.clustermap(member_mat.loc[flag,flag], figsize=(8, 8),\n",
    "                      #linewidths=0.5, #linecolor='black', \n",
    "                      #cbar=True, annot=False,\n",
    "                      #cmap='Reds', \n",
    "                      cbar_kws={'label': 'Similarity', 'shrink': 0.9, 'use_gridspec': False, 'location': \"left\"})\n",
    "plot.ax_heatmap.grid(False)\n",
    "plot.cax.set_position([0.05, 0.88, .02, 0.12]) # [left, bottom, width, height]\n",
    "plot.cax.yaxis.set_ticks_position('right')\n",
    "plot.cax.grid(False)  \n",
    "savesvg('cellhint_cellassignmentclustermap_fibrosach.svg', plot)"
   ]
  },
  {
   "cell_type": "code",
   "execution_count": null,
   "id": "9df51e62",
   "metadata": {},
   "outputs": [],
   "source": [
    "flag = member_mat.index.str.contains(r'Quad.*(Fibroblasts|fibroblasts|Progenitors)')\n",
    "plot = sns.clustermap(member_mat.loc[flag,flag], figsize=(12, 12),\n",
    "                      #linewidths=0.5, #linecolor='black', \n",
    "                      #cbar=True, annot=False,\n",
    "                      #cmap='Reds', \n",
    "                      cbar_kws={'label': 'Similarity', 'shrink': 0.9, 'use_gridspec': False, 'location': \"left\"})\n",
    "plot.ax_heatmap.grid(False)\n",
    "plot.cax.set_position([0.05, 0.88, .02, 0.12]) # [left, bottom, width, height]\n",
    "plot.cax.yaxis.set_ticks_position('right')\n",
    "plot.cax.grid(False)  \n",
    "savesvg('cellhint_cellassignmentclustermap_fibrosquad.svg', plot)"
   ]
  },
  {
   "cell_type": "code",
   "execution_count": null,
   "id": "df69a489",
   "metadata": {},
   "outputs": [],
   "source": [
    "alignment.write(os.path.join(RESULTS_FOLDERNAME, 'cellhint_alignment_rs100_scVI.pkl'))"
   ]
  },
  {
   "cell_type": "code",
   "execution_count": null,
   "id": "ed7b639c",
   "metadata": {},
   "outputs": [],
   "source": [
    "alignment.relation.to_csv(os.path.join(RESULTS_FOLDERNAME, 'cellhint_alignment_relations_scVI.csv'), sep = ',', index = False)"
   ]
  },
  {
   "cell_type": "code",
   "execution_count": null,
   "id": "04a6a248",
   "metadata": {},
   "outputs": [],
   "source": [
    "adata.obs.high_hierarchy.cat.categories"
   ]
  },
  {
   "cell_type": "code",
   "execution_count": null,
   "id": "f859cc84",
   "metadata": {
    "scrolled": true
   },
   "outputs": [],
   "source": [
    "for group in adata.obs.high_hierarchy.cat.categories:\n",
    "    ct = np.unique(adata.obs.low_hierarchy[adata.obs.high_hierarchy == group])\n",
    "    sc.pl.umap(adata, color = 'low_hierarchy', groups = list(ct), size = 5, frameon=False,\n",
    "              save=f'{group}_low_hierarchy_scVI.svg')"
   ]
  },
  {
   "cell_type": "code",
   "execution_count": null,
   "id": "b74f4be4",
   "metadata": {},
   "outputs": [],
   "source": [
    "adata.uns['low_hierarchy_colors']"
   ]
  },
  {
   "cell_type": "code",
   "execution_count": null,
   "id": "44631ba1",
   "metadata": {},
   "outputs": [],
   "source": [
    "len(adata.obs['low_hierarchy'].cat.categories)"
   ]
  },
  {
   "cell_type": "code",
   "execution_count": null,
   "id": "3f73e02e",
   "metadata": {},
   "outputs": [],
   "source": [
    "len(adata.uns['low_hierarchy_colors'])"
   ]
  },
  {
   "cell_type": "code",
   "execution_count": null,
   "id": "59e3ef1f",
   "metadata": {},
   "outputs": [],
   "source": [
    "sc.pl.umap(adata, color='low_hierarchy')"
   ]
  },
  {
   "cell_type": "code",
   "execution_count": null,
   "id": "c808b339",
   "metadata": {},
   "outputs": [],
   "source": [
    "# Assuming you truncate or verify the necessary number of colors\n",
    "necessary_colors = adata.uns['low_hierarchy_colors'][:len(adata.obs['low_hierarchy'].cat.categories)]\n",
    "\n",
    "# Map the categorical codes to the appropriate colors\n",
    "category_codes = adata.obs['low_hierarchy'].cat.codes\n",
    "cell_type_colors = [necessary_colors[code] for code in category_codes]\n",
    "\n",
    "# Create the DataFrame\n",
    "df_final = pd.DataFrame({\n",
    "    'dataset': alignment.reannotation['dataset'],\n",
    "    'cell_type': alignment.reannotation['cell_type'],\n",
    "    'color': cell_type_colors\n",
    "})\n",
    "df_final"
   ]
  },
  {
   "cell_type": "code",
   "execution_count": null,
   "id": "327f8e71",
   "metadata": {},
   "outputs": [],
   "source": [
    "unique_df_final = df_final.drop_duplicates(subset=['dataset', 'cell_type'])\n",
    "unique_df_final"
   ]
  },
  {
   "cell_type": "code",
   "execution_count": null,
   "id": "faa44a1c",
   "metadata": {},
   "outputs": [],
   "source": [
    "len(unique_df_final['color'].unique())"
   ]
  },
  {
   "cell_type": "code",
   "execution_count": null,
   "id": "65ab67c4",
   "metadata": {},
   "outputs": [],
   "source": [
    "cellhint.treeplot(alignment, node_color=unique_df_final, node_size=10,\n",
    "                  #save=os.path.join(FIGURES_FOLDERNAME, 'cellhint_treeplot_scVI.svg')\n",
    "                 )"
   ]
  },
  {
   "cell_type": "code",
   "execution_count": null,
   "id": "54b865c2",
   "metadata": {},
   "outputs": [],
   "source": [
    "for group in adata.obs.high_hierarchy.cat.categories:\n",
    "    cellhint.treeplot(alignment.relation[alignment.groups == group],\n",
    "                      node_size=10, save=os.path.join(FIGURES_FOLDERNAME, f'{group}_treeplot.svg'))"
   ]
  },
  {
   "cell_type": "code",
   "execution_count": null,
   "id": "3696a7fa",
   "metadata": {},
   "outputs": [],
   "source": [
    "adata.write(os.path.join(RESULTS_FOLDERNAME, 'adultdev_cellhint.h5ad'))"
   ]
  },
  {
   "cell_type": "markdown",
   "id": "036de785",
   "metadata": {},
   "source": [
    "# MAKING PLOTS"
   ]
  },
  {
   "cell_type": "code",
   "execution_count": null,
   "id": "a92805ec",
   "metadata": {},
   "outputs": [],
   "source": [
    "adata = sc.read_h5ad(os.path.join(RESULTS_FOLDERNAME, 'adultdev_cellhint.h5ad'))\n",
    "adata"
   ]
  },
  {
   "cell_type": "code",
   "execution_count": null,
   "id": "a9d458fa",
   "metadata": {},
   "outputs": [],
   "source": [
    "cell_type_names = adata.obs['annotations_upd2'].cat.categories\n",
    "color_array = adata.uns['annotations_upd2_colors']\n",
    "color_dict = dict(zip(cell_type_names, color_array))"
   ]
  },
  {
   "cell_type": "code",
   "execution_count": null,
   "id": "47e73cf6",
   "metadata": {},
   "outputs": [],
   "source": [
    "color_dict['grey'] = 'lightgray'"
   ]
  },
  {
   "cell_type": "code",
   "execution_count": null,
   "id": "e70360ba",
   "metadata": {},
   "outputs": [],
   "source": [
    "def plot_umap_with_background(adata, group, color_dict):\n",
    "    # Create a copy of the adata object to avoid altering original data\n",
    "    adata_temp = adata.copy()\n",
    "    \n",
    "    # Set all cells to grey\n",
    "    adata_temp.obs['highlight'] = 'grey' \n",
    "    \n",
    "    # Update the color for cells in the specified group\n",
    "    adata_temp.obs.loc[adata_temp.obs['grouptype'] == group, 'highlight'] = adata_temp.obs['annotations_upd2']\n",
    "\n",
    "    # Overlay the cells of the specified group in their specific color\n",
    "    sc.pl.umap(adata_temp, color='highlight', \n",
    "               groups=adata_temp.obs['annotations_upd2'][adata_temp.obs['grouptype'] == group].unique(),\n",
    "               legend_loc='on data', legend_fontsize=6,\n",
    "               size=5, frameon=False, title=f'{group}', \n",
    "               save=f'{group}_celltypes_correct_withbackground_leg.svg', \n",
    "               palette=color_dict\n",
    "               #list(adata.uns['annotations_upd2_colors'])\n",
    "              )\n",
    "    \n",
    "    del adata_temp"
   ]
  },
  {
   "cell_type": "code",
   "execution_count": null,
   "id": "8c133310",
   "metadata": {
    "scrolled": false
   },
   "outputs": [],
   "source": [
    "for group in adata.obs['grouptype'].cat.categories:\n",
    "    plot_umap_with_background(adata, group, color_dict)"
   ]
  },
  {
   "cell_type": "code",
   "execution_count": null,
   "id": "9507e89d",
   "metadata": {
    "scrolled": false
   },
   "outputs": [],
   "source": [
    "for group in adata.obs.grouptype.cat.categories:\n",
    "    sc.pl.umap(adata[adata.obs.grouptype == group], color = 'annotations_upd2', \n",
    "               size = 5, frameon=False,\n",
    "               title=f'{group}',\n",
    "               save=f'{group}_celltypes_correct.svg')"
   ]
  },
  {
   "cell_type": "code",
   "execution_count": null,
   "id": "e12e3375",
   "metadata": {},
   "outputs": [],
   "source": [
    "df = adata.obs[['annotations_upd2', 'grouptype']]\n",
    "grouptype_order = [\n",
    "    'Embryonic_Quad_Healthy', 'Foetal_Quad_Healthy', 'Foetal_Ach_Healthy',\n",
    "    'Adult_Ach_Healthy', 'Adult_Quad_Healthy', 'Adult_Quad_Rupture'\n",
    "]\n",
    "df['grouptype'] = pd.Categorical(df['grouptype'], categories=grouptype_order, ordered=True)\n",
    "counts = df.groupby(['grouptype', 'annotations_upd2']).size().unstack(fill_value=0)\n",
    "percentages = counts.div(counts.sum(axis=1), axis=0) * 100\n",
    "percentages"
   ]
  },
  {
   "cell_type": "code",
   "execution_count": null,
   "id": "906983a3",
   "metadata": {},
   "outputs": [],
   "source": [
    "counts"
   ]
  },
  {
   "cell_type": "code",
   "execution_count": null,
   "id": "50187f31",
   "metadata": {},
   "outputs": [],
   "source": [
    "#lineage_colors = adata.uns['annotations_upd2_colors']\n",
    "#color_map = {lineage: color for lineage, color in zip(percentages.columns, lineage_colors)}\n",
    "percentages = percentages.loc[grouptype_order]\n",
    "\n",
    "ax = percentages.plot(kind='bar', stacked=True, figsize=(5, 6), \n",
    "                      color=[color_dict[col] for col in percentages.columns]\n",
    "                     )\n",
    "\n",
    "plt.ylabel('Proportion of total (%)')\n",
    "plt.legend(bbox_to_anchor=(1.05, 1), loc='upper left')\n",
    "plt.grid(False)\n",
    "plt.tight_layout()\n",
    "ax.spines['top'].set_visible(False)  # Remove top border\n",
    "ax.spines['right'].set_visible(False)  # Remove right border\n",
    "#ax.spines['bottom'].set_visible(False)  # Remove bottom border\n",
    "#ax.spines['left'].set_visible(False)  # Remove left border\n",
    "plt.savefig(os.path.join(FIGURES_FOLDERNAME, 'bar_annotation_proportions.svg'), bbox_inches='tight')\n",
    "plt.show()"
   ]
  },
  {
   "cell_type": "code",
   "execution_count": null,
   "id": "dd897186",
   "metadata": {},
   "outputs": [],
   "source": [
    "percentages2"
   ]
  },
  {
   "cell_type": "code",
   "execution_count": null,
   "id": "81a3aa7b",
   "metadata": {},
   "outputs": [],
   "source": [
    "percentages2 = percentages.tail(2)\n",
    "#percentages2 = percentages2.loc[:, (percentages2 != 0).all(axis=0)]\n",
    "ax = percentages2.plot(kind='bar', stacked=True, figsize=(3, 6), \n",
    "                      color=[color_dict[col] for col in percentages2.columns]\n",
    "                     )\n",
    "\n",
    "plt.ylabel('Proportion of total (%)')\n",
    "plt.legend(bbox_to_anchor=(1.05, 1), loc='upper left')\n",
    "plt.grid(False)\n",
    "plt.tight_layout()\n",
    "ax.spines['top'].set_visible(False)  # Remove top border\n",
    "ax.spines['right'].set_visible(False)  # Remove right border\n",
    "#ax.spines['bottom'].set_visible(False)  # Remove bottom border\n",
    "#ax.spines['left'].set_visible(False)  # Remove left border\n",
    "plt.savefig(os.path.join(FIGURES_FOLDERNAME, 'bar_annotation_proportions_quads.svg'), bbox_inches='tight')\n",
    "plt.show()"
   ]
  },
  {
   "cell_type": "code",
   "execution_count": null,
   "id": "ee8d13da",
   "metadata": {},
   "outputs": [],
   "source": [
    "percentages2 = percentages.head(1)\n",
    "#percentages2 = percentages2.loc[:, (percentages2 != 0.0).all(axis=0)]\n",
    "ax = percentages2.plot(kind='bar', stacked=True, figsize=(2, 6), \n",
    "                      color=[color_dict[col] for col in percentages2.columns]\n",
    "                     )\n",
    "\n",
    "plt.ylabel('Proportion of total (%)')\n",
    "plt.legend(bbox_to_anchor=(1.05, 1), loc='upper left')\n",
    "plt.grid(False)\n",
    "plt.tight_layout()\n",
    "ax.spines['top'].set_visible(False)  # Remove top border\n",
    "ax.spines['right'].set_visible(False)  # Remove right border\n",
    "#ax.spines['bottom'].set_visible(False)  # Remove bottom border\n",
    "#ax.spines['left'].set_visible(False)  # Remove left border\n",
    "plt.savefig(os.path.join(FIGURES_FOLDERNAME, 'bar_annotation_proportions_embryonic.svg'), bbox_inches='tight')\n",
    "plt.show()"
   ]
  },
  {
   "cell_type": "code",
   "execution_count": null,
   "id": "19ff934d",
   "metadata": {},
   "outputs": [],
   "source": [
    "percentages2 = percentages.iloc[1:3]\n",
    "#percentages2 = percentages2.loc[:, (percentages2 != 0.0).all(axis=0)]\n",
    "ax = percentages2.plot(kind='bar', stacked=True, figsize=(3, 6), \n",
    "                      color=[color_dict[col] for col in percentages2.columns]\n",
    "                     )\n",
    "\n",
    "plt.ylabel('Proportion of total (%)')\n",
    "plt.legend(bbox_to_anchor=(1.05, 1), loc='upper left')\n",
    "plt.grid(False)\n",
    "plt.tight_layout()\n",
    "ax.spines['top'].set_visible(False)  # Remove top border\n",
    "ax.spines['right'].set_visible(False)  # Remove right border\n",
    "#ax.spines['bottom'].set_visible(False)  # Remove bottom border\n",
    "#ax.spines['left'].set_visible(False)  # Remove left border\n",
    "plt.savefig(os.path.join(FIGURES_FOLDERNAME, 'bar_annotation_proportions_foetal.svg'), bbox_inches='tight')\n",
    "plt.show()"
   ]
  },
  {
   "cell_type": "code",
   "execution_count": null,
   "id": "06a5f726",
   "metadata": {},
   "outputs": [],
   "source": [
    "percentages2 = percentages.iloc[3:4]\n",
    "#percentages2 = percentages2.loc[:, (percentages2 != 0.0).all(axis=0)]\n",
    "ax = percentages2.plot(kind='bar', stacked=True, figsize=(2, 6), \n",
    "                      color=[color_dict[col] for col in percentages2.columns]\n",
    "                     )\n",
    "\n",
    "plt.ylabel('Proportion of total (%)')\n",
    "plt.legend(bbox_to_anchor=(1.05, 1), loc='upper left')\n",
    "plt.grid(False)\n",
    "plt.tight_layout()\n",
    "ax.spines['top'].set_visible(False)  # Remove top border\n",
    "ax.spines['right'].set_visible(False)  # Remove right border\n",
    "#ax.spines['bottom'].set_visible(False)  # Remove bottom border\n",
    "#ax.spines['left'].set_visible(False)  # Remove left border\n",
    "plt.savefig(os.path.join(FIGURES_FOLDERNAME, 'bar_annotation_proportions_ach.svg'), bbox_inches='tight')\n",
    "plt.show()"
   ]
  },
  {
   "cell_type": "code",
   "execution_count": null,
   "id": "f6fa36d4",
   "metadata": {},
   "outputs": [],
   "source": [
    "adata.X.max()"
   ]
  },
  {
   "cell_type": "code",
   "execution_count": null,
   "id": "1c59547e",
   "metadata": {
    "scrolled": false
   },
   "outputs": [],
   "source": [
    "adata.uns['log1p']['base'] = None\n",
    "sc.tl.rank_genes_groups(adata, groupby='annotations_upd2', method='wilcoxon', key_added='wilcoxon_upd2', \n",
    "                        use_raw=False, layer='log1p_norm')\n",
    "sc.pl.rank_genes_groups(adata, n_genes=25, sharey=False, key='wilcoxon_upd2',\n",
    "                       save='wilcoxon_ranked_annotations_upd2.svg')"
   ]
  }
 ],
 "metadata": {
  "kernelspec": {
   "display_name": "Python [conda env:scvi-env]",
   "language": "python",
   "name": "conda-env-scvi-env-py"
  },
  "language_info": {
   "codemirror_mode": {
    "name": "ipython",
    "version": 3
   },
   "file_extension": ".py",
   "mimetype": "text/x-python",
   "name": "python",
   "nbconvert_exporter": "python",
   "pygments_lexer": "ipython3",
   "version": "3.9.16"
  }
 },
 "nbformat": 4,
 "nbformat_minor": 5
}
