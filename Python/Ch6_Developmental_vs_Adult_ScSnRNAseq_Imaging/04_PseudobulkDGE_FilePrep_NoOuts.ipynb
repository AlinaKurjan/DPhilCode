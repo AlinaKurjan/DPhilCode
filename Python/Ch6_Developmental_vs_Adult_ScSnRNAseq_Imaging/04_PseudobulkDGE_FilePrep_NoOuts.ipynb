{
 "cells": [
  {
   "cell_type": "code",
   "execution_count": null,
   "id": "c88c1d82",
   "metadata": {},
   "outputs": [],
   "source": [
    "# Import dependencies\n",
    "%matplotlib inline\n",
    "import os\n",
    "import scanpy as sc\n",
    "import seaborn as sns\n",
    "import matplotlib\n",
    "import matplotlib.pyplot as plt\n",
    "import pandas as pd\n",
    "import anndata as ad\n",
    "import numpy as np\n",
    "\n",
    "#from pydeseq2.dds import DeseqDataSet\n",
    "#from pydeseq2.ds import DeseqStats\n",
    "\n",
    "matplotlib.rcParams['font.family'] = 'sans-serif'\n",
    "\n",
    "# Initialize random seed\n",
    "import random\n",
    "random.seed(111)\n",
    "\n",
    "# Print date and time:\n",
    "import datetime\n",
    "e = datetime.datetime.now()\n",
    "print (\"Current date and time = %s\" % e)\n",
    "\n",
    "# set a working directory\n",
    "wdir = \"/mnt/da8aa2c4-0136-465b-87a2-d12a59afec55/akurjan/analysis/notebooks\"\n",
    "os.chdir( wdir )\n",
    "\n",
    "# folder structures\n",
    "RESULTS_FOLDERNAME = \"adult/PseudobulkDGE/results/\"\n",
    "FIGURES_FOLDERNAME = \"adult/PseudobulkDGE/figures\"\n",
    "\n",
    "if not os.path.exists(RESULTS_FOLDERNAME):\n",
    "    os.makedirs(RESULTS_FOLDERNAME)\n",
    "if not os.path.exists(FIGURES_FOLDERNAME):\n",
    "    os.makedirs(FIGURES_FOLDERNAME)\n",
    "\n",
    "# Set folder for saving figures into\n",
    "sc.settings.figdir = FIGURES_FOLDERNAME\n",
    "\n",
    "def savesvg(fname: str, fig, folder: str=FIGURES_FOLDERNAME) -> None:\n",
    "    \"\"\"\n",
    "    Save figure as vector-based SVG image format.\n",
    "    \"\"\"\n",
    "    fig.savefig(os.path.join(folder, fname), format='svg')\n",
    "\n",
    "# Set other settings\n",
    "sc.settings.verbosity = 3 # verbosity: errors (0), warnings (1), info (2), hints (3)\n",
    "sc.logging.print_versions()\n",
    "sc.set_figure_params(dpi=150, fontsize=10, dpi_save=600)"
   ]
  },
  {
   "cell_type": "code",
   "execution_count": null,
   "id": "86d2eb4c",
   "metadata": {},
   "outputs": [],
   "source": [
    "adata = sc.read_h5ad('adult/annotation/results/adultdev_cellhint.h5ad')\n",
    "adata"
   ]
  },
  {
   "cell_type": "code",
   "execution_count": null,
   "id": "fc4f6853",
   "metadata": {},
   "outputs": [],
   "source": [
    "adata.X.max()"
   ]
  },
  {
   "cell_type": "code",
   "execution_count": null,
   "id": "9b464f34",
   "metadata": {},
   "outputs": [],
   "source": [
    "adata.X = adata.layers['counts'].copy()\n",
    "adata.X.max()"
   ]
  },
  {
   "cell_type": "code",
   "execution_count": null,
   "id": "171b74ec",
   "metadata": {},
   "outputs": [],
   "source": [
    "keep = [\n",
    "    'COL6A6 FSTL1 DCLK1 Progenitors',\n",
    "    'Embryonic Chondrocytes',\n",
    "    'MKX TNMD ABI3BP GAS2 Progenitors',\n",
    "    'MSC Precursors',\n",
    "    'RUNX2 THBS2 COL11A1 Progenitors',\n",
    "    'SCX FGF14 THBS4 FSTL5 Progenitors',\n",
    "    'SOX5 CREB5 Chondrocyte Progenitors',\n",
    "     'ABI3BP GAS2 Fibroblasts',\n",
    "     'COL3A1 PI16 Fibroblasts',\n",
    "     'COL6A6 FNDC1 Fibroblasts',\n",
    "     'Chondrocytes',\n",
    "     'FGF14 THBS4 Fibroblasts',\n",
    "     'NEGR1 SCN7A Fibroblasts',\n",
    "     'COL3A1hi fibroblasts',\n",
    "     'ABCA10hi fibroblasts',\n",
    "     'FBLNhi fibroblasts',\n",
    "     'NR4A1hi fibroblasts'\n",
    "]\n",
    "\n",
    "adata = adata[adata.obs.annotations_upd2.isin(keep)]\n",
    "adata"
   ]
  },
  {
   "cell_type": "code",
   "execution_count": null,
   "id": "0982cdf2",
   "metadata": {},
   "outputs": [],
   "source": [
    "sc.pp.filter_cells(adata, min_genes=300)\n",
    "sc.pp.filter_genes(adata, min_cells=5)\n",
    "adata"
   ]
  },
  {
   "cell_type": "code",
   "execution_count": null,
   "id": "c1259ff6",
   "metadata": {},
   "outputs": [],
   "source": [
    "adata.var[\"mt\"] = adata.var_names.str.startswith(\"MT-\")\n",
    "adata.var[\"ribo\"] = adata.var_names.str.startswith((\"RPS\", \"RPL\"))\n",
    "adata.var[\"hb\"] = adata.var_names.str.contains((\"^HB[^(P)]\"))\n",
    "        \n",
    "sc.pp.calculate_qc_metrics(adata, qc_vars=[\"mt\", \"ribo\", \"hb\"], inplace=True, percent_top=[20], log1p=True)"
   ]
  },
  {
   "cell_type": "code",
   "execution_count": null,
   "id": "a99d85d0",
   "metadata": {},
   "outputs": [],
   "source": [
    "adata.obs['sampletype'].value_counts()"
   ]
  },
  {
   "cell_type": "code",
   "execution_count": null,
   "id": "87e4c279",
   "metadata": {},
   "outputs": [],
   "source": [
    "def is_outlier(adata, metric: str, nmads: int):\n",
    "    M = adata.obs[metric]\n",
    "    outlier = (M < np.median(M) - nmads * M.mad()) | (\n",
    "        np.median(M) + nmads * M.mad() < M\n",
    "    )\n",
    "    return outlier\n",
    "\n",
    "adata.obs[\"outlier\"] = (\n",
    "    is_outlier(adata, \"log1p_total_counts\", 5)\n",
    "    | is_outlier(adata, \"log1p_n_genes_by_counts\", 5)\n",
    "    | is_outlier(adata, \"pct_counts_in_top_20_genes\", 5)\n",
    ")\n",
    "adata.obs.outlier.value_counts()"
   ]
  },
  {
   "cell_type": "code",
   "execution_count": null,
   "id": "ba8ad743",
   "metadata": {},
   "outputs": [],
   "source": [
    "adata.obs[\"mt_outlier\"] = is_outlier(adata, \"pct_counts_mt\", 3) | (\n",
    "    adata.obs[\"pct_counts_mt\"] > 8\n",
    ")\n",
    "adata.obs.mt_outlier.value_counts()"
   ]
  },
  {
   "cell_type": "code",
   "execution_count": null,
   "id": "9970cc20",
   "metadata": {},
   "outputs": [],
   "source": [
    "print(f\"Total number of cells: {adata.n_obs}\")\n",
    "adata = adata[(~adata.obs.outlier) & (~adata.obs.mt_outlier)].copy()\n",
    "\n",
    "print(f\"Number of cells after filtering of low quality cells: {adata.n_obs}\")"
   ]
  },
  {
   "cell_type": "code",
   "execution_count": null,
   "id": "2b95f5e4",
   "metadata": {},
   "outputs": [],
   "source": [
    "sc.pp.normalize_total(adata, target_sum=None, inplace=True)\n",
    "print(adata.X[0:10,0:10])\n",
    "sc.pp.log1p(adata)\n",
    "print(adata.X[0:10,0:10])\n",
    "adata.layers[\"log1p_norm\"] = adata.X.copy()"
   ]
  },
  {
   "cell_type": "code",
   "execution_count": null,
   "id": "86cdaa7c",
   "metadata": {},
   "outputs": [],
   "source": [
    "adata.raw = adata"
   ]
  },
  {
   "cell_type": "code",
   "execution_count": null,
   "id": "b94fd07b",
   "metadata": {},
   "outputs": [],
   "source": [
    "#adata.X = adata.layers[\"log1p_norm\"].copy()\n",
    "#sc.pp.highly_variable_genes(adata, flavor='seurat', batch_key='sampletype')\n",
    "#sc.pp.scale(adata)\n",
    "#sc.pp.pca(adata)\n",
    "#sc.pp.neighbors(adata, n_neighbors=15)\n",
    "sc.tl.umap(adata)\n",
    "sc.pl.umap(adata, color=['annotations_upd2'])\n",
    "sc.pl.umap(adata, color=['sampletype'])"
   ]
  },
  {
   "cell_type": "code",
   "execution_count": null,
   "id": "32698248",
   "metadata": {},
   "outputs": [],
   "source": [
    "matrisome = pd.read_csv(os.path.join('resources/matrisome_hs_masterlist.csv'))\n",
    "matrisome = matrisome[matrisome['Division'] != \"Retired\"]\n",
    "matrisome = matrisome[matrisome['Category'] != \"Secreted Factors\"]\n",
    "matrisome"
   ]
  },
  {
   "cell_type": "code",
   "execution_count": null,
   "id": "938480ba",
   "metadata": {},
   "outputs": [],
   "source": [
    "geneset = set(adata.var_names) #all genes list\n",
    "categories = [\"ECM Regulators\", \"ECM Glycoproteins\", \"ECM-affiliated Proteins\", \"Collagens\", \"Proteoglycans\"]\n",
    "ecmgenes_dict={}\n",
    "for ecmtype in categories:\n",
    "    selection = matrisome[matrisome['Category'] == ecmtype]\n",
    "    selection_genes = set(selection['Gene Symbol'].values)\n",
    "    genes = list(selection_genes.intersection(geneset))\n",
    "    ecmgenes_dict[ecmtype] = genes"
   ]
  },
  {
   "cell_type": "code",
   "execution_count": null,
   "id": "3516570a",
   "metadata": {},
   "outputs": [],
   "source": [
    "for category in ecmgenes_dict.keys():\n",
    "    print(f'{category}: {len(ecmgenes_dict[category])} genes')"
   ]
  },
  {
   "cell_type": "code",
   "execution_count": null,
   "id": "3b959c05",
   "metadata": {},
   "outputs": [],
   "source": [
    "adata.X = adata.layers['log1p_norm'].copy()\n",
    "print(adata.layers['log1p_norm'].max())\n",
    "print(adata.X.max())"
   ]
  },
  {
   "cell_type": "code",
   "execution_count": null,
   "id": "5e215295",
   "metadata": {},
   "outputs": [],
   "source": [
    "cell_type = 'annotations_upd2'"
   ]
  },
  {
   "cell_type": "code",
   "execution_count": null,
   "id": "cd92d406",
   "metadata": {},
   "outputs": [],
   "source": [
    "sc.tl.dendrogram(adata, 'annotations_upd2', use_rep='X_pca')"
   ]
  },
  {
   "cell_type": "code",
   "execution_count": null,
   "id": "ebe728d3",
   "metadata": {},
   "outputs": [],
   "source": [
    "vmin=0\n",
    "for category, genes in ecmgenes_dict.items():\n",
    "    gene_count = len(genes)  # This needs to be inside the loop\n",
    "    vmin = 0\n",
    "\n",
    "    if gene_count >= 150:\n",
    "        # Calculate the split points for three equal parts\n",
    "        split1 = gene_count // 3\n",
    "        split2 = 2 * gene_count // 3\n",
    "\n",
    "        # Plotting three segments of the gene list\n",
    "        sc.pl.matrixplot(adata, genes[:split1], groupby=cell_type, dendrogram=True, use_raw=True,\n",
    "                         vmin=vmin, colorbar_title='mean normalised\\nexpression', title=f'{category}', cmap='Reds', \n",
    "                         swap_axes=True, save=f'{category}_1_mean.tiff')\n",
    "        sc.pl.matrixplot(adata, genes[split1:split2], groupby=cell_type, dendrogram=True, use_raw=True,\n",
    "                         vmin=vmin, colorbar_title='mean normalised\\nexpression', title=f'{category}', cmap='Reds', \n",
    "                         swap_axes=True, save=f'{category}_2_mean.tiff')\n",
    "        sc.pl.matrixplot(adata, genes[split2:], groupby=cell_type, dendrogram=True, use_raw=True,\n",
    "                         vmin=vmin, colorbar_title='mean normalised\\nexpression', title=f'{category}', cmap='Reds', \n",
    "                         swap_axes=True, save=f'{category}_3_mean.tiff')\n",
    "    elif 110 < gene_count < 150:\n",
    "        # Plotting two segments of the gene list\n",
    "        sc.pl.matrixplot(adata, genes[:gene_count // 2], groupby=cell_type, dendrogram=True, use_raw=True,\n",
    "                         vmin=vmin, colorbar_title='mean normalised\\nexpression', title=f'{category}', cmap='Reds', swap_axes=True,\n",
    "                         save=f'{category}_1_mean.tiff')\n",
    "        sc.pl.matrixplot(adata, genes[gene_count // 2:], groupby=cell_type, dendrogram=True, use_raw=True,\n",
    "                         vmin=vmin, colorbar_title='mean normalised\\nexpression', title=f'{category}', cmap='Reds', swap_axes=True,\n",
    "                         save=f'{category}_2_mean.tiff')\n",
    "    else:  # This will handle gene_count <= 110\n",
    "        # Plotting all genes in one plot\n",
    "        sc.pl.matrixplot(adata, genes, groupby=cell_type, dendrogram=True, use_raw=True,\n",
    "                         vmin=vmin, colorbar_title='mean normalised\\nexpression', title=f'{category}', cmap='Reds', swap_axes=True,\n",
    "                         save=f'{category}_mean.tiff')\n"
   ]
  },
  {
   "cell_type": "code",
   "execution_count": null,
   "id": "700692c2",
   "metadata": {
    "scrolled": false
   },
   "outputs": [],
   "source": [
    "vmin=0\n",
    "for category, genes in ecmgenes_dict.items():\n",
    "    gene_count = len(genes)  # This needs to be inside the loop\n",
    "    vmin = 0\n",
    "\n",
    "    if gene_count >= 150:\n",
    "        # Calculate the split points for three equal parts\n",
    "        split1 = gene_count // 3\n",
    "        split2 = 2 * gene_count // 3\n",
    "\n",
    "        # Plotting three segments of the gene list\n",
    "        sc.pl.dotplot(adata, genes[:split1], groupby=cell_type, dendrogram=True, use_raw=True,\n",
    "                         vmin=vmin, colorbar_title='mean normalised\\nexpression', title=f'{category}', cmap='Reds', \n",
    "                         swap_axes=True, save=f'{category}_1_mean.tiff')\n",
    "        sc.pl.dotplot(adata, genes[split1:split2], groupby=cell_type, dendrogram=True, use_raw=True,\n",
    "                         vmin=vmin, colorbar_title='mean normalised\\nexpression', title=f'{category}', cmap='Reds', \n",
    "                         swap_axes=True, save=f'{category}_2_mean.tiff')\n",
    "        sc.pl.dotplot(adata, genes[split2:], groupby=cell_type, dendrogram=True, use_raw=True,\n",
    "                         vmin=vmin, colorbar_title='mean normalised\\nexpression', title=f'{category}', cmap='Reds', \n",
    "                         swap_axes=True, save=f'{category}_3_mean.tiff')\n",
    "    elif 110 < gene_count < 150:\n",
    "        # Plotting two segments of the gene list\n",
    "        sc.pl.dotplot(adata, genes[:gene_count // 2], groupby=cell_type, dendrogram=True, use_raw=True,\n",
    "                         vmin=vmin, colorbar_title='mean normalised\\nexpression', title=f'{category}', cmap='Reds', swap_axes=True,\n",
    "                         save=f'{category}_1_mean.tiff')\n",
    "        sc.pl.dotplot(adata, genes[gene_count // 2:], groupby=cell_type, dendrogram=True, use_raw=True,\n",
    "                         vmin=vmin, colorbar_title='mean normalised\\nexpression', title=f'{category}', cmap='Reds', swap_axes=True,\n",
    "                         save=f'{category}_2_mean.tiff')\n",
    "    else:  # This will handle gene_count <= 110\n",
    "        # Plotting all genes in one plot\n",
    "        sc.pl.dotplot(adata, genes, groupby=cell_type, dendrogram=True, use_raw=True,\n",
    "                         vmin=vmin, colorbar_title='mean normalised\\nexpression', title=f'{category}', cmap='Reds', swap_axes=True,\n",
    "                         save=f'{category}_mean.tiff')\n"
   ]
  },
  {
   "cell_type": "code",
   "execution_count": null,
   "id": "6cbf9f21",
   "metadata": {},
   "outputs": [],
   "source": [
    "sc.tl.rank_genes_groups(adata, groupby=cell_type, method=\"wilcoxon\")\n",
    "sc.pl.rank_genes_groups_dotplot(adata, n_genes=5)"
   ]
  },
  {
   "cell_type": "code",
   "execution_count": null,
   "id": "3bb9234b",
   "metadata": {},
   "outputs": [],
   "source": [
    "sc.pl.rank_genes_groups_dotplot(\n",
    "    adata,\n",
    "    n_genes=5,\n",
    "    values_to_plot=\"logfoldchanges\",\n",
    "    min_logfoldchange=2,\n",
    "    vmax=7,\n",
    "    vmin=-7,\n",
    "    cmap=\"bwr\",\n",
    ")"
   ]
  },
  {
   "cell_type": "code",
   "execution_count": null,
   "id": "b1d54e4a",
   "metadata": {},
   "outputs": [],
   "source": []
  },
  {
   "cell_type": "markdown",
   "id": "f8a97743",
   "metadata": {},
   "source": [
    "# File preparation for DESeq2 pseudobulk DGE analysis"
   ]
  },
  {
   "cell_type": "code",
   "execution_count": null,
   "id": "0935c0de",
   "metadata": {},
   "outputs": [],
   "source": [
    "adata.obs.groupby(['sampletype', 'annotations_upd2']).size()"
   ]
  },
  {
   "cell_type": "code",
   "execution_count": null,
   "id": "f3d904b9",
   "metadata": {},
   "outputs": [],
   "source": [
    "adata.obs[\"annotations_upd2\"] = [ct.replace(\" \", \"_\") for ct in adata.obs[\"annotations_upd2\"]]\n",
    "adata.obs[\"annotations_upd2\"] = [ct.replace(\"+\", \"\") for ct in adata.obs[\"annotations_upd2\"]]\n",
    "adata.obs[\"annotations_upd2\"].value_counts()"
   ]
  },
  {
   "cell_type": "code",
   "execution_count": null,
   "id": "77cee493",
   "metadata": {},
   "outputs": [],
   "source": [
    "adata.obs[\"bulksample\"] = [\n",
    "    f\"{rep}_{l}\" for rep, l in zip(adata.obs[\"sampletype\"], adata.obs[\"annotations_upd2\"])\n",
    "]\n",
    "adata.obs[\"bulksample\"].value_counts()"
   ]
  },
  {
   "cell_type": "code",
   "execution_count": null,
   "id": "937ab2ea",
   "metadata": {},
   "outputs": [],
   "source": [
    "adata.obs.columns"
   ]
  },
  {
   "cell_type": "code",
   "execution_count": null,
   "id": "ff43e18e",
   "metadata": {},
   "outputs": [],
   "source": [
    "adata.obs[\"bulksample\"] = adata.obs[\"bulksample\"].astype(\"category\")\n",
    "adata.obs[\"annotations_upd2\"] = adata.obs[\"annotations_upd2\"].astype(\"category\")\n",
    "adata.obs[\"sampletype\"] = adata.obs[\"sampletype\"].astype(\"category\")\n",
    "adata.obs[\"grouptype\"] = adata.obs[\"grouptype\"].astype(\"category\")\n",
    "adata.obs[\"megagrouptype\"] = adata.obs[\"megagrouptype\"].astype(\"category\")\n",
    "adata.obs[\"tendon_status\"] = adata.obs[\"tendon_status\"].astype(\"category\")\n",
    "adata.obs[\"microanat\"] = adata.obs[\"microanat\"].astype(\"category\")\n",
    "adata.obs[\"type\"] = adata.obs[\"type\"].astype(\"category\")\n",
    "adata.obs[\"age\"] = adata.obs[\"age\"].astype(\"category\")\n",
    "adata.obs[\"phase\"] = adata.obs[\"phase\"].astype(\"category\")\n",
    "adata.obs[\"libbatch\"] = adata.obs[\"libbatch\"].astype(\"category\")"
   ]
  },
  {
   "cell_type": "markdown",
   "id": "958f0b76",
   "metadata": {},
   "source": [
    "# Pseudobulking\n",
    "\n",
    "subset by cell type\n",
    "then subset by sample\n",
    "add age condition\n",
    "add replicate number column"
   ]
  },
  {
   "cell_type": "code",
   "execution_count": null,
   "id": "82f79674",
   "metadata": {},
   "outputs": [],
   "source": [
    "# subset by cell type\n",
    "#cell_subset = {}\n",
    "#for cell_type in adata.obs['C_scANVI'].unique():\n",
    "#    cell_subset[cell_type] = adata[adata.obs['C_scANVI'] == cell_type]\n",
    "    \n",
    "#cell_subset"
   ]
  },
  {
   "cell_type": "code",
   "execution_count": null,
   "id": "3097af6e",
   "metadata": {},
   "outputs": [],
   "source": [
    "len(adata.obs['bulksample'].unique())"
   ]
  },
  {
   "cell_type": "code",
   "execution_count": null,
   "id": "42426a77",
   "metadata": {},
   "outputs": [],
   "source": [
    "NUM_OF_CELL_PER_DONOR = 30 # to filter out donors with less than this amount of cells\n",
    "\n",
    "def aggregate_and_filter(\n",
    "    adata,\n",
    "    donor_key=\"bulksample\",\n",
    "    cell_identity_key=\"annotations_upd2\",\n",
    "    replicates_per_patient=3,\n",
    "):\n",
    "    pbs_cell_type_dict = {}\n",
    "    for i, cell_type in enumerate(adata.obs[cell_identity_key].cat.categories):\n",
    "        print(\n",
    "            f'Processing {cell_type} ({i+1} out of {len(adata.obs[cell_identity_key].cat.categories)})...'\n",
    "        )\n",
    "        # subset adata to the given cell identity\n",
    "        adata_cell_pop = adata[adata.obs[cell_identity_key] == cell_type].copy()\n",
    "        # check which donors to keep according to the number of cells specified with NUM_OF_CELL_PER_DONOR\n",
    "        size_by_donor = adata_cell_pop.obs.groupby([donor_key]).size()\n",
    "        donors_to_drop = [\n",
    "            donor \n",
    "            for donor in size_by_donor.index\n",
    "            if size_by_donor[donor] <= NUM_OF_CELL_PER_DONOR\n",
    "        ]\n",
    "        if len(donors_to_drop) > 0:\n",
    "            print(\"Dropping the following samples:\")\n",
    "            print(donors_to_drop)\n",
    "\n",
    "        pbs = []\n",
    "        \n",
    "        for i, sample in enumerate(adata_cell_pop.obs[donor_key].unique()):\n",
    "            print(f\"\\tProcessing donor {i+1} out of {len(adata_cell_pop.obs[donor_key].unique())}...\", end=\"\\r\")\n",
    "            if sample not in donors_to_drop:\n",
    "                samp_cell_subset = adata_cell_pop[adata_cell_pop.obs[donor_key] == sample]\n",
    "                samp_cell_subset.X = samp_cell_subset.layers['counts'] #make sure to use raw data\n",
    "\n",
    "                # create pseudoreplicates\n",
    "                indices = list(samp_cell_subset.obs_names)\n",
    "                random.shuffle(indices)\n",
    "                indices = np.array_split(np.array(indices), replicates_per_patient)\n",
    "\n",
    "                for k, pseudo_rep in enumerate(indices):\n",
    "\n",
    "                    rep_adata = sc.AnnData(X = samp_cell_subset.X.sum(axis = 0),\n",
    "                                           var = samp_cell_subset.var[[]])\n",
    "                    \n",
    "                    rep_adata.obs['replicate'] = k\n",
    "                    rep_adata.obs_names = [sample + '_' + str(k)]\n",
    "                    rep_adata.obs[donor_key] = samp_cell_subset.obs[donor_key].iloc[0]\n",
    "                    rep_adata.obs['libbatch'] = samp_cell_subset.obs['libbatch'].iloc[0]\n",
    "                    rep_adata.obs[cell_identity_key] = samp_cell_subset.obs[cell_identity_key].iloc[0]\n",
    "                    rep_adata.obs[\"sampletype\"] = samp_cell_subset.obs[\"sampletype\"].iloc[0]\n",
    "                    rep_adata.obs[\"grouptype\"] = samp_cell_subset.obs[\"grouptype\"].iloc[0]\n",
    "                    rep_adata.obs[\"megagrouptype\"] = samp_cell_subset.obs[\"megagrouptype\"].iloc[0]\n",
    "                    rep_adata.obs[\"tendon_status\"] = samp_cell_subset.obs[\"tendon_status\"].iloc[0]\n",
    "                    rep_adata.obs[\"microanat\"] = samp_cell_subset.obs[\"microanat\"].iloc[0]\n",
    "                    rep_adata.obs[\"type\"] = samp_cell_subset.obs[\"type\"].iloc[0]\n",
    "                    rep_adata.obs[\"age\"] = samp_cell_subset.obs[\"age\"].iloc[0]\n",
    "                    rep_adata.obs[\"phase\"] = samp_cell_subset.obs[\"phase\"].iloc[0]\n",
    "                    rep_adata.obs[\"libbatch\"] = samp_cell_subset.obs[\"libbatch\"].iloc[0]\n",
    "                    \n",
    "                    pbs.append(rep_adata)\n",
    "        print(\"\\n\")   \n",
    "        pbs_cell_type_dict[cell_type] = sc.concat(pbs)\n",
    "    \n",
    "    return pbs_cell_type_dict"
   ]
  },
  {
   "cell_type": "code",
   "execution_count": null,
   "id": "38084197",
   "metadata": {},
   "outputs": [],
   "source": [
    "pb = aggregate_and_filter(adata)"
   ]
  },
  {
   "cell_type": "code",
   "execution_count": null,
   "id": "01690d49",
   "metadata": {},
   "outputs": [],
   "source": [
    "pb"
   ]
  },
  {
   "cell_type": "code",
   "execution_count": null,
   "id": "b3654bcc",
   "metadata": {},
   "outputs": [],
   "source": [
    "pb['SCX_FGF14_THBS4_FSTL5_Progenitors'].X"
   ]
  },
  {
   "cell_type": "code",
   "execution_count": null,
   "id": "6958009a",
   "metadata": {},
   "outputs": [],
   "source": [
    "for celltype in pb.keys():\n",
    "    counts = pd.DataFrame(pb[celltype].X, columns = pb[celltype].var_names, index=pb[celltype].obs_names)\n",
    "    counts.T.to_csv(os.path.join(RESULTS_FOLDERNAME, f'counts_matrix_{celltype}.csv'))\n",
    "    metadata = pd.DataFrame(pb[celltype].obs, index=pb[celltype].obs_names)\n",
    "    metadata.to_csv(os.path.join(RESULTS_FOLDERNAME, f'metadata_{celltype}.csv'))"
   ]
  },
  {
   "cell_type": "code",
   "execution_count": null,
   "id": "add20736",
   "metadata": {},
   "outputs": [],
   "source": [
    "adata_list = list(pb.values())\n",
    "concatenated_adata = ad.concat(adata_list, index_unique=None, join='outer')\n",
    "concatenated_adata"
   ]
  },
  {
   "cell_type": "code",
   "execution_count": null,
   "id": "4f3173fd",
   "metadata": {},
   "outputs": [],
   "source": [
    "concatenated_adata.obs"
   ]
  },
  {
   "cell_type": "code",
   "execution_count": null,
   "id": "e5426d3f",
   "metadata": {},
   "outputs": [],
   "source": [
    "counts = pd.DataFrame(concatenated_adata.X, columns = concatenated_adata.var_names, index=concatenated_adata.obs_names)\n",
    "counts.T.to_csv(os.path.join(RESULTS_FOLDERNAME, f'counts_matrix_full.csv'))\n",
    "metadata = pd.DataFrame(concatenated_adata.obs, index=concatenated_adata.obs_names)\n",
    "metadata.to_csv(os.path.join(RESULTS_FOLDERNAME, f'metadata_full.csv'))"
   ]
  },
  {
   "cell_type": "code",
   "execution_count": null,
   "id": "fdd49ca8",
   "metadata": {},
   "outputs": [],
   "source": [
    "counts"
   ]
  },
  {
   "cell_type": "code",
   "execution_count": null,
   "id": "a4551258",
   "metadata": {
    "scrolled": false
   },
   "outputs": [],
   "source": [
    "concatenated_adata.layers['counts'] = concatenated_adata.X.copy()\n",
    "concatenated_adata.obs[\"lib_size\"] = np.sum(concatenated_adata.layers[\"counts\"], axis=1)\n",
    "concatenated_adata.obs[\"log_lib_size\"] = np.log(concatenated_adata.obs[\"lib_size\"])\n",
    "\n",
    "sc.pp.normalize_total(concatenated_adata, target_sum=None)\n",
    "sc.pp.log1p(concatenated_adata)\n",
    "sc.pp.scale(concatenated_adata)\n",
    "sc.pp.pca(concatenated_adata)\n",
    "sc.pl.pca(concatenated_adata, color=concatenated_adata.obs, ncols=1, size=300,\n",
    "         save='PCA_plots.svg')"
   ]
  },
  {
   "cell_type": "code",
   "execution_count": null,
   "id": "de82b3c0",
   "metadata": {},
   "outputs": [],
   "source": [
    "sc.pl.pca_loadings(adata)"
   ]
  },
  {
   "cell_type": "code",
   "execution_count": null,
   "id": "91fac576",
   "metadata": {},
   "outputs": [],
   "source": [
    "concatenated_adata.write(os.path.join(RESULTS_FOLDERNAME, 'concatenated_pseudobulk.h5ad'))"
   ]
  },
  {
   "cell_type": "markdown",
   "id": "1dfb513a",
   "metadata": {},
   "source": [
    "# Plotting of DESeq2 normalised counts"
   ]
  },
  {
   "cell_type": "code",
   "execution_count": null,
   "id": "25556ba9",
   "metadata": {},
   "outputs": [],
   "source": [
    "norm_counts_deseq = pd.read_csv('../rnotebooks/DevAdultCombined_PseudobulkDGE/normalised_counts_full.txt', sep='\\t', index_col=0)\n",
    "metadata_deseq = pd.read_csv(os.path.join(RESULTS_FOLDERNAME, 'metadata_full.csv'), index_col=0)"
   ]
  },
  {
   "cell_type": "code",
   "execution_count": null,
   "id": "dde31d88",
   "metadata": {},
   "outputs": [],
   "source": [
    "counts_df = norm_counts_deseq.T\n",
    "metadata_df = metadata_deseq\n",
    "metadata_df = metadata_df.loc[counts_df.index]\n",
    "\n",
    "adata = sc.AnnData(X=counts_df.values, obs=metadata_df)\n",
    "adata.var_names = counts_df.columns\n",
    "adata.obs_names = counts_df.index"
   ]
  },
  {
   "cell_type": "code",
   "execution_count": null,
   "id": "a9ef86f2",
   "metadata": {},
   "outputs": [],
   "source": [
    "adata"
   ]
  },
  {
   "cell_type": "code",
   "execution_count": null,
   "id": "a53003ec",
   "metadata": {},
   "outputs": [],
   "source": [
    "sc.pp.scale(adata, max_value=10)\n",
    "sc.pp.pca(adata)"
   ]
  },
  {
   "cell_type": "code",
   "execution_count": null,
   "id": "26bd7c50",
   "metadata": {},
   "outputs": [],
   "source": [
    "adata.obs['annotations_upd2'] = adata.obs['annotations_upd2'].astype('category')"
   ]
  },
  {
   "cell_type": "code",
   "execution_count": null,
   "id": "3104115d",
   "metadata": {},
   "outputs": [],
   "source": [
    "sc.tl.dendrogram(adata, 'annotations_upd2')"
   ]
  },
  {
   "cell_type": "code",
   "execution_count": null,
   "id": "94229757",
   "metadata": {
    "scrolled": false
   },
   "outputs": [],
   "source": [
    "for category, genes in ecmgenes_dict.items():\n",
    "    gene_count = len(genes) \n",
    "    vmin = 0\n",
    "\n",
    "    if gene_count >= 150:\n",
    "        # Calculate the split points for three equal parts\n",
    "        split1 = gene_count // 3\n",
    "        split2 = 2 * gene_count // 3\n",
    "\n",
    "        # Plotting three segments of the gene list\n",
    "        sc.pl.dotplot(adata, genes[:split1], groupby=cell_type, dendrogram=True, use_raw=True,\n",
    "                         vmin=vmin, colorbar_title='mean normalised\\nexpression', title=f'{category}', cmap='Reds', \n",
    "                         swap_axes=True, save=f'{category}_1_mean_deseqnorm.tiff')\n",
    "        sc.pl.dotplot(adata, genes[split1:split2], groupby=cell_type, dendrogram=True, use_raw=True,\n",
    "                         vmin=vmin, colorbar_title='mean normalised\\nexpression', title=f'{category}', cmap='Reds', \n",
    "                         swap_axes=True, save=f'{category}_2_mean_deseqnorm.tiff')\n",
    "        sc.pl.dotplot(adata, genes[split2:], groupby=cell_type, dendrogram=True, use_raw=True,\n",
    "                         vmin=vmin, colorbar_title='mean normalised\\nexpression', title=f'{category}', cmap='Reds', \n",
    "                         swap_axes=True, save=f'{category}_3_mean_deseqnorm.tiff')\n",
    "    elif 110 < gene_count < 150:\n",
    "        # Plotting two segments of the gene list\n",
    "        sc.pl.dotplot(adata, genes[:gene_count // 2], groupby=cell_type, dendrogram=True, use_raw=True,\n",
    "                         vmin=vmin, colorbar_title='mean normalised\\nexpression', title=f'{category}', cmap='Reds', swap_axes=True,\n",
    "                         save=f'{category}_1_mean_deseqnorm.tiff')\n",
    "        sc.pl.dotplot(adata, genes[gene_count // 2:], groupby=cell_type, dendrogram=True, use_raw=True,\n",
    "                         vmin=vmin, colorbar_title='mean normalised\\nexpression', title=f'{category}', cmap='Reds', swap_axes=True,\n",
    "                         save=f'{category}_2_mean_deseqnorm.tiff')\n",
    "    else:  # This will handle gene_count <= 110\n",
    "        # Plotting all genes in one plot\n",
    "        sc.pl.dotplot(adata, genes, groupby=cell_type, dendrogram=True, use_raw=True,\n",
    "                         vmin=vmin, colorbar_title='mean normalised\\nexpression', title=f'{category}', cmap='Reds', swap_axes=True,\n",
    "                         save=f'{category}_mean_deseqnorm.tiff')\n"
   ]
  },
  {
   "cell_type": "code",
   "execution_count": null,
   "id": "da7263f9",
   "metadata": {
    "scrolled": true
   },
   "outputs": [],
   "source": [
    "vmin=-10\n",
    "vmax=10\n",
    "\n",
    "for i, (category, genes) in enumerate(ecmgenes_dict.items()):\n",
    "    gene_count = len(genes)  # Get the length of the gene list\n",
    "    if gene_count > 150:\n",
    "        \n",
    "        split1 = gene_count // 3\n",
    "        split2 = 2 * gene_count // 3\n",
    "\n",
    "        sc.pl.matrixplot(adata, genes[:split1], groupby=cell_type, dendrogram=True, use_raw=False,\n",
    "                         vmin=vmin, vmax=vmax, colorbar_title='mean z-score', \n",
    "                         title=f'{category}', cmap='RdBu_r', swap_axes=True, save=f'{category}_1_deseqnorm_scaled.tiff')\n",
    "        sc.pl.matrixplot(adata, genes[split1:split2], groupby=cell_type, dendrogram=True, use_raw=False,\n",
    "                         vmin=vmin, vmax=vmax, colorbar_title='mean z-score', \n",
    "                         title=f'{category}', cmap='RdBu_r', swap_axes=True, save=f'{category}_2_deseqnorm_scaled.tiff')\n",
    "        sc.pl.matrixplot(adata, genes[split2:], groupby=cell_type, dendrogram=True, use_raw=False,\n",
    "                         vmin=vmin, vmax=vmax, colorbar_title='mean z-score', \n",
    "                         title=f'{category}', cmap='RdBu_r', swap_axes=True, save=f'{category}_3_deseqnorm_scaled.tiff')\n",
    "    if gene_count > 110:\n",
    "        sc.pl.matrixplot(adata, genes[:gene_count // 2], groupby=cell_type, dendrogram=True, use_raw=False,\n",
    "                         vmin=vmin, vmax=vmax, colorbar_title='mean z-score', \n",
    "                         title=f'{category}', cmap='RdBu_r', swap_axes=True, save=f'{category}_1_deseqnorm_scaled.tiff')\n",
    "        sc.pl.matrixplot(adata, genes[gene_count // 2:], groupby=cell_type, dendrogram=True, use_raw=False,\n",
    "                         vmin=vmin, vmax=vmax, colorbar_title='mean z-score', \n",
    "                         title=f'{category}', cmap='RdBu_r', swap_axes=True, save=f'{category}_2_deseqnorm_scaled.tiff')\n",
    "    else:\n",
    "        sc.pl.matrixplot(adata, ecmgenes_dict[category], groupby=cell_type, dendrogram=True, use_raw=False,\n",
    "                         vmin=vmin, vmax=vmax, colorbar_title='mean z-score', \n",
    "                         title=f'{category}', cmap='RdBu_r', swap_axes=True, save=f'{category}_deseqnorm_scaled.tiff')"
   ]
  },
  {
   "cell_type": "code",
   "execution_count": null,
   "id": "1017f699",
   "metadata": {
    "scrolled": false
   },
   "outputs": [],
   "source": [
    "vmin=-10\n",
    "vmax=10\n",
    "\n",
    "for i, (category, genes) in enumerate(ecmgenes_dict.items()):\n",
    "    gene_count = len(genes)  # Get the length of the gene list\n",
    "    if gene_count > 150:\n",
    "        \n",
    "        split1 = gene_count // 3\n",
    "        split2 = 2 * gene_count // 3\n",
    "\n",
    "        sc.pl.dotplot(adata, genes[:split1], groupby=cell_type, dendrogram=True, use_raw=False,\n",
    "                         vmin=vmin, vmax=vmax, colorbar_title='mean z-score', \n",
    "                         title=f'{category}', cmap='RdBu_r', swap_axes=True, save=f'{category}_1_deseqnorm_scaled.tiff')\n",
    "        sc.pl.dotplot(adata, genes[split1:split2], groupby=cell_type, dendrogram=True, use_raw=False,\n",
    "                         vmin=vmin, vmax=vmax, colorbar_title='mean z-score', \n",
    "                         title=f'{category}', cmap='RdBu_r', swap_axes=True, save=f'{category}_2_deseqnorm_scaled.tiff')\n",
    "        sc.pl.dotplot(adata, genes[split2:], groupby=cell_type, dendrogram=True, use_raw=False,\n",
    "                         vmin=vmin, vmax=vmax, colorbar_title='mean z-score', \n",
    "                         title=f'{category}', cmap='RdBu_r', swap_axes=True, save=f'{category}_3_deseqnorm_scaled.tiff')\n",
    "    if gene_count > 110:\n",
    "        sc.pl.dotplot(adata, genes[:gene_count // 2], groupby=cell_type, dendrogram=True, use_raw=False,\n",
    "                         vmin=vmin, vmax=vmax, colorbar_title='mean z-score', \n",
    "                         title=f'{category}', cmap='RdBu_r', swap_axes=True, save=f'{category}_1_deseqnorm_scaled.tiff')\n",
    "        sc.pl.dotplot(adata, genes[gene_count // 2:], groupby=cell_type, dendrogram=True, use_raw=False,\n",
    "                         vmin=vmin, vmax=vmax, colorbar_title='mean z-score', \n",
    "                         title=f'{category}', cmap='RdBu_r', swap_axes=True, save=f'{category}_2_deseqnorm_scaled.tiff')\n",
    "    else:\n",
    "        sc.pl.dotplot(adata, ecmgenes_dict[category], groupby=cell_type, dendrogram=True, use_raw=False,\n",
    "                         vmin=vmin, vmax=vmax, colorbar_title='mean z-score', \n",
    "                         title=f'{category}', cmap='RdBu_r', swap_axes=True, save=f'{category}_deseqnorm_scaled.tiff')"
   ]
  },
  {
   "cell_type": "code",
   "execution_count": null,
   "id": "9cf811dd",
   "metadata": {},
   "outputs": [],
   "source": [
    "adata = adata[adata.obs['replicate'] == 1].copy()"
   ]
  },
  {
   "cell_type": "code",
   "execution_count": null,
   "id": "b42effdd",
   "metadata": {},
   "outputs": [],
   "source": [
    "sc.pl.clustermap(\n",
    "    adata,\n",
    "    obs_keys='annotations_upd2',\n",
    "    cmap='RdBu_r',\n",
    "    method='average',\n",
    "    metric='euclidean',\n",
    "    figsize=(20, 20)\n",
    ")"
   ]
  },
  {
   "cell_type": "markdown",
   "id": "6801ed5b",
   "metadata": {},
   "source": [
    "# Groups analysis"
   ]
  },
  {
   "cell_type": "code",
   "execution_count": null,
   "id": "4bc93d52",
   "metadata": {},
   "outputs": [],
   "source": [
    "norm_counts_deseq = {}\n",
    "for groupname in os.listdir('../rnotebooks/DevAdultCombined_PseudobulkDGE/'):\n",
    "    if groupname.startswith(\"group\"):\n",
    "        print(groupname)\n",
    "        path = f'../rnotebooks/DevAdultCombined_PseudobulkDGE/{groupname}/normalised_counts.txt'\n",
    "        norm_counts_deseq[groupname] = pd.read_csv(path, sep='\\t', index_col=0)\n",
    "        norm_counts_deseq[groupname]"
   ]
  },
  {
   "cell_type": "code",
   "execution_count": null,
   "id": "233bcc3a",
   "metadata": {},
   "outputs": [],
   "source": [
    "norm_counts_deseq['group4']"
   ]
  },
  {
   "cell_type": "code",
   "execution_count": null,
   "id": "48691cb0",
   "metadata": {},
   "outputs": [],
   "source": [
    "metadata_deseq = {}\n",
    "for groupname in os.listdir('../rnotebooks/DevAdultCombined_PseudobulkDGE/'):\n",
    "    if groupname.startswith(\"group\"):\n",
    "        print(groupname)\n",
    "        path = f'../rnotebooks/DevAdultCombined_PseudobulkDGE/{groupname}/group_metadata.csv'\n",
    "        metadata_deseq[groupname] = pd.read_csv(path, index_col=0)\n",
    "        metadata_deseq[groupname]"
   ]
  },
  {
   "cell_type": "code",
   "execution_count": null,
   "id": "46ec6f44",
   "metadata": {},
   "outputs": [],
   "source": [
    "metadata_deseq['group4']"
   ]
  },
  {
   "cell_type": "code",
   "execution_count": null,
   "id": "1d4deaba",
   "metadata": {},
   "outputs": [],
   "source": [
    "adata_objects = {}\n",
    "for groupname in norm_counts_deseq:\n",
    "    counts_df = norm_counts_deseq[groupname].T\n",
    "    metadata_df = metadata_deseq[groupname]\n",
    "    metadata_df = metadata_df.loc[counts_df.index]\n",
    "    \n",
    "    adata = sc.AnnData(X=counts_df.values, obs=metadata_df)\n",
    "    adata.var_names = counts_df.columns\n",
    "    adata.obs_names = counts_df.index\n",
    "    \n",
    "    adata_objects[groupname] = adata"
   ]
  },
  {
   "cell_type": "code",
   "execution_count": null,
   "id": "0d61b2b8",
   "metadata": {},
   "outputs": [],
   "source": [
    "adata_objects"
   ]
  },
  {
   "cell_type": "code",
   "execution_count": null,
   "id": "0cfa4080",
   "metadata": {},
   "outputs": [],
   "source": [
    "for data in adata_objects.values():\n",
    "    data.raw = data"
   ]
  },
  {
   "cell_type": "code",
   "execution_count": null,
   "id": "97b0742b",
   "metadata": {
    "scrolled": true
   },
   "outputs": [],
   "source": [
    "vmin=0\n",
    "categories = [\"ECM Regulators\", \"ECM Glycoproteins\", \"ECM-affiliated Proteins\", \"Collagens\", \"Proteoglycans\"]\n",
    "\n",
    "for groupchoice, adata in adata_objects.items():\n",
    "    geneset = set(adata.var_names) #all genes list\n",
    "    ecmgenes_dict={}\n",
    "    for ecmtype in categories:\n",
    "        selection = matrisome[matrisome['Category'] == ecmtype]\n",
    "        selection_genes = set(selection['Gene Symbol'].values)\n",
    "        genes = list(selection_genes.intersection(geneset))\n",
    "        ecmgenes_dict[ecmtype] = genes\n",
    "\n",
    "    for category, genes in ecmgenes_dict.items():\n",
    "        gene_count = len(genes)  # This needs to be inside the loop\n",
    "        vmin = 0\n",
    "\n",
    "        if gene_count >= 150:\n",
    "            # Calculate the split points for three equal parts\n",
    "            split1 = gene_count // 3\n",
    "            split2 = 2 * gene_count // 3\n",
    "\n",
    "            # Plotting three segments of the gene list\n",
    "            sc.pl.dotplot(adata, genes[:split1], groupby=cell_type, dendrogram=True, use_raw=True,\n",
    "                             vmin=vmin, colorbar_title='mean normalised\\nexpression', title=f'{category}', cmap='Reds', \n",
    "                             swap_axes=True, save=f'{groupchoice}_{category}_1_mean_deseqnorm.tiff')\n",
    "            sc.pl.dotplot(adata, genes[split1:split2], groupby=cell_type, dendrogram=True, use_raw=True,\n",
    "                             vmin=vmin, colorbar_title='mean normalised\\nexpression', title=f'{category}', cmap='Reds', \n",
    "                             swap_axes=True, save=f'{groupchoice}_{category}_2_mean_deseqnorm.tiff')\n",
    "            sc.pl.dotplot(adata, genes[split2:], groupby=cell_type, dendrogram=True, use_raw=True,\n",
    "                             vmin=vmin, colorbar_title='mean normalised\\nexpression', title=f'{category}', cmap='Reds', \n",
    "                             swap_axes=True, save=f'{groupchoice}_{category}_3_mean_deseqnorm.tiff')\n",
    "        elif 110 < gene_count < 150:\n",
    "            # Plotting two segments of the gene list\n",
    "            sc.pl.dotplot(adata, genes[:gene_count // 2], groupby=cell_type, dendrogram=True, use_raw=True,\n",
    "                             vmin=vmin, colorbar_title='mean normalised\\nexpression', title=f'{category}', cmap='Reds', swap_axes=True,\n",
    "                             save=f'{groupchoice}_{category}_1_mean_deseqnorm.tiff')\n",
    "            sc.pl.dotplot(adata, genes[gene_count // 2:], groupby=cell_type, dendrogram=True, use_raw=True,\n",
    "                             vmin=vmin, colorbar_title='mean normalised\\nexpression', title=f'{category}', cmap='Reds', swap_axes=True,\n",
    "                             save=f'{groupchoice}_{category}_2_mean_deseqnorm.tiff')\n",
    "        else:  # This will handle gene_count <= 110\n",
    "            # Plotting all genes in one plot\n",
    "            sc.pl.dotplot(adata, genes, groupby=cell_type, dendrogram=True, use_raw=True,\n",
    "                             vmin=vmin, colorbar_title='mean normalised\\nexpression', title=f'{category}', cmap='Reds', swap_axes=True,\n",
    "                             save=f'{groupchoice}_{category}_mean_deseqnorm.tiff')\n"
   ]
  },
  {
   "cell_type": "code",
   "execution_count": null,
   "id": "87a8f11e",
   "metadata": {},
   "outputs": [],
   "source": [
    "for data in adata_objects.values():\n",
    "    print(data.X.max())"
   ]
  },
  {
   "cell_type": "code",
   "execution_count": null,
   "id": "86f6f444",
   "metadata": {},
   "outputs": [],
   "source": [
    "for name, data in adata_objects.items():\n",
    "    sc.pp.scale(data)\n",
    "    adata_objects[name] = data\n",
    "\n",
    "for data in adata_objects.values():\n",
    "    print(data.X.max())"
   ]
  },
  {
   "cell_type": "code",
   "execution_count": null,
   "id": "b773b483",
   "metadata": {
    "scrolled": true
   },
   "outputs": [],
   "source": [
    "vmin=-4\n",
    "vmax=4\n",
    "\n",
    "for groupchoice, adata in adata_objects.items():\n",
    "    geneset = set(adata.var_names) #all genes list\n",
    "    ecmgenes_dict={}\n",
    "    for ecmtype in categories:\n",
    "        selection = matrisome[matrisome['Category'] == ecmtype]\n",
    "        selection_genes = set(selection['Gene Symbol'].values)\n",
    "        genes = list(selection_genes.intersection(geneset))\n",
    "        ecmgenes_dict[ecmtype] = genes\n",
    "\n",
    "    for i, (category, genes) in enumerate(ecmgenes_dict.items()):\n",
    "        gene_count = len(genes)  # Get the length of the gene list\n",
    "        if gene_count > 150:\n",
    "\n",
    "            split1 = gene_count // 3\n",
    "            split2 = 2 * gene_count // 3\n",
    "\n",
    "            sc.pl.dotplot(adata, genes[:split1], groupby=cell_type, dendrogram=True, use_raw=False,\n",
    "                             vmin=vmin, vmax=vmax, colorbar_title='mean z-score', \n",
    "                             title=f'{category}', cmap='RdBu_r', swap_axes=True, save=f'{groupchoice}_{category}_1_deseqnorm_scaled.tiff')\n",
    "            sc.pl.dotplot(adata, genes[split1:split2], groupby=cell_type, dendrogram=True, use_raw=False,\n",
    "                             vmin=vmin, vmax=vmax, colorbar_title='mean z-score', \n",
    "                             title=f'{category}', cmap='RdBu_r', swap_axes=True, save=f'{groupchoice}_{category}_2_deseqnorm_scaled.tiff')\n",
    "            sc.pl.dotplot(adata, genes[split2:], groupby=cell_type, dendrogram=True, use_raw=False,\n",
    "                             vmin=vmin, vmax=vmax, colorbar_title='mean z-score', \n",
    "                             title=f'{category}', cmap='RdBu_r', swap_axes=True, save=f'{groupchoice}_{category}_3_deseqnorm_scaled.tiff')\n",
    "        if gene_count > 110:\n",
    "            sc.pl.dotplot(adata, genes[:gene_count // 2], groupby=cell_type, dendrogram=True, use_raw=False,\n",
    "                             vmin=vmin, vmax=vmax, colorbar_title='mean z-score', \n",
    "                             title=f'{category}', cmap='RdBu_r', swap_axes=True, save=f'{groupchoice}_{category}_1_deseqnorm_scaled.tiff')\n",
    "            sc.pl.dotplot(adata, genes[gene_count // 2:], groupby=cell_type, dendrogram=True, use_raw=False,\n",
    "                             vmin=vmin, vmax=vmax, colorbar_title='mean z-score', \n",
    "                             title=f'{category}', cmap='RdBu_r', swap_axes=True, save=f'{groupchoice}_{category}_2_deseqnorm_scaled.tiff')\n",
    "        else:\n",
    "            sc.pl.dotplot(adata, ecmgenes_dict[category], groupby=cell_type, dendrogram=True, use_raw=False,\n",
    "                             vmin=vmin, vmax=vmax, colorbar_title='mean z-score', \n",
    "                             title=f'{category}', cmap='RdBu_r', swap_axes=True, save=f'{groupchoice}_{category}_deseqnorm_scaled.tiff')"
   ]
  }
 ],
 "metadata": {
  "kernelspec": {
   "display_name": "Python [conda env:scib-pipeline-R4.0]",
   "language": "python",
   "name": "conda-env-scib-pipeline-R4.0-py"
  },
  "language_info": {
   "codemirror_mode": {
    "name": "ipython",
    "version": 3
   },
   "file_extension": ".py",
   "mimetype": "text/x-python",
   "name": "python",
   "nbconvert_exporter": "python",
   "pygments_lexer": "ipython3",
   "version": "3.7.12"
  }
 },
 "nbformat": 4,
 "nbformat_minor": 5
}
