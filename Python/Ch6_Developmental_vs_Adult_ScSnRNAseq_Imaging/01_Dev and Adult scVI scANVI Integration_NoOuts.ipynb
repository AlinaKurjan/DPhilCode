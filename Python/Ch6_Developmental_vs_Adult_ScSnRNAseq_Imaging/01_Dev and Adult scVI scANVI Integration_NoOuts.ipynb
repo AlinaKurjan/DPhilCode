{
 "cells": [
  {
   "cell_type": "code",
   "execution_count": null,
   "id": "2e9f0efc",
   "metadata": {},
   "outputs": [],
   "source": [
    "# Import dependencies\n",
    "%matplotlib inline\n",
    "import os\n",
    "import numpy as np\n",
    "import scanpy as sc\n",
    "import seaborn as sns\n",
    "import matplotlib\n",
    "import matplotlib.pyplot as plt\n",
    "import pandas as pd\n",
    "import anndata as ad\n",
    "import warnings\n",
    "\n",
    "# Ignore all warnings\n",
    "warnings.simplefilter(\"ignore\")\n",
    "\n",
    "matplotlib.rcParams['font.family'] = 'sans-serif'\n",
    "\n",
    "# Initialize random seed\n",
    "import random\n",
    "random.seed(111)\n",
    "\n",
    "# Print date and time:\n",
    "import datetime\n",
    "e = datetime.datetime.now()\n",
    "print (\"Current date and time = %s\" % e)\n",
    "\n",
    "# wdir = \"/ceph/project/tendonhca/akurjan/analysis/\"\n",
    "wdir = \"/mnt/da8aa2c4-0136-465b-87a2-d12a59afec55/akurjan/analysis/notebooks/\"\n",
    "os.chdir( wdir )\n",
    "\n",
    "# folder structures\n",
    "INPUT_FOLDERNAME = \"developmental/scVI/results/\"\n",
    "RESULTS_FOLDERNAME = \"adult/integration/results/\"\n",
    "FIGURES_FOLDERNAME = \"adult/integration/figures/\"\n",
    "\n",
    "if not os.path.exists(RESULTS_FOLDERNAME):\n",
    "    os.makedirs(RESULTS_FOLDERNAME)\n",
    "if not os.path.exists(FIGURES_FOLDERNAME):\n",
    "    os.makedirs(FIGURES_FOLDERNAME)\n",
    "\n",
    "# Set folder for saving figures into\n",
    "sc.settings.figdir = FIGURES_FOLDERNAME\n",
    "\n",
    "def savesvg(fname: str, fig, folder: str=FIGURES_FOLDERNAME) -> None:\n",
    "    \"\"\"\n",
    "    Save figure as vector-based SVG image format.\n",
    "    \"\"\"\n",
    "    fig.savefig(os.path.join(folder, fname), format='svg')\n",
    "\n",
    "def plot_umaps(anndata, parameters: list, filename: str):\n",
    "    n_plots = len(parameters)\n",
    "    fig, axs = plt.subplots(n_plots, 1, figsize=(10, 4*n_plots))\n",
    "    for i, param in enumerate(parameters):\n",
    "        sc.pl.umap(anndata, color=param, ax=axs[i], show=False, frameon=False, s=2)\n",
    "        axs[i].set_title(param)\n",
    "    plt.tight_layout()\n",
    "    savesvg(filename, fig)\n",
    "    plt.show()    \n",
    "    \n",
    "# Set other settings\n",
    "sc.settings.verbosity = 3 # verbosity: errors (0), warnings (1), info (2), hints (3)\n",
    "sc.logging.print_versions()\n",
    "sc.set_figure_params(dpi=150, fontsize=10, dpi_save=600)"
   ]
  },
  {
   "cell_type": "markdown",
   "id": "f05b5a2f",
   "metadata": {},
   "source": [
    "# Loading and preparing developmental data"
   ]
  },
  {
   "cell_type": "code",
   "execution_count": null,
   "id": "e91ed808",
   "metadata": {},
   "outputs": [],
   "source": [
    "adata = sc.read_h5ad(os.path.join(INPUT_FOLDERNAME, 'concat.h5ad'))\n",
    "adata.var_names = adata.var_names.astype(str)\n",
    "adata.var_names_make_unique()\n",
    "adata"
   ]
  },
  {
   "cell_type": "code",
   "execution_count": null,
   "id": "c3f426a0",
   "metadata": {},
   "outputs": [],
   "source": [
    "adata.obs.drop(columns=['latent_RT_efficiency', 'latent_cell_probability', 'latent_scale',\n",
    "                       'initial_size_unspliced', 'initial_size_spliced', 'initial_size',\n",
    "       'log1p_n_genes_by_counts', \n",
    "       'log1p_total_counts', 'pct_counts_in_top_20_genes', 'total_counts_mt',\n",
    "       'log1p_total_counts_mt', 'pct_counts_mt', 'total_counts_ribo',\n",
    "       'log1p_total_counts_ribo', 'pct_counts_ribo', 'total_counts_hb',\n",
    "       'log1p_total_counts_hb', 'pct_counts_hb', 'outlier', 'mt_outlier', 'samplename',\n",
    "       'n_counts', 'n_genes', 'C_scANVI_orig', 'tendon_spmarker_score', 'sample_stage', 'norm_sample_stage', \n",
    "       'hospital_id', 'tissue', 'agegroup'\n",
    "                       ], inplace=True)"
   ]
  },
  {
   "cell_type": "code",
   "execution_count": null,
   "id": "c4335b47",
   "metadata": {},
   "outputs": [],
   "source": [
    "adata.obs.libbatch = adata.obs.libbatch.str.replace(\"Illumina-C HiSeq 4000 Paired end sequencing_3' v2\", \"Embryonic\")\n",
    "adata.obs.libbatch = adata.obs.libbatch.astype('str').astype('category')\n",
    "adata.obs.libbatch.value_counts()"
   ]
  },
  {
   "cell_type": "code",
   "execution_count": null,
   "id": "10c4cf22",
   "metadata": {},
   "outputs": [],
   "source": [
    "adata.obs['group'] = adata.obs['libbatch'].astype('str') + '_' + adata.obs['type'].astype('str')\n",
    "adata.obs['group'] = adata.obs['group'].astype('category')\n",
    "adata.obs['type'] = adata.obs['type'].str.replace('Quad/Pat', 'Quad')"
   ]
  },
  {
   "cell_type": "code",
   "execution_count": null,
   "id": "f523f2ab",
   "metadata": {},
   "outputs": [],
   "source": [
    "adata.obs['age'] = adata.obs['age'].astype(\"category\")\n",
    "list(adata.obs['age'].cat.categories)"
   ]
  },
  {
   "cell_type": "code",
   "execution_count": null,
   "id": "2edf31ae",
   "metadata": {},
   "outputs": [],
   "source": [
    "adata.obs['age'] = pd.Categorical(adata.obs['age'], categories=['6.5w', '7.2w', '8.4w', '9.0w', '9.3w', '12w', '17w', '20w'], ordered=True)\n",
    "adata = adata[adata.obs['age'].argsort()]\n",
    "adata.obs "
   ]
  },
  {
   "cell_type": "code",
   "execution_count": null,
   "id": "651e69c7",
   "metadata": {},
   "outputs": [],
   "source": [
    "adata.raw = adata"
   ]
  },
  {
   "cell_type": "markdown",
   "id": "559acb35",
   "metadata": {},
   "source": [
    "# Loading and preparing adult tendon data"
   ]
  },
  {
   "cell_type": "code",
   "execution_count": null,
   "id": "f7fc887e",
   "metadata": {},
   "outputs": [],
   "source": [
    "adataquad = sc.read_h5ad('/mnt/da8aa2c4-0136-465b-87a2-d12a59afec55/akurjan/analysis/files/AdultData/20231130_quads_int_labelled.h5ad')\n",
    "adataquad.var_names_make_unique()\n",
    "adataquad"
   ]
  },
  {
   "cell_type": "code",
   "execution_count": null,
   "id": "bf39de59",
   "metadata": {},
   "outputs": [],
   "source": [
    "print(adataquad.X[0:20,0:20])"
   ]
  },
  {
   "cell_type": "code",
   "execution_count": null,
   "id": "74cd16c2",
   "metadata": {},
   "outputs": [],
   "source": [
    "adataquad.X.max()"
   ]
  },
  {
   "cell_type": "code",
   "execution_count": null,
   "id": "03bd8387",
   "metadata": {},
   "outputs": [],
   "source": [
    "adataquad.obs"
   ]
  },
  {
   "cell_type": "code",
   "execution_count": null,
   "id": "e688c01b",
   "metadata": {},
   "outputs": [],
   "source": [
    "sc.pl.umap(adataquad, color=['age', 'cluster_id'], frameon=False)"
   ]
  },
  {
   "cell_type": "code",
   "execution_count": null,
   "id": "f776fedb",
   "metadata": {},
   "outputs": [],
   "source": [
    "sc.pl.umap(adataquad, color=['cluster_id'], legend_loc='on data', \n",
    "           legend_fontsize=5, frameon=False)"
   ]
  },
  {
   "cell_type": "code",
   "execution_count": null,
   "id": "86a42f2f",
   "metadata": {},
   "outputs": [],
   "source": [
    "adataquad.obs['sequencing_date'].value_counts()"
   ]
  },
  {
   "cell_type": "code",
   "execution_count": null,
   "id": "3b4a09f3",
   "metadata": {},
   "outputs": [],
   "source": [
    "adataquad.obs['sex'].value_counts()"
   ]
  },
  {
   "cell_type": "code",
   "execution_count": null,
   "id": "428cac7b",
   "metadata": {},
   "outputs": [],
   "source": [
    "adataquad.obs['age'].value_counts()"
   ]
  },
  {
   "cell_type": "code",
   "execution_count": null,
   "id": "a09a52d7",
   "metadata": {},
   "outputs": [],
   "source": [
    "adataquad.obs['sample'].value_counts()"
   ]
  },
  {
   "cell_type": "code",
   "execution_count": null,
   "id": "f5c2b3e3",
   "metadata": {},
   "outputs": [],
   "source": [
    "adataquad.obs['tendon_disease'].value_counts()"
   ]
  },
  {
   "cell_type": "code",
   "execution_count": null,
   "id": "fd526c4d",
   "metadata": {},
   "outputs": [],
   "source": [
    "adataquad.var.index = adataquad.var['rownames(so)'].copy()\n",
    "adataquad.var.index.name = 'Gene'\n",
    "adataquad.var"
   ]
  },
  {
   "cell_type": "code",
   "execution_count": null,
   "id": "afe37130",
   "metadata": {},
   "outputs": [],
   "source": [
    "adataquad.obs['barcode'] = adataquad.obs.index.str.split('_').str[0]\n",
    "print(adataquad.obs['barcode'].head())"
   ]
  },
  {
   "cell_type": "code",
   "execution_count": null,
   "id": "93fcfdad",
   "metadata": {},
   "outputs": [],
   "source": [
    "adataach = sc.read_h5ad('/mnt/da8aa2c4-0136-465b-87a2-d12a59afec55/akurjan/analysis/files/AdultData/Achilles_integrated_annotated.h5ad')\n",
    "adataach.var_names_make_unique()\n",
    "adataach"
   ]
  },
  {
   "cell_type": "code",
   "execution_count": null,
   "id": "35e408fb",
   "metadata": {},
   "outputs": [],
   "source": [
    "print(adataach.X[0:20,0:20])"
   ]
  },
  {
   "cell_type": "code",
   "execution_count": null,
   "id": "f82b3055",
   "metadata": {},
   "outputs": [],
   "source": [
    "adataach.X.max()"
   ]
  },
  {
   "cell_type": "code",
   "execution_count": null,
   "id": "61c3f899",
   "metadata": {},
   "outputs": [],
   "source": [
    "adataach.obs"
   ]
  },
  {
   "cell_type": "code",
   "execution_count": null,
   "id": "134196a3",
   "metadata": {},
   "outputs": [],
   "source": [
    "sc.pl.umap(adataach, color=['age', 'cell_annotation_update'], frameon=False)"
   ]
  },
  {
   "cell_type": "code",
   "execution_count": null,
   "id": "5a34922a",
   "metadata": {},
   "outputs": [],
   "source": [
    "sc.pl.umap(adataach, color=['cell_annotation_update'], legend_loc='on data', \n",
    "           legend_fontsize=5, frameon=False)"
   ]
  },
  {
   "cell_type": "code",
   "execution_count": null,
   "id": "551c6663",
   "metadata": {},
   "outputs": [],
   "source": [
    "adataach.obs['sequencing_date'].value_counts()"
   ]
  },
  {
   "cell_type": "code",
   "execution_count": null,
   "id": "cdf1184c",
   "metadata": {},
   "outputs": [],
   "source": [
    "adataach.obs['sex'].value_counts()"
   ]
  },
  {
   "cell_type": "code",
   "execution_count": null,
   "id": "42a856f7",
   "metadata": {},
   "outputs": [],
   "source": [
    "adataach.obs['age'].value_counts()"
   ]
  },
  {
   "cell_type": "code",
   "execution_count": null,
   "id": "769e578a",
   "metadata": {},
   "outputs": [],
   "source": [
    "adataach.var.index = adataach.var['rownames(so)'].copy()\n",
    "adataach.var.index.name = 'Gene'\n",
    "adataach.var"
   ]
  },
  {
   "cell_type": "code",
   "execution_count": null,
   "id": "a8e34734",
   "metadata": {},
   "outputs": [],
   "source": [
    "adataach.obs['barcode'] = adataach.obs.index.str.split('_').str[-1]\n",
    "print(adata.obs['barcode'].head())"
   ]
  },
  {
   "cell_type": "code",
   "execution_count": null,
   "id": "a59944df",
   "metadata": {},
   "outputs": [],
   "source": [
    "adataquad.obs['sex'] = adataquad.obs['sex'].replace({'Male': 'male'})\n",
    "\n",
    "date_to_batch = {\n",
    "    '20230822': 'Aug2023',\n",
    "    '20220808': 'Aug2022',\n",
    "    '11102021': 'Oct2021',\n",
    "    '20211213': 'Dec2021'\n",
    "}"
   ]
  },
  {
   "cell_type": "code",
   "execution_count": null,
   "id": "7ca3b943",
   "metadata": {},
   "outputs": [],
   "source": [
    "adataach.obs['libbatch'] = adataach.obs['sequencing_date'].map(date_to_batch)\n",
    "adataquad.obs['libbatch'] = adataquad.obs['sequencing_date'].map(date_to_batch)\n",
    "\n",
    "print(adataach.obs[['sequencing_date', 'libbatch']].head())\n",
    "print(adataquad.obs[['sequencing_date', 'libbatch']].head())"
   ]
  },
  {
   "cell_type": "code",
   "execution_count": null,
   "id": "6c546c62",
   "metadata": {},
   "outputs": [],
   "source": [
    "adataach.obs['ageint'] = adataach.obs['age'].copy()\n",
    "\n",
    "age_categories = ['45yr', '50yr', '51yr', '58yr', '74yr', '76yr']\n",
    "\n",
    "age_with_yr = {age: f\"{age}yr\" for age in sorted(adataach.obs['age'].unique())}\n",
    "\n",
    "adataach.obs['age'] = adataach.obs['age'].map(age_with_yr)\n",
    "adataach.obs['age'] = pd.Categorical(adataach.obs['age'], categories=age_categories, ordered=True)\n",
    "\n",
    "print(adataach.obs[['ageint', 'age']].head())"
   ]
  },
  {
   "cell_type": "code",
   "execution_count": null,
   "id": "bbd836d2",
   "metadata": {},
   "outputs": [],
   "source": [
    "adataquad.obs['ageint'] = adataquad.obs['age'].copy()\n",
    "\n",
    "age_categories = ['25yr', '29yr', '44yr', '67yr', '69yr', '75yr']\n",
    "age_with_yr = {age: f\"{age}yr\" for age in sorted(adataquad.obs['age'].unique())}\n",
    "adataquad.obs['age'] = adataquad.obs['age'].map(age_with_yr)\n",
    "adataquad.obs['age'] = pd.Categorical(adataquad.obs['age'], categories=age_categories, ordered=True)\n",
    "\n",
    "print(adataquad.obs[['ageint', 'age']].head())"
   ]
  },
  {
   "cell_type": "code",
   "execution_count": null,
   "id": "682065cf",
   "metadata": {
    "scrolled": true
   },
   "outputs": [],
   "source": [
    "adata.obs"
   ]
  },
  {
   "cell_type": "code",
   "execution_count": null,
   "id": "dad6df42",
   "metadata": {},
   "outputs": [],
   "source": [
    "adataach.obs['type'] = 'Ach'\n",
    "adataquad.obs['type'] = 'Quad'\n",
    "\n",
    "adataach.obs['sampletype'] = adataach.obs['sample'].astype('str') + '_' + adataach.obs['type'].astype('str')\n",
    "adataquad.obs['sampletype'] = adataquad.obs['sample'].astype('str') + '_' + adataquad.obs['type'].astype('str')\n",
    "\n",
    "adataquad.obs['tendon_status'] = adataquad.obs['tendon_disease'].copy()\n",
    "adataach.obs['tendon_status'] = 'Healthy'\n",
    "adata.obs['tendon_status'] = 'Healthy'\n",
    "\n",
    "adataach.obs['group'] = 'Adult'\n",
    "adataquad.obs['group'] = 'Adult'\n",
    "adata.obs['group'] = np.where(adata.obs['libbatch'] == 'Embryonic', 'Embryonic', 'Foetal')\n",
    "\n",
    "adataach.obs['grouptype'] = adataach.obs['group'].astype('str') + '_' + adataach.obs['type'].astype('str') \n",
    "adataquad.obs['grouptype'] = adataquad.obs['group'].astype('str') + '_' + adataquad.obs['type'].astype('str') \n",
    "adata.obs['grouptype'] = adata.obs['group'].astype('str') + '_' + adata.obs['type'].astype('str') \n",
    "\n",
    "adataquad.obs['microanat'] = 'MB'"
   ]
  },
  {
   "cell_type": "code",
   "execution_count": null,
   "id": "280c76c3",
   "metadata": {},
   "outputs": [],
   "source": [
    "adataach.obs['annotations_orig'] = adataach.obs['cell_annotation_update'].copy()\n",
    "adataach.obs['annotations_orig_full'] = adataach.obs['grouptype'].astype('str') + '_' + adataach.obs['annotations_orig'].astype('str')\n",
    "\n",
    "adataquad.obs['annotations_orig'] = adataquad.obs['cluster_id'].copy()\n",
    "adataquad.obs['annotations_orig_full'] = adataquad.obs['grouptype'].astype('str') + '_' + adataquad.obs['annotations_orig'].astype('str')\n",
    "\n",
    "adata.obs['annotations_orig'] = adata.obs['C_scANVI'].copy()\n",
    "adata.obs['annotations_orig_full'] = adata.obs['C_scANVI'].copy()"
   ]
  },
  {
   "cell_type": "code",
   "execution_count": null,
   "id": "ec03ff90",
   "metadata": {},
   "outputs": [],
   "source": [
    "adataach.obs['microanat'] = adataach.obs['sample'].str.split('-').str[-1]\n",
    "rename_map = {\n",
    "    'Enth': 'ENTH',\n",
    "    'MB2': 'MB',\n",
    "    'muscle': 'MUSCLE'\n",
    "}\n",
    "adataach.obs['microanat'] = adataach.obs['microanat'].replace(rename_map)\n",
    "print(adataach.obs['microanat'].value_counts())"
   ]
  },
  {
   "cell_type": "code",
   "execution_count": null,
   "id": "88c5af0d",
   "metadata": {},
   "outputs": [],
   "source": [
    "adata.obs['microanat'] = adata.obs['sample'].str.split('-').str[-1]\n",
    "rename_map = {\n",
    "    'DEV16127': 'FULL',           \n",
    "    'DEV16135DEV16171': 'FULL',\n",
    "    'DEV15985': 'MB',\n",
    "    'DEV16569': 'FULL',\n",
    "    'DEV15984': 'MB',\n",
    "    'DEV16134': 'FULL',\n",
    "    'DEV16136': 'FULL',\n",
    "    'DEV15983': 'MB',\n",
    "    'BRC2172': 'A-FULL',\n",
    "    'BRC2181': 'A-FULL',\n",
    "    'BRC2173': 'A-FULL',\n",
    "    'BRC2083': 'A-FULL',\n",
    "    'BRC2092': 'A-FULL',\n",
    "    'BRC2114': 'A-FULL',\n",
    "}\n",
    "adata.obs['microanat'] = adata.obs['microanat'].replace(rename_map)\n",
    "print(adata.obs['microanat'].value_counts())"
   ]
  },
  {
   "cell_type": "code",
   "execution_count": null,
   "id": "d136c737",
   "metadata": {},
   "outputs": [],
   "source": [
    "adataach.obs['megagrouptype'] = adataach.obs['grouptype'].astype('str') + '_' + adataach.obs['microanat'].astype('str') \n",
    "adataquad.obs['megagrouptype'] = adataquad.obs['grouptype'].astype('str') + '_' + adataquad.obs['microanat'].astype('str') \n",
    "adata.obs['megagrouptype'] = adata.obs['grouptype'].astype('str') + '_' + adata.obs['microanat'].astype('str') \n",
    "print(adata.obs['megagrouptype'].value_counts())"
   ]
  },
  {
   "cell_type": "code",
   "execution_count": null,
   "id": "bf11eb44",
   "metadata": {},
   "outputs": [],
   "source": [
    "sc.pl.umap(adataach, color='annotations_orig_full', frameon=False)"
   ]
  },
  {
   "cell_type": "code",
   "execution_count": null,
   "id": "b1eb2e31",
   "metadata": {},
   "outputs": [],
   "source": [
    "sc.pl.umap(adataquad, color='annotations_orig_full', frameon=False)"
   ]
  },
  {
   "cell_type": "code",
   "execution_count": null,
   "id": "7188b1fb",
   "metadata": {},
   "outputs": [],
   "source": [
    "adataquad.obs.annotations_orig_full"
   ]
  },
  {
   "cell_type": "markdown",
   "id": "4fa2a28c",
   "metadata": {},
   "source": [
    "# Concatenation and Preparation"
   ]
  },
  {
   "cell_type": "code",
   "execution_count": null,
   "id": "066fd54a",
   "metadata": {
    "scrolled": true
   },
   "outputs": [],
   "source": [
    "concat = ad.concat([adata, adataach, adataquad], join='outer') \n",
    "concat"
   ]
  },
  {
   "cell_type": "code",
   "execution_count": null,
   "id": "52ee63fe",
   "metadata": {},
   "outputs": [],
   "source": [
    "concat.obs.drop(columns=[\n",
    "       'n_genes_by_counts', 'total_counts', \n",
    "       '_scvi_batch', '_scvi_labels', 'cell_type', 'S_score', 'G2M_score', 'phase', \n",
    "       'C_scANVI', 'seq_protocol', 'kit', 'modality',\n",
    "       'orig.ident', 'nCount_RNA', 'nFeature_RNA', 'sum',\n",
    "       'detected', 'subsets_mito_sum', 'subsets_mito_detected',\n",
    "       'subsets_mito_percent', 'total', 'log10GenesPerUMI', 'patient',\n",
    "       'ethnicity', 'surgical_procedure', 'disease_status', 'tendon_disease',\n",
    "       'anatomical_site', 'time_to_freezing', 'sequencing_date',\n",
    "       'seurat_clusters', 'decontX_contamination', 'decontX_clusters',\n",
    "       'nCount_decontXcounts', 'nFeature_decontXcounts', 'RNA_snn_res.0.3',\n",
    "       'nCount_SoupXcounts', 'nFeature_SoupXcounts', 'scDblFinder.class',\n",
    "       'scDblFinder.score', 'SoupXcounts_snn_res.0.3', 'RNA_snn_res.0.1',\n",
    "       'SoupXcounts_snn_res.0', 'SoupXcounts_snn_res.0.1',\n",
    "       'SoupXcounts_snn_res.0.2', 'SoupXcounts_snn_res.0.4',\n",
    "       'SoupXcounts_snn_res.0.5', 'SoupXcounts_snn_res.0.6',\n",
    "       'SoupXcounts_snn_res.0.7', 'SoupXcounts_snn_res.0.8', 'cluster_id',\n",
    "       'cluster_idbackup', 'ident_diseasestatus', 'affected_side',\n",
    "       'microanatomical_site', 'sizeFactor', 'scDblFinder.cluster',\n",
    "       'scDblFinder.weighted', 'scDblFinder.difficulty',\n",
    "       'scDblFinder.cxds_score', 'scDblFinder.mostLikelyOrigin',\n",
    "       'scDblFinder.originAmbiguous', 'nCount_soupX', 'nFeature_soupX',\n",
    "       'soupX_snn_res.0.1', 'soupX_snn_res.0.2', 'soupX_snn_res.0.3',\n",
    "       'soupX_snn_res.0.4', 'soupX_snn_res.0.5', 'soupX_snn_res.0.6',\n",
    "       'soupX_snn_res.0.7', 'soupX_snn_res.0.8', 'soupX_snn_res.0.9',\n",
    "       'soupX_snn_res.1', 'cell_annotation_0.1', 'cell_annotation_0.2',\n",
    "       'cell_annotation_0.3', 'cell_annotation_update',\n",
    "       'cell_annotation_spatial'], inplace=True)\n",
    "\n",
    "del concat.obsm['pca'], concat.obsm['umap']\n",
    "del concat.layers['decontX'], concat.layers['logcounts'], concat.layers['soupX']"
   ]
  },
  {
   "cell_type": "code",
   "execution_count": null,
   "id": "f4e48fcd",
   "metadata": {},
   "outputs": [],
   "source": [
    "del adataach, adataquad, adata"
   ]
  },
  {
   "cell_type": "code",
   "execution_count": null,
   "id": "4d3a6849",
   "metadata": {},
   "outputs": [],
   "source": [
    "sc.pp.filter_genes(concat, min_counts=30, inplace=True)\n",
    "sc.pp.filter_cells(concat, min_genes=200)"
   ]
  },
  {
   "cell_type": "code",
   "execution_count": null,
   "id": "c145e60f",
   "metadata": {},
   "outputs": [],
   "source": [
    "conversion_mapping = {\n",
    "    'QUAD': 'Quad',\n",
    "    'ACH': 'Ach'\n",
    "}\n",
    "type_mapping = concat.obs.set_index('sample')['type'].to_dict()\n",
    "\n",
    "# Apply conversion to all sample types\n",
    "concat.obs['sampletype'] = concat.obs['sample'].apply(lambda x: x.split('-')[0] if x.startswith('MSK') else x + '-' + type_mapping.get(x, ''))\n",
    "concat.obs['sampletype'] = concat.obs['sampletype'].apply(lambda x: '-'.join([conversion_mapping.get(part, part) for part in x.split('-')]))\n",
    "\n",
    "# For samples starting with 'MSK', extract the first two parts and apply conversion\n",
    "mask = concat.obs['sample'].str.startswith('MSK')\n",
    "concat.obs.loc[mask, 'sampletype'] = concat.obs.loc[mask, 'sample'].apply(lambda x: '-'.join([conversion_mapping.get(part, part) for part in x.split('-')[:2]]))\n",
    "\n",
    "print(concat.obs['sampletype'].value_counts())"
   ]
  },
  {
   "cell_type": "code",
   "execution_count": null,
   "id": "126878e4",
   "metadata": {},
   "outputs": [],
   "source": [
    "concat"
   ]
  },
  {
   "cell_type": "code",
   "execution_count": null,
   "id": "4b836130",
   "metadata": {},
   "outputs": [],
   "source": [
    "concat.write(os.path.join(RESULTS_FOLDERNAME, 'adultdev_combined.h5ad'))"
   ]
  },
  {
   "cell_type": "code",
   "execution_count": null,
   "id": "ff2703b9",
   "metadata": {},
   "outputs": [],
   "source": [
    "sc.pp.highly_variable_genes(concat, n_top_genes=7000, flavor=\"seurat_v3\", batch_key='sampletype', subset=False, span=1)\n",
    "sc.pp.normalize_total(concat)\n",
    "sc.pp.log1p(concat)\n",
    "sc.pp.scale(concat)\n",
    "sc.pp.pca(concat)\n",
    "sc.pp.neighbors(concat)\n",
    "sc.tl.umap(concat)"
   ]
  },
  {
   "cell_type": "code",
   "execution_count": null,
   "id": "dda89a83",
   "metadata": {},
   "outputs": [],
   "source": [
    "sc.pl.umap(concat, color='annotations_orig_full', frameon=False)"
   ]
  },
  {
   "cell_type": "code",
   "execution_count": null,
   "id": "2e92a568",
   "metadata": {},
   "outputs": [],
   "source": [
    "concat.obs"
   ]
  },
  {
   "cell_type": "code",
   "execution_count": null,
   "id": "a0606cdf",
   "metadata": {},
   "outputs": [],
   "source": [
    "#concat.raw = concat"
   ]
  },
  {
   "cell_type": "code",
   "execution_count": null,
   "id": "35bca393",
   "metadata": {},
   "outputs": [],
   "source": [
    "sc.pp.highly_variable_genes(concat, n_top_genes=7000, flavor=\"seurat_v3\", batch_key='sampletype', subset=False, span=1)\n",
    "sc.pl.highly_variable_genes(concat)"
   ]
  },
  {
   "cell_type": "code",
   "execution_count": null,
   "id": "960f1042",
   "metadata": {},
   "outputs": [],
   "source": [
    "g2m_genes = [\n",
    "    'HMGB2', 'CDK1', 'NUSAP1', 'UBE2C', 'BIRC5', 'TPX2', 'TOP2A', 'NDC80', 'CKS2',\n",
    "    'NUF2', 'CKS1B', 'MKI67', 'TMPO', 'CENPF', 'TACC3', 'FAM64A', 'SMC4', 'CCNB2',\n",
    "    'CKAP2L', 'CKAP2', 'AURKB', 'BUB1', 'KIF11', 'ANP32E', 'TUBB4B', 'GTSE1', 'KIF20B',\n",
    "    'HJURP', 'CDCA3', 'HN1', 'CDC20', 'TTK', 'CDC25C', 'KIF2C', 'RANGAP1', 'NCAPD2',\n",
    "    'DLGAP5', 'CDCA2', 'CDCA8', 'ECT2', 'KIF23', 'HMMR', 'AURKA', 'PSRC1', 'ANLN', 'LBR',\n",
    "    'CKAP5', 'CENPE', 'CTCF', 'NEK2', 'G2E3', 'GAS2L3', 'CBX5', 'CENPA'\n",
    "]\n",
    "\n",
    "s_genes = [\n",
    "    'MCM5', 'PCNA', 'TYMS', 'FEN1', 'MCM2', 'MCM4', 'RRM1', 'UNG', 'GINS2', 'MCM6',\n",
    "    'CDCA7', 'DTL', 'PRIM1', 'UHRF1', 'MLF1IP', 'HELLS', 'RFC2', 'RPA2', 'NASP', 'RAD51AP1',\n",
    "    'GMNN', 'WDR76', 'SLBP', 'CCNE2', 'UBR7', 'POLD3', 'MSH2', 'ATAD2', 'RAD51', 'RRM2',\n",
    "    'CDC45', 'CDC6', 'EXO1', 'TIPIN', 'DSCC1', 'BLM', 'CASP8AP2', 'USP1', 'CLSPN', 'POLA1',\n",
    "    'CHAF1B', 'BRIP1', 'E2F8'\n",
    "]\n",
    "\n",
    "sc.tl.score_genes_cell_cycle(concat, s_genes, g2m_genes)"
   ]
  },
  {
   "cell_type": "code",
   "execution_count": null,
   "id": "b1b559c2",
   "metadata": {},
   "outputs": [],
   "source": [
    "sc.pl.violin(concat, ['S_score', 'G2M_score'],\n",
    "            jitter=0.4, groupby = 'sampletype', rotation=90, \n",
    "            )"
   ]
  },
  {
   "cell_type": "code",
   "execution_count": null,
   "id": "4bdf4ca9",
   "metadata": {},
   "outputs": [],
   "source": [
    "print(concat.X[0:10, 0:10])"
   ]
  },
  {
   "cell_type": "code",
   "execution_count": null,
   "id": "7b4002a6",
   "metadata": {},
   "outputs": [],
   "source": [
    "sc.pp.normalize_total(concat, target_sum=None, inplace=True)\n",
    "sc.pp.log1p(concat)\n",
    "print(concat.X[0:10, 0:10])"
   ]
  },
  {
   "cell_type": "code",
   "execution_count": null,
   "id": "8b8f96e8",
   "metadata": {},
   "outputs": [],
   "source": [
    "concat.layers[\"log1p_norm\"] = concat.X.copy()"
   ]
  },
  {
   "cell_type": "code",
   "execution_count": null,
   "id": "e46cf6d4",
   "metadata": {},
   "outputs": [],
   "source": [
    "sc.pp.scale(concat)\n",
    "print(concat.X[0:5,0:5])"
   ]
  },
  {
   "cell_type": "code",
   "execution_count": null,
   "id": "3d8f9ff2",
   "metadata": {},
   "outputs": [],
   "source": [
    "concat.layers['scaled'] = concat.X.copy()"
   ]
  },
  {
   "cell_type": "code",
   "execution_count": null,
   "id": "5983844e",
   "metadata": {},
   "outputs": [],
   "source": [
    "sc.pp.pca(concat, n_comps=40, svd_solver=\"arpack\")"
   ]
  },
  {
   "cell_type": "code",
   "execution_count": null,
   "id": "0b7555ff",
   "metadata": {},
   "outputs": [],
   "source": [
    "#explained_var = concat.uns['pca']['variance']\n",
    "#cumulative_var = np.cumsum(explained_var) / np.sum(explained_var)\n",
    "#num_pcs_90_var = np.argmax(cumulative_var >= 0.9) + 1\n",
    "#num_pcs_90_var"
   ]
  },
  {
   "cell_type": "code",
   "execution_count": null,
   "id": "839c48f4",
   "metadata": {},
   "outputs": [],
   "source": [
    "sc.pl.pca_loadings(concat, components='1,2,3,4,5,6,7,8')"
   ]
  },
  {
   "cell_type": "code",
   "execution_count": null,
   "id": "089af9c5",
   "metadata": {
    "scrolled": false
   },
   "outputs": [],
   "source": [
    "for var in ['grouptype', 'megagrouptype', 'age', 'libbatch', \"phase\", \"sex\", 'tendon_status', 'microanat', 'sampletype']:\n",
    "    sc.pl.pca(concat, components=['1,2', '3,4', '5,6', '7,8'], ncols=4, color=var)"
   ]
  },
  {
   "cell_type": "code",
   "execution_count": null,
   "id": "ccfc9310",
   "metadata": {},
   "outputs": [],
   "source": [
    "#adata.X = adata.layers['log1p_norm'].copy()\n",
    "#print(adata.X[0:10,0:10])\n",
    "#sc.pp.regress_out(adata, ['S_score', 'G2M_score'], n_jobs=20)\n",
    "#print(adata.X[0:5,0:5])\n",
    "#adata.layers['regressed_cc'] = adata.X.copy()"
   ]
  },
  {
   "cell_type": "code",
   "execution_count": null,
   "id": "95a8e78d",
   "metadata": {},
   "outputs": [],
   "source": [
    "sc.pp.neighbors(concat, metric='correlation')\n",
    "sc.tl.umap(concat)"
   ]
  },
  {
   "cell_type": "code",
   "execution_count": null,
   "id": "6158fbe9",
   "metadata": {},
   "outputs": [],
   "source": [
    "sc.pl.umap(concat, color='annotations_orig_full', frameon=False)"
   ]
  },
  {
   "cell_type": "code",
   "execution_count": null,
   "id": "014ae68c",
   "metadata": {},
   "outputs": [],
   "source": [
    "def plot_umaps(anndata, parameters: list, filename: str):\n",
    "    n_plots = len(parameters)\n",
    "    fig, axs = plt.subplots(n_plots, 1, figsize=(8, 4*n_plots))\n",
    "    for i, param in enumerate(parameters):\n",
    "        sc.pl.umap(anndata, color=param, ax=axs[i], show=False, frameon=False, s=2)\n",
    "        axs[i].set_title(param)\n",
    "    plt.tight_layout()\n",
    "    savesvg(filename, fig)\n",
    "    plt.show()   "
   ]
  },
  {
   "cell_type": "code",
   "execution_count": null,
   "id": "9b6fac4e",
   "metadata": {
    "scrolled": false
   },
   "outputs": [],
   "source": [
    "plot_umaps(concat, [\"group\", \n",
    "                   'grouptype', \n",
    "                   'megagrouptype', \n",
    "                   'age', 'libbatch', \"phase\", \n",
    "                   \"sex\", 'tendon_status', 'microanat',\n",
    "                   \"sampletype\"],\n",
    "           filename='unintegrated_fulldevadult.svg'\n",
    "          )"
   ]
  },
  {
   "cell_type": "code",
   "execution_count": null,
   "id": "dd3ae267",
   "metadata": {},
   "outputs": [],
   "source": [
    "sc.pl.umap(concat, color='annotations_orig_full', frameon=False, save='unintegrated_orig_full.svg')"
   ]
  },
  {
   "cell_type": "code",
   "execution_count": null,
   "id": "2690a318",
   "metadata": {},
   "outputs": [],
   "source": [
    "concat"
   ]
  },
  {
   "cell_type": "code",
   "execution_count": null,
   "id": "2f665e08",
   "metadata": {},
   "outputs": [],
   "source": [
    "concat.write(os.path.join(RESULTS_FOLDERNAME, 'adultdev_combined.h5ad'))"
   ]
  },
  {
   "cell_type": "code",
   "execution_count": null,
   "id": "e0005208",
   "metadata": {},
   "outputs": [],
   "source": [
    "all_annotations = {}\n",
    "if 'annotations_orig_full_colors' in concat.uns:\n",
    "    cell_types = concat.obs['annotations_orig_full'].cat.categories\n",
    "    colors = concat.uns['annotations_orig_full_colors']\n",
    "    print(\"Cell Types and Their Colors:\")\n",
    "    for cell_type, color in zip(cell_types, colors):\n",
    "        all_annotations[cell_type] = color\n",
    "        #print(f\"'{cell_type}': '{color}',\")\n",
    "else:\n",
    "    print(\"Color palette for 'annotations_orig' not found. Run a plot first.\")\n",
    "\n",
    "all_annotations"
   ]
  },
  {
   "cell_type": "code",
   "execution_count": null,
   "id": "225c4cfe",
   "metadata": {},
   "outputs": [],
   "source": [
    "group_annotations = concat.obs[concat.obs['group'] == 'Embryonic']['annotations_orig_full']\n",
    "unique_annotations = list(pd.unique(group_annotations))\n",
    "#unique_annotations = ['Skeletal Myocytes']\n",
    "highlighted_clusters = {annotation: all_annotations[annotation] for annotation in unique_annotations \n",
    "                        if annotation in all_annotations}\n",
    "unique_clusters = concat.obs['annotations_orig_full'].cat.categories\n",
    "color_palette = [highlighted_clusters.get(cluster, 'lightgray') for cluster in unique_clusters]\n",
    "sc.pl.umap(concat, color=['annotations_orig_full'], palette=color_palette, s=10,\n",
    "                frameon=False, save='_merged_notintegrated_embryonicct.svg')"
   ]
  },
  {
   "cell_type": "code",
   "execution_count": null,
   "id": "82968c40",
   "metadata": {},
   "outputs": [],
   "source": [
    "group_annotations = concat.obs[concat.obs['group'] == 'Foetal']['annotations_orig_full']\n",
    "unique_annotations = list(pd.unique(group_annotations))\n",
    "#unique_annotations = ['Skeletal Myocytes']\n",
    "highlighted_clusters = {annotation: all_annotations[annotation] for annotation in unique_annotations \n",
    "                        if annotation in all_annotations}\n",
    "unique_clusters = concat.obs['annotations_orig_full'].cat.categories\n",
    "color_palette = [highlighted_clusters.get(cluster, 'lightgray') for cluster in unique_clusters]\n",
    "sc.pl.umap(concat, color=['annotations_orig_full'], palette=color_palette, s=10,\n",
    "                frameon=False, save='_merged_notintegrated_foetalct.svg')"
   ]
  },
  {
   "cell_type": "code",
   "execution_count": null,
   "id": "1f7acd07",
   "metadata": {},
   "outputs": [],
   "source": [
    "group_annotations = concat.obs[concat.obs['group'] == 'Adult']['annotations_orig_full']\n",
    "unique_annotations = list(pd.unique(group_annotations))\n",
    "#unique_annotations = ['Skeletal Myocytes']\n",
    "highlighted_clusters = {annotation: all_annotations[annotation] for annotation in unique_annotations \n",
    "                        if annotation in all_annotations}\n",
    "unique_clusters = concat.obs['annotations_orig_full'].cat.categories\n",
    "color_palette = [highlighted_clusters.get(cluster, 'lightgray') for cluster in unique_clusters]\n",
    "sc.pl.umap(concat, color=['annotations_orig_full'], palette=color_palette, s=10,\n",
    "                frameon=False, save='_merged_notintegrated_adultct.svg')"
   ]
  },
  {
   "cell_type": "markdown",
   "id": "ec97a49d",
   "metadata": {},
   "source": [
    "# scANVI Integration"
   ]
  },
  {
   "cell_type": "code",
   "execution_count": null,
   "id": "ce043531",
   "metadata": {},
   "outputs": [],
   "source": [
    "adata = sc.read_h5ad(os.path.join(RESULTS_FOLDERNAME, 'adultdev_combined.h5ad'))\n",
    "adata.var_names_make_unique()\n",
    "adata"
   ]
  },
  {
   "cell_type": "code",
   "execution_count": null,
   "id": "f7c8ed8d",
   "metadata": {},
   "outputs": [],
   "source": [
    "adata.X = adata.layers['counts'].copy()\n",
    "print(adata.X[0:10,0:10])"
   ]
  },
  {
   "cell_type": "code",
   "execution_count": null,
   "id": "d026f108",
   "metadata": {},
   "outputs": [],
   "source": [
    "adata.raw = adata"
   ]
  },
  {
   "cell_type": "code",
   "execution_count": null,
   "id": "698274cf",
   "metadata": {},
   "outputs": [],
   "source": [
    "adata = adata[:, adata.var.highly_variable].copy()\n",
    "adata"
   ]
  },
  {
   "cell_type": "code",
   "execution_count": null,
   "id": "663b4b24",
   "metadata": {},
   "outputs": [],
   "source": [
    "import ray\n",
    "import hyperopt\n",
    "import scvi\n",
    "from ray import tune\n",
    "from scvi import autotune\n",
    "\n",
    "model_cls = scvi.model.SCVI\n",
    "model_cls.setup_anndata(adata, layer=\"counts\", labels_key='annotations_orig_full',\n",
    "                        batch_key='libbatch',\n",
    "                        categorical_covariate_keys=[\"sampletype\"],\n",
    "                        continuous_covariate_keys=[\"G2M_score\", \"S_score\"])\n",
    "\n",
    "scvi_tuner = autotune.ModelTuner(model_cls)\n",
    "scvi_tuner.info()"
   ]
  },
  {
   "cell_type": "code",
   "execution_count": null,
   "id": "e4e8f1f8",
   "metadata": {},
   "outputs": [],
   "source": [
    "search_space = {\n",
    "    \"n_latent\": tune.choice([10, 30, 50]),\n",
    "    \"n_hidden\": tune.choice([60, 128, 256]),\n",
    "    \"n_layers\": tune.choice([1, 2, 3]),\n",
    "    \"lr\": tune.loguniform(1e-4, 1e-2),\n",
    "    \"gene_likelihood\": tune.choice([\"nb\", \"zinb\"])\n",
    "}"
   ]
  },
  {
   "cell_type": "code",
   "execution_count": null,
   "id": "cf27fba4",
   "metadata": {},
   "outputs": [],
   "source": [
    "ray.init(log_to_driver=False)"
   ]
  },
  {
   "cell_type": "code",
   "execution_count": null,
   "id": "3ff6a561",
   "metadata": {
    "scrolled": false
   },
   "outputs": [],
   "source": [
    "results = scvi_tuner.fit(\n",
    "    adata,\n",
    "    metric=\"validation_loss\",\n",
    "    search_space=search_space,\n",
    "    searcher='hyperopt',\n",
    "    num_samples=100,\n",
    "    max_epochs=30,\n",
    "    resources={\"gpu\": 1},\n",
    ")"
   ]
  },
  {
   "cell_type": "code",
   "execution_count": null,
   "id": "d2a897a0",
   "metadata": {},
   "outputs": [],
   "source": [
    "print(results.model_kwargs)\n",
    "print(results.train_kwargs)"
   ]
  },
  {
   "cell_type": "code",
   "execution_count": null,
   "id": "20c81667",
   "metadata": {},
   "outputs": [],
   "source": [
    "best_vl = 10000\n",
    "best_i = 0\n",
    "for i, res in enumerate(results.results):\n",
    "    vl = res.metrics['validation_loss']\n",
    "\n",
    "    if vl < best_vl:\n",
    "        best_vl = vl\n",
    "        best_i = i\n",
    "        \n",
    "results.results[best_i]"
   ]
  },
  {
   "cell_type": "code",
   "execution_count": null,
   "id": "1446bf60",
   "metadata": {},
   "outputs": [],
   "source": [
    "ray.shutdown()"
   ]
  },
  {
   "cell_type": "code",
   "execution_count": null,
   "id": "b1855417",
   "metadata": {},
   "outputs": [],
   "source": [
    "import scvi\n",
    "\n",
    "scvi.model.SCVI.setup_anndata(adata,\n",
    "                              layer=\"counts\", labels_key='annotations_orig_full',\n",
    "                              batch_key='libbatch',\n",
    "                              categorical_covariate_keys=[\"sampletype\"],\n",
    "                              continuous_covariate_keys=[\"G2M_score\", \"S_score\"]\n",
    "                             )"
   ]
  },
  {
   "cell_type": "code",
   "execution_count": null,
   "id": "7e8fbdcb",
   "metadata": {},
   "outputs": [],
   "source": [
    "vae = scvi.model.SCVI(adata, n_hidden = 256, n_latent=50, n_layers=1, \n",
    "                      dropout_rate=0.1, dispersion='gene-batch',\n",
    "                      gene_likelihood='zinb')\n",
    "vae"
   ]
  },
  {
   "cell_type": "code",
   "execution_count": null,
   "id": "ca30ddf5",
   "metadata": {
    "scrolled": false
   },
   "outputs": [],
   "source": [
    "vae.view_anndata_setup(adata)"
   ]
  },
  {
   "cell_type": "code",
   "execution_count": null,
   "id": "557d0820",
   "metadata": {},
   "outputs": [],
   "source": [
    "max_epochs_scvi = np.min([round((20000 / adata.n_obs) * 400), 400])\n",
    "max_epochs_scvi"
   ]
  },
  {
   "cell_type": "code",
   "execution_count": null,
   "id": "ff20ed26",
   "metadata": {},
   "outputs": [],
   "source": [
    "%%time\n",
    "\n",
    "vae.train(max_epochs = 80, train_size = 0.9, validation_size = 0.1, \n",
    "          use_gpu=True, accelerator='gpu', \n",
    "          check_val_every_n_epoch=4,\n",
    "          early_stopping=True,\n",
    "          early_stopping_patience=5,\n",
    "          early_stopping_monitor=\"elbo_validation\",\n",
    "          plan_kwargs = {'lr': 0.0025}\n",
    "         )"
   ]
  },
  {
   "cell_type": "code",
   "execution_count": null,
   "id": "c2354b13",
   "metadata": {},
   "outputs": [],
   "source": [
    "train_test_results = vae.history[\"elbo_train\"]\n",
    "train_test_results[\"elbo_validation\"] = vae.history[\"elbo_validation\"]\n",
    "plt.show()"
   ]
  },
  {
   "cell_type": "code",
   "execution_count": null,
   "id": "e8de8e73",
   "metadata": {},
   "outputs": [],
   "source": [
    "y = vae.history['reconstruction_loss_validation']['reconstruction_loss_validation'].min()\n",
    "plt.plot(vae.history['reconstruction_loss_train']['reconstruction_loss_train'], label='train')\n",
    "plt.plot(vae.history['reconstruction_loss_validation']['reconstruction_loss_validation'], label='validation')\n",
    "plt.axhline(y, c = 'k')\n",
    "plt.legend()\n",
    "plt.show()"
   ]
  },
  {
   "cell_type": "code",
   "execution_count": null,
   "id": "45ba10c8",
   "metadata": {},
   "outputs": [],
   "source": [
    "vae.save(os.path.join(RESULTS_FOLDERNAME, \"DevAdult_LibbatchSampletype_G2MSScores_256_50_1_01_Zinb_GeneBatch/\"), overwrite=True)"
   ]
  },
  {
   "cell_type": "code",
   "execution_count": null,
   "id": "95822e1c",
   "metadata": {},
   "outputs": [],
   "source": [
    "adata.obsm[\"X_scVI\"] = vae.get_latent_representation()\n",
    "sc.pp.neighbors(adata, use_rep=\"X_scVI\", metric='correlation')\n",
    "sc.tl.umap(adata)"
   ]
  },
  {
   "cell_type": "code",
   "execution_count": null,
   "id": "0a4d220b",
   "metadata": {
    "scrolled": false
   },
   "outputs": [],
   "source": [
    "plot_umaps(adata, [\"group\", \n",
    "                   'grouptype', \n",
    "                   'megagrouptype', \n",
    "                   'age', 'libbatch', \"phase\", \n",
    "                   \"sex\", 'tendon_status', 'microanat',\n",
    "                   \"sample\", \"sampletype\"],\n",
    "           filename='scVIintegrated_fulldevadult_libbatchsampletype.svg'\n",
    "          )"
   ]
  },
  {
   "cell_type": "code",
   "execution_count": null,
   "id": "37f221c6",
   "metadata": {},
   "outputs": [],
   "source": [
    "sc.pl.umap(adata, color=['annotations_orig_full'], frameon=False)"
   ]
  },
  {
   "cell_type": "code",
   "execution_count": null,
   "id": "f08f5c5a",
   "metadata": {},
   "outputs": [],
   "source": [
    "adata.write(os.path.join(RESULTS_FOLDERNAME, 'adultdev_combined_scVI.h5ad'))"
   ]
  },
  {
   "cell_type": "code",
   "execution_count": null,
   "id": "4353cd7c",
   "metadata": {},
   "outputs": [],
   "source": [
    "all_annotations = {}\n",
    "if 'annotations_orig_full_colors' in adata.uns:\n",
    "    cell_types = adata.obs['annotations_orig_full'].cat.categories\n",
    "    colors = adata.uns['annotations_orig_full_colors']\n",
    "    print(\"Cell Types and Their Colors:\")\n",
    "    for cell_type, color in zip(cell_types, colors):\n",
    "        all_annotations[cell_type] = color\n",
    "        #print(f\"'{cell_type}': '{color}',\")\n",
    "else:\n",
    "    print(\"Color palette for 'annotations_orig' not found. Run a plot first.\")\n",
    "\n",
    "all_annotations"
   ]
  },
  {
   "cell_type": "code",
   "execution_count": null,
   "id": "5651315d",
   "metadata": {},
   "outputs": [],
   "source": [
    "group_annotations = adata.obs[adata.obs['group'] == 'Embryonic']['annotations_orig_full']\n",
    "unique_annotations = list(pd.unique(group_annotations))\n",
    "#unique_annotations = ['Skeletal Myocytes']\n",
    "highlighted_clusters = {annotation: all_annotations[annotation] for annotation in unique_annotations \n",
    "                        if annotation in all_annotations}\n",
    "unique_clusters = adata.obs['annotations_orig_full'].cat.categories\n",
    "color_palette = [highlighted_clusters.get(cluster, 'lightgray') for cluster in unique_clusters]\n",
    "sc.pl.umap(adata, color=['annotations_orig_full'], palette=color_palette, s=10, \n",
    "                frameon=False, save='_scVI_embryonicct.svg'\n",
    "          )"
   ]
  },
  {
   "cell_type": "code",
   "execution_count": null,
   "id": "cb19d585",
   "metadata": {},
   "outputs": [],
   "source": [
    "group_annotations = adata.obs[adata.obs['group'] == 'Foetal']['annotations_orig_full']\n",
    "unique_annotations = list(pd.unique(group_annotations))\n",
    "#unique_annotations = ['Skeletal Myocytes']\n",
    "highlighted_clusters = {annotation: all_annotations[annotation] for annotation in unique_annotations \n",
    "                        if annotation in all_annotations}\n",
    "unique_clusters = adata.obs['annotations_orig_full'].cat.categories\n",
    "color_palette = [highlighted_clusters.get(cluster, 'lightgray') for cluster in unique_clusters]\n",
    "sc.pl.umap(adata, color=['annotations_orig_full'], palette=color_palette, s=10,\n",
    "           frameon=False, save='_scVI_foetalct.svg'\n",
    "          )"
   ]
  },
  {
   "cell_type": "code",
   "execution_count": null,
   "id": "155ffd2a",
   "metadata": {},
   "outputs": [],
   "source": [
    "group_annotations = adata.obs[adata.obs['group'] == 'Adult']['annotations_orig_full']\n",
    "unique_annotations = list(pd.unique(group_annotations))\n",
    "#unique_annotations = ['Skeletal Myocytes']\n",
    "highlighted_clusters = {annotation: all_annotations[annotation] for annotation in unique_annotations \n",
    "                        if annotation in all_annotations}\n",
    "unique_clusters = adata.obs['annotations_orig_full'].cat.categories\n",
    "color_palette = [highlighted_clusters.get(cluster, 'lightgray') for cluster in unique_clusters]\n",
    "sc.pl.umap(adata, color=['annotations_orig_full'], palette=color_palette, s=10,\n",
    "                frameon=False, save='_scVI_adultct.svg')"
   ]
  },
  {
   "cell_type": "code",
   "execution_count": null,
   "id": "7feeb1b7",
   "metadata": {},
   "outputs": [],
   "source": [
    "lvae = scvi.model.SCANVI.from_scvi_model(\n",
    "    vae,\n",
    "    adata=adata,\n",
    "    labels_key=\"annotations_orig_full\",\n",
    "    unlabeled_category=\"Unknown\",\n",
    ")"
   ]
  },
  {
   "cell_type": "code",
   "execution_count": null,
   "id": "1542c04d",
   "metadata": {},
   "outputs": [],
   "source": [
    "lvae.train(max_epochs=10, train_size = 0.9, validation_size = 0.1, \n",
    "          use_gpu=True, accelerator='gpu', \n",
    "          check_val_every_n_epoch=1,\n",
    "          early_stopping=True,\n",
    "          early_stopping_patience=2,\n",
    "          early_stopping_monitor=\"elbo_validation\")"
   ]
  },
  {
   "cell_type": "code",
   "execution_count": null,
   "id": "6cc56ec9",
   "metadata": {},
   "outputs": [],
   "source": [
    "y = lvae.history['reconstruction_loss_validation']['reconstruction_loss_validation'].min()\n",
    "plt.plot(lvae.history['reconstruction_loss_train']['reconstruction_loss_train'], label='train')\n",
    "plt.plot(lvae.history['reconstruction_loss_validation']['reconstruction_loss_validation'], label='validation')\n",
    "plt.axhline(y, c = 'k')\n",
    "plt.legend()\n",
    "plt.show()"
   ]
  },
  {
   "cell_type": "code",
   "execution_count": null,
   "id": "78686e4c",
   "metadata": {},
   "outputs": [],
   "source": [
    "adata.obs[\"C_scANVI\"] = lvae.predict(adata)\n",
    "adata.obsm[\"X_scANVI\"] = lvae.get_latent_representation(adata)"
   ]
  },
  {
   "cell_type": "code",
   "execution_count": null,
   "id": "c945dc0e",
   "metadata": {
    "scrolled": false
   },
   "outputs": [],
   "source": [
    "sc.pp.neighbors(adata, use_rep=\"X_scANVI\", metric='correlation')\n",
    "sc.tl.umap(adata)\n",
    "plot_umaps(adata, [\"group\", \n",
    "                   'grouptype', \n",
    "                   'megagrouptype', \n",
    "                   'age', 'libbatch', \"phase\", \n",
    "                   \"sex\", 'tendon_status', 'microanat',\n",
    "                   \"sampletype\"],\n",
    "           filename='scANVIintegrated_fulldevadult_libbatchsampletype.svg'\n",
    "          )"
   ]
  },
  {
   "cell_type": "code",
   "execution_count": null,
   "id": "b980614d",
   "metadata": {},
   "outputs": [],
   "source": [
    "group_annotations = adata.obs[adata.obs['group'] == 'Embryonic']['annotations_orig_full']\n",
    "unique_annotations = list(pd.unique(group_annotations))\n",
    "#unique_annotations = ['Skeletal Myocytes']\n",
    "highlighted_clusters = {annotation: all_annotations[annotation] for annotation in unique_annotations \n",
    "                        if annotation in all_annotations}\n",
    "unique_clusters = adata.obs['annotations_orig_full'].cat.categories\n",
    "color_palette = [highlighted_clusters.get(cluster, 'lightgray') for cluster in unique_clusters]\n",
    "sc.pl.umap(adata, color=['annotations_orig_full'], palette=color_palette, s=10, \n",
    "                frameon=False, save='_scANVI_embryonicct.svg'\n",
    "          )"
   ]
  },
  {
   "cell_type": "code",
   "execution_count": null,
   "id": "462c9c6a",
   "metadata": {},
   "outputs": [],
   "source": [
    "group_annotations = adata.obs[adata.obs['group'] == 'Foetal']['annotations_orig_full']\n",
    "unique_annotations = list(pd.unique(group_annotations))\n",
    "#unique_annotations = ['Skeletal Myocytes']\n",
    "highlighted_clusters = {annotation: all_annotations[annotation] for annotation in unique_annotations \n",
    "                        if annotation in all_annotations}\n",
    "unique_clusters = adata.obs['annotations_orig_full'].cat.categories\n",
    "color_palette = [highlighted_clusters.get(cluster, 'lightgray') for cluster in unique_clusters]\n",
    "sc.pl.umap(adata, color=['annotations_orig_full'], palette=color_palette, s=10, \n",
    "                frameon=False, save='_scANVI_foetalct.svg'\n",
    "          )"
   ]
  },
  {
   "cell_type": "code",
   "execution_count": null,
   "id": "8bdc7101",
   "metadata": {},
   "outputs": [],
   "source": [
    "sc.pl.umap(adata, color=['annotations_orig_full'], palette=color_palette, s=10, \n",
    "           legend_loc='on data', legend_fontsize=3,\n",
    "           frameon=False, save='_scANVI_foetalct_annotated.svg'\n",
    "          )"
   ]
  },
  {
   "cell_type": "code",
   "execution_count": null,
   "id": "0d663ef2",
   "metadata": {},
   "outputs": [],
   "source": [
    "sc.pl.umap(adata, color=['tendon_status'], palette=color_palette, s=10, \n",
    "           legend_loc='on data', legend_fontsize=3,\n",
    "           frameon=False, \n",
    "          )"
   ]
  },
  {
   "cell_type": "code",
   "execution_count": null,
   "id": "fe9f7926",
   "metadata": {},
   "outputs": [],
   "source": [
    "group_annotations = adata.obs[adata.obs['group'] == 'Adult']['annotations_orig_full']\n",
    "unique_annotations = list(pd.unique(group_annotations))\n",
    "#unique_annotations = ['Skeletal Myocytes']\n",
    "highlighted_clusters = {annotation: all_annotations[annotation] for annotation in unique_annotations \n",
    "                        if annotation in all_annotations}\n",
    "unique_clusters = adata.obs['annotations_orig_full'].cat.categories\n",
    "color_palette = [highlighted_clusters.get(cluster, 'lightgray') for cluster in unique_clusters]\n",
    "sc.pl.umap(adata, color=['annotations_orig_full'], palette=color_palette, s=10, \n",
    "                frameon=False, save='_scANVI_adultct.svg'\n",
    "          )"
   ]
  },
  {
   "cell_type": "code",
   "execution_count": null,
   "id": "9fa40978",
   "metadata": {},
   "outputs": [],
   "source": [
    "df = adata.obs.groupby([\"annotations_orig_full\", \"C_scANVI\"]).size().unstack(fill_value=0)\n",
    "conf_mat = df / df.sum(axis=1).values[:, np.newaxis]\n",
    "\n",
    "plt.figure(figsize=(8, 8))\n",
    "plt.pcolormesh(conf_mat, edgecolors='k', linewidths=0.5, cmap='viridis')\n",
    "plt.xticks(np.arange(0.5, len(df.columns), 1), df.columns, rotation=90)\n",
    "plt.yticks(np.arange(0.5, len(df.index), 1), df.index)\n",
    "plt.grid(False)\n",
    "plt.xlabel(\"Predicted\")\n",
    "plt.ylabel(\"Observed\")\n",
    "# Add colorbar for better interpretation of the plot\n",
    "plt.colorbar(label='Proportion')\n",
    "savesvg('scANVI_prediction_matrix.svg', plt)\n",
    "plt.show()"
   ]
  },
  {
   "cell_type": "code",
   "execution_count": null,
   "id": "cfdbd25f",
   "metadata": {},
   "outputs": [],
   "source": [
    "sc.pl.umap(adata, color=['C_scANVI'], frameon=False, save='_scANVI_predicted.svg')"
   ]
  },
  {
   "cell_type": "code",
   "execution_count": null,
   "id": "629e140d",
   "metadata": {},
   "outputs": [],
   "source": [
    "sc.pl.umap(adata, color=['ageint'], frameon=False, save='_scANVI_ageint.svg')"
   ]
  },
  {
   "cell_type": "code",
   "execution_count": null,
   "id": "4851879d",
   "metadata": {},
   "outputs": [],
   "source": [
    "group_annotations = adata.obs['annotations_orig_full']\n",
    "unique_annotations = list(pd.unique(group_annotations))\n",
    "#unique_annotations = ['Skeletal Myocytes']\n",
    "highlighted_clusters = {annotation: all_annotations[annotation] for annotation in unique_annotations \n",
    "                        if annotation in all_annotations}\n",
    "unique_clusters = adata.obs['annotations_orig_full'].cat.categories\n",
    "color_palette = [highlighted_clusters.get(cluster, 'lightgray') for cluster in unique_clusters]"
   ]
  },
  {
   "cell_type": "code",
   "execution_count": null,
   "id": "9a9cc233",
   "metadata": {},
   "outputs": [],
   "source": [
    "sc.pl.umap(adata, color=['annotations_orig_full'], palette=color_palette, frameon=False)"
   ]
  },
  {
   "cell_type": "code",
   "execution_count": null,
   "id": "facde701",
   "metadata": {},
   "outputs": [],
   "source": [
    "adata.write(os.path.join(RESULTS_FOLDERNAME, 'adultdev_combined_scANVI.h5ad'))"
   ]
  },
  {
   "cell_type": "code",
   "execution_count": null,
   "id": "9ba5145f",
   "metadata": {},
   "outputs": [],
   "source": [
    "adata = sc.read_h5ad(os.path.join(RESULTS_FOLDERNAME, 'adultdev_combined_scANVI.h5ad'))\n",
    "adata"
   ]
  },
  {
   "cell_type": "code",
   "execution_count": null,
   "id": "236395cd",
   "metadata": {},
   "outputs": [],
   "source": [
    "print(adata.X[0:10,0:10])"
   ]
  },
  {
   "cell_type": "code",
   "execution_count": null,
   "id": "d91e264d",
   "metadata": {},
   "outputs": [],
   "source": [
    "plt.figure(figsize=(30, 35))\n",
    "sc.tl.dendrogram(adata, 'annotations_orig_full', use_rep='X_scANVI')\n",
    "ax_list = sc.pl.correlation_matrix(adata, 'annotations_orig_full', cmap='PuOr_r', show=False)\n",
    "for ax in ax_list:\n",
    "    ax.grid(False)\n",
    "plt.savefig(os.path.join(FIGURES_FOLDERNAME,'annotation_correlation.svg'), bbox_inches='tight')\n",
    "plt.show()"
   ]
  },
  {
   "cell_type": "code",
   "execution_count": null,
   "id": "80e8cbd4",
   "metadata": {},
   "outputs": [],
   "source": [
    "plt.figure(figsize=(10, 15))\n",
    "sc.tl.dendrogram(adata, 'megagrouptype', use_rep='X_scANVI')\n",
    "ax_list = sc.pl.correlation_matrix(adata, 'megagrouptype', cmap='PuOr_r', show=False)\n",
    "for ax in ax_list:\n",
    "    ax.grid(False)\n",
    "plt.savefig(os.path.join(FIGURES_FOLDERNAME,'megagrouptype_correlation.svg'), bbox_inches='tight')\n",
    "plt.show()"
   ]
  },
  {
   "cell_type": "code",
   "execution_count": null,
   "id": "8e57facf",
   "metadata": {},
   "outputs": [],
   "source": [
    "adata.obs[['age', 'tendon_status']].value_counts()"
   ]
  },
  {
   "cell_type": "code",
   "execution_count": null,
   "id": "627dbd62",
   "metadata": {},
   "outputs": [],
   "source": [
    "plt.figure(figsize=(15, 20))\n",
    "sc.tl.dendrogram(adata, 'age', use_rep='X_scANVI')\n",
    "ax_list = sc.pl.correlation_matrix(adata, 'age', cmap='PuOr_r', show=False)\n",
    "for ax in ax_list:\n",
    "    ax.grid(False)\n",
    "plt.savefig(os.path.join(FIGURES_FOLDERNAME,'age_correlation.svg'), bbox_inches='tight')\n",
    "plt.show()"
   ]
  },
  {
   "cell_type": "code",
   "execution_count": null,
   "id": "3ad5b274",
   "metadata": {},
   "outputs": [],
   "source": [
    "sc.pl.violin(adata, 'TPPP3', groupby='age', \n",
    "             use_raw=False, layer='log1p_norm',\n",
    "             rotation=90)"
   ]
  },
  {
   "cell_type": "markdown",
   "id": "674c5d5a",
   "metadata": {},
   "source": [
    "# Extra"
   ]
  },
  {
   "cell_type": "code",
   "execution_count": null,
   "id": "c1386c90",
   "metadata": {},
   "outputs": [],
   "source": [
    "import scgen\n",
    "\n",
    "adata.X = adata.layers['log1p_norm'].copy()\n",
    "print(adata.X[0:5,0:5])"
   ]
  },
  {
   "cell_type": "code",
   "execution_count": null,
   "id": "b1e3ca92",
   "metadata": {},
   "outputs": [],
   "source": [
    "adata.X.max()"
   ]
  },
  {
   "cell_type": "code",
   "execution_count": null,
   "id": "f3cc518b",
   "metadata": {
    "scrolled": false
   },
   "outputs": [],
   "source": [
    "scgen.SCGEN.setup_anndata(adata, \n",
    "                          batch_key=\"sampletype\",\n",
    "                          labels_key=\"annotations_orig_full\")\n",
    "\n",
    "model = scgen.SCGEN(adata)\n",
    "model.view_anndata_setup()"
   ]
  },
  {
   "cell_type": "code",
   "execution_count": null,
   "id": "e95ddc06",
   "metadata": {},
   "outputs": [],
   "source": [
    "model.train(\n",
    "    max_epochs=100,\n",
    "    use_gpu=True,\n",
    "    batch_size=100,\n",
    "    early_stopping=True,\n",
    "    early_stopping_patience=50,\n",
    ")"
   ]
  },
  {
   "cell_type": "code",
   "execution_count": null,
   "id": "14c72ab8",
   "metadata": {},
   "outputs": [],
   "source": [
    "y = model.history['reconstruction_loss_validation']['reconstruction_loss_validation'].min()\n",
    "plt.plot(model.history['reconstruction_loss_train']['reconstruction_loss_train'], label='train')\n",
    "plt.plot(model.history['reconstruction_loss_validation']['reconstruction_loss_validation'], label='validation')\n",
    "plt.axhline(y, c = 'k')\n",
    "plt.legend()\n",
    "plt.show()"
   ]
  },
  {
   "cell_type": "code",
   "execution_count": null,
   "id": "670623cc",
   "metadata": {},
   "outputs": [],
   "source": [
    "corrected_adata = model.batch_removal()\n",
    "corrected_adata"
   ]
  },
  {
   "cell_type": "code",
   "execution_count": null,
   "id": "671420c2",
   "metadata": {},
   "outputs": [],
   "source": [
    "print(corrected_adata.X[0:5, 0:5])"
   ]
  },
  {
   "cell_type": "code",
   "execution_count": null,
   "id": "249ba39f",
   "metadata": {},
   "outputs": [],
   "source": [
    "corrected_adata.layers['scgen_corrected'] = corrected_adata.X.copy()"
   ]
  },
  {
   "cell_type": "code",
   "execution_count": null,
   "id": "b776a23f",
   "metadata": {},
   "outputs": [],
   "source": [
    "sc.pp.neighbors(corrected_adata, n_neighbors=20, use_rep='corrected_latent')\n",
    "sc.tl.umap(corrected_adata)\n",
    "sc.pl.umap(corrected_adata,\n",
    "           color=['libbatch', 'group', 'phase', 'ageint', 'annotations_orig'], \n",
    "           ncols=2, wspace=0.4, frameon=False,\n",
    "          save='scgen_correctedcounts_integrated_sampletype.svg'\n",
    "          )"
   ]
  },
  {
   "cell_type": "code",
   "execution_count": null,
   "id": "8946515f",
   "metadata": {},
   "outputs": [],
   "source": [
    "sc.pl.umap(corrected_adata,\n",
    "           color=['sampletype'], frameon=False)"
   ]
  },
  {
   "cell_type": "code",
   "execution_count": null,
   "id": "810035d2",
   "metadata": {},
   "outputs": [],
   "source": [
    "corrected_adata.write(os.path.join(RESULTS_FOLDERNAME, 'devadult_scGen_sampletype.h5ad'))"
   ]
  },
  {
   "cell_type": "code",
   "execution_count": null,
   "id": "6e77eeda",
   "metadata": {},
   "outputs": [],
   "source": []
  },
  {
   "cell_type": "code",
   "execution_count": null,
   "id": "db9f3e78",
   "metadata": {},
   "outputs": [],
   "source": [
    "import scranPY\n",
    "\n",
    "adata.X = adata.X.toarray()\n",
    "adata.X = adata.X.astype(np.float64)\n",
    "\n",
    "scranPY.compute_sum_factors(adata, clusters=None, parallelize=True, algorithm='CVXPY', sizes=np.arange(21, 102, 5), \n",
    "   max_size=3000, min_mean=None, plotting=True, lower_bound=0.1, normalize_counts=False, log1p=False, layer='scranPY', \n",
    "   save_plots_dir=FIGURES_FOLDERNAME, stopwatch=True)\n",
    "\n",
    "scran = adata.X / adata.obs[\"size_factors\"].values[:, None]\n",
    "adata.layers[\"scranPY\"] = csr_matrix(sc.pp.log1p(scran))\n",
    "adata.X = adata.layers['counts'].copy()\n",
    "\n",
    "print(adata.X[0:10, 0:10])\n",
    "print(adata.layers[\"scranPY\"][0:10, 0:10])"
   ]
  }
 ],
 "metadata": {
  "kernelspec": {
   "display_name": "Python [conda env:scvi-env]",
   "language": "python",
   "name": "conda-env-scvi-env-py"
  },
  "language_info": {
   "codemirror_mode": {
    "name": "ipython",
    "version": 3
   },
   "file_extension": ".py",
   "mimetype": "text/x-python",
   "name": "python",
   "nbconvert_exporter": "python",
   "pygments_lexer": "ipython3",
   "version": "3.9.16"
  }
 },
 "nbformat": 4,
 "nbformat_minor": 5
}
