{
 "cells": [
  {
   "cell_type": "code",
   "execution_count": null,
   "id": "f2beff7d",
   "metadata": {},
   "outputs": [],
   "source": [
    "import warnings\n",
    "\n",
    "warnings.filterwarnings(\"ignore\")\n",
    "\n",
    "import os\n",
    "import matplotlib.pyplot as plt\n",
    "import seaborn as sns\n",
    "import scanpy as sc\n",
    "import pandas as pd\n",
    "import numpy as np\n",
    "import random\n",
    "import sc_toolbox\n",
    "\n",
    "import rpy2.rinterface_lib.callbacks\n",
    "import anndata2ri\n",
    "import logging\n",
    "\n",
    "from rpy2.robjects import pandas2ri\n",
    "from rpy2.robjects import r\n",
    "\n",
    "sc.settings.verbosity = 0\n",
    "rpy2.rinterface_lib.callbacks.logger.setLevel(logging.ERROR)\n",
    "\n",
    "pandas2ri.activate()\n",
    "anndata2ri.activate()\n",
    "\n",
    "%load_ext rpy2.ipython\n",
    "\n",
    "# Initialize random seed\n",
    "import random\n",
    "random.seed(111)\n",
    "\n",
    "# set a working directory\n",
    "# wdir = \"/ceph/project/tendonhca/akurjan/analysis/\"\n",
    "wdir = \"/mnt/da8aa2c4-0136-465b-87a2-d12a59afec55/akurjan/analysis/notebooks\"\n",
    "os.chdir( wdir )\n",
    "\n",
    "# folder structures\n",
    "SCVI_FOLDERNAME = \"foetal/results/scVI/\"\n",
    "RESULTS_FOLDERNAME = \"foetal/results/DGE/\"\n",
    "FIGURES_FOLDERNAME = \"foetal/figures/DGE/\"\n",
    "\n",
    "if not os.path.exists(RESULTS_FOLDERNAME):\n",
    "    os.makedirs(RESULTS_FOLDERNAME)\n",
    "if not os.path.exists(FIGURES_FOLDERNAME):\n",
    "    os.makedirs(FIGURES_FOLDERNAME)\n",
    "\n",
    "# Set folder for saving figures into\n",
    "sc.settings.figdir = FIGURES_FOLDERNAME\n",
    "\n",
    "# Print date and time:\n",
    "import datetime\n",
    "e = datetime.datetime.now()\n",
    "print (\"Current date and time = %s\" % e)\n",
    "\n",
    "# Set other settings\n",
    "sc.settings.verbosity = 3 # verbosity: errors (0), warnings (1), info (2), hints (3)\n",
    "sc.logging.print_versions()\n",
    "sc.set_figure_params(dpi=150, fontsize=10, dpi_save=600)"
   ]
  },
  {
   "cell_type": "code",
   "execution_count": null,
   "id": "3a6a25b5",
   "metadata": {},
   "outputs": [],
   "source": [
    "%%R\n",
    "#BiocManager::install(\"edgeR\")\n",
    "library(edgeR)\n",
    "#library(MAST)"
   ]
  },
  {
   "cell_type": "markdown",
   "id": "39d143cc",
   "metadata": {},
   "source": [
    "# Pseudobulk Data Preparation"
   ]
  },
  {
   "cell_type": "code",
   "execution_count": null,
   "id": "d085241d",
   "metadata": {},
   "outputs": [],
   "source": [
    "adata = sc.read_h5ad(os.path.join(SCVI_FOLDERNAME, 'dev_scANVI.h5ad'))\n",
    "adata"
   ]
  },
  {
   "cell_type": "code",
   "execution_count": null,
   "id": "31ee4dd4",
   "metadata": {},
   "outputs": [],
   "source": [
    "np.max(adata.layers['counts'])"
   ]
  },
  {
   "cell_type": "code",
   "execution_count": null,
   "id": "7a92e009",
   "metadata": {},
   "outputs": [],
   "source": [
    "np.max(adata.X)"
   ]
  },
  {
   "cell_type": "code",
   "execution_count": null,
   "id": "5dfc73e5",
   "metadata": {},
   "outputs": [],
   "source": [
    "adata.X = adata.layers['log1p_norm'].copy()\n",
    "np.max(adata.X)"
   ]
  },
  {
   "cell_type": "code",
   "execution_count": null,
   "id": "6b300181",
   "metadata": {},
   "outputs": [],
   "source": [
    "print(len(adata[adata.obs[\"age\"] == \"12w\"].obs[\"sampletype\"].cat.categories))\n",
    "print(len(adata[adata.obs[\"age\"] == \"17w\"].obs[\"sampletype\"].cat.categories))\n",
    "print(len(adata[adata.obs[\"age\"] == \"20w\"].obs[\"sampletype\"].cat.categories))"
   ]
  },
  {
   "cell_type": "code",
   "execution_count": null,
   "id": "9777e9e0",
   "metadata": {},
   "outputs": [],
   "source": [
    "sc.pp.filter_cells(adata, min_genes=200)\n",
    "sc.pp.filter_genes(adata, min_cells=3)\n",
    "adata"
   ]
  },
  {
   "cell_type": "code",
   "execution_count": null,
   "id": "539a0530",
   "metadata": {},
   "outputs": [],
   "source": [
    "adata.obs[\"bulksample\"] = [\n",
    "    f\"{rep}_{l}\" for rep, l in zip(adata.obs[\"sampletype\"], adata.obs[\"age\"])\n",
    "]"
   ]
  },
  {
   "cell_type": "code",
   "execution_count": null,
   "id": "119ed6c5",
   "metadata": {},
   "outputs": [],
   "source": [
    "adata.obs[\"bulksample\"] "
   ]
  },
  {
   "cell_type": "code",
   "execution_count": null,
   "id": "fae7b12f",
   "metadata": {},
   "outputs": [],
   "source": [
    "adata.obs[\"C_scANVI\"] = [ct.replace(\" \", \"_\") for ct in adata.obs[\"C_scANVI\"]]\n",
    "adata.obs[\"C_scANVI\"] = [ct.replace(\"+\", \"\") for ct in adata.obs[\"C_scANVI\"]]\n",
    "adata.obs[\"C_scANVI\"]"
   ]
  },
  {
   "cell_type": "code",
   "execution_count": null,
   "id": "9a77d1a5",
   "metadata": {},
   "outputs": [],
   "source": [
    "adata.obs[\"sampletype\"] = adata.obs[\"sampletype\"].astype(\"category\")\n",
    "adata.obs[\"age\"] = adata.obs[\"age\"].astype(\"category\")\n",
    "adata.obs[\"bulksample\"] = adata.obs[\"bulksample\"].astype(\"category\")\n",
    "adata.obs[\"C_scANVI\"] = adata.obs[\"C_scANVI\"].astype(\"category\")"
   ]
  },
  {
   "cell_type": "code",
   "execution_count": null,
   "id": "29455192",
   "metadata": {},
   "outputs": [],
   "source": [
    "adata.obs[\"C_scANVI\"].value_counts()"
   ]
  },
  {
   "cell_type": "code",
   "execution_count": null,
   "id": "71570a25",
   "metadata": {},
   "outputs": [],
   "source": [
    "NUM_OF_CELL_PER_DONOR = 30 # to filter out donors with less than that amount of cells\n",
    "\n",
    "\n",
    "def aggregate_and_filter(\n",
    "    adata,\n",
    "    cell_identity,\n",
    "    donor_key=\"bulksample\",\n",
    "    condition_key=\"age\",\n",
    "    cell_identity_key=\"C_scANVI\",\n",
    "    obs_to_keep=[],  # which additional metadata to keep, e.g. gender, age, etc.\n",
    "    replicates_per_patient=1,\n",
    "):\n",
    "    # subset adata to the given cell identity\n",
    "    adata_cell_pop = adata[adata.obs[cell_identity_key] == cell_identity].copy()\n",
    "    # check which donors to keep according to the number of cells specified with NUM_OF_CELL_PER_DONOR\n",
    "    size_by_donor = adata_cell_pop.obs.groupby([donor_key]).size()\n",
    "    donors_to_drop = [\n",
    "        donor\n",
    "        for donor in size_by_donor.index\n",
    "        if size_by_donor[donor] <= NUM_OF_CELL_PER_DONOR\n",
    "    ]\n",
    "    if len(donors_to_drop) > 0:\n",
    "        print(\"Dropping the following samples:\")\n",
    "        print(donors_to_drop)\n",
    "    df = pd.DataFrame(columns=[*adata_cell_pop.var_names, *obs_to_keep])\n",
    "\n",
    "    adata_cell_pop.obs[donor_key] = adata_cell_pop.obs[donor_key].astype(\"category\")\n",
    "    donors = adata_cell_pop.obs[donor_key].cat.categories\n",
    "    for i, donor in enumerate(donors):\n",
    "    #for i, donor in enumerate(donors := adata_cell_pop.obs[donor_key].cat.categories): - can't use walrus operator here\n",
    "        print(f\"\\tProcessing donor {i+1} out of {len(donors)}...\", end=\"\\r\")\n",
    "        if donor not in donors_to_drop:\n",
    "            adata_donor = adata_cell_pop[adata_cell_pop.obs[donor_key] == donor]\n",
    "            # create replicates for each donor\n",
    "            indices = list(adata_donor.obs_names)\n",
    "            random.shuffle(indices)\n",
    "            indices = np.array_split(np.array(indices), replicates_per_patient)\n",
    "            for i, rep_idx in enumerate(indices):\n",
    "                adata_replicate = adata_donor[rep_idx]\n",
    "                # specify how to aggregate: sum gene expression for each gene for each donor and also keep the condition information\n",
    "                agg_dict = {gene: \"sum\" for gene in adata_replicate.var_names}\n",
    "                for obs in obs_to_keep:\n",
    "                    agg_dict[obs] = \"first\"\n",
    "                # create a df with all genes, donor and condition info\n",
    "                df_donor = pd.DataFrame(adata_replicate.X.A)\n",
    "                df_donor.index = adata_replicate.obs_names\n",
    "                df_donor.columns = adata_replicate.var_names\n",
    "                df_donor = df_donor.join(adata_replicate.obs[obs_to_keep])\n",
    "                # aggregate\n",
    "                df_donor = df_donor.groupby(donor_key).agg(agg_dict)\n",
    "                df_donor[donor_key] = donor\n",
    "                df.loc[f\"donor_{donor}_{i}\"] = df_donor.loc[donor]\n",
    "    print(\"\\n\")\n",
    "    # create AnnData object from the df\n",
    "    adata_cell_pop = sc.AnnData(\n",
    "        df[adata_cell_pop.var_names], obs=df.drop(columns=adata_cell_pop.var_names)\n",
    "    )\n",
    "    return adata_cell_pop"
   ]
  },
  {
   "cell_type": "code",
   "execution_count": null,
   "id": "e9fe15d1",
   "metadata": {},
   "outputs": [],
   "source": [
    "obs_to_keep = [\"age\", \"C_scANVI\", \"bulksample\", \"sex\", \"type\", \"sample\", \"libbatch\", \"sampletype\"]"
   ]
  },
  {
   "cell_type": "code",
   "execution_count": null,
   "id": "f6ef1fe9",
   "metadata": {},
   "outputs": [],
   "source": [
    "adata.X = adata.layers[\"counts\"].copy()"
   ]
  },
  {
   "cell_type": "code",
   "execution_count": null,
   "id": "492f57fb",
   "metadata": {},
   "outputs": [],
   "source": [
    "# process first cell type separately...\n",
    "cell_type = adata.obs[\"C_scANVI\"].cat.categories[0]\n",
    "print(\n",
    "    f'Processing {cell_type} (1 out of {len(adata.obs[\"C_scANVI\"].cat.categories)})...'\n",
    ")\n",
    "\n",
    "adata_pb = aggregate_and_filter(adata, cell_type, obs_to_keep=obs_to_keep)\n",
    "for i, cell_type in enumerate(adata.obs[\"C_scANVI\"].cat.categories[1:]):\n",
    "    print(\n",
    "        f'Processing {cell_type} ({i+2} out of {len(adata.obs[\"C_scANVI\"].cat.categories)})...'\n",
    "    )\n",
    "    adata_cell_type = aggregate_and_filter(adata, cell_type, obs_to_keep=obs_to_keep)\n",
    "    adata_pb = adata_pb.concatenate(adata_cell_type)"
   ]
  },
  {
   "cell_type": "code",
   "execution_count": null,
   "id": "6cd8a775",
   "metadata": {},
   "outputs": [],
   "source": [
    "adata_pb.layers['counts'] = adata_pb.X.copy()"
   ]
  },
  {
   "cell_type": "code",
   "execution_count": null,
   "id": "d37cda52",
   "metadata": {},
   "outputs": [],
   "source": [
    "sc.pp.normalize_total(adata_pb, target_sum=1e6)\n",
    "sc.pp.log1p(adata_pb)\n",
    "sc.pp.pca(adata_pb)"
   ]
  },
  {
   "cell_type": "code",
   "execution_count": null,
   "id": "93cbbc2e",
   "metadata": {
    "scrolled": false
   },
   "outputs": [],
   "source": [
    "adata_pb.obs[\"lib_size\"] = np.sum(adata_pb.layers[\"counts\"], axis=1)\n",
    "adata_pb.obs[\"log_lib_size\"] = np.log(adata_pb.obs[\"lib_size\"])\n",
    "sc.pl.pca(adata_pb, color=adata_pb.obs, ncols=1, size=300, save='dev_dge_pca.svg')"
   ]
  },
  {
   "cell_type": "code",
   "execution_count": null,
   "id": "4215db7b",
   "metadata": {},
   "outputs": [],
   "source": [
    "adata_pb.obs_names = [\n",
    "    name.split(\"_\")[1] + \"_\" + name.split(\"_\")[2] + \"_\" + name.split(\"_\")[3] for name in adata_pb.obs_names\n",
    "]"
   ]
  },
  {
   "cell_type": "code",
   "execution_count": null,
   "id": "a65cf463",
   "metadata": {},
   "outputs": [],
   "source": [
    "adata_pb.obs"
   ]
  },
  {
   "cell_type": "code",
   "execution_count": null,
   "id": "55f3415b",
   "metadata": {},
   "outputs": [],
   "source": [
    "adata_pb.var"
   ]
  },
  {
   "cell_type": "code",
   "execution_count": null,
   "id": "d346bbc1",
   "metadata": {},
   "outputs": [],
   "source": [
    "%%R\n",
    "fit_model <- function(adata_){\n",
    "    # create an edgeR object with counts and grouping factor (condition)\n",
    "    y <- DGEList(assay(adata_, \"X\"), group = colData(adata_)$age)\n",
    "    # filter out genes with low counts\n",
    "    print(\"Dimensions before subsetting:\")\n",
    "    print(dim(y))\n",
    "    print(\"\")\n",
    "    keep <- filterByExpr(y)\n",
    "    y <- y[keep, , keep.lib.sizes=FALSE]\n",
    "    print(\"Dimensions after subsetting:\")\n",
    "    print(dim(y))\n",
    "    print(\"\")\n",
    "    # normalize\n",
    "    y <- calcNormFactors(y)\n",
    "    # create a vector that is concatentation of condition and cell type that we will later use with contrasts\n",
    "    group <- paste0(colData(adata_)$age, \".\", colData(adata_)$C_scANVI)\n",
    "    replicate <- colData(adata_)$sampletype\n",
    "    #batch <- colData(adata_)$libbatch\n",
    "    # create a design matrix: here we have multiple donors so also consider that in the design matrix\n",
    "    design <- model.matrix(~ 0 + group + replicate)\n",
    "    # estimate dispersion\n",
    "    y <- estimateDisp(y, design = design)\n",
    "    # fit the model\n",
    "    fit <- glmQLFit(y, design)\n",
    "    return(list(\"fit\"=fit, \"design\"=design, \"y\"=y))\n",
    "}"
   ]
  },
  {
   "cell_type": "code",
   "execution_count": null,
   "id": "a382b59b",
   "metadata": {},
   "outputs": [],
   "source": [
    "import rpy2.robjects as robjects\n",
    "from rpy2.robjects.packages import importr\n",
    "from rpy2.robjects import pandas2ri\n",
    "\n",
    "#adata_mono_r = robjects.conversion.py2rpy(adata_mono)\n",
    "\n",
    "robjects.globalenv['adata_pb'] = adata_pb\n",
    "robjects.r('set.seed(123)')\n",
    "robjects.r('library(\"edgeR\")')\n",
    "robjects.r('y <- DGEList(assay(adata_pb, \"X\"), group = colData(adata_pb)$age)')\n",
    "robjects.r('print(\"Dimensions before subsetting:\")')\n",
    "robjects.r('print(dim(y))')\n",
    "robjects.r('print(\"\")')\n",
    "robjects.r('keep <- filterByExpr(y, min.count = 5, min.total.count = 15)') \n",
    "# min.count is the minimum count threshold for a gene to be considered expressed in a sample.\n",
    "# min.total.count is the minimum total count threshold for a gene to be considered expressed across all samples.\n",
    "robjects.r('y <- y[keep, , keep.lib.sizes=FALSE]')\n",
    "robjects.r('print(\"Dimensions after subsetting:\")')\n",
    "robjects.r('print(dim(y))')\n",
    "robjects.r('print(\"\")')\n",
    "robjects.r('y <- calcNormFactors(y)')\n",
    "robjects.r('group <- paste0(colData(adata_pb)$age, \".\", colData(adata_pb)$C_scANVI)')\n",
    "robjects.r('replicate <- colData(adata_pb)$sampletype')\n",
    "robjects.r('design <- model.matrix(~ 0 + group + replicate)')  \n",
    "robjects.r('design <- subset(design, select = -c(replicateDEV16136_Quad, replicateDEV16569_Quad))')\n",
    "#robjects.r('print(colnames(design))')\n",
    "robjects.r('y <- estimateDisp(y, design = design)')\n",
    "robjects.r('fit <- glmQLFit(y, design)')\n",
    "robjects.r('fit <- glmQLFit(y, design)')\n",
    "robjects.r('outs <- list(\"fit\"=fit, \"design\"=design, \"y\"=y)')"
   ]
  },
  {
   "cell_type": "code",
   "execution_count": null,
   "id": "2a27b2af",
   "metadata": {},
   "outputs": [],
   "source": [
    "%%R \n",
    "y$samples"
   ]
  },
  {
   "cell_type": "code",
   "execution_count": null,
   "id": "bb5b1578",
   "metadata": {},
   "outputs": [],
   "source": [
    "%%R\n",
    "plotMDS(y, col=ifelse(y$samples$group == \"20w\", \"red\", \"blue\"))"
   ]
  },
  {
   "cell_type": "code",
   "execution_count": null,
   "id": "4024aeff",
   "metadata": {},
   "outputs": [],
   "source": [
    "%%R\n",
    "plotBCV(y)"
   ]
  },
  {
   "cell_type": "code",
   "execution_count": null,
   "id": "0b005a6a",
   "metadata": {},
   "outputs": [],
   "source": [
    "%%R\n",
    "\n",
    "colnames(y$design)"
   ]
  },
  {
   "cell_type": "code",
   "execution_count": null,
   "id": "f92c2b9e",
   "metadata": {},
   "outputs": [],
   "source": [
    "%%R\n",
    "# Search for positions of the three group names\n",
    "positions <- grep(pattern = \"group(12|17|20)w\\\\.White_*\", x = colnames(y$design))\n",
    "\n",
    "# Print the positions\n",
    "print(positions)"
   ]
  },
  {
   "cell_type": "code",
   "execution_count": null,
   "id": "811bfa18",
   "metadata": {},
   "outputs": [],
   "source": [
    "%%R\n",
    "# Create a vector with the new names for the three variables\n",
    "new_names <- c(\"group12w.White_Blood_Cells\", \"group17w.White_Blood_Cells\", \"group20w.White_Blood_Cells\")\n",
    "\n",
    "# Rename the variables in y$design\n",
    "colnames(y$design)[c(13, 26, 38)] <- new_names"
   ]
  },
  {
   "cell_type": "code",
   "execution_count": null,
   "id": "73e26a40",
   "metadata": {},
   "outputs": [],
   "source": [
    "adata_pb.obs['C_scANVI'] = adata_pb.obs['C_scANVI'].replace('White_‘Blood_Cells', 'White_Blood_Cells')\n",
    "\n",
    "# check if the replacement is successful\n",
    "print(adata_pb.obs['C_scANVI'].unique())"
   ]
  },
  {
   "cell_type": "code",
   "execution_count": null,
   "id": "e3e191ec",
   "metadata": {},
   "outputs": [],
   "source": [
    "%%R\n",
    "# Get unique cell types\n",
    "cell_types <- unique(colData(adata_pb)$C_scANVI)\n",
    "\n",
    "# Replace 'White_‘Blood_Cells' with 'White_Blood_Cells'\n",
    "cell_types <- gsub(\"White_‘Blood_Cells\", \"White_Blood_Cells\", cell_types)\n",
    "\n",
    "# Print the updated cell types\n",
    "print(cell_types)"
   ]
  },
  {
   "cell_type": "code",
   "execution_count": null,
   "id": "732bef21",
   "metadata": {},
   "outputs": [],
   "source": [
    "robjects.r('de_per_cell_type_20vs12 <- list()')\n",
    "robjects.r(\"\"\"\n",
    "for (cell_type in cell_types[c(1:3,5:13)]) {\n",
    "    print(cell_type)\n",
    "    # create contrast for this cell type\n",
    "    myContrast <- makeContrasts(paste0(\"group20w.\", cell_type, \"-group12w.\", cell_type), levels = y$design)\n",
    "    # perform QLF test\n",
    "    qlf <- glmQLFTest(fit, contrast=myContrast)\n",
    "    # get all of the DE genes and calculate Benjamini-Hochberg adjusted FDR\n",
    "    tt <- topTags(qlf, n = Inf)\n",
    "    # save in the list with the results for all the cell types\n",
    "    de_per_cell_type_20vs12[[cell_type]] <- tt$table\n",
    "    }\n",
    "\"\"\")\n",
    "de_per_cell_type_20vs12 = robjects.r('de_per_cell_type_20vs12')"
   ]
  },
  {
   "cell_type": "code",
   "execution_count": null,
   "id": "54c79039",
   "metadata": {},
   "outputs": [],
   "source": [
    "robjects.r('de_per_cell_type_20vs17 <- list()')\n",
    "robjects.r(\"\"\"\n",
    "for (cell_type in cell_types[c(1:3,5:13)]) {      #dropped Chondrocytes as they are not present in 20w samples\n",
    "    print(cell_type)\n",
    "    # create contrast for this cell type\n",
    "    myContrast <- makeContrasts(paste0(\"group20w.\", cell_type, \"-group17w.\", cell_type), levels = y$design)\n",
    "    # perform QLF test\n",
    "    qlf <- glmQLFTest(fit, contrast=myContrast)\n",
    "    # get all of the DE genes and calculate Benjamini-Hochberg adjusted FDR\n",
    "    tt <- topTags(qlf, n = Inf)\n",
    "    # save in the list with the results for all the cell types\n",
    "    de_per_cell_type_20vs17[[cell_type]] <- tt$table\n",
    "    }\n",
    "\"\"\")\n",
    "\n",
    "de_per_cell_type20vs17 = robjects.r('de_per_cell_type_20vs17')"
   ]
  },
  {
   "cell_type": "code",
   "execution_count": null,
   "id": "e325b699",
   "metadata": {},
   "outputs": [],
   "source": [
    "cell_types = robjects.r('cell_types')\n",
    "cell_types"
   ]
  },
  {
   "cell_type": "code",
   "execution_count": null,
   "id": "2acb9dec",
   "metadata": {},
   "outputs": [],
   "source": [
    "for i, cell_type in enumerate(cell_types):\n",
    "    print(i, cell_type)\n",
    "    "
   ]
  },
  {
   "cell_type": "code",
   "execution_count": null,
   "id": "5317b16d",
   "metadata": {},
   "outputs": [],
   "source": [
    "ddf = robjects.conversion.rpy2py(de_per_cell_type)\n",
    "ddf"
   ]
  },
  {
   "cell_type": "code",
   "execution_count": null,
   "id": "f84f78c0",
   "metadata": {},
   "outputs": [],
   "source": [
    "# add the table to .uns for each cell type\n",
    "for i, cell_type in enumerate(cell_types):\n",
    "    df = robjects.conversion.rpy2py(de_per_cell_type[i])\n",
    "    df[\"gene_symbol\"] = df.index\n",
    "    df[\"cell_type\"] = cell_type\n",
    "    sc_toolbox.tools.de_res_to_anndata(\n",
    "        adata,\n",
    "        df,\n",
    "        groupby=\"cell_type\",\n",
    "        score_col=\"logCPM\",\n",
    "        pval_col=\"PValue\",\n",
    "        pval_adj_col=\"FDR\",\n",
    "        lfc_col=\"logFC\",\n",
    "        key_added=\"edgeR_\" + cell_type,\n",
    "    )\n",
    "    df.to_csv(os.path.join(RESULTS_FOLDERNAME, f\"de_edgeR_17wVs12w_{cell_type}.csv\"))"
   ]
  },
  {
   "cell_type": "code",
   "execution_count": null,
   "id": "cbfbc9d6",
   "metadata": {},
   "outputs": [],
   "source": [
    "ct = robjects.r('ct <- cell_types[c(1:3,5:13)]')\n",
    "ct"
   ]
  },
  {
   "cell_type": "code",
   "execution_count": null,
   "id": "c9c5a527",
   "metadata": {},
   "outputs": [],
   "source": [
    "# add the table to .uns for each cell type\n",
    "for i, cell_type in enumerate(ct):\n",
    "    df = robjects.conversion.rpy2py(de_per_cell_type20vs17[i])\n",
    "    df[\"gene_symbol\"] = df.index\n",
    "    df[\"cell_type\"] = cell_type\n",
    "    sc_toolbox.tools.de_res_to_anndata(\n",
    "        adata,\n",
    "        df,\n",
    "        groupby=\"cell_type\",\n",
    "        score_col=\"logCPM\",\n",
    "        pval_col=\"PValue\",\n",
    "        pval_adj_col=\"FDR\",\n",
    "        lfc_col=\"logFC\",\n",
    "        key_added=\"edgeR_20vs17_\" + cell_type,\n",
    "    )\n",
    "    df.to_csv(os.path.join(RESULTS_FOLDERNAME, f\"de_edgeR_20wVs17w_{cell_type}.csv\"))"
   ]
  },
  {
   "cell_type": "code",
   "execution_count": null,
   "id": "91f892c3",
   "metadata": {},
   "outputs": [],
   "source": [
    "# add the table to .uns for each cell type\n",
    "for i, cell_type in enumerate(ct):\n",
    "    df = robjects.conversion.rpy2py(de_per_cell_type_20vs12[i])\n",
    "    df[\"gene_symbol\"] = df.index\n",
    "    df[\"cell_type\"] = cell_type\n",
    "    sc_toolbox.tools.de_res_to_anndata(\n",
    "        adata,\n",
    "        df,\n",
    "        groupby=\"cell_type\",\n",
    "        score_col=\"logCPM\",\n",
    "        pval_col=\"PValue\",\n",
    "        pval_adj_col=\"FDR\",\n",
    "        lfc_col=\"logFC\",\n",
    "        key_added=\"edgeR_20vs12_\" + cell_type,\n",
    "    )\n",
    "    df.to_csv(os.path.join(RESULTS_FOLDERNAME, f\"de_edgeR_20wVs12w_{cell_type}.csv\"))"
   ]
  },
  {
   "cell_type": "code",
   "execution_count": null,
   "id": "25474bd4",
   "metadata": {},
   "outputs": [],
   "source": [
    "adata"
   ]
  },
  {
   "cell_type": "code",
   "execution_count": null,
   "id": "04932ab3",
   "metadata": {},
   "outputs": [],
   "source": [
    "adata.write(os.path.join(RESULTS_FOLDERNAME, 'dev_scANVI_DGE.h5ad'))"
   ]
  },
  {
   "cell_type": "code",
   "execution_count": null,
   "id": "705cbbb4",
   "metadata": {},
   "outputs": [],
   "source": [
    "sc.get.rank_genes_groups_df(adata, group=\"ABI3BP_Fibroblasts\", key=\"edgeR_20vs12_ABI3BP_Fibroblasts\")"
   ]
  },
  {
   "cell_type": "code",
   "execution_count": null,
   "id": "ce66ede4",
   "metadata": {},
   "outputs": [],
   "source": [
    "FDR = 0\n",
    "LOG_FOLD_CHANGE = 0\n",
    "\n",
    "\n",
    "def plot_heatmap_17vs12(adata, group_key, group_name=\"C_scANVI\", groupby=\"age\"):\n",
    "    cell_type = \"_\".join(group_key.split(\"_\")[1:])\n",
    "    res = sc.get.rank_genes_groups_df(adata, group=cell_type, key=group_key)\n",
    "    res.index = res[\"names\"].values\n",
    "    res = res[\n",
    "        (res[\"pvals_adj\"] < FDR) & (abs(res[\"logfoldchanges\"]) > LOG_FOLD_CHANGE)\n",
    "    ].sort_values(by=[\"logfoldchanges\"])\n",
    "    print(f\"Plotting {len(res)} genes...\")\n",
    "    markers = list(res.index)\n",
    "    sc.pl.heatmap(\n",
    "        adata[adata.obs[group_name] == cell_type].copy(),\n",
    "        markers,\n",
    "        groupby=groupby,\n",
    "        swap_axes=True,\n",
    "    )"
   ]
  },
  {
   "cell_type": "code",
   "execution_count": null,
   "id": "805cf26e",
   "metadata": {},
   "outputs": [],
   "source": [
    "FDR = 0.01\n",
    "LOG_FOLD_CHANGE = 1.5\n",
    "\n",
    "\n",
    "def plot_heatmap_20vs12(adata, group_key, group_name=\"C_scANVI\", groupby=\"age\"):\n",
    "    cell_type = \"_\".join(group_key.split(\"_\")[2:])\n",
    "    res = sc.get.rank_genes_groups_df(adata, group=cell_type, key=group_key)\n",
    "    res.index = res[\"names\"].values\n",
    "    res = res[\n",
    "        (res[\"pvals_adj\"] < FDR) & (abs(res[\"logfoldchanges\"]) > LOG_FOLD_CHANGE)\n",
    "    ].sort_values(by=[\"logfoldchanges\"])\n",
    "    print(f\"Plotting {len(res)} genes...\")\n",
    "    markers = list(res.index)\n",
    "    sc.pl.heatmap(\n",
    "        adata[adata.obs[group_name] == cell_type].copy(),\n",
    "        markers,\n",
    "        groupby=groupby,\n",
    "        swap_axes=True,\n",
    "    )"
   ]
  },
  {
   "cell_type": "code",
   "execution_count": null,
   "id": "1d312a81",
   "metadata": {},
   "outputs": [],
   "source": [
    "cell_type = \"_\".join('edgeR_20vs12_ABI3BP_Fibroblasts'.split(\"_\")[2:])\n",
    "cell_type"
   ]
  },
  {
   "cell_type": "code",
   "execution_count": null,
   "id": "104202db",
   "metadata": {},
   "outputs": [],
   "source": [
    "res = sc.get.rank_genes_groups_df(adata, group=cell_type, key='edgeR_20vs12_ABI3BP_Fibroblasts')\n",
    "res.index = res[\"names\"].values\n",
    "res = res[(res[\"pvals_adj\"] < 0.01) & (abs(res[\"logfoldchanges\"]) > 1.5)].sort_values(by=[\"logfoldchanges\"])\n",
    "res"
   ]
  },
  {
   "cell_type": "code",
   "execution_count": null,
   "id": "02b9c378",
   "metadata": {},
   "outputs": [],
   "source": [
    "res"
   ]
  },
  {
   "cell_type": "code",
   "execution_count": null,
   "id": "5dd4f296",
   "metadata": {},
   "outputs": [],
   "source": [
    "print(f\"Plotting {len(res)} genes...\")\n",
    "markers = list(res.index)\n",
    "sc.pl.heatmap(\n",
    "    adata[adata.obs[\"C_scANVI\"] == cell_type].copy(),\n",
    "    markers,\n",
    "    groupby='age',\n",
    "    swap_axes=True,\n",
    ")"
   ]
  },
  {
   "cell_type": "code",
   "execution_count": null,
   "id": "cce8d9bc",
   "metadata": {},
   "outputs": [],
   "source": [
    "plot_heatmap_20vs12(adata, \"edgeR_20vs12_White_Blood_Cells\")"
   ]
  }
 ],
 "metadata": {
  "kernelspec": {
   "display_name": "Python [conda env:scib-pipeline-R4.0]",
   "language": "python",
   "name": "conda-env-scib-pipeline-R4.0-py"
  },
  "language_info": {
   "codemirror_mode": {
    "name": "ipython",
    "version": 3
   },
   "file_extension": ".py",
   "mimetype": "text/x-python",
   "name": "python",
   "nbconvert_exporter": "python",
   "pygments_lexer": "ipython3",
   "version": "3.7.12"
  }
 },
 "nbformat": 4,
 "nbformat_minor": 5
}
