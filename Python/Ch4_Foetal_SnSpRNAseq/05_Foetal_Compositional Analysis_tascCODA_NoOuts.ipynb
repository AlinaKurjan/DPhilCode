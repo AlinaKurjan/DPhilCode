{
 "cells": [
  {
   "cell_type": "code",
   "execution_count": null,
   "id": "79a56569",
   "metadata": {},
   "outputs": [],
   "source": [
    "import os\n",
    "import warnings\n",
    "\n",
    "import pandas as pd\n",
    "\n",
    "warnings.filterwarnings(\"ignore\")\n",
    "warnings.simplefilter(\"ignore\")\n",
    "\n",
    "import schist\n",
    "import scanpy as sc\n",
    "import numpy as np\n",
    "import tensorflow as tf\n",
    "\n",
    "import matplotlib.pyplot as plt\n",
    "import matplotlib\n",
    "import seaborn as sns\n",
    "import altair as alt\n",
    "import pertpy as pt\n",
    "\n",
    "# set a working directory\n",
    "# wdir = \"/ceph/project/tendonhca/akurjan/analysis/\"\n",
    "wdir = \"/mnt/da8aa2c4-0136-465b-87a2-d12a59afec55/akurjan/analysis/notebooks\"\n",
    "os.chdir( wdir )\n",
    "\n",
    "# folder structures\n",
    "HARMONY_FOLDERNAME = \"foetal/results/Harmony/\"\n",
    "RESULTS_FOLDERNAME = \"foetal/results/tascCODA/\"\n",
    "FIGURES_FOLDERNAME = \"foetal/figures/tascCODA/\"\n",
    "\n",
    "if not os.path.exists(RESULTS_FOLDERNAME):\n",
    "    os.makedirs(RESULTS_FOLDERNAME)\n",
    "if not os.path.exists(FIGURES_FOLDERNAME):\n",
    "    os.makedirs(FIGURES_FOLDERNAME)\n",
    "\n",
    "# Set folder for saving figures into\n",
    "sc.settings.figdir = FIGURES_FOLDERNAME\n",
    "\n",
    "def savesvg(fname: str, fig, folder: str=FIGURES_FOLDERNAME) -> None:\n",
    "    \"\"\"\n",
    "    Save figure as vector-based SVG image format.\n",
    "    \"\"\"\n",
    "    fig.savefig(os.path.join(folder, fname), format='svg')\n",
    "\n",
    "# Set other settings\n",
    "sc.settings.verbosity = 3 # verbosity: errors (0), warnings (1), info (2), hints (3)\n",
    "sc.logging.print_versions()\n",
    "sc.set_figure_params(dpi=150, fontsize=10, dpi_save=600)"
   ]
  },
  {
   "cell_type": "code",
   "execution_count": null,
   "id": "599e0ca0",
   "metadata": {},
   "outputs": [],
   "source": [
    "adata = sc.read_h5ad(os.path.join(HARMONY_FOLDERNAME, 'dev_harmony.h5ad'))\n",
    "adata"
   ]
  },
  {
   "cell_type": "code",
   "execution_count": null,
   "id": "c8108c15",
   "metadata": {},
   "outputs": [],
   "source": [
    "del adata.raw"
   ]
  },
  {
   "cell_type": "code",
   "execution_count": null,
   "id": "f34b9bfe",
   "metadata": {},
   "outputs": [],
   "source": [
    "adata.obs['C_scANVI'].value_counts()"
   ]
  },
  {
   "cell_type": "code",
   "execution_count": null,
   "id": "4c1cd5cf",
   "metadata": {},
   "outputs": [],
   "source": [
    "sc.pp.neighbors(adata, n_neighbors=30, use_rep=\"X_msdiff\", metric='euclidean')"
   ]
  },
  {
   "cell_type": "code",
   "execution_count": null,
   "id": "d1aef870",
   "metadata": {},
   "outputs": [],
   "source": [
    "sccoda_model = pt.tl.Sccoda()\n",
    "sccoda_data = sccoda_model.load(\n",
    "    adata,\n",
    "    type=\"cell_level\",\n",
    "    generate_sample_level=True,\n",
    "    cell_type_identifier=\"C_scANVI\",\n",
    "    sample_identifier=\"sampletype\",\n",
    "    covariate_obs=[\"age\", \"libbatch\", \"sample\"],\n",
    ")\n",
    "sccoda_data"
   ]
  },
  {
   "cell_type": "code",
   "execution_count": null,
   "id": "9e2401ef",
   "metadata": {},
   "outputs": [],
   "source": [
    "pt.pl.coda.boxplots(\n",
    "    sccoda_data,\n",
    "    modality_key=\"coda\",\n",
    "    feature_name=\"age\",\n",
    "    figsize=(12, 5),\n",
    "    add_dots=True,\n",
    "    args_swarmplot={\"palette\": [\"red\"]},\n",
    ")\n",
    "savesvg('sccoda_cell_proportionsByAge.svg', plt)\n",
    "plt.show()"
   ]
  },
  {
   "cell_type": "code",
   "execution_count": null,
   "id": "eb0d96d3",
   "metadata": {},
   "outputs": [],
   "source": [
    "pt.pl.coda.boxplots(\n",
    "    sccoda_data,\n",
    "    modality_key=\"coda\",\n",
    "    feature_name=\"sample\",\n",
    "    figsize=(12, 5),\n",
    "    add_dots=True,\n",
    "    args_swarmplot={\"palette\": [\"red\"]}\n",
    ")\n",
    "savesvg('sccoda_cell_proportionsPerSample.svg', plt)\n",
    "plt.show()"
   ]
  },
  {
   "cell_type": "code",
   "execution_count": null,
   "id": "381ea646",
   "metadata": {},
   "outputs": [],
   "source": [
    "pt.pl.coda.boxplots(\n",
    "    sccoda_data,\n",
    "    modality_key=\"coda\",\n",
    "    feature_name=\"sampletype\",\n",
    "    figsize=(12, 5),\n",
    "    add_dots=True,\n",
    "    args_swarmplot={\"palette\": [\"red\"]},\n",
    ")\n",
    "savesvg('sccoda_cell_proportionsPerSampleType.svg', plt)\n",
    "plt.show()"
   ]
  },
  {
   "cell_type": "code",
   "execution_count": null,
   "id": "083f2c33",
   "metadata": {},
   "outputs": [],
   "source": [
    "pt.pl.coda.boxplots(\n",
    "    sccoda_data,\n",
    "    modality_key=\"coda\",\n",
    "    feature_name=\"libbatch\",\n",
    "    figsize=(12, 5),\n",
    "    add_dots=True,\n",
    "    args_swarmplot={\"palette\": [\"red\"]},\n",
    ")\n",
    "plt.show()"
   ]
  },
  {
   "cell_type": "code",
   "execution_count": null,
   "id": "08d3447b",
   "metadata": {},
   "outputs": [],
   "source": [
    "pt.pl.coda.stacked_barplot(\n",
    "    sccoda_data, modality_key=\"coda\", feature_name=\"sample\", figsize=(6, 4)\n",
    ")\n",
    "savesvg('sccoda_cell_proportionsPerSample_barplot.svg', plt)\n",
    "plt.show()"
   ]
  },
  {
   "cell_type": "code",
   "execution_count": null,
   "id": "8cbd2dc9",
   "metadata": {},
   "outputs": [],
   "source": [
    "pt.pl.coda.stacked_barplot(\n",
    "    sccoda_data, modality_key=\"coda\", feature_name=\"sampletype\", figsize=(6, 4)\n",
    ")\n",
    "savesvg('sccoda_cell_proportionsPerSampleType_barplot.svg', plt)\n",
    "plt.show()"
   ]
  },
  {
   "cell_type": "code",
   "execution_count": null,
   "id": "c7d22f06",
   "metadata": {},
   "outputs": [],
   "source": [
    "pt.pl.coda.stacked_barplot(\n",
    "    sccoda_data, modality_key=\"coda\", feature_name=\"age\", figsize=(6, 4)\n",
    ")\n",
    "savesvg('sccoda_cell_proportionsByAge_barplot.svg', plt)\n",
    "\n",
    "plt.show()"
   ]
  },
  {
   "cell_type": "code",
   "execution_count": null,
   "id": "65769874",
   "metadata": {},
   "outputs": [],
   "source": [
    "pt.pl.coda.stacked_barplot(\n",
    "    sccoda_data, modality_key=\"coda\", feature_name=\"libbatch\", figsize=(6, 4)\n",
    ")\n",
    "plt.show()"
   ]
  },
  {
   "cell_type": "code",
   "execution_count": null,
   "id": "5456f486",
   "metadata": {},
   "outputs": [],
   "source": [
    "sccoda_data = sccoda_model.prepare(\n",
    "    sccoda_data,\n",
    "    modality_key=\"coda\",\n",
    "    formula=\"sampletype + libbatch + age\",\n",
    "    reference_cell_type=\"Nervous System Cells\",\n",
    ")\n",
    "sccoda_model.run_nuts(sccoda_data, modality_key=\"coda\", rng_key=1234)"
   ]
  },
  {
   "cell_type": "code",
   "execution_count": null,
   "id": "5813f443",
   "metadata": {},
   "outputs": [],
   "source": [
    "sccoda_data[\"coda\"]"
   ]
  },
  {
   "cell_type": "code",
   "execution_count": null,
   "id": "cfcbde09",
   "metadata": {},
   "outputs": [],
   "source": [
    "sccoda_data[\"coda\"].varm['effect_df_age[T.17w]']"
   ]
  },
  {
   "cell_type": "code",
   "execution_count": null,
   "id": "1174aeaa",
   "metadata": {},
   "outputs": [],
   "source": [
    "sccoda_model.set_fdr(sccoda_data, 0.2)"
   ]
  },
  {
   "cell_type": "code",
   "execution_count": null,
   "id": "aa2a3c8a",
   "metadata": {},
   "outputs": [],
   "source": [
    "sccoda_model.credible_effects(sccoda_data, modality_key=\"coda\")"
   ]
  },
  {
   "cell_type": "code",
   "execution_count": null,
   "id": "9d28d0be",
   "metadata": {
    "scrolled": false
   },
   "outputs": [],
   "source": [
    "sccoda_model.summary(sccoda_data, modality_key=\"coda\")"
   ]
  },
  {
   "cell_type": "code",
   "execution_count": null,
   "id": "3a79a1c3",
   "metadata": {},
   "outputs": [],
   "source": [
    "# saving\n",
    "sccoda_data.write_h5mu(os.path.join(RESULTS_FOLDERNAME, 'sccoda_dev_msdiff'))\n",
    "\n",
    "# loading\n",
    "#sccoda_data_2 = mu.read_h5mu(path)\n",
    "#sccoda_model.summary(sccoda_data_2, modality_key=\"coda\")"
   ]
  },
  {
   "cell_type": "markdown",
   "id": "57b5be90",
   "metadata": {},
   "source": [
    "# TASCCODA"
   ]
  },
  {
   "cell_type": "markdown",
   "id": "573d20d2",
   "metadata": {},
   "source": [
    "Not changing neighbours here! Running on existing connectivities (from draw_graph_fa)"
   ]
  },
  {
   "cell_type": "code",
   "execution_count": null,
   "id": "76cbc09f",
   "metadata": {},
   "outputs": [],
   "source": [
    "sc.pl.draw_graph(adata,color=\"C_scANVI\")"
   ]
  },
  {
   "cell_type": "code",
   "execution_count": null,
   "id": "df12393a",
   "metadata": {},
   "outputs": [],
   "source": [
    "# from sklearn.model_selection import StratifiedShuffleSplit\n",
    "\n",
    "# n_cells_total = 20000  # total number of cells to keep\n",
    "# cell_type_names = adata.obs['C_scANVI'].unique()  # get the unique cell type names\n",
    "# cell_type_counts = adata.obs['C_scANVI'].value_counts()  # get the number of cells in each cell type\n",
    "\n",
    "# indices_to_keep = []  # initialize a list to store the indices of the cells to keep\n",
    "# for cell_type in cell_type_names:\n",
    "#     n_cells_to_keep = int(n_cells_total * cell_type_counts[cell_type] / adata.shape[0])  # calculate the number of cells to keep for this cell type\n",
    "#     cell_type_indices = adata.obs.index[adata.obs['C_scANVI'] == cell_type]  # get the indices of the cells in this cell type\n",
    "#     if len(cell_type_indices) > n_cells_to_keep:\n",
    "#         sss = StratifiedShuffleSplit(n_splits=1, test_size=n_cells_to_keep, random_state=0)  # create a stratified shuffle split object\n",
    "#         _, cell_type_indices_to_keep = next(sss.split(X=adata.obsm['X_pca'], y=adata.obs['C_scANVI']))  # use the generator to get the indices\n",
    "#     else:\n",
    "#         cell_type_indices_to_keep = cell_type_indices\n",
    "#     indices_to_keep.extend(cell_type_indices_to_keep)\n",
    "\n",
    "# adata_subsampled = adata[indices_to_keep, :]  # create a new AnnData object containing only the subsampled cells\n"
   ]
  },
  {
   "cell_type": "code",
   "execution_count": null,
   "id": "bd0d46a5",
   "metadata": {},
   "outputs": [],
   "source": [
    "# adata_subsampled"
   ]
  },
  {
   "cell_type": "code",
   "execution_count": null,
   "id": "2ea37de7",
   "metadata": {},
   "outputs": [],
   "source": [
    "#sc.pl.draw_graph(adata_subsampled,color=\"C_scANVI\")"
   ]
  },
  {
   "cell_type": "code",
   "execution_count": null,
   "id": "40418e53",
   "metadata": {},
   "outputs": [],
   "source": [
    "adata.X.max()"
   ]
  },
  {
   "cell_type": "code",
   "execution_count": null,
   "id": "efcf98f6",
   "metadata": {},
   "outputs": [],
   "source": [
    "adata.obsm"
   ]
  },
  {
   "cell_type": "code",
   "execution_count": null,
   "id": "16356147",
   "metadata": {
    "scrolled": true
   },
   "outputs": [],
   "source": [
    "import schist\n",
    "schist.inference.nested_model(adata, n_jobs=20, \n",
    "                              n_sweep=5, \n",
    "                              refine_model=False,\n",
    "                              directed=False,\n",
    "                              random_seed=111)\n",
    "adata.obs"
   ]
  },
  {
   "cell_type": "code",
   "execution_count": null,
   "id": "a5053529",
   "metadata": {},
   "outputs": [],
   "source": [
    "adata.write(os.path.join(RESULTS_FOLDERNAME, 'dev_harmony_tasccoda.h5ad'))"
   ]
  },
  {
   "cell_type": "code",
   "execution_count": null,
   "id": "d13d7165",
   "metadata": {},
   "outputs": [],
   "source": [
    "adata=sc.read_h5ad(os.path.join(RESULTS_FOLDERNAME, 'dev_harmony_tasccoda.h5ad'))"
   ]
  },
  {
   "cell_type": "code",
   "execution_count": null,
   "id": "bf580d7b",
   "metadata": {},
   "outputs": [],
   "source": [
    "sc.pl.embedding(\n",
    "    adata, color=[\"nsbm_level_4\", \"nsbm_level_5\", \"C_scANVI\"], \n",
    "    basis = 'force_directed_array', ncols=3, wspace=0.5,\n",
    "    frameon=False\n",
    ")"
   ]
  },
  {
   "cell_type": "code",
   "execution_count": null,
   "id": "1a9542d9",
   "metadata": {},
   "outputs": [],
   "source": [
    "sc.pl.embedding(\n",
    "    adata, color=[\"nsbm_level_3\", \"nsbm_level_4\", \"C_scANVI\"], \n",
    "    basis = 'force_directed_array', ncols=3, wspace=0.5,\n",
    "    frameon=False\n",
    ")"
   ]
  },
  {
   "cell_type": "code",
   "execution_count": null,
   "id": "168c60a9",
   "metadata": {},
   "outputs": [],
   "source": [
    "sc.pl.umap(\n",
    "    adata, color=[\"nsbm_level_3\", \"nsbm_level_4\", \"C_scANVI\"], \n",
    "    ncols=3, wspace=0.5,\n",
    "    frameon=False\n",
    ")"
   ]
  },
  {
   "cell_type": "code",
   "execution_count": null,
   "id": "9a1c5c13",
   "metadata": {},
   "outputs": [],
   "source": [
    "sc.pl.embedding(\n",
    "    adata, basis = 'tsne',\n",
    "    color=[\"nsbm_level_3\", \"nsbm_level_4\", \"nsbm_level_5\", \"C_scANVI\"], \n",
    "    ncols=3, wspace=0.5,\n",
    "    frameon=False\n",
    ")"
   ]
  },
  {
   "cell_type": "code",
   "execution_count": null,
   "id": "dfcd08a8",
   "metadata": {},
   "outputs": [],
   "source": [
    "sc.pl.embedding(\n",
    "    adata, basis = 'draw_graph_fa',\n",
    "    color=[\"nsbm_level_3\", \"nsbm_level_4\", \"nsbm_level_5\", \"nsbm_level_6\", \"nsbm_level_7\", \"C_scANVI\"], \n",
    "    ncols=3, wspace=0.5,\n",
    "    frameon=False,\n",
    "    save='_fa_nsbm_levels.svg'\n",
    ")"
   ]
  },
  {
   "cell_type": "code",
   "execution_count": null,
   "id": "4e714c97",
   "metadata": {},
   "outputs": [],
   "source": [
    "sc.pl.embedding(\n",
    "    adata, basis = 'draw_graph_fa',\n",
    "    color=[\"nsbm_level_3\", \"C_scANVI\"], \n",
    "    ncols=3, wspace=0.5,\n",
    "    frameon=False, legend_loc='on data'\n",
    ")"
   ]
  },
  {
   "cell_type": "code",
   "execution_count": null,
   "id": "8dd20f7d",
   "metadata": {},
   "outputs": [],
   "source": [
    "adata.obs"
   ]
  },
  {
   "cell_type": "code",
   "execution_count": null,
   "id": "0fd63dcc",
   "metadata": {},
   "outputs": [],
   "source": [
    "tasccoda_model = pt.tl.Tasccoda()\n",
    "tasccoda_data = tasccoda_model.load(\n",
    "    adata,\n",
    "    type=\"cell_level\",\n",
    "    cell_type_identifier=\"nsbm_level_3\",\n",
    "    sample_identifier=\"sampletype\",\n",
    "    covariate_obs=[\"age\", \"libbatch\", \"sample\"],\n",
    "    levels_orig=[\"nsbm_level_8\", \"nsbm_level_7\", \"nsbm_level_6\", \"nsbm_level_5\", \"nsbm_level_4\", \"nsbm_level_3\"],\n",
    "    add_level_name=True,\n",
    ")\n",
    "tasccoda_data"
   ]
  },
  {
   "cell_type": "code",
   "execution_count": null,
   "id": "b60e96ad",
   "metadata": {},
   "outputs": [],
   "source": [
    "tasccoda_data['rna'].obs[['nsbm_level_4', 'C_scANVI']].value_counts().head(20)"
   ]
  },
  {
   "cell_type": "code",
   "execution_count": null,
   "id": "74ad2ce0",
   "metadata": {},
   "outputs": [],
   "source": [
    "pt.pl.coda.draw_tree(tasccoda_data,\n",
    "                    file_name=os.path.join(FIGURES_FOLDERNAME, \"foetal_tasccoda_tree.svg\"))"
   ]
  },
  {
   "cell_type": "code",
   "execution_count": null,
   "id": "f051e76b",
   "metadata": {},
   "outputs": [],
   "source": [
    "sc.pl.embedding(\n",
    "    adata, basis = 'draw_graph_fa',\n",
    "    color=[\"nsbm_level_4\", \"C_scANVI\"], \n",
    "    ncols=3, wspace=0.5,\n",
    "    frameon=False, legend_loc='on data'\n",
    ")"
   ]
  },
  {
   "cell_type": "code",
   "execution_count": null,
   "id": "9a090edd",
   "metadata": {},
   "outputs": [],
   "source": [
    "tasccoda_model.prepare(\n",
    "    tasccoda_data,\n",
    "    modality_key=\"coda\",\n",
    "    reference_cell_type=\"38\", #corresponding to nervous system cells\n",
    "    formula=\"age\",\n",
    "    pen_args={\"phi\": 0, \"lambda_1\": 3.5},\n",
    "    tree_key=\"tree\",\n",
    ")"
   ]
  },
  {
   "cell_type": "code",
   "execution_count": null,
   "id": "e4b02577",
   "metadata": {},
   "outputs": [],
   "source": [
    "tasccoda_model.run_nuts(\n",
    "    tasccoda_data, modality_key=\"coda\", rng_key=1234, num_samples=10000, num_warmup=1000\n",
    ")"
   ]
  },
  {
   "cell_type": "code",
   "execution_count": null,
   "id": "d84f4544",
   "metadata": {
    "scrolled": false
   },
   "outputs": [],
   "source": [
    "tasccoda_model.summary(tasccoda_data, modality_key=\"coda\")"
   ]
  },
  {
   "cell_type": "code",
   "execution_count": null,
   "id": "f9ec92d3",
   "metadata": {
    "scrolled": false
   },
   "outputs": [],
   "source": [
    "plt = pt.pl.coda.draw_effects(\n",
    "    tasccoda_data,\n",
    "    modality_key=\"coda\",\n",
    "    tree=\"tree\",\n",
    "    covariate=\"age[T.20w]\",\n",
    "    show_leaf_effects=True,\n",
    "    show_legend=False,\n",
    "    file_name=os.path.join(FIGURES_FOLDERNAME, \"foetal_tasccoda_20wVs12w.svg\")\n",
    ")"
   ]
  },
  {
   "cell_type": "code",
   "execution_count": null,
   "id": "ed32d246",
   "metadata": {},
   "outputs": [],
   "source": [
    "plt = pt.pl.coda.draw_effects(\n",
    "    tasccoda_data,\n",
    "    modality_key=\"coda\",\n",
    "    tree=\"tree\",\n",
    "    covariate=\"age[T.17w]\",\n",
    "    show_leaf_effects=True,\n",
    "    show_legend=False,\n",
    "    file_name=os.path.join(FIGURES_FOLDERNAME, \"foetal_tasccoda_17wVs12w.svg\")\n",
    ")\n",
    "\n"
   ]
  },
  {
   "cell_type": "code",
   "execution_count": null,
   "id": "3d5c7f5b",
   "metadata": {},
   "outputs": [],
   "source": [
    "pt.pl.coda.effects_barplot(tasccoda_data, modality_key=\"coda\", covariates=\"age\")"
   ]
  },
  {
   "cell_type": "code",
   "execution_count": null,
   "id": "5139947c",
   "metadata": {},
   "outputs": [],
   "source": [
    "#import matplotlib as mpl\n",
    "#from copy import copy\n",
    "\n",
    "\n",
    "kwargs = {\"ncols\": 3, \n",
    "          \"wspace\": 0.25,\n",
    "          #'cmap': sns.cubehelix_palette(dark=0, light=.9, as_cmap=True),\n",
    "          #'cmap': copy(mpl.cm.Reds)\n",
    "          'cmap': \"RdBu\",\n",
    "          'frameon': False, \n",
    "          'vmin': -1, 'vcenter': 0,\n",
    "          'vmax': 1, \n",
    "          'sort_order': False,\n",
    "          'save': '_tasccoda_umaps_effects.svg'\n",
    "         }\n",
    "pt.pl.coda.effects_umap(\n",
    "    tasccoda_data,\n",
    "    effect_name=[\n",
    "        \"effect_df_age[T.17w]\",\n",
    "        \"effect_df_age[T.20w]\",\n",
    "    ],\n",
    "    cluster_key=\"nsbm_level_3\",\n",
    "    **kwargs\n",
    ")\n",
    "sc.pl.umap( \n",
    "    tasccoda_data[\"rna\"], color=[\"C_scANVI\", \"nsbm_level_3\"], \n",
    "    palette=None, frameon=False,\n",
    "    ncols=2, wspace=0.5\n",
    ")"
   ]
  },
  {
   "cell_type": "code",
   "execution_count": null,
   "id": "3126cbc9",
   "metadata": {},
   "outputs": [],
   "source": [
    "# Create a color palette for each cluster\n",
    "cluster_palette = ['#d9d9d9', '#d9d9d9', \n",
    "                   '#d9d9d9', '#d9d9d9', \n",
    "                   '#d9d9d9', '#d9d9d9', #5\n",
    "                   '#d9d9d9', '#d9d9d9', \n",
    "                   '#d9d9d9', '#d9d9d9', \n",
    "                   'blue', '#d9d9d9', #11\n",
    "                   '#d9d9d9', '#d9d9d9', \n",
    "                   '#d9d9d9', '#d9d9d9', \n",
    "                   '#d9d9d9', '#d9d9d9', \n",
    "                   '#d9d9d9', '#d9d9d9', \n",
    "                   '#d9d9d9', '#d9d9d9', #21\n",
    "                   'red', '#d9d9d9', \n",
    "                   '#d9d9d9', '#d9d9d9', \n",
    "                   'red', '#d9d9d9', \n",
    "                   '#d9d9d9', '#d9d9d9', \n",
    "                   '#d9d9d9', '#d9d9d9', \n",
    "                   '#d9d9d9', '#d9d9d9', \n",
    "                  ]"
   ]
  },
  {
   "cell_type": "code",
   "execution_count": null,
   "id": "be851d42",
   "metadata": {},
   "outputs": [],
   "source": [
    "sc.pl.embedding( \n",
    "    tasccoda_data[\"rna\"], color=[\"nsbm_level_3\"], \n",
    "    basis='force_directed_array',\n",
    "    palette=cluster_palette,\n",
    "    frameon=False,legend_loc='right margin', \n",
    "    save = 'significant_at_20w_harmonyforcelayout.svg'\n",
    ")"
   ]
  },
  {
   "cell_type": "code",
   "execution_count": null,
   "id": "e396c8bd",
   "metadata": {},
   "outputs": [],
   "source": [
    "sc.pl.embedding( \n",
    "    tasccoda_data[\"rna\"], color=[\"nsbm_level_3\"], \n",
    "    basis='draw_graph_fa',\n",
    "    palette=cluster_palette,\n",
    "    frameon=False, legend_loc='right margin', save = 'significant_at_20w_fa.svg'\n",
    ")"
   ]
  },
  {
   "cell_type": "code",
   "execution_count": null,
   "id": "ebe4a8e8",
   "metadata": {},
   "outputs": [],
   "source": [
    "# Create a color palette for each cluster\n",
    "cluster_palette_17w = ['#d9d9d9', '#d9d9d9', \n",
    "                       'red', '#d9d9d9', \n",
    "                       'pink', '#d9d9d9', #5\n",
    "                       '#d9d9d9', 'red', \n",
    "                       'red', 'red', \n",
    "                       '#d9d9d9', 'red', #11\n",
    "                       'red', 'red', \n",
    "                       'red', 'red', \n",
    "                       'red', 'red', \n",
    "                       '#d9d9d9', 'red', \n",
    "                       '#d9d9d9', 'red', #21\n",
    "                       'red', '#d9d9d9', \n",
    "                       '#d9d9d9', 'red', \n",
    "                       'red', '#d9d9d9', \n",
    "                       '#d9d9d9', '#d9d9d9', \n",
    "                       '#d9d9d9', '#d9d9d9', \n",
    "                       '#d9d9d9', '#d9d9d9', \n",
    "                      ]"
   ]
  },
  {
   "cell_type": "code",
   "execution_count": null,
   "id": "550af4ca",
   "metadata": {},
   "outputs": [],
   "source": [
    "sc.pl.embedding( \n",
    "    tasccoda_data[\"rna\"], color=[\"nsbm_level_3\"], \n",
    "    basis='force_directed_array',\n",
    "    palette=cluster_palette_17w,\n",
    "    frameon=False,legend_loc='right margin', save = 'significant_at_17w_harmonyforcelayout.svg'\n",
    ")"
   ]
  },
  {
   "cell_type": "code",
   "execution_count": null,
   "id": "2e115d38",
   "metadata": {},
   "outputs": [],
   "source": [
    "sc.pl.embedding( \n",
    "    tasccoda_data[\"rna\"], color=[\"nsbm_level_3\"], \n",
    "    basis='draw_graph_fa',\n",
    "    palette=cluster_palette_17w,\n",
    "    frameon=False, legend_loc='right margin', save = 'significant_at_17w_fa.svg'\n",
    ")"
   ]
  },
  {
   "cell_type": "code",
   "execution_count": null,
   "id": "1d12d542",
   "metadata": {},
   "outputs": [],
   "source": [
    "sc.pl.umap( \n",
    "    tasccoda_data[\"rna\"], color=[\"C_scANVI\"],\n",
    "    frameon=False, legend_loc='right margin', save = 'scANVI.svg'\n",
    ")"
   ]
  },
  {
   "cell_type": "code",
   "execution_count": null,
   "id": "b4a613c6",
   "metadata": {},
   "outputs": [],
   "source": [
    "import matplotlib as mpl\n",
    "\n",
    "sc.pl.embedding( \n",
    "    tasccoda_data[\"rna\"], color=[\"nsbm_level_3\"], \n",
    "    basis='draw_graph_fa',\n",
    "    palette=mpl.rcParams[\"axes.prop_cycle\"],\n",
    "    frameon=False, legend_loc='right margin', save = '_nsbm_level3_fa.svg'\n",
    ")"
   ]
  },
  {
   "cell_type": "code",
   "execution_count": null,
   "id": "fd94c580",
   "metadata": {},
   "outputs": [],
   "source": [
    "sc.pl.embedding( \n",
    "    tasccoda_data[\"rna\"], color=[\"nsbm_level_3\"], \n",
    "    basis='force_directed_array',\n",
    "    palette=mpl.rcParams[\"axes.prop_cycle\"],\n",
    "    frameon=False, legend_loc='right margin', save = '_nsbm_level3_harmonyforcelayout.svg'\n",
    ")"
   ]
  },
  {
   "cell_type": "code",
   "execution_count": null,
   "id": "511bad7c",
   "metadata": {},
   "outputs": [],
   "source": [
    "sc.pl.umap( \n",
    "    tasccoda_data[\"rna\"], color=[\"nsbm_level_3\"], palette=mpl.rcParams[\"axes.prop_cycle\"],\n",
    "    frameon=False,legend_loc='right margin', save = '_nsbm_level3.svg'\n",
    ")"
   ]
  },
  {
   "cell_type": "code",
   "execution_count": null,
   "id": "176908ee",
   "metadata": {},
   "outputs": [],
   "source": [
    "sc.tl.rank_genes_groups(adata, groupby='nsbm_level_3', method='wilcoxon', key_added='wilcoxon_nsbm3', \n",
    "                        use_raw=False, layer='log1p_norm')"
   ]
  },
  {
   "cell_type": "code",
   "execution_count": null,
   "id": "521c5459",
   "metadata": {},
   "outputs": [],
   "source": [
    "result = adata.uns['wilcoxon_nsbm3']\n",
    "groups = result['names'].dtype.names\n",
    "df = pd.DataFrame(\n",
    "    {group + '_' + key: result[key][group]\n",
    "    for group in groups \n",
    "    for key in ['names','scores','logfoldchanges', 'pvals', 'pvals_adj']})\n",
    "#df.to_csv(os.path.join(RESULTS_FOLDERNAME, 'wilcoxon_DGE_nbsm3.csv'))\n",
    "df.head(5)"
   ]
  },
  {
   "cell_type": "code",
   "execution_count": null,
   "id": "60137bec",
   "metadata": {},
   "outputs": [],
   "source": [
    "# create an empty dictionary to store the top 10 names for each cell_type\n",
    "top_names_dict = {}\n",
    "\n",
    "for group in groups:\n",
    "    top_names = result['names'][group][:11] # select the top 10 names for this cell_type\n",
    "    top_names_dict[group] = list(top_names) # add the list of top names to the dictionary"
   ]
  },
  {
   "cell_type": "code",
   "execution_count": null,
   "id": "fa2b89de",
   "metadata": {},
   "outputs": [],
   "source": [
    "top_names_dict['29'] # significantly increased proportionally in 20w"
   ]
  },
  {
   "cell_type": "code",
   "execution_count": null,
   "id": "233ebae0",
   "metadata": {},
   "outputs": [],
   "source": [
    "top_names_dict['7'] # significantly increased at 20w"
   ]
  },
  {
   "cell_type": "code",
   "execution_count": null,
   "id": "32c68c7e",
   "metadata": {},
   "outputs": [],
   "source": [
    "top_names_dict['2'] # significantly decreased at 20w"
   ]
  },
  {
   "cell_type": "code",
   "execution_count": null,
   "id": "193d7009",
   "metadata": {},
   "outputs": [],
   "source": [
    "top_names_dict['13']  # significantly decreased at 20w"
   ]
  },
  {
   "cell_type": "code",
   "execution_count": null,
   "id": "c66ef2c3",
   "metadata": {},
   "outputs": [],
   "source": [
    "top_names_dict['0'] # significantly decreased at 20w"
   ]
  }
 ],
 "metadata": {
  "kernelspec": {
   "display_name": "tesccoda",
   "language": "python",
   "name": "tesccoda"
  },
  "language_info": {
   "codemirror_mode": {
    "name": "ipython",
    "version": 3
   },
   "file_extension": ".py",
   "mimetype": "text/x-python",
   "name": "python",
   "nbconvert_exporter": "python",
   "pygments_lexer": "ipython3",
   "version": "3.9.16"
  }
 },
 "nbformat": 4,
 "nbformat_minor": 5
}
