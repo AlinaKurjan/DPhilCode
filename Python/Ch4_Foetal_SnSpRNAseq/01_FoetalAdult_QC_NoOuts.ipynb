{
 "cells": [
  {
   "cell_type": "markdown",
   "id": "dc88c382",
   "metadata": {},
   "source": [
    "# Run with scib-pipeline-R4.0 conda environment¶\n",
    "\n",
    "\n",
    "# AUTOMATED DATA QC"
   ]
  },
  {
   "cell_type": "code",
   "execution_count": null,
   "id": "0cf52f81",
   "metadata": {},
   "outputs": [],
   "source": [
    "# Import dependencies\n",
    "%matplotlib inline\n",
    "import os\n",
    "import scanpy as sc\n",
    "import seaborn as sns\n",
    "import collections\n",
    "import matplotlib\n",
    "import matplotlib.pyplot as plt\n",
    "import numpy as np\n",
    "import pandas as pd\n",
    "import h5py\n",
    "import anndata\n",
    "\n",
    "# Print date and time:\n",
    "import datetime\n",
    "e = datetime.datetime.now()\n",
    "print (\"Current date and time = %s\" % e)\n",
    "\n",
    "# set a working directory\n",
    "wdir = \"/mnt/da8aa2c4-0136-465b-87a2-d12a59afec55/akurjan/analysis/notebooks\"\n",
    "os.chdir( wdir )\n",
    "\n",
    "# folder structures\n",
    "RESULTS_FOLDERNAME = \"foetal/results/QC\"\n",
    "FIGURES_FOLDERNAME = \"foetal/figures/QC\"\n",
    "\n",
    "if not os.path.exists(RESULTS_FOLDERNAME):\n",
    "    os.makedirs(RESULTS_FOLDERNAME)\n",
    "if not os.path.exists(FIGURES_FOLDERNAME):\n",
    "    os.makedirs(FIGURES_FOLDERNAME)\n",
    "\n",
    "# Set folder for saving figures into\n",
    "sc.settings.figdir = FIGURES_FOLDERNAME\n",
    "\n",
    "# Set other settings\n",
    "sc.settings.verbosity = 3 # verbosity: errors (0), warnings (1), info (2), hints (3)\n",
    "sc.logging.print_versions()\n",
    "sc.set_figure_params(dpi=150, fontsize=10, dpi_save=600)"
   ]
  },
  {
   "cell_type": "code",
   "execution_count": null,
   "id": "8752630d",
   "metadata": {},
   "outputs": [],
   "source": [
    "def savesvg(fname: str, fig, folder: str=FIGURES_FOLDERNAME) -> None:\n",
    "    \"\"\"\n",
    "    Save figure as vector-based SVG image format.\n",
    "    \"\"\"\n",
    "    fig.savefig(os.path.join(folder, fname), format='svg')"
   ]
  },
  {
   "cell_type": "markdown",
   "id": "85ba03ea",
   "metadata": {},
   "source": [
    "# DATA DESCRIPTION\n",
    "\n",
    "#### Files: CellRanger count aligned snRNA-seq data. Aligned with CellRanger (v 7.0.0), ambient RNA removed with CellBender (v 0.2.0)"
   ]
  },
  {
   "cell_type": "markdown",
   "id": "1dcd39fc",
   "metadata": {},
   "source": [
    "# LOADING h5ad FILES"
   ]
  },
  {
   "cell_type": "code",
   "execution_count": null,
   "id": "674f12fa",
   "metadata": {},
   "outputs": [],
   "source": [
    "def load_adatafiles(folder_path, common_text):\n",
    "    \"\"\"\n",
    "    Loads all anndata objects that contain a common text from a specified folder into a dictionary object.\n",
    "\n",
    "    Args:\n",
    "        folder_path: A string representing the folder path where the anndata objects are located.\n",
    "        common_text: A string representing the common text in the names of the anndata objects to be loaded.\n",
    "\n",
    "    Returns:\n",
    "        A dictionary object containing the loaded anndata objects.\n",
    "    \"\"\"\n",
    "\n",
    "    adata_dict = {}\n",
    "\n",
    "    for file in os.listdir(folder_path):\n",
    "        if file.endswith('.h5ad') and common_text in file:\n",
    "            obj = sc.read_h5ad(os.path.join(folder_path, file))\n",
    "            key = \"_\".join(file.split('_')[:2])\n",
    "            adata_dict[key] = obj\n",
    "\n",
    "    return adata_dict"
   ]
  },
  {
   "cell_type": "code",
   "execution_count": null,
   "id": "679e49e1",
   "metadata": {},
   "outputs": [],
   "source": [
    "adata_dict = load_adatafiles(RESULTS_FOLDERNAME, '_unfiltered')\n",
    "adata_dict"
   ]
  },
  {
   "cell_type": "code",
   "execution_count": null,
   "id": "842019c2",
   "metadata": {},
   "outputs": [],
   "source": [
    "df = pd.DataFrame(columns=['Unfiltered Cells', 'Unfiltered Genes'])\n",
    "\n",
    "for sample, adata in adata_dict.items():\n",
    "    # Apply your filtering steps on 'anndata_obj' and obtain the filtered results\n",
    "    \n",
    "    # Obtain the cell and gene counts after filtering\n",
    "    cell_count = adata.n_obs  # Assuming cell count is obtained from 'obs'\n",
    "    gene_count = adata.n_vars  # Assuming gene count is obtained from 'var'\n",
    "    \n",
    "    # Append the counts to the dataframe\n",
    "    df = df.append({'Unfiltered Cells': cell_count, 'Unfiltered Genes': gene_count}, ignore_index=True)\n",
    "\n",
    "df.index = list(adata_dict.keys())\n",
    "df.index.name = 'Sample'\n",
    "df"
   ]
  },
  {
   "cell_type": "code",
   "execution_count": null,
   "id": "c54c8438",
   "metadata": {},
   "outputs": [],
   "source": [
    "def convert_uint_to_int(adata_dict):\n",
    "    \"\"\"\n",
    "    Iterate over a dictionary of anndata objects and convert uint32 and uint36 dtypes\n",
    "    to int32 and int36 dtypes, respectively. Prints a message for each conversion.\n",
    "    \"\"\"\n",
    "    for key, value in adata_dict.items():\n",
    "        if not isinstance(value, anndata.AnnData):\n",
    "            continue\n",
    "                    \n",
    "        # Update X and layers dtypes\n",
    "        if value.X.dtype == 'uint32':\n",
    "            value.X = value.X.astype('float32')\n",
    "            print(\"Converted X from uint32 to float32.\")\n",
    "        elif value.X.dtype == 'uint64':\n",
    "            value.X = value.X.astype('float64')\n",
    "            print(\"Converted X from uint64 to float64.\")\n",
    "        for layer_key, layer_val in value.layers.items():\n",
    "            if layer_val.dtype == 'uint32':\n",
    "                value.layers[layer_key] = layer_val.astype('int32')\n",
    "                print(f\"Converted layer {layer_key} from uint32 to int32.\")\n",
    "            elif layer_val.dtype == 'uint36':\n",
    "                value.layers[layer_key] = layer_val.astype('int36')\n",
    "                print(f\"Converted layer {layer_key} from uint36 to int36.\")"
   ]
  },
  {
   "cell_type": "code",
   "execution_count": null,
   "id": "a1babd80",
   "metadata": {},
   "outputs": [],
   "source": [
    "convert_uint_to_int(adata_dict)"
   ]
  },
  {
   "cell_type": "code",
   "execution_count": null,
   "id": "dc4dca67",
   "metadata": {},
   "outputs": [],
   "source": [
    "for key, adata in adata_dict.items():\n",
    "    print(f\"Total number of genes: {adata.n_vars}\")\n",
    "    # Min 20 cells - filters out 0 count genes.\n",
    "    sc.pp.filter_genes(adata, min_cells=20)\n",
    "    print(f\"Number of genes after gene filter: {adata.n_vars}\")\n",
    "\n",
    "    print(f\"Total number of cells: {adata.n_obs}\")\n",
    "    # Removes cells with less than 200 UMI counts\n",
    "    adata = adata[np.asarray(adata.X.sum(axis=1)).reshape(-1) > 200]\n",
    "    print(f\"Number of cells after 200 UMI minimum filter: {adata.n_obs}\")\n",
    "\n",
    "    # Removes genes with 0 umi counts\n",
    "    adata = adata[:, np.asarray(adata.X.sum(axis=0)).reshape(-1) > 0]\n",
    "    print(f\"Number of genes after 0 umi count filter: {adata.n_vars}\")\n",
    "    print(f\"Number of cells after 0 umi count filter: {adata.n_obs}\")\n",
    "\n",
    "    # Update the dictionary with the filtered 'adata' object\n",
    "    adata_dict[key] = adata\n"
   ]
  },
  {
   "cell_type": "code",
   "execution_count": null,
   "id": "61f1ef57",
   "metadata": {},
   "outputs": [],
   "source": [
    "for sample, adata in adata_dict.items():\n",
    "    # Append the filtered counts to the dataframe\n",
    "    df.loc[sample, 'Basic Filtered Cells'] = adata.n_obs\n",
    "    df.loc[sample, 'Basic Filtered Genes'] = adata.n_vars\n",
    "\n",
    "df"
   ]
  },
  {
   "cell_type": "markdown",
   "id": "2190b361",
   "metadata": {},
   "source": [
    "# MAD-BASED THRESHOLD QC AND FILTERING\n",
    "https://www.sc-best-practices.org/preprocessing_visualization/quality_control.html:"
   ]
  },
  {
   "cell_type": "code",
   "execution_count": null,
   "id": "a9daa2cc",
   "metadata": {},
   "outputs": [],
   "source": [
    "for key, adata in adata_dict.items():\n",
    "        # mitochondrial genes\n",
    "        adata.var[\"mt\"] = adata.var['gene_name'].str.startswith(\"MT-\")\n",
    "        # ribosomal genes\n",
    "        adata.var[\"ribo\"] = adata.var['gene_name'].str.startswith((\"RPS\", \"RPL\"))\n",
    "        # hemoglobin genes.\n",
    "        adata.var[\"hb\"] = adata.var['gene_name'].str.contains((\"^HB[^(P)]\"))\n",
    "        \n",
    "        sc.pp.calculate_qc_metrics(adata, qc_vars=[\"mt\", \"ribo\", \"hb\"], inplace=True, percent_top=[20], log1p=True)"
   ]
  },
  {
   "cell_type": "markdown",
   "id": "d82e4a71",
   "metadata": {},
   "source": [
    "##### At gene levels (stored in var):\n",
    "- **total_counts:** sum of counts for a gene\n",
    "- **mean_counts:** mean expression for a gene over all cells\n",
    "- **n_cells_by_counts:** number of cells with non-zero counts for a gene\n",
    "- **pct_dropout_by_counts:** percentage of cells this gene does not appear in\n",
    "\n",
    "##### At cell levels (stored in obs):\n",
    "- **total_counts:** total number of counts for a cell\n",
    "- **total_counts_mito:** total number of counts for the mitochondrial genes in a cell\n",
    "- **n_genes_by_counts:** number of genes with non-zero counts\n",
    "- **pct_counts_mt:** proportion of total counts for a cell which are from mitochondrial genes"
   ]
  },
  {
   "cell_type": "code",
   "execution_count": null,
   "id": "a0edc23a",
   "metadata": {},
   "outputs": [],
   "source": [
    "def QC_plots(adata_dict, filename: str):\n",
    "    n_plots = len(adata_dict)\n",
    "    # Create a figure with N rows and 3 columns\n",
    "    figure, axes = plt.subplots(nrows=n_plots, ncols=3, figsize=(16, 6*n_plots))\n",
    "    \n",
    "    # Loop over each object and create subplots for each row\n",
    "    for i, key in enumerate(adata_dict.keys()):\n",
    "        # Plot the first subplot\n",
    "        sns.histplot(adata_dict[key].obs[\"total_counts\"], bins=100, kde=False, ax=axes[i, 0])\n",
    "        axes[i, 0].set_title(\"Total Counts for \" + str(adata_dict[key].obs[\"sampletype\"][0]))\n",
    "        axes[i, 0].set_xlabel('Total Counts')\n",
    "        axes[i, 0].set_ylabel('N cells')\n",
    "        \n",
    "        # Plot the second subplot\n",
    "        sns.histplot(adata_dict[key].obs[\"n_genes_by_counts\"], bins=100, kde=False, ax=axes[i, 1])\n",
    "        axes[i, 1].set_title(\"Genes by Counts for \" + str(adata_dict[key].obs[\"sampletype\"][0]))\n",
    "        axes[i, 1].set_xlabel('N genes')\n",
    "        axes[i, 1].set_ylabel('N cells')\n",
    "        \n",
    "        # Plot the third subplot\n",
    "        sc.pl.violin(adata_dict[key], keys=\"pct_counts_mt\", ax=axes[i, 2], ylabel='Percent Mitochondrial Counts')\n",
    "        axes[i, 2].set_title(\"% Mitochondrial Counts for \" + str(adata_dict[key].obs[\"sampletype\"][0]))\n",
    "    \n",
    "        # Adjust spacing between subplots\n",
    "        #figure.tight_layout()\n",
    "        #figure.subplots_adjust(hspace=0.5)\n",
    "    \n",
    "    # Show the plot\n",
    "    plt.show()\n",
    "    savesvg(filename, figure)"
   ]
  },
  {
   "cell_type": "code",
   "execution_count": null,
   "id": "18c8dc56",
   "metadata": {},
   "outputs": [],
   "source": [
    "QC_plots(adata_dict, 'QC_plots1_minimal_filters.svg')"
   ]
  },
  {
   "cell_type": "code",
   "execution_count": null,
   "id": "8b878af4",
   "metadata": {},
   "outputs": [],
   "source": [
    "def QC_plots2(adata_dict, filename: str):\n",
    "    n_features = 5\n",
    "    fig, axes = plt.subplots(len(adata_dict), n_features, figsize=(15, 3 * len(adata_dict)))\n",
    "    \n",
    "    for i, (adata_name, adata) in enumerate(adata_dict.items()):\n",
    "        sampletype = adata.obs['sampletype'][0]\n",
    "        row_title = f'{sampletype}'\n",
    "        for j, feature in enumerate(['total_counts', 'n_genes_by_counts', 'pct_counts_mt', 'pct_counts_hb', 'pct_counts_ribo']):\n",
    "            ax = axes[i, j]\n",
    "            sc.pl.violin(adata, feature, ax=ax, show=False, jitter=0.4)\n",
    "        axes[i, 0].set_ylabel(row_title, fontsize=10)\n",
    "    \n",
    "    fig.tight_layout()\n",
    "    savesvg(filename, fig)"
   ]
  },
  {
   "cell_type": "code",
   "execution_count": null,
   "id": "ec69fc2f",
   "metadata": {},
   "outputs": [],
   "source": [
    "QC_plots2(adata_dict, 'QC_plots2_minimal_filtering.svg')"
   ]
  },
  {
   "cell_type": "markdown",
   "id": "a60b2385",
   "metadata": {},
   "source": [
    "Automatic thresholding via MAD (median absolute deviations). Cells are marked as outliers if they differ by 5 MADs (relatively permissive filtering strategy). Also pct_counts_Mt is filtered with 3 MADs. Additionally, cells with a percentage of mitochondrial counts exceeding 10 % are filtered out."
   ]
  },
  {
   "cell_type": "code",
   "execution_count": null,
   "id": "5445bc03",
   "metadata": {},
   "outputs": [],
   "source": [
    "def is_outlier(adata, metric: str, nmads: int):\n",
    "    M = adata.obs[metric]\n",
    "    outlier = (M < np.median(M) - nmads * M.mad()) | (\n",
    "        np.median(M) + nmads * M.mad() < M\n",
    "    )\n",
    "    return outlier\n",
    "\n",
    "def outlier_check(adata_dict):\n",
    "    for key, adata in adata_dict.items():\n",
    "        adata.obs[\"outlier\"] = (is_outlier(adata, \"log1p_total_counts\", 5)\n",
    "                                | is_outlier(adata, \"log1p_n_genes_by_counts\", 5)\n",
    "                                | is_outlier(adata, \"pct_counts_in_top_20_genes\", 5))\n",
    "        print(f\"5 MAD Outliers in {adata.obs['sampletype'][0]}\" + str(adata.obs.outlier.value_counts()))\n",
    "    \n",
    "        adata.obs[\"mt_outlier\"] = is_outlier(adata, \"pct_counts_mt\", 3) | (adata.obs[\"pct_counts_mt\"] > 10)\n",
    "        print(f\"5 MAD Outliers in {adata.obs['sampletype'][0]}\" + str(adata.obs.mt_outlier.value_counts()))\n",
    "        \n",
    "def outlier_removal(adata_dict):\n",
    "    outlier_check(adata_dict)\n",
    "    filtered_adatafiles = {}\n",
    "    for key, adata in adata_dict.items():\n",
    "        print(f\"Total number of cells: {adata.n_obs}\")\n",
    "        adata = adata[(~adata.obs.outlier) & (~adata.obs.mt_outlier)].copy()\n",
    "        print(f\"Number of cells after filtering of low quality cells: {adata.n_obs}\")\n",
    "        filtered_adatafiles[key] = adata.copy()\n",
    "    return filtered_adatafiles\n",
    "        "
   ]
  },
  {
   "cell_type": "code",
   "execution_count": null,
   "id": "4d35f13b",
   "metadata": {},
   "outputs": [],
   "source": [
    "filtered_adatafiles = outlier_removal(adata_dict)\n",
    "filtered_adatafiles"
   ]
  },
  {
   "cell_type": "code",
   "execution_count": null,
   "id": "cbc8d9e2",
   "metadata": {},
   "outputs": [],
   "source": [
    "for sample, adata in filtered_adatafiles.items():\n",
    "    # Append the filtered counts to the dataframe\n",
    "    df.loc[sample, 'MAD Filtered Cells'] = adata.n_obs\n",
    "    df.loc[sample, 'MAD Filtered Genes'] = adata.n_vars\n",
    "\n",
    "df"
   ]
  },
  {
   "cell_type": "markdown",
   "id": "ec56f927",
   "metadata": {},
   "source": [
    "# FILE SAVING"
   ]
  },
  {
   "cell_type": "code",
   "execution_count": null,
   "id": "6d3b819e",
   "metadata": {},
   "outputs": [],
   "source": [
    "def savefile(filtered_adatafiles):\n",
    "    for key in filtered_adatafiles.keys():\n",
    "        sample_name = filtered_adatafiles[key].obs['sampletype'][0]\n",
    "        filename = f\"{sample_name}_filtered.h5ad\"\n",
    "        filepath = os.path.join(RESULTS_FOLDERNAME, filename)\n",
    "        filtered_adatafiles[key].write(filepath)\n",
    "        print(f\"Saved file {filename} to {RESULTS_FOLDERNAME}.\")"
   ]
  },
  {
   "cell_type": "code",
   "execution_count": null,
   "id": "e9f17d63",
   "metadata": {},
   "outputs": [],
   "source": [
    "savefile(filtered_adatafiles)"
   ]
  },
  {
   "cell_type": "markdown",
   "id": "a764d03a",
   "metadata": {},
   "source": [
    "# DOUBLET REMOVAL"
   ]
  },
  {
   "cell_type": "code",
   "execution_count": null,
   "id": "760f4e75",
   "metadata": {},
   "outputs": [],
   "source": [
    "import anndata2ri\n",
    "import logging\n",
    "import rpy2.rinterface_lib.callbacks as rcb\n",
    "import rpy2.robjects as robjects\n",
    "\n",
    "rcb.logger.setLevel(logging.ERROR)\n",
    "robjects.pandas2ri.activate()\n",
    "anndata2ri.activate()\n",
    "\n",
    "#Loading the rpy2 extension enables cell/line magic to be used\n",
    "%load_ext rpy2.ipython"
   ]
  },
  {
   "cell_type": "code",
   "execution_count": null,
   "id": "18b8590c",
   "metadata": {},
   "outputs": [],
   "source": [
    "# Create an ordered dictionary from the original dictionary\n",
    "filtered_adatafiles = collections.OrderedDict(filtered_adatafiles)"
   ]
  },
  {
   "cell_type": "code",
   "execution_count": null,
   "id": "306dc656",
   "metadata": {},
   "outputs": [],
   "source": [
    "def doublet_removal(new_dict):\n",
    "    \"\"\"\n",
    "    Creates a SCE object, runs scDblFinder, updates adata with scDblFinder results, \n",
    "    filters data accordingly.\n",
    "    \"\"\"\n",
    "    for key, adata in new_dict.items():\n",
    "        temp_counts = new_dict[key].X.T\n",
    "        robjects.globalenv['temp_counts'] = temp_counts\n",
    "        robjects.r('library(SingleCellExperiment)')\n",
    "        robjects.r('library(\"scDblFinder\")')\n",
    "        robjects.r('set.seed(123)')\n",
    "        robjects.r('sce <- SingleCellExperiment(list(counts=temp_counts))')\n",
    "        robjects.r('counts <- assay(sce, \"counts\")')\n",
    "        robjects.r('print(sce)')\n",
    "        robjects.r('sce <- scDblFinder(sce)')\n",
    "        droplet_class = robjects.r('sce$scDblFinder.class')\n",
    "        \n",
    "        new_dict[key].obs[\"scDblFinder_class\"] = droplet_class\n",
    "        print(f'Singlets and Doublets in {key}:')\n",
    "        print(new_dict[key].obs.scDblFinder_class.value_counts())\n",
    "\n",
    "        print(f\"Total cells in {key}: {new_dict[key].n_obs}\")\n",
    "        \n",
    "        new_dict[key] = new_dict[key][new_dict[key].obs.scDblFinder_class == 1].copy()\n",
    "        print(f\"Number of cells after filtering of doublets:{new_dict[key].n_obs}\")"
   ]
  },
  {
   "cell_type": "code",
   "execution_count": null,
   "id": "ceee3e0f",
   "metadata": {
    "scrolled": true
   },
   "outputs": [],
   "source": [
    "doublet_removal(filtered_adatafiles)"
   ]
  },
  {
   "cell_type": "code",
   "execution_count": null,
   "id": "c6606ccb",
   "metadata": {},
   "outputs": [],
   "source": [
    "for sample, adata in filtered_adatafiles.items():\n",
    "    # Append the filtered counts to the dataframe\n",
    "    df.loc[sample, 'Doublet Removed Cells'] = adata.n_obs\n",
    "    df.loc[sample, 'Doublet Removed Genes'] = adata.n_vars\n",
    "\n",
    "df"
   ]
  },
  {
   "cell_type": "code",
   "execution_count": null,
   "id": "48aa5978",
   "metadata": {},
   "outputs": [],
   "source": [
    "QC_plots(filtered_adatafiles, 'QC_plots1_filtered.svg')\n",
    "QC_plots2(filtered_adatafiles, 'QC_plots2_filtered.svg')"
   ]
  },
  {
   "cell_type": "markdown",
   "id": "4c8b5aab",
   "metadata": {},
   "source": [
    "# ADDITIONAL FILTERING"
   ]
  },
  {
   "cell_type": "code",
   "execution_count": null,
   "id": "3d6bb7e6",
   "metadata": {},
   "outputs": [],
   "source": [
    "# manually defined minimal n_genes_by_counts thresholds for the different samples (based on QC plots)\n",
    "min_ngenes_threshold = {\n",
    "    'OMB1556_Ach': 400,\n",
    "    'DEV15984_Ach': 300,\n",
    "    'DEV16135DEV16171_Ach': 400,\n",
    "    'OMB1250_Quad': 200,\n",
    "    'OMB0785_Ach': 400,\n",
    "    'DEV15984_Quad': 500,\n",
    "    'DEV16127_Ach': 500,\n",
    "    'DEV16136_Ach': 200,\n",
    "    'DEV16134_Ach': 400,\n",
    "    'DEV15985_Quad': 400,\n",
    "    'DEV16134_Quad': 300,\n",
    "    'DEV16569_Ach': 300,\n",
    "    'DEV16136_Quad': 500,\n",
    "    'OMB1266_Quad': 300,\n",
    "    'DEV16127_Quad': 300,\n",
    "    'DEV16135DEV16171_Quad': 400,\n",
    "    'DEV16569_Quad': 400,\n",
    "    'DEV15983_Ach': 400,\n",
    "    'DEV15985_Ach': 400}\n",
    "\n",
    "\n",
    "def mfilter_adatafiles_by_counts(filtered_adatafiles, min_ngenes_threshold):\n",
    "    mfiltered_adatafiles = {}\n",
    "    for adata_name, min_ngenes in min_ngenes_threshold.items():\n",
    "        if adata_name in filtered_adatafiles:\n",
    "            adata = filtered_adatafiles[adata_name]\n",
    "            adata_filtered = adata[adata.obs['n_genes_by_counts'] >= min_ngenes, :]\n",
    "            print(f\"Filtered out {adata.n_obs - adata_filtered.n_obs} cells in {adata.obs['sampletype'][0]}\")\n",
    "            mfiltered_adatafiles[adata_name] = adata_filtered\n",
    "        else:\n",
    "            print(f\"Anndata object {adata_name} not found in filtered_adatafiles\")\n",
    "    return mfiltered_adatafiles"
   ]
  },
  {
   "cell_type": "code",
   "execution_count": null,
   "id": "8b028040",
   "metadata": {},
   "outputs": [],
   "source": [
    "mfiltered_adatafiles = mfilter_adatafiles_by_counts(filtered_adatafiles, min_ngenes_threshold)\n",
    "mfiltered_adatafiles"
   ]
  },
  {
   "cell_type": "code",
   "execution_count": null,
   "id": "b59820b6",
   "metadata": {},
   "outputs": [],
   "source": [
    "for sample, adata in mfiltered_adatafiles.items():\n",
    "    # Append the filtered counts to the dataframe\n",
    "    df.loc[sample, 'Manually Filtered Cells'] = adata.n_obs\n",
    "    df.loc[sample, 'Manually Filtered Genes'] = adata.n_vars\n",
    "\n",
    "df"
   ]
  },
  {
   "cell_type": "code",
   "execution_count": null,
   "id": "83009afa",
   "metadata": {},
   "outputs": [],
   "source": [
    "QC_plots(mfiltered_adatafiles, 'QC_plots_fully_filtered.svg')\n",
    "QC_plots2(mfiltered_adatafiles, 'QC_plots2_fully_filtered.svg')"
   ]
  },
  {
   "cell_type": "markdown",
   "id": "3c0bd504",
   "metadata": {},
   "source": [
    "# CONCATENATION"
   ]
  },
  {
   "cell_type": "code",
   "execution_count": null,
   "id": "c05a6edf",
   "metadata": {},
   "outputs": [],
   "source": [
    "# \"\"\"Version 1 of concatenation, seems inferior to the concat() offered by anndata:\"\"\"\n",
    "\n",
    "# def concatenate_adatafiles(filtered_adatafiles):\n",
    "#     \"\"\"\n",
    "#     Concatenates all anndata objects within a dictionary.\n",
    "\n",
    "#     Args:\n",
    "#         filtered_adatafiles: A dictionary object containing the anndata objects to be concatenated.\n",
    "\n",
    "#     Returns:\n",
    "#         A concatenated anndata object.\n",
    "#     \"\"\"\n",
    "\n",
    "#     # Separate the first object from the dictionary\n",
    "#     adata_list = list(filtered_adatafiles.values())\n",
    "#     adata = adata_list[0]\n",
    "    \n",
    "#     # Concatenate the remaining objects in the dictionary\n",
    "#     adata_concat = adata.concatenate(adata_list, join='outer', index_unique=None)\n",
    "#     del adata, adata_list\n",
    "    \n",
    "#     return adata_concat"
   ]
  },
  {
   "cell_type": "code",
   "execution_count": null,
   "id": "7a2cfbf5",
   "metadata": {},
   "outputs": [],
   "source": [
    "def concat_filtered_adatafiles(filtered_adatafiles):\n",
    "    # Extract the values (anndata objects) from the dictionary\n",
    "    adata_list = list(filtered_adatafiles.values())\n",
    "    \n",
    "    # Concatenate the anndata objects\n",
    "    adata_concat = anndata.concat(\n",
    "        adata_list,\n",
    "        join='outer',\n",
    "        index_unique=None      # Optional: specify a custom index unique function\n",
    "    )\n",
    "    \n",
    "    return adata_concat"
   ]
  },
  {
   "cell_type": "code",
   "execution_count": null,
   "id": "a5172d1c",
   "metadata": {},
   "outputs": [],
   "source": [
    "adata_concat = concat_filtered_adatafiles(mfiltered_adatafiles)\n",
    "adata_concat"
   ]
  },
  {
   "cell_type": "code",
   "execution_count": null,
   "id": "6bef67d6",
   "metadata": {},
   "outputs": [],
   "source": [
    "adata_concat.obs['age'] = adata_concat.obs['age'].astype('category')\n",
    "adata_concat.obs['sampletype'].value_counts()"
   ]
  },
  {
   "cell_type": "code",
   "execution_count": null,
   "id": "ea62b3ba",
   "metadata": {},
   "outputs": [],
   "source": [
    "def create_violin_plots(adata_concat, filename: str):\n",
    "    # Define the parameters to plot\n",
    "    parameters = ['total_counts', 'n_genes_by_counts', 'pct_counts_mt', \n",
    "                  #'pct_counts_hb', 'pct_counts_ribo'\n",
    "                 ]\n",
    "    \n",
    "    # Create a figure with 5 subplots\n",
    "    fig, axs = plt.subplots(nrows=len(parameters), figsize=(12, len(parameters)*4))\n",
    "    \n",
    "    # Define the age palette\n",
    "    age_colors = sns.color_palette('dark', len(adata_concat.obs['age'].cat.categories))\n",
    "    age_palette = dict(zip(adata_concat.obs['age'].cat.categories, age_colors))\n",
    "    \n",
    "    # Define a dictionary mapping sample names to age categories\n",
    "    sample_to_age = dict(zip(adata_concat.obs['sampletype'].values, adata_concat.obs['age']))\n",
    "    \n",
    "    # Initialize lists to store legend handles and labels\n",
    "    legend_handles = []\n",
    "    legend_labels = []\n",
    "\n",
    "    # Loop over the parameters and create a violin plot for each one\n",
    "    for i, param in enumerate(parameters):\n",
    "        ax = sc.pl.violin(adata_concat, keys=[param], groupby='sampletype', ax=axs[i], show=False, color='white')\n",
    "        axs[i].set_xlabel('')\n",
    "        axs[i].set_title(param, fontsize=12)\n",
    "        #axs[i].set_xticklabels(axs[i].get_xticklabels(), rotation=65, ha='right')\n",
    "        #axs[i].tick_params(axis='x', labelrotation=90, labelsize=8)\n",
    "        if i == len(parameters)-1:\n",
    "            axs[i].tick_params(axis='x', labelrotation=90, labelsize=8)\n",
    "        else:\n",
    "            axs[i].tick_params(axis='x', which='both', labelbottom=False, labeltop=False)\n",
    "\n",
    "        # Color the samples based on their age\n",
    "        for tick, label in zip(ax.get_xticks(), ax.get_xticklabels()):\n",
    "            sample_name = label.get_text()\n",
    "            age_category = sample_to_age[sample_name]\n",
    "            color = age_palette[age_category]\n",
    "            label.set_color(color)\n",
    "            \n",
    "            # Add handles and labels for the current age category to the legend lists\n",
    "            if age_category not in legend_labels:\n",
    "                legend_handles.append(plt.Rectangle((0,0),1,1, color=color))\n",
    "                legend_labels.append(age_category)\n",
    "\n",
    "    # Add a legend for the 'age' variable - vertical\n",
    "    if 'age' in adata_concat.obs:\n",
    "        fig.legend(legend_handles, legend_labels, loc='center left')\n",
    "        \n",
    "    # Add a legend for the 'age' variable - horizontal below the plot\n",
    "    #if 'age' in adata_concat.obs:\n",
    "    #    legend_ax = fig.add_axes([0, -0.2, 1, 0.1])  # create a new axis below the plot axes\n",
    "    #    legend_ax.axis('off')  # turn off the axis so it doesn't interfere with the plot\n",
    "    #    legend_ax.legend(legend_handles, legend_labels, loc='center', ncol=len(legend_labels))  # add the legend to the new axis\n",
    "\n",
    "    # Add a legend for the 'age' variable - horizontal above the plot\n",
    "    #if 'age' in adata_concat.obs:\n",
    "    #    legend_ax = fig.add_axes([0, 1.1, 1, 0.1])  # create a new axis above the plot axes\n",
    "    #    legend_ax.axis('off')  # turn off the axis so it doesn't interfere with the plot\n",
    "    #    legend_ax.legend(legend_handles, legend_labels, loc='upper center', ncol=len(legend_labels))  # add the legend to the new axis\n",
    "    \n",
    "    \n",
    "    # Adjust the spacing between the subplots\n",
    "    plt.subplots_adjust(hspace=0.2)\n",
    "    \n",
    "    # Show the figure\n",
    "    plt.show()\n",
    "    savesvg(filename, fig)"
   ]
  },
  {
   "cell_type": "code",
   "execution_count": null,
   "id": "36570563",
   "metadata": {},
   "outputs": [],
   "source": [
    "create_violin_plots(adata_concat, 'concat_violins_filtered.svg')"
   ]
  },
  {
   "cell_type": "code",
   "execution_count": null,
   "id": "fed8dd84",
   "metadata": {},
   "outputs": [],
   "source": [
    "print(adata_concat.X[1:5, 1:5])\n",
    "adata_concat.layers['counts'] = adata_concat.X.copy()"
   ]
  },
  {
   "cell_type": "code",
   "execution_count": null,
   "id": "517f7cf8",
   "metadata": {},
   "outputs": [],
   "source": [
    "adata_concat.write(os.path.join(RESULTS_FOLDERNAME, 'adata_concat_filtered.h5ad'))"
   ]
  },
  {
   "cell_type": "code",
   "execution_count": null,
   "id": "6da82164",
   "metadata": {},
   "outputs": [],
   "source": [
    "df = df.apply(lambda x: x.astype(int))\n",
    "df"
   ]
  },
  {
   "cell_type": "code",
   "execution_count": null,
   "id": "9443fb37",
   "metadata": {},
   "outputs": [],
   "source": [
    "df.to_csv(os.path.join(RESULTS_FOLDERNAME,'filtering_cells_genes_table.csv'), index=True)"
   ]
  }
 ],
 "metadata": {
  "kernelspec": {
   "display_name": "Python [conda env:scib-pipeline-R4.0]",
   "language": "python",
   "name": "conda-env-scib-pipeline-R4.0-py"
  },
  "language_info": {
   "codemirror_mode": {
    "name": "ipython",
    "version": 3
   },
   "file_extension": ".py",
   "mimetype": "text/x-python",
   "name": "python",
   "nbconvert_exporter": "python",
   "pygments_lexer": "ipython3",
   "version": "3.7.12"
  }
 },
 "nbformat": 4,
 "nbformat_minor": 5
}
