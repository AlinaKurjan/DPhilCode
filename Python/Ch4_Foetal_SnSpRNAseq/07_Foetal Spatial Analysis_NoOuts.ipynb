{
 "cells": [
  {
   "cell_type": "code",
   "execution_count": null,
   "id": "f7687e91",
   "metadata": {},
   "outputs": [],
   "source": [
    "import os\n",
    "import numpy as np\n",
    "import pandas as pd\n",
    "import scanpy as sc\n",
    "import squidpy as sq\n",
    "import seaborn as sns\n",
    "import matplotlib.pyplot as plt\n",
    "import matplotlib as mpl\n",
    "\n",
    "import cell2location\n",
    "import scvi\n",
    "\n",
    "from matplotlib import rcParams\n",
    "rcParams['pdf.fonttype'] = 42 # enables correct plotting of text for PDFs\n",
    "\n",
    "# Print date and time:\n",
    "import datetime\n",
    "e = datetime.datetime.now()\n",
    "print (\"Current date and time = %s\" % e)\n",
    "\n",
    "# set variables for file paths to read from and write to:\n",
    "\n",
    "# set a working directory\n",
    "wdir = \"/mnt/da8aa2c4-0136-465b-87a2-d12a59afec55/akurjan/analysis/notebooks\"\n",
    "os.chdir( wdir )\n",
    "\n",
    "# folder structures\n",
    "RESULTS_FOLDERNAME = \"foetal/results/Spatial/\"\n",
    "FIGURES_FOLDERNAME = \"foetal/figures/Spatial/\"\n",
    "\n",
    "if not os.path.exists(RESULTS_FOLDERNAME):\n",
    "    os.makedirs(RESULTS_FOLDERNAME)\n",
    "if not os.path.exists(FIGURES_FOLDERNAME):\n",
    "    os.makedirs(FIGURES_FOLDERNAME)\n",
    "\n",
    "# Set folder for saving figures into\n",
    "sc.settings.figdir = FIGURES_FOLDERNAME\n",
    "    \n",
    "sp_data_folder = \"../files/Spatial/dev/\"\n",
    "\n",
    "\n",
    "def savesvg(fname: str, fig, folder: str=FIGURES_FOLDERNAME) -> None:\n",
    "    \"\"\"\n",
    "    Save figure as vector-based SVG image format.\n",
    "    \"\"\"\n",
    "    fig.tight_layout()\n",
    "    fig.savefig(os.path.join(folder, fname), format='svg')\n",
    "\n",
    "# Set other settings\n",
    "sc.settings.verbosity = 3 # verbosity: errors (0), warnings (1), info (2), hints (3)\n",
    "sc.logging.print_versions()\n",
    "sc.set_figure_params(dpi=150, fontsize=10, dpi_save=600)"
   ]
  },
  {
   "cell_type": "markdown",
   "id": "bda52c5d",
   "metadata": {},
   "source": [
    "# File Preparation"
   ]
  },
  {
   "cell_type": "code",
   "execution_count": null,
   "id": "ca7f9c69",
   "metadata": {},
   "outputs": [],
   "source": [
    "def read_and_qc(sample_name, path=sp_data_folder):\n",
    "    \"\"\" \n",
    "    This function reads the data for one 10X spatial experiment into the anndata object.\n",
    "    It also calculates QC metrics. Modify this function if required by your workflow.\n",
    "\n",
    "    :param sample_name: Name of the sample\n",
    "    :param path: path to data\n",
    "    \"\"\"\n",
    "\n",
    "    adata = sc.read_visium(path + str(sample_name) + '/outs/',\n",
    "                           count_file='filtered_feature_bc_matrix.h5', load_images=True)\n",
    "    adata.obs['sample'] = sample_name\n",
    "    adata.var['SYMBOL'] = adata.var_names\n",
    "    adata.var.rename(columns={'gene_ids': 'ENSEMBL'}, inplace=True)\n",
    "    adata.var['Gene'] = adata.var['SYMBOL'].fillna(adata.var['ENSEMBL'])\n",
    "    adata.var_names = adata.var['Gene']\n",
    "    adata.var.drop(columns='Gene', inplace=True)\n",
    "    adata.var_names_make_unique()\n",
    "    # adata.var_names = adata.var['ENSEMBL']\n",
    "    # adata.var.drop(columns='ENSEMBL', inplace=True)\n",
    "\n",
    "    # Calculate QC metrics\n",
    "    from scipy.sparse import csr_matrix\n",
    "    adata.X = adata.X.toarray()\n",
    "    sc.pp.calculate_qc_metrics(adata, inplace=True)\n",
    "    adata.X = csr_matrix(adata.X)\n",
    "    adata.var['mt'] = [gene.startswith('MT-') for gene in adata.var['SYMBOL']]\n",
    "    adata.var[\"ribo\"] = adata.var['SYMBOL'].str.startswith((\"RPS\", \"RPL\"))\n",
    "    adata.var[\"mtrnr\"] = adata.var['SYMBOL'].str.startswith((\"MTRNR\"))\n",
    "    adata.obs['mt_frac'] = adata[:, adata.var['mt'].tolist()].X.sum(1).A.squeeze()/adata.obs['total_counts']\n",
    "\n",
    "    # add sample name to obs names\n",
    "    adata.obs[\"sample\"] = [str(i) for i in adata.obs['sample']]\n",
    "    adata.obs_names = adata.obs[\"sample\"] \\\n",
    "                          + '_' + adata.obs_names\n",
    "    adata.obs.index.name = 'spot_id'\n",
    "\n",
    "    return adata"
   ]
  },
  {
   "cell_type": "code",
   "execution_count": null,
   "id": "239b8865",
   "metadata": {},
   "outputs": [],
   "source": [
    "# Read the list of spatial experiments\n",
    "sample_name = 'Dev16126_Ach_EnthMB_H', 'Dev16126_Quad_MB_H', 'Dev16126_Quad_MB2_H'\n",
    "\n",
    "# Read the data into anndata objects\n",
    "slides = []\n",
    "for i in sample_name:\n",
    "    slides.append(read_and_qc(i, path=sp_data_folder))\n",
    "slides"
   ]
  },
  {
   "cell_type": "code",
   "execution_count": null,
   "id": "dc05b060",
   "metadata": {},
   "outputs": [],
   "source": [
    "slides[0].var"
   ]
  },
  {
   "cell_type": "code",
   "execution_count": null,
   "id": "f5a474d7",
   "metadata": {},
   "outputs": [],
   "source": [
    "slides[0].obs['sample'][0]"
   ]
  },
  {
   "cell_type": "code",
   "execution_count": null,
   "id": "553f8fb8",
   "metadata": {},
   "outputs": [],
   "source": [
    "for adata in slides:\n",
    "    adata.var_names_make_unique()\n",
    "    sc.pp.calculate_qc_metrics(adata, qc_vars=[\"mt\", \"ribo\"], inplace=True)"
   ]
  },
  {
   "cell_type": "code",
   "execution_count": null,
   "id": "b2f8cd90",
   "metadata": {},
   "outputs": [],
   "source": [
    "for adata in slides:\n",
    "    fig, axs = plt.subplots(1, 4, figsize=(15, 4))\n",
    "    sns.distplot(adata.obs[\"total_counts\"], kde=False, ax=axs[0])\n",
    "    sns.distplot(adata.obs[\"total_counts\"][adata.obs[\"total_counts\"] < 10000], kde=False, bins=40, ax=axs[1])\n",
    "    sns.distplot(adata.obs[\"n_genes_by_counts\"], kde=False, bins=60, ax=axs[2])\n",
    "    sns.distplot(adata.obs[\"n_genes_by_counts\"][adata.obs[\"n_genes_by_counts\"] < 4000], kde=False, bins=60, ax=axs[3])\n",
    "    print(adata.obs['sample'][0])"
   ]
  },
  {
   "cell_type": "code",
   "execution_count": null,
   "id": "e7a8cc18",
   "metadata": {},
   "outputs": [],
   "source": [
    "sc.pp.filter_cells(slides[0], min_counts=700)\n",
    "sc.pp.filter_cells(slides[0], max_counts=15000)\n",
    "sc.pp.filter_genes(slides[0], min_cells=10)\n",
    "\n",
    "sc.pp.filter_cells(slides[1], min_counts=1000)\n",
    "sc.pp.filter_cells(slides[1], max_counts=20000)\n",
    "sc.pp.filter_genes(slides[1], min_cells=10)\n",
    "\n",
    "sc.pp.filter_cells(slides[2], min_counts=500)\n",
    "sc.pp.filter_cells(slides[2], max_counts=10000)\n",
    "sc.pp.filter_genes(slides[2], min_cells=10)"
   ]
  },
  {
   "cell_type": "code",
   "execution_count": null,
   "id": "5713f906",
   "metadata": {},
   "outputs": [],
   "source": [
    "for adata in slides:\n",
    "    sc.pl.violin(adata, 'mt_frac')"
   ]
  },
  {
   "cell_type": "code",
   "execution_count": null,
   "id": "1bc8e1a8",
   "metadata": {},
   "outputs": [],
   "source": [
    "for idx, adata in enumerate(slides):\n",
    "    print(f\"Sample: {adata.obs['sample'][0]}\")\n",
    "    print(f\"#genes before MT filter: {adata.n_vars}\")\n",
    "    \n",
    "    # remove MT genes for spatial mapping (keeping their counts in the object)\n",
    "    adata.obsm['MT'] = adata[:, adata.var['mt'].values].X.toarray()\n",
    "    slides[idx] = adata[:, ~adata.var['mt'].values]\n",
    "    print(f\"#genes after MT filter: {slides[idx].n_vars}\")"
   ]
  },
  {
   "cell_type": "code",
   "execution_count": null,
   "id": "3836ea9f",
   "metadata": {},
   "outputs": [],
   "source": [
    "for idx, adata in enumerate(slides):\n",
    "    print(f\"Sample: {adata.obs['sample'][0]}\")\n",
    "    print(f\"#genes before MTrnr filter: {adata.n_vars}\")\n",
    "    adata.obsm['MTRNR'] = adata[:, adata.var['mtrnr'].values].X.toarray()\n",
    "    slides[idx] = adata[:, ~adata.var['mtrnr'].values]\n",
    "    print(f\"#genes after MTrnr filter: {slides[idx].n_vars}\")"
   ]
  },
  {
   "cell_type": "code",
   "execution_count": null,
   "id": "5c7328bc",
   "metadata": {},
   "outputs": [],
   "source": [
    "for idx, adata in enumerate(slides):\n",
    "    print(f\"Sample: {adata.obs['sample'][0]}\")\n",
    "    print(f\"#genes before RIBO filter: {adata.n_vars}\")\n",
    "    adata.obsm['ribo'] = adata[:, adata.var['ribo'].values].X.toarray()\n",
    "    slides[idx] = adata[:, ~adata.var['ribo'].values]\n",
    "    print(f\"#genes after RIBO filter: {slides[idx].n_vars}\")\n"
   ]
  },
  {
   "cell_type": "code",
   "execution_count": null,
   "id": "953e4461",
   "metadata": {},
   "outputs": [],
   "source": [
    "slides[0].var"
   ]
  },
  {
   "cell_type": "code",
   "execution_count": null,
   "id": "a0bce004",
   "metadata": {},
   "outputs": [],
   "source": [
    "print(slides[0].X[1:10,1:10])"
   ]
  },
  {
   "cell_type": "code",
   "execution_count": null,
   "id": "3fa9b635",
   "metadata": {},
   "outputs": [],
   "source": [
    "for idx, adata in enumerate(slides):\n",
    "    slides[idx].layers['counts'] = adata.X.copy()\n",
    "    sc.pp.normalize_total(adata, inplace=True)\n",
    "    sc.pp.log1p(adata)\n",
    "    slides[idx].layers['normcounts'] = adata.X.copy()\n",
    "    sc.pp.highly_variable_genes(adata, flavor=\"cell_ranger\", n_top_genes=2000)"
   ]
  },
  {
   "cell_type": "code",
   "execution_count": null,
   "id": "ada8d5eb",
   "metadata": {},
   "outputs": [],
   "source": [
    "print(slides[0].X[1:10,1:10])"
   ]
  },
  {
   "cell_type": "code",
   "execution_count": null,
   "id": "b01d592a",
   "metadata": {},
   "outputs": [],
   "source": [
    "for adata in slides:\n",
    "    sc.pp.scale(adata)\n",
    "    sc.pp.pca(adata)\n",
    "    sc.pp.neighbors(adata)\n",
    "    sc.tl.umap(adata)\n",
    "    sc.tl.leiden(adata, key_added=\"clusters\")"
   ]
  },
  {
   "cell_type": "code",
   "execution_count": null,
   "id": "02d7ea93",
   "metadata": {},
   "outputs": [],
   "source": [
    "plt.rcParams[\"figure.figsize\"] = (4, 4)\n",
    "for adata in slides:\n",
    "    name = adata.obs['sample'][0]\n",
    "    sc.pl.umap(adata, color=[\"total_counts\", \"n_genes_by_counts\", \"clusters\"], wspace=0.4,\n",
    "               save=f'_{name}_countsAndClusters_umaps.svg')"
   ]
  },
  {
   "cell_type": "code",
   "execution_count": null,
   "id": "d2e72687",
   "metadata": {
    "scrolled": true
   },
   "outputs": [],
   "source": [
    "plt.rcParams[\"figure.figsize\"] = (8, 8)\n",
    "for adata in slides:\n",
    "    name = adata.obs['sample'][0]\n",
    "    sc.pl.spatial(adata, img_key=\"hires\", color=[\"total_counts\", \"n_genes_by_counts\"],\n",
    "                  save=f'_{name}_counts.svg')"
   ]
  },
  {
   "cell_type": "markdown",
   "id": "3613ef47",
   "metadata": {},
   "source": [
    "## BASIC FEATURE CLUSTERING"
   ]
  },
  {
   "cell_type": "code",
   "execution_count": null,
   "id": "7df61847",
   "metadata": {
    "scrolled": false
   },
   "outputs": [],
   "source": [
    "for adata in slides:\n",
    "    name = adata.obs['sample'][0]\n",
    "    sq.gr.spatial_neighbors(adata, coord_type='generic', radius=3.0)\n",
    "    sq.pl.spatial_scatter(adata, shape='circle', color='clusters', img_alpha=0.8,\n",
    "                  frameon=False, figsize=(7, 3.5),\n",
    "                  size=1.5, connectivity_key='spatial_connectivities', edges_width=2,\n",
    "                  save=f'_{name}_connectivities_clusters1_spatialmap.svg'\n",
    "                 )"
   ]
  },
  {
   "cell_type": "code",
   "execution_count": null,
   "id": "9a76be9b",
   "metadata": {},
   "outputs": [],
   "source": [
    "# for adata in slides:\n",
    "#     adata.var['ENSEMBL'] = adata.var.index\n",
    "#     adata.var['Gene'] = adata.var['SYMBOL'].fillna(adata.var['ENSEMBL'])\n",
    "#     adata.var.index = adata.var['Gene']\n",
    "#     adata.var_names_make_unique()"
   ]
  },
  {
   "cell_type": "code",
   "execution_count": null,
   "id": "bff0cd58",
   "metadata": {
    "scrolled": false
   },
   "outputs": [],
   "source": [
    "for adata in slides:\n",
    "    name = adata.obs['sample'][0]\n",
    "    sc.tl.rank_genes_groups(adata, \"clusters\", method=\"wilcoxon\", layer='normcounts')\n",
    "    sc.pl.rank_genes_groups_heatmap(adata, n_genes=5, groupby=\"clusters\", \n",
    "                                    cmap='seismic', vcenter=0, figsize=(10, 7),\n",
    "                                    save=f'_{name}_heatmap_wilcoxonClusterDEGs.svg'\n",
    "                                    # gene_symbols='Gene'\n",
    "                                   )"
   ]
  },
  {
   "cell_type": "code",
   "execution_count": null,
   "id": "d1d73578",
   "metadata": {},
   "outputs": [],
   "source": [
    "dge_list = [] \n",
    "for adata in slides:\n",
    "    result = adata.uns['rank_genes_groups']\n",
    "    groups = result['names'].dtype.names\n",
    "    df = pd.DataFrame(\n",
    "        {group + '_' + key: result[key][group]\n",
    "        for group in groups \n",
    "        for key in ['names','scores','logfoldchanges', 'pvals', 'pvals_adj']})\n",
    "    df.to_csv(os.path.join(RESULTS_FOLDERNAME, f'{adata.obs[\"sample\"][0]}_dev_DGE_wilcoxon_spatial.csv'))\n",
    "    dge_list.append(df)  # Append the DataFrame to the list"
   ]
  },
  {
   "cell_type": "code",
   "execution_count": null,
   "id": "f67abe26",
   "metadata": {},
   "outputs": [],
   "source": [
    "dge_list[2]"
   ]
  },
  {
   "cell_type": "code",
   "execution_count": null,
   "id": "2dd95469",
   "metadata": {},
   "outputs": [],
   "source": [
    "# rename clusters according to their histological regions:\n",
    "\n",
    "for adata in slides:\n",
    "    name=adata.obs['sample'][0]\n",
    "    if name == 'Dev16126_Ach_EnthMB_H':\n",
    "        adata.obs['region_name'] = adata.obs['clusters'].astype(int)\n",
    "        region_names = { \n",
    "            0: 'Tendon (Throughout)', #\n",
    "            1: 'Tendon (ENTH)', #\n",
    "            2: 'Tendon (MB-MTJ)', \n",
    "            3: 'Tendon (ENTH-MB)', \n",
    "            4: 'Tendon LCT (Outer)', \n",
    "            5: 'Skeletal Muscle',\n",
    "            6: 'Tendon LCT (Inner)'\n",
    "        }\n",
    "        adata.obs['region_name'] = adata.obs['region_name'].replace(region_names)\n",
    "        print('achilles done')\n",
    "    elif name == 'Dev16126_Quad_MB_H':\n",
    "        adata.obs['region_name'] = adata.obs['clusters'].astype(int)\n",
    "        region_names = { \n",
    "            0: 'Skeletal Muscle', #\n",
    "            1: 'Muscle LCT', #\n",
    "            2: 'Tendon (ENTH-MB)', \n",
    "            3: 'Tendon (MB-MTJ)', \n",
    "            4: 'Tendon LCT (Outer, MTJ)', \n",
    "            5: 'Tendon LCT (Outer, ENTH-MB)',\n",
    "            6: 'Tendon LCT (Outer, MB-MTJ)'\n",
    "        }\n",
    "        adata.obs['region_name'] = adata.obs['region_name'].replace(region_names)\n",
    "        print('quads1 done')\n",
    "    elif name == 'Dev16126_Quad_MB2_H':\n",
    "        adata.obs['region_name'] = adata.obs['clusters'].astype(int)\n",
    "        region_names = { \n",
    "            0: 'Tendon (Throughout)', #\n",
    "            1: 'Muscle LCT', #\n",
    "            2: 'Tendon LCT (Inner, Throughout)', \n",
    "            3: 'Skeletal Muscle', \n",
    "            4: 'Tendon LCT (Outer, MTJ)', \n",
    "            5: 'Tendon LCT (Inner, ENTH-MB)',\n",
    "            6: 'Muscle LCT'\n",
    "        }\n",
    "        adata.obs['region_name'] = adata.obs['region_name'].replace(region_names)\n",
    "        print('quads2 done')\n",
    "    else:\n",
    "        print('ohhhhhnooooo')\n"
   ]
  },
  {
   "cell_type": "code",
   "execution_count": null,
   "id": "8da02eae",
   "metadata": {
    "scrolled": false
   },
   "outputs": [],
   "source": [
    "for adata in slides:\n",
    "    #sq.gr.spatial_neighbors(adata, coord_type='generic', radius=3.0)\n",
    "    sq.pl.spatial_scatter(adata, shape='circle', color='region_name', img_alpha=0.8,\n",
    "                          size=1.5, connectivity_key='spatial_connectivities', edges_width=2,\n",
    "                          frameon=False, figsize=(7, 3.5), \n",
    "                          palette='Accent',\n",
    "                          save=f'_{adata.obs[\"sample\"][0]}_annotated_region_clusters_spatialmap.svg'\n",
    "                         )"
   ]
  },
  {
   "cell_type": "markdown",
   "id": "75ffa9e3",
   "metadata": {},
   "source": [
    "## SEGMENTATION"
   ]
  },
  {
   "cell_type": "code",
   "execution_count": null,
   "id": "4742a59d",
   "metadata": {
    "scrolled": true
   },
   "outputs": [],
   "source": [
    "import skimage.exposure\n",
    "\n",
    "# make hne image a bit brighter\n",
    "for adata in slides:\n",
    "    library_id = adata.obs['sample'][0]\n",
    "    img_png = adata.uns['spatial'][library_id]['images']['hires']\n",
    "    p2, p98 = np.percentile(img_png, (0.5, 99.5))\n",
    "    img_rescale = skimage.exposure.rescale_intensity(img_png, in_range=(p2, p98))\n",
    "\n",
    "    fig, axes = plt.subplots(1,2)\n",
    "    axes[0].imshow(img_rescale[500:1000,500:1000])\n",
    "    axes[1].imshow(img_png[500:1000,500:1000])\n",
    "\n",
    "    adata.uns['spatial'][library_id]['images']['hires'] = img_rescale"
   ]
  },
  {
   "cell_type": "code",
   "execution_count": null,
   "id": "c32b6562",
   "metadata": {},
   "outputs": [],
   "source": [
    "image_dict = {}\n",
    "for adata in slides:\n",
    "    library_id = adata.obs['sample'][0]\n",
    "    img = sq.im.ImageContainer(\n",
    "        adata.uns['spatial'][library_id]['images']['hires'],\n",
    "        scale = adata.uns['spatial'][library_id]['scalefactors']['tissue_hires_scalef']\n",
    "        )\n",
    "    image_dict[library_id] = img\n",
    "    \n",
    "image_dict"
   ]
  },
  {
   "cell_type": "code",
   "execution_count": null,
   "id": "7f832673",
   "metadata": {
    "scrolled": true
   },
   "outputs": [],
   "source": [
    "# plot hne\n",
    "for adata in slides:\n",
    "    library_id = adata.obs['sample'][0]\n",
    "    fig, ax = plt.subplots(\n",
    "        figsize=(3, 5),\n",
    "    )\n",
    "    sc.pl.spatial(\n",
    "        adata,\n",
    "        color=None,\n",
    "        img_key='hires',\n",
    "        ax=ax,\n",
    "        title='H&E stain',\n",
    "        #legend_loc=False,\n",
    "        show=False\n",
    "    )\n",
    "    ax.axes.xaxis.label.set_visible(False)\n",
    "    ax.axes.yaxis.label.set_visible(False)\n",
    "    # save figure\n",
    "    plt.tight_layout()\n",
    "    plt.savefig(os.path.join(FIGURES_FOLDERNAME, f'{library_id}_spatial_hne.png'), dpi=300, bbox_inches='tight')"
   ]
  },
  {
   "cell_type": "code",
   "execution_count": null,
   "id": "ad2fc6b2",
   "metadata": {
    "scrolled": false
   },
   "outputs": [],
   "source": [
    "for img in image_dict.values():\n",
    "    crop = img.crop_corner(900, 700, size=150)\n",
    "    # smooth image\n",
    "    sq.im.process(crop, \n",
    "                  layer=\"image\", \n",
    "                  method=\"smooth\", \n",
    "                  sigma=0)\n",
    "\n",
    "    # plot the result\n",
    "    fig, axes = plt.subplots(1, 2)\n",
    "    for layer, ax in zip([\"image\", \"image_smooth\"], axes):\n",
    "        crop.show(layer, ax=ax)\n",
    "        ax.set_title(layer)\n",
    "        \n",
    "    fig, axes = plt.subplots(1, 3, figsize=(15, 4))\n",
    "    crop.show(\"image_smooth\", cmap=\"gray\", ax=axes[0])\n",
    "    axes[1].imshow(crop[\"image_smooth\"][:, :, 0, 0] < 0.4)\n",
    "    _ = sns.histplot(np.array(crop[\"image_smooth\"]).flatten(), bins=50, ax=axes[2])\n",
    "    plt.tight_layout()\n",
    "    \n",
    "    sq.im.segment(img=crop, layer=\"image_smooth\", method=\"watershed\", thresh=0.4, geq=False)\n",
    "    print(crop)\n",
    "    print(f\"Number of segments in crop: {len(np.unique(crop['segmented_watershed']))}\")\n",
    "\n",
    "    fig, axes = plt.subplots(1, 2)\n",
    "    crop.show(\"image\", channel=0, ax=axes[0])\n",
    "    _ = axes[0].set_title(\"H&E\")\n",
    "    crop.show(\"segmented_watershed\", cmap=\"jet\", interpolation=\"none\", ax=axes[1])\n",
    "    _ = axes[1].set_title(\"segmentation\")"
   ]
  },
  {
   "cell_type": "code",
   "execution_count": null,
   "id": "4464e164",
   "metadata": {
    "scrolled": false
   },
   "outputs": [],
   "source": [
    "for adata in slides:\n",
    "    for name, img in image_dict.items():\n",
    "        if name == adata.obs['sample'][0]:\n",
    "            # smooth image\n",
    "            sq.im.process(img, \n",
    "                          layer=\"image\", \n",
    "                          method=\"smooth\", \n",
    "                          sigma=0)\n",
    "\n",
    "            # plot the result\n",
    "            fig, axes = plt.subplots(1, 2)\n",
    "            for layer, ax in zip([\"image\", \"image_smooth\"], axes):\n",
    "                img.show(layer, ax=ax)\n",
    "                ax.set_title(layer)\n",
    "\n",
    "            fig, axes = plt.subplots(1, 3, figsize=(15, 4))\n",
    "            img.show(\"image_smooth\", cmap=\"gray\", ax=axes[0])\n",
    "            axes[1].imshow(img[\"image_smooth\"][:, :, 0, 0] < 0.6)\n",
    "            _ = sns.histplot(np.array(img[\"image_smooth\"]).flatten(), bins=50, ax=axes[2])\n",
    "            plt.tight_layout()\n",
    "\n",
    "            sq.im.segment(img=img, layer=\"image_smooth\", method=\"watershed\", thresh=0.6, geq=False)\n",
    "            print(img)\n",
    "            print(f\"Number of segments in img: {len(np.unique(img['segmented_watershed']))}\")\n",
    "\n",
    "            fig, axes = plt.subplots(1, 2)\n",
    "            img.show(\"image\", channel=0, ax=axes[0])\n",
    "            _ = axes[0].set_title(\"H&E\")\n",
    "            img.show(\"segmented_watershed\", cmap=\"jet\", interpolation=\"none\", ax=axes[1])\n",
    "            _ = axes[1].set_title(\"segmentation\")\n",
    "\n",
    "            # define image layer to use for segmentation\n",
    "            features_kwargs = {\"segmentation\": {\"label_layer\": \"segmented_watershed\"}}\n",
    "            # calculate segmentation features\n",
    "            sq.im.calculate_image_features(\n",
    "                adata,\n",
    "                img,\n",
    "                features=\"segmentation\",\n",
    "                layer=\"image\",\n",
    "                key_added=\"features_segmentation\",\n",
    "                n_jobs=1,\n",
    "                features_kwargs=features_kwargs,\n",
    "            )\n",
    "            \n",
    "            # combine features in one dataframe\n",
    "            adata.obsm[\"segments\"] = pd.concat(\n",
    "                [adata.obsm[f] for f in adata.obsm.keys() if \"features_segmentation\" in f],\n",
    "                axis=\"columns\",\n",
    "            )\n",
    "            # make sure that we have no duplicated feature names in the combined table\n",
    "            adata.obsm[\"segments\"].columns = ad.utils.make_index_unique(\n",
    "                adata.obsm[\"segments\"].columns\n",
    "            )\n",
    "\n",
    "            # plot results and compare with gene-space clustering\n",
    "            sq.pl.spatial_scatter(\n",
    "                sq.pl.extract(adata, \"features_segmentation\"),\n",
    "                color=[\n",
    "                    \"segmentation_label\",\n",
    "                    \"clusters\",\n",
    "                ],\n",
    "                frameon=False,\n",
    "                ncols=2,\n",
    "            )"
   ]
  },
  {
   "cell_type": "code",
   "execution_count": null,
   "id": "797890b1",
   "metadata": {},
   "outputs": [],
   "source": [
    "for adata in slides:\n",
    "    for img in image_dict.keys():\n",
    "        if img == adata.obs['sample'][0]:\n",
    "            np.set_printoptions(threshold=10)\n",
    "            print(img)\n",
    "            print(adata.obsm[\"spatial\"])\n",
    "            sq.pl.spatial_scatter(adata, outline=True, size=0.3)\n",
    "        else:\n",
    "            pass\n"
   ]
  },
  {
   "cell_type": "code",
   "execution_count": null,
   "id": "6c96caf7",
   "metadata": {},
   "outputs": [],
   "source": [
    "import anndata as ad\n",
    "\n",
    "for adata in slides:\n",
    "    for imgname, img in image_dict.items():\n",
    "        if imgname == adata.obs['sample'][0]:\n",
    "            # calculate features for different scales (higher value means more context)\n",
    "            for scale in [1.0, 2.0, 3.0]:\n",
    "                feature_name = f\"features_summary_scale{scale}\"\n",
    "                sq.im.calculate_image_features(\n",
    "                    adata,\n",
    "                    img,\n",
    "                    layer='image',\n",
    "                    features=\"summary\",\n",
    "                    key_added=feature_name,\n",
    "                    n_jobs=4,\n",
    "                    scale=scale,\n",
    "                    show_progress_bar=True,\n",
    "                )\n",
    "\n",
    "            # combine features in one dataframe\n",
    "            adata.obsm[\"summary_features\"] = pd.concat(\n",
    "                [adata.obsm[f] for f in adata.obsm.keys() if \"features_summary\" in f], axis=\"columns\"\n",
    "            )\n",
    "            # make sure that we have no duplicated feature names in the combined table\n",
    "            adata.obsm[\"summary_features\"].columns = ad.utils.make_index_unique(adata.obsm[\"summary_features\"].columns)\n",
    "        else:\n",
    "            pass"
   ]
  },
  {
   "cell_type": "markdown",
   "id": "fbb61908",
   "metadata": {},
   "source": [
    "### Clustering on Image Features vs Gene Features\n",
    "\n",
    "Useful for insights into similarities across spots based on image morphology."
   ]
  },
  {
   "cell_type": "code",
   "execution_count": null,
   "id": "6d6da0fa",
   "metadata": {},
   "outputs": [],
   "source": [
    "# helper function returning a clustering\n",
    "def cluster_features(features: pd.DataFrame, like=None) -> pd.Series:\n",
    "    \"\"\"\n",
    "    Calculate leiden clustering of features.\n",
    "\n",
    "    Specify filter of features using `like`.\n",
    "    \"\"\"\n",
    "    # filter features\n",
    "    if like is not None:\n",
    "        features = features.filter(like=like)\n",
    "    # create temporary adata to calculate the clustering\n",
    "    adata = ad.AnnData(features)\n",
    "    # important - feature values are not scaled, so need to scale them before PCA\n",
    "    sc.pp.scale(adata)\n",
    "    # calculate leiden clustering\n",
    "    sc.pp.pca(adata, n_comps=min(10, features.shape[1] - 1))\n",
    "    sc.pp.neighbors(adata)\n",
    "    sc.tl.leiden(adata)\n",
    "\n",
    "    return adata.obs[\"leiden\"]"
   ]
  },
  {
   "cell_type": "code",
   "execution_count": null,
   "id": "c69cfe2b",
   "metadata": {
    "scrolled": false
   },
   "outputs": [],
   "source": [
    "for adata in slides:\n",
    "    name = adata.obs['sample'][0]\n",
    "    # calculate feature clusters\n",
    "    adata.obs[\"features_cluster\"] = cluster_features(adata.obsm[\"summary_features\"], like=\"summary\")\n",
    "    # compare feature and gene clusters\n",
    "    sq.pl.spatial_scatter(adata, color=[\"features_cluster\", \"clusters\"],\n",
    "                          save=f'_{name}_featureVSleidenClusters_spatialmap.svg')"
   ]
  },
  {
   "cell_type": "markdown",
   "id": "6343756f",
   "metadata": {},
   "source": [
    "### Joint clustering on image and gene expression features"
   ]
  },
  {
   "cell_type": "code",
   "execution_count": null,
   "id": "6b8cd256",
   "metadata": {
    "scrolled": false
   },
   "outputs": [],
   "source": [
    "for adata in slides:\n",
    "    name = adata.obs['sample'][0]\n",
    "    adata_img = ad.AnnData(adata.obsm['summary_features'])\n",
    "    sc.pp.neighbors(adata_img)\n",
    "    joint_adj = adata_img.obsp['connectivities'] + adata.obsp['connectivities']\n",
    "    sc.tl.leiden(adata, adjacency=joint_adj, key_added='joint_leiden')\n",
    "    sq.pl.spatial_scatter(adata,color=['joint_leiden', 'clusters'],\n",
    "                          save=f'_{name}_imageANDfeatureconnectivitiesVSleidenClusters_spatialmap.svg')"
   ]
  },
  {
   "cell_type": "markdown",
   "id": "f03627d1",
   "metadata": {},
   "source": [
    "### Clustering on Spatial Connectivities combined with Gene Features (at same weights)"
   ]
  },
  {
   "cell_type": "code",
   "execution_count": null,
   "id": "bdc10eb9",
   "metadata": {},
   "outputs": [],
   "source": [
    "for name, adata in slides.items():\n",
    "    #sq.gr.spatial_neighbors(adata)\n",
    "    #joint_adj = adata.obsp['spatial_connectivities'] + adata.obsp['connectivities']\n",
    "    #sc.tl.leiden(adata, adjacency=joint_adj, key_added='joint_leiden_graph')\n",
    "    sq.pl.spatial_scatter(adata,color=['clusters', 'features_cluster', 'joint_leiden', 'joint_leiden_graph'],\n",
    "                          save=f'_{name}_ALLclusters_spatialmap.svg')"
   ]
  },
  {
   "cell_type": "markdown",
   "id": "851b4704",
   "metadata": {},
   "source": [
    "#### Saving for 10X Loupe Browser Eploration"
   ]
  },
  {
   "cell_type": "code",
   "execution_count": null,
   "id": "1ca6e29f",
   "metadata": {},
   "outputs": [],
   "source": [
    "# save maps for each sample separately\n",
    "clusterings = ['clusters', 'features_cluster', 'joint_leiden', 'joint_leiden_graph']\n",
    "for name, adata in slides.items():\n",
    "    for clusternames in clusterings:\n",
    "        s1 = adata.obs[[clusternames]]\n",
    "        s1.index = s1.index.str.rsplit('_', n=1).str[-1]\n",
    "        s1.index.name = 'Barcode'\n",
    "        s1.to_csv(os.path.join(RESULTS_FOLDERNAME, f'{name}_{clusternames}_clusters.csv'))"
   ]
  },
  {
   "cell_type": "code",
   "execution_count": null,
   "id": "88d33baa",
   "metadata": {},
   "outputs": [],
   "source": [
    "for adata in slides:\n",
    "    name = adata.obs['sample'][0]\n",
    "    sq.gr.spatial_neighbors(adata)\n",
    "    joint_adj = adata.obsp['spatial_connectivities'] + adata.obsp['connectivities']\n",
    "    sc.tl.leiden(adata, adjacency=joint_adj, key_added='joint_leiden_graph')\n",
    "    sq.pl.spatial_scatter(adata,color=['clusters', 'features_cluster', 'joint_leiden', 'joint_leiden_graph'],\n",
    "                          save=f'_{name}_ALLclusters_spatialmap.svg')"
   ]
  },
  {
   "cell_type": "code",
   "execution_count": null,
   "id": "5b8ca2e6",
   "metadata": {},
   "outputs": [],
   "source": [
    "slides[0].var"
   ]
  },
  {
   "cell_type": "code",
   "execution_count": null,
   "id": "50a0b0e4",
   "metadata": {
    "scrolled": true
   },
   "outputs": [],
   "source": [
    "for adata in slides:\n",
    "    sc.pl.spatial(adata, \n",
    "                  color=['COL1A1', 'ABI3BP', 'COL6A1', 'COL6A6', 'FMOD', 'TNMD', 'SCX',\n",
    "                           'POSTN', 'SPARC', 'DCN', 'BGN', 'KERA', 'LUM', 'PI16', 'FNDC1',\n",
    "                           'COL22A1', 'COL3A1', 'COL4A1', 'COL11A1', 'COL6A3', 'COL6A1',\n",
    "                           'COL12A1', 'COL2A1', 'F13A1',\n",
    "                           'NEGR1', 'NAV3', 'SCN7A', 'THBS4', 'FGF14', \n",
    "                           'PRG4', 'CREB5', 'joint_leiden', 'joint_leiden_graph', 'clusters'],\n",
    "                  layer='normcounts',\n",
    "                  size=1.25,\n",
    "                  vmin=0,\n",
    "                  vmax=\"p99\",\n",
    "                  frameon=False,\n",
    "                  cmap=\"plasma\",\n",
    "                  save = f'{adata.obs[\"sample\"][0]}_spatial_markersANDclusters.svg'\n",
    "                  )"
   ]
  },
  {
   "cell_type": "markdown",
   "id": "d8180136",
   "metadata": {},
   "source": [
    "- Clustering by Gene Expression Features (Leiden):\n",
    "In this method, the clustering is performed based on the gene expression features obtained from the Visium H&E data. The features are preprocessed, scaled, and reduced using PCA before applying the Leiden algorithm. This clustering approach aims to identify clusters of cells that have similar gene expression profiles. It focuses solely on the molecular characteristics of the cells and does not take spatial information into account.\n",
    "\n",
    "\n",
    "- Clustering by Image and Gene Expression Features (Joint_Leiden):\n",
    "In the joint_leiden clustering approach, the joint adjacency matrix is constructed by combining the connectivities from the image features and the gene expression features. This joint adjacency matrix represents the combined similarity or connectivity between cells based on both their spatial relationships (captured by the image features) and their molecular characteristics (captured by the gene expression features). The Leiden algorithm is then applied to this joint adjacency matrix to identify clusters that integrate both spatial and molecular information. The joint_leiden clustering can help uncover relationships between gene expression patterns and spatial organization.\n",
    "\n",
    "    `joint_leiden: adata.obsm['summary_features'] neighbours connectivities + original adata.obsp['connectivities'] from gene clustering`\n",
    "    \n",
    "\n",
    "- Clustering by Spatial Connectivities and Gene Expression Features (Joint_Leiden_Graph):\n",
    "The joint_leiden_graph clustering approach also combines the spatial connectivities and gene expression features to create a joint adjacency matrix. However, there is a distinction in how the joint adjacency matrix is formed compared to joint_leiden clustering. In this approach, the spatial connectivities derived from the Visium H&E data are combined with the gene expression features to create a joint adjacency matrix. The spatial connectivities represent the spatial relationships and interactions between cells based on their spatial coordinates (rather than image features). By considering both the spatial connectivities and gene expression features, the joint_leiden_graph clustering method aims to identify clusters that integrate both the spatial organization and molecular characteristics of the cells. This clustering approach can provide insights into how the spatial arrangement of cells influences their gene expression patterns.\n",
    "\n",
    "    `joint_leiden_graph: adata.obsp['spatial_connectivities'] + original adata.obsp['connectivities'] from gene clustering`"
   ]
  },
  {
   "cell_type": "markdown",
   "id": "14c7f15b",
   "metadata": {},
   "source": [
    "# Spatial Statistics"
   ]
  },
  {
   "cell_type": "markdown",
   "id": "34f9e73d",
   "metadata": {},
   "source": [
    "### Neighbourhood Enrichment\n",
    "\n",
    "Computing a neighborhood enrichment can help us identify spots clusters that share a common neighborhood structure across the tissue. We can compute such score with the following function: squidpy.gr.nhood_enrichment(). In short, it’s an enrichment score on spatial proximity of clusters: if spots belonging to two different clusters are often close to each other, then they will have a high score and can be defined as being enriched. On the other hand, if they are far apart, and therefore are seldom a neighborhood, the score will be low and they can be defined as depleted."
   ]
  },
  {
   "cell_type": "code",
   "execution_count": null,
   "id": "a18f13ac",
   "metadata": {
    "scrolled": false
   },
   "outputs": [],
   "source": [
    "colormap = plt.get_cmap('PuOr')\n",
    "inverted_colormap = colormap.reversed()\n",
    "\n",
    "for adata in slides:\n",
    "    sq.gr.spatial_neighbors(adata)\n",
    "    sq.gr.nhood_enrichment(adata, cluster_key='region_name')\n",
    "    sq.pl.nhood_enrichment(adata, cluster_key='region_name', \n",
    "                           cmap=inverted_colormap, vcenter=0, \n",
    "                           vmin=-40, vmax=50,\n",
    "                           figsize=(7, 3.5),\n",
    "                           save=f'_{adata.obs[\"sample\"][0]}_annotregion_neighenrichment.svg'\n",
    "                           )"
   ]
  },
  {
   "cell_type": "code",
   "execution_count": null,
   "id": "ab1149ab",
   "metadata": {
    "scrolled": true
   },
   "outputs": [],
   "source": [
    "for adata in slides:\n",
    "    sq.gr.nhood_enrichment(adata, cluster_key='clusters')\n",
    "    sq.pl.nhood_enrichment(adata, cluster_key='clusters', \n",
    "                           cmap='bwr', vcenter=0, \n",
    "                           vmin=-50, vmax=50,\n",
    "                           save=f'_{adata.obs[\"sample\"][0]}_leiden_neighenrichment.svg'\n",
    "                           )"
   ]
  },
  {
   "cell_type": "code",
   "execution_count": null,
   "id": "fc23be21",
   "metadata": {
    "scrolled": true
   },
   "outputs": [],
   "source": [
    "for adata in slides:\n",
    "    sq.gr.nhood_enrichment(adata, cluster_key='joint_leiden')\n",
    "    sq.pl.nhood_enrichment(adata, cluster_key='joint_leiden', \n",
    "                           cmap='bwr', vcenter=0, \n",
    "                           vmin=-30, vmax=40,\n",
    "                           #save=f'_{adata.obs[\"sample\"][0]}_jointleiden_neighenrichment.svg'\n",
    "                           )"
   ]
  },
  {
   "cell_type": "markdown",
   "id": "3e0144ee",
   "metadata": {},
   "source": [
    "### Spatially Variable Genes - Moran's I score"
   ]
  },
  {
   "cell_type": "code",
   "execution_count": null,
   "id": "414369e6",
   "metadata": {},
   "outputs": [],
   "source": [
    "for adata in slides:\n",
    "    genes = adata[:, adata.var.highly_variable].var_names.values[:300]\n",
    "    #sq.gr.spatial_neighbors(adata)\n",
    "    sq.gr.spatial_autocorr(\n",
    "        adata,\n",
    "        mode=\"moran\",\n",
    "        genes=genes,\n",
    "        n_perms=300,\n",
    "        n_jobs=4,\n",
    "    )"
   ]
  },
  {
   "cell_type": "code",
   "execution_count": null,
   "id": "12f28154",
   "metadata": {
    "scrolled": true
   },
   "outputs": [],
   "source": [
    "for adata in slides:\n",
    "    sc.pl.spatial(adata, \n",
    "                  color=adata.uns['moranI'].head(30).index,\n",
    "                  layer='normcounts',\n",
    "                  size=1.25,\n",
    "                  vmin=0,\n",
    "                  vmax=\"p99\",\n",
    "                  frameon=False,\n",
    "                  cmap=\"plasma\",\n",
    "                  #save = f'{adata.obs[\"sample\"][0]}_top30_SpatiallyVarGenes.svg'\n",
    "                 )"
   ]
  },
  {
   "cell_type": "code",
   "execution_count": null,
   "id": "659856a5",
   "metadata": {
    "scrolled": false
   },
   "outputs": [],
   "source": [
    "for adata in slides:\n",
    "    sq.gr.interaction_matrix(adata, cluster_key=\"region_name\")\n",
    "    sq.pl.interaction_matrix(adata, cluster_key=\"region_name\", \n",
    "                             method=\"average\", figsize=(7, 3.5),\n",
    "                             save=f'_{adata.obs[\"sample\"][0]}_annotregions_interactionmatrix.svg'\n",
    "                            )"
   ]
  },
  {
   "cell_type": "code",
   "execution_count": null,
   "id": "4805eeea",
   "metadata": {},
   "outputs": [],
   "source": [
    "for adata in slides:\n",
    "    samplename = adata.obs['sample'][0]\n",
    "    adata.write(os.path.join(RESULTS_FOLDERNAME, f'filtered_{samplename}.h5ad'))"
   ]
  },
  {
   "cell_type": "code",
   "execution_count": null,
   "id": "65b89c52",
   "metadata": {},
   "outputs": [],
   "source": [
    "for adata in slides:\n",
    "    adata.var['Gene'] = adata.var.index\n",
    "    adata.var.index = adata.var['ENSEMBL']\n",
    "    adata.X = adata.layers['counts'].copy()\n",
    "    print(adata.X[1:10, 1:10]) "
   ]
  },
  {
   "cell_type": "code",
   "execution_count": null,
   "id": "016db44f",
   "metadata": {},
   "outputs": [],
   "source": [
    "import anndata as ad\n",
    "\n",
    "# Combine anndata objects together\n",
    "adata = ad.concat(\n",
    "    slides,\n",
    "    label=\"sample\",\n",
    "    uns_merge=\"unique\",\n",
    "    join='outer',\n",
    "    keys=sample_name,\n",
    "    index_unique=None\n",
    ")\n",
    "adata"
   ]
  },
  {
   "cell_type": "code",
   "execution_count": null,
   "id": "39053cb7",
   "metadata": {},
   "outputs": [],
   "source": [
    "adata.var['ensembl_gene_id'] = adata.var.index\n",
    "annot = sc.queries.biomart_annotations(\n",
    "    \"hsapiens\",\n",
    "    [\"ensembl_gene_id\", \"external_gene_name\"],\n",
    ").set_index(\"ensembl_gene_id\")\n",
    "\n",
    "adata.var[annot.columns] = annot\n",
    "\n",
    "adata.var.rename(columns={\"external_gene_name\": \"Gene\"}, inplace=True)\n",
    "adata.var['Gene'] = adata.var['Gene'].fillna(adata.var['ensembl_gene_id'])\n",
    "adata.var = adata.var.drop(columns='ensembl_gene_id')\n",
    "adata.var"
   ]
  },
  {
   "cell_type": "code",
   "execution_count": null,
   "id": "2178381f",
   "metadata": {},
   "outputs": [],
   "source": [
    "adata.write(os.path.join(RESULTS_FOLDERNAME, 'concatenated_adata.h5ad'))"
   ]
  },
  {
   "cell_type": "markdown",
   "id": "a2d5e462",
   "metadata": {},
   "source": [
    "# To load:"
   ]
  },
  {
   "cell_type": "code",
   "execution_count": null,
   "id": "c24f263f",
   "metadata": {},
   "outputs": [],
   "source": [
    "slides = {}\n",
    "for filename in os.listdir(RESULTS_FOLDERNAME):\n",
    "    if filename.startswith('filtered_') and filename.endswith(\".h5ad\"):\n",
    "        file_path = os.path.join(RESULTS_FOLDERNAME, filename)\n",
    "        try:\n",
    "            # Read the h5ad file using anndata\n",
    "            adata = sc.read_h5ad(file_path)\n",
    "            \n",
    "            # Extract the slide name from the filename (assuming filenames are like \"filtered_slide_name.h5ad\")\n",
    "            slide_name = filename[len(\"filtered_\") : -len(\".h5ad\")]\n",
    "            \n",
    "            # Store the data in the slides dictionary\n",
    "            slides[slide_name] = adata\n",
    "        except Exception as e:\n",
    "            print(f\"Error processing {filename}: {e}\")\n",
    "slides"
   ]
  },
  {
   "cell_type": "code",
   "execution_count": null,
   "id": "44cae8d3",
   "metadata": {},
   "outputs": [],
   "source": [
    "for name, adata in slides.items():\n",
    "    print(name)"
   ]
  },
  {
   "cell_type": "code",
   "execution_count": null,
   "id": "5bc99412",
   "metadata": {},
   "outputs": [],
   "source": [
    "slides['Dev16126_Ach_EnthMB_H'].var"
   ]
  },
  {
   "cell_type": "code",
   "execution_count": null,
   "id": "a081cf56",
   "metadata": {
    "scrolled": false
   },
   "outputs": [],
   "source": [
    "for name, adata in slides.items():\n",
    "    \n",
    "    #sq.gr.spatial_neighbors(adata, coord_type='generic', radius=3.0)\n",
    "    sq.pl.spatial_scatter(adata, shape='circle', color='region_name', img_alpha=0.8,\n",
    "                          size=1.5, connectivity_key='spatial_connectivities', edges_width=2,\n",
    "                          frameon=False, figsize=(7, 3.5), palette='Accent',\n",
    "                          save=f'_{name}_annotated_region_clusters_spatialmap.svg'\n",
    "                         )\n",
    "    #adata.X = adata.layers['counts'].copy()\n",
    "    #sc.pp.normalize_total(adata, inplace=True)\n",
    "    #sc.pp.log1p(adata)\n",
    "    #sc.tl.rank_genes_groups(adata, \"region_name\", method=\"wilcoxon\", layer='normcounts', key_added='region_name_wilcoxon')\n",
    "    #sc.pl.rank_genes_groups(adata, n_genes=25, sharey=False, key=\"region_name_wilcoxon\",\n",
    "    #                       save= f'_{name}_region_name_wilcoxonDEGs_rankings.svg')\n",
    "    #sc.pp.scale(adata)\n",
    "    #sc.tl.dendrogram(adata, 'region_name')\n",
    "    #sc.pl.rank_genes_groups_heatmap(adata, n_genes=10, groupby=\"region_name\", \n",
    "    #                                cmap='seismic', vcenter=0,\n",
    "    #                                figsize=(15, 5), show_gene_labels=True,\n",
    "    #                                save=f'_{name}_region_name_wilcoxonDEGs_heatmap.svg'\n",
    "    #                               )"
   ]
  },
  {
   "cell_type": "code",
   "execution_count": null,
   "id": "d473ad43",
   "metadata": {
    "scrolled": false
   },
   "outputs": [],
   "source": [
    "for name, adata in slides.items():\n",
    "    adata.X = adata.layers['counts'].copy()\n",
    "    sc.pp.normalize_total(adata, inplace=True)\n",
    "    sc.pp.log1p(adata)\n",
    "    sc.tl.rank_genes_groups(adata, \"joint_leiden\", method=\"wilcoxon\", layer='normcounts', key_added='joint_leiden_wilcoxon')\n",
    "    sc.pl.rank_genes_groups(adata, n_genes=30, sharey=False, key=\"joint_leiden_wilcoxon\")\n",
    "    sc.pp.scale(adata)\n",
    "    sc.pl.rank_genes_groups_heatmap(adata, n_genes=10, groupby=\"joint_leiden\", \n",
    "                                    cmap='seismic', vcenter=0,\n",
    "                                    save=f'_{name}_joint_leiden_wilcoxonDEGs_heatmap.svg'\n",
    "                                    # gene_symbols='Gene'\n",
    "                                   )"
   ]
  }
 ],
 "metadata": {
  "kernelspec": {
   "display_name": "Python [conda env:cell2loc_env]",
   "language": "python",
   "name": "conda-env-cell2loc_env-py"
  },
  "language_info": {
   "codemirror_mode": {
    "name": "ipython",
    "version": 3
   },
   "file_extension": ".py",
   "mimetype": "text/x-python",
   "name": "python",
   "nbconvert_exporter": "python",
   "pygments_lexer": "ipython3",
   "version": "3.9.18"
  }
 },
 "nbformat": 4,
 "nbformat_minor": 5
}
