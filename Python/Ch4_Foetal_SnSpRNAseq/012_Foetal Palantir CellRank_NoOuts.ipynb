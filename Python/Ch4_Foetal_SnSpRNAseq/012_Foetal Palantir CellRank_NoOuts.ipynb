{
 "cells": [
  {
   "cell_type": "markdown",
   "id": "f01859da",
   "metadata": {},
   "source": [
    "Create new conda env, install cellrank. Downgrade matplotlib to 3.7.0. Update scvelo with developmental version from their github main. Downgrade 'install -c conda-forge petsc4py=3.19.0 slepc4py'"
   ]
  },
  {
   "cell_type": "code",
   "execution_count": null,
   "id": "49887831",
   "metadata": {},
   "outputs": [],
   "source": [
    "# Import dependencies\n",
    "import os\n",
    "import anndata as ad\n",
    "import numpy as np\n",
    "import pandas as pd\n",
    "\n",
    "import cellrank as cr\n",
    "import scanpy as sc\n",
    "import scvelo as scv\n",
    "import seaborn as sns\n",
    "\n",
    "import matplotlib.pyplot as plt\n",
    "\n",
    "# Initialize random seed\n",
    "import random\n",
    "random.seed(111)\n",
    "\n",
    "# Print date and time:\n",
    "import datetime\n",
    "e = datetime.datetime.now()\n",
    "print (\"Current date and time = %s\" % e)\n",
    "\n",
    "# set a working directory\n",
    "#wdir = \"/ceph/project/tendonhca/akurjan/analysis/\"\n",
    "wdir = \"/mnt/da8aa2c4-0136-465b-87a2-d12a59afec55/akurjan/analysis/notebooks/\"\n",
    "os.chdir( wdir )\n",
    "\n",
    "# folder structures\n",
    "HARMONY_FOLDERNAME = \"foetal/results/Harmony/\"\n",
    "VELOCITY_FOLDERNAME = \"foetal/results/Velocity/\"\n",
    "RESULTS_FOLDERNAME = \"foetal/results/CellRank/\"\n",
    "FIGURES_FOLDERNAME = \"foetal/figures/CellRank/\"\n",
    "\n",
    "if not os.path.exists(RESULTS_FOLDERNAME):\n",
    "    os.makedirs(RESULTS_FOLDERNAME)\n",
    "if not os.path.exists(FIGURES_FOLDERNAME):\n",
    "    os.makedirs(FIGURES_FOLDERNAME)\n",
    "\n",
    "# Set folder for saving figures into\n",
    "sc.settings.figdir = FIGURES_FOLDERNAME\n",
    "scv.settings.figdir = FIGURES_FOLDERNAME\n",
    "    \n",
    "def savesvg(fname: str, fig, folder: str=FIGURES_FOLDERNAME) -> None:\n",
    "    \"\"\"\n",
    "    Save figure as vector-based SVG image format.\n",
    "    \"\"\"\n",
    "    fig.tight_layout()\n",
    "    fig.savefig(os.path.join(folder, fname), format='svg')\n",
    "\n",
    "# Set other settings\n",
    "sc.settings.verbosity = 3 # verbosity: errors (0), warnings (1), info (2), hints (3)\n",
    "sc.logging.print_versions()\n",
    "scv.set_figure_params('scvelo')"
   ]
  },
  {
   "cell_type": "code",
   "execution_count": null,
   "id": "4409e324",
   "metadata": {},
   "outputs": [],
   "source": [
    "import warnings\n",
    "\n",
    "warnings.simplefilter(\"ignore\", category=UserWarning)"
   ]
  },
  {
   "cell_type": "markdown",
   "id": "efa19047",
   "metadata": {},
   "source": [
    "# CellRank"
   ]
  },
  {
   "cell_type": "markdown",
   "id": "e05c0f7d",
   "metadata": {},
   "source": [
    "## Identifying Probable Terminal and Initial States"
   ]
  },
  {
   "cell_type": "code",
   "execution_count": null,
   "id": "f29f84c0",
   "metadata": {},
   "outputs": [],
   "source": [
    "adata = scv.read(os.path.join(VELOCITY_FOLDERNAME, 'allages_tendonfibro_prepped.h5ad'), cache=False)\n",
    "adata"
   ]
  },
  {
   "cell_type": "markdown",
   "id": "12d0185f",
   "metadata": {},
   "source": [
    "adata=scv.read(os.path.join(VELOCITY_FOLDERNAME, 'allages_tendonfibro_velocity.h5ad'), cache=True)\n",
    "adata.var_names_make_unique()\n",
    "adata.uns = harmony.uns.copy()\n",
    "adata.obsp = harmony.obsp.copy()\n",
    "adata.layers = harmony.layers.copy()\n",
    "adata"
   ]
  },
  {
   "cell_type": "code",
   "execution_count": null,
   "id": "05b9618c",
   "metadata": {},
   "outputs": [],
   "source": [
    "pk = cr.kernels.PseudotimeKernel(adata, time_key=\"palantir_pseudotime\").compute_transition_matrix()\n",
    "print(pk)"
   ]
  },
  {
   "cell_type": "code",
   "execution_count": null,
   "id": "243d49d2",
   "metadata": {},
   "outputs": [],
   "source": [
    "pk.plot_projection(basis=\"umap\", color='C_scANVI', legend_loc='right margin',\n",
    "                   frameon=False, recompute=True, s=10, legend_fontsize=6,\n",
    "                   save='allages_tendonfibro_cellrank_projection.svg')"
   ]
  },
  {
   "cell_type": "code",
   "execution_count": null,
   "id": "8236c7b5",
   "metadata": {},
   "outputs": [],
   "source": [
    "pk.plot_projection(basis=\"umap_orig\", color='C_scANVI', legend_loc='right margin',\n",
    "                   frameon=False, recompute=True, s=10, legend_fontsize=6,\n",
    "                   save='allages_tendonfibro_cellrank_projection.svg')"
   ]
  },
  {
   "cell_type": "markdown",
   "id": "eaae6f7e",
   "metadata": {},
   "source": [
    "### Estimating (Palantir Pseudotime Kernel)"
   ]
  },
  {
   "cell_type": "code",
   "execution_count": null,
   "id": "6b4a9a2d",
   "metadata": {},
   "outputs": [],
   "source": [
    "g = cr.estimators.GPCCA(pk)\n",
    "print(g)"
   ]
  },
  {
   "cell_type": "code",
   "execution_count": null,
   "id": "fc05b86c",
   "metadata": {},
   "outputs": [],
   "source": [
    "g.fit(cluster_key=\"C_scANVI\", n_states=[10, 20])\n",
    "g.plot_macrostates(which=\"all\", discrete=True, legend_loc=\"right\", s=100,\n",
    "                  save='allages_tendonfibro_macrostates_discrete_rightleg.svg')"
   ]
  },
  {
   "cell_type": "code",
   "execution_count": null,
   "id": "6937cdce",
   "metadata": {},
   "outputs": [],
   "source": [
    "g.predict_terminal_states()\n",
    "g.plot_macrostates(which=\"terminal\", legend_loc=\"right\", s=100,\n",
    "                  save='allages_tendonfibro_terminal_discrete_rightleg.svg')"
   ]
  },
  {
   "cell_type": "code",
   "execution_count": null,
   "id": "c16908b8",
   "metadata": {},
   "outputs": [],
   "source": [
    "g.predict_initial_states()\n",
    "g.plot_macrostates(which=\"initial\", legend_loc=\"right\", s=100,\n",
    "                  save='allages_tendonfibro_initial_discrete_rightleg.svg')"
   ]
  },
  {
   "cell_type": "code",
   "execution_count": null,
   "id": "d2e2c569",
   "metadata": {},
   "outputs": [],
   "source": [
    "# subset to just Beta cells\n",
    "bdata = adata[adata.obs[\"C_scANVI\"] == \"Beta\"].copy()\n",
    "\n",
    "# create an annotation for terminal vs. not-terminal\n",
    "bdata.obs[\"maturation_state\"] = np.where(\n",
    "    bdata.obs[\"term_states_fwd\"] == \"Beta\", \"terminal\", \"not terminal\"\n",
    ")\n",
    "\n",
    "# show distribution in violin plot\n",
    "sc.pl.violin(bdata, keys=[\"Ins1\"], groupby=\"maturation_state\")\n",
    "\n",
    "# use a simple t-test to quantify how different the two distributions are\n",
    "a = bdata[bdata.obs[\"maturation_state\"] == \"terminal\", \"Ins1\"].X.data\n",
    "b = bdata[bdata.obs[\"maturation_state\"] == \"not terminal\", \"Ins1\"].X.data\n",
    "st.ttest_ind(a, b, equal_var=False)"
   ]
  },
  {
   "cell_type": "code",
   "execution_count": null,
   "id": "f5364343",
   "metadata": {},
   "outputs": [],
   "source": []
  },
  {
   "cell_type": "code",
   "execution_count": null,
   "id": "36b589fb",
   "metadata": {},
   "outputs": [],
   "source": []
  },
  {
   "cell_type": "code",
   "execution_count": null,
   "id": "c3ed58ff",
   "metadata": {},
   "outputs": [],
   "source": [
    "g2 = cr.estimators.GPCCA(pk)\n",
    "g2.compute_schur(n_components=20)\n",
    "g2.plot_spectrum(real_only=True, show_eigengap=True)"
   ]
  },
  {
   "cell_type": "code",
   "execution_count": null,
   "id": "e759888c",
   "metadata": {},
   "outputs": [],
   "source": [
    "g2.compute_macrostates(n_states=7, cluster_key=\"C_scANVI\")\n",
    "g2.plot_macrostates(which=\"all\", legend_fontsize=9, \n",
    "                    basis='umap', s=100,\n",
    "                    #save='allages_tendonfibro_macrostates_discrete.svg',\n",
    "                    figsize=(5,4))"
   ]
  },
  {
   "cell_type": "code",
   "execution_count": null,
   "id": "77c91617",
   "metadata": {},
   "outputs": [],
   "source": [
    "g2.plot_macrostate_composition(key=\"C_scANVI\", figsize=(7, 4))"
   ]
  },
  {
   "cell_type": "code",
   "execution_count": null,
   "id": "82770a87",
   "metadata": {},
   "outputs": [],
   "source": [
    "g2.plot_coarse_T()"
   ]
  },
  {
   "cell_type": "code",
   "execution_count": null,
   "id": "2c8838d3",
   "metadata": {},
   "outputs": [],
   "source": [
    "g2.predict_terminal_states()\n",
    "g2.plot_macrostates(which=\"terminal\", legend_loc=\"right\", s=100)"
   ]
  },
  {
   "cell_type": "code",
   "execution_count": null,
   "id": "a7c2a5fe",
   "metadata": {},
   "outputs": [],
   "source": []
  },
  {
   "cell_type": "code",
   "execution_count": null,
   "id": "a9a37e09",
   "metadata": {},
   "outputs": [],
   "source": [
    "g2.predict_initial_states()\n",
    "g2.plot_macrostates(which=\"initial\", s=100, legend_loc='right margin')"
   ]
  },
  {
   "cell_type": "code",
   "execution_count": null,
   "id": "659bc0bd",
   "metadata": {},
   "outputs": [],
   "source": [
    "g2.compute_fate_probabilities()\n",
    "g2.plot_fate_probabilities(same_plot=False)"
   ]
  },
  {
   "cell_type": "code",
   "execution_count": null,
   "id": "1e2b2524",
   "metadata": {},
   "outputs": [],
   "source": [
    "g2.plot_fate_probabilities(same_plot=True, save='allages_fates_umap.svg')"
   ]
  },
  {
   "cell_type": "code",
   "execution_count": null,
   "id": "48ca296c",
   "metadata": {},
   "outputs": [],
   "source": [
    "cr.pl.circular_projection(adata, keys=[\"age\", \"C_scANVI\"], legend_loc=\"right\",\n",
    "                         figsize=(25,20), save='allages_tendonfibro_circular_projection_pseudokernel.svg'\n",
    "                         )"
   ]
  },
  {
   "cell_type": "code",
   "execution_count": null,
   "id": "d7abbd12",
   "metadata": {},
   "outputs": [],
   "source": [
    "states = [\"ABI3BP GAS2 Fibroblasts 1\", \"ABI3BP GAS2 Fibroblasts 2\", \n",
    "              \"COL3A1 PI16 Fibroblasts\", \"COL6A6 FNDC1 Fibroblasts\"]\n",
    "sc.pl.embedding(\n",
    "    adata, basis=\"umap\", color=\"C_scANVI\", groups=states, legend_loc=\"right\"\n",
    ")"
   ]
  },
  {
   "cell_type": "code",
   "execution_count": null,
   "id": "073d9df8",
   "metadata": {},
   "outputs": [],
   "source": [
    "cr.pl.aggregate_fate_probabilities(\n",
    "    adata,\n",
    "    mode=\"violin\",\n",
    "    lineages=[\"ABI3BP GAS2 Fibroblasts 1_2\"],\n",
    "    cluster_key=\"C_scANVI\",\n",
    "    clusters=states,\n",
    ")"
   ]
  },
  {
   "cell_type": "code",
   "execution_count": null,
   "id": "9eb0b051",
   "metadata": {},
   "outputs": [],
   "source": [
    "lin_drivers = g2.compute_lineage_drivers()\n",
    "lin_drivers.to_csv(os.path.join(RESULTS_FOLDERNAME, 'allages_tendonfibro_lineagedrivers.csv'))"
   ]
  },
  {
   "cell_type": "code",
   "execution_count": null,
   "id": "a5a6bae2",
   "metadata": {},
   "outputs": [],
   "source": [
    "g2.terminal_states.cat.categories"
   ]
  },
  {
   "cell_type": "code",
   "execution_count": null,
   "id": "4ec3c0ae",
   "metadata": {
    "scrolled": false
   },
   "outputs": [],
   "source": [
    "lineages = list(g2.terminal_states.cat.categories)\n",
    "for i in lineages:\n",
    "    g2.plot_lineage_drivers(i, n_genes=8, basis='umap', vmax=10,\n",
    "                   cmap='viridis', # save=f'allages_fibro_palantirlind_{i}.svg'\n",
    "                   )"
   ]
  },
  {
   "cell_type": "code",
   "execution_count": null,
   "id": "de7fd85a",
   "metadata": {},
   "outputs": [],
   "source": [
    "lin_drivers_dict={}\n",
    "for i in g2.terminal_states.cat.categories:\n",
    "    lin_drivers_dict[i] = g2.compute_lineage_drivers(lineages=i,return_drivers=True)"
   ]
  },
  {
   "cell_type": "code",
   "execution_count": null,
   "id": "1707c149",
   "metadata": {},
   "outputs": [],
   "source": [
    "g2.terminal_states.cat.categories"
   ]
  },
  {
   "cell_type": "code",
   "execution_count": null,
   "id": "9232cecf",
   "metadata": {},
   "outputs": [],
   "source": [
    "# define set of genes to annotate\n",
    "genes_oi = {\n",
    "    \"ABI3BP GAS2 Fibroblasts 1_1\": list(lin_drivers_dict['ABI3BP GAS2 Fibroblasts 1_1'].index[:15]),\n",
    "    \"COL3A1 PI16 Fibroblasts_1\": list(lin_drivers_dict['COL3A1 PI16 Fibroblasts_1'].index[:15])\n",
    "}\n",
    "\n",
    "# make sure all of these exist in AnnData\n",
    "assert [\n",
    "    gene in adata.var_names for genes in genes_oi.values() for gene in genes\n",
    "], \"Did not find all genes\"\n",
    "\n",
    "# compute mean gene expression across all cells\n",
    "adata.var[\"mean expression\"] = adata.X.A.mean(axis=0)\n",
    "\n",
    "# visualize in a scatter plot\n",
    "g2.plot_lineage_drivers_correlation(\n",
    "    lineage_x=\"ABI3BP GAS2 Fibroblasts 1_1\",\n",
    "    lineage_y=\"COL3A1 PI16 Fibroblasts_1\",\n",
    "    adjust_text=True,\n",
    "    gene_sets=genes_oi,\n",
    "    color=\"mean expression\",\n",
    "    legend_loc=\"none\",\n",
    "    figsize=(5, 5),\n",
    "    dpi=150,\n",
    "    fontsize=9,\n",
    "    size=50,\n",
    ")"
   ]
  },
  {
   "cell_type": "code",
   "execution_count": null,
   "id": "a51cdedb",
   "metadata": {},
   "outputs": [],
   "source": [
    "# define set of genes to annotate\n",
    "genes_oi = {\n",
    "    \"COL3A1 PI16 Fibroblasts_2\": list(lin_drivers_dict['COL3A1 PI16 Fibroblasts_2'].index[:15]),\n",
    "    \"COL3A1 PI16 Fibroblasts_1\": list(lin_drivers_dict['COL3A1 PI16 Fibroblasts_1'].index[:15])\n",
    "}\n",
    "\n",
    "# make sure all of these exist in AnnData\n",
    "assert [\n",
    "    gene in adata.var_names for genes in genes_oi.values() for gene in genes\n",
    "], \"Did not find all genes\"\n",
    "\n",
    "# compute mean gene expression across all cells\n",
    "adata.var[\"mean expression\"] = adata.X.A.mean(axis=0)\n",
    "\n",
    "# visualize in a scatter plot\n",
    "g2.plot_lineage_drivers_correlation(\n",
    "    lineage_x=\"COL3A1 PI16 Fibroblasts_2\",\n",
    "    lineage_y=\"COL3A1 PI16 Fibroblasts_1\",\n",
    "    adjust_text=True,\n",
    "    gene_sets=genes_oi,\n",
    "    color=\"mean expression\",\n",
    "    legend_loc=\"none\",\n",
    "    figsize=(5, 5),\n",
    "    dpi=150,\n",
    "    fontsize=9,\n",
    "    size=50,\n",
    "    save='COL3_1_vs_COL3_2.svg'\n",
    ")"
   ]
  },
  {
   "cell_type": "code",
   "execution_count": null,
   "id": "55e59f91",
   "metadata": {},
   "outputs": [],
   "source": [
    "# define set of genes to annotate\n",
    "genes_oi = {\n",
    "    \"COL3A1 PI16 Fibroblasts_3\": list(lin_drivers_dict['COL3A1 PI16 Fibroblasts_3'].index[:15]),\n",
    "    \"COL3A1 PI16 Fibroblasts_2\": list(lin_drivers_dict['COL3A1 PI16 Fibroblasts_2'].index[:15])\n",
    "}\n",
    "\n",
    "# make sure all of these exist in AnnData\n",
    "assert [\n",
    "    gene in adata.var_names for genes in genes_oi.values() for gene in genes\n",
    "], \"Did not find all genes\"\n",
    "\n",
    "# compute mean gene expression across all cells\n",
    "adata.var[\"mean expression\"] = adata.X.A.mean(axis=0)\n",
    "\n",
    "# visualize in a scatter plot\n",
    "g2.plot_lineage_drivers_correlation(\n",
    "    lineage_x=\"COL3A1 PI16 Fibroblasts_3\",\n",
    "    lineage_y=\"COL3A1 PI16 Fibroblasts_2\",\n",
    "    adjust_text=True,\n",
    "    gene_sets=genes_oi,\n",
    "    color=\"mean expression\",\n",
    "    legend_loc=\"none\",\n",
    "    figsize=(5, 5),\n",
    "    dpi=150,\n",
    "    fontsize=9,\n",
    "    size=50,\n",
    ")"
   ]
  },
  {
   "cell_type": "code",
   "execution_count": null,
   "id": "b90cfecd",
   "metadata": {},
   "outputs": [],
   "source": [
    "# define set of genes to annotate\n",
    "genes_oi = {\n",
    "    \"COL3A1 PI16 Fibroblasts_2\": list(lin_drivers_dict['COL3A1 PI16 Fibroblasts_2'].index[:15]),\n",
    "    \"FGF14 THBS4 Fibroblasts\": list(lin_drivers_dict['FGF14 THBS4 Fibroblasts'].index[:15])\n",
    "}\n",
    "\n",
    "# make sure all of these exist in AnnData\n",
    "assert [\n",
    "    gene in adata.var_names for genes in genes_oi.values() for gene in genes\n",
    "], \"Did not find all genes\"\n",
    "\n",
    "# compute mean gene expression across all cells\n",
    "adata.var[\"mean expression\"] = adata.X.A.mean(axis=0)\n",
    "\n",
    "# visualize in a scatter plot\n",
    "g2.plot_lineage_drivers_correlation(\n",
    "    lineage_x=\"COL3A1 PI16 Fibroblasts_2\",\n",
    "    lineage_y=\"FGF14 THBS4 Fibroblasts\",\n",
    "    adjust_text=True,\n",
    "    gene_sets=genes_oi,\n",
    "    color=\"mean expression\",\n",
    "    legend_loc=\"none\",\n",
    "    figsize=(5, 5),\n",
    "    dpi=150,\n",
    "    fontsize=9,\n",
    "    size=50,\n",
    ")"
   ]
  },
  {
   "cell_type": "code",
   "execution_count": null,
   "id": "0c1bbc71",
   "metadata": {},
   "outputs": [],
   "source": [
    "# define set of genes to annotate\n",
    "genes_oi = {\n",
    "    \"COL6A6 FNDC1 Fibroblasts\": list(lin_drivers_dict['COL6A6 FNDC1 Fibroblasts'].index[:15]),\n",
    "    \"FGF14 THBS4 Fibroblasts\": list(lin_drivers_dict['FGF14 THBS4 Fibroblasts'].index[:15])\n",
    "}\n",
    "\n",
    "# make sure all of these exist in AnnData\n",
    "assert [\n",
    "    gene in adata.var_names for genes in genes_oi.values() for gene in genes\n",
    "], \"Did not find all genes\"\n",
    "\n",
    "# compute mean gene expression across all cells\n",
    "adata.var[\"mean expression\"] = adata.X.A.mean(axis=0)\n",
    "\n",
    "# visualize in a scatter plot\n",
    "g2.plot_lineage_drivers_correlation(\n",
    "    lineage_x=\"COL6A6 FNDC1 Fibroblasts\",\n",
    "    lineage_y=\"FGF14 THBS4 Fibroblasts\",\n",
    "    adjust_text=True,\n",
    "    gene_sets=genes_oi,\n",
    "    color=\"mean expression\",\n",
    "    legend_loc=\"none\",\n",
    "    figsize=(5, 5),\n",
    "    dpi=150,\n",
    "    fontsize=9,\n",
    "    size=50,\n",
    ")"
   ]
  },
  {
   "cell_type": "code",
   "execution_count": null,
   "id": "ee5f976c",
   "metadata": {},
   "outputs": [],
   "source": [
    "# define set of genes to annotate\n",
    "genes_oi = {\n",
    "    \"ABI3BP GAS2 Fibroblasts 1_1\": list(lin_drivers_dict['ABI3BP GAS2 Fibroblasts 1_1'].index[:15]),\n",
    "    \"FGF14 THBS4 Fibroblasts\": list(lin_drivers_dict['FGF14 THBS4 Fibroblasts'].index[:15])\n",
    "}\n",
    "\n",
    "# make sure all of these exist in AnnData\n",
    "assert [\n",
    "    gene in adata.var_names for genes in genes_oi.values() for gene in genes\n",
    "], \"Did not find all genes\"\n",
    "\n",
    "# compute mean gene expression across all cells\n",
    "adata.var[\"mean expression\"] = adata.X.A.mean(axis=0)\n",
    "\n",
    "# visualize in a scatter plot\n",
    "g2.plot_lineage_drivers_correlation(\n",
    "    lineage_x=\"ABI3BP GAS2 Fibroblasts 1_1\",\n",
    "    lineage_y=\"FGF14 THBS4 Fibroblasts\",\n",
    "    adjust_text=True,\n",
    "    gene_sets=genes_oi,\n",
    "    color=\"mean expression\",\n",
    "    legend_loc=\"none\",\n",
    "    figsize=(5, 5),\n",
    "    dpi=150,\n",
    "    fontsize=9,\n",
    "    size=50,\n",
    ")"
   ]
  },
  {
   "cell_type": "code",
   "execution_count": null,
   "id": "8d3a5ea1",
   "metadata": {},
   "outputs": [],
   "source": [
    "# define set of genes to annotate\n",
    "genes_oi = {\n",
    "    \"ABI3BP GAS2 Fibroblasts 1_2\": list(lin_drivers_dict['ABI3BP GAS2 Fibroblasts 1_2'].index[:15]),\n",
    "    \"FGF14 THBS4 Fibroblasts\": list(lin_drivers_dict['FGF14 THBS4 Fibroblasts'].index[:15])\n",
    "}\n",
    "\n",
    "# make sure all of these exist in AnnData\n",
    "assert [\n",
    "    gene in adata.var_names for genes in genes_oi.values() for gene in genes\n",
    "], \"Did not find all genes\"\n",
    "\n",
    "# compute mean gene expression across all cells\n",
    "adata.var[\"mean expression\"] = adata.X.A.mean(axis=0)\n",
    "\n",
    "# visualize in a scatter plot\n",
    "g2.plot_lineage_drivers_correlation(\n",
    "    lineage_x=\"ABI3BP GAS2 Fibroblasts 1_2\",\n",
    "    lineage_y=\"FGF14 THBS4 Fibroblasts\",\n",
    "    adjust_text=True,\n",
    "    gene_sets=genes_oi,\n",
    "    color=\"mean expression\",\n",
    "    legend_loc=\"none\",\n",
    "    figsize=(5, 5),\n",
    "    dpi=150,\n",
    "    fontsize=9,\n",
    "    size=50,\n",
    ")"
   ]
  },
  {
   "cell_type": "code",
   "execution_count": null,
   "id": "87207b4f",
   "metadata": {},
   "outputs": [],
   "source": [
    "# define set of genes to annotate\n",
    "genes_oi = {\n",
    "    \"COL6A6 FNDC1 Fibroblasts\": list(lin_drivers_dict['COL6A6 FNDC1 Fibroblasts'].index[:15]),\n",
    "    \"COL3A1 PI16 Fibroblasts_2\": list(lin_drivers_dict['COL3A1 PI16 Fibroblasts_2'].index[:15])\n",
    "}\n",
    "\n",
    "# make sure all of these exist in AnnData\n",
    "assert [\n",
    "    gene in adata.var_names for genes in genes_oi.values() for gene in genes\n",
    "], \"Did not find all genes\"\n",
    "\n",
    "# compute mean gene expression across all cells\n",
    "adata.var[\"mean expression\"] = adata.X.A.mean(axis=0)\n",
    "\n",
    "# visualize in a scatter plot\n",
    "g2.plot_lineage_drivers_correlation(\n",
    "    lineage_x=\"COL6A6 FNDC1 Fibroblasts\",\n",
    "    lineage_y=\"COL3A1 PI16 Fibroblasts_2\",\n",
    "    adjust_text=True,\n",
    "    gene_sets=genes_oi,\n",
    "    color=\"mean expression\",\n",
    "    legend_loc=\"none\",\n",
    "    figsize=(5, 5),\n",
    "    dpi=150,\n",
    "    fontsize=9,\n",
    "    size=50,\n",
    ")"
   ]
  },
  {
   "cell_type": "code",
   "execution_count": null,
   "id": "d6faeef7",
   "metadata": {},
   "outputs": [],
   "source": [
    "# define set of genes to annotate\n",
    "genes_oi = {\n",
    "    \"COL6A6 FNDC1 Fibroblasts\": list(lin_drivers_dict['COL6A6 FNDC1 Fibroblasts'].index[:15]),\n",
    "    \"COL3A1 PI16 Fibroblasts_1\": list(lin_drivers_dict['COL3A1 PI16 Fibroblasts_1'].index[:15])\n",
    "}\n",
    "\n",
    "# make sure all of these exist in AnnData\n",
    "assert [\n",
    "    gene in adata.var_names for genes in genes_oi.values() for gene in genes\n",
    "], \"Did not find all genes\"\n",
    "\n",
    "# compute mean gene expression across all cells\n",
    "adata.var[\"mean expression\"] = adata.X.A.mean(axis=0)\n",
    "\n",
    "# visualize in a scatter plot\n",
    "g2.plot_lineage_drivers_correlation(\n",
    "    lineage_x=\"COL6A6 FNDC1 Fibroblasts\",\n",
    "    lineage_y=\"COL3A1 PI16 Fibroblasts_1\",\n",
    "    adjust_text=True,\n",
    "    gene_sets=genes_oi,\n",
    "    color=\"mean expression\",\n",
    "    legend_loc=\"none\",\n",
    "    figsize=(5, 5),\n",
    "    dpi=150,\n",
    "    fontsize=9,\n",
    "    size=50,\n",
    ")"
   ]
  }
 ],
 "metadata": {
  "kernelspec": {
   "display_name": "Python [conda env:cellrank]",
   "language": "python",
   "name": "conda-env-cellrank-py"
  },
  "language_info": {
   "codemirror_mode": {
    "name": "ipython",
    "version": 3
   },
   "file_extension": ".py",
   "mimetype": "text/x-python",
   "name": "python",
   "nbconvert_exporter": "python",
   "pygments_lexer": "ipython3",
   "version": "3.8.18"
  }
 },
 "nbformat": 4,
 "nbformat_minor": 5
}
