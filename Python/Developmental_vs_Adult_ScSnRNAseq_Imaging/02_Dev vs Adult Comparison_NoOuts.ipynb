{
 "cells": [
  {
   "cell_type": "code",
   "execution_count": null,
   "id": "336cf270",
   "metadata": {},
   "outputs": [],
   "source": [
    "# Import dependencies\n",
    "%matplotlib inline\n",
    "import os\n",
    "import numpy as np\n",
    "import scanpy as sc\n",
    "import seaborn as sns\n",
    "import matplotlib\n",
    "import matplotlib.pyplot as plt\n",
    "import pandas as pd\n",
    "import anndata as ad\n",
    "import warnings\n",
    "\n",
    "# Ignore all warnings\n",
    "warnings.simplefilter(\"ignore\")\n",
    "\n",
    "matplotlib.rcParams['font.family'] = 'sans-serif'\n",
    "\n",
    "# Initialize random seed\n",
    "import random\n",
    "random.seed(111)\n",
    "\n",
    "# Print date and time:\n",
    "import datetime\n",
    "e = datetime.datetime.now()\n",
    "print (\"Current date and time = %s\" % e)\n",
    "\n",
    "# wdir = \"/ceph/project/tendonhca/akurjan/analysis/\"\n",
    "wdir = \"/mnt/da8aa2c4-0136-465b-87a2-d12a59afec55/akurjan/analysis/notebooks/\"\n",
    "os.chdir( wdir )\n",
    "\n",
    "# folder structures\n",
    "INPUT_FOLDERNAME = \"adult/integration/results/\"\n",
    "RESULTS_FOLDERNAME = \"adult/annotation/results/\"\n",
    "FIGURES_FOLDERNAME = \"adult/annotation/figures/\"\n",
    "\n",
    "if not os.path.exists(RESULTS_FOLDERNAME):\n",
    "    os.makedirs(RESULTS_FOLDERNAME)\n",
    "if not os.path.exists(FIGURES_FOLDERNAME):\n",
    "    os.makedirs(FIGURES_FOLDERNAME)\n",
    "\n",
    "# Set folder for saving figures into\n",
    "sc.settings.figdir = FIGURES_FOLDERNAME\n",
    "\n",
    "def savesvg(fname: str, fig, folder: str=FIGURES_FOLDERNAME) -> None:\n",
    "    \"\"\"\n",
    "    Save figure as vector-based SVG image format.\n",
    "    \"\"\"\n",
    "    fig.savefig(os.path.join(folder, fname), format='svg')\n",
    "\n",
    "def plot_umaps(anndata, parameters: list, filename: str):\n",
    "    n_plots = len(parameters)\n",
    "    fig, axs = plt.subplots(n_plots, 1, figsize=(10, 4*n_plots))\n",
    "    for i, param in enumerate(parameters):\n",
    "        sc.pl.umap(anndata, color=param, ax=axs[i], show=False, frameon=False, s=2)\n",
    "        axs[i].set_title(param)\n",
    "    plt.tight_layout()\n",
    "    savesvg(filename, fig)\n",
    "    plt.show()    \n",
    "    \n",
    "# Set other settings\n",
    "sc.settings.verbosity = 3 # verbosity: errors (0), warnings (1), info (2), hints (3)\n",
    "sc.logging.print_versions()\n",
    "sc.set_figure_params(dpi=150, fontsize=10, dpi_save=600)"
   ]
  },
  {
   "cell_type": "code",
   "execution_count": null,
   "id": "5772b19d",
   "metadata": {},
   "outputs": [],
   "source": [
    "adata = sc.read_h5ad(os.path.join(INPUT_FOLDERNAME, 'adultdev_combined_scANVI.h5ad'))\n",
    "adata.var_names_make_unique()\n",
    "adata"
   ]
  },
  {
   "cell_type": "code",
   "execution_count": null,
   "id": "71a7db86",
   "metadata": {},
   "outputs": [],
   "source": [
    "print(adata.X[0:10,0:10])"
   ]
  },
  {
   "cell_type": "code",
   "execution_count": null,
   "id": "877ae2f7",
   "metadata": {},
   "outputs": [],
   "source": [
    "adata = adata.raw.to_adata()\n",
    "sc.pp.filter_genes(adata, min_counts=50, inplace=True)"
   ]
  },
  {
   "cell_type": "code",
   "execution_count": null,
   "id": "05024ba1",
   "metadata": {},
   "outputs": [],
   "source": [
    "print(adata.X[0:10,0:10])\n",
    "adata.layers[\"counts\"] = adata.X.copy()"
   ]
  },
  {
   "cell_type": "code",
   "execution_count": null,
   "id": "eb49233c",
   "metadata": {},
   "outputs": [],
   "source": [
    "sc.pp.normalize_total(adata, target_sum=None, inplace=True)"
   ]
  },
  {
   "cell_type": "code",
   "execution_count": null,
   "id": "3d31d3d1",
   "metadata": {},
   "outputs": [],
   "source": [
    "print(adata.X[0:10,0:10])"
   ]
  },
  {
   "cell_type": "code",
   "execution_count": null,
   "id": "f7d6a020",
   "metadata": {},
   "outputs": [],
   "source": [
    "sc.pp.log1p(adata)\n",
    "print(adata.X[0:10, 0:10])\n",
    "adata.layers[\"log1p_norm\"] = adata.X.copy()"
   ]
  },
  {
   "cell_type": "code",
   "execution_count": null,
   "id": "b13ee03e",
   "metadata": {},
   "outputs": [],
   "source": [
    "adata.obs['C_scANVI_orig'] = adata.obs['C_scANVI'].copy()\n",
    "adata.obs['annotations_new'] = adata.obs['annotations_orig_full'].copy()"
   ]
  },
  {
   "cell_type": "code",
   "execution_count": null,
   "id": "41a9eca2",
   "metadata": {},
   "outputs": [],
   "source": [
    "adata.obs['C_scANVI'] = adata.obs['C_scANVI_orig'].copy()\n",
    "adata.obs['annotations_new'] = adata.obs['annotations_orig_full'].copy()"
   ]
  },
  {
   "cell_type": "code",
   "execution_count": null,
   "id": "1d0a2e0e",
   "metadata": {},
   "outputs": [],
   "source": [
    "adata.obs['C_scANVI'] = adata.obs['C_scANVI'].astype(str)\n",
    "adata.obs['annotations_new'] = adata.obs['annotations_new'].astype(str)\n",
    "\n",
    "mask = ~adata.obs['annotations_new'].str.startswith('Adult_')\n",
    "filtered_annotations = adata.obs.loc[mask, 'annotations_new']\n",
    "\n",
    "adata.obs['C_scANVI'].update(adata.obs.loc[mask, 'annotations_new'])\n",
    "print(adata.obs['C_scANVI'].value_counts())"
   ]
  },
  {
   "cell_type": "code",
   "execution_count": null,
   "id": "a8a566b5",
   "metadata": {},
   "outputs": [],
   "source": [
    "sc.pl.umap(adata,color='C_scANVI', legend_loc='on data', \n",
    "           frameon=False, legend_fontsize=4)"
   ]
  },
  {
   "cell_type": "code",
   "execution_count": null,
   "id": "26786e03",
   "metadata": {},
   "outputs": [],
   "source": [
    "#sc.pp.scale(adata)\n",
    "#print(adata.X[0:5,0:5])\n",
    "#adata.layers['scaled'] = adata.X.copy()"
   ]
  },
  {
   "cell_type": "code",
   "execution_count": null,
   "id": "37adc23e",
   "metadata": {},
   "outputs": [],
   "source": [
    "canonical_TSPC = ['ENG', 'THY1', 'CD44', 'NES', 'MCAM']\n",
    "sheath_TSPC = ['TPPP3', 'PDGFRA', 'ACTA2']\n",
    "injury_TSPC = ['AXIN2']\n",
    "\n",
    "foetalmarkers = {\n",
    "'ABI3BP fibroblasts': ['ABI3BP', 'GAS2', 'SCX', 'MKX', 'SOX5', 'COL1A1', 'THBS2', 'TNMD', 'KERA', 'FMOD', 'ACAN', 'COMP', 'COL5A1', 'COL6A1', 'COL11A1', 'COL11A2', 'COL12A1', 'COL14A1'],\n",
    "'COL6A6/COL3A1 fibroblasts': ['COL6A6', 'FNDC1', 'TSHZ2', 'PLAGL1', 'DCLK1', 'COL3A1', 'COL1A1', 'COL6A6', 'VCAN', 'FBN1', 'THBS2', 'COL5A1', 'COL6A1', 'COL11A1', 'COL11A2', 'COL12A1', 'COL14A1', 'TPPP3', 'PDGFRA', 'LUM'],\n",
    "'FGF14 fibroblasts': ['FGF14', 'THBS4', 'COL1A1', 'COL3A1', 'COL4A1', 'COL5A1', 'COL6A1', 'COL11A1', 'COL11A2', 'COL12A1', 'EBF1', 'TSHZ2', 'DLK1', 'BMP5', 'SLIT3', 'FSTL5', 'CDH12', 'COL22A1'],\n",
    "'NEGR1 fibroblasts': ['NEGR1', 'SCN7A', 'TNXB', 'LUM', 'VCAN', 'COL1A1', 'COL4A1', 'COL22A1', 'NOVA1', 'NAV3', 'SEMA5A'],\n",
    "'canonical TSPCs': canonical_TSPC,\n",
    "'sheath TSPCs': sheath_TSPC,\n",
    "#'injury TSPCs': injury_TSPC - nada\n",
    "}\n",
    "\n",
    "foetalmarkers_filtered = {}\n",
    "\n",
    "all_genes_in_adata = set(adata.var_names)\n",
    "\n",
    "for cell_type, genes in foetalmarkers.items():\n",
    "    filtered_genes = [gene for gene in genes if gene in all_genes_in_adata]\n",
    "    foetalmarkers_filtered[cell_type] = filtered_genes  "
   ]
  },
  {
   "cell_type": "code",
   "execution_count": null,
   "id": "01610dee",
   "metadata": {},
   "outputs": [],
   "source": [
    "sc.tl.dendrogram(adata, groupby='annotations_orig_full', use_rep='X_scANVI')"
   ]
  },
  {
   "cell_type": "code",
   "execution_count": null,
   "id": "0f9e98f6",
   "metadata": {},
   "outputs": [],
   "source": [
    "sc.pl.dotplot(adata, foetalmarkers_filtered['ABI3BP fibroblasts'], 'annotations_orig_full', dendrogram=True,\n",
    "             use_raw=False, layer=\"scaled\", vmin=-2, vmax=2, cmap='RdBu_r', figsize=(8,14),\n",
    "             title='ABI3BP Foetal Fibroblast Markers',\n",
    "             save='_annotation_abi3bp.svg')"
   ]
  },
  {
   "cell_type": "code",
   "execution_count": null,
   "id": "53b3ebc5",
   "metadata": {},
   "outputs": [],
   "source": [
    "sc.pl.dotplot(adata, foetalmarkers_filtered['COL6A6/COL3A1 fibroblasts'], 'annotations_orig_full', dendrogram=True,\n",
    "             use_raw=False, layer=\"scaled\", vmin=-2, vmax=2, cmap='RdBu_r', figsize=(8,14),\n",
    "             title='COL3/COL6 Foetal Fibroblast Markers',\n",
    "             save='_annotation_col3col6.svg')"
   ]
  },
  {
   "cell_type": "code",
   "execution_count": null,
   "id": "4ecee402",
   "metadata": {},
   "outputs": [],
   "source": [
    "sc.pl.dotplot(adata, foetalmarkers_filtered['FGF14 fibroblasts'], 'annotations_orig_full', dendrogram=True,\n",
    "             use_raw=False, layer=\"scaled\", vmin=-2, vmax=2, cmap='RdBu_r', figsize=(8,14),\n",
    "             title='FGF14 Foetal Fibroblast Markers',\n",
    "             save='_annotation_fgf14.svg')"
   ]
  },
  {
   "cell_type": "code",
   "execution_count": null,
   "id": "735a993d",
   "metadata": {},
   "outputs": [],
   "source": [
    "sc.pl.dotplot(adata, foetalmarkers_filtered['NEGR1 fibroblasts'], 'annotations_orig_full', dendrogram=True,\n",
    "             use_raw=False, layer=\"scaled\", vmin=-2, vmax=2, cmap='RdBu_r', figsize=(8,14),\n",
    "             title='NEGR1 Foetal Fibroblast Markers',\n",
    "             save='_annotation_negr1.svg')"
   ]
  },
  {
   "cell_type": "code",
   "execution_count": null,
   "id": "856aa0f9",
   "metadata": {},
   "outputs": [],
   "source": [
    "sc.pl.dotplot(adata, foetalmarkers_filtered, 'annotations_orig_full', dendrogram=True,\n",
    "             use_raw=False, layer=\"scaled\", vmin=-2, vmax=2, cmap='RdBu_r', figsize=(25,14),\n",
    "             save='_annotation_full.svg'\n",
    "             )"
   ]
  },
  {
   "cell_type": "code",
   "execution_count": null,
   "id": "d7422518",
   "metadata": {},
   "outputs": [],
   "source": [
    "sc.pl.dotplot(adata, foetalmarkers_filtered, 'annotations_orig_full', dendrogram=True,\n",
    "             use_raw=False, layer=\"log1p_norm\", vmin=0, vmax=5, cmap='Reds', figsize=(25,14),\n",
    "             save='_annotation_full_normalised.svg'\n",
    "             )"
   ]
  },
  {
   "cell_type": "code",
   "execution_count": null,
   "id": "b01a143c",
   "metadata": {},
   "outputs": [],
   "source": [
    "sc.tl.score_genes(adata, gene_list=foetalmarkers_filtered['ABI3BP fibroblasts'], \n",
    "                  score_name='abi3bp_marker_score', use_raw=False,\n",
    "                  ctrl_size=len(foetalmarkers_filtered['ABI3BP fibroblasts']), n_bins=50,\n",
    "                  random_state=1)\n",
    "\n",
    "sc.tl.score_genes(adata, gene_list=foetalmarkers_filtered['COL6A6/COL3A1 fibroblasts'], \n",
    "                  score_name='col6a6/col3a1_marker_score', use_raw=False,\n",
    "                  ctrl_size=len(foetalmarkers_filtered['COL6A6/COL3A1 fibroblasts']), n_bins=50, \n",
    "                  random_state=1)\n",
    "\n",
    "sc.tl.score_genes(adata, gene_list=foetalmarkers_filtered['FGF14 fibroblasts'], \n",
    "                  score_name='fgf14_marker_score', use_raw=False,\n",
    "                  ctrl_size=len(foetalmarkers_filtered['FGF14 fibroblasts']), n_bins=50,\n",
    "                  random_state=1)\n",
    "\n",
    "sc.tl.score_genes(adata, gene_list=foetalmarkers_filtered['NEGR1 fibroblasts'], \n",
    "                  score_name='negr1_marker_score', use_raw=False,\n",
    "                  ctrl_size=len(foetalmarkers_filtered['NEGR1 fibroblasts']), n_bins=50,\n",
    "                  random_state=1)"
   ]
  },
  {
   "cell_type": "code",
   "execution_count": null,
   "id": "dc62efa9",
   "metadata": {},
   "outputs": [],
   "source": [
    "sc.pl.umap(adata, color=['abi3bp_marker_score', 'col6a6/col3a1_marker_score', 'fgf14_marker_score', 'negr1_marker_score'], \n",
    "           frameon=False,\n",
    "           sort_order=False,\n",
    "           cmap=\"bwr\", vmax=\"p95\", vcenter=0,\n",
    "           save='_marker_scores_95perc.svg'\n",
    "          )"
   ]
  },
  {
   "cell_type": "code",
   "execution_count": null,
   "id": "c51dcc54",
   "metadata": {},
   "outputs": [],
   "source": [
    "del adata.raw"
   ]
  },
  {
   "cell_type": "code",
   "execution_count": null,
   "id": "a6c4696c",
   "metadata": {},
   "outputs": [],
   "source": [
    "sc.pl.umap(adata, color=['abi3bp_marker_score', 'col6a6/col3a1_marker_score', 'fgf14_marker_score', 'negr1_marker_score'], \n",
    "           frameon=False,\n",
    "           sort_order=False,\n",
    "           cmap=\"bwr\", vmax=\"p99\", vcenter=0,\n",
    "           save='_marker_scores_99perc.svg'\n",
    "          )"
   ]
  },
  {
   "cell_type": "code",
   "execution_count": null,
   "id": "d0f148ec",
   "metadata": {},
   "outputs": [],
   "source": [
    "foetal = sc.read_h5ad(os.path.join('foetal/results/scVI/dev_scANVI.h5ad'))\n",
    "foetal.obs['C_scANVI_orig'] = foetal.obs['C_scANVI']\n",
    "\n",
    "foetal.obs['C_scANVI'] = np.where(\n",
    "    foetal.obs['C_scANVI'] == 'ABI3BP GAS2 Fibroblasts 1', 'ABI3BP GAS2 Fibroblasts', foetal.obs['C_scANVI']\n",
    ")\n",
    "foetal.obs['C_scANVI'] = np.where(\n",
    "    foetal.obs['C_scANVI'] == 'ABI3BP GAS2 Fibroblasts 2', 'ABI3BP GAS2 Fibroblasts', foetal.obs['C_scANVI']\n",
    ")\n",
    "foetal"
   ]
  },
  {
   "cell_type": "code",
   "execution_count": null,
   "id": "b13b8409",
   "metadata": {},
   "outputs": [],
   "source": [
    "sc.tl.rank_genes_groups(foetal, groupby='C_scANVI', method='wilcoxon', key_added='wilcoxon_scanvi', \n",
    "                        use_raw=False, layer='log1p_norm')\n",
    "sc.pl.rank_genes_groups(foetal, n_genes=25, sharey=False, key='wilcoxon_scanvi')"
   ]
  },
  {
   "cell_type": "code",
   "execution_count": null,
   "id": "c96d6032",
   "metadata": {},
   "outputs": [],
   "source": [
    "categories = adata.obs['annotations_orig_full'].cat.categories\n",
    "adult_categories = [cat for cat in categories if cat.startswith('Adult_')]\n",
    "adult_categories"
   ]
  },
  {
   "cell_type": "code",
   "execution_count": null,
   "id": "7b85b1b5",
   "metadata": {},
   "outputs": [],
   "source": [
    "foetal_uns_dict = foetal.uns['wilcoxon_scanvi']\n",
    "foetal_ct = foetal.obs['C_scANVI']"
   ]
  },
  {
   "cell_type": "code",
   "execution_count": null,
   "id": "25bcde7c",
   "metadata": {},
   "outputs": [],
   "source": [
    "del foetal"
   ]
  },
  {
   "cell_type": "code",
   "execution_count": null,
   "id": "a8b4c078",
   "metadata": {},
   "outputs": [],
   "source": [
    "adata.uns['log1p']['base'] = None\n",
    "sc.tl.rank_genes_groups(adata, groupby='annotations_orig_full', \n",
    "                        groups=adult_categories,\n",
    "                        method='wilcoxon', key_added='wilcoxon_adult', \n",
    "                        use_raw=False, layer='log1p_norm')"
   ]
  },
  {
   "cell_type": "code",
   "execution_count": null,
   "id": "fd84385e",
   "metadata": {
    "scrolled": false
   },
   "outputs": [],
   "source": [
    "sc.pl.rank_genes_groups(adata, n_genes=25, sharey=False, key='wilcoxon_adult')"
   ]
  },
  {
   "cell_type": "code",
   "execution_count": null,
   "id": "04492d59",
   "metadata": {},
   "outputs": [],
   "source": [
    "dev_categories = [cat for cat in categories if cat not in adult_categories]\n",
    "dev_categories"
   ]
  },
  {
   "cell_type": "code",
   "execution_count": null,
   "id": "4e3aed5d",
   "metadata": {},
   "outputs": [],
   "source": [
    "foetal_categories = ['ABI3BP GAS2 Fibroblasts',\n",
    " 'COL3A1 PI16 Fibroblasts',\n",
    " 'COL6A6 FNDC1 Fibroblasts',\n",
    " 'Chondrocytes',\n",
    " 'FGF14 THBS4 Fibroblasts',\n",
    " 'Immune Cells',\n",
    " 'NEGR1 SCN7A Fibroblasts',\n",
    " 'Nervous System Cells',\n",
    " 'Satellite Cells',\n",
    " 'Skeletal Myocytes',\n",
    " 'Smooth Myocytes',\n",
    " 'lymEndothelial Cells',\n",
    " 'vasEndothelial Cells']"
   ]
  },
  {
   "cell_type": "code",
   "execution_count": null,
   "id": "1e19bae9",
   "metadata": {},
   "outputs": [],
   "source": [
    "sc.tl.rank_genes_groups(adata, groupby='annotations_orig_full', \n",
    "                        groups=foetal_categories,\n",
    "                        method='wilcoxon', key_added='wilcoxon_dev', \n",
    "                        use_raw=False, layer='log1p_norm')\n",
    "sc.pl.rank_genes_groups(adata, n_genes=25, sharey=False, key='wilcoxon_dev')"
   ]
  },
  {
   "cell_type": "code",
   "execution_count": null,
   "id": "86269964",
   "metadata": {},
   "outputs": [],
   "source": [
    "result = adata.uns['wilcoxon_dev']\n",
    "groups = result['names'].dtype.names\n",
    "df = pd.DataFrame(\n",
    "    {group + '_' + key: result[key][group]\n",
    "    for group in groups \n",
    "    for key in ['names','scores','logfoldchanges', 'pvals', 'pvals_adj']})\n",
    "df.to_csv(os.path.join(RESULTS_FOLDERNAME, 'devonly_wilcoxon_DGE.csv'))"
   ]
  },
  {
   "cell_type": "code",
   "execution_count": null,
   "id": "ce34ed4b",
   "metadata": {},
   "outputs": [],
   "source": [
    "result = adata.uns['wilcoxon_adult']\n",
    "groups = result['names'].dtype.names\n",
    "df = pd.DataFrame(\n",
    "    {group + '_' + key: result[key][group]\n",
    "    for group in groups \n",
    "    for key in ['names','scores','logfoldchanges', 'pvals', 'pvals_adj']})\n",
    "df.to_csv(os.path.join(RESULTS_FOLDERNAME, 'adultonly_wilcoxon_DGE.csv'))"
   ]
  },
  {
   "cell_type": "code",
   "execution_count": null,
   "id": "ec602d05",
   "metadata": {},
   "outputs": [],
   "source": [
    "df"
   ]
  },
  {
   "cell_type": "code",
   "execution_count": null,
   "id": "669a7f45",
   "metadata": {},
   "outputs": [],
   "source": [
    "foetal_markers_dict = {}\n",
    "for cell_type in foetal_ct.unique():\n",
    "    top_degs = foetal_uns_dict['names'][cell_type][0:50]\n",
    "    foetal_markers_dict[cell_type] = top_degs\n",
    "    \n",
    "#cell_annotation = sc.tl.marker_gene_overlap(adata, foetal_markers_dict, key='wilcoxon_adult')\n",
    "cell_annotation_norm = sc.tl.marker_gene_overlap(adata, foetal_markers_dict, key='wilcoxon_adult', normalize='reference')\n",
    "\n",
    "fig, ax = plt.subplots(figsize=(12,14))\n",
    "sns.heatmap(cell_annotation_norm.T, linewidths=0.5, linecolor='white', cbar=True, annot=True, ax=ax)\n",
    "plt.grid(False)\n",
    "savesvg('FoetalscANVI_vs_Adult_similaritymatrix_50degs.svg', plt)\n",
    "plt.show()"
   ]
  },
  {
   "cell_type": "code",
   "execution_count": null,
   "id": "edcfff32",
   "metadata": {},
   "outputs": [],
   "source": [
    "g = sns.clustermap(cell_annotation_norm.T, figsize=(12, 14), \n",
    "                   linewidths=0.5, linecolor='white', cbar=True, annot=True)\n",
    "g.ax_heatmap.grid(False)\n",
    "savesvg('scANVIfileFoetal_vs_Adult_similaritymatrix_clustered_50degs.svg', g)\n",
    "plt.show()"
   ]
  },
  {
   "cell_type": "code",
   "execution_count": null,
   "id": "1668daf2",
   "metadata": {},
   "outputs": [],
   "source": [
    "foetal_markers_dict_2 = {}\n",
    "for cell_type in foetal_categories:\n",
    "    top_degs = adata.uns['wilcoxon_dev']['names'][cell_type][0:500]\n",
    "    foetal_markers_dict_2[cell_type] = top_degs\n",
    "    \n",
    "#cell_annotation = sc.tl.marker_gene_overlap(adata, foetal_markers_dict, key='wilcoxon_adult')\n",
    "cell_annotation_norm = sc.tl.marker_gene_overlap(adata, foetal_markers_dict_2, key='wilcoxon_adult', normalize='reference')\n",
    "\n",
    "fig, ax = plt.subplots(figsize=(12,14))\n",
    "sns.heatmap(cell_annotation_norm.T, linewidths=0.5, linecolor='white', cbar=True, annot=True, ax=ax)\n",
    "plt.grid(False)\n",
    "savesvg('onefile_Foetal_vs_Adult_similaritymatrix_50degs.svg', plt)\n",
    "plt.show()"
   ]
  },
  {
   "cell_type": "code",
   "execution_count": null,
   "id": "07425b1c",
   "metadata": {},
   "outputs": [],
   "source": [
    "g = sns.clustermap(cell_annotation_norm.T, figsize=(12, 14), \n",
    "                   linewidths=0.5, linecolor='white', cbar=True, annot=True)\n",
    "g.ax_heatmap.grid(False)\n",
    "savesvg('onefile_Foetal_vs_Adult_similaritymatrix_clustered_50degs.svg', g)\n",
    "plt.show()"
   ]
  },
  {
   "cell_type": "code",
   "execution_count": null,
   "id": "f27617b2",
   "metadata": {},
   "outputs": [],
   "source": [
    "adata.X.max()"
   ]
  },
  {
   "cell_type": "code",
   "execution_count": null,
   "id": "e412b37e",
   "metadata": {},
   "outputs": [],
   "source": [
    "ms_list = []\n",
    "for cell_type, genes in foetal_markers_dict.items():\n",
    "    sc.tl.score_genes(adata, gene_list=genes, use_raw=False,\n",
    "                      score_name=f'{cell_type}_ms', \n",
    "                      ctrl_size=len(genes), n_bins=50,\n",
    "                      random_state=1)\n",
    "    ms_list.append(f'{cell_type}_ms')\n",
    "ms_list"
   ]
  },
  {
   "cell_type": "code",
   "execution_count": null,
   "id": "cfe7456f",
   "metadata": {
    "scrolled": false
   },
   "outputs": [],
   "source": [
    "sc.pl.umap(adata, color=ms_list,\n",
    "           frameon=False,\n",
    "           sort_order=False,\n",
    "           cmap=\"bwr\", vmax=\"p95\", vcenter=0, ncols=5,\n",
    "           save='_foetalct_marker_scores_95perc_50degs.svg'\n",
    "          )"
   ]
  },
  {
   "cell_type": "code",
   "execution_count": null,
   "id": "cfe069c9",
   "metadata": {},
   "outputs": [],
   "source": [
    "sc.pl.umap(adata, color=ms_list,\n",
    "           frameon=False,\n",
    "           sort_order=False,\n",
    "           cmap=\"bwr\", vmax=\"p99\", vcenter=0, ncols=5,\n",
    "           save='_foetalct_marker_scores_99perc_50degs.svg'\n",
    "          )"
   ]
  },
  {
   "cell_type": "code",
   "execution_count": null,
   "id": "cfd09a1d",
   "metadata": {},
   "outputs": [],
   "source": [
    "ms_list2 = []\n",
    "for cell_type, genes in foetal_markers_dict_2.items():\n",
    "    sc.tl.score_genes(adata, gene_list=genes, use_raw=False,\n",
    "                      score_name=f'{cell_type}_ms', \n",
    "                      ctrl_size=len(genes), n_bins=50,\n",
    "                      random_state=1)\n",
    "    ms_list2.append(f'{cell_type}_ms')"
   ]
  },
  {
   "cell_type": "code",
   "execution_count": null,
   "id": "0d19eee0",
   "metadata": {},
   "outputs": [],
   "source": [
    "sc.pl.umap(adata, color=ms_list2,\n",
    "           frameon=False,\n",
    "           sort_order=False,\n",
    "           cmap=\"bwr\", vmax=\"p95\", vcenter=0, ncols=5,\n",
    "           save='_onefile_foetalct_marker_scores_95perc_50degs.svg'\n",
    "          )"
   ]
  },
  {
   "cell_type": "code",
   "execution_count": null,
   "id": "fdaef8d2",
   "metadata": {},
   "outputs": [],
   "source": [
    "sc.pl.umap(adata, color=ms_list2,\n",
    "           frameon=False,\n",
    "           sort_order=False,\n",
    "           cmap=\"bwr\", vmax=\"p99\", vcenter=0, ncols=5,\n",
    "           save='_onefile_foetalct_marker_scores_99perc_50degs.svg'\n",
    "          )"
   ]
  },
  {
   "cell_type": "code",
   "execution_count": null,
   "id": "1b360542",
   "metadata": {},
   "outputs": [],
   "source": [
    "all_annotations = {}\n",
    "if 'annotations_orig_full_colors' in adata.uns:\n",
    "    cell_types = adata.obs['annotations_orig_full'].cat.categories\n",
    "    colors = adata.uns['annotations_orig_full_colors']\n",
    "    for cell_type, color in zip(cell_types, colors):\n",
    "        all_annotations[cell_type] = color\n",
    "        #print(f\"'{cell_type}': '{color}',\")\n",
    "else:\n",
    "    print(\"Color palette for 'annotations_orig' not found. Run a plot first.\")\n",
    "\n",
    "\n",
    "group_annotations = adata.obs[adata.obs['group'] == 'Foetal']['annotations_orig_full']\n",
    "unique_annotations = list(pd.unique(group_annotations))\n",
    "highlighted_clusters = {annotation: all_annotations[annotation] for annotation in unique_annotations \n",
    "                        if annotation in all_annotations}\n",
    "unique_clusters = adata.obs['annotations_orig_full'].cat.categories\n",
    "color_palette = [highlighted_clusters.get(cluster, 'lightgray') for cluster in unique_clusters]"
   ]
  },
  {
   "cell_type": "code",
   "execution_count": null,
   "id": "b6cc6c90",
   "metadata": {},
   "outputs": [],
   "source": [
    "sc.pl.umap(adata, color=['annotations_orig_full'], s=1,\n",
    "           legend_loc='on data', legend_fontsize=3, palette=color_palette,\n",
    "           frameon=False, save='_scANVI_foetalct_annotated.svg'\n",
    "          )"
   ]
  },
  {
   "cell_type": "code",
   "execution_count": null,
   "id": "066ae20e",
   "metadata": {},
   "outputs": [],
   "source": [
    "ms_list2"
   ]
  },
  {
   "cell_type": "code",
   "execution_count": null,
   "id": "f0bf22a2",
   "metadata": {},
   "outputs": [],
   "source": [
    "data = pd.DataFrame(adata.obs[['annotations_orig_full', 'age', 'tendon_status', 'ABI3BP GAS2 Fibroblasts_ms',\n",
    " 'COL3A1 PI16 Fibroblasts_ms', 'COL6A6 FNDC1 Fibroblasts_ms', 'FGF14 THBS4 Fibroblasts_ms', 'NEGR1 SCN7A Fibroblasts_ms']])\n",
    "data"
   ]
  },
  {
   "cell_type": "code",
   "execution_count": null,
   "id": "96fc38c8",
   "metadata": {},
   "outputs": [],
   "source": [
    "data['annotations_orig_full'] = data['annotations_orig_full'].astype(str).str.strip()\n",
    "data['tendon_status'] = data['tendon_status'].astype(str).str.strip()\n",
    "data['age'] = data['age'].astype(str).str.strip()\n",
    "print(data.dtypes)"
   ]
  },
  {
   "cell_type": "code",
   "execution_count": null,
   "id": "f90743a0",
   "metadata": {},
   "outputs": [],
   "source": [
    "data = data.sort_values(by=['annotations_orig_full', 'age', 'tendon_status'])\n",
    "\n",
    "aggregated_data = data.groupby(['annotations_orig_full', 'age', 'tendon_status']).mean()\n",
    "aggregated_data"
   ]
  },
  {
   "cell_type": "code",
   "execution_count": null,
   "id": "d00f082c",
   "metadata": {},
   "outputs": [],
   "source": [
    "ms_columns = ['ABI3BP GAS2 Fibroblasts_ms', 'COL3A1 PI16 Fibroblasts_ms', \n",
    "              'COL6A6 FNDC1 Fibroblasts_ms', 'FGF14 THBS4 Fibroblasts_ms', \n",
    "              'NEGR1 SCN7A Fibroblasts_ms']\n",
    "\n",
    "# Create a dictionary to specify aggregation functions for each column\n",
    "agg_funcs = {col: ['mean', 'max', 'min', 'count'] for col in ms_columns}\n",
    "\n",
    "# Group by annotations, age, and tendon status, then aggregate\n",
    "aggregated_data = data.groupby(['annotations_orig_full', 'age', 'tendon_status']).agg(agg_funcs)\n",
    "aggregated_data"
   ]
  },
  {
   "cell_type": "code",
   "execution_count": null,
   "id": "935f79c1",
   "metadata": {},
   "outputs": [],
   "source": [
    "aggregated_data.loc['Adult_Quad_Osteoblasts']"
   ]
  },
  {
   "cell_type": "code",
   "execution_count": null,
   "id": "cadbd857",
   "metadata": {},
   "outputs": [],
   "source": [
    "aggregated_data.loc['Adult_Quad_Dividing fibroblasts / mural cells']"
   ]
  },
  {
   "cell_type": "code",
   "execution_count": null,
   "id": "30e59a1f",
   "metadata": {},
   "outputs": [],
   "source": [
    "aggregated_data.to_csv(os.path.join(RESULTS_FOLDERNAME, 'ct_data_summaryofmsscores.csv'))"
   ]
  },
  {
   "cell_type": "code",
   "execution_count": null,
   "id": "e8501648",
   "metadata": {},
   "outputs": [],
   "source": [
    "sc.pl.umap(adata, color='annotations_orig_full')"
   ]
  },
  {
   "cell_type": "code",
   "execution_count": null,
   "id": "697a5c87",
   "metadata": {},
   "outputs": [],
   "source": [
    "sc.pl.umap(adata, color=['C_scANVI'], legend_loc='on data',\n",
    "          legend_fontsize=5, frameon=False)"
   ]
  },
  {
   "cell_type": "code",
   "execution_count": null,
   "id": "58c75d0f",
   "metadata": {},
   "outputs": [],
   "source": [
    "del adata.raw"
   ]
  },
  {
   "cell_type": "code",
   "execution_count": null,
   "id": "c7168f81",
   "metadata": {},
   "outputs": [],
   "source": [
    "sc.pl.umap(adata, color=['ageint'], legend_loc='on data',\n",
    "          legend_fontsize=5, frameon=False)"
   ]
  }
 ],
 "metadata": {
  "kernelspec": {
   "display_name": "Python [conda env:scvi-env]",
   "language": "python",
   "name": "conda-env-scvi-env-py"
  },
  "language_info": {
   "codemirror_mode": {
    "name": "ipython",
    "version": 3
   },
   "file_extension": ".py",
   "mimetype": "text/x-python",
   "name": "python",
   "nbconvert_exporter": "python",
   "pygments_lexer": "ipython3",
   "version": "3.9.16"
  }
 },
 "nbformat": 4,
 "nbformat_minor": 5
}
