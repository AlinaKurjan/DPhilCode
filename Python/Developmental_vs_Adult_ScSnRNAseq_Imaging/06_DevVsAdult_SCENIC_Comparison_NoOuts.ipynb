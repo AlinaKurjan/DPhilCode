{
 "cells": [
  {
   "cell_type": "code",
   "execution_count": null,
   "id": "1adf8e0a",
   "metadata": {
    "scrolled": false
   },
   "outputs": [],
   "source": [
    "# Import dependencies\n",
    "import os, glob, re, pickle\n",
    "from functools import partial\n",
    "from collections import OrderedDict\n",
    "import operator as op\n",
    "from cytoolz import compose\n",
    "\n",
    "import numpy as np\n",
    "import pandas as pd\n",
    "import scanpy as sc\n",
    "import scipy as sp\n",
    "import loompy as lp\n",
    "import seaborn as sns\n",
    "import matplotlib as mpl\n",
    "import matplotlib.pyplot as plt\n",
    "import anndata\n",
    "\n",
    "from pyscenic.export import export2loom, add_scenic_metadata\n",
    "from pyscenic.utils import load_motifs\n",
    "from pyscenic.transform import df2regulons\n",
    "from pyscenic.aucell import aucell\n",
    "from pyscenic.binarization import binarize\n",
    "from pyscenic.rss import regulon_specificity_scores\n",
    "from pyscenic.plotting import plot_binarization, plot_rss\n",
    "\n",
    "from IPython.display import HTML, display\n",
    "\n",
    "# Print date and time:\n",
    "import datetime\n",
    "e = datetime.datetime.now()\n",
    "print (\"Current date and time = %s\" % e)\n",
    "\n",
    "wdir = \"/mnt/da8aa2c4-0136-465b-87a2-d12a59afec55/akurjan/analysis/notebooks/adult/\"\n",
    "os.chdir( wdir )\n",
    "\n",
    "# folder structures\n",
    "INPUT_FOLDERNAME = \"annotation/results/\"\n",
    "RESULTS_FOLDERNAME = \"scenic/results/foetalcomparison/\"\n",
    "FIGURES_FOLDERNAME = \"scenic/figures/foetalcomparison/\"\n",
    "AUXILLIARIES_FOLDERNAME = \"../../files/auxilliaries/\"\n",
    "\n",
    "if not os.path.exists(RESULTS_FOLDERNAME):\n",
    "    os.makedirs(RESULTS_FOLDERNAME)\n",
    "if not os.path.exists(FIGURES_FOLDERNAME):\n",
    "    os.makedirs(FIGURES_FOLDERNAME)\n",
    "\n",
    "# Set folder for saving figures into\n",
    "sc.settings.figdir = FIGURES_FOLDERNAME\n",
    "\n",
    "def savesvg(fname: str, fig, folder: str=FIGURES_FOLDERNAME) -> None:\n",
    "    \"\"\"\n",
    "    Save figure as vector-based SVG image format.\n",
    "    \"\"\"\n",
    "    fig.tight_layout()\n",
    "    fig.savefig(os.path.join(folder, fname), format='svg')\n",
    "\n",
    "# Set other settings\n",
    "sc.settings.verbosity = 3 # verbosity: errors (0), warnings (1), info (2), hints (3)\n",
    "sc.logging.print_versions()\n",
    "sc.set_figure_params(dpi=150, fontsize=10, dpi_save=600)"
   ]
  },
  {
   "cell_type": "markdown",
   "id": "63a00eca",
   "metadata": {},
   "source": [
    "# FULL SCENIC ANALYSIS"
   ]
  },
  {
   "cell_type": "code",
   "execution_count": null,
   "id": "8c60ff09",
   "metadata": {},
   "outputs": [],
   "source": [
    "embryonic_scenic_loom = \"/mnt/da8aa2c4-0136-465b-87a2-d12a59afec55/akurjan/analysis/notebooks/embryonic ScAndSp/Scenic/results/embryonic_005AUC.scenic.loom\"\n",
    "#foetal12_scenic_loom = \"/mnt/da8aa2c4-0136-465b-87a2-d12a59afec55/akurjan/analysis/notebooks/foetal/results/Scenic/12w_foetal_005AUC.scenic.loom\"\n",
    "#foetal17_scenic_loom = \"/mnt/da8aa2c4-0136-465b-87a2-d12a59afec55/akurjan/analysis/notebooks/foetal/results/Scenic/17w_foetal_005AUC.scenic.loom\"\n",
    "#foetal20_scenic_loom = \"/mnt/da8aa2c4-0136-465b-87a2-d12a59afec55/akurjan/analysis/notebooks/foetal/results/Scenic/20w_foetal_005AUC.scenic.loom\"\n",
    "#adult_scenic_loom = os.path.join('scenic/results/adult_quad_01AUC.scenic.loom')\n",
    "    \n",
    "loomfiles = {\n",
    "    'embryonic': embryonic_scenic_loom,\n",
    "    #'foetal12': foetal12_scenic_loom,\n",
    "    #'foetal17': foetal17_scenic_loom,\n",
    "    #'foetal20': foetal20_scenic_loom,\n",
    "    #'adultquads': adult_scenic_loom\n",
    "}"
   ]
  },
  {
   "cell_type": "code",
   "execution_count": null,
   "id": "c89dbde3",
   "metadata": {},
   "outputs": [],
   "source": [
    "auc_mtx_dict = {}\n",
    "regulons_dict = {}\n",
    "\n",
    "for name, path in loomfiles.items():\n",
    "    lf = lp.connect(path, mode='r+', validate=False )\n",
    "    auc_mtx = pd.DataFrame( lf.ca.RegulonsAUC, index=lf.ca.CellID)\n",
    "    auc_mtx_dict[name] = auc_mtx\n",
    "    regulons = lf.ra.Regulons\n",
    "    regulons_dict[name] = regulons\n",
    "    lf.close()"
   ]
  },
  {
   "cell_type": "code",
   "execution_count": null,
   "id": "eedf04f9",
   "metadata": {},
   "outputs": [],
   "source": [
    "#bin_mtx, thresholds = binarize(auc_mtx_dict['foetal12'])\n",
    "#bin_mtx.to_csv(os.path.join(RESULTS_FOLDERNAME, f'12w_foetal.bin.csv'))\n",
    "#thresholds.to_frame().rename(columns={0:'threshold'}).to_csv(os.path.join(RESULTS_FOLDERNAME, '12w_foetal.thresholds.csv'))"
   ]
  },
  {
   "cell_type": "code",
   "execution_count": null,
   "id": "5cf2f600",
   "metadata": {},
   "outputs": [],
   "source": [
    "bin_mtx_embryonic = pd.read_csv(\"/mnt/da8aa2c4-0136-465b-87a2-d12a59afec55/akurjan/analysis/notebooks/embryonic ScAndSp/Scenic/results/embryonic.bin.csv\", index_col=0)\n",
    "bin_mtx_foetal12 = pd.read_csv(os.path.join(RESULTS_FOLDERNAME, f'12w_foetal.bin.csv'), index_col=0)\n",
    "bin_mtx_foetal17 = pd.read_csv(os.path.join(RESULTS_FOLDERNAME, f'17w_foetal.bin.csv'), index_col=0)\n",
    "bin_mtx_foetal20 = pd.read_csv(\"/mnt/da8aa2c4-0136-465b-87a2-d12a59afec55/akurjan/analysis/notebooks/foetal/results/Scenic/20w_foetal.bin.csv\", index_col=0)\n",
    "\n",
    "bin_mtx_dict = {\n",
    "    'embryonic': bin_mtx_embryonic,\n",
    "    'foetal12': bin_mtx_foetal12,\n",
    "    'foetal17': bin_mtx_foetal17,\n",
    "    'foetal20': bin_mtx_foetal20\n",
    "}"
   ]
  },
  {
   "cell_type": "code",
   "execution_count": null,
   "id": "081a0edd",
   "metadata": {},
   "outputs": [],
   "source": [
    "embryonic_adata = sc.read_h5ad(\"/mnt/da8aa2c4-0136-465b-87a2-d12a59afec55/akurjan/analysis/notebooks/embryonic ScAndSp/subset_scVI/results/predictedsubset_ccregressed.h5ad\")\n",
    "embryonic_adata.var_names = embryonic_adata.var_names.astype('str')\n",
    "embryonic_adata.var_names_make_unique()\n",
    "embryonic_adata"
   ]
  },
  {
   "cell_type": "code",
   "execution_count": null,
   "id": "6302d7d5",
   "metadata": {},
   "outputs": [],
   "source": [
    "embryonic_adata.obs['cell_type'] = np.where(\n",
    "    embryonic_adata.obs['cell_type'] == 'Chondrocytes', 'Embryonic Chondrocytes', embryonic_adata.obs['cell_type']\n",
    ")"
   ]
  },
  {
   "cell_type": "code",
   "execution_count": null,
   "id": "79f77c15",
   "metadata": {},
   "outputs": [],
   "source": [
    "embryonic_adata.obs[['cell_type', 'age']].value_counts()"
   ]
  },
  {
   "cell_type": "code",
   "execution_count": null,
   "id": "b8c071df",
   "metadata": {},
   "outputs": [],
   "source": [
    "adata_dict = {\n",
    "    'embryonic': embryonic_adata,\n",
    "}"
   ]
  },
  {
   "cell_type": "code",
   "execution_count": null,
   "id": "3d64cc76",
   "metadata": {},
   "outputs": [],
   "source": [
    "foetal_adata = sc.read_h5ad(\"/mnt/da8aa2c4-0136-465b-87a2-d12a59afec55/akurjan/analysis/notebooks/foetal/results/scVI/dev_scANVI.h5ad\")\n",
    "foetal_adata.var_names_make_unique()\n",
    "foetal_adata"
   ]
  },
  {
   "cell_type": "code",
   "execution_count": null,
   "id": "36bded69",
   "metadata": {},
   "outputs": [],
   "source": [
    "foetal_adata.obs['C_scANVI'] = np.where(\n",
    "    foetal_adata.obs['C_scANVI'] == 'ABI3BP GAS2 Fibroblasts 1', 'ABI3BP GAS2 Fibroblasts', foetal_adata.obs['C_scANVI']\n",
    ")\n",
    "foetal_adata.obs['C_scANVI'] = np.where(\n",
    "    foetal_adata.obs['C_scANVI'] == 'ABI3BP GAS2 Fibroblasts 2', 'ABI3BP GAS2 Fibroblasts', foetal_adata.obs['C_scANVI']\n",
    ")"
   ]
  },
  {
   "cell_type": "code",
   "execution_count": null,
   "id": "1d90ade6",
   "metadata": {},
   "outputs": [],
   "source": [
    "foetal12 = foetal_adata[foetal_adata.obs['age']=='12w'].copy()\n",
    "foetal17 = foetal_adata[foetal_adata.obs['age']=='17w'].copy()\n",
    "foetal20 = foetal_adata[foetal_adata.obs['age']=='20w'].copy()\n",
    "\n",
    "adata_dict = {\n",
    "    'foetal12': foetal12,\n",
    "    'foetal17': foetal17,    \n",
    "    'foetal20': foetal20\n",
    "}"
   ]
  },
  {
   "cell_type": "code",
   "execution_count": null,
   "id": "5c77a798",
   "metadata": {},
   "outputs": [],
   "source": [
    "del foetal_adata"
   ]
  },
  {
   "cell_type": "code",
   "execution_count": null,
   "id": "86818881",
   "metadata": {},
   "outputs": [],
   "source": [
    "# Create heatmap with binarized regulon activity.\n",
    "def palplot(pal, names, colors=None, size=1):\n",
    "    n = len(pal)\n",
    "    f, ax = plt.subplots(1, 1, figsize=(n * size, size))\n",
    "    ax.imshow(np.arange(n).reshape(1, n),\n",
    "              cmap=mpl.colors.ListedColormap(list(pal)),\n",
    "              interpolation=\"nearest\", aspect=\"auto\")\n",
    "    ax.set_xticks(np.arange(n) - .5)\n",
    "    ax.set_yticks([-.5, .5])\n",
    "    ax.set_xticklabels([])\n",
    "    ax.set_yticklabels([])\n",
    "    colors = n * ['k'] if colors is None else colors\n",
    "    for idx, (name, color) in enumerate(zip(names, colors)):\n",
    "        ax.text(0.0+idx, 0.0, name, color=color, horizontalalignment='center', verticalalignment='center')\n",
    "    return f"
   ]
  },
  {
   "cell_type": "code",
   "execution_count": null,
   "id": "8dd1852b",
   "metadata": {},
   "outputs": [],
   "source": [
    "# Foetal:\n",
    "unscolors = 'C_scANVI_colors'\n",
    "groupcolors = 'C_scANVI'\n",
    "\n",
    "# Embryonic:\n",
    "unscolors = 'cell_type_colors'\n",
    "groupcolors = 'cell_type'"
   ]
  },
  {
   "cell_type": "code",
   "execution_count": null,
   "id": "dabec896",
   "metadata": {},
   "outputs": [],
   "source": [
    "for name, auc_mtx in auc_mtx_dict.items():\n",
    "    auc_mtx.index = auc_mtx.index.map(str)"
   ]
  },
  {
   "cell_type": "code",
   "execution_count": null,
   "id": "b041ab93",
   "metadata": {
    "scrolled": false
   },
   "outputs": [],
   "source": [
    "import matplotlib as mpl\n",
    "\n",
    "for name, adata in adata_dict.items():\n",
    "    cats = sorted(list(set(adata.obs[groupcolors])))\n",
    "    colors = sns.color_palette(adata.uns[unscolors], n_colors=len(cats))\n",
    "    colorsd = dict( zip( cats, colors ))\n",
    "    colormap = [ colorsd[x] for x in adata.obs[groupcolors] ]\n",
    "\n",
    "    cell_id2cell_type_lut =adata.obs[groupcolors].to_dict()\n",
    "    bw_palette = sns.xkcd_palette([\"white\", \"black\"])\n",
    "    \n",
    "    sns.set()\n",
    "    sns.set_style(\"whitegrid\")\n",
    "    fig = palplot(bw_palette, ['OFF', 'ON'], ['k', 'w'])\n",
    "    savesvg(f'{name}_legend_on_off.svg', fig)\n",
    "\n",
    "    sns.set()\n",
    "    sns.set(font_scale=1.0)\n",
    "    fig = palplot(colors, cats, size=2.5)\n",
    "    savesvg(f'{name}_legend_celltypes.svg', fig)\n",
    "    \n",
    "    cell_types_series = pd.Series(auc_mtx_dict[name].index.map(cell_id2cell_type_lut), index=auc_mtx_dict[name].index)\n",
    "    mapped_colors = cell_types_series.map(lambda x: colorsd.get(x, (1, 1, 1)))  # Using a default color of white for missing keys\n",
    "    if (1, 1, 1) in mapped_colors.values:\n",
    "        missing_keys = [index for index, color in mapped_colors.iteritems() if color == (1, 1, 1)]\n",
    "        print(\"Missing keys for these index entries:\", missing_keys)\n",
    "\n",
    "    sns.set()\n",
    "    sns.set(font_scale=1.0)\n",
    "    sns.set_style(\"ticks\", {\"xtick.minor.size\": 1, \"ytick.minor.size\": 0.1})\n",
    "    g = sns.clustermap(bin_mtx_dict[name].T, \n",
    "                   col_colors=mapped_colors,\n",
    "                   cmap=bw_palette, figsize=(20,20))\n",
    "    g.ax_heatmap.set_xticklabels([])\n",
    "    g.ax_heatmap.set_xticks([])\n",
    "    g.ax_heatmap.set_xlabel('Cells')\n",
    "    g.ax_heatmap.set_ylabel('Regulons')\n",
    "    g.ax_col_colors.set_yticks([0.5])\n",
    "    g.ax_col_colors.set_yticklabels(['Cell Type'])\n",
    "    g.cax.set_visible(False)\n",
    "    g.fig.savefig(os.path.join(FIGURES_FOLDERNAME, f'{name}_binarizedregulonheatmap_upd.jpeg'), format='jpeg')"
   ]
  },
  {
   "cell_type": "code",
   "execution_count": null,
   "id": "16f65533",
   "metadata": {},
   "outputs": [],
   "source": [
    "normalized_regs = {}\n",
    "z_normalized_regs = {}\n",
    "\n",
    "for name, matrix in bin_mtx_dict.items():\n",
    "    bin_mtx_clustered = matrix.T.copy()\n",
    "    bin_mtx_clustered.rename(columns=adata_dict[name].obs[groupcolors].to_dict(), inplace=True)\n",
    "    bin_mtx_clustered.to_csv(os.path.join(RESULTS_FOLDERNAME, f'{name}_binarized_regulon_activity_newannotations.csv'))\n",
    "    regulon_presence_summary = bin_mtx_clustered.groupby(by=bin_mtx_clustered.columns, axis=1).sum()\n",
    "    regulon_presence_summary.to_csv(os.path.join(RESULTS_FOLDERNAME, f'{name}_binarized_regulon_summaryperct.csv'))\n",
    "    cell_counts = adata_dict[name].obs[groupcolors].value_counts().to_dict()\n",
    "    normalized_regulon_presence = regulon_presence_summary.copy()\n",
    "    for column in normalized_regulon_presence.columns:\n",
    "        normalized_regulon_presence[column] /= cell_counts[column]\n",
    "    normalized_regs[name] = normalized_regulon_presence\n",
    "    normalized_regulon_presence_z = (normalized_regulon_presence - normalized_regulon_presence.mean()) / normalized_regulon_presence.std()\n",
    "    z_normalized_regs[name] = normalized_regulon_presence_z"
   ]
  },
  {
   "cell_type": "code",
   "execution_count": null,
   "id": "ef73904c",
   "metadata": {
    "scrolled": false
   },
   "outputs": [],
   "source": [
    "def OP_regulon_clustermap(regulon_presence_summary, condition, normalization_type=None, size=(12, 25), xsize=10, colcluster=True):\n",
    "    \n",
    "    # Determine the colormap based on normalization type\n",
    "    if normalization_type == 'z-score':\n",
    "        cmap = 'RdBu_r'  # Blue-White-Red colormap for z-score normalization\n",
    "        center_val=0\n",
    "    else:\n",
    "        cmap = 'Oranges'  # Default colormap\n",
    "        center_val=None\n",
    "    \n",
    "    # Create the clustermap\n",
    "    g = sns.clustermap(regulon_presence_summary, method='average', metric='euclidean',\n",
    "                       cmap=cmap, center=center_val, linewidths=.5, figsize=size,\n",
    "                       row_cluster=True, col_cluster=colcluster,\n",
    "                       cbar_kws={\"shrink\": .5, \"pad\": 0.05})\n",
    "\n",
    "    # Adjust color bar position\n",
    "    g.cax.set_position([1, .2, .02, .45])  \n",
    "\n",
    "    # Retrieve the order of the rows from the clustering\n",
    "    row_order = g.dendrogram_row.reordered_ind\n",
    "    regulons = regulon_presence_summary.index[row_order]\n",
    "\n",
    "    # Separate regulons into odd and even for labeling\n",
    "    odd_regulons = regulons[0::2]  # Odd-indexed regulons after clustering\n",
    "    even_regulons = regulons[1::2]  # Even-indexed regulons after clustering\n",
    "\n",
    "    # Set regulon names on the primary y-axis (left)\n",
    "    g.ax_heatmap.set_yticks([i for i in range(len(regulons)) if i % 2 == 0])\n",
    "    g.ax_heatmap.set_yticklabels(odd_regulons, rotation=0, fontsize=xsize)\n",
    "\n",
    "    g.ax_row_dendrogram.set_visible(False)\n",
    "\n",
    "    # Adjust tick positions to point to the center of the rows\n",
    "    centered_ticks = [x + 0.5 for x in range(len(regulons))]\n",
    "\n",
    "    # Set regulon names on the primary y-axis (left), alternate the labels\n",
    "    g.ax_heatmap.set_yticks(centered_ticks[::2])\n",
    "    g.ax_heatmap.set_yticklabels(regulons[::2], rotation=0, fontsize=xsize)\n",
    "\n",
    "    # Create a secondary y-axis for the right side\n",
    "    ax2 = g.ax_heatmap.twinx()\n",
    "\n",
    "    # Set regulon names on the secondary y-axis (right), alternate the labels\n",
    "    ax2.set_yticks(centered_ticks[1::2])\n",
    "    ax2.set_yticklabels(regulons[1::2], rotation=0, fontsize=xsize)\n",
    "    ax2.set_ylim(g.ax_heatmap.get_ylim())\n",
    "\n",
    "    # Ensure labels are visible and adjust their alignment\n",
    "    ax2.yaxis.set_label_position(\"right\")\n",
    "    ax2.yaxis.tick_right()\n",
    "\n",
    "    # Rotate column labels for readability\n",
    "    plt.setp(g.ax_heatmap.xaxis.get_majorticklabels(), rotation=90, fontsize=10)\n",
    "\n",
    "    # Adding labels to the axes\n",
    "    g.ax_heatmap.set_ylabel('Regulons', fontsize=12, labelpad=10)\n",
    "    g.ax_heatmap.yaxis.set_label_position('left')  # Explicitly position y-axis label on the left\n",
    "\n",
    "    plt.grid(False)\n",
    "\n",
    "    #g.ax_heatmap.set_xlabel('Cell Types', fontsize=fontsize)\n",
    "\n",
    "    g.savefig(os.path.join(FIGURES_FOLDERNAME, f'activated_regulon_abundance_clustermap_{condition}.svg'))\n",
    "\n",
    "    # Show the plot\n",
    "    plt.show()"
   ]
  },
  {
   "cell_type": "code",
   "execution_count": null,
   "id": "2de1d76a",
   "metadata": {
    "scrolled": true
   },
   "outputs": [],
   "source": [
    "for name, matrix in normalized_regs.items():\n",
    "    # foetal: OP_regulon_clustermap(matrix, name, size=(8,28))\n",
    "    OP_regulon_clustermap(matrix, name, size=(5,30), xsize=8) # embryonic"
   ]
  },
  {
   "cell_type": "code",
   "execution_count": null,
   "id": "d4ae8cc7",
   "metadata": {
    "scrolled": true
   },
   "outputs": [],
   "source": [
    "for name, matrix in z_normalized_regs.items():\n",
    "    title = name + '_Z'\n",
    "    # foetal: OP_regulon_clustermap(matrix, title, 'z-score', size=(8,28))\n",
    "    OP_regulon_clustermap(matrix, title, 'z-score', size=(5,30), xsize=8) # embryonic"
   ]
  },
  {
   "cell_type": "markdown",
   "id": "b7d90b77",
   "metadata": {},
   "source": [
    "# Comparing regulons across embryonic ages"
   ]
  },
  {
   "cell_type": "code",
   "execution_count": null,
   "id": "c1058b3e",
   "metadata": {},
   "outputs": [],
   "source": [
    "embryonic_adata.obs.age.value_counts()"
   ]
  },
  {
   "cell_type": "code",
   "execution_count": null,
   "id": "e6e8c896",
   "metadata": {},
   "outputs": [],
   "source": [
    "bin_mtx_6 = bin_mtx_dict['embryonic'].loc[embryonic_adata.obs[embryonic_adata.obs['age'] == '6.5w'].index]\n",
    "bin_mtx_7 = bin_mtx_dict['embryonic'].loc[embryonic_adata.obs[embryonic_adata.obs['age'] == '7.2w'].index]\n",
    "bin_mtx_8 = bin_mtx_dict['embryonic'].loc[embryonic_adata.obs[embryonic_adata.obs['age'] == '8.4w'].index]\n",
    "bin_mtx_9 = bin_mtx_dict['embryonic'].loc[embryonic_adata.obs[embryonic_adata.obs['age'] == '9.0w'].index]\n",
    "bin_mtx_93 = bin_mtx_dict['embryonic'].loc[embryonic_adata.obs[embryonic_adata.obs['age'] == '9.3w'].index]\n",
    "\n",
    "bin_mtx_93"
   ]
  },
  {
   "cell_type": "code",
   "execution_count": null,
   "id": "cda1c4fc",
   "metadata": {},
   "outputs": [],
   "source": [
    "bin_mtx_dict = {\n",
    "    'embryonic 6.5w': bin_mtx_6,\n",
    "    'embryonic 7.2w': bin_mtx_7,\n",
    "    'embryonic 8.4w': bin_mtx_8,\n",
    "    'embryonic 9.0w': bin_mtx_9,\n",
    "    'embryonic 9.3w': bin_mtx_93,\n",
    "}"
   ]
  },
  {
   "cell_type": "code",
   "execution_count": null,
   "id": "e2777d6f",
   "metadata": {},
   "outputs": [],
   "source": [
    "emb6 = embryonic_adata[embryonic_adata.obs['age']=='6.5w'].copy()\n",
    "emb7 = embryonic_adata[embryonic_adata.obs['age']=='7.2w'].copy()\n",
    "emb8 = embryonic_adata[embryonic_adata.obs['age']=='8.4w'].copy()\n",
    "emb9 = embryonic_adata[embryonic_adata.obs['age']=='9.0w'].copy()\n",
    "emb93 = embryonic_adata[embryonic_adata.obs['age']=='9.3w'].copy()\n",
    "\n",
    "adata_dict = {\n",
    "    'embryonic 6.5w': emb6,\n",
    "    'embryonic 7.2w': emb7,    \n",
    "    'embryonic 8.4w': emb8,\n",
    "    'embryonic 9.0w': emb9,\n",
    "    'embryonic 9.3w': emb93\n",
    "}"
   ]
  },
  {
   "cell_type": "code",
   "execution_count": null,
   "id": "db47ef70",
   "metadata": {},
   "outputs": [],
   "source": [
    "normalized_regs = {}\n",
    "z_normalized_regs = {}\n",
    "\n",
    "for name, matrix in bin_mtx_dict.items():\n",
    "    bin_mtx_clustered = matrix.T.copy()\n",
    "    bin_mtx_clustered.rename(columns=adata_dict[name].obs[groupcolors].to_dict(), inplace=True)\n",
    "    bin_mtx_clustered.to_csv(os.path.join(RESULTS_FOLDERNAME, f'{name}_binarized_regulon_activity_newannotations.csv'))\n",
    "    regulon_presence_summary = bin_mtx_clustered.groupby(by=bin_mtx_clustered.columns, axis=1).sum()\n",
    "    regulon_presence_summary.to_csv(os.path.join(RESULTS_FOLDERNAME, f'{name}_binarized_regulon_summaryperct.csv'))\n",
    "    cell_counts = adata_dict[name].obs[groupcolors].value_counts().to_dict()\n",
    "    normalized_regulon_presence = regulon_presence_summary.copy()\n",
    "    for column in normalized_regulon_presence.columns:\n",
    "        normalized_regulon_presence[column] /= cell_counts[column]\n",
    "    normalized_regs[name] = normalized_regulon_presence\n",
    "    normalized_regulon_presence_z = (normalized_regulon_presence - normalized_regulon_presence.mean()) / normalized_regulon_presence.std()\n",
    "    z_normalized_regs[name] = normalized_regulon_presence_z"
   ]
  },
  {
   "cell_type": "code",
   "execution_count": null,
   "id": "ee9ef622",
   "metadata": {},
   "outputs": [],
   "source": [
    "for name, matrix in normalized_regs.items():\n",
    "    # foetal: OP_regulon_clustermap(matrix, name, size=(8,28))\n",
    "    OP_regulon_clustermap(matrix, name, size=(5,30), xsize=8) # embryonic"
   ]
  },
  {
   "cell_type": "code",
   "execution_count": null,
   "id": "3af3b944",
   "metadata": {},
   "outputs": [],
   "source": [
    "for name, matrix in z_normalized_regs.items():\n",
    "    title = name + '_Z'\n",
    "    # foetal: OP_regulon_clustermap(matrix, title, 'z-score', size=(8,28))\n",
    "    OP_regulon_clustermap(matrix, title, 'z-score', size=(5,30), xsize=8) # embryonic"
   ]
  },
  {
   "cell_type": "code",
   "execution_count": null,
   "id": "7550b740",
   "metadata": {},
   "outputs": [],
   "source": [
    "bin_h = pd.read_csv(os.path.join('scenic/results/adult_quad_zscore_byct_healthy.csv'), index_col=0)\n",
    "bin_r = pd.read_csv(os.path.join('scenic/results/adult_quad_zscore_byct_ruptured.csv'), index_col=0)\n",
    "z_normalized_regs['adult_quad_healthy'] = bin_h\n",
    "z_normalized_regs['adult_quad_ruptured'] = bin_r"
   ]
  },
  {
   "cell_type": "code",
   "execution_count": null,
   "id": "daa9e571",
   "metadata": {},
   "outputs": [],
   "source": [
    "dfs = {key: df for key, df in z_normalized_regs.items() if 'embryonic' in key}\n",
    "column_sets = [set(df.columns) for df in dfs.values()]\n",
    "overlapping_columns = set.intersection(*column_sets)\n",
    "overlapping_columns"
   ]
  },
  {
   "cell_type": "markdown",
   "id": "6f346799",
   "metadata": {},
   "source": [
    "# Comparing embryonic with adult"
   ]
  },
  {
   "cell_type": "code",
   "execution_count": null,
   "id": "56919088",
   "metadata": {},
   "outputs": [],
   "source": [
    "z_normalized_regs.keys()"
   ]
  },
  {
   "cell_type": "code",
   "execution_count": null,
   "id": "9337c6ab",
   "metadata": {},
   "outputs": [],
   "source": [
    "adult_rupture_fibros = {\n",
    "     'COL3A1hi fibroblasts',\n",
    "     'Dividing fibroblasts / mural cells'\n",
    "}\n",
    "\n",
    "adult_healthy_fibros = {\n",
    "     'ABCA10hi fibroblasts',\n",
    "     'FBLNhi fibroblasts',\n",
    "     'NR4A1hi fibroblasts',\n",
    "}"
   ]
  },
  {
   "cell_type": "code",
   "execution_count": null,
   "id": "de81c1e6",
   "metadata": {
    "scrolled": true
   },
   "outputs": [],
   "source": [
    "for ct in overlapping_columns:\n",
    "    try:\n",
    "        print(f\"Processing {ct}...\")\n",
    "        emb = z_normalized_regs['embryonic'][ct].copy()\n",
    "        if ct == 'Embryonic Chondrocytes':\n",
    "            emb.name = ct\n",
    "        else:\n",
    "            emb.name = 'Embryonic ' + ct\n",
    "        for match in adult_rupture_fibros:\n",
    "            if match == 'Dividing fibroblasts / mural cells':\n",
    "                title = 'CommonOnly '+ct+ 'Dividing fibroblasts'\n",
    "            else:\n",
    "                title = 'CommonOnly '+ct+match\n",
    "            print(f\"Matching with {match}...\")\n",
    "            matched_column = z_normalized_regs['adult_quad_ruptured'][match].copy()\n",
    "            matched_column.name = 'Adult Ruptured ' + match\n",
    "            combined_data = pd.concat([emb, matched_column], axis=1)\n",
    "            assert not combined_data.index.duplicated().any()\n",
    "            combined_data = combined_data.dropna(0)\n",
    "            OP_regulon_clustermap(combined_data, title, 'z-score', size=(3,20), xsize=10, colcluster=False)\n",
    "    except Exception as e:\n",
    "        print(f\"Failed to process {ct}: {e}\")"
   ]
  },
  {
   "cell_type": "code",
   "execution_count": null,
   "id": "ff261d37",
   "metadata": {},
   "outputs": [],
   "source": [
    "for ct in overlapping_columns:\n",
    "    try:\n",
    "        print(f\"Processing {ct}...\")\n",
    "        emb = z_normalized_regs['embryonic'][ct].copy()\n",
    "        if ct == 'Embryonic Chondrocytes':\n",
    "            emb.name = ct\n",
    "        else:\n",
    "            emb.name = 'Embryonic ' + ct\n",
    "        for match in adult_rupture_fibros:\n",
    "            if match == 'Dividing fibroblasts / mural cells':\n",
    "                title = 'NAfilled '+ct+ 'Dividing fibroblasts'\n",
    "            else:\n",
    "                title = 'NAfilled '+ct+match\n",
    "            print(f\"Matching with {match}...\")\n",
    "            matched_column = z_normalized_regs['adult_quad_ruptured'][match].copy()\n",
    "            matched_column.name = 'Adult Ruptured ' + match\n",
    "            combined_data = pd.concat([emb, matched_column], axis=1)\n",
    "            assert not combined_data.index.duplicated().any()\n",
    "            combined_data = combined_data.fillna(0)\n",
    "            OP_regulon_clustermap(combined_data, title, 'z-score', size=(3,30), xsize=8, colcluster=False)\n",
    "    except Exception as e:\n",
    "        print(f\"Failed to process {ct}: {e}\")"
   ]
  },
  {
   "cell_type": "code",
   "execution_count": null,
   "id": "18c2069e",
   "metadata": {},
   "outputs": [],
   "source": [
    "for ct in overlapping_columns:\n",
    "    try:\n",
    "        print(f\"Processing {ct}...\")\n",
    "        emb = z_normalized_regs['embryonic'][ct].copy()\n",
    "        if ct == 'Embryonic Chondrocytes':\n",
    "            emb.name = ct\n",
    "        else:\n",
    "            emb.name = 'Embryonic ' + ct\n",
    "        for match in adult_healthy_fibros:\n",
    "            if match == 'Dividing fibroblasts / mural cells':\n",
    "                title = 'CommonOnly '+ct+ 'Dividing fibroblasts'\n",
    "            else:\n",
    "                title = 'CommonOnly '+ct+match\n",
    "            print(f\"Matching with {match}...\")\n",
    "            matched_column = z_normalized_regs['adult_quad_healthy'][match].copy()\n",
    "            matched_column.name = 'Adult Healthy ' + match\n",
    "            combined_data = pd.concat([emb, matched_column], axis=1)\n",
    "            assert not combined_data.index.duplicated().any()\n",
    "            combined_data = combined_data.dropna(0)\n",
    "            OP_regulon_clustermap(combined_data, title, 'z-score', size=(3,20), xsize=10, colcluster=False)\n",
    "    except Exception as e:\n",
    "        print(f\"Failed to process {ct}: {e}\")"
   ]
  },
  {
   "cell_type": "code",
   "execution_count": null,
   "id": "35b1957b",
   "metadata": {},
   "outputs": [],
   "source": [
    "for ct in overlapping_columns:\n",
    "    try:\n",
    "        print(f\"Processing {ct}...\")\n",
    "        emb = z_normalized_regs['embryonic'][ct].copy()\n",
    "        if ct == 'Embryonic Chondrocytes':\n",
    "            emb.name = ct\n",
    "        else:\n",
    "            emb.name = 'Embryonic ' + ct\n",
    "        for match in adult_healthy_fibros:\n",
    "            if match == 'Dividing fibroblasts / mural cells':\n",
    "                title = 'NAfilled '+ct+ 'Dividing fibroblasts'\n",
    "            else:\n",
    "                title = 'NAfilled '+ct+match\n",
    "            print(f\"Matching with {match}...\")\n",
    "            matched_column = z_normalized_regs['adult_quad_healthy'][match].copy()\n",
    "            matched_column.name = 'Adult Healthy ' + match\n",
    "            combined_data = pd.concat([emb, matched_column], axis=1)\n",
    "            assert not combined_data.index.duplicated().any()\n",
    "            combined_data = combined_data.fillna(0)\n",
    "            OP_regulon_clustermap(combined_data, title, 'z-score', size=(3,30), xsize=8, colcluster=False)\n",
    "    except Exception as e:\n",
    "        print(f\"Failed to process {ct}: {e}\")"
   ]
  },
  {
   "cell_type": "markdown",
   "id": "341e2197",
   "metadata": {},
   "source": [
    "# Comparing regulons across foetal ages"
   ]
  },
  {
   "cell_type": "code",
   "execution_count": null,
   "id": "8eceeeec",
   "metadata": {},
   "outputs": [],
   "source": [
    "#bin_h = pd.read_csv(os.path.join('scenic/results/adult_quad_zscore_byct_healthy.csv'), index_col=0)\n",
    "#bin_r = pd.read_csv(os.path.join('scenic/results/adult_quad_zscore_byct_ruptured.csv'), index_col=0)\n",
    "#z_normalized_regs['adult_quad_healthy'] = bin_h\n",
    "#z_normalized_regs['adult_quad_ruptured'] = bin_r"
   ]
  },
  {
   "cell_type": "code",
   "execution_count": null,
   "id": "ace39869",
   "metadata": {},
   "outputs": [],
   "source": [
    "foetal_dfs = {key: df for key, df in z_normalized_regs.items() if 'foetal' in key}\n",
    "column_sets = [set(df.columns) for df in foetal_dfs.values()]\n",
    "overlapping_columns = set.intersection(*column_sets)\n",
    "overlapping_columns"
   ]
  },
  {
   "cell_type": "code",
   "execution_count": null,
   "id": "15e72d6d",
   "metadata": {},
   "outputs": [],
   "source": [
    "foetal_dfs.keys()"
   ]
  },
  {
   "cell_type": "code",
   "execution_count": null,
   "id": "f0c2fea0",
   "metadata": {},
   "outputs": [],
   "source": [
    "for ct in overlapping_columns:\n",
    "    try:\n",
    "        print(f\"Processing {ct}...\")\n",
    "        f12 = normalized_regs['foetal12'][ct].copy()\n",
    "        f17 = normalized_regs['foetal17'][ct].copy()\n",
    "        f20 = normalized_regs['foetal20'][ct].copy()\n",
    "        f12.name = '12 pcw'\n",
    "        f17.name = '17 pcw'\n",
    "        f20.name = '20 pcw'\n",
    "        combined_data = pd.concat([f12, f17, f20], axis=1)\n",
    "        assert not combined_data.index.duplicated().any()\n",
    "        combined_data = combined_data.dropna()\n",
    "        OP_regulon_clustermap(combined_data, ct+'norm', size=(3,12), colcluster=False)\n",
    "    except Exception as e:\n",
    "        print(f\"Failed to process {ct}: {e}\")"
   ]
  },
  {
   "cell_type": "code",
   "execution_count": null,
   "id": "fca67fca",
   "metadata": {
    "scrolled": true
   },
   "outputs": [],
   "source": [
    "for ct in overlapping_columns:\n",
    "    try:\n",
    "        print(f\"Processing {ct}...\")\n",
    "        f12 = z_normalized_regs['foetal12'][ct].copy()\n",
    "        f17 = z_normalized_regs['foetal17'][ct].copy()\n",
    "        f20 = z_normalized_regs['foetal20'][ct].copy()\n",
    "        f12.name = '12 pcw'\n",
    "        f17.name = '17 pcw'\n",
    "        f20.name = '20 pcw'\n",
    "        combined_data = pd.concat([f12, f17, f20], axis=1)\n",
    "        assert not combined_data.index.duplicated().any()\n",
    "        combined_data = combined_data.dropna()\n",
    "        OP_regulon_clustermap(combined_data, ct, 'z-score', size=(3,12), colcluster=False)\n",
    "    except Exception as e:\n",
    "        print(f\"Failed to process {ct}: {e}\")"
   ]
  },
  {
   "cell_type": "code",
   "execution_count": null,
   "id": "749c2870",
   "metadata": {
    "scrolled": true
   },
   "outputs": [],
   "source": [
    "for ct in overlapping_columns:\n",
    "    try:\n",
    "        print(f\"Processing {ct}...\")\n",
    "        f12 = z_normalized_regs['foetal12'][ct].copy()\n",
    "        f17 = z_normalized_regs['foetal17'][ct].copy()\n",
    "        f20 = z_normalized_regs['foetal20'][ct].copy()\n",
    "        f12.name = '12 pcw'\n",
    "        f17.name = '17 pcw'\n",
    "        f20.name = '20 pcw'\n",
    "        combined_data = pd.concat([f12, f17, f20], axis=1)\n",
    "        assert not combined_data.index.duplicated().any()\n",
    "        combined_data = combined_data.fillna(0)\n",
    "        title = ct+'NaNsAs0'\n",
    "        OP_regulon_clustermap(combined_data, title, 'z-score', size=(3,30), xsize=6, colcluster=False)\n",
    "    except Exception as e:\n",
    "        print(f\"Failed to process {ct}: {e}\")"
   ]
  },
  {
   "cell_type": "markdown",
   "id": "bc52e4dd",
   "metadata": {},
   "source": [
    "# Comparing foetal and adult ct regulons"
   ]
  },
  {
   "cell_type": "code",
   "execution_count": null,
   "id": "3a4a94c8",
   "metadata": {},
   "outputs": [],
   "source": [
    "foetal_fibros = {\n",
    "     'ABI3BP GAS2 Fibroblasts',\n",
    "     'COL3A1 PI16 Fibroblasts',\n",
    "     'COL6A6 FNDC1 Fibroblasts',\n",
    "     'Chondrocytes',\n",
    "     'FGF14 THBS4 Fibroblasts',\n",
    "     'NEGR1 SCN7A Fibroblasts',\n",
    "}\n",
    "\n",
    "adult_rupture_fibros = {\n",
    "     'COL3A1hi fibroblasts',\n",
    "     'Dividing fibroblasts / mural cells'\n",
    "}\n",
    "\n",
    "adult_healthy_fibros = {\n",
    "     'ABCA10hi fibroblasts',\n",
    "     'FBLNhi fibroblasts',\n",
    "     'NR4A1hi fibroblasts',\n",
    "}"
   ]
  },
  {
   "cell_type": "code",
   "execution_count": null,
   "id": "4b52fbfe",
   "metadata": {},
   "outputs": [],
   "source": [
    "z_normalized_regs['foetal20']"
   ]
  },
  {
   "cell_type": "code",
   "execution_count": null,
   "id": "f006d956",
   "metadata": {},
   "outputs": [],
   "source": [
    "for name, mat in z_normalized_regs.items():\n",
    "    print(f'{name}: {len(mat.index)}')"
   ]
  },
  {
   "cell_type": "markdown",
   "id": "ef270122",
   "metadata": {},
   "source": [
    "# comparing against ruptured"
   ]
  },
  {
   "cell_type": "code",
   "execution_count": null,
   "id": "f1ddfd76",
   "metadata": {},
   "outputs": [],
   "source": [
    "for ct in foetal_fibros:\n",
    "    try:\n",
    "        print(f\"Processing {ct}...\")\n",
    "        f20 = z_normalized_regs['foetal20'][ct].copy()\n",
    "        f20.name = '20pcw ' + ct\n",
    "        for match in adult_rupture_fibros:\n",
    "            if match == 'Dividing fibroblasts / mural cells':\n",
    "                title = 'CommonOnly '+ct+ 'Dividing fibroblasts'\n",
    "            else:\n",
    "                title = 'CommonOnly '+ct+match\n",
    "            print(f\"Matching with {match}...\")\n",
    "            matched_column = z_normalized_regs['adult_quad_ruptured'][match].copy()\n",
    "            matched_column.name = 'Adult ' + match\n",
    "            combined_data = pd.concat([f20, matched_column], axis=1)\n",
    "            assert not combined_data.index.duplicated().any()\n",
    "            combined_data = combined_data.dropna(0)\n",
    "            OP_regulon_clustermap(combined_data, title, 'z-score', size=(3,20), xsize=10, colcluster=False)\n",
    "    except Exception as e:\n",
    "        print(f\"Failed to process {ct}: {e}\")"
   ]
  },
  {
   "cell_type": "code",
   "execution_count": null,
   "id": "8986c4b1",
   "metadata": {},
   "outputs": [],
   "source": [
    "for ct in foetal_fibros:\n",
    "    try:\n",
    "        print(f\"Processing {ct}...\")\n",
    "        f20 = z_normalized_regs['foetal20'][ct].copy()\n",
    "        f20.name = '20pcw ' + ct\n",
    "        for match in adult_rupture_fibros:\n",
    "            if match == 'Dividing fibroblasts / mural cells':\n",
    "                title = 'NAfilled '+ct+ 'Dividing fibroblasts'\n",
    "            else:\n",
    "                title = 'NAfilled '+ct+match\n",
    "            print(f\"Matching with {match}...\")\n",
    "            matched_column = z_normalized_regs['adult_quad_ruptured'][match].copy()\n",
    "            matched_column.name = 'Adult ' + match\n",
    "            combined_data = pd.concat([f20, matched_column], axis=1)\n",
    "            assert not combined_data.index.duplicated().any()\n",
    "            combined_data = combined_data.fillna(0)\n",
    "            OP_regulon_clustermap(combined_data, title, 'z-score', size=(3,25), xsize=6, colcluster=False)\n",
    "    except Exception as e:\n",
    "        print(f\"Failed to process {ct}: {e}\")"
   ]
  },
  {
   "cell_type": "code",
   "execution_count": null,
   "id": "a5f83a0a",
   "metadata": {
    "scrolled": true
   },
   "outputs": [],
   "source": [
    "for ct in foetal_fibros:\n",
    "    try:\n",
    "        print(f\"Processing {ct}...\")\n",
    "        f17 = z_normalized_regs['foetal17'][ct].copy()\n",
    "        f17.name = '17pcw ' + ct\n",
    "        for match in adult_rupture_fibros:\n",
    "            if match == 'Dividing fibroblasts / mural cells':\n",
    "                title = 'CommonOnly '+ct+ 'Dividing fibroblasts_17pcw'\n",
    "            else:\n",
    "                title = 'CommonOnly '+ct+match+'_17pcw'\n",
    "            print(f\"Matching with {match}...\")\n",
    "            matched_column = z_normalized_regs['adult_quad_ruptured'][match].copy()\n",
    "            matched_column.name = 'Adult ' + match\n",
    "            combined_data = pd.concat([f17, matched_column], axis=1)\n",
    "            assert not combined_data.index.duplicated().any()\n",
    "            combined_data = combined_data.dropna(0)\n",
    "            OP_regulon_clustermap(combined_data, title, 'z-score', size=(3,20), xsize=10, colcluster=False)\n",
    "    except Exception as e:\n",
    "        print(f\"Failed to process {ct}: {e}\")"
   ]
  },
  {
   "cell_type": "code",
   "execution_count": null,
   "id": "a5f7d527",
   "metadata": {
    "scrolled": true
   },
   "outputs": [],
   "source": [
    "for ct in foetal_fibros:\n",
    "    try:\n",
    "        print(f\"Processing {ct}...\")\n",
    "        f17 = z_normalized_regs['foetal17'][ct].copy()\n",
    "        f17.name = '17pcw ' + ct\n",
    "        for match in adult_rupture_fibros:\n",
    "            if match == 'Dividing fibroblasts / mural cells':\n",
    "                title = 'NAfilled '+ct+ 'Dividing fibroblasts_17pcw'\n",
    "            else:\n",
    "                title = 'NAfilled '+ct+match+'_17pcw'\n",
    "            print(f\"Matching with {match}...\")\n",
    "            matched_column = z_normalized_regs['adult_quad_ruptured'][match].copy()\n",
    "            matched_column.name = 'Adult ' + match\n",
    "            combined_data = pd.concat([f17, matched_column], axis=1)\n",
    "            assert not combined_data.index.duplicated().any()\n",
    "            combined_data = combined_data.fillna(0)\n",
    "            OP_regulon_clustermap(combined_data, title, 'z-score', size=(3,25), xsize=6, colcluster=False)\n",
    "    except Exception as e:\n",
    "        print(f\"Failed to process {ct}: {e}\")"
   ]
  },
  {
   "cell_type": "markdown",
   "id": "335fa103",
   "metadata": {},
   "source": [
    "# comparing against healthy"
   ]
  },
  {
   "cell_type": "code",
   "execution_count": null,
   "id": "d85bd2b6",
   "metadata": {
    "scrolled": true
   },
   "outputs": [],
   "source": [
    "for ct in foetal_fibros:\n",
    "    try:\n",
    "        print(f\"Processing {ct}...\")\n",
    "        f20 = z_normalized_regs['foetal20'][ct].copy()\n",
    "        f20.name = '20pcw ' + ct\n",
    "        for match in adult_healthy_fibros:\n",
    "            title = 'CommonOnly '+ct+match\n",
    "            print(f\"Matching with {match}...\")\n",
    "            matched_column = z_normalized_regs['adult_quad_healthy'][match].copy()\n",
    "            matched_column.name = 'Adult ' + match\n",
    "            combined_data = pd.concat([f20, matched_column], axis=1)\n",
    "            assert not combined_data.index.duplicated().any()\n",
    "            combined_data = combined_data.dropna(0)\n",
    "            OP_regulon_clustermap(combined_data, title, 'z-score', size=(3,20), xsize=10, colcluster=False)\n",
    "    except Exception as e:\n",
    "        print(f\"Failed to process {ct}: {e}\")"
   ]
  },
  {
   "cell_type": "code",
   "execution_count": null,
   "id": "3f477bda",
   "metadata": {
    "scrolled": true
   },
   "outputs": [],
   "source": [
    "for ct in foetal_fibros:\n",
    "    try:\n",
    "        print(f\"Processing {ct}...\")\n",
    "        f20 = z_normalized_regs['foetal20'][ct].copy()\n",
    "        f20.name = '20pcw ' + ct\n",
    "        for match in adult_healthy_fibros:\n",
    "            title = 'NAfilled '+ct+match\n",
    "            print(f\"Matching with {match}...\")\n",
    "            matched_column = z_normalized_regs['adult_quad_healthy'][match].copy()\n",
    "            matched_column.name = 'Adult ' + match\n",
    "            combined_data = pd.concat([f20, matched_column], axis=1)\n",
    "            assert not combined_data.index.duplicated().any()\n",
    "            combined_data = combined_data.fillna(0)\n",
    "            OP_regulon_clustermap(combined_data, title, 'z-score', size=(3,25), xsize=6, colcluster=False)\n",
    "    except Exception as e:\n",
    "        print(f\"Failed to process {ct}: {e}\")"
   ]
  },
  {
   "cell_type": "markdown",
   "id": "bcd99957",
   "metadata": {},
   "source": [
    "# Embryonic vs foetal vs adult"
   ]
  },
  {
   "cell_type": "code",
   "execution_count": null,
   "id": "003a6eae",
   "metadata": {},
   "outputs": [],
   "source": [
    "bin_mtx_embryonic = pd.read_csv(\"/mnt/da8aa2c4-0136-465b-87a2-d12a59afec55/akurjan/analysis/notebooks/embryonic ScAndSp/Scenic/results/embryonic.bin.csv\", index_col=0)\n",
    "bin_mtx_foetal12 = pd.read_csv(os.path.join(RESULTS_FOLDERNAME, f'12w_foetal.bin.csv'), index_col=0)\n",
    "bin_mtx_foetal17 = pd.read_csv(os.path.join(RESULTS_FOLDERNAME, f'17w_foetal.bin.csv'), index_col=0)\n",
    "bin_mtx_foetal20 = pd.read_csv(\"/mnt/da8aa2c4-0136-465b-87a2-d12a59afec55/akurjan/analysis/notebooks/foetal/results/Scenic/20w_foetal.bin.csv\", index_col=0)\n",
    "\n",
    "bin_mtx_dict = {\n",
    "    'embryonic': bin_mtx_embryonic,\n",
    "    'foetal12': bin_mtx_foetal12,\n",
    "    'foetal17': bin_mtx_foetal17,\n",
    "    'foetal20': bin_mtx_foetal20\n",
    "}"
   ]
  },
  {
   "cell_type": "code",
   "execution_count": null,
   "id": "f14f0c5f",
   "metadata": {},
   "outputs": [],
   "source": [
    "foetal12 = foetal_adata[foetal_adata.obs['age']=='12w'].copy()\n",
    "foetal17 = foetal_adata[foetal_adata.obs['age']=='17w'].copy()\n",
    "foetal20 = foetal_adata[foetal_adata.obs['age']=='20w'].copy()\n",
    "\n",
    "adata_dict = {\n",
    "    'embryonic': embryonic_adata,\n",
    "    'foetal12': foetal12,\n",
    "    'foetal17': foetal17,    \n",
    "    'foetal20': foetal20\n",
    "}"
   ]
  },
  {
   "cell_type": "code",
   "execution_count": null,
   "id": "475b0bae",
   "metadata": {},
   "outputs": [],
   "source": [
    "normalized_regs = {}\n",
    "z_normalized_regs = {}\n",
    "\n",
    "for name, matrix in bin_mtx_dict.items():\n",
    "    if name == 'embryonic':\n",
    "        unscolors = 'cell_type_colors'\n",
    "        groupcolors = 'cell_type'\n",
    "    else:\n",
    "        unscolors = 'C_scANVI_colors'\n",
    "        groupcolors = 'C_scANVI'\n",
    "    bin_mtx_clustered = matrix.T.copy()\n",
    "    bin_mtx_clustered.rename(columns=adata_dict[name].obs[groupcolors].to_dict(), inplace=True)\n",
    "    bin_mtx_clustered.to_csv(os.path.join(RESULTS_FOLDERNAME, f'{name}_binarized_regulon_activity_newannotations.csv'))\n",
    "    regulon_presence_summary = bin_mtx_clustered.groupby(by=bin_mtx_clustered.columns, axis=1).sum()\n",
    "    regulon_presence_summary.to_csv(os.path.join(RESULTS_FOLDERNAME, f'{name}_binarized_regulon_summaryperct.csv'))\n",
    "    cell_counts = adata_dict[name].obs[groupcolors].value_counts().to_dict()\n",
    "    normalized_regulon_presence = regulon_presence_summary.copy()\n",
    "    for column in normalized_regulon_presence.columns:\n",
    "        normalized_regulon_presence[column] /= cell_counts[column]\n",
    "    normalized_regs[name] = normalized_regulon_presence\n",
    "    normalized_regulon_presence_z = (normalized_regulon_presence - normalized_regulon_presence.mean()) / normalized_regulon_presence.std()\n",
    "    z_normalized_regs[name] = normalized_regulon_presence_z"
   ]
  },
  {
   "cell_type": "code",
   "execution_count": null,
   "id": "4a7f5607",
   "metadata": {},
   "outputs": [],
   "source": [
    "bin_h = pd.read_csv(os.path.join('scenic/results/adult_quad_zscore_byct_healthy.csv'), index_col=0)\n",
    "bin_r = pd.read_csv(os.path.join('scenic/results/adult_quad_zscore_byct_ruptured.csv'), index_col=0)\n",
    "z_normalized_regs['adult_quad_healthy'] = bin_h\n",
    "z_normalized_regs['adult_quad_ruptured'] = bin_r"
   ]
  },
  {
   "cell_type": "code",
   "execution_count": null,
   "id": "a441e263",
   "metadata": {},
   "outputs": [],
   "source": [
    "z_normalized_regs.keys()"
   ]
  },
  {
   "cell_type": "code",
   "execution_count": null,
   "id": "fdf00336",
   "metadata": {},
   "outputs": [],
   "source": []
  },
  {
   "cell_type": "code",
   "execution_count": null,
   "id": "6c919608",
   "metadata": {},
   "outputs": [],
   "source": [
    "embryonic_fibros = {\n",
    "    #'COL6A6 FSTL1 DCLK1 Progenitors',\n",
    "    #'Embryonic Chondrocytes',\n",
    "    'MKX TNMD ABI3BP GAS2 Progenitors',\n",
    "    #'MSC Precursors',\n",
    "    #'RUNX2 THBS2 COL11A1 Progenitors',\n",
    "    #'SCX FGF14 THBS4 FSTL5 Progenitors',\n",
    "    #'SOX5 CREB5 Chondrocyte Progenitors'\n",
    "}\n",
    "\n",
    "foetal_fibros = {\n",
    "     'ABI3BP GAS2 Fibroblasts',\n",
    "     #'COL3A1 PI16 Fibroblasts',\n",
    "     #'COL6A6 FNDC1 Fibroblasts',\n",
    "     #'Chondrocytes',\n",
    "     #'FGF14 THBS4 Fibroblasts',\n",
    "     #'NEGR1 SCN7A Fibroblasts',\n",
    "}\n",
    "\n",
    "adult_rupture_fibros = {\n",
    "     #'COL3A1hi fibroblasts',\n",
    "     #'Dividing fibroblasts / mural cells'\n",
    "}\n",
    "\n",
    "adult_healthy_fibros = {\n",
    "     #'ABCA10hi fibroblasts',\n",
    "     'FBLNhi fibroblasts',\n",
    "     #'NR4A1hi fibroblasts',\n",
    "}"
   ]
  },
  {
   "cell_type": "code",
   "execution_count": null,
   "id": "f0e5ddd7",
   "metadata": {},
   "outputs": [],
   "source": [
    "for ct in embryonic_fibros:\n",
    "    try:\n",
    "        print(f\"Processing {ct}...\")\n",
    "        emb = z_normalized_regs['embryonic'][ct].copy()\n",
    "        if ct == 'Embryonic Chondrocytes':\n",
    "            emb.name = ct\n",
    "        else:\n",
    "            emb.name = 'Embryonic ' + ct\n",
    "        for match in foetal_fibros:\n",
    "            print(f\"Matching with {match}...\")\n",
    "            matched_column = z_normalized_regs['foetal20'][match].copy()\n",
    "            matched_column.name = 'Foetal 20pcw ' + match\n",
    "            for match2 in adult_healthy_fibros:\n",
    "                if match2 == 'Dividing fibroblasts / mural cells':\n",
    "                    title = 'NAfilled '+ct+ 'Dividing fibroblasts'\n",
    "                else:\n",
    "                    title = 'NAfilled '+ct+match+match2\n",
    "                print(f\"Matching with {match2}...\")\n",
    "                matched_column2 = z_normalized_regs['adult_quad_healthy'][match2].copy()\n",
    "                matched_column2.name = 'Adult Healthy ' + match2\n",
    "                combined_data = pd.concat([emb, matched_column, matched_column2], axis=1)\n",
    "                assert not combined_data.index.duplicated().any()\n",
    "                combined_data = combined_data.fillna(0)\n",
    "                OP_regulon_clustermap(combined_data, title, 'z-score', size=(3,30), xsize=6, colcluster=False)\n",
    "    except Exception as e:\n",
    "        print(f\"Failed to process {ct}: {e}\")"
   ]
  },
  {
   "cell_type": "code",
   "execution_count": null,
   "id": "5c350d45",
   "metadata": {},
   "outputs": [],
   "source": [
    "for ct in embryonic_fibros:\n",
    "    try:\n",
    "        print(f\"Processing {ct}...\")\n",
    "        emb = z_normalized_regs['embryonic'][ct].copy()\n",
    "        if ct == 'Embryonic Chondrocytes':\n",
    "            emb.name = ct\n",
    "        else:\n",
    "            emb.name = 'Embryonic ' + ct\n",
    "        for match in foetal_fibros:\n",
    "            print(f\"Matching with {match}...\")\n",
    "            matched_column = z_normalized_regs['foetal20'][match].copy()\n",
    "            matched_column.name = 'Foetal 20pcw ' + match\n",
    "            for match2 in adult_healthy_fibros:\n",
    "                if match2 == 'Dividing fibroblasts / mural cells':\n",
    "                    title = 'CommonOnly '+ct+ 'Dividing fibroblasts'\n",
    "                else:\n",
    "                    title = 'CommonOnly '+ct+match+match2\n",
    "                print(f\"Matching with {match2}...\")\n",
    "                matched_column2 = z_normalized_regs['adult_quad_healthy'][match2].copy()\n",
    "                matched_column2.name = 'Adult Healthy ' + match2\n",
    "                combined_data = pd.concat([emb, matched_column, matched_column2], axis=1)\n",
    "                assert not combined_data.index.duplicated().any()\n",
    "                combined_data = combined_data.dropna(0)\n",
    "                OP_regulon_clustermap(combined_data, title, 'z-score', size=(3,15), xsize=10, colcluster=False)\n",
    "    except Exception as e:\n",
    "        print(f\"Failed to process {ct}: {e}\")"
   ]
  },
  {
   "cell_type": "code",
   "execution_count": null,
   "id": "568423b5",
   "metadata": {},
   "outputs": [],
   "source": [
    "embryonic_fibros = {\n",
    "    'COL6A6 FSTL1 DCLK1 Progenitors',\n",
    "    #'Embryonic Chondrocytes',\n",
    "    #'MKX TNMD ABI3BP GAS2 Progenitors',\n",
    "    #'MSC Precursors',\n",
    "    #'RUNX2 THBS2 COL11A1 Progenitors',\n",
    "    #'SCX FGF14 THBS4 FSTL5 Progenitors',\n",
    "    #'SOX5 CREB5 Chondrocyte Progenitors'\n",
    "}\n",
    "\n",
    "foetal_fibros = {\n",
    "     #'ABI3BP GAS2 Fibroblasts',\n",
    "     'COL3A1 PI16 Fibroblasts',\n",
    "     #'COL6A6 FNDC1 Fibroblasts',\n",
    "     #'Chondrocytes',\n",
    "     #'FGF14 THBS4 Fibroblasts',\n",
    "     #'NEGR1 SCN7A Fibroblasts',\n",
    "}\n",
    "\n",
    "adult_rupture_fibros = {\n",
    "     #'COL3A1hi fibroblasts',\n",
    "     #'Dividing fibroblasts / mural cells'\n",
    "}\n",
    "\n",
    "adult_healthy_fibros = {\n",
    "     'ABCA10hi fibroblasts',\n",
    "     #'FBLNhi fibroblasts',\n",
    "     #'NR4A1hi fibroblasts',\n",
    "}"
   ]
  },
  {
   "cell_type": "code",
   "execution_count": null,
   "id": "c79e8df5",
   "metadata": {},
   "outputs": [],
   "source": [
    "embryonic_fibros = {\n",
    "    #'COL6A6 FSTL1 DCLK1 Progenitors',\n",
    "    #'Embryonic Chondrocytes',\n",
    "    #'MKX TNMD ABI3BP GAS2 Progenitors',\n",
    "    #'MSC Precursors',\n",
    "    'RUNX2 THBS2 COL11A1 Progenitors',\n",
    "    #'SCX FGF14 THBS4 FSTL5 Progenitors',\n",
    "    #'SOX5 CREB5 Chondrocyte Progenitors'\n",
    "}\n",
    "\n",
    "foetal_fibros = {\n",
    "     #'ABI3BP GAS2 Fibroblasts',\n",
    "     #'COL3A1 PI16 Fibroblasts',\n",
    "     'COL6A6 FNDC1 Fibroblasts',\n",
    "     'Chondrocytes',\n",
    "     #'FGF14 THBS4 Fibroblasts',\n",
    "     #'NEGR1 SCN7A Fibroblasts',\n",
    "}\n",
    "\n",
    "adult_rupture_fibros = {\n",
    "     'COL3A1hi fibroblasts',\n",
    "     #'Dividing fibroblasts / mural cells'\n",
    "}\n",
    "\n",
    "adult_healthy_fibros = {\n",
    "     #'ABCA10hi fibroblasts',\n",
    "     #'FBLNhi fibroblasts',\n",
    "     #'NR4A1hi fibroblasts',\n",
    "}"
   ]
  },
  {
   "cell_type": "code",
   "execution_count": null,
   "id": "bfe59f20",
   "metadata": {},
   "outputs": [],
   "source": [
    "for ct in embryonic_fibros:\n",
    "    try:\n",
    "        print(f\"Processing {ct}...\")\n",
    "        emb = z_normalized_regs['embryonic'][ct].copy()\n",
    "        if ct == 'Embryonic Chondrocytes':\n",
    "            emb.name = ct\n",
    "        else:\n",
    "            emb.name = 'Embryonic ' + ct\n",
    "        for match in foetal_fibros:\n",
    "            print(f\"Matching with {match}...\")\n",
    "            matched_column = z_normalized_regs['foetal20'][match].copy()\n",
    "            matched_column.name = 'Foetal 20pcw ' + match\n",
    "            for match2 in adult_rupture_fibros:\n",
    "                if match2 == 'Dividing fibroblasts / mural cells':\n",
    "                    title = 'NAfilled '+ct+ 'Dividing fibroblasts'\n",
    "                else:\n",
    "                    title = 'NAfilled '+ct+match+'_20pcw_'+match2\n",
    "                print(f\"Matching with {match2}...\")\n",
    "                matched_column2 = z_normalized_regs['adult_quad_ruptured'][match2].copy()\n",
    "                matched_column2.name = 'Adult Ruptured ' + match2\n",
    "                combined_data = pd.concat([emb, matched_column, matched_column2], axis=1)\n",
    "                assert not combined_data.index.duplicated().any()\n",
    "                combined_data = combined_data.fillna(0)\n",
    "                OP_regulon_clustermap(combined_data, title, 'z-score', size=(3,30), xsize=6, colcluster=False)\n",
    "    except Exception as e:\n",
    "        print(f\"Failed to process {ct}: {e}\")"
   ]
  },
  {
   "cell_type": "code",
   "execution_count": null,
   "id": "b04c6de2",
   "metadata": {},
   "outputs": [],
   "source": [
    "for ct in embryonic_fibros:\n",
    "    try:\n",
    "        print(f\"Processing {ct}...\")\n",
    "        emb = z_normalized_regs['embryonic'][ct].copy()\n",
    "        if ct == 'Embryonic Chondrocytes':\n",
    "            emb.name = ct\n",
    "        else:\n",
    "            emb.name = 'Embryonic ' + ct\n",
    "        for match in foetal_fibros:\n",
    "            print(f\"Matching with {match}...\")\n",
    "            matched_column = z_normalized_regs['foetal17'][match].copy()\n",
    "            matched_column.name = 'Foetal 17pcw ' + match\n",
    "            for match2 in adult_rupture_fibros:\n",
    "                if match2 == 'Dividing fibroblasts / mural cells':\n",
    "                    title = 'NAfilled '+ct+ 'Dividing fibroblasts'\n",
    "                else:\n",
    "                    title = 'NAfilled '+ct+match+'_17pcw_'+match2\n",
    "                print(f\"Matching with {match2}...\")\n",
    "                matched_column2 = z_normalized_regs['adult_quad_ruptured'][match2].copy()\n",
    "                matched_column2.name = 'Adult Ruptured ' + match2\n",
    "                combined_data = pd.concat([emb, matched_column, matched_column2], axis=1)\n",
    "                assert not combined_data.index.duplicated().any()\n",
    "                combined_data = combined_data.fillna(0)\n",
    "                OP_regulon_clustermap(combined_data, title, 'z-score', size=(3,30), xsize=6, colcluster=False)\n",
    "    except Exception as e:\n",
    "        print(f\"Failed to process {ct}: {e}\")"
   ]
  },
  {
   "cell_type": "code",
   "execution_count": null,
   "id": "f241c3b4",
   "metadata": {},
   "outputs": [],
   "source": [
    "for ct in embryonic_fibros:\n",
    "    try:\n",
    "        print(f\"Processing {ct}...\")\n",
    "        emb = z_normalized_regs['embryonic'][ct].copy()\n",
    "        if ct == 'Embryonic Chondrocytes':\n",
    "            emb.name = ct\n",
    "        else:\n",
    "            emb.name = 'Embryonic ' + ct\n",
    "        for match in foetal_fibros:\n",
    "            print(f\"Matching with {match}...\")\n",
    "            matched_column = z_normalized_regs['foetal20'][match].copy()\n",
    "            matched_column.name = 'Foetal 20pcw ' + match\n",
    "            for match2 in adult_rupture_fibros:\n",
    "                if match2 == 'Dividing fibroblasts / mural cells':\n",
    "                    title = 'CommonOnly '+ct+ 'Dividing fibroblasts'\n",
    "                else:\n",
    "                    title = 'CommonOnly '+ct+match+'_20pcw_'+match2\n",
    "                print(f\"Matching with {match2}...\")\n",
    "                matched_column2 = z_normalized_regs['adult_quad_ruptured'][match2].copy()\n",
    "                matched_column2.name = 'Adult Ruptured ' + match2\n",
    "                combined_data = pd.concat([emb, matched_column, matched_column2], axis=1)\n",
    "                assert not combined_data.index.duplicated().any()\n",
    "                combined_data = combined_data.dropna(0)\n",
    "                OP_regulon_clustermap(combined_data, title, 'z-score', size=(3,15), xsize=10, colcluster=False)\n",
    "    except Exception as e:\n",
    "        print(f\"Failed to process {ct}: {e}\")"
   ]
  },
  {
   "cell_type": "code",
   "execution_count": null,
   "id": "a0024a55",
   "metadata": {},
   "outputs": [],
   "source": [
    "for ct in embryonic_fibros:\n",
    "    try:\n",
    "        print(f\"Processing {ct}...\")\n",
    "        emb = z_normalized_regs['embryonic'][ct].copy()\n",
    "        if ct == 'Embryonic Chondrocytes':\n",
    "            emb.name = ct\n",
    "        else:\n",
    "            emb.name = 'Embryonic ' + ct\n",
    "        for match in foetal_fibros:\n",
    "            print(f\"Matching with {match}...\")\n",
    "            matched_column = z_normalized_regs['foetal17'][match].copy()\n",
    "            matched_column.name = 'Foetal 17pcw ' + match\n",
    "            for match2 in adult_rupture_fibros:\n",
    "                if match2 == 'Dividing fibroblasts / mural cells':\n",
    "                    title = 'CommonOnly '+ct+ 'Dividing fibroblasts'\n",
    "                else:\n",
    "                    title = 'CommonOnly '+ct+match+'_17pcw_'+match2\n",
    "                print(f\"Matching with {match2}...\")\n",
    "                matched_column2 = z_normalized_regs['adult_quad_ruptured'][match2].copy()\n",
    "                matched_column2.name = 'Adult Ruptured ' + match2\n",
    "                combined_data = pd.concat([emb, matched_column, matched_column2], axis=1)\n",
    "                assert not combined_data.index.duplicated().any()\n",
    "                combined_data = combined_data.dropna(0)\n",
    "                OP_regulon_clustermap(combined_data, title, 'z-score', size=(3,15), xsize=10, colcluster=False)\n",
    "    except Exception as e:\n",
    "        print(f\"Failed to process {ct}: {e}\")"
   ]
  }
 ],
 "metadata": {
  "kernelspec": {
   "display_name": "Python [conda env:pyscenic_env] *",
   "language": "python",
   "name": "conda-env-pyscenic_env-py"
  },
  "language_info": {
   "codemirror_mode": {
    "name": "ipython",
    "version": 3
   },
   "file_extension": ".py",
   "mimetype": "text/x-python",
   "name": "python",
   "nbconvert_exporter": "python",
   "pygments_lexer": "ipython3",
   "version": "3.7.12"
  }
 },
 "nbformat": 4,
 "nbformat_minor": 5
}
