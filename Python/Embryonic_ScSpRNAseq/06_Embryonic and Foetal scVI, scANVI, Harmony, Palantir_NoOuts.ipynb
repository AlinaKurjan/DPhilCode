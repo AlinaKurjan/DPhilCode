{
 "cells": [
  {
   "cell_type": "code",
   "execution_count": null,
   "id": "5e16f23d",
   "metadata": {},
   "outputs": [],
   "source": [
    "# Import dependencies\n",
    "%matplotlib inline\n",
    "import os\n",
    "import numpy as np\n",
    "import scanpy as sc\n",
    "import seaborn as sns\n",
    "import matplotlib\n",
    "import matplotlib.pyplot as plt\n",
    "import pandas as pd\n",
    "import anndata as ad\n",
    "\n",
    "#import scvi\n",
    "\n",
    "matplotlib.rcParams['font.family'] = 'sans-serif'\n",
    "\n",
    "# Initialize random seed\n",
    "import random\n",
    "random.seed(111)\n",
    "\n",
    "# Print date and time:\n",
    "import datetime\n",
    "e = datetime.datetime.now()\n",
    "print (\"Current date and time = %s\" % e)\n",
    "\n",
    "# wdir = \"/ceph/project/tendonhca/akurjan/analysis/\"\n",
    "wdir = \"/mnt/da8aa2c4-0136-465b-87a2-d12a59afec55/akurjan/analysis/notebooks/\"\n",
    "os.chdir( wdir )\n",
    "\n",
    "# folder structures\n",
    "EMB_FOLDERNAME = \"embryonic ScAndSp/scVI/results/\"\n",
    "FTL_FOLDERNAME = \"foetal/results/scVI/\"\n",
    "RESULTS_FOLDERNAME = \"developmental/scVI/results/\"\n",
    "FIGURES_FOLDERNAME = \"developmental/scVI/figures/\"\n",
    "\n",
    "if not os.path.exists(RESULTS_FOLDERNAME):\n",
    "    os.makedirs(RESULTS_FOLDERNAME)\n",
    "if not os.path.exists(FIGURES_FOLDERNAME):\n",
    "    os.makedirs(FIGURES_FOLDERNAME)\n",
    "\n",
    "# Set folder for saving figures into\n",
    "sc.settings.figdir = FIGURES_FOLDERNAME\n",
    "\n",
    "def savesvg(fname: str, fig, folder: str=FIGURES_FOLDERNAME) -> None:\n",
    "    \"\"\"\n",
    "    Save figure as vector-based SVG image format.\n",
    "    \"\"\"\n",
    "    fig.savefig(os.path.join(folder, fname), format='svg')\n",
    "\n",
    "def plot_umaps(anndata, parameters: list, filename: str):\n",
    "    n_plots = len(parameters)\n",
    "    fig, axs = plt.subplots(n_plots, 1, figsize=(8, 4*n_plots))\n",
    "    for i, param in enumerate(parameters):\n",
    "        sc.pl.umap(anndata, color=param, ax=axs[i], show=False, frameon=False, s=2)\n",
    "        axs[i].set_title(param)\n",
    "    plt.tight_layout()\n",
    "    savesvg(filename, fig)\n",
    "    plt.show()    \n",
    "    \n",
    "# Set other settings\n",
    "sc.settings.verbosity = 3 # verbosity: errors (0), warnings (1), info (2), hints (3)\n",
    "sc.logging.print_versions()\n",
    "sc.set_figure_params(dpi=150, fontsize=10, dpi_save=600)"
   ]
  },
  {
   "cell_type": "markdown",
   "id": "b9f9b3b4",
   "metadata": {},
   "source": [
    "# Subsetting and scVI/scANVI integration\n",
    "Use scvi-env conda environment"
   ]
  },
  {
   "cell_type": "code",
   "execution_count": null,
   "id": "f2396db3",
   "metadata": {},
   "outputs": [],
   "source": [
    "foetal = sc.read_h5ad(os.path.join(FTL_FOLDERNAME, 'dev_scANVI.h5ad'))\n",
    "foetal.var_names = foetal.var_names.astype(str)\n",
    "foetal.var_names_make_unique()"
   ]
  },
  {
   "cell_type": "code",
   "execution_count": null,
   "id": "366590e9",
   "metadata": {},
   "outputs": [],
   "source": [
    "foetal.obs['C_scANVI_orig'] = foetal.obs['C_scANVI']\n",
    "\n",
    "foetal.obs['C_scANVI'] = np.where(\n",
    "    foetal.obs['C_scANVI'] == 'ABI3BP GAS2 Fibroblasts 1', 'ABI3BP GAS2 Fibroblasts', foetal.obs['C_scANVI']\n",
    ")\n",
    "foetal.obs['C_scANVI'] = np.where(\n",
    "    foetal.obs['C_scANVI'] == 'ABI3BP GAS2 Fibroblasts 2', 'ABI3BP GAS2 Fibroblasts', foetal.obs['C_scANVI']\n",
    ")\n",
    "#foetal.obs['C_scANVI'] = np.where(\n",
    "#    foetal.obs['C_scANVI'] == 'COL6A6 FNDC1 Fibroblasts', 'COL3A1 PI16 Fibroblasts', foetal.obs['C_scANVI']\n",
    "#)\n",
    "foetal.obs['C_scANVI'] = np.where(\n",
    "    foetal.obs['C_scANVI'] == 'Smooth Myocytes', 'Mural Cells', foetal.obs['C_scANVI']\n",
    ")\n",
    "\n",
    "foetal.obs['C_scANVI'].value_counts()"
   ]
  },
  {
   "cell_type": "code",
   "execution_count": null,
   "id": "3d848663",
   "metadata": {},
   "outputs": [],
   "source": [
    "foetal.obs.head(5)"
   ]
  },
  {
   "cell_type": "code",
   "execution_count": null,
   "id": "2f0a6563",
   "metadata": {},
   "outputs": [],
   "source": [
    "foetal.var.head(5)"
   ]
  },
  {
   "cell_type": "code",
   "execution_count": null,
   "id": "8eec45ec",
   "metadata": {},
   "outputs": [],
   "source": [
    "embryonic = sc.read_h5ad(os.path.join(EMB_FOLDERNAME, 'tendonsubset_scANVI.h5ad'))\n",
    "embryonic.var_names = embryonic.var_names.astype('str')\n",
    "embryonic.var_names_make_unique()\n",
    "embryonic.obs['C_scANVI_orig'] = embryonic.obs['C_scANVI']\n",
    "embryonic.obs.head(5)"
   ]
  },
  {
   "cell_type": "code",
   "execution_count": null,
   "id": "37133a48",
   "metadata": {},
   "outputs": [],
   "source": [
    "embryonic.var.head(5)"
   ]
  },
  {
   "cell_type": "code",
   "execution_count": null,
   "id": "64fcc808",
   "metadata": {},
   "outputs": [],
   "source": [
    "cat = list(embryonic.obs['norm_sample_stage'].cat.categories)\n",
    "embryonic.obs['age'] = pd.Categorical(embryonic.obs['norm_sample_stage'], categories=cat, ordered=True)\n",
    "embryonic = embryonic[embryonic.obs['age'].argsort()]\n",
    "embryonic.obs "
   ]
  },
  {
   "cell_type": "code",
   "execution_count": null,
   "id": "ee435d3d",
   "metadata": {},
   "outputs": [],
   "source": [
    "label_mapping = {\n",
    "     'pcw7.1 -1': '7.1w',\n",
    "     'pcw5.6': '5.6w',\n",
    "     'pcw9.3-1 ': '9.3w',\n",
    "     'pcw6.1': '6.1w',\n",
    "     'pcw9.0-1 ': '9.0w',\n",
    "     'pcw7.2-2 ': '7.2w',\n",
    "     'pcw9.0-2 ': '9.0w',\n",
    "     'pcw8.0': '8.0w',\n",
    "     'pcw6.5': '6.5w',\n",
    "     'pcw9.3-2': '9.3w',\n",
    "     'pcw8.4-1 ': '8.4w',\n",
    "     'pcw7.2-1 ': '7.2w',\n",
    "     'pcw8.4-2': '8.4w'\n",
    "}\n",
    "embryonic.obs['age'] = embryonic.obs['norm_sample_stage'].map(label_mapping)\n",
    "embryonic.obs['age'] = embryonic.obs['age'].astype('category')\n",
    "embryonic.obs['age'].dtype"
   ]
  },
  {
   "cell_type": "code",
   "execution_count": null,
   "id": "7478bbf4",
   "metadata": {},
   "outputs": [],
   "source": [
    "label_mapping = {\n",
    "     'pcw7.1 -1': 7.1,\n",
    "     'pcw5.6': 5.6,\n",
    "     'pcw9.3-1 ': 9.3,\n",
    "     'pcw6.1': 6.1,\n",
    "     'pcw9.0-1 ': 9.0,\n",
    "     'pcw7.2-2 ': 7.2,\n",
    "     'pcw9.0-2 ': 9.0,\n",
    "     'pcw8.0': 8.0,\n",
    "     'pcw6.5': 6.5,\n",
    "     'pcw9.3-2': 9.3,\n",
    "     'pcw8.4-1 ': 8.4,\n",
    "     'pcw7.2-1 ': 7.2,\n",
    "     'pcw8.4-2': 8.4\n",
    "}\n",
    "\n",
    "embryonic.obs['ageint'] = embryonic.obs['norm_sample_stage'].map(label_mapping)\n",
    "embryonic.obs['ageint'].value_counts()"
   ]
  },
  {
   "cell_type": "code",
   "execution_count": null,
   "id": "21604847",
   "metadata": {},
   "outputs": [],
   "source": [
    "embryonic.obs['sampletype'] = embryonic.obs['samplename']"
   ]
  },
  {
   "cell_type": "code",
   "execution_count": null,
   "id": "e5863289",
   "metadata": {},
   "outputs": [],
   "source": [
    "adata = ad.concat((foetal, embryonic), join='outer', index_unique=None)\n",
    "adata"
   ]
  },
  {
   "cell_type": "code",
   "execution_count": null,
   "id": "cabf9cd0",
   "metadata": {},
   "outputs": [],
   "source": [
    "del adata.obsm, adata.layers['log1p_norm'], adata.layers['scaled'], adata.layers['normcounts'], adata.raw"
   ]
  },
  {
   "cell_type": "code",
   "execution_count": null,
   "id": "fbfeede1",
   "metadata": {},
   "outputs": [],
   "source": [
    "adata.X = adata.layers['counts'].copy()"
   ]
  },
  {
   "cell_type": "code",
   "execution_count": null,
   "id": "84b77569",
   "metadata": {},
   "outputs": [],
   "source": [
    "adata.var_names_make_unique()"
   ]
  },
  {
   "cell_type": "code",
   "execution_count": null,
   "id": "f8075ba4",
   "metadata": {},
   "outputs": [],
   "source": [
    "#keep = ['ABI3BP GAS2 Fibroblasts',\n",
    "#        'COL3A1 PI16 Fibroblasts',\n",
    "#        'FGF14 THBS4 Fibroblasts', \n",
    "#        #'NEGR1 SCN7A Fibroblasts'\n",
    "#       ]\n",
    "# Use the boolean mask to subset the AnnData object\n",
    "#adata = adata[adata.obs['C_scANVI'].isin(keep)].copy()\n",
    "#adata"
   ]
  },
  {
   "cell_type": "code",
   "execution_count": null,
   "id": "88f6689f",
   "metadata": {},
   "outputs": [],
   "source": [
    "del embryonic, foetal"
   ]
  },
  {
   "cell_type": "markdown",
   "id": "c85ee916",
   "metadata": {},
   "source": [
    "# Data Preparation "
   ]
  },
  {
   "cell_type": "code",
   "execution_count": null,
   "id": "458157d2",
   "metadata": {},
   "outputs": [],
   "source": [
    "adata.obs['age'] = adata.obs['age'].astype(\"category\")\n",
    "list(adata.obs['age'].cat.categories)"
   ]
  },
  {
   "cell_type": "code",
   "execution_count": null,
   "id": "f356c4e5",
   "metadata": {},
   "outputs": [],
   "source": [
    "# sort by categorical age\n",
    "adata.obs['age'] = pd.Categorical(adata.obs['age'], categories=['6.1w', '6.5w', '7.2w', '8.4w', '9.0w', '9.3w', '12w', '17w', '20w'], ordered=True)\n",
    "adata = adata[adata.obs['age'].argsort()]\n",
    "adata.obs "
   ]
  },
  {
   "cell_type": "code",
   "execution_count": null,
   "id": "fe8b38e3",
   "metadata": {},
   "outputs": [],
   "source": [
    "adata.obs['C_scANVI'].value_counts()"
   ]
  },
  {
   "cell_type": "code",
   "execution_count": null,
   "id": "eadf6743",
   "metadata": {},
   "outputs": [],
   "source": [
    "sc.pp.filter_genes(adata, min_counts=5, inplace=True)\n",
    "sc.pp.filter_cells(adata, min_genes=200)"
   ]
  },
  {
   "cell_type": "code",
   "execution_count": null,
   "id": "f49b72ca",
   "metadata": {},
   "outputs": [],
   "source": [
    "scaled_counts = sc.pp.normalize_total(adata, target_sum=None, inplace=False)\n",
    "adata.layers[\"log1p_norm\"] = sc.pp.log1p(scaled_counts[\"X\"], copy=True)\n",
    "print(adata.layers[\"log1p_norm\"][0:5, 0:5])"
   ]
  },
  {
   "cell_type": "code",
   "execution_count": null,
   "id": "114c53db",
   "metadata": {},
   "outputs": [],
   "source": [
    "adata.X = adata.layers['log1p_norm'].copy()"
   ]
  },
  {
   "cell_type": "code",
   "execution_count": null,
   "id": "84cb1f36",
   "metadata": {},
   "outputs": [],
   "source": [
    "sc.pp.highly_variable_genes(adata, n_top_genes=3000, flavor=\"cell_ranger\")\n",
    "sc.pl.highly_variable_genes(adata)"
   ]
  },
  {
   "cell_type": "code",
   "execution_count": null,
   "id": "b909c384",
   "metadata": {},
   "outputs": [],
   "source": [
    "sc.pp.scale(adata)\n",
    "print(adata.X[0:5,0:5])"
   ]
  },
  {
   "cell_type": "code",
   "execution_count": null,
   "id": "afdab1a0",
   "metadata": {},
   "outputs": [],
   "source": [
    "hvgenes = adata.var.index[adata.var.highly_variable].tolist()\n",
    "adata.layers['scaled'] = adata.X.copy()\n",
    "adata.obsm[\"X_pca\"] = sc.pp.pca(adata[:,hvgenes].X, n_comps=50, svd_solver=\"arpack\")"
   ]
  },
  {
   "cell_type": "code",
   "execution_count": null,
   "id": "0d5697da",
   "metadata": {},
   "outputs": [],
   "source": [
    "adata.obs['seq_protocol'] = adata.obs['seq_protocol'].astype('str').astype('category')\n",
    "adata.obs['seq_protocol'] = adata.obs['seq_protocol'].replace(\"nan\", \"Illumina-HTP NovaSeq 6000 Paired end sequencing\")"
   ]
  },
  {
   "cell_type": "code",
   "execution_count": null,
   "id": "e05f58f9",
   "metadata": {},
   "outputs": [],
   "source": [
    "adata.obs['kit'] = adata.obs['kit'].astype(\"str\").astype(\"category\")\n",
    "adata.obs['kit'] = adata.obs['kit'].replace(\"nan\", \"3' v3.1\")"
   ]
  },
  {
   "cell_type": "code",
   "execution_count": null,
   "id": "aaf0b6c9",
   "metadata": {},
   "outputs": [],
   "source": [
    "adata.obs['libbatch'] = adata.obs['libbatch'].astype(\"str\").astype(\"category\")\n",
    "adata.obs['libbatch'] = adata.obs['libbatch'].replace(\"nan\", \"2021\")"
   ]
  },
  {
   "cell_type": "code",
   "execution_count": null,
   "id": "38719da6",
   "metadata": {},
   "outputs": [],
   "source": [
    "sc.pp.neighbors(adata, use_rep=\"X_pca\", metric='correlation')\n",
    "sc.tl.umap(adata)"
   ]
  },
  {
   "cell_type": "code",
   "execution_count": null,
   "id": "eb238548",
   "metadata": {
    "scrolled": true
   },
   "outputs": [],
   "source": [
    "plot_umaps(adata, ['sampletype', 'phase', 'hospital_id', 'sample', 'libbatch',\n",
    "                         'sex', 'age', 'ageint','kit', 'seq_protocol', 'C_scANVI'],\n",
    "           filename='unintegrated_fulldev.svg'\n",
    "          )"
   ]
  },
  {
   "cell_type": "markdown",
   "id": "114d0b20",
   "metadata": {},
   "source": [
    "# scVI Integration"
   ]
  },
  {
   "cell_type": "code",
   "execution_count": null,
   "id": "e2312639",
   "metadata": {},
   "outputs": [],
   "source": [
    "scvi.model.SCVI.setup_anndata(adata, #adata_hvg\n",
    "                              layer=\"counts\", labels_key='C_scANVI',\n",
    "                              categorical_covariate_keys=[\"sampletype\", \"libbatch\", \"kit\", \"seq_protocol\", \"sex\"], # effects that are taken into account that we are not necessarily interested in\n",
    "                              #\"age\", \"type\", \"phase\", - not correcting for to avoid removing variation of interest\n",
    "                              )"
   ]
  },
  {
   "cell_type": "code",
   "execution_count": null,
   "id": "90ba5a19",
   "metadata": {
    "scrolled": false
   },
   "outputs": [],
   "source": [
    "vae = scvi.model.SCVI(adata, n_hidden = 256, n_latent=14, n_layers=3, \n",
    "                      dropout_rate=0.1, dispersion=\"gene-batch\", gene_likelihood='nb')\n",
    "vae.view_anndata_setup(adata)"
   ]
  },
  {
   "cell_type": "code",
   "execution_count": null,
   "id": "7bd82db6",
   "metadata": {},
   "outputs": [],
   "source": [
    "%%time\n",
    "vae.train(max_epochs = 400, train_size = 0.9, validation_size = 0.1, \n",
    "          use_gpu=True, accelerator='gpu', \n",
    "          check_val_every_n_epoch=1,\n",
    "          early_stopping=True,\n",
    "          early_stopping_patience=20,\n",
    "          early_stopping_monitor=\"elbo_validation\",\n",
    "         )"
   ]
  },
  {
   "cell_type": "code",
   "execution_count": null,
   "id": "aee96cf8",
   "metadata": {},
   "outputs": [],
   "source": [
    "train_test_results = vae.history[\"elbo_train\"]\n",
    "train_test_results[\"elbo_validation\"] = vae.history[\"elbo_validation\"]\n",
    "train_test_results.iloc[10:].plot(logy=True)  # exclude first 10 epochs\n",
    "plt.show()"
   ]
  },
  {
   "cell_type": "code",
   "execution_count": null,
   "id": "5e75d8f3",
   "metadata": {},
   "outputs": [],
   "source": [
    "vae.get_elbo(adata)"
   ]
  },
  {
   "cell_type": "code",
   "execution_count": null,
   "id": "fe721ffe",
   "metadata": {},
   "outputs": [],
   "source": [
    "adata.obsm[\"X_scVI\"] = vae.get_latent_representation()\n",
    "# use scVI latent space for UMAP generation\n",
    "sc.pp.neighbors(adata, use_rep=\"X_scVI\", metric='correlation')\n",
    "sc.tl.umap(adata)"
   ]
  },
  {
   "cell_type": "raw",
   "id": "862993d2",
   "metadata": {},
   "source": []
  },
  {
   "cell_type": "code",
   "execution_count": null,
   "id": "87f6315e",
   "metadata": {
    "scrolled": false
   },
   "outputs": [],
   "source": [
    "plot_umaps(adata, ['sampletype', 'phase', 'hospital_id', 'sample', 'libbatch',\n",
    "                         'sex', 'age', 'ageint','kit', 'seq_protocol', 'C_scANVI'],\n",
    "           filename='scVIintegrated_fulldev.svg', cmap='gnuplot'\n",
    "          )"
   ]
  },
  {
   "cell_type": "code",
   "execution_count": null,
   "id": "02ceb17d",
   "metadata": {},
   "outputs": [],
   "source": [
    "vae.save(os.path.join(RESULTS_FOLDERNAME, \"DevelopmentalFull_SampletypeLibbatchKitSeqSex/\"), overwrite=True)"
   ]
  },
  {
   "cell_type": "code",
   "execution_count": null,
   "id": "807164f7",
   "metadata": {},
   "outputs": [],
   "source": [
    "sc.pl.umap(adata, color=[#\"leiden_04scvi\", \"leiden_06scvi\", \n",
    "    \"C_scANVI\", \"kit\"], legend_loc=\"on data\", frameon=False, legend_fontsize=5)"
   ]
  },
  {
   "cell_type": "code",
   "execution_count": null,
   "id": "d06b1ef2",
   "metadata": {},
   "outputs": [],
   "source": [
    "adata.write(os.path.join(RESULTS_FOLDERNAME, 'full_dev_scVI.h5ad'))"
   ]
  },
  {
   "cell_type": "markdown",
   "id": "5e852743",
   "metadata": {},
   "source": [
    "# Harmony (Change env!)\n",
    "Use seacells_env environment"
   ]
  },
  {
   "cell_type": "code",
   "execution_count": null,
   "id": "53a738aa",
   "metadata": {},
   "outputs": [],
   "source": [
    "import harmony\n",
    "import harmony.core\n",
    "import harmony.plot"
   ]
  },
  {
   "cell_type": "code",
   "execution_count": null,
   "id": "07d2ad6d",
   "metadata": {},
   "outputs": [],
   "source": [
    "adata = sc.read_h5ad(os.path.join(RESULTS_FOLDERNAME, 'full_dev_scVI.h5ad'))\n",
    "adata.var_names_make_unique()\n",
    "adata.obs"
   ]
  },
  {
   "cell_type": "code",
   "execution_count": null,
   "id": "62337056",
   "metadata": {},
   "outputs": [],
   "source": [
    "adata.obs['age'].value_counts()"
   ]
  },
  {
   "cell_type": "code",
   "execution_count": null,
   "id": "ac545575",
   "metadata": {},
   "outputs": [],
   "source": [
    "tp = adata.obs['age'].astype(str)\n",
    "timepoint_connections = pd.DataFrame(columns=[0, 1])\n",
    "index = 0\n",
    "\n",
    "timepoint_connections.loc[index, :] = ['6.1w', '6.5w']; index += 1\n",
    "timepoint_connections.loc[index, :] = ['6.5w', '7.2w']; index += 1\n",
    "timepoint_connections.loc[index, :] = ['7.2w', '8.4w']; index += 1\n",
    "timepoint_connections.loc[index, :] = ['8.4w', '9.0w']; index += 1\n",
    "timepoint_connections.loc[index, :] = ['9.0w', '9.3w']; index += 1\n",
    "timepoint_connections.loc[index, :] = ['9.3w', '12w']; index += 1\n",
    "timepoint_connections.loc[index, :] = ['12w', '17w']; index += 1\n",
    "timepoint_connections.loc[index, :] = ['17w', '20w']; index += 1\n",
    "timepoint_connections"
   ]
  },
  {
   "cell_type": "code",
   "execution_count": null,
   "id": "23b1dc2b",
   "metadata": {},
   "outputs": [],
   "source": [
    "data_df=pd.DataFrame(adata.obsm[\"X_scVI\"],index=adata.obs_names)\n",
    "data_df"
   ]
  },
  {
   "cell_type": "markdown",
   "id": "8c40b28b",
   "metadata": {},
   "source": [
    "specifying the number of neighbors helps define the level of granularity in identifying cell relationships. A smaller value like 10 will result in a more local and fine-grained view of cell-to-cell connections, whereas a larger value would capture more distant or global similarities.\n",
    "\n",
    "My data is fairly sparce, so k value will need to be larger to capture meaningful similarities."
   ]
  },
  {
   "cell_type": "code",
   "execution_count": null,
   "id": "03b4f109",
   "metadata": {},
   "outputs": [],
   "source": [
    "# generate the augmented affinity matrix (aug_aff) and the non-augmented matrix (aff)\n",
    "aug_aff, aff = harmony.core.augmented_affinity_matrix(data_df, tp, timepoint_connections, \n",
    "                                                      n_neighbors=20, pc_components=None)\n",
    "\n",
    "# add the augmented affinity matrix to obsm\n",
    "adata.obsm['X_aug_aff'] = aug_aff"
   ]
  },
  {
   "cell_type": "code",
   "execution_count": null,
   "id": "5ae25a21",
   "metadata": {},
   "outputs": [],
   "source": [
    "# computes force directed layout coordinates from the augmented aff matrix\n",
    "layout = harmony.plot.force_directed_layout(aug_aff, data_df.index)"
   ]
  },
  {
   "cell_type": "code",
   "execution_count": null,
   "id": "27ae2dc0",
   "metadata": {
    "scrolled": false
   },
   "outputs": [],
   "source": [
    "harmony.plot.plot_timepoints(layout, tp)\n",
    "plt.savefig(os.path.join(FIGURES_FOLDERNAME, 'harmony_plot.svg'), format='svg')\n",
    "plt.savefig(os.path.join(FIGURES_FOLDERNAME, 'harmony_plot.png'), format='png')"
   ]
  },
  {
   "cell_type": "code",
   "execution_count": null,
   "id": "73bc61a9",
   "metadata": {},
   "outputs": [],
   "source": [
    "# add layout coordinates to the anndata object\n",
    "adata.obsm['X_force_directed_layout'] = layout\n",
    "adata.obsm['force_directed_array'] = adata.obsm['X_force_directed_layout'].values\n",
    "sc.pl.embedding(adata, basis='force_directed_array', color='age',\n",
    "               frameon=False,\n",
    "               save='_dev_harmony_byage.png')"
   ]
  },
  {
   "cell_type": "code",
   "execution_count": null,
   "id": "a285ed21",
   "metadata": {},
   "outputs": [],
   "source": [
    "sc.pl.embedding(adata, basis='force_directed_array', color='ageint',\n",
    "               frameon=False,\n",
    "               #save='_dev_harmony_byage.png'\n",
    "               )"
   ]
  },
  {
   "cell_type": "code",
   "execution_count": null,
   "id": "f4f2c864",
   "metadata": {},
   "outputs": [],
   "source": [
    "adata.obsm['X_umap_orig'] = adata.obsm['X_umap']"
   ]
  },
  {
   "cell_type": "code",
   "execution_count": null,
   "id": "e9e5a059",
   "metadata": {},
   "outputs": [],
   "source": [
    "adata.write(os.path.join(RESULTS_FOLDERNAME, 'developmental_harmony.h5ad'))"
   ]
  },
  {
   "cell_type": "markdown",
   "id": "234afec1",
   "metadata": {},
   "source": [
    "## Palantir trajectory detection\n",
    "Palantir is an algorithm developed by the Pe'er lab to align cells along differentiation trajectories. Palantir models differentiation as a stochastic process where stem cells differentiate to terminally differentiated cells by a series of steps through a low dimensional phenotypic manifold. Palantir effectively captures the continuity in cell states and the stochasticity in cell fate determination.\n",
    "\n",
    "The first step in Palantir trajectory detection is to project data onto diffusion maps. Harmony augmented affinity matrix is used as the input for identifying diffusion maps. Please see https://github.com/dpeerlab/Palantir for more details on Palantir"
   ]
  },
  {
   "cell_type": "code",
   "execution_count": null,
   "id": "a1ab9142",
   "metadata": {},
   "outputs": [],
   "source": [
    "import palantir\n",
    "\n",
    "dm_res = palantir.utils.run_diffusion_maps(adata.obsm[\"X_aug_aff\"], knn=40)\n",
    "#dm_res = palantir.utils.run_diffusion_maps(pd.DataFrame(adata.obsm[\"X_aug_aff\"].toarray(),index=adata.obs_names))\n",
    "#dm_res = palantir.utils.run_diffusion_maps(pd.DataFrame(adata.obsm[\"X_scANVI\"],index=adata.obs_names),knn=100)\n",
    "\n",
    "#adata.obsp[\"T\"]=dm_res[\"T\"]\n",
    "adata.obsm[\"X_diff\"]=dm_res['EigenVectors'].values"
   ]
  },
  {
   "cell_type": "code",
   "execution_count": null,
   "id": "671d1d89",
   "metadata": {},
   "outputs": [],
   "source": [
    "sc.pp.neighbors(adata,n_neighbors=40,use_rep=\"X_diff\")\n",
    "sc.tl.paga(adata,\"C_scANVI\")\n",
    "sc.pl.paga(adata,threshold=.02, node_size_scale=2,\n",
    "           fontsize=6, fontoutline=1, frameon=False, \n",
    "           save='_developmentaldiffPAGA.png'\n",
    "          )"
   ]
  },
  {
   "cell_type": "code",
   "execution_count": null,
   "id": "0dd2a09d",
   "metadata": {
    "scrolled": false
   },
   "outputs": [],
   "source": [
    "sc.tl.umap(adata, spread=.6, init_pos='paga')\n",
    "sc.pl.umap(adata, color='C_scANVI', frameon=False)"
   ]
  },
  {
   "cell_type": "code",
   "execution_count": null,
   "id": "96cd27e8",
   "metadata": {},
   "outputs": [],
   "source": [
    "sc.pl.umap(adata, color=['age', 'ageint'], frameon=False)"
   ]
  },
  {
   "cell_type": "code",
   "execution_count": null,
   "id": "27750ee8",
   "metadata": {},
   "outputs": [],
   "source": [
    "ms_data = palantir.utils.determine_multiscale_space(dm_res, n_eigs=9)\n",
    "adata.obsm[\"X_msdiff\"]=ms_data.values\n",
    "ms_data"
   ]
  },
  {
   "cell_type": "code",
   "execution_count": null,
   "id": "64828b5f",
   "metadata": {},
   "outputs": [],
   "source": [
    "%%time\n",
    "sc.tl.tsne(adata,use_rep=\"X_msdiff\",\n",
    "           perplexity=50,\n",
    "           learning_rate=adata.shape[0]/12\n",
    "          )"
   ]
  },
  {
   "cell_type": "code",
   "execution_count": null,
   "id": "827cfe6c",
   "metadata": {},
   "outputs": [],
   "source": [
    "sc.pl.tsne(adata,color=\"C_scANVI\", \n",
    "           frameon=False,\n",
    "           save='_developmental.svg'\n",
    "          )\n",
    "#plt.savefig(os.path.join(FIGURES_FOLDERNAME, '20pcw_tendonfibro_msdiff_TSNE.svg'), format='svg')\n",
    "#plt.savefig(os.path.join(FIGURES_FOLDERNAME, '20pcw_tendonfibro_msdiff_TSNEpng.png'), format='png')\n",
    "# Image(filename=os.path.join(FIGURES_FOLDERNAME,'msdiff_TSNEpng.png'))"
   ]
  },
  {
   "cell_type": "code",
   "execution_count": null,
   "id": "9a76a001",
   "metadata": {},
   "outputs": [],
   "source": [
    "sc.pl.tsne(adata,color=\"C_scANVI\", \n",
    "           frameon=False, legend_loc='on data', legend_fontsize=4,\n",
    "           #save='_developmental.svg'\n",
    "          )"
   ]
  },
  {
   "cell_type": "code",
   "execution_count": null,
   "id": "c15755e5",
   "metadata": {},
   "outputs": [],
   "source": [
    "sc.pp.neighbors(adata, n_neighbors=30, use_rep=\"X_msdiff\")\n",
    "sc.tl.draw_graph(adata, init_pos=\"X_tsne\", \n",
    "                 maxiter=500)"
   ]
  },
  {
   "cell_type": "code",
   "execution_count": null,
   "id": "7c92e33c",
   "metadata": {},
   "outputs": [],
   "source": [
    "sc.pl.draw_graph(adata, color=[\"age\", \"ageint\"], frameon=False,\n",
    "                 save='_developmental_age_msdifffa.svg'\n",
    "                )"
   ]
  },
  {
   "cell_type": "code",
   "execution_count": null,
   "id": "ed339d0b",
   "metadata": {},
   "outputs": [],
   "source": [
    "sc.pl.draw_graph(adata,\n",
    "                 color=\"C_scANVI\", frameon=False,\n",
    "                 save='_developmental_msdifffa.svg'\n",
    "                )\n",
    "#plt.savefig(os.path.join(FIGURES_FOLDERNAME, '20pcw_tendonfibro_msdiff_graph.png'), format='png')\n",
    "# Image(filename=os.path.join(FIGURES_FOLDERNAME,'msdiff_graph.png'))"
   ]
  },
  {
   "cell_type": "code",
   "execution_count": null,
   "id": "de4ee03f",
   "metadata": {},
   "outputs": [],
   "source": [
    "sc.pl.draw_graph(adata,\n",
    "                 color=\"C_scANVI\", frameon=False,\n",
    "                 legend_loc='on data', legend_fontsize=6,\n",
    "                 #save='_developmental_msdifffa.svg'\n",
    "                )"
   ]
  },
  {
   "cell_type": "code",
   "execution_count": null,
   "id": "d67f5b8a",
   "metadata": {},
   "outputs": [],
   "source": [
    "adata.write(os.path.join(RESULTS_FOLDERNAME, 'developmental_harmony.h5ad'))"
   ]
  },
  {
   "cell_type": "markdown",
   "id": "cad6a408",
   "metadata": {},
   "source": [
    "# Palantir Pseudotime"
   ]
  },
  {
   "cell_type": "code",
   "execution_count": null,
   "id": "59f9d1ca",
   "metadata": {},
   "outputs": [],
   "source": [
    "adata = sc.read_h5ad(os.path.join(RESULTS_FOLDERNAME, 'developmental_harmony.h5ad'))"
   ]
  },
  {
   "cell_type": "code",
   "execution_count": null,
   "id": "ac2621e7",
   "metadata": {},
   "outputs": [],
   "source": [
    "ms_data = pd.DataFrame(adata.obsm['X_msdiff'], index=adata.obs_names)\n",
    "ms_data"
   ]
  },
  {
   "cell_type": "code",
   "execution_count": null,
   "id": "93b90b16",
   "metadata": {},
   "outputs": [],
   "source": [
    "sc.pl.embedding(adata, basis='msdiff', color=['MKI67', 'DIAPH2', 'TOP2A', 'CENPK', 'CENPP', 'C_scANVI'], \n",
    "                components=[\"1, 2\"], ncols=3)"
   ]
  },
  {
   "cell_type": "code",
   "execution_count": null,
   "id": "9e9270f8",
   "metadata": {},
   "outputs": [],
   "source": [
    "sc.pl.embedding(adata, basis='msdiff', color=['FGF14', 'SCX', 'MKX', 'KERA', 'TNMD', 'FMOD', 'EGR1', 'ABI3BP', 'ageint'], \n",
    "                components=[\"1, 2\"], ncols=3)"
   ]
  },
  {
   "cell_type": "code",
   "execution_count": null,
   "id": "8348bcd4",
   "metadata": {},
   "outputs": [],
   "source": [
    "adata.var_names_make_unique()\n",
    "adata.obs_names_make_unique()"
   ]
  },
  {
   "cell_type": "code",
   "execution_count": null,
   "id": "1c76fa7b",
   "metadata": {},
   "outputs": [],
   "source": [
    "adata.X = adata.layers['log1p_norm'].copy()"
   ]
  },
  {
   "cell_type": "code",
   "execution_count": null,
   "id": "1ae318c1",
   "metadata": {},
   "outputs": [],
   "source": [
    "adata.raw = adata.copy()"
   ]
  },
  {
   "cell_type": "code",
   "execution_count": null,
   "id": "094b44f6",
   "metadata": {},
   "outputs": [],
   "source": [
    "print(adata.raw.X[0:10, 0:10])"
   ]
  },
  {
   "cell_type": "code",
   "execution_count": null,
   "id": "910e897b",
   "metadata": {},
   "outputs": [],
   "source": [
    "import numpy as np\n",
    "\n",
    "# Find the cell index with the highest expression of the NRK gene - find double expression with MKI67 and CENPP and SCX/MKX/TNMD\n",
    "max_expression_cell_index = np.argmin(adata[:, 'FGF14'].X) + np.argmin(adata[:, 'SCX'].X) + np.argmin(adata[:, 'TNMD'].X)\n",
    "cell_id_with_highest_expression = adata.obs_names[max_expression_cell_index]\n",
    "print(\"Cell ID with highest gene expression:\", cell_id_with_highest_expression)"
   ]
  },
  {
   "cell_type": "code",
   "execution_count": null,
   "id": "5ca19288",
   "metadata": {},
   "outputs": [],
   "source": [
    "#gene_list = ['SCX', 'FGF14']\n",
    "#'CENPK', 'CENPP', 'DIAPH3'\n",
    "#adding 'NES', 'ITGB1' and markers of senescence 'CDKN1B', 'CDKN1A', 'CD34', 'CDK4'\n",
    "#sc.tl.score_genes(adata, gene_list, score_name='tnp_score', use_raw=True)\n",
    "#cell_id_with_highest_expression = adata.obs['tnp_score'].idxmax()\n",
    "#print(\"Cell ID with highest gene expression:\", cell_id_with_highest_expression)"
   ]
  },
  {
   "cell_type": "code",
   "execution_count": null,
   "id": "53df731b",
   "metadata": {},
   "outputs": [],
   "source": [
    "adata.obs['startcell'] = 0.2\n",
    "#ind = adata.obs.index[adata.obsm['X_msdiff'][:,2].argmax()]\n",
    "ind = cell_id_with_highest_expression\n",
    "adata.obs.loc[ind, 'startcell'] = 1\n",
    "print(adata.obs[adata.obs.index == ind][['C_scANVI_original', 'phase', 'age']])\n",
    "# Use sc.pl.embedding to visualize with color_column\n",
    "sc.pl.embedding(adata, basis='msdiff', \n",
    "                color='startcell', \n",
    "                components=[\"1,2\"],\n",
    "                cmap='Greys', vmin=0, s=50)"
   ]
  },
  {
   "cell_type": "code",
   "execution_count": null,
   "id": "b97ee9f7",
   "metadata": {},
   "outputs": [],
   "source": [
    "sc.pl.embedding(adata, basis='draw_graph_fa', color=['startcell', 'phase', 'C_scANVI_original'],\n",
    "                cmap='Greys', vmin=0, s=20)"
   ]
  },
  {
   "cell_type": "code",
   "execution_count": null,
   "id": "cab12cf1",
   "metadata": {},
   "outputs": [],
   "source": [
    "sc.pl.embedding(adata, basis='umap', color=['startcell', 'phase', 'C_scANVI_original'],\n",
    "                cmap='Greys', vmin=0, s=20)"
   ]
  },
  {
   "cell_type": "code",
   "execution_count": null,
   "id": "43012453",
   "metadata": {},
   "outputs": [],
   "source": [
    "sc.pp.neighbors(adata,n_neighbors=30,use_rep=\"X_msdiff\")\n",
    "adata.obsm[\"X_pca2d\"]=adata.obsm[\"X_pca\"][:,:2]\n",
    "sc.tl.draw_graph(adata,init_pos='X_pca2d')"
   ]
  },
  {
   "cell_type": "code",
   "execution_count": null,
   "id": "3b7c1aca",
   "metadata": {},
   "outputs": [],
   "source": [
    "sc.pl.draw_graph(adata,color=\"SCX\",color_map=\"RdBu_r\")"
   ]
  },
  {
   "cell_type": "code",
   "execution_count": null,
   "id": "e38f965d",
   "metadata": {},
   "outputs": [],
   "source": [
    "sc.pl.embedding(adata, basis='draw_graph_fa', color=['startcell', 'phase', 'C_scANVI_original'],\n",
    "                cmap='Greys', vmin=0, s=20)"
   ]
  },
  {
   "cell_type": "code",
   "execution_count": null,
   "id": "e547fcff",
   "metadata": {},
   "outputs": [],
   "source": [
    "pr_res = palantir.core.run_palantir(data=ms_data, early_cell=ind, \n",
    "                           knn=100, use_early_cell_as_start=True, \n",
    "                           n_jobs=10, num_waypoints=2000)"
   ]
  },
  {
   "cell_type": "code",
   "execution_count": null,
   "id": "05d67fa5",
   "metadata": {},
   "outputs": [],
   "source": [
    "palantir.plot.plot_palantir_results(adata, pr_res, s=3, embedding_basis='X_umap')\n",
    "plt.show()"
   ]
  },
  {
   "cell_type": "code",
   "execution_count": null,
   "id": "eda4c9cf",
   "metadata": {},
   "outputs": [],
   "source": [
    "palantir.plot.plot_palantir_results(adata, pr_res, s=3, embedding_basis='X_draw_graph_fa')\n",
    "plt.show()"
   ]
  },
  {
   "cell_type": "code",
   "execution_count": null,
   "id": "d37c6d88",
   "metadata": {},
   "outputs": [],
   "source": [
    "adata.obs['palantir_pseudotime'] = pr_res.pseudotime\n",
    "adata.obs['palantir_entropy'] = pr_res.entropy\n",
    "adata.uns['palantir_waypoints'] = pr_res.waypoints.values\n",
    "adata.obsm['palantir_fate_probabilities'] = pr_res.branch_probs"
   ]
  },
  {
   "cell_type": "code",
   "execution_count": null,
   "id": "c4bd48d7",
   "metadata": {},
   "outputs": [],
   "source": [
    "adata"
   ]
  },
  {
   "cell_type": "code",
   "execution_count": null,
   "id": "858e9982",
   "metadata": {},
   "outputs": [],
   "source": [
    "del adata.obs['outlier'], adata.obs['startcell'], adata.obs['mt_outlier']"
   ]
  },
  {
   "cell_type": "code",
   "execution_count": null,
   "id": "34dccbe3",
   "metadata": {},
   "outputs": [],
   "source": [
    "adata.write(os.path.join(RESULTS_FOLDERNAME, 'dev_palantir.h5ad'))"
   ]
  },
  {
   "cell_type": "code",
   "execution_count": null,
   "id": "44bd3db1",
   "metadata": {},
   "outputs": [],
   "source": [
    "adata=sc.read_h5ad(os.path.join(RESULTS_FOLDERNAME, 'allages_tendonfibro2.h5ad'))"
   ]
  },
  {
   "cell_type": "code",
   "execution_count": null,
   "id": "4c422101",
   "metadata": {},
   "outputs": [],
   "source": [
    "sc.tl.leiden(adata, resolution=0.2, key_added='fibro_leiden02')\n",
    "sc.pl.umap(adata, color=['fibro_leiden02'], frameon=False)"
   ]
  },
  {
   "cell_type": "code",
   "execution_count": null,
   "id": "0e4d6bf4",
   "metadata": {},
   "outputs": [],
   "source": [
    "adata.obsp"
   ]
  },
  {
   "cell_type": "code",
   "execution_count": null,
   "id": "018a5e07",
   "metadata": {},
   "outputs": [],
   "source": [
    "dm_res = palantir.utils.run_diffusion_maps(adata.obsm[\"X_aug_aff\"], knn=80)\n",
    "#dm_res = palantir.utils.run_diffusion_maps(pd.DataFrame(adata.obsm[\"X_scANVI\"],index=adata.obs_names),knn=100)"
   ]
  },
  {
   "cell_type": "code",
   "execution_count": null,
   "id": "03b82871",
   "metadata": {},
   "outputs": [],
   "source": [
    "adata.X"
   ]
  },
  {
   "cell_type": "code",
   "execution_count": null,
   "id": "06a35b67",
   "metadata": {},
   "outputs": [],
   "source": [
    "dm_res"
   ]
  },
  {
   "cell_type": "code",
   "execution_count": null,
   "id": "f1a98e5b",
   "metadata": {},
   "outputs": [],
   "source": [
    "imp_df = palantir.utils.run_magic_imputation(adata, dm_res=dm_res)"
   ]
  },
  {
   "cell_type": "code",
   "execution_count": null,
   "id": "aa797edd",
   "metadata": {},
   "outputs": [],
   "source": [
    "masks = palantir.presults.select_branch_cells(adata, eps=0)"
   ]
  },
  {
   "cell_type": "code",
   "execution_count": null,
   "id": "66d5ffbf",
   "metadata": {
    "scrolled": false
   },
   "outputs": [],
   "source": [
    "palantir.plot.plot_branch_selection(adata)\n",
    "plt.show()"
   ]
  },
  {
   "cell_type": "code",
   "execution_count": null,
   "id": "5e84b6a8",
   "metadata": {},
   "outputs": [],
   "source": [
    "adata.var_names_make_unique()\n",
    "sc.pl.violin(\n",
    "    adata,\n",
    "    keys=[\"palantir_pseudotime\"],\n",
    "    groupby=\"C_scANVI\",\n",
    "    rotation=-90,\n",
    ")"
   ]
  },
  {
   "cell_type": "code",
   "execution_count": null,
   "id": "790227a9",
   "metadata": {},
   "outputs": [],
   "source": [
    "#del adata.varm\n",
    "adata.write(os.path.join(RESULTS_FOLDERNAME, 'allages_tendonfibro.h5ad'))"
   ]
  }
 ],
 "metadata": {
  "kernelspec": {
   "display_name": "Python [conda env:seacells_env]",
   "language": "python",
   "name": "conda-env-seacells_env-py"
  },
  "language_info": {
   "codemirror_mode": {
    "name": "ipython",
    "version": 3
   },
   "file_extension": ".py",
   "mimetype": "text/x-python",
   "name": "python",
   "nbconvert_exporter": "python",
   "pygments_lexer": "ipython3",
   "version": "3.8.16"
  }
 },
 "nbformat": 4,
 "nbformat_minor": 5
}
