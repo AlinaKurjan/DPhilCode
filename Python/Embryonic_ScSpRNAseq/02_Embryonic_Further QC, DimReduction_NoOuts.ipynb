{
 "cells": [
  {
   "cell_type": "markdown",
   "id": "ce23ee6e",
   "metadata": {},
   "source": [
    "# Run with scib-pipeline-R4.0 conda environment"
   ]
  },
  {
   "cell_type": "code",
   "execution_count": null,
   "id": "c6c81cf4",
   "metadata": {},
   "outputs": [],
   "source": [
    "# Import dependencies\n",
    "%matplotlib inline\n",
    "import os\n",
    "import numpy as np\n",
    "import pandas as pd\n",
    "import scanpy as sc\n",
    "import seaborn as sns\n",
    "import scib\n",
    "import anndata\n",
    "\n",
    "import matplotlib.pyplot as plt\n",
    "from typing import List\n",
    "\n",
    "# Print date and time:\n",
    "import datetime\n",
    "e = datetime.datetime.now()\n",
    "print (\"Current date and time = %s\" % e)\n",
    "\n",
    "# set a working directory\n",
    "wdir = \"/ceph/project/tendonhca/akurjan/analysis/\"\n",
    "os.chdir( wdir )\n",
    "\n",
    "# folder structures\n",
    "QC_FOLDERNAME = \"foetal/results/SingleCellQC/\"\n",
    "RESULTS_FOLDERNAME = \"foetal/results/Embryo Normalisation/\"\n",
    "FIGURES_FOLDERNAME = \"foetal/figures/Embryo Normalisation/\"\n",
    "\n",
    "if not os.path.exists(RESULTS_FOLDERNAME):\n",
    "    os.makedirs(RESULTS_FOLDERNAME)\n",
    "if not os.path.exists(FIGURES_FOLDERNAME):\n",
    "    os.makedirs(FIGURES_FOLDERNAME)\n",
    "\n",
    "\n",
    "# Set folder for saving figures into\n",
    "sc.settings.figdir = FIGURES_FOLDERNAME\n",
    "\n",
    "# Set other settings\n",
    "sc.settings.verbosity = 3 # verbosity: errors (0), warnings (1), info (2), hints (3)\n",
    "sc.logging.print_versions()\n",
    "sc.set_figure_params(dpi=150, fontsize=10, dpi_save=600)"
   ]
  },
  {
   "cell_type": "code",
   "execution_count": null,
   "id": "685a3861",
   "metadata": {},
   "outputs": [],
   "source": [
    "def savesvg(fname: str, fig, folder: str=FIGURES_FOLDERNAME) -> None:\n",
    "    \"\"\"\n",
    "    Save figure as vector-based SVG image format.\n",
    "    \"\"\"\n",
    "    fig.savefig(os.path.join(folder, fname), format='svg')"
   ]
  },
  {
   "cell_type": "markdown",
   "id": "b0acc6ae",
   "metadata": {},
   "source": [
    "# DIMENSIONALITY REDUCTION"
   ]
  },
  {
   "cell_type": "code",
   "execution_count": null,
   "id": "f6abef56",
   "metadata": {},
   "outputs": [],
   "source": [
    "adata = sc.read_h5ad(os.path.join(QC_FOLDERNAME, 'sc_adata_concat_mfiltered.h5ad'))\n",
    "adata"
   ]
  },
  {
   "cell_type": "code",
   "execution_count": null,
   "id": "63af22c3",
   "metadata": {},
   "outputs": [],
   "source": [
    "del adata.layers['ambiguous']\n",
    "del adata.layers['matrix']"
   ]
  },
  {
   "cell_type": "code",
   "execution_count": null,
   "id": "e50b03c0",
   "metadata": {},
   "outputs": [],
   "source": [
    "print(adata.X[1:5, 1:5])"
   ]
  },
  {
   "cell_type": "code",
   "execution_count": null,
   "id": "18ae65ea",
   "metadata": {},
   "outputs": [],
   "source": [
    "print(adata.layers['log1p_norm'][1:5, 1:5])"
   ]
  },
  {
   "cell_type": "code",
   "execution_count": null,
   "id": "a861df6f",
   "metadata": {},
   "outputs": [],
   "source": [
    "adata.X = adata.layers['log1p_norm'].copy()"
   ]
  },
  {
   "cell_type": "markdown",
   "id": "5707b848",
   "metadata": {},
   "source": [
    "# Batch-aware Feature Selection"
   ]
  },
  {
   "cell_type": "markdown",
   "id": "2d674831",
   "metadata": {},
   "source": [
    "### scIB:\n",
    "Batch-aware highly variable gene selection\n",
    "\n",
    "Method to select HVGs based on mean dispersions of genes that are highly variable genes in all batches. Using a the top target_genes per batch by average normalize dispersion. If target genes still hasn’t been reached, then HVGs in all but one batches are used to fill up. This is continued until HVGs in a single batch are considered.\n",
    "\n",
    "Parameters:\n",
    "- adata – anndata object\n",
    "- batch – adata.obs column\n",
    "- target_genes – maximum number of genes (intersection reduces the number of genes)\n",
    "- flavor – parameter for scanpy.pp.highly_variable_genes\n",
    "- n_bins – parameter for scanpy.pp.highly_variable_genes\n",
    "- adataOut – whether to return an anndata object or a list of highly variable genes"
   ]
  },
  {
   "cell_type": "code",
   "execution_count": null,
   "id": "fad1b27a",
   "metadata": {},
   "outputs": [],
   "source": [
    "scib.preprocessing.hvg_batch(adata, \n",
    "                             batch_key=\"samplename\",\n",
    "                             target_genes=3000, \n",
    "                             flavor='cell_ranger', \n",
    "                             n_bins=20, \n",
    "                             adataOut=True\n",
    "                            )\n",
    "\n",
    "sc.pl.highly_variable_genes(adata)"
   ]
  },
  {
   "cell_type": "code",
   "execution_count": null,
   "id": "2d300afc",
   "metadata": {},
   "outputs": [],
   "source": [
    "n_batches = adata.var[\"highly_variable_nbatches\"].value_counts()\n",
    "ax = n_batches.plot(kind=\"bar\")\n",
    "n_batches"
   ]
  },
  {
   "cell_type": "code",
   "execution_count": null,
   "id": "85ab2e34",
   "metadata": {},
   "outputs": [],
   "source": [
    "# check that variables are unique:\n",
    "assert len(adata.var_names) == len(set(adata.var_names))"
   ]
  },
  {
   "cell_type": "code",
   "execution_count": null,
   "id": "f5554958",
   "metadata": {},
   "outputs": [],
   "source": [
    "def split_and_scale(anndata_obj: anndata.AnnData, obs_var: str) -> anndata.AnnData:\n",
    "    \"\"\"\n",
    "    Splits anndata object into separate objects based on the given observation variable, scales each object using\n",
    "    `sc.pp.scale` and merges them back together using `anndata.concat`.\n",
    "\n",
    "    Parameters:\n",
    "    -----------\n",
    "    anndata_obj: anndata.AnnData\n",
    "        Annotated data matrix with normalized, log-transformed counts.\n",
    "    obs_var: str\n",
    "        Observation variable to split the data on.\n",
    "    \"\"\"\n",
    "    \n",
    "    # Check if anndata.X is log-transformed and normalised\n",
    "    if np.min(anndata_obj.X) >= 1:\n",
    "        raise ValueError(\"Anndata object X is not log-transformed.\")\n",
    "    if np.max(anndata_obj.X) > 10:\n",
    "        raise ValueError(\"Anndata object X is not normalised.\")\n",
    "    \n",
    "    # First, make a copy of the input anndata object\n",
    "    anndata_copy = anndata_obj.copy()\n",
    "    \n",
    "    # Split the data by the provided observation variable\n",
    "    groups = anndata_copy.obs[obs_var].unique()\n",
    "    split_data = [anndata_copy[anndata_copy.obs[obs_var] == group] for group in groups]\n",
    "    \n",
    "    # Scale each split data object using `sc.pp.scale`\n",
    "    for i, data in enumerate(split_data):\n",
    "        sc.pp.scale(data)\n",
    "        split_data[i] = data\n",
    "        \n",
    "    # Merge the split data back together using `anndata.concat`\n",
    "    merged_data = anndata.concat(split_data, join='outer', index_unique=None)\n",
    "    \n",
    "    del anndata_copy\n",
    "    del split_data\n",
    "    del groups\n",
    "    \n",
    "    return merged_data"
   ]
  },
  {
   "cell_type": "code",
   "execution_count": null,
   "id": "69a7ad56",
   "metadata": {},
   "outputs": [],
   "source": [
    "scaled_adata = split_and_scale(adata, 'samplename')\n",
    "scaled_adata\n",
    "print(scaled_adata.X[1:10,1:10])"
   ]
  },
  {
   "cell_type": "code",
   "execution_count": null,
   "id": "03a5a514",
   "metadata": {},
   "outputs": [],
   "source": [
    "adata.layers['scaled'] = scaled_adata.X.copy()\n",
    "adata"
   ]
  },
  {
   "cell_type": "code",
   "execution_count": null,
   "id": "939096a3",
   "metadata": {},
   "outputs": [],
   "source": [
    "del scaled_adata"
   ]
  },
  {
   "cell_type": "code",
   "execution_count": null,
   "id": "5633dd45",
   "metadata": {},
   "outputs": [],
   "source": [
    "adata.obsm[\"X_pca\"] = sc.pp.pca(adata[:,adata.var.highly_variable].layers[\"scaled\"], n_comps=50, svd_solver=\"arpack\")"
   ]
  },
  {
   "cell_type": "code",
   "execution_count": null,
   "id": "2b70934a",
   "metadata": {},
   "outputs": [],
   "source": [
    "adata.var"
   ]
  },
  {
   "cell_type": "code",
   "execution_count": null,
   "id": "6e20a3a3",
   "metadata": {},
   "outputs": [],
   "source": [
    "annot = sc.queries.biomart_annotations(\n",
    "    \"hsapiens\",\n",
    "    [\"ensembl_gene_id\", \"external_gene_name\", \"start_position\", \"end_position\", \"chromosome_name\"],\n",
    ").set_index(\"ensembl_gene_id\")\n",
    "\n",
    "adata.var[annot.columns] = annot\n",
    "\n",
    "adata.var.rename(columns={\"external_gene_name\": \"Gene\"}, inplace=True)\n",
    "adata.var['ensembl_gene_id'] = adata.var.index\n",
    "adata.var['Gene'] = adata.var['Gene'].fillna(adata.var['ensembl_gene_id'])\n",
    "adata.obs.index.name = 'CellID'\n",
    "adata.var.index = adata.var[\"Gene\"]\n",
    "adata.var_names_make_unique()\n",
    "adata.var"
   ]
  },
  {
   "cell_type": "code",
   "execution_count": null,
   "id": "95824b96",
   "metadata": {},
   "outputs": [],
   "source": [
    "# mitochondrial genes\n",
    "adata.var[\"mt\"] = adata.var_names.str.startswith(\"MT-\")\n",
    "# ribosomal genes\n",
    "adata.var[\"ribo\"] = adata.var_names.str.startswith((\"RPS\", \"RPL\"))\n",
    "# hemoglobin genes.\n",
    "# adata.var[\"hb\"] = adata.var_names.str.contains((\"^HB[^(P)]\"))\n",
    "\n",
    "# sc.pp.calculate_qc_metrics(adata, qc_vars=[\"mt\", \"ribo\", \"hb\"], inplace=True, percent_top=[20], log1p=False)"
   ]
  },
  {
   "cell_type": "code",
   "execution_count": null,
   "id": "5569cd7b",
   "metadata": {},
   "outputs": [],
   "source": [
    "# Filter out mitochondrial and ribosomal genes\n",
    "print(f\"Before filtering: {adata.n_vars} genes\")\n",
    "mt_genes = adata.var_names[adata.var['mt']]  # list of mitochondrial genes\n",
    "ribo_genes = adata.var_names[adata.var['ribo']]  # list of ribosomal genes\n",
    "malat1 = adata.var_names.str.startswith('MALAT1')\n",
    "genes_to_remove = np.concatenate([mt_genes, ribo_genes, malat1])\n",
    "adata = adata[:, ~adata.var_names.isin(genes_to_remove)]\n",
    "print(f\"After filtering: {adata.n_vars} genes\")\n",
    "\n",
    "# Calculate n_counts and n_genes\n",
    "adata.obs['n_counts'] = adata.X.sum(axis=1)\n",
    "adata.obs['n_genes'] = (adata.X > 0).sum(axis=1)"
   ]
  },
  {
   "cell_type": "markdown",
   "id": "3dd52d76",
   "metadata": {},
   "source": [
    "## SAMPLE SEX DETERMINATION"
   ]
  },
  {
   "cell_type": "code",
   "execution_count": null,
   "id": "680d0aaf",
   "metadata": {},
   "outputs": [],
   "source": [
    "# check if there is XIST expression\n",
    "if any(adata.var_names.str.match('XIST')) == True:\n",
    "    chrY_genes = adata.var_names.intersection(annot.index[annot.chromosome_name == \"Y\"])\n",
    "\n",
    "    adata.obs['percent_chrY'] = np.sum(\n",
    "        adata[:, chrY_genes].X, axis=1).A1 / np.sum(adata.X, axis=1).A1 * 100\n",
    "\n",
    "    # color inputs must be from either .obs or .var, so add in XIST expression to obs.\n",
    "    adata.obs[\"XIST-counts\"] = adata.X[:,adata.var_names.str.match('XIST')].toarray()\n",
    "\n",
    "    sc.pl.violin(adata, [\"XIST-counts\", \"percent_chrY\"], jitter=0.4, groupby = 'samplename', rotation= 90, save='_XIST.svg')\n",
    "else:\n",
    "    pass"
   ]
  },
  {
   "cell_type": "code",
   "execution_count": null,
   "id": "50d22e93",
   "metadata": {},
   "outputs": [],
   "source": [
    "# Calculate median XIST-counts and percent_chrY values for each sample\n",
    "sample_medians = adata.obs.groupby('samplename')['XIST-counts', 'percent_chrY'].median()\n",
    "\n",
    "# Define female and male criteria based on median XIST-counts and percent_chrY\n",
    "female_criteria = (sample_medians['XIST-counts'] > 0.1)\n",
    "male_criteria = (sample_medians['XIST-counts'] < 0.1)\n",
    "\n",
    "# Create a new categorical variable 'sex'\n",
    "adata.obs['sex'] = 'unknown'\n",
    "\n",
    "# Update 'sex' based on the female and male criteria\n",
    "for sample in sample_medians.index:\n",
    "    if female_criteria[sample]:\n",
    "        adata.obs.loc[adata.obs['samplename'] == sample, 'sex'] = 'female'\n",
    "    elif male_criteria[sample]:\n",
    "        adata.obs.loc[adata.obs['samplename'] == sample, 'sex'] = 'male'\n",
    "\n",
    "# Print the names of female and male samples\n",
    "female_samples = adata.obs.loc[adata.obs['sex'] == 'female', 'samplename'].unique()\n",
    "male_samples = adata.obs.loc[adata.obs['sex'] == 'male', 'samplename'].unique()\n",
    "\n",
    "print(f\"Female samples: {', '.join(female_samples)}\")\n",
    "print(f\"Male samples: {', '.join(male_samples)}\")"
   ]
  },
  {
   "cell_type": "code",
   "execution_count": null,
   "id": "f22e5902",
   "metadata": {},
   "outputs": [],
   "source": [
    "adata.obs[['sex', 'samplename']].value_counts()"
   ]
  },
  {
   "cell_type": "markdown",
   "id": "1ee6e5c1",
   "metadata": {},
   "source": [
    "## CELL CYCLE PHASE DETERMINATION"
   ]
  },
  {
   "cell_type": "code",
   "execution_count": null,
   "id": "3808a62f",
   "metadata": {},
   "outputs": [],
   "source": [
    "# Count number of genes before removing zero count genes\n",
    "print(adata.shape[1])\n",
    "# Remove genes with zero counts\n",
    "sc.pp.filter_genes(adata, min_counts=5, inplace=True)\n",
    "sc.pp.filter_cells(adata, min_genes=200)\n",
    "# Count number of genes after removing zero count genes\n",
    "print(adata.shape[1])"
   ]
  },
  {
   "cell_type": "code",
   "execution_count": null,
   "id": "7413c5d3",
   "metadata": {},
   "outputs": [],
   "source": [
    "adata.raw = adata.copy()"
   ]
  },
  {
   "cell_type": "code",
   "execution_count": null,
   "id": "d295d0a0",
   "metadata": {},
   "outputs": [],
   "source": [
    "#adata.obs['libbatch'] = adata.obs['libbatch'].astype('category')\n",
    "adata.obs['samplename'] = adata.obs['samplename'].astype('category')\n",
    "\n",
    "scib.preprocessing.score_cell_cycle(adata, organism='human')\n",
    "sc.pl.violin(adata, ['S_score', 'G2M_score'],\n",
    "             jitter=0.4, groupby = 'samplename', rotation=90, \n",
    "             save='_cell_cycle.svg'\n",
    "            )"
   ]
  },
  {
   "cell_type": "code",
   "execution_count": null,
   "id": "817effd7",
   "metadata": {},
   "outputs": [],
   "source": [
    "def plot_pca(anndata, parameters: list, components: list, filename: str):\n",
    "    n_plots = len(parameters)\n",
    "    fig, axs = plt.subplots(n_plots, 1, figsize=(4, 5*n_plots))\n",
    "    for i, param in enumerate(parameters):\n",
    "        sc.pl.pca(anndata, color=param, ax=axs[i], show=False, components = components)\n",
    "        axs[i].set_title(param)\n",
    "    plt.tight_layout()\n",
    "    savesvg(filename, fig)\n",
    "    plt.show()"
   ]
  },
  {
   "cell_type": "code",
   "execution_count": null,
   "id": "b230bc74",
   "metadata": {
    "scrolled": false
   },
   "outputs": [],
   "source": [
    "plot_pca(adata, ['samplename', 'Clusters', 'sample_stage', 'norm_sample_stage', 'hospital_id', 'phase', 'sex', 'kit', 'seq_protocol'], \n",
    "         components = ['1,2'], filename = 'PC1vs2_plots.svg')"
   ]
  },
  {
   "cell_type": "code",
   "execution_count": null,
   "id": "58a622ba",
   "metadata": {
    "scrolled": true
   },
   "outputs": [],
   "source": [
    "plot_pca(adata, ['samplename', 'Clusters', 'sample_stage', 'norm_sample_stage', 'hospital_id', 'phase', 'sex', 'kit', 'seq_protocol'], \n",
    "         components = ['3,4'], filename='PC3vs4_plots.svg')"
   ]
  },
  {
   "cell_type": "code",
   "execution_count": null,
   "id": "25311f89",
   "metadata": {},
   "outputs": [],
   "source": [
    "adata = sc.read_h5ad(os.path.join(RESULTS_FOLDERNAME, 'sc_normalized_adata.h5ad'))\n",
    "adata"
   ]
  },
  {
   "cell_type": "code",
   "execution_count": null,
   "id": "91c638e0",
   "metadata": {},
   "outputs": [],
   "source": [
    "sc.pp.neighbors(adata, n_neighbors=30, n_pcs=15)\n",
    "sc.tl.umap(adata)"
   ]
  },
  {
   "cell_type": "code",
   "execution_count": null,
   "id": "a99440a4",
   "metadata": {},
   "outputs": [],
   "source": [
    "def plot_umaps(anndata, parameters: list, filename: str):\n",
    "    n_plots = len(parameters)\n",
    "    fig, axs = plt.subplots(n_plots, 1, figsize=(9, 5*n_plots))\n",
    "    for i, param in enumerate(parameters):\n",
    "        sc.pl.umap(anndata, color=param, ax=axs[i], show=False, frameon=False)\n",
    "        axs[i].set_title(param)\n",
    "    plt.tight_layout()\n",
    "    savesvg(filename, fig)\n",
    "    plt.show()"
   ]
  },
  {
   "cell_type": "code",
   "execution_count": null,
   "id": "fd0d618c",
   "metadata": {
    "scrolled": true
   },
   "outputs": [],
   "source": [
    "plot_umaps(adata, ['samplename', 'Clusters', 'sample_stage', 'norm_sample_stage', 'hospital_id', 'phase', 'sex', 'kit', 'seq_protocol'], \n",
    "          filename = 'UMAP_plots.svg')"
   ]
  },
  {
   "cell_type": "code",
   "execution_count": null,
   "id": "395924dc",
   "metadata": {},
   "outputs": [],
   "source": [
    "def plot_umaps2(anndata, parameters: list, filename: str):\n",
    "    n_plots = len(parameters)\n",
    "    fig, axs = plt.subplots(n_plots, 1, figsize=(4, 10))\n",
    "    for i, param in enumerate(parameters):\n",
    "        sc.pl.umap(anndata, color=param, ax=axs[i], show=False, frameon=False)\n",
    "        axs[i].set_title(param)\n",
    "    plt.tight_layout()\n",
    "    savesvg(filename, fig)\n",
    "    plt.show()"
   ]
  },
  {
   "cell_type": "code",
   "execution_count": null,
   "id": "1a22704a",
   "metadata": {
    "scrolled": true
   },
   "outputs": [],
   "source": [
    "plot_umaps2(adata, [\"n_counts\", \"n_genes\", \"pct_counts_mt\"], \n",
    "            filename = 'UMAPparameter_plots.svg')"
   ]
  },
  {
   "cell_type": "code",
   "execution_count": null,
   "id": "1494719b",
   "metadata": {},
   "outputs": [],
   "source": [
    "adata.var_names_make_unique()"
   ]
  },
  {
   "cell_type": "code",
   "execution_count": null,
   "id": "5f05c7b9",
   "metadata": {},
   "outputs": [],
   "source": [
    "# check if MALAT1 gene is in the gene list\n",
    "if 'MALAT1' in adata.var_names:\n",
    "    # create a list of genes to keep\n",
    "    gene_list = adata.var_names != 'MALAT1'\n",
    "    # slice the anndata object to select all genes except for MALAT1\n",
    "    adata = adata[:, gene_list]\n",
    "\n",
    "print(f\"After MALAT1 filtering: {adata.n_vars} genes\")"
   ]
  },
  {
   "cell_type": "code",
   "execution_count": null,
   "id": "87ac2536",
   "metadata": {},
   "outputs": [],
   "source": [
    "adata.write(os.path.join(RESULTS_FOLDERNAME, 'sc_normalized_adata.h5ad'))"
   ]
  }
 ],
 "metadata": {
  "kernelspec": {
   "display_name": "Python [conda env:scib-pipeline-R4.0]",
   "language": "python",
   "name": "conda-env-scib-pipeline-R4.0-py"
  },
  "language_info": {
   "codemirror_mode": {
    "name": "ipython",
    "version": 3
   },
   "file_extension": ".py",
   "mimetype": "text/x-python",
   "name": "python",
   "nbconvert_exporter": "python",
   "pygments_lexer": "ipython3",
   "version": "3.7.12"
  }
 },
 "nbformat": 4,
 "nbformat_minor": 5
}
