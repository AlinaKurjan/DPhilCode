{
 "cells": [
  {
   "cell_type": "markdown",
   "id": "941879dd-e065-4e2f-b9ef-13555456afe0",
   "metadata": {},
   "source": [
    "## Sample Integration"
   ]
  },
  {
   "cell_type": "code",
   "execution_count": null,
   "id": "22d941f5-c4bb-4bc2-a902-9dcd3f4d084f",
   "metadata": {
    "scrolled": false
   },
   "outputs": [],
   "source": [
    "import os\n",
    "import pandas as pd\n",
    "import numpy as np\n",
    "import scanpy as sc\n",
    "import matplotlib.pyplot as plt\n",
    "import seaborn as sns\n",
    "import anndata\n",
    "\n",
    "# pyscenic env:\n",
    "#import loompy\n",
    "#import colorcet as cc\n",
    "import scvi\n",
    "\n",
    "# Initialize random seed\n",
    "import random\n",
    "random.seed(111)\n",
    "\n",
    "# set a working directory\n",
    "#wdir = \"/ceph/project/tendonhca/akurjan/analysis/\"\n",
    "wdir = \"/mnt/da8aa2c4-0136-465b-87a2-d12a59afec55/akurjan/analysis/notebooks/embryonic ScAndSp/\"\n",
    "os.chdir( wdir )\n",
    "\n",
    "# folder structures\n",
    "NORM_FOLDERNAME = \"Normalisation/results/\"\n",
    "RESULTS_FOLDERNAME = \"scVI/results/\"\n",
    "FIGURES_FOLDERNAME = \"scVI/figures/\"\n",
    "\n",
    "if not os.path.exists(RESULTS_FOLDERNAME):\n",
    "    os.makedirs(RESULTS_FOLDERNAME)\n",
    "if not os.path.exists(FIGURES_FOLDERNAME):\n",
    "    os.makedirs(FIGURES_FOLDERNAME)\n",
    "\n",
    "def savesvg(fname: str, fig, folder: str=FIGURES_FOLDERNAME) -> None:\n",
    "    \"\"\"\n",
    "    Save figure as vector-based SVG image format.\n",
    "    \"\"\"\n",
    "    fig.tight_layout()\n",
    "    fig.savefig(os.path.join(folder, fname), format='svg')    \n",
    "    \n",
    "# Set folder for saving figures into\n",
    "sc.settings.figdir = FIGURES_FOLDERNAME\n",
    "\n",
    "# Print date and time:\n",
    "import datetime\n",
    "e = datetime.datetime.now()\n",
    "print (\"Current date and time = %s\" % e)\n",
    "\n",
    "# Set other settings\n",
    "sc.settings.verbosity = 3 # verbosity: errors (0), warnings (1), info (2), hints (3)\n",
    "sc.logging.print_versions()\n",
    "sc.set_figure_params(dpi=150, fontsize=10, dpi_save=600)"
   ]
  },
  {
   "cell_type": "code",
   "execution_count": null,
   "id": "c4d403cd",
   "metadata": {},
   "outputs": [],
   "source": [
    "def plot_umaps(anndata, parameters: list, filename: str):\n",
    "    n_plots = len(parameters)\n",
    "    fig, axs = plt.subplots(n_plots, 1, figsize=(8, 4*n_plots))\n",
    "    for i, param in enumerate(parameters):\n",
    "        sc.pl.umap(anndata, color=param, ax=axs[i], show=False, frameon=False, s=50)\n",
    "        axs[i].set_title(param)\n",
    "    plt.tight_layout()\n",
    "    savesvg(filename, fig)\n",
    "    plt.show()"
   ]
  },
  {
   "cell_type": "markdown",
   "id": "bcdc4d61",
   "metadata": {},
   "source": [
    "# EMBRYONIC DATA PREP"
   ]
  },
  {
   "cell_type": "code",
   "execution_count": null,
   "id": "df23adce-6701-41d7-87d2-139f60e4b776",
   "metadata": {},
   "outputs": [],
   "source": [
    "adata = sc.read_h5ad(os.path.join(NORM_FOLDERNAME, 'sc_normalized_adata.h5ad'))\n",
    "adata"
   ]
  },
  {
   "cell_type": "code",
   "execution_count": null,
   "id": "d22b67f3",
   "metadata": {
    "scrolled": false
   },
   "outputs": [],
   "source": [
    "plot_umaps(adata, ['hospital_id', 'norm_sample_stage', 'samplename', 'kit', 'seq_protocol', 'sex'], \n",
    "           filename = 'sc_UMAP_plots_full_unintegrated.svg')"
   ]
  },
  {
   "cell_type": "code",
   "execution_count": null,
   "id": "2a8a171b",
   "metadata": {},
   "outputs": [],
   "source": [
    "def convert_uint_to_int_single(adata):\n",
    "    \"\"\"\n",
    "    Convert uint32 and uint64 dtypes in anndata object to int32 and int64 dtypes,\n",
    "    respectively. Prints a message for each conversion.\n",
    "    \"\"\"\n",
    "    # Check var and obs dtypes\n",
    "    for dtype in ['var', 'obs']:\n",
    "        dtype_data = getattr(adata, dtype)\n",
    "        if isinstance(dtype_data, np.ndarray):\n",
    "            # If dtype_data is a structured array, convert each field individually\n",
    "            for field in dtype_data.dtype.names:\n",
    "                if dtype_data[field].dtype == 'uint32':\n",
    "                    dtype_data[field] = dtype_data[field].astype('float32')\n",
    "                    print(f\"Converted {dtype}.{field} from uint32 to float32.\")\n",
    "                elif dtype_data[field].dtype == 'uint64':\n",
    "                    dtype_data[field] = dtype_data[field].astype('float64')\n",
    "                    print(f\"Converted {dtype}.{field} from uint64 to float64.\")\n",
    "        elif isinstance(dtype_data, pd.DataFrame):\n",
    "            # If dtype_data is a DataFrame, convert each column individually\n",
    "            for col in dtype_data.columns:\n",
    "                if dtype_data[col].dtype == 'uint32':\n",
    "                    dtype_data[col] = dtype_data[col].astype('float32')\n",
    "                    print(f\"Converted {dtype}.{col} from uint32 to float32.\")\n",
    "                elif dtype_data[col].dtype == 'uint64':\n",
    "                    dtype_data[col] = dtype_data[col].astype('float64')\n",
    "                    print(f\"Converted {dtype}.{col} from uint64 to float64.\")\n",
    "                \n",
    "    # Update X and layers dtypes\n",
    "    if adata.X.dtype == 'uint32':\n",
    "        adata.X = adata.X.astype('int32')\n",
    "        print(\"Converted X from uint32 to int32.\")\n",
    "    elif adata.X.dtype == 'uint64':\n",
    "        adata.X = adata.X.astype('int64')\n",
    "        print(\"Converted X from uint64 to int64.\")\n",
    "    for layer_key, layer_val in adata.layers.items():\n",
    "        if layer_val.dtype == 'uint32':\n",
    "            adata.layers[layer_key] = layer_val.astype('int32')\n",
    "            print(f\"Converted layer {layer_key} from uint32 to int32.\")\n",
    "        elif layer_val.dtype == 'uint64':\n",
    "            adata.layers[layer_key] = layer_val.astype('int64')\n",
    "            print(f\"Converted layer {layer_key} from uint64 to int64.\")"
   ]
  },
  {
   "cell_type": "code",
   "execution_count": null,
   "id": "c135ef0c",
   "metadata": {},
   "outputs": [],
   "source": [
    "convert_uint_to_int_single(adata)"
   ]
  },
  {
   "cell_type": "code",
   "execution_count": null,
   "id": "7f4445e2",
   "metadata": {},
   "outputs": [],
   "source": [
    "adata.X = adata.layers[\"counts\"].copy()\n",
    "print(adata.X[1:5,1:5])"
   ]
  },
  {
   "cell_type": "code",
   "execution_count": null,
   "id": "c5746714",
   "metadata": {},
   "outputs": [],
   "source": [
    "del adata.raw"
   ]
  },
  {
   "cell_type": "code",
   "execution_count": null,
   "id": "85c96bd6",
   "metadata": {},
   "outputs": [],
   "source": [
    "adata.obs['norm_sample_stage'].value_counts()"
   ]
  },
  {
   "cell_type": "code",
   "execution_count": null,
   "id": "cc1cd14c",
   "metadata": {},
   "outputs": [],
   "source": [
    "sc.pp.filter_genes(adata, min_cells=20)"
   ]
  },
  {
   "cell_type": "code",
   "execution_count": null,
   "id": "ca82b40a",
   "metadata": {},
   "outputs": [],
   "source": [
    "adata.var_names = adata.var_names.astype('str')\n",
    "adata.var_names_make_unique()"
   ]
  },
  {
   "cell_type": "code",
   "execution_count": null,
   "id": "28c09888",
   "metadata": {},
   "outputs": [],
   "source": [
    "adata.obs['samplename'].cat.categories"
   ]
  },
  {
   "cell_type": "markdown",
   "id": "326134af",
   "metadata": {},
   "source": [
    "# Hyperparameter Tuning"
   ]
  },
  {
   "cell_type": "code",
   "execution_count": null,
   "id": "8fb3ffca",
   "metadata": {},
   "outputs": [],
   "source": [
    "import ray\n",
    "import hyperopt\n",
    "from ray import tune\n",
    "from scvi import autotune\n",
    "\n",
    "model_cls = scvi.model.SCVI\n",
    "model_cls.setup_anndata(adata)\n",
    "\n",
    "scvi_tuner = autotune.ModelTuner(model_cls)\n",
    "scvi_tuner.info()"
   ]
  },
  {
   "cell_type": "code",
   "execution_count": null,
   "id": "a702c725",
   "metadata": {},
   "outputs": [],
   "source": [
    "\n",
    "search_space = {\n",
    "    \"n_latent\": tune.choice([10, 14, 6]),\n",
    "    \"n_hidden\": tune.choice([256, 128]),\n",
    "    \"n_layers\": tune.choice([1, 2, 3]),\n",
    "    \"gene_likelihood\": tune.choice(['zinb', 'nb'])\n",
    "}"
   ]
  },
  {
   "cell_type": "code",
   "execution_count": null,
   "id": "08503159",
   "metadata": {},
   "outputs": [],
   "source": [
    "ray.init(log_to_driver=False)"
   ]
  },
  {
   "cell_type": "code",
   "execution_count": null,
   "id": "d611b547",
   "metadata": {},
   "outputs": [],
   "source": [
    "results = scvi_tuner.fit(\n",
    "    adata,\n",
    "    metric=\"validation_loss\",\n",
    "    search_space=search_space,\n",
    "    searcher='hyperopt',\n",
    "    num_samples=20,\n",
    "    max_epochs=150,\n",
    "    resources={\"cpu\": 20, \"gpu\": 1},\n",
    ")"
   ]
  },
  {
   "cell_type": "code",
   "execution_count": null,
   "id": "85b4412d",
   "metadata": {},
   "outputs": [],
   "source": [
    "print(results.model_kwargs)\n",
    "print(results.train_kwargs)"
   ]
  },
  {
   "cell_type": "code",
   "execution_count": null,
   "id": "bbb56554",
   "metadata": {},
   "outputs": [],
   "source": [
    "ray.shutdown()"
   ]
  },
  {
   "cell_type": "markdown",
   "id": "64d0ff5c-ce0e-4a07-9ef2-fbb2d9af9bbb",
   "metadata": {},
   "source": [
    "# Integration with scVI\n",
    "As a first step, we assume that the data is completely unlabelled and we wish to find common axes of variation between the two datasets. There are many methods available in scanpy for this purpose (BBKNN, Scanorama, etc.). In this notebook we present scVI. To run scVI, we simply need to:\n",
    "\n",
    "1) Register the AnnData object with the correct key to identify the sample and the layer key with the count data.\n",
    "2) Create an SCVI model object."
   ]
  },
  {
   "cell_type": "code",
   "execution_count": null,
   "id": "a9f36a73-2acf-4877-b322-6be1abda34ed",
   "metadata": {},
   "outputs": [],
   "source": [
    "scvi.model.SCVI.setup_anndata(adata, #adata_hvg\n",
    "                              layer=\"counts\", \n",
    "                              #batch_key=,\n",
    "                              categorical_covariate_keys=[\"samplename\", \"kit\", \"seq_protocol\", \"sex\"], \n",
    "                              )"
   ]
  },
  {
   "cell_type": "markdown",
   "id": "c3561ab4-5f4f-4b86-9f4f-f2e7ea70fdce",
   "metadata": {},
   "source": [
    "#### scVI (single-cell Variational Inference)\n",
    "*scVI* is a hierarchical Bayesian model for single-cell RNA sequencing data with conditional distributions parametrized by neural networks. Working as a hybrid between a neural network and a bayesian network, scVI performs data harmonization. VAE refers to variational auto-encoders for single-cell gene expression data. scVI is similar to VAE as it tries to bring a more suitable structure to the latent space. While VAE allows users to make observations in a semi-supervised fashion, scVI is easier to train and specific cell-type labels for the dataset are not required in the pure unsupervised case.\n",
    "\n",
    "Define the scVI model\n",
    "First, we define the model and its hyperparameters:\n",
    "\n",
    "n_hidden: number of units in the hidden layer = 128\n",
    "n_latent: number of dimensions in the shared latent space = 10 (how many dimensions in z)\n",
    "n_layers: number of layers in the neural network\n",
    "dispersion: ‘gene’: each gene has its own dispersion parameter; ‘gene-batch’: each gene in each batch has its own dispersion parameter\n",
    "\n"
   ]
  },
  {
   "cell_type": "code",
   "execution_count": null,
   "id": "7ee08214-058e-4857-b51f-2482c3b67029",
   "metadata": {},
   "outputs": [],
   "source": [
    "vae = scvi.model.SCVI(adata, n_hidden = 256, n_latent=14, n_layers=3, dropout_rate=0.1, dispersion=\"gene-batch\", gene_likelihood='nb')\n",
    "vae"
   ]
  },
  {
   "cell_type": "code",
   "execution_count": null,
   "id": "9aa20023-98a0-4b0f-b74b-170809ae6a7c",
   "metadata": {},
   "outputs": [],
   "source": [
    "vae.view_anndata_setup(adata)"
   ]
  },
  {
   "cell_type": "markdown",
   "id": "de697e34-fca7-4c22-990b-3d83e78ba140",
   "metadata": {},
   "source": [
    "Then, we define a trainer using the model and the dataset to train it with\n",
    "in the unsupervised setting, train_size=1.0 and all cells are used for training"
   ]
  },
  {
   "cell_type": "code",
   "execution_count": null,
   "id": "f6705ee3-6f9b-4216-872d-592c50809832",
   "metadata": {},
   "outputs": [],
   "source": [
    "%%time\n",
    "vae.train(max_epochs = 400, train_size = 0.9, validation_size = 0.1, \n",
    "          use_gpu=True, accelerator='gpu', \n",
    "          check_val_every_n_epoch=1,\n",
    "          early_stopping=True,\n",
    "          early_stopping_patience=20,\n",
    "          early_stopping_monitor=\"elbo_validation\"\n",
    "         )"
   ]
  },
  {
   "cell_type": "code",
   "execution_count": null,
   "id": "6d3e8c80",
   "metadata": {},
   "outputs": [],
   "source": [
    "# Ensure convergence\n",
    "train_test_results = vae.history[\"elbo_train\"]\n",
    "train_test_results[\"elbo_validation\"] = vae.history[\"elbo_validation\"]\n",
    "train_test_results.iloc[10:].plot(logy=True)  # exclude first 10 epochs\n",
    "plt.show()"
   ]
  },
  {
   "cell_type": "code",
   "execution_count": null,
   "id": "6e0c164c-bae4-48a2-b98e-690addb3034c",
   "metadata": {},
   "outputs": [],
   "source": [
    "vae.save(os.path.join(RESULTS_FOLDERNAME, \"EmbryonicFullscVI_SamplenameKitSeqprotSex/\"), overwrite=True)"
   ]
  },
  {
   "cell_type": "markdown",
   "id": "13f507ed-d24f-4548-be50-5681259b5893",
   "metadata": {},
   "source": [
    "Once the training is done, we can evaluate the latent representation of each cell in the dataset and add it to the AnnData object"
   ]
  },
  {
   "cell_type": "code",
   "execution_count": null,
   "id": "26df8f4f",
   "metadata": {},
   "outputs": [],
   "source": [
    "vae = scvi.model.SCVI.load(os.path.join(RESULTS_FOLDERNAME, \"EmbryonicFullscVI_SamplenameKitSeqprotSex/\"), \n",
    "                           use_gpu=True, adata=adata)\n",
    "vae"
   ]
  },
  {
   "cell_type": "code",
   "execution_count": null,
   "id": "481b0f40-6f04-4ce5-a1e7-f56bc62b8e06",
   "metadata": {},
   "outputs": [],
   "source": [
    "adata.obsm[\"X_scVI\"] = vae.get_latent_representation()"
   ]
  },
  {
   "cell_type": "markdown",
   "id": "408ba12b-c7f4-41a7-9cc7-75eeae1c25ae",
   "metadata": {},
   "source": [
    "Now, we use the scVI latent space to generate the same UMAP plots to see if scVI successfully accounts for batch effects in the data."
   ]
  },
  {
   "cell_type": "code",
   "execution_count": null,
   "id": "fbaa13f7-42e4-4890-9539-dbffd6031c7e",
   "metadata": {},
   "outputs": [],
   "source": [
    "# use scVI latent space for UMAP generation\n",
    "sc.pp.neighbors(adata, use_rep=\"X_scVI\", metric='correlation')\n",
    "sc.tl.umap(adata)"
   ]
  },
  {
   "cell_type": "code",
   "execution_count": null,
   "id": "ada78b1c",
   "metadata": {
    "scrolled": false
   },
   "outputs": [],
   "source": [
    "plot_umaps(adata, ['hospital_id', 'norm_sample_stage', 'samplename', 'kit', 'seq_protocol', 'sex'], \n",
    "           filename = 'sc_UMAP_plots_scVIfull_samplecorrected.svg')"
   ]
  },
  {
   "cell_type": "code",
   "execution_count": null,
   "id": "de7c14b6",
   "metadata": {},
   "outputs": [],
   "source": [
    "adata.write(os.path.join(RESULTS_FOLDERNAME, 'sc_scVI.h5ad'))"
   ]
  },
  {
   "cell_type": "markdown",
   "id": "1f98e52e",
   "metadata": {},
   "source": [
    "# FINDING NEm-... TENDON"
   ]
  },
  {
   "cell_type": "code",
   "execution_count": null,
   "id": "7996c99f",
   "metadata": {},
   "outputs": [],
   "source": [
    "# Taken from the Supplementary Table 1 from Teichmann Group's human embryonic limb paper.\n",
    "teichmann_markers_dict = {\n",
    "    'Proximal Mesenchyme (ProxMes)': ['MEIS2', 'WT1'],\n",
    "    'Mesenchyme 1 (Mes1)': ['MEIS2'],\n",
    "    'Mesenchyme 2 (Mes2)': ['KLF2'],\n",
    "    'Mesenchyme 3 (Mes3)': ['CITED1'],\n",
    "    'Mesenchyme 4 (Mes4)': ['PRAC1'],\n",
    "    'ISL1+Mesenchyme (ISL1+Mes)': ['ISL1'],\n",
    "    'Transitional Mesenchyme (TransMes)': ['IRX1', 'IRX2'],\n",
    "    'RDH10+ Distal Mesenchyme (RDH10+DistalMes)': ['RDH10'],\n",
    "    'Distal Mesenchyme (DistalMes)': ['MSX1', 'LHX2'],\n",
    "    'Mesencondensation cells (MesCond)': ['PAX9'],\n",
    "    'Osteochondral progenitor (OCP)': ['PRRX1'],\n",
    "    'InterZone': ['GDF5'],\n",
    "    'Chondrogenic Progenitor (ChondroProg)': ['SOX9', 'WWP2'],\n",
    "    'Resting Chondrocyte (RestingChon)': ['UCMA'],\n",
    "    'Proliferating Chondrocyte (ProlifChon)': ['SOX9', 'COL2A1', 'G2/M/S cell cycle phase'],\n",
    "    'Prehypertrophic Chondrocyte (PrehyperChon)': ['IHH'],\n",
    "    'Hypertrophic Chondrocyte (HyperChon)': ['COL10A1'],\n",
    "    'Perichondrium (PeriChon)': ['THBS2'],\n",
    "    'Osteoblast (OsteoB)': ['RUNX2', 'SP7'],\n",
    "    'Articular Chondrocyte (ArtiChon)': ['PRG4'],\n",
    "    'Tendon Progenitor (TenoProg)': ['SCX'],\n",
    "    'Tenocyte (Teno)': ['TNMD'],\n",
    "    'Perimysium': ['GCG'],\n",
    "    'PAX3+ Myogenic Progenitor (PAX3+MyoProg)': ['PAX3'],\n",
    "    'PAX7+ Myogenic Progenitor (PAX7+MyoProg)': ['PAX7'],\n",
    "    'Myoblast (MyoB1/MyoB2)': ['MYOD1'],\n",
    "    'Myocyte (MyoC1/MyoC2)': ['MYOG'],\n",
    "    'MYH3+ Myocyte (MYH3+MyoC)': ['MYH3'],\n",
    "    'MYL3+ Myocyte (MYL3+MyoC)': ['MYL3'],\n",
    "    'Intermediate Muscular Fibroblast (InterMusFibro)': ['ALDH1A3', 'MYH3'],\n",
    "    'ADH+ Fibroblast (ADH+Fibro)': ['ADH1B', 'ALDH1A3'],\n",
    "    'STMN2+ Fibroblast (STMN2+Fibro)': ['STMN2'],\n",
    "    'MFAP5+ Fibroblast (MFAP5+Fibro)': ['MFAP5'],\n",
    "    'HOXC5+ Dermal Fibroblast Progenitor (HOXC5+DermFibroProg)': ['HOXC5'],\n",
    "    'F10+ Dermal Fibroblast Progenitor (F10+DermFibroProg)': ['F10'],\n",
    "    'Dermal Fibroblast (DermFibro)': ['TWIST2'],\n",
    "    'Smooth Muscle Progenitor (SMProg)': ['IGFBP7'],\n",
    "    'Smooth Muscle (SMC)': ['PLN', 'ACTA2'],\n",
    "    'Pericyte': ['KCNJ8'],\n",
    "    'Neural Fibroblast (NeuralFibro)': ['FOXS1', 'PI16'],\n",
    "    'Neuronal': ['SST'],\n",
    "    'Schwann Progenitor (SchwannProg)': ['MPZ'],\n",
    "    'Schwann': ['MPZ', 'MBP'],\n",
    "    'Synaptic Schwann (SynapSchwann)': ['COL20A1'],\n",
    "    'Melanocyte (Melano)': ['MLANA'],\n",
    "    'Periderm': ['KRT4'],\n",
    "    'Basal': ['GJB6'],\n",
    "    'Apical Ectodermal Ridge Basal (AER-Basal)': ['FGF8'],\n",
    "    'Arterial Endothelial (ArterialEndo)': ['PRND'],\n",
    "    'Venous Endothelial (VenousEndo)': ['PLVAP'],\n",
    "    'Lymphoendothelial (LymphEndo)': ['CCL21'],\n",
    "    'LMPP/ELP (Lymphoid-primed multipotent progenitor/Early lymphoid progenitors)': ['IL7R'],\n",
    "    'GMPs (Common Myeloid Progenitors/Granulocyte-monocyte Progenitors)': ['PRTN3'],\n",
    "    'Natural Killer (NK)': ['KLRC1'],\n",
    "    'B Cells (CD79B)': ['CD79B'],\n",
    "    'Myelocyte': ['CAMP'],\n",
    "    'DC2 (Dendritic Cell 2)': ['CLEC10A'],\n",
    "    'Monocyte': ['S100A12'],\n",
    "    'Macrophage (Macro)': ['C1QA'],\n",
    "    'Mast': ['TPSB2'],\n",
    "    'Megakaryocyte (Megakaryo)': ['CLEC1B'],\n",
    "    'Definite Erythrocyte (DefErythro)': ['HBB'],\n",
    "    'Definite Reticulocyte (DefReticulo)': ['TSPO2'],\n",
    "    'Primitive Erythrocyte 1 (PrimErythro1)': ['UCA1'],\n",
    "    'Primitive Erythrocyte 2 (PrimErythro2)': ['HBE1'],\n",
    "}"
   ]
  },
  {
   "cell_type": "code",
   "execution_count": null,
   "id": "dbf2a0df",
   "metadata": {},
   "outputs": [],
   "source": [
    "all_genes_in_adata = set(adata.var_names)\n",
    "\n",
    "for cell_type, genes in teichmann_markers_dict.items():\n",
    "    filtered_genes = [gene for gene in genes if gene in all_genes_in_adata]\n",
    "    teichmann_markers_dict[cell_type] = filtered_genes\n",
    "print(teichmann_markers_dict)"
   ]
  },
  {
   "cell_type": "code",
   "execution_count": null,
   "id": "af4ce38d",
   "metadata": {},
   "outputs": [],
   "source": [
    "#sc.tl.leiden(adata, resolution = 0.4, key_added = 'leiden_04scvi')\n",
    "#sc.tl.leiden(adata, resolution = 0.6, key_added = 'leiden_06scvi')\n",
    "sc.tl.leiden(adata, resolution = 0.8, key_added = 'leiden_08scvi')\n",
    "sc.pl.umap(adata, color=[#\"leiden_04scvi\", \"leiden_06scvi\", \n",
    "    \"leiden_08scvi\"], legend_loc=\"on data\", frameon=False)"
   ]
  },
  {
   "cell_type": "code",
   "execution_count": null,
   "id": "b6cbeae6",
   "metadata": {},
   "outputs": [],
   "source": [
    "sc.pl.dotplot(adata, teichmann_markers_dict, 'leiden_08scvi',\n",
    "              use_raw=False, layer=\"log1p_norm\", \n",
    "              vmax=3, vmin=0, \n",
    "             #cmap='RdBu_r',\n",
    "              #key='wilcoxon_05scvi',\n",
    "              #save='topDEGs05scvi_norm.svg'\n",
    "             )"
   ]
  },
  {
   "cell_type": "code",
   "execution_count": null,
   "id": "cebbde3e",
   "metadata": {},
   "outputs": [],
   "source": [
    "sc.pl.umap(adata, color=['SCX', 'MKX', 'TNMD', 'KERA', 'FMOD'], \n",
    "           frameon=False,\n",
    "           layer='log1p_norm',\n",
    "           vmin=0,\n",
    "           vmax=\"p99\",\n",
    "           sort_order=False,\n",
    "           cmap=\"Reds\",\n",
    "           save='_embryonicfull_tenocyte.svg')"
   ]
  },
  {
   "cell_type": "markdown",
   "id": "4f20b35a",
   "metadata": {},
   "source": [
    "# TENDON REFERENCE ANNOTATION FROM SPATIAL DATA"
   ]
  },
  {
   "cell_type": "code",
   "execution_count": null,
   "id": "b2a2d309",
   "metadata": {},
   "outputs": [],
   "source": [
    "adata=sc.read_h5ad(os.path.join(RESULTS_FOLDERNAME, 'sc_scVI.h5ad'))\n",
    "adata.var_names = adata.var_names.astype('str')\n",
    "adata.var_names_make_unique()\n",
    "#adata.obs.index = adata.obs['samplename'].astype('str') + '_' + adata.obs['barcode'].astype('str') + '-1'\n",
    "print(adata.X[0:5,0:5])"
   ]
  },
  {
   "cell_type": "code",
   "execution_count": null,
   "id": "2454f9b1",
   "metadata": {},
   "outputs": [],
   "source": [
    "adata.X = adata.layers['counts'].copy()\n",
    "sc.pp.normalize_total(adata, inplace=True, target_sum=None)\n",
    "sc.pp.log1p(adata)\n",
    "adata.layers['normcounts'] = adata.X.copy()\n",
    "print(adata.X[0:5,0:5])"
   ]
  },
  {
   "cell_type": "code",
   "execution_count": null,
   "id": "d5cffb93",
   "metadata": {},
   "outputs": [],
   "source": [
    "adata.var"
   ]
  },
  {
   "cell_type": "code",
   "execution_count": null,
   "id": "f7d24abe",
   "metadata": {},
   "outputs": [],
   "source": [
    "adata.var.index = adata.var['ensembl_gene_id']"
   ]
  },
  {
   "cell_type": "code",
   "execution_count": null,
   "id": "73666dc7",
   "metadata": {},
   "outputs": [],
   "source": [
    "SPATIAL_FOLDERNAME = 'Spatial/results/'\n",
    "tendonref = sc.read_h5ad(os.path.join(SPATIAL_FOLDERNAME, 'trainingset.h5ad'))\n",
    "tendonref"
   ]
  },
  {
   "cell_type": "code",
   "execution_count": null,
   "id": "c859ea23",
   "metadata": {},
   "outputs": [],
   "source": [
    "print(tendonref.X[0:5,0:5])"
   ]
  },
  {
   "cell_type": "code",
   "execution_count": null,
   "id": "7a31b96f",
   "metadata": {},
   "outputs": [],
   "source": [
    "tendonref.layers['counts'] = tendonref.X.copy()\n",
    "sc.pp.normalize_total(tendonref, inplace=True)\n",
    "sc.pp.log1p(tendonref)\n",
    "tendonref.layers['normcounts'] = tendonref.X.copy()"
   ]
  },
  {
   "cell_type": "code",
   "execution_count": null,
   "id": "1d5373d6",
   "metadata": {},
   "outputs": [],
   "source": [
    "print(tendonref.X[0:5,0:5])"
   ]
  },
  {
   "cell_type": "code",
   "execution_count": null,
   "id": "44383195",
   "metadata": {},
   "outputs": [],
   "source": [
    "tendonref.var"
   ]
  },
  {
   "cell_type": "code",
   "execution_count": null,
   "id": "2f6f77a5",
   "metadata": {},
   "outputs": [],
   "source": [
    "# Need to harmonise genes\n",
    "#training set: tendonref\n",
    "#testing set: adata\n",
    "\n",
    "concatenated = sc.concat((tendonref, adata))\n",
    "concatenated"
   ]
  },
  {
   "cell_type": "code",
   "execution_count": null,
   "id": "3a65c74d",
   "metadata": {},
   "outputs": [],
   "source": [
    "sc.pp.highly_variable_genes(concatenated, flavor=\"cell_ranger\", n_top_genes=2500, subset=True)"
   ]
  },
  {
   "cell_type": "code",
   "execution_count": null,
   "id": "687c2e7e",
   "metadata": {},
   "outputs": [],
   "source": [
    "#del adata.obsm['_scvi_extra_categorical_covs']"
   ]
  },
  {
   "cell_type": "code",
   "execution_count": null,
   "id": "1a0b8574",
   "metadata": {},
   "outputs": [],
   "source": [
    "var_names = concatenated.var_names\n",
    "test = adata[:, var_names].copy()\n",
    "train = tendonref[:, var_names]"
   ]
  },
  {
   "cell_type": "code",
   "execution_count": null,
   "id": "72733c26",
   "metadata": {},
   "outputs": [],
   "source": [
    "test"
   ]
  },
  {
   "cell_type": "code",
   "execution_count": null,
   "id": "8a046671",
   "metadata": {},
   "outputs": [],
   "source": [
    "train.obs['Tendon'].value_counts()"
   ]
  },
  {
   "cell_type": "code",
   "execution_count": null,
   "id": "242cd537",
   "metadata": {},
   "outputs": [],
   "source": [
    "from sklearn.ensemble import RandomForestClassifier\n",
    "from sklearn import metrics\n",
    "import random\n",
    "\n",
    "#training set: tendonref\n",
    "#testing set: adata\n",
    "\n",
    "def label_train(x):\n",
    "    if x == 'patellar tendon' or x == 'quadriceps tendon':\n",
    "        return 1\n",
    "    else:\n",
    "        return 0\n",
    "    \n",
    "y = train.obs.Tendon.map(label_train)\n",
    "sel = RandomForestClassifier(n_estimators=1000, random_state=666) \n",
    "#500 and 50 gives 3115\n",
    "#1000 and 666 gives 3562 - chosen\n",
    "#3000 and 666 gives 3395\n",
    "#3000 and 3 gives 3462\n",
    "sel.fit(train.X, y)"
   ]
  },
  {
   "cell_type": "code",
   "execution_count": null,
   "id": "db34ae67",
   "metadata": {},
   "outputs": [],
   "source": [
    "predictions = sel.predict(test.X)\n",
    "np.sum(predictions == 1)"
   ]
  },
  {
   "cell_type": "code",
   "execution_count": null,
   "id": "9b17ecc4",
   "metadata": {},
   "outputs": [],
   "source": [
    "test.obs['predictions'] = predictions\n",
    "sc.pl.umap(test, color=['predictions'], frameon=False,\n",
    "           layer='normcounts',\n",
    "           vmin=0,\n",
    "           vmax=\"p99\",\n",
    "           sort_order=False,\n",
    "           cmap=\"Reds\",\n",
    "           #save='embryonic_tendon_predictions.svg'\n",
    "          )"
   ]
  },
  {
   "cell_type": "code",
   "execution_count": null,
   "id": "33c413b1",
   "metadata": {},
   "outputs": [],
   "source": [
    "test.write(os.path.join(RESULTS_FOLDERNAME, 'predictions.h5ad'))"
   ]
  },
  {
   "cell_type": "code",
   "execution_count": null,
   "id": "4e0f2bbf",
   "metadata": {},
   "outputs": [],
   "source": [
    "del concatenated"
   ]
  },
  {
   "cell_type": "code",
   "execution_count": null,
   "id": "a48391f4",
   "metadata": {},
   "outputs": [],
   "source": [
    "adata.obs['predictions'] = 0\n",
    "adata.obs['predictions'] = predictions"
   ]
  },
  {
   "cell_type": "code",
   "execution_count": null,
   "id": "6201e113",
   "metadata": {},
   "outputs": [],
   "source": [
    "adata.obs['predictions'].value_counts()"
   ]
  },
  {
   "cell_type": "code",
   "execution_count": null,
   "id": "43092f66",
   "metadata": {},
   "outputs": [],
   "source": [
    "adata.var.index = adata.var['Gene']"
   ]
  },
  {
   "cell_type": "code",
   "execution_count": null,
   "id": "e30b6382",
   "metadata": {},
   "outputs": [],
   "source": [
    "del adata.obs['predictionsn']"
   ]
  },
  {
   "cell_type": "code",
   "execution_count": null,
   "id": "ae24236b",
   "metadata": {},
   "outputs": [],
   "source": [
    "adata.obs['predictionsn'] = adata.obs['predictions'].astype('str').astype('category').replace('1', 'Tendon')\n",
    "adata.obs['predictionsn'] = adata.obs['predictionsn'].replace('0', 'Not Tendon')\n",
    "adata.obs['predictionsn'].value_counts()"
   ]
  },
  {
   "cell_type": "code",
   "execution_count": null,
   "id": "794cd964",
   "metadata": {},
   "outputs": [],
   "source": [
    "sc.pl.umap(adata, \n",
    "           color=['SCX', 'MKX', 'TNMD', 'KERA', 'FMOD', 'THBS2', 'THBS4', 'EGR1', \n",
    "                  'ABI3BP', 'GAS2', 'COL3A1', 'COL1A1', 'COL6A6', 'FGF14', 'SOX9', 'predictions'\n",
    "                 ], \n",
    "           layer='normcounts',\n",
    "           vmin=0,\n",
    "           vmax=\"p99\",\n",
    "           sort_order=False,\n",
    "           frameon=False,\n",
    "           cmap=\"Purples\",\n",
    "           save = '_embryonicfull_tenocyte_predictions.png'\n",
    "          )"
   ]
  },
  {
   "cell_type": "code",
   "execution_count": null,
   "id": "83af41d7",
   "metadata": {},
   "outputs": [],
   "source": [
    "adata.write(os.path.join(RESULTS_FOLDERNAME, 'sc_scVI.h5ad'))"
   ]
  },
  {
   "cell_type": "code",
   "execution_count": null,
   "id": "cfe37c02",
   "metadata": {},
   "outputs": [],
   "source": [
    "adata.var.index = adata.var['ensembl_gene_id']"
   ]
  },
  {
   "cell_type": "code",
   "execution_count": null,
   "id": "d4ed2733",
   "metadata": {},
   "outputs": [],
   "source": [
    "sc.tl.score_genes(adata, gene_list=tendonref.var_names, ctrl_size=len(tendonref.var_names), score_name='tendon_sp_score',\n",
    "                  random_state=10)"
   ]
  },
  {
   "cell_type": "code",
   "execution_count": null,
   "id": "7d14505e",
   "metadata": {},
   "outputs": [],
   "source": [
    "# Plot the distribution\n",
    "plt.figure(figsize=(10, 6))\n",
    "sns.histplot(adata.obs['tendon_sp_score'], bins=50, kde=True, color='skyblue')\n",
    "plt.title('Distribution of Tendon Sp Score')\n",
    "plt.xlabel('Tendon Sp Score')\n",
    "plt.ylabel('Frequency')\n",
    "plt.show()"
   ]
  },
  {
   "cell_type": "code",
   "execution_count": null,
   "id": "eafef5f2",
   "metadata": {},
   "outputs": [],
   "source": [
    "sc.pl.umap(adata, color=['tendon_sp_score'], \n",
    "           frameon=False,\n",
    "           vmax=0.225,vmin=0.1,vcenter=0.17,\n",
    "           sort_order=False,\n",
    "           cmap=\"bwr\")"
   ]
  },
  {
   "cell_type": "markdown",
   "id": "e60838d3",
   "metadata": {},
   "source": [
    "# SUBSETTING"
   ]
  },
  {
   "cell_type": "code",
   "execution_count": null,
   "id": "a7a9c3c0",
   "metadata": {},
   "outputs": [],
   "source": [
    "adata = sc.read_h5ad(os.path.join(RESULTS_FOLDERNAME, 'sc_scVI.h5ad'))\n",
    "adata"
   ]
  },
  {
   "cell_type": "code",
   "execution_count": null,
   "id": "ca620124",
   "metadata": {},
   "outputs": [],
   "source": [
    "adata.var_names = adata.var_names.astype('str')\n",
    "adata.var_names_make_unique()"
   ]
  },
  {
   "cell_type": "code",
   "execution_count": null,
   "id": "5d3b6fe9",
   "metadata": {},
   "outputs": [],
   "source": [
    "adata.uns['log1p']['base'] = None\n",
    "adata.obs['predictions'] = adata.obs['predictions'].astype(\"category\")\n",
    "sc.tl.rank_genes_groups(adata, groupby='predictions', method='wilcoxon', key_added='wilcoxon_pred', \n",
    "                        use_raw=False, layer='log1p_norm')\n",
    "sc.pl.rank_genes_groups(adata, n_genes=25, sharey=False, key='wilcoxon_pred')"
   ]
  },
  {
   "cell_type": "code",
   "execution_count": null,
   "id": "aca80a2f",
   "metadata": {},
   "outputs": [],
   "source": [
    "adata = adata[adata.obs['predictions']==1, :].copy()\n",
    "adata"
   ]
  },
  {
   "cell_type": "code",
   "execution_count": null,
   "id": "c71f7cf0",
   "metadata": {},
   "outputs": [],
   "source": [
    "# List of batch effect columns to check\n",
    "columns_to_check = [\"samplename\", \"kit\", \"seq_protocol\", \"sex\"]\n",
    "\n",
    "# Threshold for minimum number of cells in each batch category\n",
    "threshold = 20\n",
    "mask = pd.Series(True, index=adata.obs.index)\n",
    "\n",
    "for column in columns_to_check:\n",
    "    value_counts = adata.obs[column].value_counts()\n",
    "    categories_to_exclude = value_counts[value_counts < threshold].index\n",
    "    mask &= ~adata.obs[column].isin(categories_to_exclude)\n",
    "adata = adata[mask]\n",
    "adata"
   ]
  },
  {
   "cell_type": "code",
   "execution_count": null,
   "id": "eb4f0cb8",
   "metadata": {},
   "outputs": [],
   "source": [
    "del adata.raw"
   ]
  },
  {
   "cell_type": "code",
   "execution_count": null,
   "id": "1e8644f9",
   "metadata": {},
   "outputs": [],
   "source": [
    "adata.X = adata.layers['counts'].copy()\n",
    "print(adata.X[0:5,0:5])"
   ]
  },
  {
   "cell_type": "code",
   "execution_count": null,
   "id": "5a291c88",
   "metadata": {},
   "outputs": [],
   "source": [
    "print(adata.layers['normcounts'][0:5,0:5])"
   ]
  },
  {
   "cell_type": "code",
   "execution_count": null,
   "id": "20c084e2",
   "metadata": {},
   "outputs": [],
   "source": [
    "sc.pp.normalize_total(adata, target_sum=None, inplace=True)\n",
    "sc.pp.log1p(adata)\n",
    "adata.layers[\"log1p_norm\"] = adata.X.copy()\n",
    "print(adata.X[0:5,0:5])"
   ]
  },
  {
   "cell_type": "code",
   "execution_count": null,
   "id": "505a3222",
   "metadata": {},
   "outputs": [],
   "source": [
    "adata.layers[\"log1p_norm\"] = adata.X.copy()"
   ]
  },
  {
   "cell_type": "code",
   "execution_count": null,
   "id": "e009ce38",
   "metadata": {},
   "outputs": [],
   "source": [
    "sc.pp.filter_genes(adata, min_counts=5, inplace=True)\n",
    "sc.pp.filter_cells(adata, min_genes=200)"
   ]
  },
  {
   "cell_type": "code",
   "execution_count": null,
   "id": "03866eef",
   "metadata": {},
   "outputs": [],
   "source": [
    "adata"
   ]
  },
  {
   "cell_type": "code",
   "execution_count": null,
   "id": "50bfd984",
   "metadata": {},
   "outputs": [],
   "source": [
    "sc.pp.highly_variable_genes(adata, flavor=\"cell_ranger\", n_top_genes=2500, subset=False)"
   ]
  },
  {
   "cell_type": "code",
   "execution_count": null,
   "id": "e989b412",
   "metadata": {},
   "outputs": [],
   "source": [
    "sc.pp.scale(adata)\n",
    "adata.layers[\"scaled\"] = adata.X.copy()"
   ]
  },
  {
   "cell_type": "code",
   "execution_count": null,
   "id": "c0e70e7b",
   "metadata": {},
   "outputs": [],
   "source": [
    "adata.obsm['X_pca'] = sc.pp.pca(adata[:,adata.var.highly_variable].layers[\"scaled\"], n_comps=50, svd_solver=\"arpack\")"
   ]
  },
  {
   "cell_type": "code",
   "execution_count": null,
   "id": "c67d8f6b",
   "metadata": {},
   "outputs": [],
   "source": [
    "sc.pp.neighbors(adata, use_rep=\"X_pca\", metric='correlation')\n",
    "sc.tl.umap(adata)\n",
    "plot_umaps(adata, ['hospital_id', 'norm_sample_stage', 'samplename', 'kit', 'seq_protocol', 'sex'], \n",
    "           filename = 'sc_UMAP_plots_unintegrated_PredictedSubset.svg')"
   ]
  },
  {
   "cell_type": "code",
   "execution_count": null,
   "id": "63831be7",
   "metadata": {},
   "outputs": [],
   "source": [
    "sc.pl.umap(adata, \n",
    "           color=['SCX', 'MKX', 'TNMD', 'KERA', 'FMOD', 'THBS2', 'THBS4', 'EGR1', \n",
    "                  'ABI3BP', 'GAS2', 'COL3A1', 'COL1A1', 'COL6A6', 'FGF14', 'SOX9'], \n",
    "           layer='log1p_norm',\n",
    "           vmin=0,\n",
    "           vmax=\"p99\",\n",
    "           sort_order=False,\n",
    "           frameon=False,\n",
    "           cmap=\"Purples\",\n",
    "           save = '_embryonicSubsetUnintegrated_tenocyte.svg')"
   ]
  },
  {
   "cell_type": "code",
   "execution_count": null,
   "id": "fd7e5362",
   "metadata": {},
   "outputs": [],
   "source": [
    "adata.X = adata.layers[\"counts\"].copy()\n",
    "print(adata.X[1:5,1:5])"
   ]
  },
  {
   "cell_type": "code",
   "execution_count": null,
   "id": "eef24c3f",
   "metadata": {},
   "outputs": [],
   "source": [
    "import ray\n",
    "import hyperopt\n",
    "from ray import tune\n",
    "from scvi import autotune\n",
    "\n",
    "model_cls = scvi.model.SCVI\n",
    "model_cls.setup_anndata(adata)\n",
    "scvi_tuner = autotune.ModelTuner(model_cls)\n",
    "scvi_tuner.info()"
   ]
  },
  {
   "cell_type": "code",
   "execution_count": null,
   "id": "5bd835dc",
   "metadata": {},
   "outputs": [],
   "source": [
    "search_space = {\n",
    "    \"n_latent\": tune.choice([10, 14, 6]),\n",
    "    \"n_hidden\": tune.choice([128, 256]),\n",
    "    \"n_layers\": tune.choice([1, 3]),\n",
    "    \"gene_likelihood\": tune.choice(['nb'])\n",
    "}"
   ]
  },
  {
   "cell_type": "code",
   "execution_count": null,
   "id": "49ef8401",
   "metadata": {},
   "outputs": [],
   "source": [
    "ray.init(log_to_driver=False)"
   ]
  },
  {
   "cell_type": "code",
   "execution_count": null,
   "id": "93a2c3f4",
   "metadata": {},
   "outputs": [],
   "source": [
    "results = scvi_tuner.fit(\n",
    "    adata,\n",
    "    metric=\"validation_loss\",\n",
    "    search_space=search_space,\n",
    "    searcher='hyperopt',\n",
    "    num_samples=30,\n",
    "    max_epochs=120,\n",
    "    resources={\"cpu\": 20, \"gpu\": 1},\n",
    ")"
   ]
  },
  {
   "cell_type": "code",
   "execution_count": null,
   "id": "269cafe0",
   "metadata": {},
   "outputs": [],
   "source": [
    "print(results.model_kwargs)\n",
    "print(results.train_kwargs)"
   ]
  },
  {
   "cell_type": "code",
   "execution_count": null,
   "id": "9891b2b8",
   "metadata": {},
   "outputs": [],
   "source": [
    "ray.shutdown()"
   ]
  },
  {
   "cell_type": "code",
   "execution_count": null,
   "id": "311f0a3d",
   "metadata": {},
   "outputs": [],
   "source": [
    "scvi.model.SCVI.setup_anndata(adata, \n",
    "                              layer=\"counts\", \n",
    "                              categorical_covariate_keys=[\"samplename\", \"seq_protocol\", \"sex\"], \n",
    "                              )"
   ]
  },
  {
   "cell_type": "code",
   "execution_count": null,
   "id": "691ad2ba",
   "metadata": {},
   "outputs": [],
   "source": [
    "vae = scvi.model.SCVI(adata, n_hidden = 128, n_latent=14, n_layers=1, dropout_rate=0.1, dispersion=\"gene-batch\", \n",
    "                      gene_likelihood='nb')\n",
    "vae.view_anndata_setup(adata)"
   ]
  },
  {
   "cell_type": "code",
   "execution_count": null,
   "id": "6a81de21",
   "metadata": {},
   "outputs": [],
   "source": [
    "%%time\n",
    "vae.train(max_epochs = 400, train_size = 0.9, validation_size = 0.1, \n",
    "          use_gpu=True, accelerator='gpu', \n",
    "          check_val_every_n_epoch=1,\n",
    "          early_stopping=True,\n",
    "          early_stopping_patience=23,\n",
    "          early_stopping_monitor=\"elbo_validation\"\n",
    "         )"
   ]
  },
  {
   "cell_type": "code",
   "execution_count": null,
   "id": "e57a8f6f",
   "metadata": {},
   "outputs": [],
   "source": [
    "# Ensure convergence\n",
    "train_test_results = vae.history[\"elbo_train\"]\n",
    "train_test_results[\"elbo_validation\"] = vae.history[\"elbo_validation\"]\n",
    "train_test_results.iloc[10:].plot(logy=True)  # exclude first 10 epochs\n",
    "plt.show()"
   ]
  },
  {
   "cell_type": "code",
   "execution_count": null,
   "id": "ec06afd7",
   "metadata": {},
   "outputs": [],
   "source": [
    "adata.obsm[\"X_scVI\"] = vae.get_latent_representation()\n",
    "sc.pp.neighbors(adata, use_rep=\"X_scVI\", metric='correlation')\n",
    "sc.tl.umap(adata)"
   ]
  },
  {
   "cell_type": "code",
   "execution_count": null,
   "id": "55a55117",
   "metadata": {},
   "outputs": [],
   "source": [
    "def plot_umaps(anndata, parameters: list, filename: str):\n",
    "    n_plots = len(parameters)\n",
    "    fig, axs = plt.subplots(n_plots, 1, figsize=(8, 4*n_plots))\n",
    "    for i, param in enumerate(parameters):\n",
    "        sc.pl.umap(anndata, color=param, ax=axs[i], show=False, frameon=False, s=50)\n",
    "        axs[i].set_title(param)\n",
    "    plt.tight_layout()\n",
    "    savesvg(filename, fig)\n",
    "    plt.show()\n",
    "plot_umaps(adata, ['hospital_id', 'norm_sample_stage', 'samplename', 'kit', 'seq_protocol', 'sex'],\n",
    "           filename = 'sc_UMAP_plots_scVI_PredictedSubset.svg')"
   ]
  },
  {
   "cell_type": "code",
   "execution_count": null,
   "id": "e17fcf89",
   "metadata": {},
   "outputs": [],
   "source": [
    "vae.save(os.path.join(RESULTS_FOLDERNAME, \"EmbryonicTENDONscVI_SamplenameSeqprotSex/\"), overwrite=True)"
   ]
  },
  {
   "cell_type": "code",
   "execution_count": null,
   "id": "85c9bbba",
   "metadata": {},
   "outputs": [],
   "source": [
    "adata.write(os.path.join(RESULTS_FOLDERNAME, 'predictedsubset_scVI.h5ad'))"
   ]
  },
  {
   "cell_type": "markdown",
   "id": "3253d5a5",
   "metadata": {},
   "source": [
    "# ANNOTATION"
   ]
  },
  {
   "cell_type": "code",
   "execution_count": null,
   "id": "25dfc9fd",
   "metadata": {},
   "outputs": [],
   "source": [
    "adata = sc.read_h5ad(os.path.join(RESULTS_FOLDERNAME, 'predictedsubset_scVI.h5ad'))\n",
    "adata"
   ]
  },
  {
   "cell_type": "code",
   "execution_count": null,
   "id": "992228a8",
   "metadata": {},
   "outputs": [],
   "source": [
    "sc.pl.umap(adata, \n",
    "           color=['SCX', 'MKX', 'TNMD', 'KERA', 'FMOD', 'THBS2', 'THBS4', 'EGR1', \n",
    "                  'ABI3BP', 'GAS2', 'COL3A1', 'COL1A1', 'COL6A6', 'FGF14', 'SOX9', 'NEGR1'], \n",
    "           layer='log1p_norm',\n",
    "           vmin=0,\n",
    "           vmax=\"p99\",\n",
    "           sort_order=False,\n",
    "           frameon=False,\n",
    "           cmap=\"Purples\",\n",
    "           save = '_embryonicSubsetscVI_tenocyte.svg')"
   ]
  },
  {
   "cell_type": "code",
   "execution_count": null,
   "id": "b6b53989",
   "metadata": {},
   "outputs": [],
   "source": [
    "sc.tl.leiden(adata, resolution = 0.3, key_added = 'leiden_03scvi')\n",
    "sc.pl.umap(adata, color=[\"leiden_03scvi\"], legend_loc=\"on data\", frameon=False)"
   ]
  },
  {
   "cell_type": "code",
   "execution_count": null,
   "id": "e18860c7",
   "metadata": {},
   "outputs": [],
   "source": [
    "adata.obs['leiden_03scvi_orig'] = adata.obs['leiden_03scvi']\n",
    "adata.obs['leiden_03scvi'] = adata.obs['leiden_03scvi'].astype(\"category\")\n",
    "adata.obs['leiden_03scvi'] = np.where(\n",
    "    adata.obs['leiden_03scvi'] == '4', '1', adata.obs['leiden_03scvi']\n",
    ")\n",
    "adata.obs['leiden_03scvi'].value_counts()"
   ]
  },
  {
   "cell_type": "code",
   "execution_count": null,
   "id": "3b804c14",
   "metadata": {},
   "outputs": [],
   "source": [
    "sc.pl.umap(adata, color=[\"leiden_03scvi\"], legend_loc=\"on data\", frameon=False)"
   ]
  },
  {
   "cell_type": "code",
   "execution_count": null,
   "id": "da37c68e",
   "metadata": {},
   "outputs": [],
   "source": [
    "#adata.uns['log1p']['base']=None\n",
    "sc.tl.rank_genes_groups(adata, groupby='leiden_03scvi', method='wilcoxon', key_added='wilcoxon_03scvi', \n",
    "                        use_raw=False, layer='log1p_norm')\n",
    "sc.pl.rank_genes_groups(adata, n_genes=25, sharey=False, key='wilcoxon_03scvi')"
   ]
  },
  {
   "cell_type": "code",
   "execution_count": null,
   "id": "13309e90",
   "metadata": {},
   "outputs": [],
   "source": [
    "sc.tl.dendrogram(adata, 'leiden_03scvi')\n",
    "sc.pl.dendrogram(adata, groupby='leiden_03scvi')"
   ]
  },
  {
   "cell_type": "code",
   "execution_count": null,
   "id": "74bc7849",
   "metadata": {},
   "outputs": [],
   "source": [
    "adata.var_names = adata.var_names.astype('str')\n",
    "adata.var_names_make_unique()"
   ]
  },
  {
   "cell_type": "code",
   "execution_count": null,
   "id": "36d3bf01",
   "metadata": {},
   "outputs": [],
   "source": [
    "sc.pl.rank_genes_groups_dotplot(adata, n_genes=10, groupby='leiden_03scvi',\n",
    "                                use_raw=False, \n",
    "                                layer=\"log1p_norm\", \n",
    "                                vmax=3, vmin=0, \n",
    "                                #cmap='RdBu_r',\n",
    "                                key='wilcoxon_03scvi', figsize=(15,3),\n",
    "                                save='topDEGs03scvi_normupd.svg'\n",
    "                               )"
   ]
  },
  {
   "cell_type": "code",
   "execution_count": null,
   "id": "b92d5d5e",
   "metadata": {},
   "outputs": [],
   "source": [
    "sc.tl.filter_rank_genes_groups(\n",
    "    adata,\n",
    "    min_in_group_fraction=0.25,\n",
    "    max_out_group_fraction=0.25,\n",
    "    key=\"wilcoxon_03scvi\",\n",
    "    key_added=\"wilcoxon_03scvi_filtered\",\n",
    ")"
   ]
  },
  {
   "cell_type": "code",
   "execution_count": null,
   "id": "adcbadc9",
   "metadata": {},
   "outputs": [],
   "source": [
    "sc.pl.rank_genes_groups_heatmap(adata, n_genes=15, key=\"wilcoxon_03scvi_filtered\", groupby=\"leiden_03scvi\",\n",
    "                                layer='log1p_norm', show_gene_labels=True, figsize=(15,10),\n",
    "                                cmap='YlOrRd', save='heatmap_filteredupd.svg'\n",
    "                                )"
   ]
  },
  {
   "cell_type": "code",
   "execution_count": null,
   "id": "4f01d04d",
   "metadata": {},
   "outputs": [],
   "source": [
    "sc.pl.rank_genes_groups_dotplot(adata, n_genes=10, groupby='leiden_03scvi',\n",
    "                                use_raw=False, \n",
    "                                layer=\"log1p_norm\", \n",
    "                                vmax=3, vmin=0, figsize=(15,3),\n",
    "                                #cmap='RdBu_r',\n",
    "                                key='wilcoxon_03scvi_filtered',\n",
    "                                save='topDEGs03scvi_norm_filtered.svg'\n",
    "                               )"
   ]
  },
  {
   "cell_type": "code",
   "execution_count": null,
   "id": "c7c42ac2",
   "metadata": {},
   "outputs": [],
   "source": [
    "label_mapping = {\n",
    "     'pcw7.1 -1': 7.1,\n",
    "     'pcw5.6': 5.6,\n",
    "     'pcw9.3-1 ': 9.3,\n",
    "     'pcw6.1': 6.1,\n",
    "     'pcw9.0-1 ': 9.0,\n",
    "     'pcw7.2-2 ': 7.2,\n",
    "     'pcw9.0-2 ': 9.0,\n",
    "     'pcw8.0': 8.0,\n",
    "     'pcw6.5': 6.5,\n",
    "     'pcw9.3-2': 9.3,\n",
    "     'pcw8.4-1 ': 8.4,\n",
    "     'pcw7.2-1 ': 7.2,\n",
    "     'pcw8.4-2': 8.4\n",
    "}\n",
    "\n",
    "adata.obs['ageint'] = adata.obs['norm_sample_stage'].map(label_mapping)\n",
    "adata.obs['ageint'].value_counts()"
   ]
  },
  {
   "cell_type": "code",
   "execution_count": null,
   "id": "7322a0e7",
   "metadata": {},
   "outputs": [],
   "source": [
    "sc.pl.umap(adata, \n",
    "           color=['norm_sample_stage', 'ageint', 'sex', 'samplename'], \n",
    "           layer='log1p_norm', sort_order=False,\n",
    "           frameon=False, cmap='gnuplot',\n",
    "           save = '_subset_tendongenes_agesexsamplename.svg'\n",
    "          )"
   ]
  },
  {
   "cell_type": "code",
   "execution_count": null,
   "id": "6cc3c9a6",
   "metadata": {},
   "outputs": [],
   "source": [
    "sc.pl.umap(adata, \n",
    "           color=['norm_sample_stage', 'ageint', 'phase', 'samplename'], \n",
    "           layer='log1p_norm', sort_order=False,\n",
    "           frameon=False, cmap='gnuplot',\n",
    "           save = '_subset_tendongenes_agephasesamplename.svg'\n",
    "          )"
   ]
  },
  {
   "cell_type": "code",
   "execution_count": null,
   "id": "8875ebbc",
   "metadata": {},
   "outputs": [],
   "source": [
    "sc.pl.umap(adata, \n",
    "           color=['SCX', 'MKX', 'TNMD', 'KERA', 'FMOD', 'THBS2', 'THBS4', 'EGR1', \n",
    "                  'ABI3BP', 'GAS2', 'COL3A1', 'COL1A1', 'FGF14', 'FSTL5', 'SOX9', 'leiden_03scvi'], \n",
    "           layer='log1p_norm',\n",
    "           vmin=0,\n",
    "           vmax=\"p99\",\n",
    "           sort_order=False,\n",
    "           frameon=False,\n",
    "           cmap=\"Reds\",\n",
    "           save = '_subset_scVI_tendongenes.svg'\n",
    "          )"
   ]
  },
  {
   "cell_type": "code",
   "execution_count": null,
   "id": "5fe5d36e",
   "metadata": {},
   "outputs": [],
   "source": [
    "result = adata.uns['wilcoxon_03scvi']\n",
    "groups = result['names'].dtype.names\n",
    "df = pd.DataFrame(\n",
    "    {group + '_' + key: result[key][group]\n",
    "    for group in groups \n",
    "    for key in ['names','scores','logfoldchanges', 'pvals', 'pvals_adj']})\n",
    "#df.to_csv(os.path.join(RESULTS_FOLDERNAME, 'wilcoxon_DGE_leiden03scvi.csv'))\n",
    "df.head(5)"
   ]
  },
  {
   "cell_type": "code",
   "execution_count": null,
   "id": "fa91ffb1",
   "metadata": {},
   "outputs": [],
   "source": [
    "result = adata.uns['wilcoxon_03scvi_filteredupd']\n",
    "groups = result['names'].dtype.names\n",
    "df = pd.DataFrame(\n",
    "    {group + '_' + key: result[key][group]\n",
    "    for group in groups \n",
    "    for key in ['names','scores','logfoldchanges', 'pvals', 'pvals_adj']})\n",
    "df.to_csv(os.path.join(RESULTS_FOLDERNAME, 'wilcoxon_DGE_leiden03scvi_filtered.csv'))\n",
    "df.head(5)"
   ]
  },
  {
   "cell_type": "code",
   "execution_count": null,
   "id": "25c157a2",
   "metadata": {},
   "outputs": [],
   "source": [
    "sc.pl.umap(adata, \n",
    "           color=['FGF7', 'TNXB', 'LUM', 'DCN', 'FST',\n",
    "                  'COL23A1', 'NAV3', 'NRXN1', 'ERG', 'ADAM22', 'TWIST2', 'CREB5', 'CELF2',\n",
    "                  'COL9A1', 'ACAN', 'RUNX2', 'SOX5', 'BGN', 'MEOX2',\n",
    "                  'leiden_03scvi'], \n",
    "           layer='log1p_norm',\n",
    "           vmin=0,\n",
    "           vmax=\"p99\",\n",
    "           sort_order=False,\n",
    "           frameon=False,\n",
    "           cmap=\"Reds\",\n",
    "           #save = '_subset_DEGannot.svg'\n",
    "          )"
   ]
  },
  {
   "cell_type": "code",
   "execution_count": null,
   "id": "5e1c6029",
   "metadata": {},
   "outputs": [],
   "source": [
    "foetal = sc.read_h5ad(os.path.join('../foetal/results/scVI/dev_scANVI.h5ad'))\n",
    "foetal"
   ]
  },
  {
   "cell_type": "code",
   "execution_count": null,
   "id": "4cb3a0ff",
   "metadata": {},
   "outputs": [],
   "source": [
    "foetal = foetal[foetal.obs['age'] == '12w', :].copy()\n",
    "foetal.n_obs"
   ]
  },
  {
   "cell_type": "code",
   "execution_count": null,
   "id": "3f44e99a",
   "metadata": {},
   "outputs": [],
   "source": [
    "foetal.obs['C_scANVI_orig'] = foetal.obs['C_scANVI']\n",
    "\n",
    "foetal.obs['C_scANVI'] = np.where(\n",
    "    foetal.obs['C_scANVI'] == 'ABI3BP GAS2 Fibroblasts 1', 'ABI3BP GAS2 Fibroblasts', foetal.obs['C_scANVI']\n",
    ")\n",
    "foetal.obs['C_scANVI'] = np.where(\n",
    "    foetal.obs['C_scANVI'] == 'ABI3BP GAS2 Fibroblasts 2', 'ABI3BP GAS2 Fibroblasts', foetal.obs['C_scANVI']\n",
    ")\n",
    "#foetal.obs['C_scANVI'] = np.where(\n",
    "#    foetal.obs['C_scANVI'] == 'COL6A6 FNDC1 Fibroblasts', 'COL3A1 PI16 Fibroblasts', foetal.obs['C_scANVI']\n",
    "#)\n",
    "#foetal.obs['C_scANVI'] = np.where(\n",
    "#    foetal.obs['C_scANVI'] == 'Smooth Myocytes', 'Mural Cells', foetal.obs['C_scANVI']\n",
    "#)\n",
    "\n",
    "print(foetal.obs['C_scANVI'].value_counts())"
   ]
  },
  {
   "cell_type": "code",
   "execution_count": null,
   "id": "28f5ccbe",
   "metadata": {},
   "outputs": [],
   "source": [
    "sc.tl.rank_genes_groups(foetal, groupby='C_scANVI', method='wilcoxon', key_added='wilcoxon_scanvi12w', \n",
    "                        use_raw=False, layer='log1p_norm')\n",
    "sc.pl.rank_genes_groups(foetal, n_genes=25, sharey=False, key='wilcoxon_scanvi12w')"
   ]
  },
  {
   "cell_type": "code",
   "execution_count": null,
   "id": "a2abe97b",
   "metadata": {},
   "outputs": [],
   "source": [
    "foetal_markers_dict = {}\n",
    "for cell_type in foetal.obs['C_scANVI'].unique():\n",
    "    top_degs = foetal.uns['wilcoxon_scanvi12w']['names'][cell_type][0:100]\n",
    "    # Add the cell type and marker gene to the dictionary\n",
    "    foetal_markers_dict[cell_type] = top_degs"
   ]
  },
  {
   "cell_type": "code",
   "execution_count": null,
   "id": "f30fd5b4",
   "metadata": {},
   "outputs": [],
   "source": [
    "cell_annotation = sc.tl.marker_gene_overlap(adata, foetal_markers_dict, key='wilcoxon_03scvi')\n",
    "cell_annotation_norm = sc.tl.marker_gene_overlap(adata, foetal_markers_dict, key='wilcoxon_03scvi', normalize='reference')\n",
    "\n",
    "fig, ax = plt.subplots(figsize=(6,6))\n",
    "sns.heatmap(cell_annotation_norm, linewidths=0.5, linecolor='white', cbar=True, annot=True, ax=ax)\n",
    "plt.grid(False)\n",
    "# Save the plot to a file (e.g., in PNG format)\n",
    "savesvg('C_scANVIvsEmbTendonClusters03Leiden.svg', plt)\n",
    "plt.show()"
   ]
  },
  {
   "cell_type": "code",
   "execution_count": null,
   "id": "aac7218f",
   "metadata": {},
   "outputs": [],
   "source": [
    "gene_markers = {'ECM genes':['ABI3BP','COL1A1',\"COL12A1\",'COL3A1','COL6A6',\"SPARC\",\"POSTN\",\"DCN\",\"BGN\",'KERA','LUM','FBN1'],\n",
    "                'Tenocyte genes': ['SCX', 'MKX', 'TNMD', 'FMOD', 'THBS2', 'THBS4', 'EGR1'],\n",
    "                'Enth Prog': ['SOX9', 'ACAN', 'GLI1']\n",
    "               }\n",
    "sc.pl.dotplot(adata, gene_markers, groupby='leiden_03scvi', dendrogram=True, \n",
    "                 save='_subset_tenocytemarkers.svg',\n",
    "                 layer='log1p_norm', vmin=0, vmax=3)"
   ]
  },
  {
   "cell_type": "code",
   "execution_count": null,
   "id": "8d1c8363",
   "metadata": {},
   "outputs": [],
   "source": [
    "foetal.var_names = foetal.var_names.astype('str')\n",
    "foetal.var_names_make_unique()"
   ]
  },
  {
   "cell_type": "code",
   "execution_count": null,
   "id": "7a33e26c",
   "metadata": {},
   "outputs": [],
   "source": [
    "markers_full_dict = {\n",
    "    'chondrocytes': ['COL2A1', 'SOX9', 'COL9A1', 'ACAN', 'COMP', 'HAPLN1', 'MATN1'],\n",
    "    'fibroblasts (general)': [\n",
    "        \"COL1A1\",\n",
    "        \"COL12A1\",\n",
    "        \"SPARC\",\n",
    "        \"POSTN\",\n",
    "        \"DCN\",\n",
    "        #\"BGN\"\n",
    "    ],\n",
    "    'fibroblasts (type 1)': [\n",
    "        \"SOX5\",\n",
    "        \"COL11A1\",\n",
    "        \"ABI3BP\",\n",
    "        \"GAS2\",\n",
    "        #\"COL24A1\", # could regulate type I collagen fibrillogenesis, upregulated in human tendinopathy\n",
    "        \"FMOD\",\n",
    "        \"TNMD\",\n",
    "        \"MKX\",\n",
    "        \"KERA\",\n",
    "        \"SCX\"\n",
    "    ],\n",
    "    'fibroblasts (type 2)': [\n",
    "        \"COL3A1\", \n",
    "        \"COL6A6\",\n",
    "        \"DCLK1\",\n",
    "        \"EBF1\",\n",
    "        \"TSHZ2\",\n",
    "        \"PLAGL1\",\n",
    "        \"VCAN\",\n",
    "        \"FBN1\",\n",
    "        \"NOVA1\",\n",
    "        \"NEGR1\",\n",
    "        \"NAV3\",\n",
    "        \"LUM\",\n",
    "        \"SEMA5A\",\n",
    "        \"TNXB\",\n",
    "        \"PI16\",\n",
    "        \"SCN7A\",\n",
    "        \"CDH18\",\n",
    "    ],\n",
    "    \n",
    "    'fibroblasts (type 3)': [\n",
    "        \"FGF14\",\n",
    "        \"FSTL5\",\n",
    "        \"THBS4\",\n",
    "        \"BMP5\",\n",
    "        \"CDH12\"\n",
    "    ],\n",
    "    'dividing cells': [\n",
    "        \"MKI67\",\n",
    "        \"DIAPH3\",\n",
    "        \"CENPK\",\n",
    "        \"CENPP\",\n",
    "        \"TOP2A\"\n",
    "    ],\n",
    "    'interfascicular maxtrix (general)': [\n",
    "        'COL4A1', \n",
    "        'COL4A2', \n",
    "        'HSPG2', # perlecan\n",
    "        'NID1',  #nidogen-1\n",
    "        'LAMB1', \n",
    "        'LAMC1', \n",
    "        'ITGA6', \n",
    "        'ITGB1',\n",
    "    ],\n",
    "    'vascular endothelial cells': [\n",
    "        \"CDH5\",    # Cadherin 5\n",
    "        \"VWF\",     # Von Willebrand factor\n",
    "        \"PECAM1\",  # Platelet and endothelial cell adhesion molecule 1\n",
    "        \"CD34\",\n",
    "        \"ENG\",\n",
    "        \"TEK\"\n",
    "    ],\n",
    "    'lymphatic endothelial cells': [\n",
    "        \"LYVE1\",   # Lymphatic vessel endothelial hyaluronan receptor 1\n",
    "        \"PROX1\",   # Prospero homeobox 1\n",
    "        \"FLT4\",    # Fms-related tyrosine kinase 4 (VEGFR3)\n",
    "    ],\n",
    "    'nervous system cells': [\n",
    "        \"NRXN1\",\n",
    "        \"XKR4\",\n",
    "        \"SLC35F1\",\n",
    "        \"NCAM2\",\n",
    "        \"PTPRZ1\",\n",
    "        \"FIGN\",\n",
    "        \"IL1RAPL2\",\n",
    "        \"CDH6\",\n",
    "        \"GRID2\",\n",
    "        \"SOX10\"\n",
    "    ],\n",
    "    'smooth myocytes': [\n",
    "        \"ACTA2\",   # Alpha-smooth muscle actin\n",
    "        \"MYH11\",   # Smooth muscle myosin heavy chain\n",
    "        \"NOTCH3\",\n",
    "        #\"DES\",     # Desmin\n",
    "        #\"VIM\",     # Vimentin\n",
    "        #\"SMTN\",    # Smoothelin\n",
    "        \"CALD1\",   # Caldesmon\n",
    "        \"PDGFRB\",\n",
    "    ],\n",
    "    'satellite/myoblast cells': ['PAX7', 'DES', 'CDH15', 'NES', 'DLK1', 'NCAM1', 'MYO18B', 'RYR3', 'MYF5', 'MYOD1', 'MYOG'], \n",
    "    'skeletal myocytes': ['TNNT3', 'TTN', 'MYH3', 'COL22A1', 'TNNC1'],\n",
    "    'immune cells': [\n",
    "        'PTPRC',#'FOXP3',\n",
    "        'CD44',\n",
    "        'IKZF1', \n",
    "        'RUNX1', \n",
    "        'DOCK2', \n",
    "        'INPP5D',\n",
    "    ],\n",
    "    'macrophages': [\n",
    "        'MRC1', 'F13A1', \n",
    "        'CSF1R', 'CD163', \n",
    "        'CD68', 'CD36',\n",
    "        #'LRMDA', 'ITPR2',\n",
    "        'LGMN'\n",
    "    ], \n",
    "    'lymphoid': [\n",
    "        'SKAP1', \n",
    "        'THEMIS', \n",
    "        'CD247',\n",
    "        'EPB41', \n",
    "        'PIP4K2A', \n",
    "        'PRKCB',\n",
    "        'CD96',\n",
    "        'CD38'\n",
    "    ],\n",
    "    'unknown progenitors': [\n",
    "        'KIT',\n",
    "        'TFRC',\n",
    "        'IL18R1',\n",
    "        'MITF',\n",
    "        'BMP2K', \n",
    "        'GATA2',\n",
    "    ]\n",
    "}\n",
    "\n",
    "all_genes_in_adata = set(adata.var_names)\n",
    "for cell_type, genes in markers_full_dict.items():\n",
    "    filtered_genes = [gene for gene in genes if gene in all_genes_in_adata]\n",
    "    markers_full_dict[cell_type] = filtered_genes\n",
    "\n",
    "sc.pl.dotplot(adata, markers_full_dict, groupby='leiden_03scvi', dendrogram=True, \n",
    "                 #save='_subset_tenocytemarkers.svg',\n",
    "                 layer='log1p_norm', vmin=0, vmax=3)"
   ]
  },
  {
   "cell_type": "code",
   "execution_count": null,
   "id": "471dc17f",
   "metadata": {},
   "outputs": [],
   "source": [
    "del foetal"
   ]
  },
  {
   "cell_type": "code",
   "execution_count": null,
   "id": "324c2e40",
   "metadata": {},
   "outputs": [],
   "source": [
    "adata.obs['cell_type'] = adata.obs['leiden_03scvi'].astype(int)\n",
    "cell_type_names = { \n",
    "    0: 'FGF14 SCX Progenitors', \n",
    "    1: 'SOX9 SCX Progenitors', \n",
    "    2: 'COL6A6 TWIST2 Progenitors', \n",
    "    3: 'Unknown',\n",
    "}\n",
    "adata.obs['cell_type'] = adata.obs['cell_type'].replace(cell_type_names)"
   ]
  },
  {
   "cell_type": "code",
   "execution_count": null,
   "id": "6633d752",
   "metadata": {},
   "outputs": [],
   "source": [
    "adata.obs['cell_type'].value_counts()"
   ]
  },
  {
   "cell_type": "markdown",
   "id": "5cbfbdcd",
   "metadata": {},
   "source": [
    "# scANVI INTEGRATION"
   ]
  },
  {
   "cell_type": "code",
   "execution_count": null,
   "id": "cecf46d1",
   "metadata": {},
   "outputs": [],
   "source": [
    "vae = scvi.model.SCVI.load(os.path.join(RESULTS_FOLDERNAME, \"EmbryonicTENDONscVI_SamplenameKitSeqprotSex/\"), \n",
    "                           use_gpu=True, adata=adata)\n",
    "vae"
   ]
  },
  {
   "cell_type": "code",
   "execution_count": null,
   "id": "decc63e7",
   "metadata": {},
   "outputs": [],
   "source": [
    "lvae = scvi.model.SCANVI.from_scvi_model(\n",
    "    vae,\n",
    "    adata=adata,\n",
    "    labels_key=\"cell_type\",\n",
    "    unlabeled_category=\"Unknown\",\n",
    ")"
   ]
  },
  {
   "cell_type": "code",
   "execution_count": null,
   "id": "6e7525d6",
   "metadata": {},
   "outputs": [],
   "source": [
    "lvae.train(max_epochs=20)"
   ]
  },
  {
   "cell_type": "code",
   "execution_count": null,
   "id": "76dbc8c9",
   "metadata": {},
   "outputs": [],
   "source": [
    "lvae.save(os.path.join(RESULTS_FOLDERNAME, \"EmbryonicTENDONscVI2_scANVI/\"), overwrite=True)"
   ]
  },
  {
   "cell_type": "code",
   "execution_count": null,
   "id": "4b2af4f2",
   "metadata": {},
   "outputs": [],
   "source": [
    "adata.obs[\"C_scANVI\"] = lvae.predict(adata)\n",
    "adata.obsm[\"X_scANVI\"] = lvae.get_latent_representation(adata)"
   ]
  },
  {
   "cell_type": "code",
   "execution_count": null,
   "id": "10f2f751",
   "metadata": {},
   "outputs": [],
   "source": [
    "sc.pp.neighbors(adata, use_rep=\"X_scANVI\", metric='correlation')\n",
    "sc.tl.umap(adata)"
   ]
  },
  {
   "cell_type": "code",
   "execution_count": null,
   "id": "e0636956",
   "metadata": {
    "scrolled": false
   },
   "outputs": [],
   "source": [
    "plot_umaps(adata, ['hospital_id', 'norm_sample_stage', 'samplename', 'seq_protocol', 'sex', 'leiden_03scvi', 'cell_type', 'C_scANVI'], \n",
    "           filename = 'embryoTendonSubset_scANVImetadata.svg')"
   ]
  },
  {
   "cell_type": "code",
   "execution_count": null,
   "id": "e9b6af66",
   "metadata": {},
   "outputs": [],
   "source": [
    "plot_umaps(adata, ['hospital_id', 'norm_sample_stage', 'samplename', 'kit', 'seq_protocol', 'sex'], \n",
    "           filename = 'embryoTendonSubset_scANVImetadataorig.svg')"
   ]
  },
  {
   "cell_type": "code",
   "execution_count": null,
   "id": "947d2086",
   "metadata": {},
   "outputs": [],
   "source": [
    "adata.obs['cell_type'].value_counts()"
   ]
  },
  {
   "cell_type": "code",
   "execution_count": null,
   "id": "9293fa2e",
   "metadata": {},
   "outputs": [],
   "source": [
    "adata.obs['C_scANVI'].value_counts()"
   ]
  },
  {
   "cell_type": "code",
   "execution_count": null,
   "id": "7f6bcf28",
   "metadata": {},
   "outputs": [],
   "source": [
    "df = adata.obs.groupby([\"cell_type\", \"C_scANVI\"]).size().unstack(fill_value=0)\n",
    "conf_mat = df / df.sum(axis=1).values[:, np.newaxis]"
   ]
  },
  {
   "cell_type": "code",
   "execution_count": null,
   "id": "7a0d1507",
   "metadata": {
    "scrolled": true
   },
   "outputs": [],
   "source": [
    "plt.figure(figsize=(8, 8))\n",
    "_ = plt.pcolor(conf_mat)\n",
    "_ = plt.xticks(np.arange(0.5, len(df.columns), 1), df.columns, rotation=90)\n",
    "_ = plt.yticks(np.arange(0.5, len(df.index), 1), df.index)\n",
    "plt.xlabel(\"Predicted\")\n",
    "plt.ylabel(\"Observed\")\n",
    "#savesvg('scANVI_label_predictions.svg', plt)"
   ]
  },
  {
   "cell_type": "code",
   "execution_count": null,
   "id": "fa1040ee",
   "metadata": {},
   "outputs": [],
   "source": [
    "sc.tl.leiden(adata, resolution = 0.3, key_added = 'leiden_03scanvi')\n",
    "sc.pl.umap(adata, color = ['C_scANVI', 'leiden_03scanvi'], add_outline=True, legend_loc='on data',\n",
    "               legend_fontsize=6, legend_fontoutline=1, frameon=False)"
   ]
  },
  {
   "cell_type": "code",
   "execution_count": null,
   "id": "45712cf4",
   "metadata": {},
   "outputs": [],
   "source": [
    "adata"
   ]
  },
  {
   "cell_type": "code",
   "execution_count": null,
   "id": "dc59b09e",
   "metadata": {},
   "outputs": [],
   "source": [
    "sc.tl.rank_genes_groups(adata, groupby='C_scANVI', method='wilcoxon', key_added='wilcoxon_cscanvi', \n",
    "                        use_raw=False, layer='log1p_norm')\n",
    "sc.pl.rank_genes_groups(adata, n_genes=25, sharey=False, key='wilcoxon_cscanvi')"
   ]
  },
  {
   "cell_type": "code",
   "execution_count": null,
   "id": "a1f0f4ab",
   "metadata": {},
   "outputs": [],
   "source": [
    "result = adata.uns['wilcoxon_cscanvi']\n",
    "groups = result['names'].dtype.names\n",
    "df = pd.DataFrame(\n",
    "    {group + '_' + key: result[key][group]\n",
    "    for group in groups \n",
    "    for key in ['names','scores','logfoldchanges', 'pvals', 'pvals_adj']})\n",
    "df.to_csv(os.path.join(RESULTS_FOLDERNAME, 'wilcoxon_DGE_C_scANVI.csv'))\n",
    "df.head(5)"
   ]
  },
  {
   "cell_type": "code",
   "execution_count": null,
   "id": "28945b2d",
   "metadata": {},
   "outputs": [],
   "source": [
    "sc.tl.filter_rank_genes_groups(\n",
    "    adata,\n",
    "    min_in_group_fraction=0.25,\n",
    "    max_out_group_fraction=0.25,\n",
    "    key=\"wilcoxon_cscanvi\",\n",
    "    key_added=\"wilcoxon_cscanvi_filtered\",\n",
    ")"
   ]
  },
  {
   "cell_type": "code",
   "execution_count": null,
   "id": "0ebadb21",
   "metadata": {},
   "outputs": [],
   "source": [
    "result = adata.uns['wilcoxon_cscanvi_filtered']\n",
    "groups = result['names'].dtype.names\n",
    "df = pd.DataFrame(\n",
    "    {group + '_' + key: result[key][group]\n",
    "    for group in groups \n",
    "    for key in ['names','scores','logfoldchanges', 'pvals', 'pvals_adj']})\n",
    "df.to_csv(os.path.join(RESULTS_FOLDERNAME, 'wilcoxon_DGE_C_scANVI_filtered.csv'))\n",
    "df.head(5)"
   ]
  },
  {
   "cell_type": "code",
   "execution_count": null,
   "id": "afcf6bbe",
   "metadata": {},
   "outputs": [],
   "source": [
    "sc.pl.rank_genes_groups_dotplot(adata, n_genes=10, groupby='C_scANVI',\n",
    "                                use_raw=False, \n",
    "                                layer=\"log1p_norm\", \n",
    "                                vmax=3, vmin=0, \n",
    "                                #cmap='RdBu_r',\n",
    "                                key='wilcoxon_cscanvi', figsize=(15,3),\n",
    "                                save='topDEGsCscanvi_normupd.svg'\n",
    "                               )"
   ]
  },
  {
   "cell_type": "code",
   "execution_count": null,
   "id": "c0262ef1",
   "metadata": {},
   "outputs": [],
   "source": [
    "sc.tl.filter_rank_genes_groups(\n",
    "    adata,\n",
    "    min_in_group_fraction=0.25,\n",
    "    max_out_group_fraction=0.25,\n",
    "    key=\"wilcoxon_cscanvi\",\n",
    "    key_added=\"wilcoxon_cscanvi_filtered\",\n",
    ")\n",
    "\n",
    "sc.pl.rank_genes_groups_heatmap(adata, n_genes=15, key=\"wilcoxon_cscanvi_filtered\", groupby=\"C_scANVI\",\n",
    "                                layer='log1p_norm', show_gene_labels=True, figsize=(15,10),\n",
    "                                cmap='YlOrRd', save='heatmap_filteredCscanvi.svg')"
   ]
  },
  {
   "cell_type": "code",
   "execution_count": null,
   "id": "bd1a9aa6",
   "metadata": {},
   "outputs": [],
   "source": [
    "sc.pl.rank_genes_groups_dotplot(adata, n_genes=15, groupby='C_scANVI',\n",
    "                                use_raw=False, \n",
    "                                layer=\"log1p_norm\", \n",
    "                                vmax=3, vmin=0, figsize=(15,3),\n",
    "                                #cmap='RdBu_r',\n",
    "                                key='wilcoxon_cscanvi_filtered',\n",
    "                                save='topDEGsCscanvi_norm_filtered.svg'\n",
    "                               )"
   ]
  },
  {
   "cell_type": "code",
   "execution_count": null,
   "id": "0d837115",
   "metadata": {},
   "outputs": [],
   "source": [
    "sc.pl.umap(adata, \n",
    "           color=['SCX', 'MKX', 'TNMD', 'KERA', 'FMOD', 'THBS2', 'THBS4', 'EGR1', \n",
    "                  'ABI3BP', 'GAS2', 'COL3A1', 'COL1A1', 'FGF14', 'FSTL5', 'SOX9', 'C_scANVI'], \n",
    "           layer='log1p_norm',\n",
    "           vmin=0,\n",
    "           vmax=\"p99\",\n",
    "           sort_order=False,\n",
    "           frameon=False,\n",
    "           cmap=\"Greens\",\n",
    "           save = '_subset_scANVI_tendongenes.svg'\n",
    "          )"
   ]
  },
  {
   "cell_type": "code",
   "execution_count": null,
   "id": "a52d5083",
   "metadata": {},
   "outputs": [],
   "source": [
    "sc.pl.umap(adata, \n",
    "           color=['COL6A6', 'DCLK1', 'CELF2', 'NAV3', 'CREB5', 'FST','TWIST2', 'TNXB',\n",
    "                  'COL9A1', 'HAPLN1', 'MATN4', 'RUNX2', \n",
    "                  'CHODL', 'CDH12', 'GCG',\n",
    "                  'C_scANVI'], \n",
    "           layer='log1p_norm',\n",
    "           vmin=0,\n",
    "           vmax=\"p99\",\n",
    "           sort_order=False,\n",
    "           frameon=False,\n",
    "           cmap=\"Greens\",\n",
    "           save = '_subset_DEGannotCscANVI.svg'\n",
    "          )"
   ]
  },
  {
   "cell_type": "code",
   "execution_count": null,
   "id": "c844a8ae",
   "metadata": {},
   "outputs": [],
   "source": [
    "cell_annotation = sc.tl.marker_gene_overlap(adata, foetal_markers_dict, key='wilcoxon_cscanvi')\n",
    "cell_annotation_norm = sc.tl.marker_gene_overlap(adata, foetal_markers_dict, key='wilcoxon_cscanvi', normalize='reference')"
   ]
  },
  {
   "cell_type": "code",
   "execution_count": null,
   "id": "0e50b73c",
   "metadata": {},
   "outputs": [],
   "source": [
    "fig, ax = plt.subplots(figsize=(5,6))\n",
    "sns.heatmap(cell_annotation_norm, linewidths=0.5, linecolor='white', cbar=True, annot=True, ax=ax)\n",
    "plt.grid(False)\n",
    "# Save the plot to a file (e.g., in PNG format)\n",
    "savesvg('C_scANVIvsEmbTendonClustersCscANVI.svg', plt)\n",
    "plt.show()"
   ]
  },
  {
   "cell_type": "code",
   "execution_count": null,
   "id": "72fedf76",
   "metadata": {},
   "outputs": [],
   "source": [
    "sc.pl.umap(adata, \n",
    "           color=['phase', 'ageint', 'sex', 'samplename'], \n",
    "           layer='log1p_norm', sort_order=False,\n",
    "           frameon=False, cmap='gnuplot',\n",
    "           save = '_subset_tendongenes_agesexsamplename.svg'\n",
    "          )"
   ]
  },
  {
   "cell_type": "code",
   "execution_count": null,
   "id": "882929f4",
   "metadata": {},
   "outputs": [],
   "source": [
    "adata"
   ]
  },
  {
   "cell_type": "code",
   "execution_count": null,
   "id": "d6a08ee7",
   "metadata": {},
   "outputs": [],
   "source": [
    "#del adata.uns['wilcoxon_03scanvi_filtered'], adata.uns['wilcoxon_cscanvi_filtered']\n",
    "#del adata.uns['wilcoxon_03scanvi']\n",
    "#del adata.uns['wilcoxon_cscanvi']\n",
    "#del adata.uns['_scvi_manager_uuid'], adata.uns['_scvi_uuid']\n",
    "del adata.uns['wilcoxon_03scvi_filtered']"
   ]
  },
  {
   "cell_type": "code",
   "execution_count": null,
   "id": "0ac33eba",
   "metadata": {},
   "outputs": [],
   "source": [
    "adata.write(os.path.join(RESULTS_FOLDERNAME, 'tendonsubset_scANVI.h5ad'))"
   ]
  }
 ],
 "metadata": {
  "kernelspec": {
   "display_name": "Python [conda env:scvi-env]",
   "language": "python",
   "name": "conda-env-scvi-env-py"
  },
  "language_info": {
   "codemirror_mode": {
    "name": "ipython",
    "version": 3
   },
   "file_extension": ".py",
   "mimetype": "text/x-python",
   "name": "python",
   "nbconvert_exporter": "python",
   "pygments_lexer": "ipython3",
   "version": "3.9.16"
  }
 },
 "nbformat": 4,
 "nbformat_minor": 5
}
