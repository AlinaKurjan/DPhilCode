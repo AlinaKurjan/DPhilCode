{
 "cells": [
  {
   "cell_type": "code",
   "execution_count": null,
   "id": "f7687e91",
   "metadata": {
    "scrolled": false
   },
   "outputs": [],
   "source": [
    "import os\n",
    "import numpy as np\n",
    "import pandas as pd\n",
    "import scanpy as sc\n",
    "import squidpy as sq\n",
    "import seaborn as sns\n",
    "import matplotlib.pyplot as plt\n",
    "import matplotlib as mpl\n",
    "\n",
    "import cell2location\n",
    "import scvi\n",
    "\n",
    "from matplotlib import rcParams\n",
    "rcParams['pdf.fonttype'] = 42 # enables correct plotting of text for PDFs\n",
    "\n",
    "# Print date and time:\n",
    "import datetime\n",
    "e = datetime.datetime.now()\n",
    "print (\"Current date and time = %s\" % e)\n",
    "\n",
    "# set variables for file paths to read from and write to:\n",
    "\n",
    "# set a working directory\n",
    "wdir = \"/mnt/da8aa2c4-0136-465b-87a2-d12a59afec55/akurjan/analysis/notebooks/embryonic ScAndSp/\"\n",
    "os.chdir( wdir )\n",
    "\n",
    "# folder structures\n",
    "RESULTS_FOLDERNAME = \"Spatial/results\"\n",
    "FIGURES_FOLDERNAME = \"Spatial/figures\"\n",
    "\n",
    "if not os.path.exists(RESULTS_FOLDERNAME):\n",
    "    os.makedirs(RESULTS_FOLDERNAME)\n",
    "if not os.path.exists(FIGURES_FOLDERNAME):\n",
    "    os.makedirs(FIGURES_FOLDERNAME)\n",
    "\n",
    "# Set folder for saving figures into\n",
    "sc.settings.figdir = FIGURES_FOLDERNAME\n",
    "    \n",
    "sp_data_folder = \"../../files/Teichmann Group Spatial/Spatial/\"\n",
    "\n",
    "\n",
    "def savesvg(fname: str, fig, folder: str=FIGURES_FOLDERNAME) -> None:\n",
    "    \"\"\"\n",
    "    Save figure as vector-based SVG image format.\n",
    "    \"\"\"\n",
    "    fig.tight_layout()\n",
    "    fig.savefig(os.path.join(folder, fname), format='svg')\n",
    "\n",
    "# Set other settings\n",
    "sc.settings.verbosity = 3 # verbosity: errors (0), warnings (1), info (2), hints (3)\n",
    "sc.logging.print_versions()\n",
    "sc.set_figure_params(dpi=150, fontsize=10, dpi_save=600)"
   ]
  },
  {
   "cell_type": "markdown",
   "id": "bda52c5d",
   "metadata": {},
   "source": [
    "# File Preparation"
   ]
  },
  {
   "cell_type": "code",
   "execution_count": null,
   "id": "ca7f9c69",
   "metadata": {},
   "outputs": [],
   "source": [
    "def read_and_qc(sample_name, path=sp_data_folder):\n",
    "    \"\"\" \n",
    "    This function reads the data for one 10X spatial experiment into the anndata object.\n",
    "    It also calculates QC metrics. Modify this function if required by your workflow.\n",
    "\n",
    "    :param sample_name: Name of the sample\n",
    "    :param path: path to data\n",
    "    \"\"\"\n",
    "\n",
    "    adata = sc.read_visium(path + str(sample_name) + '/outs/',\n",
    "                           count_file='filtered_feature_bc_matrix.h5', load_images=True)\n",
    "    adata.obs['sample'] = sample_name\n",
    "    adata.var['SYMBOL'] = adata.var_names\n",
    "    adata.var.rename(columns={'gene_ids': 'ENSEMBL'}, inplace=True)\n",
    "    adata.var['Gene'] = adata.var['SYMBOL'].fillna(adata.var['ENSEMBL'])\n",
    "    adata.var_names = adata.var['Gene']\n",
    "    adata.var.drop(columns='Gene', inplace=True)\n",
    "    adata.var_names_make_unique()\n",
    "    # adata.var_names = adata.var['ENSEMBL']\n",
    "    # adata.var.drop(columns='ENSEMBL', inplace=True)\n",
    "\n",
    "    # Calculate QC metrics\n",
    "    from scipy.sparse import csr_matrix\n",
    "    adata.X = adata.X.toarray()\n",
    "    sc.pp.calculate_qc_metrics(adata, inplace=True)\n",
    "    adata.X = csr_matrix(adata.X)\n",
    "    adata.var['mt'] = [gene.startswith('MT-') for gene in adata.var['SYMBOL']]\n",
    "    adata.var[\"ribo\"] = adata.var['SYMBOL'].str.startswith((\"RPS\", \"RPL\"))\n",
    "    adata.var[\"mtrnr\"] = adata.var['SYMBOL'].str.startswith((\"MTRNR\"))\n",
    "    adata.obs['mt_frac'] = adata[:, adata.var['mt'].tolist()].X.sum(1).A.squeeze()/adata.obs['total_counts']\n",
    "\n",
    "    # add sample name to obs names\n",
    "    adata.obs[\"sample\"] = [str(i) for i in adata.obs['sample']]\n",
    "    adata.obs_names = adata.obs[\"sample\"] \\\n",
    "                          + '_' + adata.obs_names\n",
    "    adata.obs.index.name = 'spot_id'\n",
    "\n",
    "    return adata"
   ]
  },
  {
   "cell_type": "code",
   "execution_count": null,
   "id": "71362469",
   "metadata": {},
   "outputs": [],
   "source": [
    "sample_name = [i for i in os.listdir(sp_data_folder)]"
   ]
  },
  {
   "cell_type": "code",
   "execution_count": null,
   "id": "239b8865",
   "metadata": {
    "scrolled": true
   },
   "outputs": [],
   "source": [
    "# Read the data into anndata objects\n",
    "slides = []\n",
    "for i in sample_name:\n",
    "    slides.append(read_and_qc(i, path=sp_data_folder))\n",
    "slides"
   ]
  },
  {
   "cell_type": "code",
   "execution_count": null,
   "id": "dc05b060",
   "metadata": {},
   "outputs": [],
   "source": [
    "slides[0].var"
   ]
  },
  {
   "cell_type": "code",
   "execution_count": null,
   "id": "f5a474d7",
   "metadata": {},
   "outputs": [],
   "source": [
    "slides[0].obs['sample'][0]"
   ]
  },
  {
   "cell_type": "code",
   "execution_count": null,
   "id": "553f8fb8",
   "metadata": {},
   "outputs": [],
   "source": [
    "for adata in slides:\n",
    "    adata.var_names_make_unique()\n",
    "    sc.pp.calculate_qc_metrics(adata, qc_vars=[\"mt\", \"ribo\"], inplace=True)"
   ]
  },
  {
   "cell_type": "code",
   "execution_count": null,
   "id": "b2f8cd90",
   "metadata": {
    "scrolled": false
   },
   "outputs": [],
   "source": [
    "for adata in slides:\n",
    "    fig, axs = plt.subplots(1, 4, figsize=(15, 4))\n",
    "    sns.distplot(adata.obs[\"total_counts\"], kde=False, ax=axs[0])\n",
    "    sns.distplot(adata.obs[\"total_counts\"][adata.obs[\"total_counts\"] < 10000], kde=False, bins=40, ax=axs[1])\n",
    "    sns.distplot(adata.obs[\"n_genes_by_counts\"], kde=False, bins=60, ax=axs[2])\n",
    "    sns.distplot(adata.obs[\"n_genes_by_counts\"][adata.obs[\"n_genes_by_counts\"] < 4000], kde=False, bins=60, ax=axs[3])\n",
    "    print(adata.obs['sample'][0])"
   ]
  },
  {
   "cell_type": "code",
   "execution_count": null,
   "id": "e7a8cc18",
   "metadata": {},
   "outputs": [],
   "source": [
    "sc.pp.filter_cells(slides[0], min_counts=500)\n",
    "sc.pp.filter_cells(slides[0], max_counts=10000)\n",
    "sc.pp.filter_genes(slides[0], min_cells=10)\n",
    "\n",
    "sc.pp.filter_cells(slides[1], min_counts=700)\n",
    "sc.pp.filter_cells(slides[1], max_counts=10000)\n",
    "sc.pp.filter_genes(slides[1], min_cells=10)\n",
    "\n",
    "sc.pp.filter_cells(slides[2], min_counts=1000)\n",
    "sc.pp.filter_cells(slides[2], max_counts=25000)\n",
    "sc.pp.filter_genes(slides[2], min_cells=10)\n",
    "\n",
    "sc.pp.filter_cells(slides[3], min_counts=1600)\n",
    "sc.pp.filter_cells(slides[3], max_counts=30000)\n",
    "sc.pp.filter_genes(slides[3], min_cells=10)\n",
    "\n",
    "sc.pp.filter_cells(slides[4], min_counts=1600)\n",
    "sc.pp.filter_cells(slides[4], max_counts=20000)\n",
    "sc.pp.filter_genes(slides[4], min_cells=10)\n",
    "\n",
    "sc.pp.filter_cells(slides[5], min_counts=800)\n",
    "sc.pp.filter_cells(slides[5], max_counts=10000)\n",
    "sc.pp.filter_genes(slides[5], min_cells=10)\n",
    "\n",
    "sc.pp.filter_cells(slides[6], min_counts=500)\n",
    "sc.pp.filter_cells(slides[6], max_counts=8000)\n",
    "sc.pp.filter_genes(slides[6], min_cells=10)\n",
    "\n",
    "sc.pp.filter_cells(slides[7], min_counts=1600)\n",
    "sc.pp.filter_cells(slides[7], max_counts=30000)\n",
    "sc.pp.filter_genes(slides[7], min_cells=10)"
   ]
  },
  {
   "cell_type": "code",
   "execution_count": null,
   "id": "5713f906",
   "metadata": {},
   "outputs": [],
   "source": [
    "for adata in slides:\n",
    "    sc.pl.violin(adata, 'mt_frac')"
   ]
  },
  {
   "cell_type": "code",
   "execution_count": null,
   "id": "1bc8e1a8",
   "metadata": {},
   "outputs": [],
   "source": [
    "for idx, adata in enumerate(slides):\n",
    "    print(f\"Sample: {adata.obs['sample'][0]}\")\n",
    "    print(f\"#genes before MT filter: {adata.n_vars}\")\n",
    "    \n",
    "    # remove MT genes for spatial mapping (keeping their counts in the object)\n",
    "    adata.obsm['MT'] = adata[:, adata.var['mt'].values].X.toarray()\n",
    "    slides[idx] = adata[:, ~adata.var['mt'].values]\n",
    "    print(f\"#genes after MT filter: {slides[idx].n_vars}\")"
   ]
  },
  {
   "cell_type": "code",
   "execution_count": null,
   "id": "3836ea9f",
   "metadata": {},
   "outputs": [],
   "source": [
    "for idx, adata in enumerate(slides):\n",
    "    print(f\"Sample: {adata.obs['sample'][0]}\")\n",
    "    print(f\"#genes before MTrnr filter: {adata.n_vars}\")\n",
    "    adata.obsm['MTRNR'] = adata[:, adata.var['mtrnr'].values].X.toarray()\n",
    "    slides[idx] = adata[:, ~adata.var['mtrnr'].values]\n",
    "    print(f\"#genes after MTrnr filter: {slides[idx].n_vars}\")"
   ]
  },
  {
   "cell_type": "code",
   "execution_count": null,
   "id": "5c7328bc",
   "metadata": {},
   "outputs": [],
   "source": [
    "for idx, adata in enumerate(slides):\n",
    "    print(f\"Sample: {adata.obs['sample'][0]}\")\n",
    "    print(f\"#genes before RIBO filter: {adata.n_vars}\")\n",
    "    adata.obsm['ribo'] = adata[:, adata.var['ribo'].values].X.toarray()\n",
    "    slides[idx] = adata[:, ~adata.var['ribo'].values]\n",
    "    print(f\"#genes after RIBO filter: {slides[idx].n_vars}\")"
   ]
  },
  {
   "cell_type": "code",
   "execution_count": null,
   "id": "953e4461",
   "metadata": {},
   "outputs": [],
   "source": [
    "slides[0].var"
   ]
  },
  {
   "cell_type": "code",
   "execution_count": null,
   "id": "a0bce004",
   "metadata": {},
   "outputs": [],
   "source": [
    "print(slides[0].X[1:10,1:10])"
   ]
  },
  {
   "cell_type": "code",
   "execution_count": null,
   "id": "3fa9b635",
   "metadata": {
    "scrolled": true
   },
   "outputs": [],
   "source": [
    "for idx, adata in enumerate(slides):\n",
    "    slides[idx].layers['counts'] = adata.X.copy()\n",
    "    sc.pp.normalize_total(adata, inplace=True)\n",
    "    sc.pp.log1p(adata)\n",
    "    slides[idx].layers['normcounts'] = adata.X.copy()\n",
    "    sc.pp.highly_variable_genes(adata, flavor=\"cell_ranger\", n_top_genes=3000)"
   ]
  },
  {
   "cell_type": "code",
   "execution_count": null,
   "id": "ada8d5eb",
   "metadata": {},
   "outputs": [],
   "source": [
    "print(slides[0].X[1:10,1:10])"
   ]
  },
  {
   "cell_type": "code",
   "execution_count": null,
   "id": "b01d592a",
   "metadata": {
    "scrolled": true
   },
   "outputs": [],
   "source": [
    "for adata in slides:\n",
    "    sc.pp.scale(adata)\n",
    "    sc.pp.pca(adata)\n",
    "    sc.pp.neighbors(adata)\n",
    "    sc.tl.umap(adata)\n",
    "    sc.tl.leiden(adata, key_added=\"clusters\")"
   ]
  },
  {
   "cell_type": "code",
   "execution_count": null,
   "id": "02d7ea93",
   "metadata": {
    "scrolled": false
   },
   "outputs": [],
   "source": [
    "plt.rcParams[\"figure.figsize\"] = (4, 4)\n",
    "for adata in slides:\n",
    "    name = adata.obs['sample'][0]\n",
    "    sc.pl.umap(adata, color=[\"total_counts\", \"n_genes_by_counts\", \"clusters\"], wspace=0.4,\n",
    "               save=f'_{name}_countsAndClusters_umaps.svg')"
   ]
  },
  {
   "cell_type": "code",
   "execution_count": null,
   "id": "d2e72687",
   "metadata": {
    "scrolled": false
   },
   "outputs": [],
   "source": [
    "plt.rcParams[\"figure.figsize\"] = (8, 8)\n",
    "for adata in slides:\n",
    "    name = adata.obs['sample'][0]\n",
    "    sc.pl.spatial(adata, img_key=\"hires\", color=[\"total_counts\", \"n_genes_by_counts\"],\n",
    "                  save=f'_{name}_counts.svg')"
   ]
  },
  {
   "cell_type": "markdown",
   "id": "3613ef47",
   "metadata": {},
   "source": [
    "## BASIC FEATURE CLUSTERING"
   ]
  },
  {
   "cell_type": "code",
   "execution_count": null,
   "id": "7df61847",
   "metadata": {
    "scrolled": true
   },
   "outputs": [],
   "source": [
    "for adata in slides:\n",
    "    name = adata.obs['sample'][0]\n",
    "    sq.gr.spatial_neighbors(adata, coord_type='generic', radius=3.0)\n",
    "    sq.pl.spatial_scatter(adata, shape='circle', color='clusters', img_alpha=0.8,\n",
    "                  frameon=False, figsize=(7, 3.5),\n",
    "                  size=1.5, connectivity_key='spatial_connectivities', edges_width=2,\n",
    "                  save=f'_{name}_connectivities_clusters1_spatialmap.svg'\n",
    "                 )"
   ]
  },
  {
   "cell_type": "code",
   "execution_count": null,
   "id": "30b0df84",
   "metadata": {
    "scrolled": false
   },
   "outputs": [],
   "source": [
    "for adata in slides:\n",
    "    sc.pl.spatial(adata, \n",
    "                  color=['SCX', 'MKX', 'TNMD', 'EGR1',\n",
    "                         'BGN', 'DCN', 'POSTN', 'FMOD', 'KERA', 'LUM'],\n",
    "                  layer='normcounts',\n",
    "                  size=1.25,\n",
    "                  vmin=0,\n",
    "                  vmax=\"p99\",\n",
    "                  frameon=False,\n",
    "                  cmap=\"plasma\",\n",
    "                  save = f'{adata.obs[\"sample\"][0]}_spatial_markersANDclusters1.png'\n",
    "                  )"
   ]
  },
  {
   "cell_type": "code",
   "execution_count": null,
   "id": "4b6c20ff",
   "metadata": {},
   "outputs": [],
   "source": [
    "for adata in slides:\n",
    "    sc.pl.spatial(adata, \n",
    "                  color=['COL1A1', 'COL1A2', 'COL3A1', 'COL6A1', 'COL6A6', \n",
    "                         'COL22A1', 'COL4A1', 'COL4A2', 'COL11A1', 'COL12A1',\n",
    "                         ],\n",
    "                  layer='normcounts',\n",
    "                  size=1.25,\n",
    "                  vmin=0,\n",
    "                  vmax=\"p99\",\n",
    "                  frameon=False,\n",
    "                  cmap=\"plasma\",\n",
    "                  save = f'{adata.obs[\"sample\"][0]}_spatial_markersANDclusters2.png'\n",
    "                  )"
   ]
  },
  {
   "cell_type": "code",
   "execution_count": null,
   "id": "e5e18bac",
   "metadata": {},
   "outputs": [],
   "source": [
    "for adata in slides:\n",
    "    sc.pl.spatial(adata, \n",
    "                  color=['ABI3BP', 'GAS2', 'NEGR1', 'THBS4', 'PRG4', 'CREB5', \n",
    "                         'NOTCH3', 'ACTA2','clusters'],\n",
    "                  layer='normcounts',\n",
    "                  size=1.25,\n",
    "                  vmin=0,\n",
    "                  vmax=\"p99\",\n",
    "                  frameon=False,\n",
    "                  cmap=\"plasma\",\n",
    "                  save = f'{adata.obs[\"sample\"][0]}_spatial_markersANDclusters3.png'\n",
    "                  )"
   ]
  },
  {
   "cell_type": "code",
   "execution_count": null,
   "id": "4805eeea",
   "metadata": {},
   "outputs": [],
   "source": [
    "for adata in slides:\n",
    "    samplename = adata.obs['sample'][0]\n",
    "    adata.write(os.path.join(RESULTS_FOLDERNAME, f'filtered_{samplename}.h5ad'))"
   ]
  },
  {
   "cell_type": "code",
   "execution_count": null,
   "id": "65b89c52",
   "metadata": {},
   "outputs": [],
   "source": [
    "for adata in slides:\n",
    "    adata.var['Gene'] = adata.var.index\n",
    "    adata.var.index = adata.var['ENSEMBL']\n",
    "    adata.X = adata.layers['counts'].copy()\n",
    "    print(adata.X[1:10, 1:10]) "
   ]
  },
  {
   "cell_type": "code",
   "execution_count": null,
   "id": "016db44f",
   "metadata": {},
   "outputs": [],
   "source": [
    "import anndata as ad\n",
    "\n",
    "# Combine anndata objects together\n",
    "adata = ad.concat(\n",
    "    slides,\n",
    "    label=\"sample\",\n",
    "    uns_merge=\"unique\",\n",
    "    join='outer',\n",
    "    keys=sample_name,\n",
    "    index_unique=None\n",
    ")\n",
    "adata"
   ]
  },
  {
   "cell_type": "code",
   "execution_count": null,
   "id": "39053cb7",
   "metadata": {},
   "outputs": [],
   "source": [
    "adata.var['ensembl_gene_id'] = adata.var.index\n",
    "annot = sc.queries.biomart_annotations(\n",
    "    \"hsapiens\",\n",
    "    [\"ensembl_gene_id\", \"external_gene_name\"],\n",
    ").set_index(\"ensembl_gene_id\")\n",
    "\n",
    "adata.var[annot.columns] = annot\n",
    "\n",
    "adata.var.rename(columns={\"external_gene_name\": \"Gene\"}, inplace=True)\n",
    "adata.var['Gene'] = adata.var['Gene'].fillna(adata.var['ensembl_gene_id'])\n",
    "adata.var = adata.var.drop(columns='ensembl_gene_id')\n",
    "adata.var"
   ]
  },
  {
   "cell_type": "code",
   "execution_count": null,
   "id": "2178381f",
   "metadata": {},
   "outputs": [],
   "source": [
    "adata.write(os.path.join(RESULTS_FOLDERNAME, 'concatenated_adata.h5ad'))"
   ]
  },
  {
   "cell_type": "markdown",
   "id": "a2d5e462",
   "metadata": {},
   "source": [
    "# To load:"
   ]
  },
  {
   "cell_type": "code",
   "execution_count": null,
   "id": "c24f263f",
   "metadata": {
    "scrolled": true
   },
   "outputs": [],
   "source": [
    "slides = {}\n",
    "for filename in os.listdir(RESULTS_FOLDERNAME):\n",
    "    if filename.startswith('filtered_') and filename.endswith(\".h5ad\"):\n",
    "        file_path = os.path.join(RESULTS_FOLDERNAME, filename)\n",
    "        try:\n",
    "            # Read the h5ad file using anndata\n",
    "            adata = sc.read_h5ad(file_path)\n",
    "            \n",
    "            # Extract the slide name from the filename (assuming filenames are like \"filtered_slide_name.h5ad\")\n",
    "            slide_name = filename[len(\"filtered_\") : -len(\".h5ad\")]\n",
    "            \n",
    "            # Store the data in the slides dictionary\n",
    "            slides[slide_name] = adata\n",
    "        except Exception as e:\n",
    "            print(f\"Error processing {filename}: {e}\")\n",
    "slides"
   ]
  },
  {
   "cell_type": "markdown",
   "id": "7ad00ea8",
   "metadata": {},
   "source": [
    "#### Saving for 10X Loupe Browser Eploration"
   ]
  },
  {
   "cell_type": "code",
   "execution_count": null,
   "id": "1ca6e29f",
   "metadata": {},
   "outputs": [],
   "source": [
    "# save maps for each sample separately\n",
    "clusterings = ['clusters']\n",
    "for adata in slides:\n",
    "    for clusternames in clusterings:\n",
    "        s1 = adata.obs[[clusternames]]\n",
    "        s1.index = s1.index.str.rsplit('_', n=1).str[-1]\n",
    "        s1.index.name = 'Barcode'\n",
    "        s1.to_csv(os.path.join(RESULTS_FOLDERNAME, f'{name}_{clusternames}_clusters.csv'))"
   ]
  },
  {
   "cell_type": "code",
   "execution_count": null,
   "id": "a55d3725",
   "metadata": {},
   "outputs": [],
   "source": [
    "slides['WSSS_THYst9383362'].obs"
   ]
  },
  {
   "cell_type": "markdown",
   "id": "67d1a282",
   "metadata": {},
   "source": [
    "# Reverse Cell2Location"
   ]
  },
  {
   "cell_type": "code",
   "execution_count": null,
   "id": "169a9642",
   "metadata": {},
   "outputs": [],
   "source": [
    "import glob\n",
    "\n",
    "# Find all files ending with \"_TendonAnnotations.csv\" in the specified directory\n",
    "file_pattern = '*_TendonAnnotations.csv'\n",
    "file_list = glob.glob(f'{os.path.join(RESULTS_FOLDERNAME)}/{file_pattern}')\n",
    "\n",
    "annotations_dict = {}\n",
    "for file_path in file_list:\n",
    "    # Extract sample name from the file name\n",
    "    sample_name = file_path.split('/')[-1].split('_TendonAnnotations.csv')[0]\n",
    "    # Read the CSV file into a DataFrame\n",
    "    df = pd.read_csv(file_path)\n",
    "    df['spot_id'] = sample_name+'_'+df['Barcode'].astype('str')\n",
    "    # Add the DataFrame to the dictionary with sample name as the key\n",
    "    annotations_dict[sample_name] = df\n",
    "\n",
    "annotations_dict"
   ]
  },
  {
   "cell_type": "code",
   "execution_count": null,
   "id": "a900de31",
   "metadata": {},
   "outputs": [],
   "source": [
    "annotations_dict['WSSS_THYst9383362'].tendon.value_counts()"
   ]
  },
  {
   "cell_type": "code",
   "execution_count": null,
   "id": "4a18b64e",
   "metadata": {},
   "outputs": [],
   "source": [
    "for name, adata in slides.items():\n",
    "    if name in annotations_dict:\n",
    "        annotations_df = annotations_dict[name]\n",
    "        # Filter annotations_df to include only spot_ids present in anndata_obj\n",
    "        valid_spot_ids = adata.obs_names\n",
    "        filtered_annotations_df = annotations_df[annotations_df['spot_id'].isin(valid_spot_ids)]\n",
    "        # Match 'spot_id' in filtered_annotations_df with 'obs_names' in anndata_obj\n",
    "        matching_indices = adata.obs_names.isin(filtered_annotations_df['spot_id'])\n",
    "        # Transfer 'Tendon' column values to a new annotation column in anndata_obj\n",
    "        adata.obs['Tendon'] = filtered_annotations_df.loc[matching_indices, 'tendon'].values"
   ]
  },
  {
   "cell_type": "code",
   "execution_count": null,
   "id": "00c691c4",
   "metadata": {},
   "outputs": [],
   "source": [
    "slides['WSSS_THYst9383362'].obs.Tendon.value_counts()"
   ]
  },
  {
   "cell_type": "code",
   "execution_count": null,
   "id": "04005c89",
   "metadata": {},
   "outputs": [],
   "source": [
    "sc.pl.spatial(slides['WSSS_THYst9383362'], \n",
    "                  color=['SCX', 'MKX', 'TNMD', 'KERA', 'FMOD', 'THBS2', 'THBS4', 'EGR1', \n",
    "                  'ABI3BP', 'GAS2', 'COL3A1', 'COL1A1', 'COL6A6', 'FGF14', 'SOX9', 'Tendon'],\n",
    "                  layer='normcounts',\n",
    "                  size=1.25,\n",
    "                  vmin=0,\n",
    "                  vmax=\"p99\",\n",
    "                  frameon=False,\n",
    "                  cmap=\"plasma\",\n",
    "                  save = f'WSSS_THYst9383362_tendonmarkers.png'\n",
    "                  )"
   ]
  },
  {
   "cell_type": "code",
   "execution_count": null,
   "id": "131aa035",
   "metadata": {},
   "outputs": [],
   "source": [
    "sc.pl.spatial(slides['WSSS_THYst9383362'], \n",
    "                  color=['Tendon'],\n",
    "                  layer='normcounts',\n",
    "                  size=1.25,\n",
    "                  vmin=0,\n",
    "                  vmax=\"p99\",\n",
    "                  frameon=False,\n",
    "                  cmap=\"plasma\",\n",
    "                  save = f'WSSS_THYst9383362_tendonclusters.png'\n",
    "                  )"
   ]
  },
  {
   "cell_type": "code",
   "execution_count": null,
   "id": "1ffb9eec",
   "metadata": {},
   "outputs": [],
   "source": [
    "slides.keys()"
   ]
  },
  {
   "cell_type": "code",
   "execution_count": null,
   "id": "cec29e01",
   "metadata": {},
   "outputs": [],
   "source": [
    "adata = slides['WSSS_THYst9383362'].copy()"
   ]
  },
  {
   "cell_type": "code",
   "execution_count": null,
   "id": "9166862e",
   "metadata": {},
   "outputs": [],
   "source": [
    "adata = adata[(adata.obs['Tendon'] == 'patellar tendon')|(adata.obs['Tendon'] == 'Qqadriceps tendon'), :]"
   ]
  },
  {
   "cell_type": "code",
   "execution_count": null,
   "id": "efe3a3de",
   "metadata": {},
   "outputs": [],
   "source": [
    "adata"
   ]
  },
  {
   "cell_type": "code",
   "execution_count": null,
   "id": "f060b626",
   "metadata": {},
   "outputs": [],
   "source": [
    "adata.write(os.path.join(RESULTS_FOLDERNAME, 'WSSS_THYst9383362_quadTpatTnew.h5ad'))"
   ]
  },
  {
   "cell_type": "markdown",
   "id": "8dedf084",
   "metadata": {},
   "source": [
    "# Preparing the training set"
   ]
  },
  {
   "cell_type": "code",
   "execution_count": null,
   "id": "8d8d799a",
   "metadata": {},
   "outputs": [],
   "source": [
    "adata = slides['WSSS_THYst9383362'].copy()\n",
    "adata.obs['Tendon'] = adata.obs['Tendon'].astype('category').cat.add_categories('Not Tendon')\n",
    "adata.obs['Tendon'] = adata.obs['Tendon'].fillna('Not Tendon')\n",
    "adata.obs['Tendon'].value_counts()"
   ]
  },
  {
   "cell_type": "code",
   "execution_count": null,
   "id": "67e87210",
   "metadata": {},
   "outputs": [],
   "source": [
    "adata.var"
   ]
  },
  {
   "cell_type": "code",
   "execution_count": null,
   "id": "e1327386",
   "metadata": {},
   "outputs": [],
   "source": [
    "adata.var.index = adata.var['ENSEMBL']"
   ]
  },
  {
   "cell_type": "code",
   "execution_count": null,
   "id": "d6ec700f",
   "metadata": {},
   "outputs": [],
   "source": [
    "adata.X = adata.layers['counts'].copy()\n",
    "np.max(adata.X)"
   ]
  },
  {
   "cell_type": "code",
   "execution_count": null,
   "id": "3734a25a",
   "metadata": {},
   "outputs": [],
   "source": [
    "test = adata[(adata.obs['Tendon'] == 'Not Tendon'), :]\n",
    "test.obs['Tendon'].value_counts()"
   ]
  },
  {
   "cell_type": "code",
   "execution_count": null,
   "id": "e4d09e65",
   "metadata": {},
   "outputs": [],
   "source": [
    "train = adata[(adata.obs['Tendon'] == 'patellar tendon')|(adata.obs['Tendon'] == 'quadriceps tendon'), :]\n",
    "train.obs['Tendon'].value_counts()"
   ]
  },
  {
   "cell_type": "code",
   "execution_count": null,
   "id": "f67cfdcc",
   "metadata": {},
   "outputs": [],
   "source": [
    "# number of tendon spots to create equal number of non-tendon pseudodonors\n",
    "N = train.n_obs\n",
    "# Set the seed for reproducibility\n",
    "np.random.seed(42)\n",
    "# Select N random observations as donors\n",
    "donor_indices = np.random.choice(test.obs_names, size=N, replace=False)\n",
    "# Create a new column 'Pseudodonor' with NA\n",
    "test.obs['Pseudodonor'] = 1000\n",
    "# Assign numbers starting from N to the selected donors\n",
    "donor_numbers = range(N, N + len(donor_indices))\n",
    "test.obs.loc[donor_indices, 'Pseudodonor'] = donor_numbers"
   ]
  },
  {
   "cell_type": "code",
   "execution_count": null,
   "id": "f00f6677",
   "metadata": {},
   "outputs": [],
   "source": [
    "train.obs['Pseudodonor'] = range(len(train.obs))"
   ]
  },
  {
   "cell_type": "code",
   "execution_count": null,
   "id": "0169ac97",
   "metadata": {},
   "outputs": [],
   "source": [
    "import anndata as ad\n",
    "combined = ad.concat([train, test])\n",
    "combined"
   ]
  },
  {
   "cell_type": "code",
   "execution_count": null,
   "id": "7e199164",
   "metadata": {},
   "outputs": [],
   "source": [
    "combined.obs['Pseudodonor'].value_counts()"
   ]
  },
  {
   "cell_type": "code",
   "execution_count": null,
   "id": "143fca60",
   "metadata": {},
   "outputs": [],
   "source": [
    "NUM_OF_CELL_PER_DONOR = 0 # to filter out donors with less than this amount of cells\n",
    "import random\n",
    "\n",
    "def aggregate_and_filter(\n",
    "    adata,\n",
    "    donor_key=\"Pseudodonor\",\n",
    "    #condition_key=\"age\",\n",
    "    cell_identity_key=\"Tendon\",\n",
    "    #obs_to_keep=[],  # which additional metadata to keep, e.g. gender, age, etc.\n",
    "    replicates_per_patient= 25\n",
    "):\n",
    "    pbs_cell_type_dict = {}\n",
    "    for i, cell_type in enumerate(adata.obs[cell_identity_key].cat.categories):\n",
    "        print(\n",
    "            f'Processing {cell_type} ({i+1} out of {len(adata.obs[cell_identity_key].cat.categories)})...'\n",
    "        )\n",
    "        # subset adata to the given cell identity\n",
    "        adata_cell_pop = adata[adata.obs[cell_identity_key] == cell_type].copy()\n",
    "        # check which donors to keep according to the number of cells specified with NUM_OF_CELL_PER_DONOR\n",
    "        size_by_donor = adata_cell_pop.obs.groupby([donor_key]).size()\n",
    "        donors_to_drop = [\n",
    "            donor\n",
    "            for donor in size_by_donor.index\n",
    "            if size_by_donor[donor] <= NUM_OF_CELL_PER_DONOR\n",
    "        ]\n",
    "        if len(donors_to_drop) > 0:\n",
    "            print(\"Dropping the following samples:\")\n",
    "            print(donors_to_drop)\n",
    "\n",
    "        pbs = []\n",
    "        \n",
    "        for i, sample in enumerate(adata_cell_pop.obs[donor_key].unique()):\n",
    "            print(f\"\\tProcessing donor {i+1} out of {len(adata_cell_pop.obs[donor_key].unique())}...\", end=\"\\r\")\n",
    "            if sample not in donors_to_drop:\n",
    "                samp_cell_subset = adata_cell_pop[adata_cell_pop.obs[donor_key] == sample]\n",
    "                samp_cell_subset.X = samp_cell_subset.layers['counts'] #make sure to use raw data\n",
    "\n",
    "                # create pseudoreplicates\n",
    "                indices = list(samp_cell_subset.obs_names)\n",
    "                random.shuffle(indices)\n",
    "                indices = np.array_split(np.array(indices), replicates_per_patient)\n",
    "\n",
    "                for k, pseudo_rep in enumerate(indices):\n",
    "\n",
    "                    rep_adata = sc.AnnData(X = samp_cell_subset.X.sum(axis = 0),\n",
    "                                           var = samp_cell_subset.var[[]])\n",
    "\n",
    "                    rep_adata.obs_names = [str(sample) + '_' + str(k)]\n",
    "                    rep_adata.obs['barcode'] = [samp_cell_subset.obs.index[0]]\n",
    "                    #rep_adata.obs[condition_key] = samp_cell_subset.obs[condition_key].iloc[0]\n",
    "                    rep_adata.obs[cell_identity_key] = samp_cell_subset.obs[cell_identity_key].iloc[0]\n",
    "                    #rep_adata.obs['sample'] = samp_cell_subset.obs['sample'].iloc[0]\n",
    "                    #rep_adata.obs['type'] = samp_cell_subset.obs['type'].iloc[0]\n",
    "                    #rep_adata.obs['sampletype'] = samp_cell_subset.obs['sampletype'].iloc[0]\n",
    "                    rep_adata.obs['replicate'] = k\n",
    "\n",
    "                    pbs.append(rep_adata)\n",
    "        print(\"\\n\")   \n",
    "        pbs_cell_type_dict[cell_type] = sc.concat(pbs)\n",
    "    \n",
    "    return pbs_cell_type_dict"
   ]
  },
  {
   "cell_type": "code",
   "execution_count": null,
   "id": "a30df77c",
   "metadata": {},
   "outputs": [],
   "source": [
    "combined.obs['Tendon'] = combined.obs['Tendon'].astype(\"category\")\n",
    "combined.obs['Pseudodonor'] = combined.obs['Pseudodonor'].astype(\"category\")\n",
    "combined.obs.dtypes"
   ]
  },
  {
   "cell_type": "code",
   "execution_count": null,
   "id": "6934bd2d",
   "metadata": {},
   "outputs": [],
   "source": [
    "pb = aggregate_and_filter(combined)\n",
    "pb"
   ]
  },
  {
   "cell_type": "code",
   "execution_count": null,
   "id": "ec0c8590",
   "metadata": {},
   "outputs": [],
   "source": [
    "comb = ad.concat(list(pb.values()), index_unique=None, join='outer')\n",
    "comb"
   ]
  },
  {
   "cell_type": "code",
   "execution_count": null,
   "id": "8a9413d9",
   "metadata": {},
   "outputs": [],
   "source": [
    "comb.obs['pseudodonor_replicate'] = comb.obs.index\n",
    "comb.obs"
   ]
  },
  {
   "cell_type": "code",
   "execution_count": null,
   "id": "e6325c27",
   "metadata": {},
   "outputs": [],
   "source": [
    "comb.obs.dtypes"
   ]
  },
  {
   "cell_type": "code",
   "execution_count": null,
   "id": "fff40af1",
   "metadata": {},
   "outputs": [],
   "source": [
    "comb.obs['index'] = comb.obs['barcode'].astype(\"str\") + \"-\" + comb.obs.index\n",
    "comb.obs.index = comb.obs['index']\n",
    "comb.obs"
   ]
  },
  {
   "cell_type": "code",
   "execution_count": null,
   "id": "8314034f",
   "metadata": {},
   "outputs": [],
   "source": [
    "comb.var"
   ]
  },
  {
   "cell_type": "code",
   "execution_count": null,
   "id": "ad398882",
   "metadata": {},
   "outputs": [],
   "source": [
    "counts = pd.DataFrame(comb.X, columns = comb.var_names, index=comb.obs['index'])\n",
    "counts.T.to_csv(os.path.join(RESULTS_FOLDERNAME, f'training_counts_matrix_full.csv'))"
   ]
  },
  {
   "cell_type": "code",
   "execution_count": null,
   "id": "fe343e26",
   "metadata": {},
   "outputs": [],
   "source": [
    "from scipy.sparse import csr_matrix\n",
    "\n",
    "comb.X = csr_matrix(comb.X)\n",
    "comb.write(os.path.join(RESULTS_FOLDERNAME, 'trainingset.h5ad'))"
   ]
  }
 ],
 "metadata": {
  "kernelspec": {
   "display_name": "Python [conda env:cell2loc_env]",
   "language": "python",
   "name": "conda-env-cell2loc_env-py"
  },
  "language_info": {
   "codemirror_mode": {
    "name": "ipython",
    "version": 3
   },
   "file_extension": ".py",
   "mimetype": "text/x-python",
   "name": "python",
   "nbconvert_exporter": "python",
   "pygments_lexer": "ipython3",
   "version": "3.9.18"
  }
 },
 "nbformat": 4,
 "nbformat_minor": 5
}
